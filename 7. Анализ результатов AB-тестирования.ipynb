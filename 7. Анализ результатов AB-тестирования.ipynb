{
 "cells": [
  {
   "cell_type": "markdown",
   "metadata": {},
   "source": [
    "## Анализ результатов A/B-тестирования"
   ]
  },
  {
   "cell_type": "markdown",
   "metadata": {},
   "source": [
    "## Введение"
   ]
  },
  {
   "cell_type": "markdown",
   "metadata": {},
   "source": [
    "### Заказчик\n",
    "<font color='#777778'> Интернет-магазин BitMotion Kit. </font>"
   ]
  },
  {
   "cell_type": "markdown",
   "metadata": {},
   "source": [
    "### Цель проекта\n",
    "\n",
    "<font color='#777778'> Оценка корректности проведения A/B-теста и анализ его результатов, чтобы определить, повысилось ли количество пользователей, совершающих покупки, после упрощения интерфейса сайта. </font>"
   ]
  },
  {
   "cell_type": "markdown",
   "metadata": {},
   "source": [
    "### Задачи проекта \n",
    "\n",
    "<font color='#777778'>    \n",
    "    \n",
    "- Загрузка и предобработка данных\n",
    "    \n",
    "- Проверка корректности A/B-теста\n",
    "    \n",
    "- Анализ пользовательской активности\n",
    "\n",
    "- Оценка результатов A/B-теста</font>"
   ]
  },
  {
   "cell_type": "markdown",
   "metadata": {},
   "source": [
    "### Техническое задание проведённого теста\n",
    "\n",
    "Гипотеза: упрощение интерфейса приведёт к тому, что в течение семи дней после регистрации в системе конверсия зарегистрированных пользователей в покупателей увеличится как минимум на три процентных пункта.\n",
    "\n",
    "Параметры теста:\n",
    "\n",
    "- название теста: `interface_eu_test`;\n",
    "- группы: А (контрольная), B (новый интерфейс);\n",
    "- дата набора новых пользователей: с 2020-12-01 по 2020-12-21 включительно;\n",
    "- дата прохождения теста: с 2020-12-08 по 2020-12-29 включительно.\n",
    "\n",
    "Необходимо:\n",
    "\n",
    "* загрузить данные теста;\n",
    "\n",
    "* проверить корректность его проведения;\n",
    "\n",
    "* проанализировать полученные результаты."
   ]
  },
  {
   "cell_type": "markdown",
   "metadata": {},
   "source": [
    "### Содержимое проекта\n",
    "\n",
    "<font color='#777778'>\n",
    "\n",
    "1.   [Описание данных.](#1-bullet)\n",
    "2.   [Загрузка данных и подготовка их к анализу.](#2-bullet)\n",
    "3.   [Оценка корректности проведения теста.](#3-bullet)\n",
    "4.   [Исследовательский анализ данных.](#4-bullet)\n",
    "5.   [Анализ А/B тестирования.](#5-bullet)\n",
    "6.   [Общий вывод.](#6-bullet)\n",
    "</font>\n",
    "\n",
    "---"
   ]
  },
  {
   "cell_type": "markdown",
   "metadata": {},
   "source": [
    "<a class=\"anchor\" id=\"1-bullet\"></a>\n",
    "## Описание данных\n",
    "\n",
    "- `https://code.s3.yandex.net/datasets/ab_test_participants.csv` — таблица участников тестов.\n",
    "\n",
    "  Структура файла:\n",
    "\n",
    "  - `user_id` — идентификатор пользователя;\n",
    "  - `group` — группа пользователя;\n",
    "  - `ab_test` — название теста;\n",
    "  - `device` — устройство, с которого происходила регистрация.\n",
    "\n",
    "\n",
    "- `https://code.s3.yandex.net/datasets/ab_test_events.zip` — архив с одним `csv`-файлом, в котором собраны события 2020 года;\n",
    "\n",
    "  Структура файла:\n",
    "\n",
    "  - `user_id` — идентификатор пользователя;\n",
    "  - `event_dt` — дата и время события;\n",
    "  - `event_name` — тип события;\n",
    "  - `details` — дополнительные данные о событии."
   ]
  },
  {
   "cell_type": "markdown",
   "metadata": {},
   "source": [
    "<a class=\"anchor\" id=\"2-bullet\"></a>\n",
    "## Загрузка данных и подготовка их к анализу."
   ]
  },
  {
   "cell_type": "code",
   "execution_count": 1,
   "metadata": {},
   "outputs": [],
   "source": [
    "# Импорт библиотек\n",
    "\n",
    "import pandas as pd\n",
    "import numpy as np\n",
    "import matplotlib.pyplot as plt\n",
    "import seaborn as sns\n",
    "from scipy.stats import norm\n",
    "from statsmodels.stats.proportion import proportions_ztest"
   ]
  },
  {
   "cell_type": "code",
   "execution_count": 2,
   "metadata": {},
   "outputs": [],
   "source": [
    "# Загрузка данных\n",
    "\n",
    "URL = 'https://code.s3.yandex.net/datasets/'\n",
    "participants = pd.read_csv(URL + 'ab_test_participants.csv')\n",
    "events = pd.read_csv(URL + 'ab_test_events.zip', parse_dates=['event_dt'], dtype={'details': str})"
   ]
  },
  {
   "cell_type": "markdown",
   "metadata": {},
   "source": [
    "Посмотрим содержимое датасетов, выведя первые 5 строк."
   ]
  },
  {
   "cell_type": "code",
   "execution_count": 3,
   "metadata": {},
   "outputs": [
    {
     "data": {
      "text/html": [
       "<div>\n",
       "<style scoped>\n",
       "    .dataframe tbody tr th:only-of-type {\n",
       "        vertical-align: middle;\n",
       "    }\n",
       "\n",
       "    .dataframe tbody tr th {\n",
       "        vertical-align: top;\n",
       "    }\n",
       "\n",
       "    .dataframe thead th {\n",
       "        text-align: right;\n",
       "    }\n",
       "</style>\n",
       "<table border=\"1\" class=\"dataframe\">\n",
       "  <thead>\n",
       "    <tr style=\"text-align: right;\">\n",
       "      <th></th>\n",
       "      <th>user_id</th>\n",
       "      <th>group</th>\n",
       "      <th>ab_test</th>\n",
       "      <th>device</th>\n",
       "    </tr>\n",
       "  </thead>\n",
       "  <tbody>\n",
       "    <tr>\n",
       "      <th>0</th>\n",
       "      <td>0002CE61FF2C4011</td>\n",
       "      <td>B</td>\n",
       "      <td>interface_eu_test</td>\n",
       "      <td>Mac</td>\n",
       "    </tr>\n",
       "    <tr>\n",
       "      <th>1</th>\n",
       "      <td>001064FEAAB631A1</td>\n",
       "      <td>B</td>\n",
       "      <td>recommender_system_test</td>\n",
       "      <td>Android</td>\n",
       "    </tr>\n",
       "    <tr>\n",
       "      <th>2</th>\n",
       "      <td>001064FEAAB631A1</td>\n",
       "      <td>A</td>\n",
       "      <td>interface_eu_test</td>\n",
       "      <td>Android</td>\n",
       "    </tr>\n",
       "    <tr>\n",
       "      <th>3</th>\n",
       "      <td>0010A1C096941592</td>\n",
       "      <td>A</td>\n",
       "      <td>recommender_system_test</td>\n",
       "      <td>Android</td>\n",
       "    </tr>\n",
       "    <tr>\n",
       "      <th>4</th>\n",
       "      <td>001E72F50D1C48FA</td>\n",
       "      <td>A</td>\n",
       "      <td>interface_eu_test</td>\n",
       "      <td>Mac</td>\n",
       "    </tr>\n",
       "  </tbody>\n",
       "</table>\n",
       "</div>"
      ],
      "text/plain": [
       "            user_id group                  ab_test   device\n",
       "0  0002CE61FF2C4011     B        interface_eu_test      Mac\n",
       "1  001064FEAAB631A1     B  recommender_system_test  Android\n",
       "2  001064FEAAB631A1     A        interface_eu_test  Android\n",
       "3  0010A1C096941592     A  recommender_system_test  Android\n",
       "4  001E72F50D1C48FA     A        interface_eu_test      Mac"
      ]
     },
     "execution_count": 3,
     "metadata": {},
     "output_type": "execute_result"
    }
   ],
   "source": [
    "participants.head(5)"
   ]
  },
  {
   "cell_type": "code",
   "execution_count": 4,
   "metadata": {},
   "outputs": [
    {
     "data": {
      "text/html": [
       "<div>\n",
       "<style scoped>\n",
       "    .dataframe tbody tr th:only-of-type {\n",
       "        vertical-align: middle;\n",
       "    }\n",
       "\n",
       "    .dataframe tbody tr th {\n",
       "        vertical-align: top;\n",
       "    }\n",
       "\n",
       "    .dataframe thead th {\n",
       "        text-align: right;\n",
       "    }\n",
       "</style>\n",
       "<table border=\"1\" class=\"dataframe\">\n",
       "  <thead>\n",
       "    <tr style=\"text-align: right;\">\n",
       "      <th></th>\n",
       "      <th>user_id</th>\n",
       "      <th>event_dt</th>\n",
       "      <th>event_name</th>\n",
       "      <th>details</th>\n",
       "    </tr>\n",
       "  </thead>\n",
       "  <tbody>\n",
       "    <tr>\n",
       "      <th>0</th>\n",
       "      <td>GLOBAL</td>\n",
       "      <td>2020-12-01 00:00:00</td>\n",
       "      <td>End of Black Friday Ads Campaign</td>\n",
       "      <td>ZONE_CODE15</td>\n",
       "    </tr>\n",
       "    <tr>\n",
       "      <th>1</th>\n",
       "      <td>CCBE9E7E99F94A08</td>\n",
       "      <td>2020-12-01 00:00:11</td>\n",
       "      <td>registration</td>\n",
       "      <td>0.0</td>\n",
       "    </tr>\n",
       "    <tr>\n",
       "      <th>2</th>\n",
       "      <td>GLOBAL</td>\n",
       "      <td>2020-12-01 00:00:25</td>\n",
       "      <td>product_page</td>\n",
       "      <td>NaN</td>\n",
       "    </tr>\n",
       "    <tr>\n",
       "      <th>3</th>\n",
       "      <td>CCBE9E7E99F94A08</td>\n",
       "      <td>2020-12-01 00:00:33</td>\n",
       "      <td>login</td>\n",
       "      <td>NaN</td>\n",
       "    </tr>\n",
       "    <tr>\n",
       "      <th>4</th>\n",
       "      <td>CCBE9E7E99F94A08</td>\n",
       "      <td>2020-12-01 00:00:52</td>\n",
       "      <td>product_page</td>\n",
       "      <td>NaN</td>\n",
       "    </tr>\n",
       "  </tbody>\n",
       "</table>\n",
       "</div>"
      ],
      "text/plain": [
       "            user_id            event_dt                        event_name  \\\n",
       "0            GLOBAL 2020-12-01 00:00:00  End of Black Friday Ads Campaign   \n",
       "1  CCBE9E7E99F94A08 2020-12-01 00:00:11                      registration   \n",
       "2            GLOBAL 2020-12-01 00:00:25                      product_page   \n",
       "3  CCBE9E7E99F94A08 2020-12-01 00:00:33                             login   \n",
       "4  CCBE9E7E99F94A08 2020-12-01 00:00:52                      product_page   \n",
       "\n",
       "       details  \n",
       "0  ZONE_CODE15  \n",
       "1          0.0  \n",
       "2          NaN  \n",
       "3          NaN  \n",
       "4          NaN  "
      ]
     },
     "execution_count": 4,
     "metadata": {},
     "output_type": "execute_result"
    }
   ],
   "source": [
    "events.head(5)"
   ]
  },
  {
   "cell_type": "code",
   "execution_count": 5,
   "metadata": {},
   "outputs": [
    {
     "name": "stdout",
     "output_type": "stream",
     "text": [
      "<class 'pandas.core.frame.DataFrame'>\n",
      "RangeIndex: 14525 entries, 0 to 14524\n",
      "Data columns (total 4 columns):\n",
      " #   Column   Non-Null Count  Dtype \n",
      "---  ------   --------------  ----- \n",
      " 0   user_id  14525 non-null  object\n",
      " 1   group    14525 non-null  object\n",
      " 2   ab_test  14525 non-null  object\n",
      " 3   device   14525 non-null  object\n",
      "dtypes: object(4)\n",
      "memory usage: 454.0+ KB\n",
      "None\n",
      "<class 'pandas.core.frame.DataFrame'>\n",
      "RangeIndex: 787286 entries, 0 to 787285\n",
      "Data columns (total 4 columns):\n",
      " #   Column      Non-Null Count   Dtype         \n",
      "---  ------      --------------   -----         \n",
      " 0   user_id     787286 non-null  object        \n",
      " 1   event_dt    787286 non-null  datetime64[ns]\n",
      " 2   event_name  787286 non-null  object        \n",
      " 3   details     249022 non-null  object        \n",
      "dtypes: datetime64[ns](1), object(3)\n",
      "memory usage: 24.0+ MB\n",
      "None\n"
     ]
    }
   ],
   "source": [
    "# Проверка данных\n",
    "print(participants.info())\n",
    "print(events.info())"
   ]
  },
  {
   "cell_type": "markdown",
   "metadata": {},
   "source": [
    "Удалим все полные дубликаты, участников, попавших в оба теста, пользователей, чьи даты регистрации не попадают в нужный срок."
   ]
  },
  {
   "cell_type": "code",
   "execution_count": 6,
   "metadata": {},
   "outputs": [
    {
     "name": "stdout",
     "output_type": "stream",
     "text": [
      "Количество записей в participants: 11754\n",
      "Количество записей в events: 80001\n"
     ]
    }
   ],
   "source": [
    "# Удаление полных дубликатов\n",
    "participants = participants.drop_duplicates()\n",
    "events = events.drop_duplicates()\n",
    "\n",
    "# Удаление записей с user_id = 'GLOBAL'\n",
    "events = events[events['user_id'] != 'GLOBAL']\n",
    "\n",
    "# Определение пользователей, участвующих в обоих тестах\n",
    "users_in_both_tests = participants.groupby('user_id')['ab_test'].nunique()\n",
    "users_in_both_tests = users_in_both_tests[users_in_both_tests > 1].index\n",
    "\n",
    "# Удаление этих пользователей\n",
    "participants = participants[~participants['user_id'].isin(users_in_both_tests)]\n",
    "events = events[~events['user_id'].isin(users_in_both_tests)]\n",
    "\n",
    "# Фильтрация по датам регистрации\n",
    "registration_dates = events[events['event_name'] == 'registration']\n",
    "registration_dates = registration_dates.groupby('user_id')['event_dt'].min().reset_index()\n",
    "registration_dates.columns = ['user_id', 'registration_dt']\n",
    "\n",
    "# Добавление даты регистрации в participants\n",
    "participants = participants.merge(registration_dates, on='user_id', how='left')\n",
    "\n",
    "# Фильтрация по периоду регистрации\n",
    "participants = participants[\n",
    "    (participants['registration_dt'] >= '2020-12-01') &\n",
    "    (participants['registration_dt'] <= '2020-12-22')\n",
    "]\n",
    "\n",
    "# Удаление пользователей, у которых нет даты регистрации в указанном периоде\n",
    "events = events[events['user_id'].isin(participants['user_id'])]\n",
    "\n",
    "print(f\"Количество записей в participants: {len(participants)}\")\n",
    "print(f\"Количество записей в events: {len(events)}\")"
   ]
  },
  {
   "cell_type": "markdown",
   "metadata": {},
   "source": [
    "Оценим количество пропусков в `events['details']`"
   ]
  },
  {
   "cell_type": "code",
   "execution_count": 7,
   "metadata": {},
   "outputs": [
    {
     "name": "stdout",
     "output_type": "stream",
     "text": [
      "0.72\n"
     ]
    }
   ],
   "source": [
    "print(round (1 - events['details'].count()/events.shape[0], 2))"
   ]
  },
  {
   "cell_type": "code",
   "execution_count": 8,
   "metadata": {},
   "outputs": [
    {
     "data": {
      "text/plain": [
       "event_name\n",
       "login               0\n",
       "product_cart        0\n",
       "product_page        0\n",
       "purchase        10468\n",
       "registration    11754\n",
       "Name: details, dtype: int64"
      ]
     },
     "execution_count": 8,
     "metadata": {},
     "output_type": "execute_result"
    }
   ],
   "source": [
    "events.groupby('event_name')['details'].count()"
   ]
  },
  {
   "cell_type": "markdown",
   "metadata": {},
   "source": [
    "**Вывод:**\n",
    "\n",
    "- Все типы данных соответсвуют ожидаемым.\n",
    "- Датасет `participants` не имеет пропусков.\n",
    "- В датасете `events` пропуски есть только в столбце  `details`, однако они встречаются для событий `purchase` и `registration` и являются естсественными (если на привлечения клиента (`registration`) не было ничего потрачено или пользователь не совершал покупку (`purchase`), то данные не заполнены)\n",
    "- Количество участников теста после фильтрации: 11 754.\n",
    "- Количество событий, связанных с этими пользователями: 80 001."
   ]
  },
  {
   "cell_type": "markdown",
   "metadata": {},
   "source": [
    "<a class=\"anchor\" id=\"3-bullet\"></a>\n",
    "## Оценка корректности проведения теста."
   ]
  },
  {
   "cell_type": "markdown",
   "metadata": {},
   "source": [
    "На данном этапе проведем проверку корректности технического задания."
   ]
  },
  {
   "cell_type": "markdown",
   "metadata": {},
   "source": [
    "Проверим корректность дат регистрации."
   ]
  },
  {
   "cell_type": "code",
   "execution_count": 9,
   "metadata": {},
   "outputs": [
    {
     "name": "stdout",
     "output_type": "stream",
     "text": [
      "2020-12-06 14:10:01 2020-12-21 23:58:34\n"
     ]
    }
   ],
   "source": [
    "print(participants['registration_dt'].min(), participants['registration_dt'].max())"
   ]
  },
  {
   "cell_type": "markdown",
   "metadata": {},
   "source": [
    "Даты регистрации попадают в указанный период (с 2020-12-01 по 2020-12-21)."
   ]
  },
  {
   "cell_type": "markdown",
   "metadata": {},
   "source": [
    "Проверим распределение пользователей"
   ]
  },
  {
   "cell_type": "code",
   "execution_count": 10,
   "metadata": {},
   "outputs": [
    {
     "data": {
      "text/plain": [
       "ab_test                  group\n",
       "interface_eu_test        A        4442\n",
       "                         B        4524\n",
       "recommender_system_test  A        2082\n",
       "                         B         706\n",
       "Name: user_id, dtype: int64"
      ]
     },
     "execution_count": 10,
     "metadata": {},
     "output_type": "execute_result"
    }
   ],
   "source": [
    "# Подсчет записей по каждому тесту и каждой группе\n",
    "participants.groupby(['ab_test', 'group'])['user_id'].nunique()"
   ]
  },
  {
   "cell_type": "code",
   "execution_count": 11,
   "metadata": {},
   "outputs": [
    {
     "data": {
      "image/png": "[encoded data removed]",
      "text/plain": [
       "<Figure size 800x500 with 1 Axes>"
      ]
     },
     "metadata": {},
     "output_type": "display_data"
    }
   ],
   "source": [
    "plt.figure(figsize=(8, 5))\n",
    "sns.countplot(data=participants, \n",
    "              x='group', \n",
    "              hue='ab_test')\n",
    "plt.title(\"Распределение пользователей по группам\")\n",
    "plt.show()"
   ]
  },
  {
   "cell_type": "markdown",
   "metadata": {},
   "source": [
    "Проверим пересечения в группах."
   ]
  },
  {
   "cell_type": "code",
   "execution_count": 12,
   "metadata": {},
   "outputs": [
    {
     "name": "stdout",
     "output_type": "stream",
     "text": [
      "Количество пользователей, попавших в обе группы =  0\n",
      "Доля пользователей, попавших в обе группы =  0.0\n"
     ]
    }
   ],
   "source": [
    "# Отберем группы  \n",
    "group_a=participants.query(\"ab_test == 'interface_eu_test'\") \n",
    "group_b=participants.query(\"ab_test == 'recommender_system_test'\") \n",
    "  \n",
    "# id пользователей, попавших в обе группы \n",
    "group_intersections=list(np.intersect1d(group_a['user_id'], group_b['user_id']))\n",
    "print('Количество пользователей, попавших в обе группы = ', len(group_intersections))\n",
    "print('Доля пользователей, попавших в обе группы = ', round (len(group_intersections)/participants.shape[0],2))"
   ]
  },
  {
   "cell_type": "markdown",
   "metadata": {},
   "source": [
    "Пересечения отсутствуют."
   ]
  },
  {
   "cell_type": "markdown",
   "metadata": {},
   "source": [
    "Проверим сколько пользователей попало в каждую группу."
   ]
  },
  {
   "cell_type": "code",
   "execution_count": 13,
   "metadata": {},
   "outputs": [
    {
     "name": "stdout",
     "output_type": "stream",
     "text": [
      "Количество пользователей в группе A =  6524\n",
      "Количество пользователей в группе B =  5230\n",
      "Доля пользователей группы A  =  0.56\n",
      "Доля пользователей группы B  =  0.44\n"
     ]
    }
   ],
   "source": [
    "print ('Количество пользователей в группе A = ', len(participants.query('group == \"A\"')))\n",
    "print ('Количество пользователей в группе B = ', len(participants.query('group == \"B\"')))\n",
    "print ('Доля пользователей группы A  = ', round(len(participants.query('group == \"A\"')) / len (participants), 2))\n",
    "print ('Доля пользователей группы B  = ', round(len(participants.query('group == \"B\"')) / len (participants), 2))"
   ]
  },
  {
   "cell_type": "markdown",
   "metadata": {},
   "source": [
    "Оценим сколько пользователей учавствовали в тесте (совершали действия)"
   ]
  },
  {
   "cell_type": "code",
   "execution_count": 14,
   "metadata": {},
   "outputs": [],
   "source": [
    "# Объединение таблиц с участниками теста и событиями\n",
    "participants_events = events.merge(participants, how='left', on='user_id').dropna(axis='index', how='any',subset=['group'])"
   ]
  },
  {
   "cell_type": "code",
   "execution_count": 15,
   "metadata": {},
   "outputs": [
    {
     "data": {
      "text/plain": [
       "11754"
      ]
     },
     "execution_count": 15,
     "metadata": {},
     "output_type": "execute_result"
    }
   ],
   "source": [
    "# Уникальные пользователи, совершившие действия\n",
    "active_users = participants_events['user_id'].nunique()\n",
    "active_users"
   ]
  },
  {
   "cell_type": "markdown",
   "metadata": {},
   "source": [
    "Итоговая проверка разделения на группы, в которой будут только те пользователи, которые участвовали в тесте."
   ]
  },
  {
   "cell_type": "code",
   "execution_count": 16,
   "metadata": {},
   "outputs": [
    {
     "data": {
      "text/html": [
       "<div>\n",
       "<style scoped>\n",
       "    .dataframe tbody tr th:only-of-type {\n",
       "        vertical-align: middle;\n",
       "    }\n",
       "\n",
       "    .dataframe tbody tr th {\n",
       "        vertical-align: top;\n",
       "    }\n",
       "\n",
       "    .dataframe thead th {\n",
       "        text-align: right;\n",
       "    }\n",
       "</style>\n",
       "<table border=\"1\" class=\"dataframe\">\n",
       "  <thead>\n",
       "    <tr style=\"text-align: right;\">\n",
       "      <th></th>\n",
       "      <th>group</th>\n",
       "      <th>count</th>\n",
       "      <th>part</th>\n",
       "    </tr>\n",
       "  </thead>\n",
       "  <tbody>\n",
       "    <tr>\n",
       "      <th>0</th>\n",
       "      <td>A</td>\n",
       "      <td>6524</td>\n",
       "      <td>56%</td>\n",
       "    </tr>\n",
       "    <tr>\n",
       "      <th>1</th>\n",
       "      <td>B</td>\n",
       "      <td>5230</td>\n",
       "      <td>44%</td>\n",
       "    </tr>\n",
       "  </tbody>\n",
       "</table>\n",
       "</div>"
      ],
      "text/plain": [
       "  group  count part\n",
       "0     A   6524  56%\n",
       "1     B   5230  44%"
      ]
     },
     "execution_count": 16,
     "metadata": {},
     "output_type": "execute_result"
    }
   ],
   "source": [
    "# Группировка по группам и подсчёт уникальных пользователей\n",
    "df_count_group = participants_events.groupby('group', as_index=False).agg({'user_id': 'nunique'}).rename(columns={'user_id': 'count'})\n",
    "\n",
    "# Доля пользователей\n",
    "part_users_A = round(participants_events.query('group == \"A\"')['user_id'].nunique() / active_users, 2)\n",
    "part_users_B = 1 - part_users_A\n",
    "\n",
    "df_count_group['part'] = [part_users_A * 100, part_users_B * 100]\n",
    "\n",
    "df_count_group['part'] = df_count_group['part'].round().astype(int).astype(str) + '%'\n",
    "\n",
    "df_count_group"
   ]
  },
  {
   "cell_type": "markdown",
   "metadata": {},
   "source": [
    "**Вывод:**\n",
    "\n",
    "- Даты регистрации попадают в указанный период (с 2020-12-01 по 2020-12-21).\n",
    "- Распределение близко к равномерному, но есть небольшой перекос в сторону группы A.\n",
    "- Пользователи, участвующие одновременно в двух тестах, отсутствуют.\n",
    "- Данные подготовлены корректно."
   ]
  },
  {
   "cell_type": "markdown",
   "metadata": {},
   "source": [
    "Оценим достаточность выборки для получения статистически значимых результатов A/B-теста. Заданные параметры: \n",
    "\n",
    "- базовый показатель конверсии — 30%,\n",
    "\n",
    "- мощность теста — 80%,\n",
    "\n",
    "- достоверность теста — 95%."
   ]
  },
  {
   "cell_type": "code",
   "execution_count": 17,
   "metadata": {},
   "outputs": [
    {
     "name": "stdout",
     "output_type": "stream",
     "text": [
      "Минимальный размер выборки для каждой группы: 3760\n"
     ]
    }
   ],
   "source": [
    "p1 = 0.30  \n",
    "p2 = 0.33  # Ожидаемая конверсия \n",
    "alpha = 0.05  \n",
    "power = 0.80 \n",
    "\n",
    "z_alpha = norm.ppf(1 - alpha / 2)\n",
    "z_beta = norm.ppf(power)\n",
    "\n",
    "n = ((z_alpha + z_beta) ** 2 * (p1 * (1 - p1) + p2 * (1 - p2))) / ((p2 - p1) ** 2)\n",
    "\n",
    "n = int(np.ceil(n))\n",
    "\n",
    "print(f'Минимальный размер выборки для каждой группы: {n}')"
   ]
  },
  {
   "cell_type": "markdown",
   "metadata": {},
   "source": [
    "**Вывод:**\n",
    "\n",
    "3760 пользователей - минимальный размер выборки для каждой группы, необходимый для увеличения конверсии на 3%.\n",
    "Фактический размер: 6524 пользователей в группе А, 5230 пользователей в группе B. Выборка в обеих группах превышает минимально необходимый размер, что позволяет получить статистически значимые результаты."
   ]
  },
  {
   "cell_type": "markdown",
   "metadata": {},
   "source": [
    "<a class=\"anchor\" id=\"4-bullet\"></a>\n",
    "## Исследовательский анализ данных"
   ]
  },
  {
   "cell_type": "markdown",
   "metadata": {},
   "source": [
    "Проанализируем данные о пользовательской активности по таблице `ab_test_events`:\n",
    "\n",
    "- оставим события, связанные с участвующими в изучаемом тесте пользователями;"
   ]
  },
  {
   "cell_type": "code",
   "execution_count": 18,
   "metadata": {},
   "outputs": [],
   "source": [
    "# Объединение таблиц participants и events\n",
    "participants_events = events.merge(participants, on='user_id', how='inner')\n",
    "# Фильтрация данных только для участников теста interface_eu_test\n",
    "participants_events = participants_events[participants_events['ab_test'] == 'interface_eu_test']"
   ]
  },
  {
   "cell_type": "markdown",
   "metadata": {},
   "source": [
    "- определим горизонт анализа: рассчитаем время (лайфтайм) совершения события пользователем после регистрации и оставим только те события, которые были выполнены в течение первых семи дней с момента регистрации;"
   ]
  },
  {
   "cell_type": "code",
   "execution_count": 19,
   "metadata": {},
   "outputs": [
    {
     "data": {
      "text/html": [
       "<div>\n",
       "<style scoped>\n",
       "    .dataframe tbody tr th:only-of-type {\n",
       "        vertical-align: middle;\n",
       "    }\n",
       "\n",
       "    .dataframe tbody tr th {\n",
       "        vertical-align: top;\n",
       "    }\n",
       "\n",
       "    .dataframe thead th {\n",
       "        text-align: right;\n",
       "    }\n",
       "</style>\n",
       "<table border=\"1\" class=\"dataframe\">\n",
       "  <thead>\n",
       "    <tr style=\"text-align: right;\">\n",
       "      <th></th>\n",
       "      <th>user_id</th>\n",
       "      <th>event_dt</th>\n",
       "      <th>event_name</th>\n",
       "      <th>details</th>\n",
       "      <th>group</th>\n",
       "      <th>ab_test</th>\n",
       "      <th>device</th>\n",
       "      <th>registration_dt</th>\n",
       "      <th>lifetime</th>\n",
       "    </tr>\n",
       "  </thead>\n",
       "  <tbody>\n",
       "    <tr>\n",
       "      <th>0</th>\n",
       "      <td>5F506CEBEDC05D30</td>\n",
       "      <td>2020-12-06 14:10:01</td>\n",
       "      <td>registration</td>\n",
       "      <td>0.0</td>\n",
       "      <td>A</td>\n",
       "      <td>interface_eu_test</td>\n",
       "      <td>iPhone</td>\n",
       "      <td>2020-12-06 14:10:01</td>\n",
       "      <td>0</td>\n",
       "    </tr>\n",
       "    <tr>\n",
       "      <th>1</th>\n",
       "      <td>51278A006E918D97</td>\n",
       "      <td>2020-12-06 14:37:25</td>\n",
       "      <td>registration</td>\n",
       "      <td>-3.8</td>\n",
       "      <td>A</td>\n",
       "      <td>interface_eu_test</td>\n",
       "      <td>Android</td>\n",
       "      <td>2020-12-06 14:37:25</td>\n",
       "      <td>0</td>\n",
       "    </tr>\n",
       "    <tr>\n",
       "      <th>2</th>\n",
       "      <td>A0C1E8EFAD874D8B</td>\n",
       "      <td>2020-12-06 17:20:22</td>\n",
       "      <td>registration</td>\n",
       "      <td>-3.32</td>\n",
       "      <td>B</td>\n",
       "      <td>interface_eu_test</td>\n",
       "      <td>iPhone</td>\n",
       "      <td>2020-12-06 17:20:22</td>\n",
       "      <td>0</td>\n",
       "    </tr>\n",
       "    <tr>\n",
       "      <th>3</th>\n",
       "      <td>275A8D6254ACF530</td>\n",
       "      <td>2020-12-06 19:36:54</td>\n",
       "      <td>registration</td>\n",
       "      <td>-0.48</td>\n",
       "      <td>A</td>\n",
       "      <td>interface_eu_test</td>\n",
       "      <td>iPhone</td>\n",
       "      <td>2020-12-06 19:36:54</td>\n",
       "      <td>0</td>\n",
       "    </tr>\n",
       "    <tr>\n",
       "      <th>4</th>\n",
       "      <td>0B704EB2DC7FCA4B</td>\n",
       "      <td>2020-12-06 19:42:20</td>\n",
       "      <td>registration</td>\n",
       "      <td>0.0</td>\n",
       "      <td>B</td>\n",
       "      <td>interface_eu_test</td>\n",
       "      <td>PC</td>\n",
       "      <td>2020-12-06 19:42:20</td>\n",
       "      <td>0</td>\n",
       "    </tr>\n",
       "    <tr>\n",
       "      <th>...</th>\n",
       "      <td>...</td>\n",
       "      <td>...</td>\n",
       "      <td>...</td>\n",
       "      <td>...</td>\n",
       "      <td>...</td>\n",
       "      <td>...</td>\n",
       "      <td>...</td>\n",
       "      <td>...</td>\n",
       "      <td>...</td>\n",
       "    </tr>\n",
       "    <tr>\n",
       "      <th>78283</th>\n",
       "      <td>14546A7337736CDF</td>\n",
       "      <td>2020-12-28 17:36:04</td>\n",
       "      <td>product_cart</td>\n",
       "      <td>NaN</td>\n",
       "      <td>B</td>\n",
       "      <td>interface_eu_test</td>\n",
       "      <td>Android</td>\n",
       "      <td>2020-12-21 22:55:45</td>\n",
       "      <td>6</td>\n",
       "    </tr>\n",
       "    <tr>\n",
       "      <th>78288</th>\n",
       "      <td>14546A7337736CDF</td>\n",
       "      <td>2020-12-28 17:37:12</td>\n",
       "      <td>product_cart</td>\n",
       "      <td>NaN</td>\n",
       "      <td>B</td>\n",
       "      <td>interface_eu_test</td>\n",
       "      <td>Android</td>\n",
       "      <td>2020-12-21 22:55:45</td>\n",
       "      <td>6</td>\n",
       "    </tr>\n",
       "    <tr>\n",
       "      <th>78313</th>\n",
       "      <td>095ECC5A0FF88329</td>\n",
       "      <td>2020-12-28 17:56:02</td>\n",
       "      <td>product_page</td>\n",
       "      <td>NaN</td>\n",
       "      <td>A</td>\n",
       "      <td>interface_eu_test</td>\n",
       "      <td>iPhone</td>\n",
       "      <td>2020-12-21 20:59:45</td>\n",
       "      <td>6</td>\n",
       "    </tr>\n",
       "    <tr>\n",
       "      <th>78364</th>\n",
       "      <td>91A742C3EFE98B9E</td>\n",
       "      <td>2020-12-28 19:00:42</td>\n",
       "      <td>login</td>\n",
       "      <td>NaN</td>\n",
       "      <td>A</td>\n",
       "      <td>interface_eu_test</td>\n",
       "      <td>Mac</td>\n",
       "      <td>2020-12-21 20:58:51</td>\n",
       "      <td>6</td>\n",
       "    </tr>\n",
       "    <tr>\n",
       "      <th>78437</th>\n",
       "      <td>AE37AA28F2E930AB</td>\n",
       "      <td>2020-12-28 19:46:15</td>\n",
       "      <td>purchase</td>\n",
       "      <td>4.49</td>\n",
       "      <td>B</td>\n",
       "      <td>interface_eu_test</td>\n",
       "      <td>Android</td>\n",
       "      <td>2020-12-21 20:15:03</td>\n",
       "      <td>6</td>\n",
       "    </tr>\n",
       "  </tbody>\n",
       "</table>\n",
       "<p>53129 rows × 9 columns</p>\n",
       "</div>"
      ],
      "text/plain": [
       "                user_id            event_dt    event_name details group  \\\n",
       "0      5F506CEBEDC05D30 2020-12-06 14:10:01  registration     0.0     A   \n",
       "1      51278A006E918D97 2020-12-06 14:37:25  registration    -3.8     A   \n",
       "2      A0C1E8EFAD874D8B 2020-12-06 17:20:22  registration   -3.32     B   \n",
       "3      275A8D6254ACF530 2020-12-06 19:36:54  registration   -0.48     A   \n",
       "4      0B704EB2DC7FCA4B 2020-12-06 19:42:20  registration     0.0     B   \n",
       "...                 ...                 ...           ...     ...   ...   \n",
       "78283  14546A7337736CDF 2020-12-28 17:36:04  product_cart     NaN     B   \n",
       "78288  14546A7337736CDF 2020-12-28 17:37:12  product_cart     NaN     B   \n",
       "78313  095ECC5A0FF88329 2020-12-28 17:56:02  product_page     NaN     A   \n",
       "78364  91A742C3EFE98B9E 2020-12-28 19:00:42         login     NaN     A   \n",
       "78437  AE37AA28F2E930AB 2020-12-28 19:46:15      purchase    4.49     B   \n",
       "\n",
       "                 ab_test   device     registration_dt  lifetime  \n",
       "0      interface_eu_test   iPhone 2020-12-06 14:10:01         0  \n",
       "1      interface_eu_test  Android 2020-12-06 14:37:25         0  \n",
       "2      interface_eu_test   iPhone 2020-12-06 17:20:22         0  \n",
       "3      interface_eu_test   iPhone 2020-12-06 19:36:54         0  \n",
       "4      interface_eu_test       PC 2020-12-06 19:42:20         0  \n",
       "...                  ...      ...                 ...       ...  \n",
       "78283  interface_eu_test  Android 2020-12-21 22:55:45         6  \n",
       "78288  interface_eu_test  Android 2020-12-21 22:55:45         6  \n",
       "78313  interface_eu_test   iPhone 2020-12-21 20:59:45         6  \n",
       "78364  interface_eu_test      Mac 2020-12-21 20:58:51         6  \n",
       "78437  interface_eu_test  Android 2020-12-21 20:15:03         6  \n",
       "\n",
       "[53129 rows x 9 columns]"
      ]
     },
     "execution_count": 19,
     "metadata": {},
     "output_type": "execute_result"
    }
   ],
   "source": [
    "# Лайфтайм \n",
    "participants_events['lifetime'] = (participants_events['event_dt'] - participants_events['registration_dt']).dt.days\n",
    "\n",
    "# События, выполненные в течение первых 7 дней\n",
    "participants_events = participants_events[participants_events['lifetime'] < 7]\n",
    "\n",
    "participants_events"
   ]
  },
  {
   "cell_type": "markdown",
   "metadata": {},
   "source": [
    "- рассчитаем для каждой группы количество посетителей, сделавших покупку, и общее количество посетителей."
   ]
  },
  {
   "cell_type": "code",
   "execution_count": 20,
   "metadata": {},
   "outputs": [
    {
     "name": "stdout",
     "output_type": "stream",
     "text": [
      "Количество пользователей, сделавших покупку: \n",
      " group\n",
      "A    1210\n",
      "B    1315\n",
      "Name: user_id, dtype: int64\n",
      "Общее количество пользователей: \n",
      " group\n",
      "A    4442\n",
      "B    4524\n",
      "Name: user_id, dtype: int64\n"
     ]
    }
   ],
   "source": [
    "# Количество уникальных пользователей, сделавших покупку\n",
    "purchasing_users = participants_events[participants_events['event_name'] == 'purchase'].groupby('group')['user_id'].nunique()\n",
    "\n",
    "# Общее количество уникальных пользователей в каждой группе\n",
    "total_users = participants_events.groupby('group')['user_id'].nunique()\n",
    "\n",
    "print(f'Количество пользователей, сделавших покупку: \\n {purchasing_users}')\n",
    "print(f'Общее количество пользователей: \\n {total_users}')"
   ]
  },
  {
   "cell_type": "markdown",
   "metadata": {},
   "source": [
    "- сделаем предварительный общий вывод об изменении пользовательской активности в тестовой группе по сравнению с контрольной."
   ]
  },
  {
   "cell_type": "code",
   "execution_count": 21,
   "metadata": {},
   "outputs": [
    {
     "name": "stdout",
     "output_type": "stream",
     "text": [
      "Конверсия в покупку: \n",
      " group\n",
      "A    0.272400\n",
      "B    0.290672\n",
      "Name: user_id, dtype: float64\n"
     ]
    }
   ],
   "source": [
    "# Конверсия в покупку\n",
    "conversion_rate = purchasing_users / total_users\n",
    "\n",
    "print(f'Конверсия в покупку: \\n {conversion_rate}')"
   ]
  },
  {
   "cell_type": "markdown",
   "metadata": {},
   "source": [
    "**Вывод:**\n",
    "- Количество пользователей, сделавших покупку: группа A (контрольная): 1210 пользователей, группа B (тестовая): 1315 пользователей.\n",
    "\n",
    "- Общее количество пользователей: группа A: 4442 пользователей, группа B: 4524 пользователей.\n",
    "\n",
    "- Конверсия в покупку:группа A: 27.24%, группа B: 29.07%.\n",
    "\n",
    "- Разница в конверсии между группами составляет 1.83%. Ожидаемый эффект в 3% не достигается."
   ]
  },
  {
   "cell_type": "markdown",
   "metadata": {},
   "source": [
    "<a class=\"anchor\" id=\"5-bullet\"></a>\n",
    "## Анализ А/B тестирования"
   ]
  },
  {
   "cell_type": "markdown",
   "metadata": {},
   "source": [
    "Проведем оценку результатов A/B теста."
   ]
  },
  {
   "cell_type": "markdown",
   "metadata": {},
   "source": [
    "- Проверьте изменение конверсии подходящим статистическим тестом, учитывая все этапы проверки гипотез.\n",
    "\n",
    "Нулевая гипотеза $(H_0)$: Конверсия в группе B не больше конверсии в группе А. $H_0: p_B \\leq p_A$\n",
    "\n",
    "Альтернативная гипотеза $(H_1)$: Конверсия в группе B больше, чем в группе A. $H_1: p_B > p_A$"
   ]
  },
  {
   "cell_type": "code",
   "execution_count": 22,
   "metadata": {},
   "outputs": [
    {
     "name": "stdout",
     "output_type": "stream",
     "text": [
      "Z-статистика: 1.9232\n",
      "p-value: 0.0272\n",
      "p-value=0.0272 < 0.05\n",
      "Отвергаем нулевую гипотезу: конверсия в группе B статистически значимо выше, чем в группе A.\n"
     ]
    }
   ],
   "source": [
    "# Фильтрация для каждой группы\n",
    "group_A = participants_events[participants_events['group'] == 'A'].query('ab_test == \"interface_eu_test\"')\n",
    "group_B = participants_events[participants_events['group'] == 'B'].query('ab_test == \"interface_eu_test\"')\n",
    "\n",
    "# Пользователи, сделавших покупку \n",
    "successes = [\n",
    "    group_B[group_B['event_name'] == 'purchase'].query('ab_test == \"interface_eu_test\"')['user_id'].nunique(), \n",
    "    group_A[group_A['event_name'] == 'purchase'].query('ab_test == \"interface_eu_test\"')['user_id'].nunique() \n",
    "]\n",
    "\n",
    "# Всего пользователей \n",
    "nobs = [\n",
    "    group_B['user_id'].nunique(),  \n",
    "    group_A['user_id'].nunique()   \n",
    "]\n",
    "\n",
    "z_stat, p_value = proportions_ztest(successes, \n",
    "                                    nobs, \n",
    "                                    alternative='larger')  # H1: конверсия в B > конверсии в A\n",
    "\n",
    "alpha = 0.05\n",
    "\n",
    "print(f\"Z-статистика: {z_stat:.4f}\")\n",
    "print(f\"p-value: {p_value:.4f}\")\n",
    "\n",
    "# Интерпретация результатов\n",
    "if p_value < alpha:\n",
    "    print(f'p-value={p_value:.4f} < {alpha}')\n",
    "    print('Отвергаем нулевую гипотезу: конверсия в группе B статистически значимо выше, чем в группе A.')\n",
    "else:\n",
    "    print(f'p-value={p_value:.4f} >= {alpha}')\n",
    "    print('Не получилось отвергнуть нулевую гипотезу: конверсия в группе B не является статистически значимо выше, чем в группе A.')"
   ]
  },
  {
   "cell_type": "markdown",
   "metadata": {},
   "source": [
    "p-value ниже установленного уровня значимости 0.05, мы не можем не отвергнуть нулевую гипотезу, следовательно  конверсия в группе B является статистически значимо выше, чем в группе A."
   ]
  },
  {
   "cell_type": "markdown",
   "metadata": {},
   "source": [
    "**Вывод:**\n",
    "- Разница в конверсии  является статистически значимой.\n",
    "- Ожидаемый эффект (увеличение конверсии на 3 процентных пункта) не достигнут. Фактическое увеличение конверсии примерно в 2 раза меньше.\n",
    "- Результаты A/B-тестирования показывают, что упрощение интерфейса не привело к статистически значимому увеличению конверсии.\n",
    "- Повышение конверсии было, но ниже ожидаемого эффекта."
   ]
  },
  {
   "cell_type": "markdown",
   "metadata": {},
   "source": [
    "<a class=\"anchor\" id=\"6-bullet\"></a>\n",
    "## Общий вывод"
   ]
  },
  {
   "cell_type": "markdown",
   "metadata": {},
   "source": [
    "- Данные загружены и очищены от дубликатов, некорректных записей и пользователей, не соответствующих условиям теста. \n",
    "- Распределение пользователей по группам близко к равномерному (56% в группе A, 44% в группе B).\n",
    "- Не обнаружено пользователей, которые учавствовали в двух тестах одновременно.\n",
    "- Выборка достаточна для получения статистически значимых результатов. (Минимальный размер выборки - 3760 пользователей, фактический размер в группе А - 6524 пользователей, 5230 пользователя в группе В.)\n",
    "- Разница в конверсии между группами составляет 1.83%\n",
    "- Проведён Z-тест с односторонней гипотезой:\n",
    "        Нулевая гипотеза (H₀): Конверсия в группе B не больше, чем в группе A.\n",
    "        Альтернативная гипотеза (H₁): Конверсия в группе B больше, чем в группе A.\n",
    "- По результатам теста конверсия в группе B является статистически значимо выше, чем в группе A.\n",
    "- Упрощение интерфейса (изменения в группе B) привело к статистически значимому увеличению конверсии.\n",
    "- Однако фактическое увеличение конверсии (1.83 процентных пункта) оказалось ниже ожидаемого эффекта (3 процентных пункта). Это может указывать на то, что изменения в интерфейсе оказали положительное влияние, но не столь существенное, как предполагалось."
   ]
  }
 ],
 "metadata": {
  "ExecuteTimeLog": [
   {
    "duration": 1719,
    "start_time": "2025-03-15T21:07:52.461Z"
   },
   {
    "duration": 1232,
    "start_time": "2025-03-15T21:08:14.439Z"
   },
   {
    "duration": 1175,
    "start_time": "2025-03-15T21:08:45.660Z"
   },
   {
    "duration": 115,
    "start_time": "2025-03-15T21:09:38.451Z"
   },
   {
    "duration": 59,
    "start_time": "2025-03-15T21:10:57.924Z"
   },
   {
    "duration": 111,
    "start_time": "2025-03-15T21:11:19.489Z"
   },
   {
    "duration": 13,
    "start_time": "2025-03-15T21:12:50.518Z"
   },
   {
    "duration": 496,
    "start_time": "2025-03-15T21:13:06.637Z"
   },
   {
    "duration": 1117,
    "start_time": "2025-03-15T21:13:22.452Z"
   },
   {
    "duration": 442,
    "start_time": "2025-03-15T21:14:28.124Z"
   },
   {
    "duration": 15,
    "start_time": "2025-03-15T21:15:01.045Z"
   },
   {
    "duration": 14,
    "start_time": "2025-03-15T21:15:16.504Z"
   },
   {
    "duration": 1184,
    "start_time": "2025-03-16T15:11:33.788Z"
   },
   {
    "duration": 116,
    "start_time": "2025-03-16T15:11:36.698Z"
   },
   {
    "duration": 99,
    "start_time": "2025-03-16T15:11:41.703Z"
   },
   {
    "duration": 284,
    "start_time": "2025-03-16T15:12:05.950Z"
   },
   {
    "duration": 285,
    "start_time": "2025-03-16T15:12:18.244Z"
   },
   {
    "duration": 122,
    "start_time": "2025-03-16T15:12:28.372Z"
   },
   {
    "duration": 6,
    "start_time": "2025-03-16T15:32:20.392Z"
   },
   {
    "duration": 4,
    "start_time": "2025-03-16T15:32:34.362Z"
   },
   {
    "duration": 8,
    "start_time": "2025-03-16T15:32:48.573Z"
   },
   {
    "duration": 59,
    "start_time": "2025-03-16T15:33:00.316Z"
   },
   {
    "duration": 66,
    "start_time": "2025-03-16T15:33:48.911Z"
   },
   {
    "duration": 101,
    "start_time": "2025-03-16T15:33:51.725Z"
   },
   {
    "duration": 5,
    "start_time": "2025-03-16T15:33:59.769Z"
   },
   {
    "duration": 1264,
    "start_time": "2025-03-16T15:38:59.258Z"
   },
   {
    "duration": 126,
    "start_time": "2025-03-16T15:39:00.524Z"
   },
   {
    "duration": 8,
    "start_time": "2025-03-16T15:39:02.227Z"
   },
   {
    "duration": 100,
    "start_time": "2025-03-16T15:39:03.670Z"
   },
   {
    "duration": 256,
    "start_time": "2025-03-16T15:39:05.153Z"
   },
   {
    "duration": 288,
    "start_time": "2025-03-16T15:39:06.391Z"
   },
   {
    "duration": 6,
    "start_time": "2025-03-16T15:39:08.047Z"
   },
   {
    "duration": 5,
    "start_time": "2025-03-16T15:39:08.649Z"
   },
   {
    "duration": 10,
    "start_time": "2025-03-16T15:39:09.216Z"
   },
   {
    "duration": 71,
    "start_time": "2025-03-16T15:39:10.556Z"
   },
   {
    "duration": 59,
    "start_time": "2025-03-16T15:39:11.124Z"
   },
   {
    "duration": 3,
    "start_time": "2025-03-16T15:39:12.787Z"
   },
   {
    "duration": 23,
    "start_time": "2025-03-16T15:40:59.016Z"
   },
   {
    "duration": 11,
    "start_time": "2025-03-16T15:41:10.452Z"
   },
   {
    "duration": 1207,
    "start_time": "2025-03-16T15:41:14.781Z"
   },
   {
    "duration": 119,
    "start_time": "2025-03-16T15:41:15.990Z"
   },
   {
    "duration": 4,
    "start_time": "2025-03-16T15:41:16.111Z"
   },
   {
    "duration": 10,
    "start_time": "2025-03-16T15:41:16.116Z"
   },
   {
    "duration": 8,
    "start_time": "2025-03-16T15:41:16.128Z"
   },
   {
    "duration": 119,
    "start_time": "2025-03-16T15:41:16.138Z"
   },
   {
    "duration": 288,
    "start_time": "2025-03-16T15:41:16.258Z"
   },
   {
    "duration": 301,
    "start_time": "2025-03-16T15:41:16.548Z"
   },
   {
    "duration": 5,
    "start_time": "2025-03-16T15:41:16.851Z"
   },
   {
    "duration": 25,
    "start_time": "2025-03-16T15:41:16.866Z"
   },
   {
    "duration": 9,
    "start_time": "2025-03-16T15:41:16.893Z"
   },
   {
    "duration": 57,
    "start_time": "2025-03-16T15:41:16.904Z"
   },
   {
    "duration": 57,
    "start_time": "2025-03-16T15:41:16.963Z"
   },
   {
    "duration": 3,
    "start_time": "2025-03-16T15:41:17.022Z"
   },
   {
    "duration": 140,
    "start_time": "2025-03-16T15:41:17.027Z"
   },
   {
    "duration": 5,
    "start_time": "2025-03-16T15:41:17.169Z"
   },
   {
    "duration": 4,
    "start_time": "2025-03-16T15:41:17.176Z"
   },
   {
    "duration": 10,
    "start_time": "2025-03-16T15:41:17.181Z"
   },
   {
    "duration": 51,
    "start_time": "2025-03-16T15:41:17.193Z"
   },
   {
    "duration": 7,
    "start_time": "2025-03-16T15:44:40.855Z"
   },
   {
    "duration": 5,
    "start_time": "2025-03-16T15:45:00.485Z"
   },
   {
    "duration": 1358,
    "start_time": "2025-03-16T15:49:15.268Z"
   },
   {
    "duration": 128,
    "start_time": "2025-03-16T15:49:16.628Z"
   },
   {
    "duration": 12,
    "start_time": "2025-03-16T15:49:16.758Z"
   },
   {
    "duration": 14,
    "start_time": "2025-03-16T15:49:16.771Z"
   },
   {
    "duration": 9,
    "start_time": "2025-03-16T15:49:16.786Z"
   },
   {
    "duration": 826,
    "start_time": "2025-03-16T15:49:44.467Z"
   },
   {
    "duration": 35,
    "start_time": "2025-03-16T15:50:21.441Z"
   },
   {
    "duration": 9,
    "start_time": "2025-03-16T15:51:42.297Z"
   },
   {
    "duration": 6,
    "start_time": "2025-03-16T15:51:53.722Z"
   },
   {
    "duration": 12,
    "start_time": "2025-03-16T15:52:10.439Z"
   },
   {
    "duration": 6,
    "start_time": "2025-03-16T15:52:55.037Z"
   },
   {
    "duration": 8,
    "start_time": "2025-03-16T15:53:11.698Z"
   },
   {
    "duration": 13,
    "start_time": "2025-03-16T15:54:45.754Z"
   },
   {
    "duration": 1195,
    "start_time": "2025-03-16T15:55:01.072Z"
   },
   {
    "duration": 23,
    "start_time": "2025-03-16T15:55:04.325Z"
   },
   {
    "duration": 7,
    "start_time": "2025-03-16T15:55:21.987Z"
   },
   {
    "duration": 23,
    "start_time": "2025-03-16T15:55:33.990Z"
   },
   {
    "duration": 7,
    "start_time": "2025-03-16T15:56:05.428Z"
   },
   {
    "duration": 12,
    "start_time": "2025-03-16T15:56:17.348Z"
   },
   {
    "duration": 6,
    "start_time": "2025-03-16T15:56:40.487Z"
   },
   {
    "duration": 476,
    "start_time": "2025-03-16T15:56:48.952Z"
   },
   {
    "duration": 9,
    "start_time": "2025-03-16T15:57:00.252Z"
   },
   {
    "duration": 23,
    "start_time": "2025-03-16T15:57:38.160Z"
   },
   {
    "duration": 415,
    "start_time": "2025-03-16T16:18:47.902Z"
   },
   {
    "duration": 3,
    "start_time": "2025-03-16T16:19:17.063Z"
   },
   {
    "duration": 3,
    "start_time": "2025-03-16T16:19:27.432Z"
   },
   {
    "duration": 1336,
    "start_time": "2025-03-16T16:19:31.806Z"
   },
   {
    "duration": 1272,
    "start_time": "2025-03-16T16:20:29.465Z"
   },
   {
    "duration": 10,
    "start_time": "2025-03-16T16:20:47.487Z"
   },
   {
    "duration": 9,
    "start_time": "2025-03-16T16:21:03.698Z"
   },
   {
    "duration": 5,
    "start_time": "2025-03-16T16:21:18.404Z"
   },
   {
    "duration": 119,
    "start_time": "2025-03-16T16:21:21.359Z"
   },
   {
    "duration": 32,
    "start_time": "2025-03-16T16:26:56.335Z"
   },
   {
    "duration": 84,
    "start_time": "2025-03-16T16:27:16.794Z"
   },
   {
    "duration": 2,
    "start_time": "2025-03-16T16:27:25.810Z"
   },
   {
    "duration": 1179,
    "start_time": "2025-03-16T16:27:25.814Z"
   },
   {
    "duration": 8,
    "start_time": "2025-03-16T16:27:26.994Z"
   },
   {
    "duration": 8,
    "start_time": "2025-03-16T16:27:27.004Z"
   },
   {
    "duration": 126,
    "start_time": "2025-03-16T16:27:27.013Z"
   },
   {
    "duration": 35,
    "start_time": "2025-03-16T16:27:27.141Z"
   },
   {
    "duration": 93,
    "start_time": "2025-03-16T16:27:27.178Z"
   },
   {
    "duration": 856,
    "start_time": "2025-03-16T16:27:27.273Z"
   },
   {
    "duration": 7,
    "start_time": "2025-03-16T16:27:28.131Z"
   },
   {
    "duration": 31,
    "start_time": "2025-03-16T16:27:28.140Z"
   },
   {
    "duration": 20,
    "start_time": "2025-03-16T16:27:28.173Z"
   },
   {
    "duration": 5,
    "start_time": "2025-03-16T16:27:28.195Z"
   },
   {
    "duration": 19,
    "start_time": "2025-03-16T16:27:28.203Z"
   },
   {
    "duration": 6,
    "start_time": "2025-03-16T16:27:28.223Z"
   },
   {
    "duration": 42,
    "start_time": "2025-03-16T16:27:28.230Z"
   },
   {
    "duration": 39,
    "start_time": "2025-03-16T16:27:28.274Z"
   },
   {
    "duration": 7,
    "start_time": "2025-03-16T16:27:28.315Z"
   },
   {
    "duration": 20,
    "start_time": "2025-03-16T16:27:28.323Z"
   },
   {
    "duration": 1412,
    "start_time": "2025-03-16T16:31:51.639Z"
   },
   {
    "duration": 1168,
    "start_time": "2025-03-16T16:34:48.256Z"
   },
   {
    "duration": 1319,
    "start_time": "2025-03-16T16:35:15.607Z"
   },
   {
    "duration": 88,
    "start_time": "2025-03-16T16:37:26.281Z"
   },
   {
    "duration": 1223,
    "start_time": "2025-03-16T16:38:02.946Z"
   },
   {
    "duration": 44,
    "start_time": "2025-03-16T16:38:19.756Z"
   },
   {
    "duration": 1383,
    "start_time": "2025-03-16T16:38:26.276Z"
   },
   {
    "duration": 42,
    "start_time": "2025-03-16T16:38:38.529Z"
   },
   {
    "duration": 1320,
    "start_time": "2025-03-16T16:38:44.602Z"
   },
   {
    "duration": 41,
    "start_time": "2025-03-16T16:40:13.360Z"
   },
   {
    "duration": 3,
    "start_time": "2025-03-16T16:40:29.515Z"
   },
   {
    "duration": 1303,
    "start_time": "2025-03-16T16:40:30.230Z"
   },
   {
    "duration": 7,
    "start_time": "2025-03-16T16:40:33.993Z"
   },
   {
    "duration": 9,
    "start_time": "2025-03-16T16:40:35.454Z"
   },
   {
    "duration": 113,
    "start_time": "2025-03-16T16:40:36.895Z"
   },
   {
    "duration": 787,
    "start_time": "2025-03-16T16:40:39.245Z"
   },
   {
    "duration": 7,
    "start_time": "2025-03-16T16:40:44.312Z"
   },
   {
    "duration": 14,
    "start_time": "2025-03-16T16:40:46.403Z"
   },
   {
    "duration": 6,
    "start_time": "2025-03-16T16:51:50.784Z"
   },
   {
    "duration": 9,
    "start_time": "2025-03-16T16:53:41.416Z"
   },
   {
    "duration": 18,
    "start_time": "2025-03-16T16:54:37.158Z"
   },
   {
    "duration": 3,
    "start_time": "2025-03-16T16:55:42.233Z"
   },
   {
    "duration": 1286,
    "start_time": "2025-03-16T16:55:42.804Z"
   },
   {
    "duration": 8,
    "start_time": "2025-03-16T16:55:45.301Z"
   },
   {
    "duration": 9,
    "start_time": "2025-03-16T16:55:46.513Z"
   },
   {
    "duration": 112,
    "start_time": "2025-03-16T16:55:47.645Z"
   },
   {
    "duration": 781,
    "start_time": "2025-03-16T16:55:51.273Z"
   },
   {
    "duration": 7,
    "start_time": "2025-03-16T16:55:54.116Z"
   },
   {
    "duration": 13,
    "start_time": "2025-03-16T16:55:55.186Z"
   },
   {
    "duration": 5,
    "start_time": "2025-03-16T16:56:46.365Z"
   },
   {
    "duration": 5,
    "start_time": "2025-03-16T16:58:35.066Z"
   },
   {
    "duration": 10,
    "start_time": "2025-03-16T17:01:43.707Z"
   },
   {
    "duration": 10,
    "start_time": "2025-03-16T17:03:10.959Z"
   },
   {
    "duration": 540,
    "start_time": "2025-03-16T17:03:59.713Z"
   },
   {
    "duration": 169,
    "start_time": "2025-03-16T17:04:18.280Z"
   },
   {
    "duration": 159,
    "start_time": "2025-03-16T17:04:38.565Z"
   },
   {
    "duration": 18,
    "start_time": "2025-03-16T17:04:44.227Z"
   },
   {
    "duration": 16,
    "start_time": "2025-03-16T17:06:46.583Z"
   },
   {
    "duration": 44,
    "start_time": "2025-03-16T17:07:53.207Z"
   },
   {
    "duration": 20,
    "start_time": "2025-03-16T17:08:11.437Z"
   },
   {
    "duration": 44,
    "start_time": "2025-03-16T17:08:49.805Z"
   },
   {
    "duration": 75,
    "start_time": "2025-03-16T17:12:04.962Z"
   },
   {
    "duration": 44,
    "start_time": "2025-03-16T17:13:13.603Z"
   },
   {
    "duration": 42,
    "start_time": "2025-03-16T17:13:28.413Z"
   },
   {
    "duration": 60,
    "start_time": "2025-03-16T17:13:58.932Z"
   },
   {
    "duration": 19,
    "start_time": "2025-03-16T17:40:13.595Z"
   },
   {
    "duration": 8,
    "start_time": "2025-03-16T17:42:26.233Z"
   },
   {
    "duration": 5,
    "start_time": "2025-03-16T17:42:54.992Z"
   },
   {
    "duration": 3,
    "start_time": "2025-03-16T17:43:22.759Z"
   },
   {
    "duration": 1275,
    "start_time": "2025-03-16T17:43:22.764Z"
   },
   {
    "duration": 8,
    "start_time": "2025-03-16T17:43:24.041Z"
   },
   {
    "duration": 37,
    "start_time": "2025-03-16T17:43:24.051Z"
   },
   {
    "duration": 134,
    "start_time": "2025-03-16T17:43:24.091Z"
   },
   {
    "duration": 862,
    "start_time": "2025-03-16T17:43:24.227Z"
   },
   {
    "duration": 11,
    "start_time": "2025-03-16T17:43:25.091Z"
   },
   {
    "duration": 15,
    "start_time": "2025-03-16T17:43:25.104Z"
   },
   {
    "duration": 7,
    "start_time": "2025-03-16T17:43:25.121Z"
   },
   {
    "duration": 10,
    "start_time": "2025-03-16T17:43:25.130Z"
   },
   {
    "duration": 179,
    "start_time": "2025-03-16T17:43:25.142Z"
   },
   {
    "duration": 18,
    "start_time": "2025-03-16T17:43:25.323Z"
   },
   {
    "duration": 31,
    "start_time": "2025-03-16T17:43:25.342Z"
   },
   {
    "duration": 40,
    "start_time": "2025-03-16T17:43:25.375Z"
   },
   {
    "duration": 16,
    "start_time": "2025-03-16T17:43:25.417Z"
   },
   {
    "duration": 67,
    "start_time": "2025-03-16T17:43:25.434Z"
   },
   {
    "duration": 5,
    "start_time": "2025-03-16T17:43:25.503Z"
   },
   {
    "duration": 6,
    "start_time": "2025-03-16T17:44:10.705Z"
   },
   {
    "duration": 428,
    "start_time": "2025-03-16T17:49:41.340Z"
   },
   {
    "duration": 9,
    "start_time": "2025-03-16T17:49:53.806Z"
   },
   {
    "duration": 3,
    "start_time": "2025-03-16T17:53:07.819Z"
   },
   {
    "duration": 1147,
    "start_time": "2025-03-16T17:53:07.825Z"
   },
   {
    "duration": 10,
    "start_time": "2025-03-16T17:53:08.974Z"
   },
   {
    "duration": 13,
    "start_time": "2025-03-16T17:53:08.986Z"
   },
   {
    "duration": 155,
    "start_time": "2025-03-16T17:53:09.002Z"
   },
   {
    "duration": 802,
    "start_time": "2025-03-16T17:53:09.159Z"
   },
   {
    "duration": 7,
    "start_time": "2025-03-16T17:53:09.962Z"
   },
   {
    "duration": 12,
    "start_time": "2025-03-16T17:53:09.970Z"
   },
   {
    "duration": 3,
    "start_time": "2025-03-16T17:53:09.984Z"
   },
   {
    "duration": 16,
    "start_time": "2025-03-16T17:53:09.989Z"
   },
   {
    "duration": 209,
    "start_time": "2025-03-16T17:53:10.009Z"
   },
   {
    "duration": 22,
    "start_time": "2025-03-16T17:53:10.220Z"
   },
   {
    "duration": 30,
    "start_time": "2025-03-16T17:53:10.243Z"
   },
   {
    "duration": 41,
    "start_time": "2025-03-16T17:53:10.275Z"
   },
   {
    "duration": 16,
    "start_time": "2025-03-16T17:53:10.318Z"
   },
   {
    "duration": 63,
    "start_time": "2025-03-16T17:53:10.335Z"
   },
   {
    "duration": 5,
    "start_time": "2025-03-16T17:53:10.399Z"
   },
   {
    "duration": 3,
    "start_time": "2025-03-16T17:59:31.277Z"
   },
   {
    "duration": 1288,
    "start_time": "2025-03-16T17:59:31.282Z"
   },
   {
    "duration": 8,
    "start_time": "2025-03-16T17:59:32.572Z"
   },
   {
    "duration": 15,
    "start_time": "2025-03-16T17:59:32.582Z"
   },
   {
    "duration": 119,
    "start_time": "2025-03-16T17:59:32.599Z"
   },
   {
    "duration": 812,
    "start_time": "2025-03-16T17:59:32.719Z"
   },
   {
    "duration": 6,
    "start_time": "2025-03-16T17:59:33.533Z"
   },
   {
    "duration": 27,
    "start_time": "2025-03-16T17:59:33.541Z"
   },
   {
    "duration": 5,
    "start_time": "2025-03-16T17:59:33.569Z"
   },
   {
    "duration": 10,
    "start_time": "2025-03-16T17:59:33.575Z"
   },
   {
    "duration": 167,
    "start_time": "2025-03-16T17:59:33.587Z"
   },
   {
    "duration": 28,
    "start_time": "2025-03-16T17:59:33.756Z"
   },
   {
    "duration": 14,
    "start_time": "2025-03-16T17:59:33.785Z"
   },
   {
    "duration": 42,
    "start_time": "2025-03-16T17:59:33.800Z"
   },
   {
    "duration": 36,
    "start_time": "2025-03-16T17:59:33.843Z"
   },
   {
    "duration": 43,
    "start_time": "2025-03-16T17:59:33.880Z"
   },
   {
    "duration": 6,
    "start_time": "2025-03-16T17:59:33.925Z"
   },
   {
    "duration": 29,
    "start_time": "2025-03-16T18:04:47.204Z"
   },
   {
    "duration": 30,
    "start_time": "2025-03-16T18:05:23.361Z"
   },
   {
    "duration": 13,
    "start_time": "2025-03-16T18:06:22.270Z"
   },
   {
    "duration": 30,
    "start_time": "2025-03-16T18:07:42.350Z"
   },
   {
    "duration": 27,
    "start_time": "2025-03-16T18:08:40.510Z"
   },
   {
    "duration": 29,
    "start_time": "2025-03-16T18:09:50.855Z"
   },
   {
    "duration": 27,
    "start_time": "2025-03-16T18:11:27.611Z"
   },
   {
    "duration": 29,
    "start_time": "2025-03-16T18:11:48.227Z"
   },
   {
    "duration": 27,
    "start_time": "2025-03-16T18:12:01.540Z"
   },
   {
    "duration": 27,
    "start_time": "2025-03-16T18:12:13.660Z"
   },
   {
    "duration": 5,
    "start_time": "2025-03-16T18:13:03.593Z"
   },
   {
    "duration": 77,
    "start_time": "2025-03-16T18:18:32.352Z"
   },
   {
    "duration": 4,
    "start_time": "2025-03-16T18:18:39.864Z"
   },
   {
    "duration": 1165,
    "start_time": "2025-03-16T18:18:39.870Z"
   },
   {
    "duration": 8,
    "start_time": "2025-03-16T18:18:41.037Z"
   },
   {
    "duration": 22,
    "start_time": "2025-03-16T18:18:41.046Z"
   },
   {
    "duration": 117,
    "start_time": "2025-03-16T18:18:41.070Z"
   },
   {
    "duration": 814,
    "start_time": "2025-03-16T18:18:41.189Z"
   },
   {
    "duration": 7,
    "start_time": "2025-03-16T18:18:42.004Z"
   },
   {
    "duration": 20,
    "start_time": "2025-03-16T18:18:42.013Z"
   },
   {
    "duration": 7,
    "start_time": "2025-03-16T18:18:42.035Z"
   },
   {
    "duration": 23,
    "start_time": "2025-03-16T18:18:42.044Z"
   },
   {
    "duration": 177,
    "start_time": "2025-03-16T18:18:42.069Z"
   },
   {
    "duration": 30,
    "start_time": "2025-03-16T18:18:42.248Z"
   },
   {
    "duration": 13,
    "start_time": "2025-03-16T18:18:42.280Z"
   },
   {
    "duration": 43,
    "start_time": "2025-03-16T18:18:42.295Z"
   },
   {
    "duration": 39,
    "start_time": "2025-03-16T18:18:42.339Z"
   },
   {
    "duration": 42,
    "start_time": "2025-03-16T18:18:42.379Z"
   },
   {
    "duration": 5,
    "start_time": "2025-03-16T18:18:42.422Z"
   },
   {
    "duration": 49,
    "start_time": "2025-03-16T18:18:42.429Z"
   },
   {
    "duration": 28,
    "start_time": "2025-03-16T18:18:42.480Z"
   },
   {
    "duration": 25,
    "start_time": "2025-03-16T18:18:42.510Z"
   },
   {
    "duration": 4,
    "start_time": "2025-03-16T18:18:42.536Z"
   },
   {
    "duration": 5,
    "start_time": "2025-03-16T18:19:32.857Z"
   },
   {
    "duration": 47,
    "start_time": "2025-03-16T18:22:49.742Z"
   },
   {
    "duration": 45,
    "start_time": "2025-03-16T18:23:35.668Z"
   },
   {
    "duration": 46,
    "start_time": "2025-03-16T18:26:03.861Z"
   },
   {
    "duration": 39,
    "start_time": "2025-03-16T18:28:49.272Z"
   },
   {
    "duration": 40,
    "start_time": "2025-03-16T18:32:17.722Z"
   },
   {
    "duration": 3,
    "start_time": "2025-03-16T18:48:47.665Z"
   },
   {
    "duration": 1151,
    "start_time": "2025-03-16T18:48:47.669Z"
   },
   {
    "duration": 8,
    "start_time": "2025-03-16T18:48:48.822Z"
   },
   {
    "duration": 8,
    "start_time": "2025-03-16T18:48:48.832Z"
   },
   {
    "duration": 128,
    "start_time": "2025-03-16T18:48:48.843Z"
   },
   {
    "duration": 862,
    "start_time": "2025-03-16T18:48:48.973Z"
   },
   {
    "duration": 7,
    "start_time": "2025-03-16T18:48:49.837Z"
   },
   {
    "duration": 29,
    "start_time": "2025-03-16T18:48:49.846Z"
   },
   {
    "duration": 4,
    "start_time": "2025-03-16T18:48:49.877Z"
   },
   {
    "duration": 10,
    "start_time": "2025-03-16T18:48:49.883Z"
   },
   {
    "duration": 176,
    "start_time": "2025-03-16T18:48:49.895Z"
   },
   {
    "duration": 20,
    "start_time": "2025-03-16T18:48:50.073Z"
   },
   {
    "duration": 14,
    "start_time": "2025-03-16T18:48:50.095Z"
   },
   {
    "duration": 70,
    "start_time": "2025-03-16T18:48:50.113Z"
   },
   {
    "duration": 17,
    "start_time": "2025-03-16T18:48:50.185Z"
   },
   {
    "duration": 72,
    "start_time": "2025-03-16T18:48:50.203Z"
   },
   {
    "duration": 5,
    "start_time": "2025-03-16T18:48:50.276Z"
   },
   {
    "duration": 28,
    "start_time": "2025-03-16T18:48:50.282Z"
   },
   {
    "duration": 28,
    "start_time": "2025-03-16T18:48:50.312Z"
   },
   {
    "duration": 46,
    "start_time": "2025-03-16T18:48:50.342Z"
   },
   {
    "duration": 4,
    "start_time": "2025-03-16T18:48:50.389Z"
   },
   {
    "duration": 37,
    "start_time": "2025-03-16T18:48:50.394Z"
   },
   {
    "duration": 1123,
    "start_time": "2025-03-17T19:32:42.767Z"
   },
   {
    "duration": 1262,
    "start_time": "2025-03-17T19:32:43.892Z"
   },
   {
    "duration": 10,
    "start_time": "2025-03-17T19:32:45.156Z"
   },
   {
    "duration": 9,
    "start_time": "2025-03-17T19:32:45.168Z"
   },
   {
    "duration": 129,
    "start_time": "2025-03-17T19:32:45.179Z"
   },
   {
    "duration": 894,
    "start_time": "2025-03-17T19:32:45.310Z"
   },
   {
    "duration": 6,
    "start_time": "2025-03-17T19:32:46.206Z"
   },
   {
    "duration": 37,
    "start_time": "2025-03-17T19:32:46.213Z"
   },
   {
    "duration": 15,
    "start_time": "2025-03-17T19:32:46.252Z"
   },
   {
    "duration": 10,
    "start_time": "2025-03-17T19:32:46.269Z"
   },
   {
    "duration": 156,
    "start_time": "2025-03-17T19:32:46.280Z"
   },
   {
    "duration": 26,
    "start_time": "2025-03-17T19:32:46.437Z"
   },
   {
    "duration": 77,
    "start_time": "2025-03-17T19:32:46.465Z"
   },
   {
    "duration": 38,
    "start_time": "2025-03-17T19:32:46.544Z"
   },
   {
    "duration": 15,
    "start_time": "2025-03-17T19:32:46.584Z"
   },
   {
    "duration": 40,
    "start_time": "2025-03-17T19:32:46.601Z"
   },
   {
    "duration": 17,
    "start_time": "2025-03-17T19:32:46.643Z"
   },
   {
    "duration": 29,
    "start_time": "2025-03-17T19:32:46.662Z"
   },
   {
    "duration": 27,
    "start_time": "2025-03-17T19:32:46.693Z"
   },
   {
    "duration": 49,
    "start_time": "2025-03-17T19:32:46.722Z"
   },
   {
    "duration": 5,
    "start_time": "2025-03-17T19:32:46.773Z"
   },
   {
    "duration": 37,
    "start_time": "2025-03-17T19:32:46.779Z"
   },
   {
    "duration": 1311,
    "start_time": "2025-03-17T19:40:46.050Z"
   },
   {
    "duration": 3,
    "start_time": "2025-03-17T19:40:53.888Z"
   },
   {
    "duration": 1256,
    "start_time": "2025-03-17T19:40:54.184Z"
   },
   {
    "duration": 15,
    "start_time": "2025-03-17T19:40:55.441Z"
   },
   {
    "duration": 8,
    "start_time": "2025-03-17T19:40:55.458Z"
   },
   {
    "duration": 117,
    "start_time": "2025-03-17T19:40:55.468Z"
   },
   {
    "duration": 886,
    "start_time": "2025-03-17T19:40:55.587Z"
   },
   {
    "duration": 7,
    "start_time": "2025-03-17T19:40:59.001Z"
   },
   {
    "duration": 13,
    "start_time": "2025-03-17T19:40:59.144Z"
   },
   {
    "duration": 4,
    "start_time": "2025-03-17T19:41:01.264Z"
   },
   {
    "duration": 1174,
    "start_time": "2025-03-17T19:48:56.019Z"
   },
   {
    "duration": 1364,
    "start_time": "2025-03-17T19:48:57.195Z"
   },
   {
    "duration": 12,
    "start_time": "2025-03-17T19:48:58.560Z"
   },
   {
    "duration": 77,
    "start_time": "2025-03-17T19:48:58.573Z"
   },
   {
    "duration": 115,
    "start_time": "2025-03-17T19:48:58.653Z"
   },
   {
    "duration": 914,
    "start_time": "2025-03-17T19:48:58.769Z"
   },
   {
    "duration": 7,
    "start_time": "2025-03-17T19:48:59.685Z"
   },
   {
    "duration": 30,
    "start_time": "2025-03-17T19:48:59.693Z"
   },
   {
    "duration": 5,
    "start_time": "2025-03-17T19:48:59.725Z"
   },
   {
    "duration": 14,
    "start_time": "2025-03-17T19:48:59.732Z"
   },
   {
    "duration": 174,
    "start_time": "2025-03-17T19:48:59.747Z"
   },
   {
    "duration": 21,
    "start_time": "2025-03-17T19:48:59.922Z"
   },
   {
    "duration": 16,
    "start_time": "2025-03-17T19:48:59.957Z"
   },
   {
    "duration": 64,
    "start_time": "2025-03-17T19:48:59.975Z"
   },
   {
    "duration": 22,
    "start_time": "2025-03-17T19:49:00.056Z"
   },
   {
    "duration": 243,
    "start_time": "2025-03-17T19:49:00.080Z"
   },
   {
    "duration": 317,
    "start_time": "2025-03-17T19:49:00.324Z"
   },
   {
    "duration": 77,
    "start_time": "2025-03-17T19:49:00.643Z"
   },
   {
    "duration": 45,
    "start_time": "2025-03-17T19:49:00.722Z"
   },
   {
    "duration": 28,
    "start_time": "2025-03-17T19:49:00.769Z"
   },
   {
    "duration": 31,
    "start_time": "2025-03-17T19:49:00.799Z"
   },
   {
    "duration": 64,
    "start_time": "2025-03-17T19:49:00.832Z"
   },
   {
    "duration": 1105,
    "start_time": "2025-03-17T20:48:28.068Z"
   },
   {
    "duration": 1325,
    "start_time": "2025-03-17T20:48:29.175Z"
   },
   {
    "duration": 10,
    "start_time": "2025-03-17T20:48:30.504Z"
   },
   {
    "duration": 25,
    "start_time": "2025-03-17T20:48:30.516Z"
   },
   {
    "duration": 131,
    "start_time": "2025-03-17T20:48:30.542Z"
   },
   {
    "duration": 895,
    "start_time": "2025-03-17T20:48:30.674Z"
   },
   {
    "duration": 7,
    "start_time": "2025-03-17T20:48:31.570Z"
   },
   {
    "duration": 24,
    "start_time": "2025-03-17T20:48:31.578Z"
   },
   {
    "duration": 4,
    "start_time": "2025-03-17T20:48:31.603Z"
   },
   {
    "duration": 9,
    "start_time": "2025-03-17T20:48:31.608Z"
   },
   {
    "duration": 163,
    "start_time": "2025-03-17T20:48:31.619Z"
   },
   {
    "duration": 19,
    "start_time": "2025-03-17T20:48:31.784Z"
   },
   {
    "duration": 13,
    "start_time": "2025-03-17T20:48:31.806Z"
   },
   {
    "duration": 79,
    "start_time": "2025-03-17T20:48:31.820Z"
   },
   {
    "duration": 16,
    "start_time": "2025-03-17T20:48:31.901Z"
   },
   {
    "duration": 60,
    "start_time": "2025-03-17T20:48:31.918Z"
   },
   {
    "duration": 4,
    "start_time": "2025-03-17T20:48:31.980Z"
   },
   {
    "duration": 73,
    "start_time": "2025-03-17T20:48:31.986Z"
   },
   {
    "duration": 34,
    "start_time": "2025-03-17T20:48:32.061Z"
   },
   {
    "duration": 27,
    "start_time": "2025-03-17T20:48:32.096Z"
   },
   {
    "duration": 4,
    "start_time": "2025-03-17T20:48:32.124Z"
   },
   {
    "duration": 69,
    "start_time": "2025-03-17T20:48:32.130Z"
   },
   {
    "duration": 17,
    "start_time": "2025-03-17T20:50:58.134Z"
   },
   {
    "duration": 8,
    "start_time": "2025-03-17T20:51:42.052Z"
   },
   {
    "duration": 17,
    "start_time": "2025-03-17T20:54:20.707Z"
   },
   {
    "duration": 8,
    "start_time": "2025-03-17T20:54:27.106Z"
   },
   {
    "duration": 7,
    "start_time": "2025-03-17T20:54:46.240Z"
   },
   {
    "duration": 16,
    "start_time": "2025-03-17T20:56:55.083Z"
   },
   {
    "duration": 8,
    "start_time": "2025-03-17T20:57:08.816Z"
   },
   {
    "duration": 52,
    "start_time": "2025-03-17T20:59:13.380Z"
   },
   {
    "duration": 103,
    "start_time": "2025-03-17T21:00:14.287Z"
   },
   {
    "duration": 3,
    "start_time": "2025-03-17T21:00:20.421Z"
   },
   {
    "duration": 4,
    "start_time": "2025-03-17T21:00:33.355Z"
   },
   {
    "duration": 4,
    "start_time": "2025-03-17T21:00:39.899Z"
   }
  ],
  "kernelspec": {
   "display_name": "Python 3 (ipykernel)",
   "language": "python",
   "name": "python3"
  },
  "language_info": {
   "codemirror_mode": {
    "name": "ipython",
    "version": 3
   },
   "file_extension": ".py",
   "mimetype": "text/x-python",
   "name": "python",
   "nbconvert_exporter": "python",
   "pygments_lexer": "ipython3",
   "version": "3.13.2"
  },
  "toc": {
   "base_numbering": 1,
   "nav_menu": {},
   "number_sections": false,
   "sideBar": true,
   "skip_h1_title": true,
   "title_cell": "Table of Contents",
   "title_sidebar": "Contents",
   "toc_cell": false,
   "toc_position": {},
   "toc_section_display": true,
   "toc_window_display": false
  }
 },
 "nbformat": 4,
 "nbformat_minor": 4
}
