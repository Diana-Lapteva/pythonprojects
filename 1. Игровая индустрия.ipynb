{
 "cells": [
  {
   "cell_type": "markdown",
   "id": "e06910dd",
   "metadata": {},
   "source": [
    "# Игровая индустрия XXI века: Анализ развития жанров и платформ\n",
    "\n",
    "- Автор: Лаптева Диана Дмитриевна\n",
    "- Дата: 24.11.2024"
   ]
  },
  {
   "cell_type": "markdown",
   "id": "4149134c",
   "metadata": {},
   "source": [
    "### Цели и задачи проекта\n",
    "\n",
    "<font color='#777778'>В данном проекте используется датасет /datasets/new_games.csv, который содержит информацию о продажах игр разных жанров и платформ, а также пользовательские и экспертные оценки игр. На основе датасета изучим развитие игровой индустрии в период с 2000 по 2013 год, выявим ключевые тенденции: популярность жанров, динамику развития игровых платформ и региональные предпочтения,- проведем анализ ролевых игр (RPG) как одного из популярных жанров, чтобы подчеркнуть связь с игрой «Секреты Темнолесья», узнаем как привлечь аудиторию, заинтересованную в истории видеоигр, и повысить узнаваемость бренда игры. Также подготовим данные, проанализируем игровые платформы, изучим жанры, категоризации оценок, проведем обзор культурного влияния. </font>"
   ]
  },
  {
   "cell_type": "markdown",
   "id": "728986ea",
   "metadata": {},
   "source": [
    "### Описание данных\n",
    "\n",
    "<font color='#777778'>В проекте будут использованы данные датасета `new_games.csv` с таким описанием:\n",
    "    \n",
    "- `Name` — название игры;\n",
    "- `Platform` — название платформы;\n",
    "- `Year of Release` — год выпуска игры;\n",
    "- `Genre` — жанр игры;\n",
    "- `NA sales` — продажи в Северной Америке (в миллионах проданных копий);\n",
    "- `EU sales` — продажи в Европе (в миллионах проданных копий);\n",
    "- `JP sales` — продажи в Японии (в миллионах проданных копий);\n",
    "- `Other sales` — продажи в других странах (в миллионах проданных копий);\n",
    "- `Critic Score` — оценка критиков (от 0 до 100);\n",
    "- `User Score` — оценка пользователей (от 0 до 10);\n",
    "- `Rating` — рейтинг организации ESRB (англ. Entertainment Software Rating Board). Эта ассоциация определяет рейтинг компьютерных игр и присваивает им подходящую возрастную категорию.</font>"
   ]
  },
  {
   "cell_type": "markdown",
   "id": "4fecaf95",
   "metadata": {},
   "source": [
    "### Содержимое проекта\n",
    "\n",
    "<font color='#777778'> \n",
    "\n",
    "1. [Загрузка и знакомство с данными.](#1-bullet)   \n",
    "2. [Проверка ошибок в данных и их предобработка.](#2-bullet)\n",
    "3. [Фильтрация данных.](#3-bullet)\n",
    "4. [Категоризация данных.](#4-bullet)\n",
    "5. [Вывод.](#5-bullet)\n",
    "</font>\n",
    "\n",
    "---"
   ]
  },
  {
   "cell_type": "markdown",
   "id": "6f7d21d6",
   "metadata": {},
   "source": [
    "<a class=\"anchor\" id=\"1-bullet\"></a>\n",
    "## 1. Загрузка и знакомство с данными\n",
    "Загрузим необходимые библиотеки для анализа данных и данные из датасета `/datasets/new_games.csv`. Затем выведем основную информацию о данных с помощью метода `info()` и первые строки датафрейма."
   ]
  },
  {
   "cell_type": "code",
   "execution_count": 1,
   "id": "ce87c1db",
   "metadata": {},
   "outputs": [],
   "source": [
    "# Импотируем библиотку pandas\n",
    "import pandas as pd"
   ]
  },
  {
   "cell_type": "code",
   "execution_count": 2,
   "id": "90fee493",
   "metadata": {},
   "outputs": [],
   "source": [
    "# Выгружаем данные из датасета new_games.csv в датафрейм games\n",
    "games = pd.read_csv('https://code.s3.yandex.net/datasets/new_games.csv')"
   ]
  },
  {
   "cell_type": "code",
   "execution_count": 3,
   "id": "ef07ad3a",
   "metadata": {},
   "outputs": [
    {
     "name": "stdout",
     "output_type": "stream",
     "text": [
      "<class 'pandas.core.frame.DataFrame'>\n",
      "RangeIndex: 16956 entries, 0 to 16955\n",
      "Data columns (total 11 columns):\n",
      " #   Column           Non-Null Count  Dtype  \n",
      "---  ------           --------------  -----  \n",
      " 0   Name             16954 non-null  object \n",
      " 1   Platform         16956 non-null  object \n",
      " 2   Year of Release  16681 non-null  float64\n",
      " 3   Genre            16954 non-null  object \n",
      " 4   NA sales         16956 non-null  float64\n",
      " 5   EU sales         16956 non-null  object \n",
      " 6   JP sales         16956 non-null  object \n",
      " 7   Other sales      16956 non-null  float64\n",
      " 8   Critic Score     8242 non-null   float64\n",
      " 9   User Score       10152 non-null  object \n",
      " 10  Rating           10085 non-null  object \n",
      "dtypes: float64(4), object(7)\n",
      "memory usage: 1.4+ MB\n"
     ]
    }
   ],
   "source": [
    "# Выводим информацию о датафрейме\n",
    "games.info()"
   ]
  },
  {
   "cell_type": "markdown",
   "id": "58737519",
   "metadata": {},
   "source": [
    "Изучим первые 15 строчек датафрейма"
   ]
  },
  {
   "cell_type": "code",
   "execution_count": 4,
   "id": "99d859f0",
   "metadata": {},
   "outputs": [
    {
     "data": {
      "text/html": [
       "<div>\n",
       "<style scoped>\n",
       "    .dataframe tbody tr th:only-of-type {\n",
       "        vertical-align: middle;\n",
       "    }\n",
       "\n",
       "    .dataframe tbody tr th {\n",
       "        vertical-align: top;\n",
       "    }\n",
       "\n",
       "    .dataframe thead th {\n",
       "        text-align: right;\n",
       "    }\n",
       "</style>\n",
       "<table border=\"1\" class=\"dataframe\">\n",
       "  <thead>\n",
       "    <tr style=\"text-align: right;\">\n",
       "      <th></th>\n",
       "      <th>Name</th>\n",
       "      <th>Platform</th>\n",
       "      <th>Year of Release</th>\n",
       "      <th>Genre</th>\n",
       "      <th>NA sales</th>\n",
       "      <th>EU sales</th>\n",
       "      <th>JP sales</th>\n",
       "      <th>Other sales</th>\n",
       "      <th>Critic Score</th>\n",
       "      <th>User Score</th>\n",
       "      <th>Rating</th>\n",
       "    </tr>\n",
       "  </thead>\n",
       "  <tbody>\n",
       "    <tr>\n",
       "      <th>0</th>\n",
       "      <td>Wii Sports</td>\n",
       "      <td>Wii</td>\n",
       "      <td>2006.0</td>\n",
       "      <td>Sports</td>\n",
       "      <td>41.36</td>\n",
       "      <td>28.96</td>\n",
       "      <td>3.77</td>\n",
       "      <td>8.45</td>\n",
       "      <td>76.0</td>\n",
       "      <td>8</td>\n",
       "      <td>E</td>\n",
       "    </tr>\n",
       "    <tr>\n",
       "      <th>1</th>\n",
       "      <td>Super Mario Bros.</td>\n",
       "      <td>NES</td>\n",
       "      <td>1985.0</td>\n",
       "      <td>Platform</td>\n",
       "      <td>29.08</td>\n",
       "      <td>3.58</td>\n",
       "      <td>6.81</td>\n",
       "      <td>0.77</td>\n",
       "      <td>NaN</td>\n",
       "      <td>NaN</td>\n",
       "      <td>NaN</td>\n",
       "    </tr>\n",
       "    <tr>\n",
       "      <th>2</th>\n",
       "      <td>Mario Kart Wii</td>\n",
       "      <td>Wii</td>\n",
       "      <td>2008.0</td>\n",
       "      <td>Racing</td>\n",
       "      <td>15.68</td>\n",
       "      <td>12.76</td>\n",
       "      <td>3.79</td>\n",
       "      <td>3.29</td>\n",
       "      <td>82.0</td>\n",
       "      <td>8.3</td>\n",
       "      <td>E</td>\n",
       "    </tr>\n",
       "    <tr>\n",
       "      <th>3</th>\n",
       "      <td>Wii Sports Resort</td>\n",
       "      <td>Wii</td>\n",
       "      <td>2009.0</td>\n",
       "      <td>Sports</td>\n",
       "      <td>15.61</td>\n",
       "      <td>10.93</td>\n",
       "      <td>3.28</td>\n",
       "      <td>2.95</td>\n",
       "      <td>80.0</td>\n",
       "      <td>8</td>\n",
       "      <td>E</td>\n",
       "    </tr>\n",
       "    <tr>\n",
       "      <th>4</th>\n",
       "      <td>Pokemon Red/Pokemon Blue</td>\n",
       "      <td>GB</td>\n",
       "      <td>1996.0</td>\n",
       "      <td>Role-Playing</td>\n",
       "      <td>11.27</td>\n",
       "      <td>8.89</td>\n",
       "      <td>10.22</td>\n",
       "      <td>1.00</td>\n",
       "      <td>NaN</td>\n",
       "      <td>NaN</td>\n",
       "      <td>NaN</td>\n",
       "    </tr>\n",
       "    <tr>\n",
       "      <th>5</th>\n",
       "      <td>Tetris</td>\n",
       "      <td>GB</td>\n",
       "      <td>1989.0</td>\n",
       "      <td>Puzzle</td>\n",
       "      <td>23.20</td>\n",
       "      <td>2.26</td>\n",
       "      <td>4.22</td>\n",
       "      <td>0.58</td>\n",
       "      <td>NaN</td>\n",
       "      <td>NaN</td>\n",
       "      <td>NaN</td>\n",
       "    </tr>\n",
       "    <tr>\n",
       "      <th>6</th>\n",
       "      <td>New Super Mario Bros.</td>\n",
       "      <td>DS</td>\n",
       "      <td>2006.0</td>\n",
       "      <td>Platform</td>\n",
       "      <td>11.28</td>\n",
       "      <td>9.14</td>\n",
       "      <td>6.5</td>\n",
       "      <td>2.88</td>\n",
       "      <td>89.0</td>\n",
       "      <td>8.5</td>\n",
       "      <td>E</td>\n",
       "    </tr>\n",
       "    <tr>\n",
       "      <th>7</th>\n",
       "      <td>Wii Play</td>\n",
       "      <td>Wii</td>\n",
       "      <td>2006.0</td>\n",
       "      <td>Misc</td>\n",
       "      <td>13.96</td>\n",
       "      <td>9.18</td>\n",
       "      <td>2.93</td>\n",
       "      <td>2.84</td>\n",
       "      <td>58.0</td>\n",
       "      <td>6.6</td>\n",
       "      <td>E</td>\n",
       "    </tr>\n",
       "    <tr>\n",
       "      <th>8</th>\n",
       "      <td>New Super Mario Bros. Wii</td>\n",
       "      <td>Wii</td>\n",
       "      <td>2009.0</td>\n",
       "      <td>Platform</td>\n",
       "      <td>14.44</td>\n",
       "      <td>6.94</td>\n",
       "      <td>4.7</td>\n",
       "      <td>2.24</td>\n",
       "      <td>87.0</td>\n",
       "      <td>8.4</td>\n",
       "      <td>E</td>\n",
       "    </tr>\n",
       "    <tr>\n",
       "      <th>9</th>\n",
       "      <td>Duck Hunt</td>\n",
       "      <td>NES</td>\n",
       "      <td>1984.0</td>\n",
       "      <td>Shooter</td>\n",
       "      <td>26.93</td>\n",
       "      <td>0.63</td>\n",
       "      <td>0.28</td>\n",
       "      <td>0.47</td>\n",
       "      <td>NaN</td>\n",
       "      <td>NaN</td>\n",
       "      <td>NaN</td>\n",
       "    </tr>\n",
       "    <tr>\n",
       "      <th>10</th>\n",
       "      <td>Nintendogs</td>\n",
       "      <td>DS</td>\n",
       "      <td>2005.0</td>\n",
       "      <td>Simulation</td>\n",
       "      <td>9.05</td>\n",
       "      <td>10.95</td>\n",
       "      <td>1.93</td>\n",
       "      <td>2.74</td>\n",
       "      <td>NaN</td>\n",
       "      <td>NaN</td>\n",
       "      <td>NaN</td>\n",
       "    </tr>\n",
       "    <tr>\n",
       "      <th>11</th>\n",
       "      <td>Mario Kart DS</td>\n",
       "      <td>DS</td>\n",
       "      <td>2005.0</td>\n",
       "      <td>Racing</td>\n",
       "      <td>9.71</td>\n",
       "      <td>7.47</td>\n",
       "      <td>4.13</td>\n",
       "      <td>1.90</td>\n",
       "      <td>91.0</td>\n",
       "      <td>8.6</td>\n",
       "      <td>E</td>\n",
       "    </tr>\n",
       "    <tr>\n",
       "      <th>12</th>\n",
       "      <td>Pokemon Gold/Pokemon Silver</td>\n",
       "      <td>GB</td>\n",
       "      <td>1999.0</td>\n",
       "      <td>Role-Playing</td>\n",
       "      <td>9.00</td>\n",
       "      <td>6.18</td>\n",
       "      <td>7.2</td>\n",
       "      <td>0.71</td>\n",
       "      <td>NaN</td>\n",
       "      <td>NaN</td>\n",
       "      <td>NaN</td>\n",
       "    </tr>\n",
       "    <tr>\n",
       "      <th>13</th>\n",
       "      <td>Wii Fit</td>\n",
       "      <td>Wii</td>\n",
       "      <td>2007.0</td>\n",
       "      <td>Sports</td>\n",
       "      <td>8.92</td>\n",
       "      <td>8.03</td>\n",
       "      <td>3.6</td>\n",
       "      <td>2.15</td>\n",
       "      <td>80.0</td>\n",
       "      <td>7.7</td>\n",
       "      <td>E</td>\n",
       "    </tr>\n",
       "    <tr>\n",
       "      <th>14</th>\n",
       "      <td>Kinect Adventures!</td>\n",
       "      <td>X360</td>\n",
       "      <td>2010.0</td>\n",
       "      <td>Misc</td>\n",
       "      <td>15.00</td>\n",
       "      <td>4.89</td>\n",
       "      <td>0.24</td>\n",
       "      <td>1.69</td>\n",
       "      <td>61.0</td>\n",
       "      <td>6.3</td>\n",
       "      <td>E</td>\n",
       "    </tr>\n",
       "  </tbody>\n",
       "</table>\n",
       "</div>"
      ],
      "text/plain": [
       "                           Name Platform  Year of Release         Genre  \\\n",
       "0                    Wii Sports      Wii           2006.0        Sports   \n",
       "1             Super Mario Bros.      NES           1985.0      Platform   \n",
       "2                Mario Kart Wii      Wii           2008.0        Racing   \n",
       "3             Wii Sports Resort      Wii           2009.0        Sports   \n",
       "4      Pokemon Red/Pokemon Blue       GB           1996.0  Role-Playing   \n",
       "5                        Tetris       GB           1989.0        Puzzle   \n",
       "6         New Super Mario Bros.       DS           2006.0      Platform   \n",
       "7                      Wii Play      Wii           2006.0          Misc   \n",
       "8     New Super Mario Bros. Wii      Wii           2009.0      Platform   \n",
       "9                     Duck Hunt      NES           1984.0       Shooter   \n",
       "10                   Nintendogs       DS           2005.0    Simulation   \n",
       "11                Mario Kart DS       DS           2005.0        Racing   \n",
       "12  Pokemon Gold/Pokemon Silver       GB           1999.0  Role-Playing   \n",
       "13                      Wii Fit      Wii           2007.0        Sports   \n",
       "14           Kinect Adventures!     X360           2010.0          Misc   \n",
       "\n",
       "    NA sales EU sales JP sales  Other sales  Critic Score User Score Rating  \n",
       "0      41.36    28.96     3.77         8.45          76.0          8      E  \n",
       "1      29.08     3.58     6.81         0.77           NaN        NaN    NaN  \n",
       "2      15.68    12.76     3.79         3.29          82.0        8.3      E  \n",
       "3      15.61    10.93     3.28         2.95          80.0          8      E  \n",
       "4      11.27     8.89    10.22         1.00           NaN        NaN    NaN  \n",
       "5      23.20     2.26     4.22         0.58           NaN        NaN    NaN  \n",
       "6      11.28     9.14      6.5         2.88          89.0        8.5      E  \n",
       "7      13.96     9.18     2.93         2.84          58.0        6.6      E  \n",
       "8      14.44     6.94      4.7         2.24          87.0        8.4      E  \n",
       "9      26.93     0.63     0.28         0.47           NaN        NaN    NaN  \n",
       "10      9.05    10.95     1.93         2.74           NaN        NaN    NaN  \n",
       "11      9.71     7.47     4.13         1.90          91.0        8.6      E  \n",
       "12      9.00     6.18      7.2         0.71           NaN        NaN    NaN  \n",
       "13      8.92     8.03      3.6         2.15          80.0        7.7      E  \n",
       "14     15.00     4.89     0.24         1.69          61.0        6.3      E  "
      ]
     },
     "execution_count": 4,
     "metadata": {},
     "output_type": "execute_result"
    }
   ],
   "source": [
    "games.head(15)"
   ]
  },
  {
   "cell_type": "markdown",
   "id": "203129fa",
   "metadata": {},
   "source": [
    "Пропуски обнаружены в 6 столбцах из 11. Особенно критичны пропуски в оценках (Critic Score, User Score) и рейтинге (Rating), поскольку отсутствие данных в этих столбцах усложняет оценку качества игр.\n",
    "\n",
    "Обнаружены несоответствия типов данных:\n",
    "Year of Release представлен как float64, а должен быть int64.\n",
    "EU sales, JP sales и User Score имеют тип object, хотя должны быть числовыми, это может означать наличие некорректных данных (например, текстовых значений).\n",
    "\n",
    "Некоторые названия столбцов не приведены к единому стилю. Например, в Year of Release используются пробелы вместо подчёркиваний, а другие столбцы, такие как NA sales, имеют сокращения. Это может затруднить работу с данными.\n",
    "\n",
    "Исходя из первых 15 строк датафрейма, можно заметить, что игры с высокими пользовательскими оценками, как правило, коррелируют с хорошими продажами; некоторые игры продаются хорошо, но имеют низкие оценки, что может указывать на маркетинговую успешность, несмотря на слабую репутацию."
   ]
  },
  {
   "cell_type": "markdown",
   "id": "774bf76e",
   "metadata": {},
   "source": [
    "---\n",
    "<a class=\"anchor\" id=\"2-bullet\"></a>\n",
    "\n",
    "## 2.  Проверка ошибок в данных и их предобработка\n",
    "\n",
    "\n",
    "### 2.1. Названия, или метки, столбцов датафрейма: \n",
    "\n",
    "Проанализируем названия всех столбцов датафрейма и приведем их к единому стилю."
   ]
  },
  {
   "cell_type": "code",
   "execution_count": 5,
   "id": "b9276a2b",
   "metadata": {},
   "outputs": [
    {
     "data": {
      "text/plain": [
       "Index(['Name', 'Platform', 'Year of Release', 'Genre', 'NA sales', 'EU sales',\n",
       "       'JP sales', 'Other sales', 'Critic Score', 'User Score', 'Rating'],\n",
       "      dtype='object')"
      ]
     },
     "execution_count": 5,
     "metadata": {},
     "output_type": "execute_result"
    }
   ],
   "source": [
    "# выведем названия столбцов\n",
    "games.columns"
   ]
  },
  {
   "cell_type": "code",
   "execution_count": 6,
   "id": "d554563c",
   "metadata": {},
   "outputs": [],
   "source": [
    "# приведем к единому стилю\n",
    "games.columns = games.columns.str.lower().str.replace(' ', '_')"
   ]
  },
  {
   "cell_type": "code",
   "execution_count": 8,
   "id": "252df161",
   "metadata": {},
   "outputs": [
    {
     "data": {
      "text/plain": [
       "Index(['name', 'platform', 'year_of_release', 'genre', 'na_sales', 'eu_sales',\n",
       "       'jp_sales', 'other_sales', 'critic_score', 'user_score', 'rating'],\n",
       "      dtype='object')"
      ]
     },
     "execution_count": 8,
     "metadata": {},
     "output_type": "execute_result"
    }
   ],
   "source": [
    "# выведем обновленные названия столбцов\n",
    "games.columns"
   ]
  },
  {
   "cell_type": "markdown",
   "id": "82848b05",
   "metadata": {},
   "source": [
    "Названия столбцов приведены к единому стилю, что повышает читаемость и удобство работы."
   ]
  },
  {
   "cell_type": "markdown",
   "id": "41bc6bf8",
   "metadata": {},
   "source": [
    "### 2.2. Типы данных: \n",
    "\n",
    "В следующих столбцах обнаружены некорректные типы данных:\n",
    "\n",
    "- year_of_release — тип float64, хотя для года логичнее использовать int64. Причина: пропуски (NaN) в данных.\n",
    "\n",
    "\n",
    "- eu_sales, jp_sales, user_score — тип object, хотя должны быть числовыми (float64). Причина: наличие строковых значений, например, unknown или пустых строк.\n",
    "\n",
    "Преобразуем типы данных."
   ]
  },
  {
   "cell_type": "markdown",
   "id": "397ee7de",
   "metadata": {},
   "source": [
    "Ознакомимся с типами данных датафрейма при помощи метода df.dtypes"
   ]
  },
  {
   "cell_type": "code",
   "execution_count": 9,
   "id": "596c102a",
   "metadata": {},
   "outputs": [
    {
     "data": {
      "text/plain": [
       "name                object\n",
       "platform            object\n",
       "year_of_release    float64\n",
       "genre               object\n",
       "na_sales           float64\n",
       "eu_sales            object\n",
       "jp_sales            object\n",
       "other_sales        float64\n",
       "critic_score       float64\n",
       "user_score          object\n",
       "rating              object\n",
       "dtype: object"
      ]
     },
     "execution_count": 9,
     "metadata": {},
     "output_type": "execute_result"
    }
   ],
   "source": [
    "# Выведем типы данных\n",
    "games.dtypes"
   ]
  },
  {
   "cell_type": "markdown",
   "id": "0a7ba771",
   "metadata": {},
   "source": [
    "Некоторые столбцы имеют нехарактерный тип данных для информации, которую они хранят.\n",
    "\n",
    "Изучим с чем это может быть связано. Выведем уникальные значения по таким столбцам."
   ]
  },
  {
   "cell_type": "code",
   "execution_count": 10,
   "id": "9a562ee5",
   "metadata": {},
   "outputs": [
    {
     "name": "stdout",
     "output_type": "stream",
     "text": [
      "['28.96' '3.58' '12.76' '10.93' '8.89' '2.26' '9.14' '9.18' '6.94' '0.63'\n",
      " '10.95' '7.47' '6.18' '8.03' '4.89' '8.49' '9.09' '0.4' '3.75' '9.2'\n",
      " '4.46' '2.71' '3.44' '5.14' '5.49' '3.9' '5.35' '3.17' '5.09' '4.24'\n",
      " '5.04' '5.86' '3.68' '4.19' '5.73' '3.59' '4.51' '2.55' '4.02' '4.37'\n",
      " '6.31' '3.45' '2.81' '2.85' '3.49' '0.01' '3.35' '2.04' '3.07' '3.87'\n",
      " '3.0' '4.82' '3.64' '2.15' '3.69' '2.65' '2.56' '3.11' '3.14' '1.94'\n",
      " '1.95' '2.47' '2.28' '3.42' '3.63' '2.36' '1.71' '1.85' '2.79' '1.24'\n",
      " '6.12' '1.53' '3.47' '2.24' '5.01' '2.01' '1.72' '2.07' '6.42' '3.86'\n",
      " '0.45' '3.48' '1.89' '5.75' '2.17' '1.37' '2.35' '1.18' '2.11' '1.88'\n",
      " '2.83' '2.99' '2.89' '3.27' '2.22' '2.14' '1.45' '1.75' '1.04' '1.77'\n",
      " '3.02' '2.75' '2.16' '1.9' '2.59' '2.2' '4.3' '0.93' '2.53' '2.52' '1.79'\n",
      " '1.3' '2.6' '1.58' '1.2' '1.56' '1.34' '1.26' '0.83' '6.21' '2.8' '1.59'\n",
      " '1.73' '4.33' '1.83' '0.0' '2.18' '1.98' '1.47' '0.67' '1.55' '1.91'\n",
      " '0.69' '0.6' '1.93' '1.64' '0.55' '2.19' '1.11' '2.29' '2.5' '0.96'\n",
      " '1.21' '1.12' '0.77' '1.69' '1.08' '0.79' '2.37' '2.46' '0.26' '0.75'\n",
      " '1.25' '2.43' '0.98' '0.74' '2.23' '0.61' '2.45' '1.41' '1.8' '3.28'\n",
      " '1.16' '1.99' '1.38' '1.36' '1.17' '1.19' '0.99' '1.68' '2.0' '1.33'\n",
      " '1.57' '1.48' '2.1' '1.27' '1.97' '0.91' '1.39' '1.96' '0.24' '1.51'\n",
      " '0.14' '1.29' '2.39' '1.03' '0.5' '0.58' '1.31' '2.02' '1.32' '1.01'\n",
      " '2.27' '2.3' '1.82' '2.78' '0.44' '0.48' '0.27' '0.21' '2.48' '0.51'\n",
      " '1.52' '0.04' '0.28' '1.35' '0.87' '2.13' '1.13' '1.76' '0.76' '2.12'\n",
      " '0.66' '1.6' '1.44' '1.43' '1.7' '0.47' '1.87' '0.86' '0.73' '1.28'\n",
      " '0.81' '1.09' '0.68' '1.22' '1.4' '1.02' '1.49' '1.14' '0.49' '0.9'\n",
      " '0.38' '1.42' '0.95' '1.62' '0.71' '1.05' '0.92' '0.33' '0.3' '1.67'\n",
      " '1.0' '0.89' '0.1' '0.72' '0.59' '0.56' '0.16' '0.97' '0.62' 'unknown'\n",
      " '0.85' '0.94' '0.88' '0.84' '1.06' '0.2' '1.15' '0.8' '1.1' '0.7' '1.92'\n",
      " '0.32' '0.15' '0.53' '0.09' '1.46' '0.29' '0.22' '1.23' '0.07' '0.17'\n",
      " '0.54' '0.36' '0.31' '1.84' '0.52' '0.11' '0.64' '0.12' '2.05' '1.63'\n",
      " '0.82' '0.08' '0.57' '1.65' '0.19' '0.02' '0.43' '0.25' '1.5' '0.18'\n",
      " '0.39' '0.13' '1.07' '0.46' '0.41' '0.06' '0.03' '0.37' '0.05' '0.23'\n",
      " '0.65' '0.42' '0.34' '0.35' '0.78']\n",
      "['3.77' '6.81' '3.79' '3.28' '10.22' '4.22' '6.5' '2.93' '4.7' '0.28'\n",
      " '1.93' '4.13' '7.2' '3.6' '0.24' '2.53' '0.98' '0.41' '3.54' '4.16'\n",
      " '6.04' '4.18' '3.84' '0.06' '0.47' '5.38' '5.32' '5.65' '1.87' '0.13'\n",
      " '3.12' '0.36' '0.11' '4.35' '0.65' '0.07' '0.08' '0.49' '0.3' '2.66'\n",
      " '2.69' '0.48' '0.38' '5.33' '1.91' '3.96' '3.1' '1.1' '1.2' '0.14' '2.54'\n",
      " '2.14' '0.81' '2.12' '0.44' '3.15' '1.25' '0.04' '0.0' '2.47' '2.23'\n",
      " '1.69' '0.01' '3.0' '0.02' '4.39' '1.98' '0.1' '3.81' '0.05' '2.49'\n",
      " '1.58' '3.14' '2.73' '0.66' '0.22' '3.63' '1.45' '1.31' '2.43' '0.7'\n",
      " '0.35' '1.4' '0.6' '2.26' '1.42' '1.28' '1.39' '0.87' '0.17' '0.94'\n",
      " '0.19' '0.21' '1.6' '0.16' '1.03' '0.25' '2.06' '1.49' '1.29' '0.09'\n",
      " '2.87' '0.03' '0.78' '0.83' '2.33' '2.02' '1.36' '1.81' '1.97' '0.91'\n",
      " '0.99' '0.95' '2.0' '1.01' '2.78' '2.11' '1.09' '0.2' '1.9' '1.27' '3.61'\n",
      " '1.57' '2.2' '1.7' '1.08' '0.15' '1.11' '0.29' '1.54' '0.12' '0.89'\n",
      " '4.87' '1.52' '1.32' '1.15' '4.1' '1.46' '0.46' '1.05' '1.61' '0.26'\n",
      " '1.38' '0.62' '0.73' '0.57' '0.31' '0.58' '1.76' '2.1' '0.9' '0.51'\n",
      " '0.64' '2.46' '0.23' '0.37' '0.92' '1.07' '2.62' '1.12' '0.54' '0.27'\n",
      " '0.59' '3.67' '0.55' '1.75' '3.44' '0.33' '2.55' '2.32' '2.79' '0.74'\n",
      " '3.18' '0.82' '0.77' '0.4' '2.35' '3.19' '0.8' '0.76' '3.03' '0.88'\n",
      " 'unknown' '0.45' '1.16' '0.34' '1.19' '1.13' '2.13' '1.96' '0.71' '1.04'\n",
      " '2.68' '0.68' '2.65' '0.96' '2.41' '0.52' '0.18' '1.34' '1.48' '2.34'\n",
      " '1.06' '1.21' '2.29' '1.63' '2.05' '2.17' '1.56' '1.35' '1.33' '0.63'\n",
      " '0.79' '0.75' '0.53' '1.53' '1.3' '0.39' '0.69' '0.42' '0.93' '0.56'\n",
      " '0.84' '0.72' '0.32' '1.71' '1.65' '0.61' '1.51' '1.5' '1.44' '1.24'\n",
      " '1.18' '1.37' '1.0' '1.26' '0.85' '0.43' '0.67' '1.14' '0.86' '1.17'\n",
      " '0.5' '1.02' '0.97']\n",
      "['8' nan '8.3' '8.5' '6.6' '8.4' '8.6' '7.7' '6.3' '7.4' '8.2' '9' '7.9'\n",
      " '8.1' '8.7' '7.1' '3.4' '5.3' '4.8' '3.2' '8.9' '6.4' '7.8' '7.5' '2.6'\n",
      " '7.2' '9.2' '7' '7.3' '4.3' '7.6' '5.7' '5' '9.1' '6.5' 'tbd' '8.8' '6.9'\n",
      " '9.4' '6.8' '6.1' '6.7' '5.4' '4' '4.9' '4.5' '9.3' '6.2' '4.2' '6' '3.7'\n",
      " '4.1' '5.8' '5.6' '5.5' '4.4' '4.6' '5.9' '3.9' '3.1' '2.9' '5.2' '3.3'\n",
      " '4.7' '5.1' '3.5' '2.5' '1.9' '3' '2.7' '2.2' '2' '9.5' '2.1' '3.6' '2.8'\n",
      " '1.8' '3.8' '0' '1.6' '9.6' '2.4' '1.7' '1.1' '0.3' '1.5' '0.7' '1.2'\n",
      " '2.3' '0.5' '1.3' '0.2' '0.6' '1.4' '0.9' '1' '9.7']\n",
      "[2006. 1985. 2008. 2009. 1996. 1989. 1984. 2005. 1999. 2007. 2010. 2013.\n",
      " 2004. 1990. 1988. 2002. 2001. 2011. 1998. 2015. 2012. 2014. 1992. 1997.\n",
      " 1993. 1994. 1982. 2016. 2003. 1986. 2000.   nan 1995. 1991. 1981. 1987.\n",
      " 1980. 1983.]\n"
     ]
    }
   ],
   "source": [
    "# Проверим уникальные значения\n",
    "unique_eu_sales = games['eu_sales'].unique() \n",
    "print(unique_eu_sales) \n",
    "unique_jp_sales = games['jp_sales'].unique() \n",
    "print(unique_jp_sales) \n",
    "unique_user_score = games['user_score'].unique() \n",
    "print(unique_user_score) \n",
    "unique_year_of_release = games['year_of_release'].unique() \n",
    "print(unique_year_of_release) "
   ]
  },
  {
   "cell_type": "markdown",
   "id": "761d291b",
   "metadata": {},
   "source": [
    "В столбцах eu_sales, jp_sales, user_score присутствуют такие значения, как \"unknown\" и \"tbd\", что и повлияло на тип данных столбцов.\n",
    "\n",
    "В столбце year_of_release есть пропущенные значения, что делает его тип данных нецелочисленным"
   ]
  },
  {
   "cell_type": "code",
   "execution_count": 11,
   "id": "8adaac81",
   "metadata": {},
   "outputs": [],
   "source": [
    "#Заменим текстовые значения на NaN, приведем к типу float64.\n",
    "games['eu_sales'] = pd.to_numeric(games['eu_sales'], errors='coerce')\n",
    "games['jp_sales'] = pd.to_numeric(games['jp_sales'], errors='coerce')\n",
    "games['user_score'] = pd.to_numeric(games['user_score'], errors='coerce')"
   ]
  },
  {
   "cell_type": "code",
   "execution_count": 12,
   "id": "e8412c01",
   "metadata": {},
   "outputs": [],
   "source": [
    "# Преобразуем тип year_of_release\n",
    "games['year_of_release'] = games['year_of_release'].astype('Int64')"
   ]
  },
  {
   "cell_type": "code",
   "execution_count": 13,
   "id": "9e53cff4",
   "metadata": {},
   "outputs": [
    {
     "name": "stdout",
     "output_type": "stream",
     "text": [
      "<class 'pandas.core.frame.DataFrame'>\n",
      "RangeIndex: 16956 entries, 0 to 16955\n",
      "Data columns (total 11 columns):\n",
      " #   Column           Non-Null Count  Dtype  \n",
      "---  ------           --------------  -----  \n",
      " 0   name             16954 non-null  object \n",
      " 1   platform         16956 non-null  object \n",
      " 2   year_of_release  16681 non-null  Int64  \n",
      " 3   genre            16954 non-null  object \n",
      " 4   na_sales         16956 non-null  float64\n",
      " 5   eu_sales         16950 non-null  float64\n",
      " 6   jp_sales         16952 non-null  float64\n",
      " 7   other_sales      16956 non-null  float64\n",
      " 8   critic_score     8242 non-null   float64\n",
      " 9   user_score       7688 non-null   float64\n",
      " 10  rating           10085 non-null  object \n",
      "dtypes: Int64(1), float64(6), object(4)\n",
      "memory usage: 1.4+ MB\n",
      "None\n"
     ]
    }
   ],
   "source": [
    "# Проверка результатов преобразования типов\n",
    "print(games.info())"
   ]
  },
  {
   "cell_type": "markdown",
   "id": "3bf38be8",
   "metadata": {},
   "source": [
    "Эти преобразования обеспечат корректность и удобство работы с данными, уменьшат вероятность ошибок и позволят использовать методы анализа, которые требуют числовых типов данных."
   ]
  },
  {
   "cell_type": "markdown",
   "id": "b39893cb",
   "metadata": {},
   "source": [
    "### 2.3. Наличие пропусков в данных: \n",
    "\n",
    "- Посчитаем количество пропусков в каждом столбце в абсолютных и относительных значениях.\n",
    "- Изучим данные с пропущенными значениями.\n",
    "- Обработаем пропущенные значения. "
   ]
  },
  {
   "cell_type": "code",
   "execution_count": 14,
   "id": "0f1c91a8",
   "metadata": {},
   "outputs": [
    {
     "name": "stdout",
     "output_type": "stream",
     "text": [
      "name                  2\n",
      "platform              0\n",
      "year_of_release     275\n",
      "genre                 2\n",
      "na_sales              0\n",
      "eu_sales              6\n",
      "jp_sales              4\n",
      "other_sales           0\n",
      "critic_score       8714\n",
      "user_score         9268\n",
      "rating             6871\n",
      "dtype: int64\n",
      "name               0.000118\n",
      "platform           0.000000\n",
      "year_of_release    0.016218\n",
      "genre              0.000118\n",
      "na_sales           0.000000\n",
      "eu_sales           0.000354\n",
      "jp_sales           0.000236\n",
      "other_sales        0.000000\n",
      "critic_score       0.513918\n",
      "user_score         0.546591\n",
      "rating             0.405225\n",
      "dtype: float64\n"
     ]
    }
   ],
   "source": [
    "print(games.isna().sum()) # количество пропусков\n",
    "print(games.isna().sum() / len(games)) # доля пропусков"
   ]
  },
  {
   "cell_type": "markdown",
   "id": "12f947f2",
   "metadata": {},
   "source": [
    "- В столбцах name и genre незначительное количество пропусков, следовательно пропуски можно удалить.\n",
    "\n",
    "- В столбце year_of_release 1.62% пропусков, они могли возникнуть из-за отсутствия информации об играх. Количество пропусков умеренное, можно удалить, на анализ критично не повлияет.\n",
    "\n",
    "- В столбцах eu_sales и jp_sales пропуски могут быть связаны с отсутствием данных о продажах в этих регионах. Можно заполнить их средним значением, сгруппированным по платформе и году выпуска игры.\n",
    "\n",
    "- В столбцах critic_score и user_score значительное число пропусков (51.36% и 54.66% соответственно). Не все игры получили оценки. Учитывая их объем, можно заменить на индикаторное значение, чтобы не исказить данные.\n",
    "\n",
    "- В столбце rating 40.52% пропусков — они связаны с отсутствием присвоенного рейтинга ESRB. Можно заменить их на индикаторное значение."
   ]
  },
  {
   "cell_type": "code",
   "execution_count": 15,
   "id": "2784c760",
   "metadata": {},
   "outputs": [],
   "source": [
    "# Удалим строки с пропусками\n",
    "games = games.dropna(subset=['name', 'genre', 'year_of_release'])"
   ]
  },
  {
   "cell_type": "code",
   "execution_count": 18,
   "id": "48df370d",
   "metadata": {},
   "outputs": [],
   "source": [
    "# Заменим пропуски на средние значения по платформе и году выпуска\n",
    "for col in ['eu_sales', 'jp_sales']:\n",
    "    games[col] = games[col].fillna(\n",
    "        games.groupby(['platform', 'year_of_release'])[col].transform('mean')\n",
    "    )"
   ]
  },
  {
   "cell_type": "code",
   "execution_count": 19,
   "id": "8e19ec3a",
   "metadata": {},
   "outputs": [],
   "source": [
    "# Заменим пропуски на индикаторное значение\n",
    "games['critic_score'] = games['critic_score'].fillna(-1)\n",
    "games['user_score'] = games['user_score'].fillna(-1)"
   ]
  },
  {
   "cell_type": "code",
   "execution_count": 20,
   "id": "1b59b9e0",
   "metadata": {},
   "outputs": [],
   "source": [
    "# Заменим пропуски на 'unknown'\n",
    "games['rating'] = games['rating'].fillna('unknown')"
   ]
  },
  {
   "cell_type": "code",
   "execution_count": 21,
   "id": "e7094086",
   "metadata": {},
   "outputs": [
    {
     "name": "stdout",
     "output_type": "stream",
     "text": [
      "name               0\n",
      "platform           0\n",
      "year_of_release    0\n",
      "genre              0\n",
      "na_sales           0\n",
      "eu_sales           0\n",
      "jp_sales           0\n",
      "other_sales        0\n",
      "critic_score       0\n",
      "user_score         0\n",
      "rating             0\n",
      "dtype: int64\n"
     ]
    }
   ],
   "source": [
    "# Проверяем результат\n",
    "print(games.isna().sum())"
   ]
  },
  {
   "cell_type": "markdown",
   "id": "4d0c9c59",
   "metadata": {},
   "source": [
    "Причины возникновения пропусков могут быть следующими:\n",
    "\n",
    "- name и genre: некорректно заполненные данные при ручном вводе или ошибка выгрузки данных.\n",
    "  \n",
    "- year_of_release: Пропуски могли возникнуть из-за отсутствия информации о выпуске старых игр или при сборе данных.\n",
    "\n",
    "  \n",
    "- eu_sales и jp_sales: Пропуски могут быть связаны с отсутствием продаж в определенных регионах.\n",
    "\n",
    "\n",
    "- critic_score и user_score: Пропуски объясняются отсутствием оценок критиков и пользователей для некоторых игр.\n",
    "\n",
    "- rating: Пропуски могли возникнуть из-за отсутствия классификации для некоторых игр, особенно для игр, выпущенных до введения современных стандартов рейтинга."
   ]
  },
  {
   "cell_type": "markdown",
   "id": "19b4881b",
   "metadata": {},
   "source": [
    "После выполнения всех шагов количество пропусков в данных уменьшилось до нуля.\n",
    "\n",
    "Обработка данных была выполнена с целью сохранить целостность информации, минимизировать потери данных и обеспечить возможность дальнейшего анализа."
   ]
  },
  {
   "cell_type": "markdown",
   "id": "a63363fd",
   "metadata": {},
   "source": [
    "### 2.4. Явные и неявные дубликаты в данных: \n",
    "\n",
    "- Изучим уникальные значения в категориальных данных. Проверим, встречаются ли среди данных неявные дубликаты, связанные с опечатками или разным способом написания.\n",
    "- Проведем нормализацию данных с текстовыми значениями. \n",
    "- Устраним неявные дубликаты, проверим наличие явных дубликатов в данных."
   ]
  },
  {
   "cell_type": "code",
   "execution_count": 22,
   "id": "491c9c39",
   "metadata": {},
   "outputs": [
    {
     "name": "stdout",
     "output_type": "stream",
     "text": [
      "уникальные жанры: ['Sports' 'Platform' 'Racing' 'Role-Playing' 'Puzzle' 'Misc' 'Shooter'\n",
      " 'Simulation' 'Action' 'Fighting' 'Adventure' 'Strategy' 'MISC'\n",
      " 'ROLE-PLAYING' 'RACING' 'ACTION' 'SHOOTER' 'FIGHTING' 'SPORTS' 'PLATFORM'\n",
      " 'ADVENTURE' 'SIMULATION' 'PUZZLE' 'STRATEGY']\n",
      "уникальные платформы: ['Wii' 'NES' 'GB' 'DS' 'X360' 'PS3' 'PS2' 'SNES' 'GBA' 'PS4' '3DS' 'N64'\n",
      " 'PS' 'XB' 'PC' '2600' 'PSP' 'XOne' 'WiiU' 'GC' 'GEN' 'DC' 'PSV' 'SAT'\n",
      " 'SCD' 'WS' 'NG' 'TG16' '3DO' 'GG' 'PCFX']\n",
      "уникальный рейтинг: ['E' 'unknown' 'M' 'T' 'E10+' 'K-A' 'AO' 'EC' 'RP']\n",
      "уникальные года выпуска: <IntegerArray>\n",
      "[2006, 1985, 2008, 2009, 1996, 1989, 1984, 2005, 1999, 2007, 2010, 2013, 2004,\n",
      " 1990, 1988, 2002, 2001, 2011, 1998, 2015, 2012, 2014, 1992, 1997, 1993, 1994,\n",
      " 1982, 2016, 2003, 1986, 2000, 1995, 1991, 1981, 1987, 1980, 1983]\n",
      "Length: 37, dtype: Int64\n"
     ]
    }
   ],
   "source": [
    "# Проверим уникальные значения\n",
    "unique_genre = games['genre'].unique() # жанры\n",
    "print(f'уникальные жанры: {unique_genre}') \n",
    "unique_platform = games['platform'].unique() # платформы\n",
    "print(f'уникальные платформы: {unique_platform}') \n",
    "unique_rating = games['rating'].unique()  # рэйтинги\n",
    "print(f'уникальный рейтинг: {unique_rating}')\n",
    "unique_year_of_release = games['year_of_release'].unique() # годы\n",
    "print(f'уникальные года выпуска: {unique_year_of_release}')"
   ]
  },
  {
   "cell_type": "code",
   "execution_count": 23,
   "id": "749a3480",
   "metadata": {},
   "outputs": [],
   "source": [
    "# Приведем жанры и платформы к нижнему регистру\n",
    "games['genre'] = games['genre'].str.lower()\n",
    "games['platform'] = games['platform'].str.lower()\n",
    "\n",
    "# Приведем рейтинги к верхнему регистру\n",
    "games['rating'] = games['rating'].str.upper()"
   ]
  },
  {
   "cell_type": "code",
   "execution_count": 24,
   "id": "fc5c91b5",
   "metadata": {},
   "outputs": [
    {
     "name": "stdout",
     "output_type": "stream",
     "text": [
      "['sports' 'platform' 'racing' 'role-playing' 'puzzle' 'misc' 'shooter'\n",
      " 'simulation' 'action' 'fighting' 'adventure' 'strategy']\n",
      "['wii' 'nes' 'gb' 'ds' 'x360' 'ps3' 'ps2' 'snes' 'gba' 'ps4' '3ds' 'n64'\n",
      " 'ps' 'xb' 'pc' '2600' 'psp' 'xone' 'wiiu' 'gc' 'gen' 'dc' 'psv' 'sat'\n",
      " 'scd' 'ws' 'ng' 'tg16' '3do' 'gg' 'pcfx']\n",
      "['E' 'UNKNOWN' 'M' 'T' 'E10+' 'K-A' 'AO' 'EC' 'RP']\n"
     ]
    }
   ],
   "source": [
    "# сравним обработанные уникальные значения\n",
    "print(games['genre'].unique())  # Проверяем жанры после нормализации\n",
    "print(games['platform'].unique())  # Проверяем платформы после нормализации\n",
    "print(games['rating'].unique())  # Проверяем рейтинги после нормализации"
   ]
  },
  {
   "cell_type": "code",
   "execution_count": 25,
   "id": "4a91add0",
   "metadata": {},
   "outputs": [
    {
     "name": "stdout",
     "output_type": "stream",
     "text": [
      "Количество явных дубликатов: 235\n"
     ]
    }
   ],
   "source": [
    "# Проверим количество дубликатов\n",
    "duplicates_count = games.duplicated().sum()\n",
    "print(f'Количество явных дубликатов: {duplicates_count}')\n",
    "\n",
    "# Удалим дубликаты\n",
    "games = games.drop_duplicates()"
   ]
  },
  {
   "cell_type": "code",
   "execution_count": 26,
   "id": "dee9f00f",
   "metadata": {},
   "outputs": [
    {
     "name": "stdout",
     "output_type": "stream",
     "text": [
      "Удалено строк: 512 (3.02%)\n"
     ]
    }
   ],
   "source": [
    "# Посчитаем количество удаленных строк\n",
    "# Первоначальное количество строк\n",
    "initial_row_count = 16956\n",
    "\n",
    "# Текущее количество строк\n",
    "current_row_count = len(games)\n",
    "\n",
    "# Разница\n",
    "deleted_rows = initial_row_count - current_row_count\n",
    "deleted_percentage = (deleted_rows / initial_row_count) * 100\n",
    "\n",
    "print(f'Удалено строк: {deleted_rows} ({deleted_percentage:.2f}%)')\n"
   ]
  },
  {
   "cell_type": "markdown",
   "id": "20715894",
   "metadata": {},
   "source": [
    "Было обнаружено 235 строк явных дубликатов. В ходе обработки удалено 512 строки, что составило 3.02% всех данных."
   ]
  },
  {
   "cell_type": "markdown",
   "id": "2aed6c80",
   "metadata": {},
   "source": [
    "В результате всех этих шагов данные были очищены и подготовлены для дальнейшего анализа."
   ]
  },
  {
   "cell_type": "code",
   "execution_count": 27,
   "id": "cdf656f9",
   "metadata": {},
   "outputs": [
    {
     "data": {
      "text/html": [
       "<div>\n",
       "<style scoped>\n",
       "    .dataframe tbody tr th:only-of-type {\n",
       "        vertical-align: middle;\n",
       "    }\n",
       "\n",
       "    .dataframe tbody tr th {\n",
       "        vertical-align: top;\n",
       "    }\n",
       "\n",
       "    .dataframe thead th {\n",
       "        text-align: right;\n",
       "    }\n",
       "</style>\n",
       "<table border=\"1\" class=\"dataframe\">\n",
       "  <thead>\n",
       "    <tr style=\"text-align: right;\">\n",
       "      <th></th>\n",
       "      <th>name</th>\n",
       "      <th>platform</th>\n",
       "      <th>year_of_release</th>\n",
       "      <th>genre</th>\n",
       "      <th>na_sales</th>\n",
       "      <th>eu_sales</th>\n",
       "      <th>jp_sales</th>\n",
       "      <th>other_sales</th>\n",
       "      <th>critic_score</th>\n",
       "      <th>user_score</th>\n",
       "      <th>rating</th>\n",
       "    </tr>\n",
       "  </thead>\n",
       "  <tbody>\n",
       "    <tr>\n",
       "      <th>606</th>\n",
       "      <td>Madden NFL 13</td>\n",
       "      <td>ps3</td>\n",
       "      <td>2012</td>\n",
       "      <td>sports</td>\n",
       "      <td>2.11</td>\n",
       "      <td>0.22</td>\n",
       "      <td>0.0</td>\n",
       "      <td>0.23</td>\n",
       "      <td>83.0</td>\n",
       "      <td>5.5</td>\n",
       "      <td>E</td>\n",
       "    </tr>\n",
       "    <tr>\n",
       "      <th>16465</th>\n",
       "      <td>Madden NFL 13</td>\n",
       "      <td>ps3</td>\n",
       "      <td>2012</td>\n",
       "      <td>sports</td>\n",
       "      <td>0.00</td>\n",
       "      <td>0.01</td>\n",
       "      <td>0.0</td>\n",
       "      <td>0.00</td>\n",
       "      <td>83.0</td>\n",
       "      <td>5.5</td>\n",
       "      <td>E</td>\n",
       "    </tr>\n",
       "  </tbody>\n",
       "</table>\n",
       "</div>"
      ],
      "text/plain": [
       "                name platform  year_of_release   genre  na_sales  eu_sales  \\\n",
       "606    Madden NFL 13      ps3             2012  sports      2.11      0.22   \n",
       "16465  Madden NFL 13      ps3             2012  sports      0.00      0.01   \n",
       "\n",
       "       jp_sales  other_sales  critic_score  user_score rating  \n",
       "606         0.0         0.23          83.0         5.5      E  \n",
       "16465       0.0         0.00          83.0         5.5      E  "
      ]
     },
     "execution_count": 27,
     "metadata": {},
     "output_type": "execute_result"
    }
   ],
   "source": [
    "# Комментарий ревьюера\n",
    "temp = games.copy()\n",
    "temp.loc[(temp[['name','platform','year_of_release']].duplicated(keep=False))]  "
   ]
  },
  {
   "cell_type": "markdown",
   "id": "613f0eb0",
   "metadata": {},
   "source": [
    "---\n",
    "<a class=\"anchor\" id=\"3-bullet\"></a>\n",
    "\n",
    "## 3. Фильтрация данных\n",
    "\n",
    "Отберем период с 2000 по 2013 год включительно. Сохраним новый срез данных в отдельном датафрейме `games_actual`."
   ]
  },
  {
   "cell_type": "code",
   "execution_count": 28,
   "id": "2344916d",
   "metadata": {},
   "outputs": [],
   "source": [
    "# Фильтруем данные по периоду 2000–2013 год\n",
    "games_actual = games[(games['year_of_release'] >= 2000) & \n",
    "                     (games['year_of_release'] <= 2013)]"
   ]
  },
  {
   "cell_type": "code",
   "execution_count": 29,
   "id": "44d7529f",
   "metadata": {},
   "outputs": [
    {
     "data": {
      "text/html": [
       "<div>\n",
       "<style scoped>\n",
       "    .dataframe tbody tr th:only-of-type {\n",
       "        vertical-align: middle;\n",
       "    }\n",
       "\n",
       "    .dataframe tbody tr th {\n",
       "        vertical-align: top;\n",
       "    }\n",
       "\n",
       "    .dataframe thead th {\n",
       "        text-align: right;\n",
       "    }\n",
       "</style>\n",
       "<table border=\"1\" class=\"dataframe\">\n",
       "  <thead>\n",
       "    <tr style=\"text-align: right;\">\n",
       "      <th></th>\n",
       "      <th>name</th>\n",
       "      <th>platform</th>\n",
       "      <th>year_of_release</th>\n",
       "      <th>genre</th>\n",
       "      <th>na_sales</th>\n",
       "      <th>eu_sales</th>\n",
       "      <th>jp_sales</th>\n",
       "      <th>other_sales</th>\n",
       "      <th>critic_score</th>\n",
       "      <th>user_score</th>\n",
       "      <th>rating</th>\n",
       "    </tr>\n",
       "  </thead>\n",
       "  <tbody>\n",
       "    <tr>\n",
       "      <th>0</th>\n",
       "      <td>Wii Sports</td>\n",
       "      <td>wii</td>\n",
       "      <td>2006</td>\n",
       "      <td>sports</td>\n",
       "      <td>41.36</td>\n",
       "      <td>28.96</td>\n",
       "      <td>3.77</td>\n",
       "      <td>8.45</td>\n",
       "      <td>76.0</td>\n",
       "      <td>8.0</td>\n",
       "      <td>E</td>\n",
       "    </tr>\n",
       "    <tr>\n",
       "      <th>2</th>\n",
       "      <td>Mario Kart Wii</td>\n",
       "      <td>wii</td>\n",
       "      <td>2008</td>\n",
       "      <td>racing</td>\n",
       "      <td>15.68</td>\n",
       "      <td>12.76</td>\n",
       "      <td>3.79</td>\n",
       "      <td>3.29</td>\n",
       "      <td>82.0</td>\n",
       "      <td>8.3</td>\n",
       "      <td>E</td>\n",
       "    </tr>\n",
       "    <tr>\n",
       "      <th>3</th>\n",
       "      <td>Wii Sports Resort</td>\n",
       "      <td>wii</td>\n",
       "      <td>2009</td>\n",
       "      <td>sports</td>\n",
       "      <td>15.61</td>\n",
       "      <td>10.93</td>\n",
       "      <td>3.28</td>\n",
       "      <td>2.95</td>\n",
       "      <td>80.0</td>\n",
       "      <td>8.0</td>\n",
       "      <td>E</td>\n",
       "    </tr>\n",
       "    <tr>\n",
       "      <th>6</th>\n",
       "      <td>New Super Mario Bros.</td>\n",
       "      <td>ds</td>\n",
       "      <td>2006</td>\n",
       "      <td>platform</td>\n",
       "      <td>11.28</td>\n",
       "      <td>9.14</td>\n",
       "      <td>6.50</td>\n",
       "      <td>2.88</td>\n",
       "      <td>89.0</td>\n",
       "      <td>8.5</td>\n",
       "      <td>E</td>\n",
       "    </tr>\n",
       "    <tr>\n",
       "      <th>7</th>\n",
       "      <td>Wii Play</td>\n",
       "      <td>wii</td>\n",
       "      <td>2006</td>\n",
       "      <td>misc</td>\n",
       "      <td>13.96</td>\n",
       "      <td>9.18</td>\n",
       "      <td>2.93</td>\n",
       "      <td>2.84</td>\n",
       "      <td>58.0</td>\n",
       "      <td>6.6</td>\n",
       "      <td>E</td>\n",
       "    </tr>\n",
       "    <tr>\n",
       "      <th>...</th>\n",
       "      <td>...</td>\n",
       "      <td>...</td>\n",
       "      <td>...</td>\n",
       "      <td>...</td>\n",
       "      <td>...</td>\n",
       "      <td>...</td>\n",
       "      <td>...</td>\n",
       "      <td>...</td>\n",
       "      <td>...</td>\n",
       "      <td>...</td>\n",
       "      <td>...</td>\n",
       "    </tr>\n",
       "    <tr>\n",
       "      <th>16947</th>\n",
       "      <td>Men in Black II: Alien Escape</td>\n",
       "      <td>gc</td>\n",
       "      <td>2003</td>\n",
       "      <td>shooter</td>\n",
       "      <td>0.01</td>\n",
       "      <td>0.00</td>\n",
       "      <td>0.00</td>\n",
       "      <td>0.00</td>\n",
       "      <td>-1.0</td>\n",
       "      <td>-1.0</td>\n",
       "      <td>T</td>\n",
       "    </tr>\n",
       "    <tr>\n",
       "      <th>16949</th>\n",
       "      <td>Woody Woodpecker in Crazy Castle 5</td>\n",
       "      <td>gba</td>\n",
       "      <td>2002</td>\n",
       "      <td>platform</td>\n",
       "      <td>0.01</td>\n",
       "      <td>0.00</td>\n",
       "      <td>0.00</td>\n",
       "      <td>0.00</td>\n",
       "      <td>-1.0</td>\n",
       "      <td>-1.0</td>\n",
       "      <td>UNKNOWN</td>\n",
       "    </tr>\n",
       "    <tr>\n",
       "      <th>16950</th>\n",
       "      <td>SCORE International Baja 1000: The Official Game</td>\n",
       "      <td>ps2</td>\n",
       "      <td>2008</td>\n",
       "      <td>racing</td>\n",
       "      <td>0.00</td>\n",
       "      <td>0.00</td>\n",
       "      <td>0.00</td>\n",
       "      <td>0.00</td>\n",
       "      <td>-1.0</td>\n",
       "      <td>-1.0</td>\n",
       "      <td>UNKNOWN</td>\n",
       "    </tr>\n",
       "    <tr>\n",
       "      <th>16952</th>\n",
       "      <td>LMA Manager 2007</td>\n",
       "      <td>x360</td>\n",
       "      <td>2006</td>\n",
       "      <td>sports</td>\n",
       "      <td>0.00</td>\n",
       "      <td>0.01</td>\n",
       "      <td>0.00</td>\n",
       "      <td>0.00</td>\n",
       "      <td>-1.0</td>\n",
       "      <td>-1.0</td>\n",
       "      <td>UNKNOWN</td>\n",
       "    </tr>\n",
       "    <tr>\n",
       "      <th>16954</th>\n",
       "      <td>Spirits &amp; Spells</td>\n",
       "      <td>gba</td>\n",
       "      <td>2003</td>\n",
       "      <td>platform</td>\n",
       "      <td>0.01</td>\n",
       "      <td>0.00</td>\n",
       "      <td>0.00</td>\n",
       "      <td>0.00</td>\n",
       "      <td>-1.0</td>\n",
       "      <td>-1.0</td>\n",
       "      <td>UNKNOWN</td>\n",
       "    </tr>\n",
       "  </tbody>\n",
       "</table>\n",
       "<p>12781 rows × 11 columns</p>\n",
       "</div>"
      ],
      "text/plain": [
       "                                                   name platform  \\\n",
       "0                                            Wii Sports      wii   \n",
       "2                                        Mario Kart Wii      wii   \n",
       "3                                     Wii Sports Resort      wii   \n",
       "6                                 New Super Mario Bros.       ds   \n",
       "7                                              Wii Play      wii   \n",
       "...                                                 ...      ...   \n",
       "16947                     Men in Black II: Alien Escape       gc   \n",
       "16949                Woody Woodpecker in Crazy Castle 5      gba   \n",
       "16950  SCORE International Baja 1000: The Official Game      ps2   \n",
       "16952                                  LMA Manager 2007     x360   \n",
       "16954                                  Spirits & Spells      gba   \n",
       "\n",
       "       year_of_release     genre  na_sales  eu_sales  jp_sales  other_sales  \\\n",
       "0                 2006    sports     41.36     28.96      3.77         8.45   \n",
       "2                 2008    racing     15.68     12.76      3.79         3.29   \n",
       "3                 2009    sports     15.61     10.93      3.28         2.95   \n",
       "6                 2006  platform     11.28      9.14      6.50         2.88   \n",
       "7                 2006      misc     13.96      9.18      2.93         2.84   \n",
       "...                ...       ...       ...       ...       ...          ...   \n",
       "16947             2003   shooter      0.01      0.00      0.00         0.00   \n",
       "16949             2002  platform      0.01      0.00      0.00         0.00   \n",
       "16950             2008    racing      0.00      0.00      0.00         0.00   \n",
       "16952             2006    sports      0.00      0.01      0.00         0.00   \n",
       "16954             2003  platform      0.01      0.00      0.00         0.00   \n",
       "\n",
       "       critic_score  user_score   rating  \n",
       "0              76.0         8.0        E  \n",
       "2              82.0         8.3        E  \n",
       "3              80.0         8.0        E  \n",
       "6              89.0         8.5        E  \n",
       "7              58.0         6.6        E  \n",
       "...             ...         ...      ...  \n",
       "16947          -1.0        -1.0        T  \n",
       "16949          -1.0        -1.0  UNKNOWN  \n",
       "16950          -1.0        -1.0  UNKNOWN  \n",
       "16952          -1.0        -1.0  UNKNOWN  \n",
       "16954          -1.0        -1.0  UNKNOWN  \n",
       "\n",
       "[12781 rows x 11 columns]"
      ]
     },
     "execution_count": 29,
     "metadata": {},
     "output_type": "execute_result"
    }
   ],
   "source": [
    "# Выведем актуальный датафрейм\n",
    "games_actual"
   ]
  },
  {
   "cell_type": "markdown",
   "id": "dba60ffe",
   "metadata": {},
   "source": [
    "Получили диапозон годов с 2000 по 2013, всего выявлено 12781 запись."
   ]
  },
  {
   "cell_type": "markdown",
   "id": "a6f10b01",
   "metadata": {},
   "source": [
    "---\n",
    "<a class=\"anchor\" id=\"4-bullet\"></a>\n",
    "\n",
    "## 4. Категоризация данных\n",
    "    \n",
    "Проведите категоризацию данных:\n",
    "- Разделим все игры по оценкам пользователей, выделем категории: высокая оценка (от 8 до 10 включительно), средняя оценка (от 3 до 8, не включая правую границу интервала) и низкая оценка (от 0 до 3, не включая правую границу интервала).\n",
    "- Разделим все игры по оценкам критиков и выделим категории: высокая оценка (от 80 до 100 включительно), средняя оценка (от 30 до 80, не включая правую границу интервала) и низкая оценка (от 0 до 30, не включая правую границу интервала).\n",
    "- Выделим топ-7 платформ по количеству игр, выпущенных за весь актуальный период."
   ]
  },
  {
   "cell_type": "code",
   "execution_count": 31,
   "id": "3db87229",
   "metadata": {},
   "outputs": [
    {
     "name": "stdout",
     "output_type": "stream",
     "text": [
      "  user_score_category  game_count\n",
      "0      Высокая оценка        2286\n",
      "1       Низкая оценка        6414\n",
      "2      Средняя оценка        4081\n"
     ]
    }
   ],
   "source": [
    "# Создаем копию среза данных\n",
    "games_actual = games_actual.copy()\n",
    "\n",
    "# Функция для категоризации оценки пользователей\n",
    "def categorize_user_score(score):\n",
    "    if 8 <= score <= 10:\n",
    "        return 'Высокая оценка'\n",
    "    elif 3 <= score < 8:\n",
    "        return 'Средняя оценка'\n",
    "    else:\n",
    "        return 'Низкая оценка'\n",
    "\n",
    "games_actual['user_score_category'] = games_actual['user_score'].apply(categorize_user_score)\n",
    "\n",
    "user_score_group = games_actual.groupby('user_score_category').size().reset_index(name='game_count')\n",
    "\n",
    "print(user_score_group)"
   ]
  },
  {
   "cell_type": "code",
   "execution_count": 32,
   "id": "548fde17",
   "metadata": {},
   "outputs": [
    {
     "name": "stdout",
     "output_type": "stream",
     "text": [
      "  critic_score_category  game_count\n",
      "0        Высокая оценка        1692\n",
      "1         Низкая оценка        5667\n",
      "2        Средняя оценка        5422\n"
     ]
    }
   ],
   "source": [
    "# Создаем копию среза данных\n",
    "games_actual = games_actual.copy()\n",
    "\n",
    "# Категории по оценкам критиков\n",
    "def categorize_critic_score(score):\n",
    "    if 80 <= score <= 100:\n",
    "        return 'Высокая оценка'\n",
    "    elif 30 <= score < 80:\n",
    "        return 'Средняя оценка'\n",
    "    else:\n",
    "        return 'Низкая оценка'\n",
    "    \n",
    "games_actual['critic_score_category'] = games_actual['critic_score'].apply(categorize_critic_score)\n",
    "\n",
    "critic_score_group = games_actual.groupby('critic_score_category').size().reset_index(name='game_count')\n",
    "\n",
    "print(critic_score_group)"
   ]
  },
  {
   "cell_type": "code",
   "execution_count": 33,
   "id": "d136d06b",
   "metadata": {},
   "outputs": [
    {
     "name": "stdout",
     "output_type": "stream",
     "text": [
      "ps2     2127\n",
      "ds      2120\n",
      "wii     1275\n",
      "psp     1180\n",
      "x360    1121\n",
      "ps3     1087\n",
      "gba      811\n",
      "Name: platform, dtype: int64\n"
     ]
    }
   ],
   "source": [
    "# Группируем по платформам и подсчитываем количество игр\n",
    "platform_counts = games_actual['platform'].value_counts()\n",
    "\n",
    "# Выведем топ-7 платформ\n",
    "print(platform_counts.head(7))"
   ]
  },
  {
   "cell_type": "markdown",
   "id": "4ee24509",
   "metadata": {},
   "source": [
    "Исходя из полученных данных можно заметить, что в период с 2000 по 2013 год в основном были выпущены игры с низкой оценкой как от пользователей, так и от критиков. Наиболее популярные платформы - ps2, ds, wii."
   ]
  },
  {
   "cell_type": "markdown",
   "id": "c0158881",
   "metadata": {},
   "source": [
    "---\n",
    "<a class=\"anchor\" id=\"5-bullet\"></a>\n",
    "\n",
    "## 5. Итоговый вывод"
   ]
  },
  {
   "cell_type": "markdown",
   "id": "c0e21a70",
   "metadata": {},
   "source": [
    "Был проведен обзор данных, в ходе чего стало ясно, что исходный датафрейм содержит 16956 строк и 11 столбцов. Также выявлены пропуски в нескольких столбцах: максимальное количество пропусков наблюдается в столбцах critic_score (51.39%), user_score (54.66%) и rating (40.52%) и обнаружены пропуски в данных по продажам, году выпуска и жанру."
   ]
  },
  {
   "cell_type": "markdown",
   "id": "c3a3d19f",
   "metadata": {},
   "source": [
    "Далее данные были обработаны. Удалены строки с незначительным количеством пропусков в полях name, genre, year_of_release. Пропуски в столбцах eu_sales и jp_sales заполнены средними значениями, рассчитанными по платформе и году выпуска. Пропуски в столбцах critic_score, user_score и rating были заменены. Пропуски полностью устранены, что позволило сохранить целостность данных. Проведена нормализация строковых данных. Удалено 512 строк, из них 235 явных дубликатов."
   ]
  },
  {
   "cell_type": "markdown",
   "id": "1f032fbb",
   "metadata": {},
   "source": [
    "В ходе анализа данных о видеоиграх за период с 2000 по 2013 год был отфильтрован исходный датасет, в ходе чего оставлены записи с играми, выпущенными в период с 2000 по 2013 год. В результате был получен новый датафрейм games_actual, содержащий 12781 запись. Данный период охватывает пик активности разработки игр на популярных платформах (PS2, DS, Wii)."
   ]
  },
  {
   "cell_type": "markdown",
   "id": "e95cbe47",
   "metadata": {},
   "source": [
    "В период с 2000 по 2013 год наблюдается преобладание игр с низкими оценками как от пользователей, так и от критиков, что может указывать на определенные проблемы с качеством игр в этот период. Несмотря на это, наблюдается высокая активность в разработке игр, особенно на таких популярных платформах как ps2, ds и wii. Большинство игр, по оценкам критиков и пользователей, оказались в среднем и низком диапазоне, что, возможно, связано с ограничениями платформ, интересами пользователей, геймдизайне, функционале платформ  или тенденциями в разработке игр в этот период."
   ]
  }
 ],
 "metadata": {
  "ExecuteTimeLog": [
   {
    "duration": 494,
    "start_time": "2024-11-23T20:42:12.205Z"
   },
   {
    "duration": 137,
    "start_time": "2024-11-23T20:44:06.994Z"
   },
   {
    "duration": 17,
    "start_time": "2024-11-23T20:44:39.093Z"
   },
   {
    "duration": 9,
    "start_time": "2024-11-23T20:59:08.085Z"
   },
   {
    "duration": 3,
    "start_time": "2024-11-23T20:59:34.583Z"
   },
   {
    "duration": 4,
    "start_time": "2024-11-23T21:00:20.618Z"
   },
   {
    "duration": 3,
    "start_time": "2024-11-23T21:02:34.994Z"
   },
   {
    "duration": 2,
    "start_time": "2024-11-23T21:05:39.038Z"
   },
   {
    "duration": 75,
    "start_time": "2024-11-23T21:08:27.925Z"
   },
   {
    "duration": 5,
    "start_time": "2024-11-23T21:08:39.216Z"
   },
   {
    "duration": 5,
    "start_time": "2024-11-23T21:08:55.046Z"
   },
   {
    "duration": 26,
    "start_time": "2024-11-23T21:09:07.979Z"
   },
   {
    "duration": 6,
    "start_time": "2024-11-23T21:09:42.785Z"
   },
   {
    "duration": 22,
    "start_time": "2024-11-23T21:09:45.548Z"
   },
   {
    "duration": 4,
    "start_time": "2024-11-23T21:10:44.783Z"
   },
   {
    "duration": 5,
    "start_time": "2024-11-23T21:16:13.863Z"
   },
   {
    "duration": 7,
    "start_time": "2024-11-23T21:16:20.528Z"
   },
   {
    "duration": 4,
    "start_time": "2024-11-23T21:16:23.590Z"
   },
   {
    "duration": 4,
    "start_time": "2024-11-23T21:16:27.157Z"
   },
   {
    "duration": 3,
    "start_time": "2024-11-23T21:16:34.327Z"
   },
   {
    "duration": 129,
    "start_time": "2024-11-23T21:16:36.140Z"
   },
   {
    "duration": 20,
    "start_time": "2024-11-23T21:16:38.708Z"
   },
   {
    "duration": 4,
    "start_time": "2024-11-23T21:16:42.385Z"
   },
   {
    "duration": 3,
    "start_time": "2024-11-23T21:16:44.483Z"
   },
   {
    "duration": 3,
    "start_time": "2024-11-23T21:16:46.830Z"
   },
   {
    "duration": 5,
    "start_time": "2024-11-23T21:16:49.630Z"
   },
   {
    "duration": 23,
    "start_time": "2024-11-23T21:26:15.361Z"
   },
   {
    "duration": 3,
    "start_time": "2024-11-23T21:26:41.145Z"
   },
   {
    "duration": 6,
    "start_time": "2024-11-23T21:26:49.927Z"
   },
   {
    "duration": 7,
    "start_time": "2024-11-23T21:27:08.479Z"
   },
   {
    "duration": 16,
    "start_time": "2024-11-23T21:29:45.868Z"
   },
   {
    "duration": 7,
    "start_time": "2024-11-23T21:30:30.004Z"
   },
   {
    "duration": 5,
    "start_time": "2024-11-23T21:30:32.295Z"
   },
   {
    "duration": 21,
    "start_time": "2024-11-23T21:30:34.009Z"
   },
   {
    "duration": 94,
    "start_time": "2024-11-23T21:38:57.387Z"
   },
   {
    "duration": 12,
    "start_time": "2024-11-23T21:58:16.058Z"
   },
   {
    "duration": 16,
    "start_time": "2024-11-23T21:58:30.843Z"
   },
   {
    "duration": 29,
    "start_time": "2024-11-23T22:00:42.984Z"
   },
   {
    "duration": 73,
    "start_time": "2024-11-23T22:01:30.388Z"
   },
   {
    "duration": 16,
    "start_time": "2024-11-23T22:01:54.825Z"
   },
   {
    "duration": 86,
    "start_time": "2024-11-23T22:03:07.929Z"
   },
   {
    "duration": 14,
    "start_time": "2024-11-23T22:03:23.250Z"
   },
   {
    "duration": 20,
    "start_time": "2024-11-23T22:03:39.976Z"
   },
   {
    "duration": 11,
    "start_time": "2024-11-23T22:14:46.762Z"
   },
   {
    "duration": 8,
    "start_time": "2024-11-23T22:15:05.696Z"
   },
   {
    "duration": 8,
    "start_time": "2024-11-23T22:18:13.342Z"
   },
   {
    "duration": 324,
    "start_time": "2024-11-23T22:18:31.519Z"
   },
   {
    "duration": 13,
    "start_time": "2024-11-23T22:19:25.151Z"
   },
   {
    "duration": 4,
    "start_time": "2024-11-23T22:20:33.192Z"
   },
   {
    "duration": 5,
    "start_time": "2024-11-23T22:20:37.745Z"
   },
   {
    "duration": 10,
    "start_time": "2024-11-23T22:20:40.803Z"
   },
   {
    "duration": 8,
    "start_time": "2024-11-23T22:22:12.839Z"
   },
   {
    "duration": 10,
    "start_time": "2024-11-23T22:22:14.662Z"
   },
   {
    "duration": 11,
    "start_time": "2024-11-23T22:22:28.053Z"
   },
   {
    "duration": 5,
    "start_time": "2024-11-23T22:22:41.145Z"
   },
   {
    "duration": 4,
    "start_time": "2024-11-23T22:22:50.476Z"
   },
   {
    "duration": 9,
    "start_time": "2024-11-23T22:22:52.318Z"
   },
   {
    "duration": 6,
    "start_time": "2024-11-23T22:43:54.672Z"
   },
   {
    "duration": 5,
    "start_time": "2024-11-23T22:44:08.030Z"
   },
   {
    "duration": 5,
    "start_time": "2024-11-23T22:44:35.106Z"
   },
   {
    "duration": 6,
    "start_time": "2024-11-23T22:45:47.451Z"
   },
   {
    "duration": 11,
    "start_time": "2024-11-23T22:46:04.831Z"
   },
   {
    "duration": 4,
    "start_time": "2024-11-23T22:46:13.251Z"
   },
   {
    "duration": 9,
    "start_time": "2024-11-23T22:46:33.124Z"
   },
   {
    "duration": 11,
    "start_time": "2024-11-23T22:49:57.201Z"
   },
   {
    "duration": 12,
    "start_time": "2024-11-23T22:51:30.140Z"
   },
   {
    "duration": 9,
    "start_time": "2024-11-23T22:55:37.483Z"
   },
   {
    "duration": 10,
    "start_time": "2024-11-23T22:56:02.194Z"
   },
   {
    "duration": 13,
    "start_time": "2024-11-23T22:56:57.859Z"
   },
   {
    "duration": 9,
    "start_time": "2024-11-23T22:58:21.453Z"
   },
   {
    "duration": 24,
    "start_time": "2024-11-23T23:00:06.517Z"
   },
   {
    "duration": 13,
    "start_time": "2024-11-23T23:01:27.424Z"
   },
   {
    "duration": 8,
    "start_time": "2024-11-23T23:02:13.711Z"
   },
   {
    "duration": 70,
    "start_time": "2024-11-23T23:04:23.593Z"
   },
   {
    "duration": 70,
    "start_time": "2024-11-23T23:05:05.968Z"
   },
   {
    "duration": 12,
    "start_time": "2024-11-23T23:05:58.978Z"
   },
   {
    "duration": 15,
    "start_time": "2024-11-23T23:06:34.581Z"
   },
   {
    "duration": 22,
    "start_time": "2024-11-23T23:06:36.602Z"
   },
   {
    "duration": 8,
    "start_time": "2024-11-23T23:06:38.979Z"
   },
   {
    "duration": 12,
    "start_time": "2024-11-23T23:06:44.375Z"
   },
   {
    "duration": 3,
    "start_time": "2024-11-23T23:07:20.637Z"
   },
   {
    "duration": 194,
    "start_time": "2024-11-23T23:07:20.644Z"
   },
   {
    "duration": 17,
    "start_time": "2024-11-23T23:07:20.840Z"
   },
   {
    "duration": 21,
    "start_time": "2024-11-23T23:07:20.859Z"
   },
   {
    "duration": 20,
    "start_time": "2024-11-23T23:07:20.882Z"
   },
   {
    "duration": 17,
    "start_time": "2024-11-23T23:07:20.905Z"
   },
   {
    "duration": 12,
    "start_time": "2024-11-23T23:07:20.924Z"
   },
   {
    "duration": 22,
    "start_time": "2024-11-23T23:07:20.938Z"
   },
   {
    "duration": 4,
    "start_time": "2024-11-23T23:07:20.962Z"
   },
   {
    "duration": 20,
    "start_time": "2024-11-23T23:07:20.968Z"
   },
   {
    "duration": 36,
    "start_time": "2024-11-23T23:07:20.990Z"
   },
   {
    "duration": 24,
    "start_time": "2024-11-23T23:07:21.028Z"
   },
   {
    "duration": 33,
    "start_time": "2024-11-23T23:07:21.054Z"
   },
   {
    "duration": 16,
    "start_time": "2024-11-23T23:07:21.089Z"
   },
   {
    "duration": 4,
    "start_time": "2024-11-23T23:07:21.109Z"
   },
   {
    "duration": 25,
    "start_time": "2024-11-23T23:07:21.115Z"
   },
   {
    "duration": 30,
    "start_time": "2024-11-23T23:07:21.142Z"
   },
   {
    "duration": 35,
    "start_time": "2024-11-23T23:07:21.174Z"
   },
   {
    "duration": 76,
    "start_time": "2024-11-23T23:07:21.211Z"
   },
   {
    "duration": 64,
    "start_time": "2024-11-23T23:07:21.289Z"
   },
   {
    "duration": 28,
    "start_time": "2024-11-23T23:08:17.006Z"
   },
   {
    "duration": 4,
    "start_time": "2024-11-23T23:09:21.316Z"
   },
   {
    "duration": 7,
    "start_time": "2024-11-23T23:21:31.324Z"
   },
   {
    "duration": 8,
    "start_time": "2024-11-23T23:25:09.603Z"
   },
   {
    "duration": 13,
    "start_time": "2024-11-23T23:25:23.141Z"
   },
   {
    "duration": 78,
    "start_time": "2024-11-23T23:34:29.875Z"
   },
   {
    "duration": 70,
    "start_time": "2024-11-23T23:34:41.107Z"
   },
   {
    "duration": 3,
    "start_time": "2024-11-23T23:37:08.705Z"
   },
   {
    "duration": 4,
    "start_time": "2024-11-23T23:38:03.255Z"
   },
   {
    "duration": 14,
    "start_time": "2024-11-23T23:39:12.568Z"
   },
   {
    "duration": 9,
    "start_time": "2024-11-23T23:41:15.002Z"
   },
   {
    "duration": 2,
    "start_time": "2024-11-23T23:42:31.230Z"
   },
   {
    "duration": 153,
    "start_time": "2024-11-23T23:42:31.234Z"
   },
   {
    "duration": 16,
    "start_time": "2024-11-23T23:42:31.389Z"
   },
   {
    "duration": 4,
    "start_time": "2024-11-23T23:42:31.406Z"
   },
   {
    "duration": 5,
    "start_time": "2024-11-23T23:42:31.411Z"
   },
   {
    "duration": 29,
    "start_time": "2024-11-23T23:42:31.417Z"
   },
   {
    "duration": 5,
    "start_time": "2024-11-23T23:42:31.447Z"
   },
   {
    "duration": 18,
    "start_time": "2024-11-23T23:42:31.453Z"
   },
   {
    "duration": 20,
    "start_time": "2024-11-23T23:42:31.472Z"
   },
   {
    "duration": 44,
    "start_time": "2024-11-23T23:42:31.495Z"
   },
   {
    "duration": 21,
    "start_time": "2024-11-23T23:42:31.540Z"
   },
   {
    "duration": 9,
    "start_time": "2024-11-23T23:42:31.563Z"
   },
   {
    "duration": 9,
    "start_time": "2024-11-23T23:42:31.573Z"
   },
   {
    "duration": 26,
    "start_time": "2024-11-23T23:42:31.584Z"
   },
   {
    "duration": 105,
    "start_time": "2024-11-23T23:42:31.612Z"
   },
   {
    "duration": 98,
    "start_time": "2024-11-23T23:42:31.718Z"
   },
   {
    "duration": 14,
    "start_time": "2024-11-23T23:42:31.818Z"
   },
   {
    "duration": 13,
    "start_time": "2024-11-23T23:42:31.835Z"
   },
   {
    "duration": 25,
    "start_time": "2024-11-23T23:42:31.850Z"
   },
   {
    "duration": 19,
    "start_time": "2024-11-23T23:42:31.877Z"
   },
   {
    "duration": 70,
    "start_time": "2024-11-23T23:42:31.898Z"
   },
   {
    "duration": 13,
    "start_time": "2024-11-23T23:42:31.970Z"
   },
   {
    "duration": 21,
    "start_time": "2024-11-23T23:42:31.984Z"
   },
   {
    "duration": 35,
    "start_time": "2024-11-23T23:42:32.007Z"
   },
   {
    "duration": 26,
    "start_time": "2024-11-23T23:42:32.044Z"
   },
   {
    "duration": 37,
    "start_time": "2024-11-23T23:42:32.071Z"
   },
   {
    "duration": 13,
    "start_time": "2024-11-23T23:42:32.110Z"
   },
   {
    "duration": 13,
    "start_time": "2024-11-23T23:43:30.372Z"
   },
   {
    "duration": 3,
    "start_time": "2024-11-23T23:44:39.101Z"
   },
   {
    "duration": 98,
    "start_time": "2024-11-23T23:44:39.106Z"
   },
   {
    "duration": 15,
    "start_time": "2024-11-23T23:44:39.206Z"
   },
   {
    "duration": 4,
    "start_time": "2024-11-23T23:44:39.223Z"
   },
   {
    "duration": 3,
    "start_time": "2024-11-23T23:44:39.228Z"
   },
   {
    "duration": 4,
    "start_time": "2024-11-23T23:44:39.232Z"
   },
   {
    "duration": 5,
    "start_time": "2024-11-23T23:44:39.237Z"
   },
   {
    "duration": 22,
    "start_time": "2024-11-23T23:44:39.244Z"
   },
   {
    "duration": 4,
    "start_time": "2024-11-23T23:44:39.267Z"
   },
   {
    "duration": 48,
    "start_time": "2024-11-23T23:44:39.274Z"
   },
   {
    "duration": 16,
    "start_time": "2024-11-23T23:44:39.324Z"
   },
   {
    "duration": 10,
    "start_time": "2024-11-23T23:44:39.342Z"
   },
   {
    "duration": 12,
    "start_time": "2024-11-23T23:44:39.353Z"
   },
   {
    "duration": 13,
    "start_time": "2024-11-23T23:44:39.367Z"
   },
   {
    "duration": 9,
    "start_time": "2024-11-23T23:44:39.382Z"
   },
   {
    "duration": 31,
    "start_time": "2024-11-23T23:44:39.393Z"
   },
   {
    "duration": 16,
    "start_time": "2024-11-23T23:44:39.425Z"
   },
   {
    "duration": 11,
    "start_time": "2024-11-23T23:44:39.443Z"
   },
   {
    "duration": 32,
    "start_time": "2024-11-23T23:44:39.456Z"
   },
   {
    "duration": 16,
    "start_time": "2024-11-23T23:44:39.490Z"
   },
   {
    "duration": 43,
    "start_time": "2024-11-23T23:44:39.508Z"
   },
   {
    "duration": 4,
    "start_time": "2024-11-23T23:44:39.553Z"
   },
   {
    "duration": 20,
    "start_time": "2024-11-23T23:44:39.559Z"
   },
   {
    "duration": 11,
    "start_time": "2024-11-23T23:44:39.580Z"
   },
   {
    "duration": 30,
    "start_time": "2024-11-23T23:44:39.592Z"
   },
   {
    "duration": 20,
    "start_time": "2024-11-23T23:44:39.623Z"
   },
   {
    "duration": 7,
    "start_time": "2024-11-23T23:44:39.645Z"
   },
   {
    "duration": 14,
    "start_time": "2024-11-23T23:45:25.466Z"
   },
   {
    "duration": 14,
    "start_time": "2024-11-23T23:46:40.059Z"
   },
   {
    "duration": 15,
    "start_time": "2024-11-23T23:46:56.174Z"
   },
   {
    "duration": 7,
    "start_time": "2024-11-23T23:47:39.198Z"
   },
   {
    "duration": 16,
    "start_time": "2024-11-23T23:49:47.275Z"
   },
   {
    "duration": 18,
    "start_time": "2024-11-23T23:50:19.744Z"
   },
   {
    "duration": 17,
    "start_time": "2024-11-23T23:53:10.276Z"
   },
   {
    "duration": 21,
    "start_time": "2024-11-23T23:53:20.929Z"
   },
   {
    "duration": 15,
    "start_time": "2024-11-23T23:53:41.127Z"
   },
   {
    "duration": 15,
    "start_time": "2024-11-23T23:54:04.160Z"
   },
   {
    "duration": 25,
    "start_time": "2024-11-23T23:55:17.563Z"
   },
   {
    "duration": 21,
    "start_time": "2024-11-23T23:55:21.728Z"
   },
   {
    "duration": 16,
    "start_time": "2024-11-23T23:55:24.703Z"
   },
   {
    "duration": 21,
    "start_time": "2024-11-23T23:56:01.662Z"
   },
   {
    "duration": 437,
    "start_time": "2024-11-24T00:20:18.723Z"
   },
   {
    "duration": 95,
    "start_time": "2024-11-24T00:20:19.162Z"
   },
   {
    "duration": 17,
    "start_time": "2024-11-24T00:20:19.259Z"
   },
   {
    "duration": 10,
    "start_time": "2024-11-24T00:20:19.278Z"
   },
   {
    "duration": 15,
    "start_time": "2024-11-24T00:20:19.289Z"
   },
   {
    "duration": 7,
    "start_time": "2024-11-24T00:20:19.305Z"
   },
   {
    "duration": 5,
    "start_time": "2024-11-24T00:20:19.320Z"
   },
   {
    "duration": 31,
    "start_time": "2024-11-24T00:20:19.327Z"
   },
   {
    "duration": 4,
    "start_time": "2024-11-24T00:20:19.360Z"
   },
   {
    "duration": 31,
    "start_time": "2024-11-24T00:20:19.367Z"
   },
   {
    "duration": 17,
    "start_time": "2024-11-24T00:20:19.421Z"
   },
   {
    "duration": 11,
    "start_time": "2024-11-24T00:20:19.440Z"
   },
   {
    "duration": 12,
    "start_time": "2024-11-24T00:20:19.453Z"
   },
   {
    "duration": 22,
    "start_time": "2024-11-24T00:20:19.466Z"
   },
   {
    "duration": 26,
    "start_time": "2024-11-24T00:20:19.489Z"
   },
   {
    "duration": 5,
    "start_time": "2024-11-24T00:20:19.517Z"
   },
   {
    "duration": 10,
    "start_time": "2024-11-24T00:20:19.523Z"
   },
   {
    "duration": 10,
    "start_time": "2024-11-24T00:20:19.535Z"
   },
   {
    "duration": 22,
    "start_time": "2024-11-24T00:20:19.546Z"
   },
   {
    "duration": 14,
    "start_time": "2024-11-24T00:20:19.570Z"
   },
   {
    "duration": 48,
    "start_time": "2024-11-24T00:20:19.585Z"
   },
   {
    "duration": 3,
    "start_time": "2024-11-24T00:20:19.635Z"
   },
   {
    "duration": 16,
    "start_time": "2024-11-24T00:20:19.640Z"
   },
   {
    "duration": 14,
    "start_time": "2024-11-24T00:20:19.658Z"
   },
   {
    "duration": 95,
    "start_time": "2024-11-24T00:20:19.673Z"
   },
   {
    "duration": 14,
    "start_time": "2024-11-24T00:20:19.770Z"
   },
   {
    "duration": 12,
    "start_time": "2024-11-24T00:20:19.785Z"
   },
   {
    "duration": 55,
    "start_time": "2024-11-24T13:35:39.053Z"
   },
   {
    "duration": 454,
    "start_time": "2024-11-24T13:36:08.212Z"
   },
   {
    "duration": 117,
    "start_time": "2024-11-24T13:36:13.776Z"
   },
   {
    "duration": 432,
    "start_time": "2024-11-24T13:36:46.714Z"
   },
   {
    "duration": 113,
    "start_time": "2024-11-24T13:36:47.148Z"
   },
   {
    "duration": 27,
    "start_time": "2024-11-24T13:36:47.263Z"
   },
   {
    "duration": 17,
    "start_time": "2024-11-24T13:36:47.292Z"
   },
   {
    "duration": 4,
    "start_time": "2024-11-24T13:36:47.312Z"
   },
   {
    "duration": 8,
    "start_time": "2024-11-24T13:36:47.317Z"
   },
   {
    "duration": 105,
    "start_time": "2024-11-24T13:36:47.326Z"
   },
   {
    "duration": 5,
    "start_time": "2024-11-24T13:36:47.433Z"
   },
   {
    "duration": 22,
    "start_time": "2024-11-24T13:36:47.440Z"
   },
   {
    "duration": 21,
    "start_time": "2024-11-24T13:36:47.463Z"
   },
   {
    "duration": 16,
    "start_time": "2024-11-24T13:36:47.498Z"
   },
   {
    "duration": 23,
    "start_time": "2024-11-24T13:36:47.516Z"
   },
   {
    "duration": 10,
    "start_time": "2024-11-24T13:36:47.541Z"
   },
   {
    "duration": 44,
    "start_time": "2024-11-24T13:36:47.554Z"
   },
   {
    "duration": 13,
    "start_time": "2024-11-24T13:36:47.601Z"
   },
   {
    "duration": 6,
    "start_time": "2024-11-24T13:36:47.616Z"
   },
   {
    "duration": 25,
    "start_time": "2024-11-24T13:36:47.623Z"
   },
   {
    "duration": 12,
    "start_time": "2024-11-24T13:36:47.650Z"
   },
   {
    "duration": 26,
    "start_time": "2024-11-24T13:36:47.664Z"
   },
   {
    "duration": 40,
    "start_time": "2024-11-24T13:36:47.692Z"
   },
   {
    "duration": 10,
    "start_time": "2024-11-24T13:36:47.734Z"
   },
   {
    "duration": 63,
    "start_time": "2024-11-24T13:36:47.746Z"
   },
   {
    "duration": 5,
    "start_time": "2024-11-24T13:36:47.811Z"
   },
   {
    "duration": 12,
    "start_time": "2024-11-24T13:36:47.818Z"
   },
   {
    "duration": 76,
    "start_time": "2024-11-24T13:36:47.832Z"
   },
   {
    "duration": 18,
    "start_time": "2024-11-24T13:36:47.910Z"
   },
   {
    "duration": 17,
    "start_time": "2024-11-24T13:36:47.931Z"
   },
   {
    "duration": 10,
    "start_time": "2024-11-24T13:36:47.951Z"
   },
   {
    "duration": 146,
    "start_time": "2024-11-24T13:46:25.122Z"
   },
   {
    "duration": 53,
    "start_time": "2024-11-24T13:47:54.611Z"
   },
   {
    "duration": 54,
    "start_time": "2024-11-24T13:48:03.964Z"
   },
   {
    "duration": 116,
    "start_time": "2024-11-24T13:48:09.868Z"
   },
   {
    "duration": 193,
    "start_time": "2024-11-24T13:48:42.457Z"
   },
   {
    "duration": 170,
    "start_time": "2024-11-24T13:48:57.778Z"
   },
   {
    "duration": 163,
    "start_time": "2024-11-24T13:49:28.280Z"
   },
   {
    "duration": 440,
    "start_time": "2024-11-24T13:49:37.292Z"
   },
   {
    "duration": 88,
    "start_time": "2024-11-24T13:49:37.734Z"
   },
   {
    "duration": 18,
    "start_time": "2024-11-24T13:49:37.823Z"
   },
   {
    "duration": 10,
    "start_time": "2024-11-24T13:49:37.844Z"
   },
   {
    "duration": 14,
    "start_time": "2024-11-24T13:49:37.855Z"
   },
   {
    "duration": 31,
    "start_time": "2024-11-24T13:49:37.871Z"
   },
   {
    "duration": 104,
    "start_time": "2024-11-24T13:49:37.904Z"
   },
   {
    "duration": 4,
    "start_time": "2024-11-24T13:49:38.010Z"
   },
   {
    "duration": 41,
    "start_time": "2024-11-24T13:49:38.015Z"
   },
   {
    "duration": 5,
    "start_time": "2024-11-24T13:49:38.060Z"
   },
   {
    "duration": 18,
    "start_time": "2024-11-24T13:49:38.066Z"
   },
   {
    "duration": 19,
    "start_time": "2024-11-24T13:49:38.097Z"
   },
   {
    "duration": 9,
    "start_time": "2024-11-24T13:49:38.117Z"
   },
   {
    "duration": 12,
    "start_time": "2024-11-24T13:49:38.127Z"
   },
   {
    "duration": 130,
    "start_time": "2024-11-24T13:49:38.141Z"
   },
   {
    "duration": 12,
    "start_time": "2024-11-24T13:49:38.273Z"
   },
   {
    "duration": 11,
    "start_time": "2024-11-24T13:49:38.292Z"
   },
   {
    "duration": 5,
    "start_time": "2024-11-24T13:49:38.306Z"
   },
   {
    "duration": 11,
    "start_time": "2024-11-24T13:49:38.313Z"
   },
   {
    "duration": 12,
    "start_time": "2024-11-24T13:49:38.326Z"
   },
   {
    "duration": 62,
    "start_time": "2024-11-24T13:49:38.341Z"
   },
   {
    "duration": 13,
    "start_time": "2024-11-24T13:49:38.406Z"
   },
   {
    "duration": 47,
    "start_time": "2024-11-24T13:49:38.421Z"
   },
   {
    "duration": 29,
    "start_time": "2024-11-24T13:49:38.470Z"
   },
   {
    "duration": 8,
    "start_time": "2024-11-24T13:49:38.501Z"
   },
   {
    "duration": 27,
    "start_time": "2024-11-24T13:49:38.511Z"
   },
   {
    "duration": 24,
    "start_time": "2024-11-24T13:49:38.540Z"
   },
   {
    "duration": 24,
    "start_time": "2024-11-24T13:49:38.567Z"
   },
   {
    "duration": 7,
    "start_time": "2024-11-24T13:49:38.592Z"
   },
   {
    "duration": 7,
    "start_time": "2024-11-24T13:58:38.776Z"
   },
   {
    "duration": 22,
    "start_time": "2024-11-24T13:58:48.870Z"
   },
   {
    "duration": 13,
    "start_time": "2024-11-24T14:00:04.523Z"
   },
   {
    "duration": 20,
    "start_time": "2024-11-24T14:01:27.316Z"
   },
   {
    "duration": 469,
    "start_time": "2024-11-24T14:02:31.069Z"
   },
   {
    "duration": 98,
    "start_time": "2024-11-24T14:02:31.541Z"
   },
   {
    "duration": 19,
    "start_time": "2024-11-24T14:02:31.640Z"
   },
   {
    "duration": 10,
    "start_time": "2024-11-24T14:02:31.662Z"
   },
   {
    "duration": 25,
    "start_time": "2024-11-24T14:02:31.674Z"
   },
   {
    "duration": 25,
    "start_time": "2024-11-24T14:02:31.701Z"
   },
   {
    "duration": 107,
    "start_time": "2024-11-24T14:02:31.727Z"
   },
   {
    "duration": 5,
    "start_time": "2024-11-24T14:02:31.836Z"
   },
   {
    "duration": 27,
    "start_time": "2024-11-24T14:02:31.843Z"
   },
   {
    "duration": 5,
    "start_time": "2024-11-24T14:02:31.873Z"
   },
   {
    "duration": 42,
    "start_time": "2024-11-24T14:02:31.880Z"
   },
   {
    "duration": 42,
    "start_time": "2024-11-24T14:02:31.923Z"
   },
   {
    "duration": 45,
    "start_time": "2024-11-24T14:02:31.966Z"
   },
   {
    "duration": 18,
    "start_time": "2024-11-24T14:02:32.013Z"
   },
   {
    "duration": 37,
    "start_time": "2024-11-24T14:02:32.033Z"
   },
   {
    "duration": 12,
    "start_time": "2024-11-24T14:02:32.071Z"
   },
   {
    "duration": 39,
    "start_time": "2024-11-24T14:02:32.085Z"
   },
   {
    "duration": 15,
    "start_time": "2024-11-24T14:02:32.126Z"
   },
   {
    "duration": 17,
    "start_time": "2024-11-24T14:02:32.143Z"
   },
   {
    "duration": 11,
    "start_time": "2024-11-24T14:02:32.162Z"
   },
   {
    "duration": 22,
    "start_time": "2024-11-24T14:02:32.175Z"
   },
   {
    "duration": 34,
    "start_time": "2024-11-24T14:02:32.199Z"
   },
   {
    "duration": 57,
    "start_time": "2024-11-24T14:02:32.235Z"
   },
   {
    "duration": 10,
    "start_time": "2024-11-24T14:02:32.294Z"
   },
   {
    "duration": 33,
    "start_time": "2024-11-24T14:02:32.305Z"
   },
   {
    "duration": 14,
    "start_time": "2024-11-24T14:02:32.340Z"
   },
   {
    "duration": 29,
    "start_time": "2024-11-24T14:02:32.355Z"
   },
   {
    "duration": 17,
    "start_time": "2024-11-24T14:02:32.389Z"
   },
   {
    "duration": 9,
    "start_time": "2024-11-24T14:02:32.408Z"
   },
   {
    "duration": 32,
    "start_time": "2024-11-24T14:06:06.629Z"
   },
   {
    "duration": 103,
    "start_time": "2024-11-24T14:07:58.709Z"
   },
   {
    "duration": 358,
    "start_time": "2024-11-24T14:08:47.510Z"
   },
   {
    "duration": 738,
    "start_time": "2024-11-24T14:09:15.065Z"
   },
   {
    "duration": 14,
    "start_time": "2024-11-24T14:09:23.178Z"
   },
   {
    "duration": 15,
    "start_time": "2024-11-24T14:09:42.985Z"
   },
   {
    "duration": 429,
    "start_time": "2024-11-24T14:10:15.333Z"
   },
   {
    "duration": 85,
    "start_time": "2024-11-24T14:10:15.764Z"
   },
   {
    "duration": 19,
    "start_time": "2024-11-24T14:10:15.850Z"
   },
   {
    "duration": 14,
    "start_time": "2024-11-24T14:10:15.871Z"
   },
   {
    "duration": 19,
    "start_time": "2024-11-24T14:10:15.887Z"
   },
   {
    "duration": 44,
    "start_time": "2024-11-24T14:10:15.908Z"
   },
   {
    "duration": 146,
    "start_time": "2024-11-24T14:10:15.954Z"
   },
   {
    "duration": 4,
    "start_time": "2024-11-24T14:10:16.102Z"
   },
   {
    "duration": 22,
    "start_time": "2024-11-24T14:10:16.108Z"
   },
   {
    "duration": 5,
    "start_time": "2024-11-24T14:10:16.133Z"
   },
   {
    "duration": 16,
    "start_time": "2024-11-24T14:10:16.139Z"
   },
   {
    "duration": 49,
    "start_time": "2024-11-24T14:10:16.157Z"
   },
   {
    "duration": 10,
    "start_time": "2024-11-24T14:10:16.208Z"
   },
   {
    "duration": 15,
    "start_time": "2024-11-24T14:10:16.220Z"
   },
   {
    "duration": 22,
    "start_time": "2024-11-24T14:10:16.236Z"
   },
   {
    "duration": 38,
    "start_time": "2024-11-24T14:10:16.260Z"
   },
   {
    "duration": 19,
    "start_time": "2024-11-24T14:10:16.300Z"
   },
   {
    "duration": 913,
    "start_time": "2024-11-24T14:10:16.320Z"
   },
   {
    "duration": 66,
    "start_time": "2024-11-24T14:10:17.234Z"
   },
   {
    "duration": 23,
    "start_time": "2024-11-24T14:10:17.301Z"
   },
   {
    "duration": 5,
    "start_time": "2024-11-24T14:10:17.326Z"
   },
   {
    "duration": 7,
    "start_time": "2024-11-24T14:10:17.333Z"
   },
   {
    "duration": 56,
    "start_time": "2024-11-24T14:10:17.342Z"
   },
   {
    "duration": 10,
    "start_time": "2024-11-24T14:10:17.400Z"
   },
   {
    "duration": 21,
    "start_time": "2024-11-24T14:10:17.412Z"
   },
   {
    "duration": 71,
    "start_time": "2024-11-24T14:10:17.434Z"
   },
   {
    "duration": 98,
    "start_time": "2024-11-24T14:10:17.507Z"
   },
   {
    "duration": 4,
    "start_time": "2024-11-24T14:10:17.608Z"
   },
   {
    "duration": 10,
    "start_time": "2024-11-24T14:10:17.614Z"
   },
   {
    "duration": 73,
    "start_time": "2024-11-24T14:10:17.625Z"
   },
   {
    "duration": 15,
    "start_time": "2024-11-24T14:10:17.701Z"
   },
   {
    "duration": 18,
    "start_time": "2024-11-24T14:10:17.718Z"
   },
   {
    "duration": 60,
    "start_time": "2024-11-24T14:10:17.738Z"
   },
   {
    "duration": 6,
    "start_time": "2024-11-24T14:20:20.447Z"
   },
   {
    "duration": 5,
    "start_time": "2024-11-24T14:20:45.547Z"
   },
   {
    "duration": 436,
    "start_time": "2024-11-24T14:20:57.163Z"
   },
   {
    "duration": 110,
    "start_time": "2024-11-24T14:20:57.601Z"
   },
   {
    "duration": 17,
    "start_time": "2024-11-24T14:20:57.713Z"
   },
   {
    "duration": 9,
    "start_time": "2024-11-24T14:20:57.733Z"
   },
   {
    "duration": 8,
    "start_time": "2024-11-24T14:20:57.743Z"
   },
   {
    "duration": 8,
    "start_time": "2024-11-24T14:20:57.753Z"
   },
   {
    "duration": 95,
    "start_time": "2024-11-24T14:20:57.763Z"
   },
   {
    "duration": 4,
    "start_time": "2024-11-24T14:20:57.860Z"
   },
   {
    "duration": 22,
    "start_time": "2024-11-24T14:20:57.865Z"
   },
   {
    "duration": 4,
    "start_time": "2024-11-24T14:20:57.890Z"
   },
   {
    "duration": 17,
    "start_time": "2024-11-24T14:20:57.895Z"
   },
   {
    "duration": 19,
    "start_time": "2024-11-24T14:20:57.914Z"
   },
   {
    "duration": 8,
    "start_time": "2024-11-24T14:20:57.935Z"
   },
   {
    "duration": 9,
    "start_time": "2024-11-24T14:20:57.945Z"
   },
   {
    "duration": 5,
    "start_time": "2024-11-24T14:20:57.956Z"
   },
   {
    "duration": 42,
    "start_time": "2024-11-24T14:20:57.963Z"
   },
   {
    "duration": 5,
    "start_time": "2024-11-24T14:20:58.007Z"
   },
   {
    "duration": 33,
    "start_time": "2024-11-24T14:20:58.014Z"
   },
   {
    "duration": 10,
    "start_time": "2024-11-24T14:20:58.049Z"
   },
   {
    "duration": 14,
    "start_time": "2024-11-24T14:20:58.060Z"
   },
   {
    "duration": 22,
    "start_time": "2024-11-24T14:20:58.076Z"
   },
   {
    "duration": 10,
    "start_time": "2024-11-24T14:20:58.100Z"
   },
   {
    "duration": 29,
    "start_time": "2024-11-24T14:20:58.112Z"
   },
   {
    "duration": 4,
    "start_time": "2024-11-24T14:20:58.143Z"
   },
   {
    "duration": 9,
    "start_time": "2024-11-24T14:20:58.148Z"
   },
   {
    "duration": 46,
    "start_time": "2024-11-24T14:20:58.159Z"
   },
   {
    "duration": 16,
    "start_time": "2024-11-24T14:20:58.206Z"
   },
   {
    "duration": 15,
    "start_time": "2024-11-24T14:20:58.226Z"
   },
   {
    "duration": 7,
    "start_time": "2024-11-24T14:20:58.243Z"
   },
   {
    "duration": 66,
    "start_time": "2024-11-24T14:29:16.090Z"
   },
   {
    "duration": 23,
    "start_time": "2024-11-24T14:29:26.354Z"
   },
   {
    "duration": 28,
    "start_time": "2024-11-24T14:30:19.129Z"
   },
   {
    "duration": 9,
    "start_time": "2024-11-24T14:36:02.509Z"
   },
   {
    "duration": 7,
    "start_time": "2024-11-24T14:36:14.303Z"
   },
   {
    "duration": 25,
    "start_time": "2024-11-24T14:37:23.016Z"
   },
   {
    "duration": 372,
    "start_time": "2024-11-24T14:37:43.047Z"
   },
   {
    "duration": 121,
    "start_time": "2024-11-24T14:37:43.422Z"
   },
   {
    "duration": 17,
    "start_time": "2024-11-24T14:37:43.544Z"
   },
   {
    "duration": 8,
    "start_time": "2024-11-24T14:37:43.562Z"
   },
   {
    "duration": 6,
    "start_time": "2024-11-24T14:37:43.572Z"
   },
   {
    "duration": 6,
    "start_time": "2024-11-24T14:37:43.580Z"
   },
   {
    "duration": 100,
    "start_time": "2024-11-24T14:37:43.587Z"
   },
   {
    "duration": 4,
    "start_time": "2024-11-24T14:37:43.689Z"
   },
   {
    "duration": 21,
    "start_time": "2024-11-24T14:37:43.695Z"
   },
   {
    "duration": 10,
    "start_time": "2024-11-24T14:37:43.717Z"
   },
   {
    "duration": 21,
    "start_time": "2024-11-24T14:37:43.728Z"
   },
   {
    "duration": 16,
    "start_time": "2024-11-24T14:37:43.751Z"
   },
   {
    "duration": 29,
    "start_time": "2024-11-24T14:37:43.769Z"
   },
   {
    "duration": 11,
    "start_time": "2024-11-24T14:37:43.802Z"
   },
   {
    "duration": 11,
    "start_time": "2024-11-24T14:37:43.814Z"
   },
   {
    "duration": 15,
    "start_time": "2024-11-24T14:37:43.827Z"
   },
   {
    "duration": 4,
    "start_time": "2024-11-24T14:37:43.843Z"
   },
   {
    "duration": 9,
    "start_time": "2024-11-24T14:37:43.849Z"
   },
   {
    "duration": 11,
    "start_time": "2024-11-24T14:37:43.860Z"
   },
   {
    "duration": 32,
    "start_time": "2024-11-24T14:37:43.872Z"
   },
   {
    "duration": 23,
    "start_time": "2024-11-24T14:37:43.906Z"
   },
   {
    "duration": 8,
    "start_time": "2024-11-24T14:37:43.931Z"
   },
   {
    "duration": 27,
    "start_time": "2024-11-24T14:37:43.940Z"
   },
   {
    "duration": 5,
    "start_time": "2024-11-24T14:37:43.998Z"
   },
   {
    "duration": 29,
    "start_time": "2024-11-24T14:37:44.006Z"
   },
   {
    "duration": 5,
    "start_time": "2024-11-24T14:37:44.037Z"
   },
   {
    "duration": 12,
    "start_time": "2024-11-24T14:37:44.044Z"
   },
   {
    "duration": 59,
    "start_time": "2024-11-24T14:37:44.057Z"
   },
   {
    "duration": 32,
    "start_time": "2024-11-24T14:37:44.119Z"
   },
   {
    "duration": 15,
    "start_time": "2024-11-24T14:37:44.152Z"
   },
   {
    "duration": 7,
    "start_time": "2024-11-24T14:37:44.169Z"
   },
   {
    "duration": 447,
    "start_time": "2024-11-24T18:46:34.254Z"
   },
   {
    "duration": 97,
    "start_time": "2024-11-24T18:46:34.703Z"
   },
   {
    "duration": 16,
    "start_time": "2024-11-24T18:46:34.801Z"
   },
   {
    "duration": 28,
    "start_time": "2024-11-24T18:46:34.819Z"
   },
   {
    "duration": 3,
    "start_time": "2024-11-24T18:46:34.849Z"
   },
   {
    "duration": 30,
    "start_time": "2024-11-24T18:46:34.854Z"
   },
   {
    "duration": 4,
    "start_time": "2024-11-24T18:46:34.889Z"
   },
   {
    "duration": 17,
    "start_time": "2024-11-24T18:46:34.895Z"
   },
   {
    "duration": 28,
    "start_time": "2024-11-24T18:46:34.913Z"
   },
   {
    "duration": 29,
    "start_time": "2024-11-24T18:46:34.944Z"
   },
   {
    "duration": 26,
    "start_time": "2024-11-24T18:46:34.980Z"
   },
   {
    "duration": 4,
    "start_time": "2024-11-24T18:46:35.008Z"
   },
   {
    "duration": 77,
    "start_time": "2024-11-24T18:46:35.013Z"
   },
   {
    "duration": 47,
    "start_time": "2024-11-24T18:46:35.093Z"
   },
   {
    "duration": 10,
    "start_time": "2024-11-24T18:46:35.142Z"
   },
   {
    "duration": 9,
    "start_time": "2024-11-24T18:46:35.153Z"
   },
   {
    "duration": 26,
    "start_time": "2024-11-24T18:46:35.163Z"
   },
   {
    "duration": 12,
    "start_time": "2024-11-24T18:46:35.193Z"
   },
   {
    "duration": 7,
    "start_time": "2024-11-24T18:46:35.207Z"
   },
   {
    "duration": 8,
    "start_time": "2024-11-24T18:46:35.215Z"
   },
   {
    "duration": 23,
    "start_time": "2024-11-24T18:46:35.224Z"
   },
   {
    "duration": 34,
    "start_time": "2024-11-24T18:46:35.249Z"
   },
   {
    "duration": 23,
    "start_time": "2024-11-24T18:46:35.288Z"
   },
   {
    "duration": 82,
    "start_time": "2024-11-24T18:46:35.313Z"
   },
   {
    "duration": 26,
    "start_time": "2024-11-24T18:46:35.397Z"
   },
   {
    "duration": 4,
    "start_time": "2024-11-24T18:46:35.425Z"
   },
   {
    "duration": 25,
    "start_time": "2024-11-24T18:46:35.430Z"
   },
   {
    "duration": 21,
    "start_time": "2024-11-24T18:46:35.459Z"
   },
   {
    "duration": 16,
    "start_time": "2024-11-24T18:46:35.488Z"
   },
   {
    "duration": 20,
    "start_time": "2024-11-24T18:46:35.505Z"
   },
   {
    "duration": 16,
    "start_time": "2024-11-24T18:46:35.526Z"
   },
   {
    "duration": 15,
    "start_time": "2024-11-24T18:46:35.544Z"
   },
   {
    "duration": 14,
    "start_time": "2024-11-24T18:46:35.564Z"
   },
   {
    "duration": 3,
    "start_time": "2024-11-24T18:49:31.390Z"
   },
   {
    "duration": 119,
    "start_time": "2024-11-24T18:49:31.397Z"
   },
   {
    "duration": 16,
    "start_time": "2024-11-24T18:49:31.518Z"
   },
   {
    "duration": 35,
    "start_time": "2024-11-24T18:49:31.536Z"
   },
   {
    "duration": 19,
    "start_time": "2024-11-24T18:49:31.573Z"
   },
   {
    "duration": 17,
    "start_time": "2024-11-24T18:49:31.594Z"
   },
   {
    "duration": 31,
    "start_time": "2024-11-24T18:49:31.613Z"
   },
   {
    "duration": 32,
    "start_time": "2024-11-24T18:49:31.646Z"
   },
   {
    "duration": 21,
    "start_time": "2024-11-24T18:49:31.680Z"
   },
   {
    "duration": 34,
    "start_time": "2024-11-24T18:49:31.702Z"
   },
   {
    "duration": 32,
    "start_time": "2024-11-24T18:49:31.739Z"
   },
   {
    "duration": 8,
    "start_time": "2024-11-24T18:49:31.773Z"
   },
   {
    "duration": 23,
    "start_time": "2024-11-24T18:49:31.782Z"
   },
   {
    "duration": 16,
    "start_time": "2024-11-24T18:49:31.807Z"
   },
   {
    "duration": 11,
    "start_time": "2024-11-24T18:49:31.825Z"
   },
   {
    "duration": 2,
    "start_time": "2024-11-24T18:49:31.837Z"
   },
   {
    "duration": 31,
    "start_time": "2024-11-24T18:49:31.841Z"
   },
   {
    "duration": 37,
    "start_time": "2024-11-24T18:49:31.874Z"
   },
   {
    "duration": 7,
    "start_time": "2024-11-24T18:49:31.913Z"
   },
   {
    "duration": 15,
    "start_time": "2024-11-24T18:49:31.921Z"
   },
   {
    "duration": 14,
    "start_time": "2024-11-24T18:49:31.938Z"
   },
   {
    "duration": 24,
    "start_time": "2024-11-24T18:49:31.953Z"
   },
   {
    "duration": 34,
    "start_time": "2024-11-24T18:49:31.978Z"
   },
   {
    "duration": 7,
    "start_time": "2024-11-24T18:49:32.013Z"
   },
   {
    "duration": 70,
    "start_time": "2024-11-24T18:49:32.022Z"
   },
   {
    "duration": 4,
    "start_time": "2024-11-24T18:49:32.094Z"
   },
   {
    "duration": 47,
    "start_time": "2024-11-24T18:49:32.100Z"
   },
   {
    "duration": 5,
    "start_time": "2024-11-24T18:49:32.148Z"
   },
   {
    "duration": 38,
    "start_time": "2024-11-24T18:49:32.156Z"
   },
   {
    "duration": 2,
    "start_time": "2024-11-24T18:49:32.196Z"
   },
   {
    "duration": 26,
    "start_time": "2024-11-24T18:49:32.200Z"
   },
   {
    "duration": 14,
    "start_time": "2024-11-24T18:49:32.228Z"
   },
   {
    "duration": 13,
    "start_time": "2024-11-24T18:49:32.244Z"
   },
   {
    "duration": 432,
    "start_time": "2024-11-24T20:11:22.547Z"
   },
   {
    "duration": 125,
    "start_time": "2024-11-24T20:11:22.981Z"
   },
   {
    "duration": 17,
    "start_time": "2024-11-24T20:11:23.107Z"
   },
   {
    "duration": 24,
    "start_time": "2024-11-24T20:11:23.126Z"
   },
   {
    "duration": 5,
    "start_time": "2024-11-24T20:11:23.151Z"
   },
   {
    "duration": 92,
    "start_time": "2024-11-24T20:11:23.157Z"
   },
   {
    "duration": 3,
    "start_time": "2024-11-24T20:11:23.251Z"
   },
   {
    "duration": 9,
    "start_time": "2024-11-24T20:11:23.255Z"
   },
   {
    "duration": 6,
    "start_time": "2024-11-24T20:11:23.266Z"
   },
   {
    "duration": 15,
    "start_time": "2024-11-24T20:11:23.276Z"
   },
   {
    "duration": 81,
    "start_time": "2024-11-24T20:11:23.294Z"
   },
   {
    "duration": 20,
    "start_time": "2024-11-24T20:11:23.376Z"
   },
   {
    "duration": 20,
    "start_time": "2024-11-24T20:11:23.397Z"
   },
   {
    "duration": 31,
    "start_time": "2024-11-24T20:11:23.419Z"
   },
   {
    "duration": 12,
    "start_time": "2024-11-24T20:11:23.452Z"
   },
   {
    "duration": 3,
    "start_time": "2024-11-24T20:11:23.466Z"
   },
   {
    "duration": 6,
    "start_time": "2024-11-24T20:11:23.470Z"
   },
   {
    "duration": 19,
    "start_time": "2024-11-24T20:11:23.478Z"
   },
   {
    "duration": 5,
    "start_time": "2024-11-24T20:11:23.499Z"
   },
   {
    "duration": 6,
    "start_time": "2024-11-24T20:11:23.506Z"
   },
   {
    "duration": 33,
    "start_time": "2024-11-24T20:11:23.514Z"
   },
   {
    "duration": 11,
    "start_time": "2024-11-24T20:11:23.549Z"
   },
   {
    "duration": 20,
    "start_time": "2024-11-24T20:11:23.562Z"
   },
   {
    "duration": 16,
    "start_time": "2024-11-24T20:11:23.583Z"
   },
   {
    "duration": 49,
    "start_time": "2024-11-24T20:11:23.600Z"
   },
   {
    "duration": 3,
    "start_time": "2024-11-24T20:11:23.651Z"
   },
   {
    "duration": 25,
    "start_time": "2024-11-24T20:11:23.656Z"
   },
   {
    "duration": 5,
    "start_time": "2024-11-24T20:11:23.684Z"
   },
   {
    "duration": 25,
    "start_time": "2024-11-24T20:11:23.690Z"
   },
   {
    "duration": 6,
    "start_time": "2024-11-24T20:11:23.717Z"
   },
   {
    "duration": 33,
    "start_time": "2024-11-24T20:11:23.724Z"
   },
   {
    "duration": 13,
    "start_time": "2024-11-24T20:11:23.758Z"
   },
   {
    "duration": 18,
    "start_time": "2024-11-24T20:11:23.772Z"
   }
  ],
  "kernelspec": {
   "display_name": "Python 3 (ipykernel)",
   "language": "python",
   "name": "python3"
  },
  "language_info": {
   "codemirror_mode": {
    "name": "ipython",
    "version": 3
   },
   "file_extension": ".py",
   "mimetype": "text/x-python",
   "name": "python",
   "nbconvert_exporter": "python",
   "pygments_lexer": "ipython3",
   "version": "3.11.5"
  },
  "toc": {
   "base_numbering": 1,
   "nav_menu": {},
   "number_sections": false,
   "sideBar": true,
   "skip_h1_title": true,
   "title_cell": "Table of Contents",
   "title_sidebar": "Contents",
   "toc_cell": false,
   "toc_position": {
    "height": "calc(100% - 180px)",
    "left": "10px",
    "top": "150px",
    "width": "187.943px"
   },
   "toc_section_display": true,
   "toc_window_display": true
  }
 },
 "nbformat": 4,
 "nbformat_minor": 5
}
