{
 "cells": [
  {
   "cell_type": "markdown",
   "id": "e06910dd",
   "metadata": {
    "id": "e06910dd"
   },
   "source": [
    "# Анализ активности пользователей Яндекс Книги: сравнение времени использования приложения в Москве и Санкт-Петербурге\n",
    "\n",
    "- Автор: Лаптева Диана\n",
    "- Дата: 15.03.2025"
   ]
  },
  {
   "cell_type": "markdown",
   "id": "f998a61b",
   "metadata": {},
   "source": [
    "### Заказчик\n",
    "<font color='#777778'> Команда сервиса Яндекс Книги. </font>"
   ]
  },
  {
   "cell_type": "markdown",
   "id": "4149134c",
   "metadata": {
    "id": "4149134c"
   },
   "source": [
    "## Цели и задачи проекта\n",
    "\n",
    "<font color='#777778'>\n",
    "    \n",
    "**Цель проекта** - изучить активность пользователей сервиса Яндекс КНиги, выявить закономерности потребления контента, проверить гипотезу о том, что пользователи из Санкт-Петербурга проводят больше времени в приложении по сравнению с пользователями из Москвы.\n",
    "\n",
    "**Задачи проекта**:\n",
    "- Провести предобработку данных.\n",
    "- Проверить гипотезу\n",
    "- Подготовить аналитическую записку с описанием.</font>"
   ]
  },
  {
   "cell_type": "markdown",
   "id": "728986ea",
   "metadata": {
    "id": "728986ea"
   },
   "source": [
    "## Описание данных\n",
    "\n",
    "\n",
    "<font color='#777778'>\n",
    "\n",
    "Таблица `bookmate.audition` содержит данные об активности пользователей и состоит из следующих полей:\n",
    "\n",
    "- `audition_id` — уникальный идентификатор сессии чтения или прослушивания;\n",
    "- `puid` — идентификатор пользователя;\n",
    "- `usage_platform_ru` — название платформы, с помощью которой пользователь слушал контент;\n",
    "- `msk_business_dt_str` — дата события в формате строки (московское время);\n",
    "- `app_version` — версия приложения, которая использовалась для чтения или прослушивания;\n",
    "- `adult_content_flg` — был ли это контент для взрослых: True или False;\n",
    "- `hours` — длительность чтения или прослушивания в часах;\n",
    "- `hours_sessions_long` — продолжительность длинных сессий чтения или прослушивания в часах;\n",
    "- `kids_content_flg` — был ли это детский контент: True или False;\n",
    "- `main_content_id` — идентификатор основного контента;\n",
    "- `usage_geo_id` — идентификатор географического местоположения.\n",
    "    \n",
    "Таблица `bookmate.content` содержит данные о контенте и состоит из следующих полей:\n",
    "    \n",
    "- `main_content_id` — идентификатор основного контента;\n",
    "- `main_author_id` — идентификатор основного автора контента;\n",
    "- `main_content_type` — тип контента;\n",
    "- `main_content_name`— название контента;\n",
    "- `main_content_duration_hours` — длительность контента в часах;\n",
    "- `published_topic_title_list` — список жанров контента.\n",
    "    \n",
    "Таблица `bookmate.author` содержит данные об авторах контента и состоит из следующих полей:\n",
    "    \n",
    "- `main_author_id` — идентификатор основного автора контента;\n",
    "- `main_author_name` — имя основного автора контента.\n",
    "    \n",
    "Таблица `bookmate.geo` содержит данные о местоположении и состоит из следующих полей:\n",
    "    \n",
    "- `usage_geo_id` — идентификатор географического положения;\n",
    "- `usage_geo_id_name` — город или регион географического положения;\n",
    "- `usage_country_name` — страна географического положения.\n",
    "</font>"
   ]
  },
  {
   "cell_type": "markdown",
   "id": "4fecaf95",
   "metadata": {
    "id": "4fecaf95"
   },
   "source": [
    "## Содержимое проекта\n",
    "\n",
    "<font color='#777778'>\n",
    "\n",
    "1.   [Загрузка данных и знакомство с ними.](#1-bullet)\n",
    "2.   [Проверка гипотезы в Python.](#2-bullet)\n",
    "3.   [Аналитическая записка](#3-bullet)\n",
    "\n",
    "</font>\n",
    "\n",
    "---"
   ]
  },
  {
   "cell_type": "markdown",
   "id": "6f7d21d6",
   "metadata": {
    "id": "6f7d21d6"
   },
   "source": [
    "<a class=\"anchor\" id=\"1-bullet\"></a>\n",
    "## 1. Загрузка данных и знакомство с ними\n",
    "\n",
    "Загрузим данные пользователей из Москвы и Санкт-Петербурга c их активностью  из файла `/datasets/yandex_knigi_data.csv`. И изучим имеющиеся данные."
   ]
  },
  {
   "cell_type": "code",
   "execution_count": 32,
   "id": "05faf34b",
   "metadata": {
    "id": "05faf34b"
   },
   "outputs": [],
   "source": [
    "# Импорт библиотек\n",
    "\n",
    "import pandas as pd\n",
    "import seaborn as sns\n",
    "import matplotlib.pyplot as plt\n",
    "import scipy.stats as st"
   ]
  },
  {
   "cell_type": "code",
   "execution_count": 33,
   "id": "ce87c1db",
   "metadata": {
    "id": "ce87c1db"
   },
   "outputs": [],
   "source": [
    "# Выгрузим датафрейм\n",
    "sessions_history = pd.read_csv('https://code.s3.yandex.net/datasets/yandex_knigi_data.csv')"
   ]
  },
  {
   "cell_type": "code",
   "execution_count": 34,
   "id": "f68a7419",
   "metadata": {
    "id": "f68a7419"
   },
   "outputs": [
    {
     "data": {
      "text/html": [
       "<div>\n",
       "<style scoped>\n",
       "    .dataframe tbody tr th:only-of-type {\n",
       "        vertical-align: middle;\n",
       "    }\n",
       "\n",
       "    .dataframe tbody tr th {\n",
       "        vertical-align: top;\n",
       "    }\n",
       "\n",
       "    .dataframe thead th {\n",
       "        text-align: right;\n",
       "    }\n",
       "</style>\n",
       "<table border=\"1\" class=\"dataframe\">\n",
       "  <thead>\n",
       "    <tr style=\"text-align: right;\">\n",
       "      <th></th>\n",
       "      <th>Unnamed: 0</th>\n",
       "      <th>city</th>\n",
       "      <th>puid</th>\n",
       "      <th>hours</th>\n",
       "    </tr>\n",
       "  </thead>\n",
       "  <tbody>\n",
       "    <tr>\n",
       "      <th>0</th>\n",
       "      <td>0</td>\n",
       "      <td>Москва</td>\n",
       "      <td>9668</td>\n",
       "      <td>26.167776</td>\n",
       "    </tr>\n",
       "    <tr>\n",
       "      <th>1</th>\n",
       "      <td>1</td>\n",
       "      <td>Москва</td>\n",
       "      <td>16598</td>\n",
       "      <td>82.111217</td>\n",
       "    </tr>\n",
       "    <tr>\n",
       "      <th>2</th>\n",
       "      <td>2</td>\n",
       "      <td>Москва</td>\n",
       "      <td>80401</td>\n",
       "      <td>4.656906</td>\n",
       "    </tr>\n",
       "    <tr>\n",
       "      <th>3</th>\n",
       "      <td>3</td>\n",
       "      <td>Москва</td>\n",
       "      <td>140205</td>\n",
       "      <td>1.840556</td>\n",
       "    </tr>\n",
       "    <tr>\n",
       "      <th>4</th>\n",
       "      <td>4</td>\n",
       "      <td>Москва</td>\n",
       "      <td>248755</td>\n",
       "      <td>151.326434</td>\n",
       "    </tr>\n",
       "  </tbody>\n",
       "</table>\n",
       "</div>"
      ],
      "text/plain": [
       "   Unnamed: 0    city    puid       hours\n",
       "0           0  Москва    9668   26.167776\n",
       "1           1  Москва   16598   82.111217\n",
       "2           2  Москва   80401    4.656906\n",
       "3           3  Москва  140205    1.840556\n",
       "4           4  Москва  248755  151.326434"
      ]
     },
     "execution_count": 34,
     "metadata": {},
     "output_type": "execute_result"
    }
   ],
   "source": [
    "# Выведем первые 5 строк\n",
    "sessions_history.head(5)"
   ]
  },
  {
   "cell_type": "code",
   "execution_count": 35,
   "id": "30af334a",
   "metadata": {},
   "outputs": [
    {
     "data": {
      "text/html": [
       "<div>\n",
       "<style scoped>\n",
       "    .dataframe tbody tr th:only-of-type {\n",
       "        vertical-align: middle;\n",
       "    }\n",
       "\n",
       "    .dataframe tbody tr th {\n",
       "        vertical-align: top;\n",
       "    }\n",
       "\n",
       "    .dataframe thead th {\n",
       "        text-align: right;\n",
       "    }\n",
       "</style>\n",
       "<table border=\"1\" class=\"dataframe\">\n",
       "  <thead>\n",
       "    <tr style=\"text-align: right;\">\n",
       "      <th></th>\n",
       "      <th>city</th>\n",
       "      <th>puid</th>\n",
       "      <th>hours</th>\n",
       "    </tr>\n",
       "  </thead>\n",
       "  <tbody>\n",
       "    <tr>\n",
       "      <th>0</th>\n",
       "      <td>Москва</td>\n",
       "      <td>9668</td>\n",
       "      <td>26.167776</td>\n",
       "    </tr>\n",
       "    <tr>\n",
       "      <th>1</th>\n",
       "      <td>Москва</td>\n",
       "      <td>16598</td>\n",
       "      <td>82.111217</td>\n",
       "    </tr>\n",
       "    <tr>\n",
       "      <th>2</th>\n",
       "      <td>Москва</td>\n",
       "      <td>80401</td>\n",
       "      <td>4.656906</td>\n",
       "    </tr>\n",
       "    <tr>\n",
       "      <th>3</th>\n",
       "      <td>Москва</td>\n",
       "      <td>140205</td>\n",
       "      <td>1.840556</td>\n",
       "    </tr>\n",
       "    <tr>\n",
       "      <th>4</th>\n",
       "      <td>Москва</td>\n",
       "      <td>248755</td>\n",
       "      <td>151.326434</td>\n",
       "    </tr>\n",
       "    <tr>\n",
       "      <th>...</th>\n",
       "      <td>...</td>\n",
       "      <td>...</td>\n",
       "      <td>...</td>\n",
       "    </tr>\n",
       "    <tr>\n",
       "      <th>8779</th>\n",
       "      <td>Санкт-Петербург</td>\n",
       "      <td>1130000028554332</td>\n",
       "      <td>4.107774</td>\n",
       "    </tr>\n",
       "    <tr>\n",
       "      <th>8780</th>\n",
       "      <td>Санкт-Петербург</td>\n",
       "      <td>1130000030307246</td>\n",
       "      <td>45.069222</td>\n",
       "    </tr>\n",
       "    <tr>\n",
       "      <th>8781</th>\n",
       "      <td>Санкт-Петербург</td>\n",
       "      <td>1130000038726322</td>\n",
       "      <td>0.211944</td>\n",
       "    </tr>\n",
       "    <tr>\n",
       "      <th>8782</th>\n",
       "      <td>Санкт-Петербург</td>\n",
       "      <td>1130000047892100</td>\n",
       "      <td>4.311841</td>\n",
       "    </tr>\n",
       "    <tr>\n",
       "      <th>8783</th>\n",
       "      <td>Санкт-Петербург</td>\n",
       "      <td>1130000061443598</td>\n",
       "      <td>20.847222</td>\n",
       "    </tr>\n",
       "  </tbody>\n",
       "</table>\n",
       "<p>8784 rows × 3 columns</p>\n",
       "</div>"
      ],
      "text/plain": [
       "                 city              puid       hours\n",
       "0              Москва              9668   26.167776\n",
       "1              Москва             16598   82.111217\n",
       "2              Москва             80401    4.656906\n",
       "3              Москва            140205    1.840556\n",
       "4              Москва            248755  151.326434\n",
       "...               ...               ...         ...\n",
       "8779  Санкт-Петербург  1130000028554332    4.107774\n",
       "8780  Санкт-Петербург  1130000030307246   45.069222\n",
       "8781  Санкт-Петербург  1130000038726322    0.211944\n",
       "8782  Санкт-Петербург  1130000047892100    4.311841\n",
       "8783  Санкт-Петербург  1130000061443598   20.847222\n",
       "\n",
       "[8784 rows x 3 columns]"
      ]
     },
     "execution_count": 35,
     "metadata": {},
     "output_type": "execute_result"
    }
   ],
   "source": [
    "# Удалим ненужный столбец\n",
    "sessions_history.drop(columns=['Unnamed: 0'])"
   ]
  },
  {
   "cell_type": "code",
   "execution_count": 36,
   "id": "fd6dcf7f",
   "metadata": {},
   "outputs": [
    {
     "name": "stdout",
     "output_type": "stream",
     "text": [
      "244\n"
     ]
    }
   ],
   "source": [
    "# Проверка на дубликаты\n",
    "duplicates = sessions_history.duplicated(subset=['puid']).sum()\n",
    "print(duplicates)"
   ]
  },
  {
   "cell_type": "code",
   "execution_count": 37,
   "id": "39c3af28",
   "metadata": {},
   "outputs": [],
   "source": [
    "# Удаление дубликатов по идентификаторам пользователей (puid)\n",
    "sessions_history = sessions_history.drop_duplicates(subset=['puid'])"
   ]
  },
  {
   "cell_type": "code",
   "execution_count": 38,
   "id": "aae66515",
   "metadata": {},
   "outputs": [
    {
     "name": "stdout",
     "output_type": "stream",
     "text": [
      "Количество уникальных пользователей в Москве: 6234\n",
      "Количество уникальных пользователей в Санкт-Петербурге: 2306\n"
     ]
    }
   ],
   "source": [
    "# Количество уникальных пользователей в каждом городе\n",
    "\n",
    "users_per_city = sessions_history.groupby('city')['puid'].nunique()\n",
    "\n",
    "print(f\"Количество уникальных пользователей в Москве: {users_per_city['Москва']}\")\n",
    "print(f\"Количество уникальных пользователей в Санкт-Петербурге: {users_per_city['Санкт-Петербург']}\")"
   ]
  },
  {
   "cell_type": "code",
   "execution_count": 39,
   "id": "5fe2d876",
   "metadata": {},
   "outputs": [
    {
     "name": "stdout",
     "output_type": "stream",
     "text": [
      "Описательные статистики для Москвы:\n",
      "count    6234.000000\n",
      "mean       10.881092\n",
      "std        36.851683\n",
      "min         0.000018\n",
      "25%         0.059903\n",
      "50%         0.924498\n",
      "75%         5.939972\n",
      "max       857.209373\n",
      "Name: hours, dtype: float64\n",
      "\n",
      "Описательные статистики для Санкт-Петербурга:\n",
      "count    2306.000000\n",
      "mean       11.264433\n",
      "std        39.831755\n",
      "min         0.000025\n",
      "25%         0.060173\n",
      "50%         0.875355\n",
      "75%         6.138424\n",
      "max       978.764775\n",
      "Name: hours, dtype: float64\n"
     ]
    }
   ],
   "source": [
    "# Описательные статистики по группам\n",
    "print(\"Описательные статистики для Москвы:\")\n",
    "print(sessions_history[sessions_history['city'] == 'Москва']['hours'].describe())\n",
    "print(\"\\nОписательные статистики для Санкт-Петербурга:\")\n",
    "print(sessions_history[sessions_history['city'] == 'Санкт-Петербург']['hours'].describe())"
   ]
  },
  {
   "cell_type": "code",
   "execution_count": 40,
   "id": "b0723fe2",
   "metadata": {},
   "outputs": [
    {
     "data": {
      "image/png": "[encoded data removed]",
      "text/plain": [
       "<Figure size 864x432 with 1 Axes>"
      ]
     },
     "metadata": {},
     "output_type": "display_data"
    }
   ],
   "source": [
    "# Визуализация распределения активности\n",
    "plt.figure(figsize=(12, 6))\n",
    "sns.boxplot(x='city', y='hours', data=sessions_history)\n",
    "plt.title('Распределение активности пользователей по городам')\n",
    "plt.xlabel('Город')\n",
    "plt.ylabel('Часы активности')\n",
    "plt.show()"
   ]
  },
  {
   "cell_type": "markdown",
   "id": "608e2795",
   "metadata": {},
   "source": [
    "**Вывод:**\n",
    "\n",
    "- Пользователи из Санкт-Петербурга в среднем проводят в приложении 11.26 часов, что немного больше, чем у пользователей из Москвы (10.88 часов).\n",
    "- Большинство пользователей в обоих городах проводят в приложении менее 1 часа.\n",
    "- В обеих группах наблюдается высокий разброс данных.\n",
    "- По графику видно, что в обеих группах присутствуют выбросы.\n",
    "- В Санкт-Петербурге наблюдается большее количество выбросов."
   ]
  },
  {
   "cell_type": "markdown",
   "id": "956e82e2",
   "metadata": {
    "id": "956e82e2"
   },
   "source": [
    "<a class=\"anchor\" id=\"2-bullet\"></a>\n",
    "## 2. Проверка гипотезы в Python\n",
    "\n",
    "Формулировка гипотезы: пользователи из Санкт-Петербурга проводят в среднем больше времени за чтением и прослушиванием книг в приложении, чем пользователи из Москвы. \n",
    "\n",
    "- Нулевая гипотеза H₀: Средняя активность пользователей в часах в двух группах (Москва и Санкт-Петербург) не различается.\n",
    "\n",
    "- Альтернативная гипотеза H₁: Средняя активность пользователей в Санкт-Петербурге больше, и это различие статистически значимо.\n",
    "\n",
    "Уровень значимости: $\\alpha = 0.05$ "
   ]
  },
  {
   "cell_type": "code",
   "execution_count": 42,
   "id": "33f8bc9b",
   "metadata": {},
   "outputs": [],
   "source": [
    "# Распределим на группы\n",
    "moscow_data = sessions_history[sessions_history['city'] == 'Москва']['hours']\n",
    "spb_data = sessions_history[sessions_history['city'] == 'Санкт-Петербург']['hours']"
   ]
  },
  {
   "cell_type": "code",
   "execution_count": 43,
   "id": "d2fd67b7",
   "metadata": {},
   "outputs": [
    {
     "name": "stdout",
     "output_type": "stream",
     "text": [
      "Результат теста Левена (p-value): 0.6679185085534312\n",
      "Дисперсии не различаются.\n"
     ]
    }
   ],
   "source": [
    "# Проверка равенства дисперсий \n",
    "levene_test = st.levene(moscow_data, spb_data)\n",
    "print(f\"Результат теста Левена (p-value): {levene_test.pvalue}\")\n",
    "\n",
    "if levene_test.pvalue < 0.05:\n",
    "    equal_var = False  \n",
    "    print(\"Дисперсии различаются.\")\n",
    "else:\n",
    "    equal_var = True \n",
    "    print(\"Дисперсии не различаются.\")"
   ]
  },
  {
   "cell_type": "code",
   "execution_count": 44,
   "id": "67956690",
   "metadata": {
    "id": "67956690"
   },
   "outputs": [
    {
     "name": "stdout",
     "output_type": "stream",
     "text": [
      "Полученное значение p_value=0.338193679651558 больше критического уровня alpha=0.05. Опровергнуть нулевую гипотезу нельзя.\n",
      "t-статистика: 0.4174122942907679\n",
      "p-value: 0.338193679651558\n"
     ]
    }
   ],
   "source": [
    "# Вспомогательная функция для интерпретации результатов\n",
    "\n",
    "def print_stattest_results(p_value:float, alpha:float = 0.05):\n",
    "    if p_value < alpha:\n",
    "        print(f\"Полученное значение p_value={p_value} меньше критического уровня alpha={alpha}. Отклоняем нулевую гипотезу.\")\n",
    "    else:\n",
    "        print(f\"Полученное значение p_value={p_value} больше критического уровня alpha={alpha}. Опровергнуть нулевую гипотезу нельзя.\")\n",
    "\n",
    "\n",
    "t_stat, p_value = st.ttest_ind(spb_data, \n",
    "                               moscow_data, \n",
    "                               alternative='greater',\n",
    "                               equal_var = True,\n",
    "                               nan_policy='omit')\n",
    "\n",
    "\n",
    "# Вывод результатов\n",
    "print_stattest_results(p_value)\n",
    "print(f\"t-статистика: {t_stat}\")\n",
    "print(f\"p-value: {p_value}\")"
   ]
  },
  {
   "cell_type": "markdown",
   "id": "f2c5776b",
   "metadata": {},
   "source": [
    "**Вывод:**\n",
    "Нулевую гипотезу отвергнуть мы не можем. Средняя активность пользователей в Санкт-Петербурге не превышает активность пользователей в Москве."
   ]
  },
  {
   "cell_type": "markdown",
   "id": "6953e84c",
   "metadata": {
    "id": "6953e84c"
   },
   "source": [
    "<a class=\"anchor\" id=\"3-bullet\"></a>\n",
    "## 3. Аналитическая записка\n",
    "По результатам анализа данных подготовьте аналитическую записку, в которой опишете:\n",
    "\n",
    "- Выбранный тип t-теста и уровень статистической значимости.\n",
    "\n",
    "- Результат теста, или p-value.\n",
    "\n",
    "- Вывод на основе полученного p-value, то есть интерпретацию результатов.\n",
    "\n",
    "- Одну или две возможные причины, объясняющие полученные результаты.\n",
    "\n"
   ]
  },
  {
   "cell_type": "markdown",
   "id": "tDwMKFNGsClr",
   "metadata": {
    "id": "tDwMKFNGsClr"
   },
   "source": [
    "- Целью исследования было проверить гипотезу о том, что пользователи из Санкт-Петербурга проводят больше времени за чтением и прослушиванием книг в приложении Яндекс Книги, чем пользователи из Москвы. В качестве данных использована информация о сессиях пользователей Яндекс Книги в Москве и Санкт-Петербурге.\n",
    "\n",
    "- Для проверки гипотезы был использован односторонний t-тест, которые позваляет сравнивать средние значения двух выборок. Был выбран уровень значимости: $\\alpha = 0.05$ .\n",
    "\n",
    "- После проведения t-теста мы получили, что значение p-value = 0.338. На основе этого значения мы не можем отклонить нулевую гипотезу. Тем самым различия в средней активности между пользователями из Санкт-Петербурга и Москвы не являются статистически значимыми.\n",
    "\n",
    "- Причиной такого результата могли послужить следующие факторы: незначительная разница в средних значениях, наличие выбросов, размер выборки: в Москве почти в 3 раза больше пользователей, чем в Санкт-Петербурге.\n",
    "\n",
    "- Для более точных результатов стоит провести дополнительный анализ, разделив пользователей по иным характеристикам, провести анализ пользователей с высокой активностью."
   ]
  }
 ],
 "metadata": {
  "ExecuteTimeLog": [
   {
    "duration": 453,
    "start_time": "2025-03-10T12:19:05.817Z"
   },
   {
    "duration": 96,
    "start_time": "2025-03-10T12:19:45.131Z"
   },
   {
    "duration": 15,
    "start_time": "2025-03-10T12:19:51.958Z"
   },
   {
    "duration": 6,
    "start_time": "2025-03-10T12:41:01.079Z"
   },
   {
    "duration": 9,
    "start_time": "2025-03-10T12:41:42.961Z"
   },
   {
    "duration": 949,
    "start_time": "2025-03-10T12:42:34.287Z"
   },
   {
    "duration": 107,
    "start_time": "2025-03-10T12:42:38.395Z"
   },
   {
    "duration": 3,
    "start_time": "2025-03-10T12:42:57.715Z"
   },
   {
    "duration": 160,
    "start_time": "2025-03-10T12:43:00.780Z"
   },
   {
    "duration": 1331,
    "start_time": "2025-03-10T12:45:34.090Z"
   },
   {
    "duration": 236,
    "start_time": "2025-03-10T12:55:57.472Z"
   },
   {
    "duration": 13,
    "start_time": "2025-03-10T12:57:51.602Z"
   },
   {
    "duration": 139,
    "start_time": "2025-03-10T12:58:17.169Z"
   },
   {
    "duration": 82,
    "start_time": "2025-03-10T12:58:44.671Z"
   },
   {
    "duration": 16,
    "start_time": "2025-03-10T12:59:03.942Z"
   },
   {
    "duration": 8,
    "start_time": "2025-03-10T13:02:59.660Z"
   },
   {
    "duration": 3,
    "start_time": "2025-03-10T13:03:15.593Z"
   },
   {
    "duration": 10,
    "start_time": "2025-03-10T13:03:18.617Z"
   },
   {
    "duration": 11,
    "start_time": "2025-03-10T13:03:37.698Z"
   },
   {
    "duration": 3,
    "start_time": "2025-03-10T13:13:41.970Z"
   },
   {
    "duration": 103,
    "start_time": "2025-03-10T13:15:39.423Z"
   },
   {
    "duration": 13,
    "start_time": "2025-03-10T13:15:51.965Z"
   },
   {
    "duration": 14,
    "start_time": "2025-03-10T13:16:20.069Z"
   },
   {
    "duration": 12,
    "start_time": "2025-03-10T13:16:35.749Z"
   },
   {
    "duration": 12,
    "start_time": "2025-03-10T13:17:41.854Z"
   },
   {
    "duration": 10,
    "start_time": "2025-03-10T13:17:49.920Z"
   },
   {
    "duration": 11,
    "start_time": "2025-03-10T13:18:25.079Z"
   },
   {
    "duration": 10,
    "start_time": "2025-03-10T13:18:40.290Z"
   },
   {
    "duration": 10,
    "start_time": "2025-03-10T13:22:51.997Z"
   },
   {
    "duration": 10,
    "start_time": "2025-03-10T13:23:52.232Z"
   },
   {
    "duration": 18,
    "start_time": "2025-03-10T13:27:09.326Z"
   },
   {
    "duration": 10,
    "start_time": "2025-03-10T13:27:18.325Z"
   },
   {
    "duration": 13,
    "start_time": "2025-03-10T13:31:54.891Z"
   },
   {
    "duration": 3,
    "start_time": "2025-03-10T13:42:29.556Z"
   },
   {
    "duration": 115,
    "start_time": "2025-03-10T13:42:29.561Z"
   },
   {
    "duration": 7,
    "start_time": "2025-03-10T13:42:29.678Z"
   },
   {
    "duration": 24,
    "start_time": "2025-03-10T13:42:29.687Z"
   },
   {
    "duration": 8,
    "start_time": "2025-03-10T13:42:29.713Z"
   },
   {
    "duration": 23,
    "start_time": "2025-03-10T13:42:29.722Z"
   },
   {
    "duration": 10,
    "start_time": "2025-03-10T13:42:29.746Z"
   },
   {
    "duration": 64,
    "start_time": "2025-03-11T13:28:50.541Z"
   },
   {
    "duration": 1270,
    "start_time": "2025-03-11T13:30:45.167Z"
   },
   {
    "duration": 88,
    "start_time": "2025-03-11T13:30:46.439Z"
   },
   {
    "duration": 12,
    "start_time": "2025-03-11T13:30:46.528Z"
   },
   {
    "duration": 15,
    "start_time": "2025-03-11T13:30:46.542Z"
   },
   {
    "duration": 7,
    "start_time": "2025-03-11T13:30:46.559Z"
   },
   {
    "duration": 19,
    "start_time": "2025-03-11T13:30:46.567Z"
   },
   {
    "duration": 106,
    "start_time": "2025-03-11T13:30:46.588Z"
   },
   {
    "duration": 1141,
    "start_time": "2025-03-11T13:35:04.542Z"
   },
   {
    "duration": 59,
    "start_time": "2025-03-11T13:35:05.685Z"
   },
   {
    "duration": 12,
    "start_time": "2025-03-11T13:35:05.746Z"
   },
   {
    "duration": 40,
    "start_time": "2025-03-11T13:35:05.760Z"
   },
   {
    "duration": 26,
    "start_time": "2025-03-11T13:35:05.802Z"
   },
   {
    "duration": 28,
    "start_time": "2025-03-11T13:35:05.830Z"
   },
   {
    "duration": 37,
    "start_time": "2025-03-11T13:35:05.859Z"
   },
   {
    "duration": 1472,
    "start_time": "2025-03-14T18:49:39.367Z"
   },
   {
    "duration": 69,
    "start_time": "2025-03-14T18:49:45.247Z"
   },
   {
    "duration": 15,
    "start_time": "2025-03-14T18:49:46.723Z"
   },
   {
    "duration": 19,
    "start_time": "2025-03-14T18:49:49.015Z"
   },
   {
    "duration": 5,
    "start_time": "2025-03-14T18:49:52.690Z"
   },
   {
    "duration": 4,
    "start_time": "2025-03-14T18:52:29.950Z"
   },
   {
    "duration": 5,
    "start_time": "2025-03-14T18:52:37.736Z"
   },
   {
    "duration": 6,
    "start_time": "2025-03-14T18:53:17.229Z"
   },
   {
    "duration": 13,
    "start_time": "2025-03-14T18:53:37.387Z"
   },
   {
    "duration": 147,
    "start_time": "2025-03-14T18:54:13.719Z"
   },
   {
    "duration": 9,
    "start_time": "2025-03-14T18:56:14.161Z"
   },
   {
    "duration": 8,
    "start_time": "2025-03-14T20:25:44.331Z"
   },
   {
    "duration": 7,
    "start_time": "2025-03-14T20:27:13.189Z"
   },
   {
    "duration": 9,
    "start_time": "2025-03-14T20:28:33.808Z"
   },
   {
    "duration": 1468,
    "start_time": "2025-03-15T09:04:40.872Z"
   },
   {
    "duration": 124,
    "start_time": "2025-03-15T09:04:42.342Z"
   },
   {
    "duration": 13,
    "start_time": "2025-03-15T09:04:42.467Z"
   },
   {
    "duration": 11,
    "start_time": "2025-03-15T09:04:42.483Z"
   },
   {
    "duration": 5,
    "start_time": "2025-03-15T09:04:42.496Z"
   },
   {
    "duration": 4,
    "start_time": "2025-03-15T09:04:42.503Z"
   },
   {
    "duration": 6,
    "start_time": "2025-03-15T09:04:42.509Z"
   },
   {
    "duration": 58,
    "start_time": "2025-03-15T09:04:42.516Z"
   },
   {
    "duration": 175,
    "start_time": "2025-03-15T09:04:42.576Z"
   },
   {
    "duration": 6,
    "start_time": "2025-03-15T09:04:42.753Z"
   },
   {
    "duration": 123,
    "start_time": "2025-03-15T09:04:42.765Z"
   },
   {
    "duration": 0,
    "start_time": "2025-03-15T09:04:42.890Z"
   },
   {
    "duration": 7,
    "start_time": "2025-03-15T09:25:36.104Z"
   },
   {
    "duration": 6,
    "start_time": "2025-03-15T09:25:39.340Z"
   },
   {
    "duration": 8,
    "start_time": "2025-03-15T09:26:20.878Z"
   },
   {
    "duration": 643,
    "start_time": "2025-03-15T09:37:29.806Z"
   },
   {
    "duration": 258,
    "start_time": "2025-03-15T09:37:56.999Z"
   },
   {
    "duration": 251,
    "start_time": "2025-03-15T09:38:06.133Z"
   },
   {
    "duration": 3,
    "start_time": "2025-03-15T10:01:46.221Z"
   },
   {
    "duration": 62,
    "start_time": "2025-03-15T10:01:46.226Z"
   },
   {
    "duration": 9,
    "start_time": "2025-03-15T10:01:46.290Z"
   },
   {
    "duration": 16,
    "start_time": "2025-03-15T10:01:46.301Z"
   },
   {
    "duration": 6,
    "start_time": "2025-03-15T10:01:46.319Z"
   },
   {
    "duration": 5,
    "start_time": "2025-03-15T10:01:46.326Z"
   },
   {
    "duration": 7,
    "start_time": "2025-03-15T10:01:46.332Z"
   },
   {
    "duration": 37,
    "start_time": "2025-03-15T10:01:46.340Z"
   },
   {
    "duration": 173,
    "start_time": "2025-03-15T10:01:46.379Z"
   },
   {
    "duration": 6,
    "start_time": "2025-03-15T10:01:46.553Z"
   },
   {
    "duration": 51,
    "start_time": "2025-03-15T10:01:46.562Z"
   },
   {
    "duration": 5,
    "start_time": "2025-03-15T10:01:46.615Z"
   },
   {
    "duration": 6,
    "start_time": "2025-03-15T10:01:46.622Z"
   },
   {
    "duration": 6,
    "start_time": "2025-03-15T10:02:21.026Z"
   },
   {
    "duration": 3,
    "start_time": "2025-03-15T10:02:32.605Z"
   },
   {
    "duration": 70,
    "start_time": "2025-03-15T10:02:32.611Z"
   },
   {
    "duration": 9,
    "start_time": "2025-03-15T10:02:32.683Z"
   },
   {
    "duration": 14,
    "start_time": "2025-03-15T10:02:32.694Z"
   },
   {
    "duration": 6,
    "start_time": "2025-03-15T10:02:32.710Z"
   },
   {
    "duration": 5,
    "start_time": "2025-03-15T10:02:32.718Z"
   },
   {
    "duration": 6,
    "start_time": "2025-03-15T10:02:32.725Z"
   },
   {
    "duration": 41,
    "start_time": "2025-03-15T10:02:32.732Z"
   },
   {
    "duration": 186,
    "start_time": "2025-03-15T10:02:32.774Z"
   },
   {
    "duration": 3,
    "start_time": "2025-03-15T10:02:32.961Z"
   },
   {
    "duration": 20,
    "start_time": "2025-03-15T10:02:32.966Z"
   },
   {
    "duration": 12,
    "start_time": "2025-03-15T10:02:32.988Z"
   },
   {
    "duration": 7,
    "start_time": "2025-03-15T10:02:33.002Z"
   }
  ],
  "colab": {
   "provenance": []
  },
  "kernelspec": {
   "display_name": "Python 3 (ipykernel)",
   "language": "python",
   "name": "python3"
  },
  "language_info": {
   "codemirror_mode": {
    "name": "ipython",
    "version": 3
   },
   "file_extension": ".py",
   "mimetype": "text/x-python",
   "name": "python",
   "nbconvert_exporter": "python",
   "pygments_lexer": "ipython3",
   "version": "3.13.2"
  },
  "toc": {
   "base_numbering": 1,
   "nav_menu": {},
   "number_sections": false,
   "sideBar": true,
   "skip_h1_title": true,
   "title_cell": "Table of Contents",
   "title_sidebar": "Contents",
   "toc_cell": false,
   "toc_position": {},
   "toc_section_display": true,
   "toc_window_display": false
  }
 },
 "nbformat": 4,
 "nbformat_minor": 5
}
