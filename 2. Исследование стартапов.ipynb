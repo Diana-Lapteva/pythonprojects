{
 "cells": [
  {
   "cell_type": "markdown",
   "metadata": {
    "id": "4mJbK1knrJgz"
   },
   "source": [
    "# Проект: Исследование стартапов\n",
    "\n",
    "- Автор: Лаптева Диана\n",
    "- Дата: 20.12.2024"
   ]
  },
  {
   "cell_type": "markdown",
   "metadata": {
    "id": "P6j0r3worJg0"
   },
   "source": [
    "## Введение"
   ]
  },
  {
   "cell_type": "markdown",
   "metadata": {
    "id": "8lQtbsIUyFG6"
   },
   "source": [
    "### Цель проекта\n",
    "\n",
    "<font color='#777778'> Определить тенденции развивающихся и перспективных стартапов. </font>"
   ]
  },
  {
   "cell_type": "markdown",
   "metadata": {},
   "source": [
    "### Задачи проекта \n",
    "\n",
    "<font color='#777778'>    \n",
    "    \n",
    "- Обработка и предобработка данных \n",
    "    \n",
    "- Проанализировать данные о сотрудниках стартапов и их образовании\n",
    "    \n",
    "- Выявить причины возникновения покупок с низкой стоимостью\n",
    "\n",
    "- Определение стоимость в зависимости от категории стартапов и количества раундов финансирования перед его покупкой\n",
    "    \n",
    "- Выявление перспективных развитий</font>"
   ]
  },
  {
   "cell_type": "markdown",
   "metadata": {},
   "source": [
    "### Описание данных\n",
    "\n",
    "<font color='#777778'>\n",
    "\n",
    "В проекте будут использованны данные датасета `acquisition.csv` со следующим описанием:\n",
    "    \n",
    "- `id` — идентификатор покупки.\n",
    "- `acquiring_company_id` — идентификатор покупающей компании.\n",
    "- `acquired_company_id` — идентификатор покупаемой компании.\n",
    "- `term_code` — варианты расчёта.\n",
    "- `price_amount` — сумма сделки.\n",
    "- `acquired_at` — дата сделки.\n",
    "    \n",
    "    \n",
    "Также будет использован датасет `company_and_rounds.csv` с описанием:\n",
    "    \n",
    "- `company ID` — идентификатор компании.\n",
    "- `name` — название компании.\n",
    "- `category code` — категория области деятельности компании.\n",
    "- `status` — статус компании.\n",
    "- `founded at` — дата инвестирования.\n",
    "- `closed at` — дата закрытия компании.\n",
    "- `domain` — официальный сайт компании.\n",
    "- `network username` — ник компании в сети.\n",
    "- `country code` — код страны компании.\n",
    "- `investment rounds` — число инвестиционных раундов.\n",
    "- `funding rounds` — число раундов финансирования.\n",
    "- `funding total` — сумма финансирования.\n",
    "- `milestones` — вехи финансирования.\n",
    "- `funding round id` — идентификатор этапа финансирования.\n",
    "- `company id` — идентификатор компании.\n",
    "- `funded at` — дата финансирования.\n",
    "- `funding round type` — тип финансирования.\n",
    "- `raised amount` — сумма финансирования.\n",
    "- `pre money valuation` — предварительная денежная оценка.\n",
    "- `participants` — число участников.\n",
    "- `is first round` — является ли раунд первым.\n",
    "- `is last round` — является раунд последним.\n",
    "- `milestones` — вехи финансирования.\n",
    "    \n",
    "В том числе будем использовать датасет `fund.csv`, содержащий сведения о:\n",
    "    \n",
    "- `id` — идентификатор фонда.\n",
    "- `name` — название фонда.\n",
    "- `category_code` — категория области деятельности компании.\n",
    "- `founded_at` — дата создания фонда.\n",
    "- `domain` — сайт фонда.\n",
    "- `network_username` — ник фонда в сети.\n",
    "- `country_code` — код страны фонда.\n",
    "- `investment_rounds` — число инвестиционных раундов.\n",
    "- `invested_companies` — число профинансированных компаний.\n",
    "- `milestones` — вехи финансирования.\n",
    "    \n",
    "Датасет `investment.csv` с информацией о раундах инвестирования:\n",
    "    \n",
    "- `id` — идентификатор этапа инвестирования.\n",
    "- `funding_round_id` — идентификатор раунда инвестирования.\n",
    "- `company_id` — индентификатор компании.\n",
    "- `funding_round_type` — тип финансирования.\n",
    "- `fund_id` — идентификатор фонда.\n",
    "    \n",
    "Датасет `education.csv`с описанием:\n",
    "\n",
    "- `id` — идентификатор записи об образовании.\n",
    "- `person_id` — идентификатор работника.\n",
    "- `instituition` — название учебного заведения.\n",
    "- `graduated_at` — дата получения образования.\n",
    "    \n",
    "Датасет `people` с информацией:\n",
    "    \n",
    "- `id` — идентификатор сотрудника.\n",
    "- `first_name` — имя сотрудника.\n",
    "- `last_name` — фамилия сотрудника.\n",
    "- `company_id` — идентификатор компании.\n",
    "- `network_username` — ник в социальных сетях.\n",
    "- `graduated_at` — дата получения образования.\n",
    "    \n",
    "Датасет `degrees` с описанием:\n",
    "\n",
    "- `id` — идентификатор записи.\n",
    "- `object_id` — идентификатор сотрудника.\n",
    "- `degree_type` — тип образования.\n",
    "- `subject` — специальность."
   ]
  },
  {
   "cell_type": "markdown",
   "metadata": {},
   "source": [
    "### Содержимое проекта\n",
    "\n",
    "<font color='#777778'>\n",
    "\n",
    "1. [Загрузка и знакомство с данными.](#1-bullet)\n",
    "2. [Предобработка данных, предворительное исследование.](#2-bullet)\n",
    "3. [Исследовательский анализ данных.](#3-bullet)\n",
    "4. [Итоговый вывод и рекомендации](#4-bullet)\n",
    "</font>\n",
    "\n",
    "---"
   ]
  },
  {
   "cell_type": "markdown",
   "metadata": {
    "id": "xqr6uttCrJg0"
   },
   "source": [
    "<a class=\"anchor\" id=\"1-bullet\"></a>\n",
    "## Шаг 1. Знакомство с данными: загрузка и первичная предобработка\n",
    "\n",
    "Названия файлов:\n",
    "* acquisition.csv\n",
    "* company_and_rounds.csv\n",
    "* degrees.csv\n",
    "* education.csv\n",
    "* fund.csv\n",
    "* investment.csv\n",
    "* people.csv\n",
    "\n",
    "Они находятся в папке datasets, если вы выполняете работу на платформе. В случае, если вы делаете работу локально, доступ к файлам в папке можно получить по адресу `https://code.s3.yandex.net/datasets/` + имя файла.\n",
    "\n",
    "### 1.1. Вывод общей информации, исправление названия столбцов\n",
    "\n",
    "* Загрузите все данные по проекту.\n",
    "\n",
    "* Проверьте названия столбцов и есть ли в датасетах полные дубликаты строк.\n",
    "\n",
    "* Выведите информацию, которая необходима вам для принятия решений о предобработке, для каждого из датасетов."
   ]
  },
  {
   "cell_type": "markdown",
   "metadata": {},
   "source": [
    "Импотируем все необходимые библиотеки. Будем использовать `pandas`."
   ]
  },
  {
   "cell_type": "code",
   "execution_count": 902,
   "metadata": {
    "id": "W_W4jRazrJg0",
    "vscode": {
     "languageId": "plaintext"
    }
   },
   "outputs": [],
   "source": [
    "import pandas as pd\n",
    "import matplotlib.pyplot as plt\n",
    "import seaborn as sns"
   ]
  },
  {
   "cell_type": "code",
   "execution_count": 903,
   "metadata": {},
   "outputs": [],
   "source": [
    "acquisition = pd.read_csv('https://code.s3.yandex.net/datasets/acquisition.csv')\n",
    "company_and_rounds = pd.read_csv('https://code.s3.yandex.net/datasets/company_and_rounds.csv')\n",
    "degrees = pd.read_csv('https://code.s3.yandex.net/datasets/degrees.csv')\n",
    "education = pd.read_csv('https://code.s3.yandex.net/datasets/education.csv')\n",
    "fund = pd.read_csv('https://code.s3.yandex.net/datasets/fund.csv')\n",
    "investment = pd.read_csv('https://code.s3.yandex.net/datasets/investment.csv')\n",
    "people = pd.read_csv('https://code.s3.yandex.net/datasets/people.csv')"
   ]
  },
  {
   "cell_type": "markdown",
   "metadata": {},
   "source": [
    "Выведем основную информацию о данных с помощью метода `info()` и первые строки датасетов, используя `head()`."
   ]
  },
  {
   "cell_type": "code",
   "execution_count": 904,
   "metadata": {},
   "outputs": [
    {
     "data": {
      "text/html": [
       "<div>\n",
       "<style scoped>\n",
       "    .dataframe tbody tr th:only-of-type {\n",
       "        vertical-align: middle;\n",
       "    }\n",
       "\n",
       "    .dataframe tbody tr th {\n",
       "        vertical-align: top;\n",
       "    }\n",
       "\n",
       "    .dataframe thead th {\n",
       "        text-align: right;\n",
       "    }\n",
       "</style>\n",
       "<table border=\"1\" class=\"dataframe\">\n",
       "  <thead>\n",
       "    <tr style=\"text-align: right;\">\n",
       "      <th></th>\n",
       "      <th>id</th>\n",
       "      <th>acquiring_company_id</th>\n",
       "      <th>acquired_company_id</th>\n",
       "      <th>term_code</th>\n",
       "      <th>price_amount</th>\n",
       "      <th>acquired_at</th>\n",
       "    </tr>\n",
       "  </thead>\n",
       "  <tbody>\n",
       "    <tr>\n",
       "      <th>0</th>\n",
       "      <td>1</td>\n",
       "      <td>11</td>\n",
       "      <td>10</td>\n",
       "      <td>NaN</td>\n",
       "      <td>20000000</td>\n",
       "      <td>2007-05-30</td>\n",
       "    </tr>\n",
       "    <tr>\n",
       "      <th>1</th>\n",
       "      <td>7</td>\n",
       "      <td>59</td>\n",
       "      <td>72</td>\n",
       "      <td>cash</td>\n",
       "      <td>60000000</td>\n",
       "      <td>2007-07-01</td>\n",
       "    </tr>\n",
       "    <tr>\n",
       "      <th>2</th>\n",
       "      <td>8</td>\n",
       "      <td>24</td>\n",
       "      <td>132</td>\n",
       "      <td>cash</td>\n",
       "      <td>280000000</td>\n",
       "      <td>2007-05-01</td>\n",
       "    </tr>\n",
       "    <tr>\n",
       "      <th>3</th>\n",
       "      <td>9</td>\n",
       "      <td>59</td>\n",
       "      <td>155</td>\n",
       "      <td>cash</td>\n",
       "      <td>100000000</td>\n",
       "      <td>2007-06-01</td>\n",
       "    </tr>\n",
       "    <tr>\n",
       "      <th>4</th>\n",
       "      <td>10</td>\n",
       "      <td>212</td>\n",
       "      <td>215</td>\n",
       "      <td>cash</td>\n",
       "      <td>25000000</td>\n",
       "      <td>2007-07-01</td>\n",
       "    </tr>\n",
       "  </tbody>\n",
       "</table>\n",
       "</div>"
      ],
      "text/plain": [
       "   id  acquiring_company_id  acquired_company_id term_code  price_amount  \\\n",
       "0   1                    11                   10       NaN      20000000   \n",
       "1   7                    59                   72      cash      60000000   \n",
       "2   8                    24                  132      cash     280000000   \n",
       "3   9                    59                  155      cash     100000000   \n",
       "4  10                   212                  215      cash      25000000   \n",
       "\n",
       "  acquired_at  \n",
       "0  2007-05-30  \n",
       "1  2007-07-01  \n",
       "2  2007-05-01  \n",
       "3  2007-06-01  \n",
       "4  2007-07-01  "
      ]
     },
     "execution_count": 904,
     "metadata": {},
     "output_type": "execute_result"
    }
   ],
   "source": [
    "acquisition.head()"
   ]
  },
  {
   "cell_type": "code",
   "execution_count": 905,
   "metadata": {},
   "outputs": [
    {
     "name": "stdout",
     "output_type": "stream",
     "text": [
      "<class 'pandas.core.frame.DataFrame'>\n",
      "RangeIndex: 9407 entries, 0 to 9406\n",
      "Data columns (total 6 columns):\n",
      " #   Column                Non-Null Count  Dtype \n",
      "---  ------                --------------  ----- \n",
      " 0   id                    9407 non-null   int64 \n",
      " 1   acquiring_company_id  9407 non-null   int64 \n",
      " 2   acquired_company_id   9407 non-null   int64 \n",
      " 3   term_code             1831 non-null   object\n",
      " 4   price_amount          9407 non-null   int64 \n",
      " 5   acquired_at           9378 non-null   object\n",
      "dtypes: int64(4), object(2)\n",
      "memory usage: 441.1+ KB\n"
     ]
    }
   ],
   "source": [
    "acquisition.info()"
   ]
  },
  {
   "cell_type": "code",
   "execution_count": 906,
   "metadata": {},
   "outputs": [
    {
     "data": {
      "text/html": [
       "<div>\n",
       "<style scoped>\n",
       "    .dataframe tbody tr th:only-of-type {\n",
       "        vertical-align: middle;\n",
       "    }\n",
       "\n",
       "    .dataframe tbody tr th {\n",
       "        vertical-align: top;\n",
       "    }\n",
       "\n",
       "    .dataframe thead th {\n",
       "        text-align: right;\n",
       "    }\n",
       "</style>\n",
       "<table border=\"1\" class=\"dataframe\">\n",
       "  <thead>\n",
       "    <tr style=\"text-align: right;\">\n",
       "      <th></th>\n",
       "      <th>id</th>\n",
       "      <th>object_id</th>\n",
       "      <th>degree_type</th>\n",
       "      <th>subject</th>\n",
       "    </tr>\n",
       "  </thead>\n",
       "  <tbody>\n",
       "    <tr>\n",
       "      <th>0</th>\n",
       "      <td>1</td>\n",
       "      <td>p:6117</td>\n",
       "      <td>MBA</td>\n",
       "      <td>NaN</td>\n",
       "    </tr>\n",
       "    <tr>\n",
       "      <th>1</th>\n",
       "      <td>2</td>\n",
       "      <td>p:6136</td>\n",
       "      <td>BA</td>\n",
       "      <td>English, French</td>\n",
       "    </tr>\n",
       "    <tr>\n",
       "      <th>2</th>\n",
       "      <td>3</td>\n",
       "      <td>p:6136</td>\n",
       "      <td>MS</td>\n",
       "      <td>Mass Communication</td>\n",
       "    </tr>\n",
       "    <tr>\n",
       "      <th>3</th>\n",
       "      <td>4</td>\n",
       "      <td>p:6005</td>\n",
       "      <td>MS</td>\n",
       "      <td>Internet Technology</td>\n",
       "    </tr>\n",
       "    <tr>\n",
       "      <th>4</th>\n",
       "      <td>5</td>\n",
       "      <td>p:5832</td>\n",
       "      <td>BCS</td>\n",
       "      <td>Computer Science, Psychology</td>\n",
       "    </tr>\n",
       "  </tbody>\n",
       "</table>\n",
       "</div>"
      ],
      "text/plain": [
       "   id object_id degree_type                       subject\n",
       "0   1    p:6117         MBA                           NaN\n",
       "1   2    p:6136          BA               English, French\n",
       "2   3    p:6136          MS            Mass Communication\n",
       "3   4    p:6005          MS           Internet Technology\n",
       "4   5    p:5832         BCS  Computer Science, Psychology"
      ]
     },
     "execution_count": 906,
     "metadata": {},
     "output_type": "execute_result"
    }
   ],
   "source": [
    "degrees.head()"
   ]
  },
  {
   "cell_type": "code",
   "execution_count": 907,
   "metadata": {},
   "outputs": [
    {
     "name": "stdout",
     "output_type": "stream",
     "text": [
      "<class 'pandas.core.frame.DataFrame'>\n",
      "RangeIndex: 109610 entries, 0 to 109609\n",
      "Data columns (total 4 columns):\n",
      " #   Column       Non-Null Count   Dtype \n",
      "---  ------       --------------   ----- \n",
      " 0   id           109610 non-null  int64 \n",
      " 1   object_id    109610 non-null  object\n",
      " 2   degree_type  98392 non-null   object\n",
      " 3   subject      81298 non-null   object\n",
      "dtypes: int64(1), object(3)\n",
      "memory usage: 3.3+ MB\n"
     ]
    }
   ],
   "source": [
    "degrees.info()"
   ]
  },
  {
   "cell_type": "code",
   "execution_count": 908,
   "metadata": {},
   "outputs": [
    {
     "data": {
      "text/html": [
       "<div>\n",
       "<style scoped>\n",
       "    .dataframe tbody tr th:only-of-type {\n",
       "        vertical-align: middle;\n",
       "    }\n",
       "\n",
       "    .dataframe tbody tr th {\n",
       "        vertical-align: top;\n",
       "    }\n",
       "\n",
       "    .dataframe thead th {\n",
       "        text-align: right;\n",
       "    }\n",
       "</style>\n",
       "<table border=\"1\" class=\"dataframe\">\n",
       "  <thead>\n",
       "    <tr style=\"text-align: right;\">\n",
       "      <th></th>\n",
       "      <th>company  ID</th>\n",
       "      <th>name</th>\n",
       "      <th>category  code</th>\n",
       "      <th>status</th>\n",
       "      <th>founded  at</th>\n",
       "      <th>closed  at</th>\n",
       "      <th>domain</th>\n",
       "      <th>network  username</th>\n",
       "      <th>country  code</th>\n",
       "      <th>investment  rounds</th>\n",
       "      <th>...</th>\n",
       "      <th>milestones</th>\n",
       "      <th>funding  round  id</th>\n",
       "      <th>company  id</th>\n",
       "      <th>funded  at</th>\n",
       "      <th>funding  round  type</th>\n",
       "      <th>raised  amount</th>\n",
       "      <th>pre  money  valuation</th>\n",
       "      <th>participants</th>\n",
       "      <th>is  first  round</th>\n",
       "      <th>is  last  round</th>\n",
       "    </tr>\n",
       "  </thead>\n",
       "  <tbody>\n",
       "    <tr>\n",
       "      <th>0</th>\n",
       "      <td>1.0</td>\n",
       "      <td>Wetpaint</td>\n",
       "      <td>web</td>\n",
       "      <td>operating</td>\n",
       "      <td>2005-10-17</td>\n",
       "      <td>NaN</td>\n",
       "      <td>wetpaint-inc.com</td>\n",
       "      <td>BachelrWetpaint</td>\n",
       "      <td>USA</td>\n",
       "      <td>0.0</td>\n",
       "      <td>...</td>\n",
       "      <td>5.0</td>\n",
       "      <td>888.0</td>\n",
       "      <td>1.0</td>\n",
       "      <td>2005-10-01</td>\n",
       "      <td>series-a</td>\n",
       "      <td>5250000.0</td>\n",
       "      <td>0.0</td>\n",
       "      <td>2.0</td>\n",
       "      <td>0.0</td>\n",
       "      <td>1.0</td>\n",
       "    </tr>\n",
       "    <tr>\n",
       "      <th>1</th>\n",
       "      <td>1.0</td>\n",
       "      <td>Wetpaint</td>\n",
       "      <td>web</td>\n",
       "      <td>operating</td>\n",
       "      <td>2005-10-17</td>\n",
       "      <td>NaN</td>\n",
       "      <td>wetpaint-inc.com</td>\n",
       "      <td>BachelrWetpaint</td>\n",
       "      <td>USA</td>\n",
       "      <td>0.0</td>\n",
       "      <td>...</td>\n",
       "      <td>5.0</td>\n",
       "      <td>889.0</td>\n",
       "      <td>1.0</td>\n",
       "      <td>2007-01-01</td>\n",
       "      <td>series-b</td>\n",
       "      <td>9500000.0</td>\n",
       "      <td>0.0</td>\n",
       "      <td>3.0</td>\n",
       "      <td>0.0</td>\n",
       "      <td>0.0</td>\n",
       "    </tr>\n",
       "    <tr>\n",
       "      <th>2</th>\n",
       "      <td>1.0</td>\n",
       "      <td>Wetpaint</td>\n",
       "      <td>web</td>\n",
       "      <td>operating</td>\n",
       "      <td>2005-10-17</td>\n",
       "      <td>NaN</td>\n",
       "      <td>wetpaint-inc.com</td>\n",
       "      <td>BachelrWetpaint</td>\n",
       "      <td>USA</td>\n",
       "      <td>0.0</td>\n",
       "      <td>...</td>\n",
       "      <td>5.0</td>\n",
       "      <td>2312.0</td>\n",
       "      <td>1.0</td>\n",
       "      <td>2008-05-19</td>\n",
       "      <td>series-c+</td>\n",
       "      <td>25000000.0</td>\n",
       "      <td>0.0</td>\n",
       "      <td>4.0</td>\n",
       "      <td>1.0</td>\n",
       "      <td>0.0</td>\n",
       "    </tr>\n",
       "    <tr>\n",
       "      <th>3</th>\n",
       "      <td>10.0</td>\n",
       "      <td>Flektor</td>\n",
       "      <td>games_video</td>\n",
       "      <td>acquired</td>\n",
       "      <td>NaN</td>\n",
       "      <td>NaN</td>\n",
       "      <td>flektor.com</td>\n",
       "      <td>NaN</td>\n",
       "      <td>USA</td>\n",
       "      <td>0.0</td>\n",
       "      <td>...</td>\n",
       "      <td>0.0</td>\n",
       "      <td>NaN</td>\n",
       "      <td>NaN</td>\n",
       "      <td>NaN</td>\n",
       "      <td>NaN</td>\n",
       "      <td>NaN</td>\n",
       "      <td>NaN</td>\n",
       "      <td>NaN</td>\n",
       "      <td>NaN</td>\n",
       "      <td>NaN</td>\n",
       "    </tr>\n",
       "    <tr>\n",
       "      <th>4</th>\n",
       "      <td>100.0</td>\n",
       "      <td>There</td>\n",
       "      <td>games_video</td>\n",
       "      <td>acquired</td>\n",
       "      <td>NaN</td>\n",
       "      <td>NaN</td>\n",
       "      <td>there.com</td>\n",
       "      <td>NaN</td>\n",
       "      <td>USA</td>\n",
       "      <td>0.0</td>\n",
       "      <td>...</td>\n",
       "      <td>4.0</td>\n",
       "      <td>NaN</td>\n",
       "      <td>NaN</td>\n",
       "      <td>NaN</td>\n",
       "      <td>NaN</td>\n",
       "      <td>NaN</td>\n",
       "      <td>NaN</td>\n",
       "      <td>NaN</td>\n",
       "      <td>NaN</td>\n",
       "      <td>NaN</td>\n",
       "    </tr>\n",
       "  </tbody>\n",
       "</table>\n",
       "<p>5 rows × 22 columns</p>\n",
       "</div>"
      ],
      "text/plain": [
       "   company  ID      name category  code     status founded  at closed  at  \\\n",
       "0          1.0  Wetpaint            web  operating  2005-10-17        NaN   \n",
       "1          1.0  Wetpaint            web  operating  2005-10-17        NaN   \n",
       "2          1.0  Wetpaint            web  operating  2005-10-17        NaN   \n",
       "3         10.0   Flektor    games_video   acquired         NaN        NaN   \n",
       "4        100.0     There    games_video   acquired         NaN        NaN   \n",
       "\n",
       "             domain network  username country  code  investment  rounds  ...  \\\n",
       "0  wetpaint-inc.com   BachelrWetpaint           USA                 0.0  ...   \n",
       "1  wetpaint-inc.com   BachelrWetpaint           USA                 0.0  ...   \n",
       "2  wetpaint-inc.com   BachelrWetpaint           USA                 0.0  ...   \n",
       "3       flektor.com               NaN           USA                 0.0  ...   \n",
       "4         there.com               NaN           USA                 0.0  ...   \n",
       "\n",
       "   milestones  funding  round  id  company  id  funded  at  \\\n",
       "0         5.0               888.0          1.0  2005-10-01   \n",
       "1         5.0               889.0          1.0  2007-01-01   \n",
       "2         5.0              2312.0          1.0  2008-05-19   \n",
       "3         0.0                 NaN          NaN         NaN   \n",
       "4         4.0                 NaN          NaN         NaN   \n",
       "\n",
       "   funding  round  type raised  amount pre  money  valuation  participants  \\\n",
       "0              series-a      5250000.0                   0.0           2.0   \n",
       "1              series-b      9500000.0                   0.0           3.0   \n",
       "2             series-c+     25000000.0                   0.0           4.0   \n",
       "3                   NaN            NaN                   NaN           NaN   \n",
       "4                   NaN            NaN                   NaN           NaN   \n",
       "\n",
       "   is  first  round  is  last  round  \n",
       "0               0.0              1.0  \n",
       "1               0.0              0.0  \n",
       "2               1.0              0.0  \n",
       "3               NaN              NaN  \n",
       "4               NaN              NaN  \n",
       "\n",
       "[5 rows x 22 columns]"
      ]
     },
     "execution_count": 908,
     "metadata": {},
     "output_type": "execute_result"
    }
   ],
   "source": [
    "company_and_rounds.head()"
   ]
  },
  {
   "cell_type": "code",
   "execution_count": 909,
   "metadata": {},
   "outputs": [
    {
     "name": "stdout",
     "output_type": "stream",
     "text": [
      "<class 'pandas.core.frame.DataFrame'>\n",
      "RangeIndex: 217774 entries, 0 to 217773\n",
      "Data columns (total 22 columns):\n",
      " #   Column                 Non-Null Count   Dtype  \n",
      "---  ------                 --------------   -----  \n",
      " 0   company  ID            217472 non-null  float64\n",
      " 1   name                   217472 non-null  object \n",
      " 2   category  code         143886 non-null  object \n",
      " 3   status                 217472 non-null  object \n",
      " 4   founded  at            109956 non-null  object \n",
      " 5   closed  at             3449 non-null    object \n",
      " 6   domain                 147159 non-null  object \n",
      " 7   network  username      95534 non-null   object \n",
      " 8   country  code          108607 non-null  object \n",
      " 9   investment  rounds     217472 non-null  float64\n",
      " 10  funding  rounds        217472 non-null  float64\n",
      " 11  funding  total         217472 non-null  float64\n",
      " 12  milestones             217472 non-null  float64\n",
      " 13  funding  round  id     52928 non-null   float64\n",
      " 14  company  id            52928 non-null   float64\n",
      " 15  funded  at             52680 non-null   object \n",
      " 16  funding  round  type   52928 non-null   object \n",
      " 17  raised  amount         52928 non-null   float64\n",
      " 18  pre  money  valuation  52928 non-null   float64\n",
      " 19  participants           52928 non-null   float64\n",
      " 20  is  first  round       52928 non-null   float64\n",
      " 21  is  last  round        52928 non-null   float64\n",
      "dtypes: float64(12), object(10)\n",
      "memory usage: 36.6+ MB\n"
     ]
    }
   ],
   "source": [
    "company_and_rounds.info()"
   ]
  },
  {
   "cell_type": "code",
   "execution_count": 910,
   "metadata": {},
   "outputs": [
    {
     "data": {
      "text/html": [
       "<div>\n",
       "<style scoped>\n",
       "    .dataframe tbody tr th:only-of-type {\n",
       "        vertical-align: middle;\n",
       "    }\n",
       "\n",
       "    .dataframe tbody tr th {\n",
       "        vertical-align: top;\n",
       "    }\n",
       "\n",
       "    .dataframe thead th {\n",
       "        text-align: right;\n",
       "    }\n",
       "</style>\n",
       "<table border=\"1\" class=\"dataframe\">\n",
       "  <thead>\n",
       "    <tr style=\"text-align: right;\">\n",
       "      <th></th>\n",
       "      <th>id</th>\n",
       "      <th>person_id</th>\n",
       "      <th>instituition</th>\n",
       "      <th>graduated_at</th>\n",
       "    </tr>\n",
       "  </thead>\n",
       "  <tbody>\n",
       "    <tr>\n",
       "      <th>0</th>\n",
       "      <td>1</td>\n",
       "      <td>6117</td>\n",
       "      <td>NaN</td>\n",
       "      <td>NaN</td>\n",
       "    </tr>\n",
       "    <tr>\n",
       "      <th>1</th>\n",
       "      <td>2</td>\n",
       "      <td>6136</td>\n",
       "      <td>Washington University, St. Louis</td>\n",
       "      <td>1990-01-01</td>\n",
       "    </tr>\n",
       "    <tr>\n",
       "      <th>2</th>\n",
       "      <td>3</td>\n",
       "      <td>6136</td>\n",
       "      <td>Boston University</td>\n",
       "      <td>1992-01-01</td>\n",
       "    </tr>\n",
       "    <tr>\n",
       "      <th>3</th>\n",
       "      <td>4</td>\n",
       "      <td>6005</td>\n",
       "      <td>University of Greenwich</td>\n",
       "      <td>2006-01-01</td>\n",
       "    </tr>\n",
       "    <tr>\n",
       "      <th>4</th>\n",
       "      <td>5</td>\n",
       "      <td>5832</td>\n",
       "      <td>Rice University</td>\n",
       "      <td>NaN</td>\n",
       "    </tr>\n",
       "  </tbody>\n",
       "</table>\n",
       "</div>"
      ],
      "text/plain": [
       "   id  person_id                      instituition graduated_at\n",
       "0   1       6117                               NaN          NaN\n",
       "1   2       6136  Washington University, St. Louis   1990-01-01\n",
       "2   3       6136                 Boston University   1992-01-01\n",
       "3   4       6005           University of Greenwich   2006-01-01\n",
       "4   5       5832                   Rice University          NaN"
      ]
     },
     "execution_count": 910,
     "metadata": {},
     "output_type": "execute_result"
    }
   ],
   "source": [
    "education.head()"
   ]
  },
  {
   "cell_type": "code",
   "execution_count": 911,
   "metadata": {},
   "outputs": [
    {
     "name": "stdout",
     "output_type": "stream",
     "text": [
      "<class 'pandas.core.frame.DataFrame'>\n",
      "RangeIndex: 109610 entries, 0 to 109609\n",
      "Data columns (total 4 columns):\n",
      " #   Column        Non-Null Count   Dtype \n",
      "---  ------        --------------   ----- \n",
      " 0   id            109610 non-null  int64 \n",
      " 1   person_id     109610 non-null  int64 \n",
      " 2   instituition  109555 non-null  object\n",
      " 3   graduated_at  58054 non-null   object\n",
      "dtypes: int64(2), object(2)\n",
      "memory usage: 3.3+ MB\n"
     ]
    }
   ],
   "source": [
    "education.info()"
   ]
  },
  {
   "cell_type": "code",
   "execution_count": 912,
   "metadata": {},
   "outputs": [
    {
     "data": {
      "text/html": [
       "<div>\n",
       "<style scoped>\n",
       "    .dataframe tbody tr th:only-of-type {\n",
       "        vertical-align: middle;\n",
       "    }\n",
       "\n",
       "    .dataframe tbody tr th {\n",
       "        vertical-align: top;\n",
       "    }\n",
       "\n",
       "    .dataframe thead th {\n",
       "        text-align: right;\n",
       "    }\n",
       "</style>\n",
       "<table border=\"1\" class=\"dataframe\">\n",
       "  <thead>\n",
       "    <tr style=\"text-align: right;\">\n",
       "      <th></th>\n",
       "      <th>id</th>\n",
       "      <th>name</th>\n",
       "      <th>founded_at</th>\n",
       "      <th>domain</th>\n",
       "      <th>network_username</th>\n",
       "      <th>country_code</th>\n",
       "      <th>investment_rounds</th>\n",
       "      <th>invested_companies</th>\n",
       "      <th>milestones</th>\n",
       "    </tr>\n",
       "  </thead>\n",
       "  <tbody>\n",
       "    <tr>\n",
       "      <th>0</th>\n",
       "      <td>13131</td>\n",
       "      <td>NaN</td>\n",
       "      <td>NaN</td>\n",
       "      <td>NaN</td>\n",
       "      <td>NaN</td>\n",
       "      <td>NaN</td>\n",
       "      <td>0</td>\n",
       "      <td>0</td>\n",
       "      <td>0</td>\n",
       "    </tr>\n",
       "    <tr>\n",
       "      <th>1</th>\n",
       "      <td>1</td>\n",
       "      <td>Greylock Partners</td>\n",
       "      <td>1965-01-01</td>\n",
       "      <td>greylock.com</td>\n",
       "      <td>greylockvc</td>\n",
       "      <td>USA</td>\n",
       "      <td>307</td>\n",
       "      <td>196</td>\n",
       "      <td>0</td>\n",
       "    </tr>\n",
       "    <tr>\n",
       "      <th>2</th>\n",
       "      <td>10</td>\n",
       "      <td>Mission Ventures</td>\n",
       "      <td>1996-01-01</td>\n",
       "      <td>missionventures.com</td>\n",
       "      <td>NaN</td>\n",
       "      <td>USA</td>\n",
       "      <td>58</td>\n",
       "      <td>33</td>\n",
       "      <td>0</td>\n",
       "    </tr>\n",
       "    <tr>\n",
       "      <th>3</th>\n",
       "      <td>100</td>\n",
       "      <td>Kapor Enterprises, Inc.</td>\n",
       "      <td>NaN</td>\n",
       "      <td>kei.com</td>\n",
       "      <td>NaN</td>\n",
       "      <td>USA</td>\n",
       "      <td>2</td>\n",
       "      <td>1</td>\n",
       "      <td>0</td>\n",
       "    </tr>\n",
       "    <tr>\n",
       "      <th>4</th>\n",
       "      <td>1000</td>\n",
       "      <td>Speed Ventures</td>\n",
       "      <td>NaN</td>\n",
       "      <td>NaN</td>\n",
       "      <td>NaN</td>\n",
       "      <td>NaN</td>\n",
       "      <td>0</td>\n",
       "      <td>0</td>\n",
       "      <td>1</td>\n",
       "    </tr>\n",
       "  </tbody>\n",
       "</table>\n",
       "</div>"
      ],
      "text/plain": [
       "      id                     name  founded_at               domain  \\\n",
       "0  13131                      NaN         NaN                  NaN   \n",
       "1      1        Greylock Partners  1965-01-01         greylock.com   \n",
       "2     10         Mission Ventures  1996-01-01  missionventures.com   \n",
       "3    100  Kapor Enterprises, Inc.         NaN              kei.com   \n",
       "4   1000           Speed Ventures         NaN                  NaN   \n",
       "\n",
       "  network_username country_code  investment_rounds  invested_companies  \\\n",
       "0              NaN          NaN                  0                   0   \n",
       "1       greylockvc          USA                307                 196   \n",
       "2              NaN          USA                 58                  33   \n",
       "3              NaN          USA                  2                   1   \n",
       "4              NaN          NaN                  0                   0   \n",
       "\n",
       "   milestones  \n",
       "0           0  \n",
       "1           0  \n",
       "2           0  \n",
       "3           0  \n",
       "4           1  "
      ]
     },
     "execution_count": 912,
     "metadata": {},
     "output_type": "execute_result"
    }
   ],
   "source": [
    "fund.head()"
   ]
  },
  {
   "cell_type": "code",
   "execution_count": 913,
   "metadata": {},
   "outputs": [
    {
     "name": "stdout",
     "output_type": "stream",
     "text": [
      "<class 'pandas.core.frame.DataFrame'>\n",
      "RangeIndex: 11652 entries, 0 to 11651\n",
      "Data columns (total 9 columns):\n",
      " #   Column              Non-Null Count  Dtype \n",
      "---  ------              --------------  ----- \n",
      " 0   id                  11652 non-null  int64 \n",
      " 1   name                11650 non-null  object\n",
      " 2   founded_at          4605 non-null   object\n",
      " 3   domain              7362 non-null   object\n",
      " 4   network_username    2149 non-null   object\n",
      " 5   country_code        7053 non-null   object\n",
      " 6   investment_rounds   11652 non-null  int64 \n",
      " 7   invested_companies  11652 non-null  int64 \n",
      " 8   milestones          11652 non-null  int64 \n",
      "dtypes: int64(4), object(5)\n",
      "memory usage: 819.4+ KB\n"
     ]
    }
   ],
   "source": [
    "fund.info()"
   ]
  },
  {
   "cell_type": "code",
   "execution_count": 914,
   "metadata": {},
   "outputs": [
    {
     "data": {
      "text/html": [
       "<div>\n",
       "<style scoped>\n",
       "    .dataframe tbody tr th:only-of-type {\n",
       "        vertical-align: middle;\n",
       "    }\n",
       "\n",
       "    .dataframe tbody tr th {\n",
       "        vertical-align: top;\n",
       "    }\n",
       "\n",
       "    .dataframe thead th {\n",
       "        text-align: right;\n",
       "    }\n",
       "</style>\n",
       "<table border=\"1\" class=\"dataframe\">\n",
       "  <thead>\n",
       "    <tr style=\"text-align: right;\">\n",
       "      <th></th>\n",
       "      <th>id</th>\n",
       "      <th>funding_round_id</th>\n",
       "      <th>company_id</th>\n",
       "      <th>fund_id</th>\n",
       "    </tr>\n",
       "  </thead>\n",
       "  <tbody>\n",
       "    <tr>\n",
       "      <th>0</th>\n",
       "      <td>1</td>\n",
       "      <td>1</td>\n",
       "      <td>4</td>\n",
       "      <td>1</td>\n",
       "    </tr>\n",
       "    <tr>\n",
       "      <th>1</th>\n",
       "      <td>2</td>\n",
       "      <td>1</td>\n",
       "      <td>4</td>\n",
       "      <td>2</td>\n",
       "    </tr>\n",
       "    <tr>\n",
       "      <th>2</th>\n",
       "      <td>3</td>\n",
       "      <td>3</td>\n",
       "      <td>5</td>\n",
       "      <td>4</td>\n",
       "    </tr>\n",
       "    <tr>\n",
       "      <th>3</th>\n",
       "      <td>4</td>\n",
       "      <td>4</td>\n",
       "      <td>5</td>\n",
       "      <td>1</td>\n",
       "    </tr>\n",
       "    <tr>\n",
       "      <th>4</th>\n",
       "      <td>5</td>\n",
       "      <td>4</td>\n",
       "      <td>5</td>\n",
       "      <td>5</td>\n",
       "    </tr>\n",
       "  </tbody>\n",
       "</table>\n",
       "</div>"
      ],
      "text/plain": [
       "   id  funding_round_id  company_id  fund_id\n",
       "0   1                 1           4        1\n",
       "1   2                 1           4        2\n",
       "2   3                 3           5        4\n",
       "3   4                 4           5        1\n",
       "4   5                 4           5        5"
      ]
     },
     "execution_count": 914,
     "metadata": {},
     "output_type": "execute_result"
    }
   ],
   "source": [
    "investment.head()"
   ]
  },
  {
   "cell_type": "code",
   "execution_count": 915,
   "metadata": {},
   "outputs": [
    {
     "name": "stdout",
     "output_type": "stream",
     "text": [
      "<class 'pandas.core.frame.DataFrame'>\n",
      "RangeIndex: 61403 entries, 0 to 61402\n",
      "Data columns (total 4 columns):\n",
      " #   Column            Non-Null Count  Dtype\n",
      "---  ------            --------------  -----\n",
      " 0   id                61403 non-null  int64\n",
      " 1   funding_round_id  61403 non-null  int64\n",
      " 2   company_id        61403 non-null  int64\n",
      " 3   fund_id           61403 non-null  int64\n",
      "dtypes: int64(4)\n",
      "memory usage: 1.9 MB\n"
     ]
    }
   ],
   "source": [
    "investment.info()"
   ]
  },
  {
   "cell_type": "code",
   "execution_count": 916,
   "metadata": {},
   "outputs": [
    {
     "data": {
      "text/html": [
       "<div>\n",
       "<style scoped>\n",
       "    .dataframe tbody tr th:only-of-type {\n",
       "        vertical-align: middle;\n",
       "    }\n",
       "\n",
       "    .dataframe tbody tr th {\n",
       "        vertical-align: top;\n",
       "    }\n",
       "\n",
       "    .dataframe thead th {\n",
       "        text-align: right;\n",
       "    }\n",
       "</style>\n",
       "<table border=\"1\" class=\"dataframe\">\n",
       "  <thead>\n",
       "    <tr style=\"text-align: right;\">\n",
       "      <th></th>\n",
       "      <th>id</th>\n",
       "      <th>first_name</th>\n",
       "      <th>last_name</th>\n",
       "      <th>company_id</th>\n",
       "      <th>network_username</th>\n",
       "    </tr>\n",
       "  </thead>\n",
       "  <tbody>\n",
       "    <tr>\n",
       "      <th>0</th>\n",
       "      <td>10</td>\n",
       "      <td>Mark</td>\n",
       "      <td>Zuckerberg</td>\n",
       "      <td>5.0</td>\n",
       "      <td>NaN</td>\n",
       "    </tr>\n",
       "    <tr>\n",
       "      <th>1</th>\n",
       "      <td>100</td>\n",
       "      <td>Peter</td>\n",
       "      <td>Lester</td>\n",
       "      <td>27.0</td>\n",
       "      <td>NaN</td>\n",
       "    </tr>\n",
       "    <tr>\n",
       "      <th>2</th>\n",
       "      <td>1000</td>\n",
       "      <td>Dr. Steven</td>\n",
       "      <td>E. Saunders</td>\n",
       "      <td>292.0</td>\n",
       "      <td>NaN</td>\n",
       "    </tr>\n",
       "    <tr>\n",
       "      <th>3</th>\n",
       "      <td>10000</td>\n",
       "      <td>Neil</td>\n",
       "      <td>Capel</td>\n",
       "      <td>2526.0</td>\n",
       "      <td>NaN</td>\n",
       "    </tr>\n",
       "    <tr>\n",
       "      <th>4</th>\n",
       "      <td>100000</td>\n",
       "      <td>Sue</td>\n",
       "      <td>Pilsch</td>\n",
       "      <td>NaN</td>\n",
       "      <td>NaN</td>\n",
       "    </tr>\n",
       "  </tbody>\n",
       "</table>\n",
       "</div>"
      ],
      "text/plain": [
       "       id  first_name    last_name  company_id network_username\n",
       "0      10        Mark   Zuckerberg         5.0              NaN\n",
       "1     100       Peter       Lester        27.0              NaN\n",
       "2    1000  Dr. Steven  E. Saunders       292.0              NaN\n",
       "3   10000        Neil        Capel      2526.0              NaN\n",
       "4  100000         Sue       Pilsch         NaN              NaN"
      ]
     },
     "execution_count": 916,
     "metadata": {},
     "output_type": "execute_result"
    }
   ],
   "source": [
    "people.head()"
   ]
  },
  {
   "cell_type": "code",
   "execution_count": 917,
   "metadata": {},
   "outputs": [
    {
     "name": "stdout",
     "output_type": "stream",
     "text": [
      "<class 'pandas.core.frame.DataFrame'>\n",
      "RangeIndex: 226709 entries, 0 to 226708\n",
      "Data columns (total 5 columns):\n",
      " #   Column            Non-Null Count   Dtype  \n",
      "---  ------            --------------   -----  \n",
      " 0   id                226709 non-null  int64  \n",
      " 1   first_name        226704 non-null  object \n",
      " 2   last_name         226708 non-null  object \n",
      " 3   company_id        34615 non-null   float64\n",
      " 4   network_username  38867 non-null   object \n",
      "dtypes: float64(1), int64(1), object(3)\n",
      "memory usage: 8.6+ MB\n"
     ]
    }
   ],
   "source": [
    "people.info()"
   ]
  },
  {
   "cell_type": "markdown",
   "metadata": {},
   "source": [
    "Приведем названия всех столбцов к единому стилю."
   ]
  },
  {
   "cell_type": "code",
   "execution_count": 918,
   "metadata": {},
   "outputs": [],
   "source": [
    "def clean_column_names(df):\n",
    "    df.columns = df.columns.str.lower().str.strip().str.replace(r'\\s+', '_', regex=True)\n",
    "    return df\n",
    "\n",
    "datasets = {\n",
    "    'acquisition': acquisition,\n",
    "    'company_and_rounds': company_and_rounds,\n",
    "    'degrees': degrees,\n",
    "    'education': education,\n",
    "    'fund': fund,\n",
    "    'investment': investment,\n",
    "    'people': people,\n",
    "}\n",
    "\n",
    "for name, df in datasets.items():\n",
    "    datasets[name] = clean_column_names(df)"
   ]
  },
  {
   "cell_type": "markdown",
   "metadata": {},
   "source": [
    "Выведем всю необходимою информацию о датасетах для дальнейшей обработки данных."
   ]
  },
  {
   "cell_type": "code",
   "execution_count": 919,
   "metadata": {},
   "outputs": [
    {
     "name": "stdout",
     "output_type": "stream",
     "text": [
      "\n",
      "=== Dataset: acquisition ===\n",
      "Shape: (9407, 6)\n",
      "Duplicates: 0\n",
      "Missing values (%):\n",
      "id                       0.000000\n",
      "acquiring_company_id     0.000000\n",
      "acquired_company_id      0.000000\n",
      "term_code               80.535771\n",
      "price_amount             0.000000\n",
      "acquired_at              0.308281\n",
      "dtype: float64\n",
      "Data types:\n",
      "id                       int64\n",
      "acquiring_company_id     int64\n",
      "acquired_company_id      int64\n",
      "term_code               object\n",
      "price_amount             int64\n",
      "acquired_at             object\n",
      "dtype: object\n",
      "\n",
      "=== Dataset: company_and_rounds ===\n",
      "Shape: (217774, 22)\n",
      "Duplicates: 0\n",
      "Missing values (%):\n",
      "company_id              0.138676\n",
      "name                    0.138676\n",
      "category_code          33.928752\n",
      "status                  0.138676\n",
      "founded_at             49.509124\n",
      "closed_at              98.416248\n",
      "domain                 32.425818\n",
      "network_username       56.131586\n",
      "country_code           50.128574\n",
      "investment_rounds       0.138676\n",
      "funding_rounds          0.138676\n",
      "funding_total           0.138676\n",
      "milestones              0.138676\n",
      "funding_round_id       75.695905\n",
      "company_id             75.695905\n",
      "funded_at              75.809784\n",
      "funding_round_type     75.695905\n",
      "raised_amount          75.695905\n",
      "pre_money_valuation    75.695905\n",
      "participants           75.695905\n",
      "is_first_round         75.695905\n",
      "is_last_round          75.695905\n",
      "dtype: float64\n",
      "Data types:\n",
      "company_id             float64\n",
      "name                    object\n",
      "category_code           object\n",
      "status                  object\n",
      "founded_at              object\n",
      "closed_at               object\n",
      "domain                  object\n",
      "network_username        object\n",
      "country_code            object\n",
      "investment_rounds      float64\n",
      "funding_rounds         float64\n",
      "funding_total          float64\n",
      "milestones             float64\n",
      "funding_round_id       float64\n",
      "company_id             float64\n",
      "funded_at               object\n",
      "funding_round_type      object\n",
      "raised_amount          float64\n",
      "pre_money_valuation    float64\n",
      "participants           float64\n",
      "is_first_round         float64\n",
      "is_last_round          float64\n",
      "dtype: object\n",
      "\n",
      "=== Dataset: degrees ===\n",
      "Shape: (109610, 4)\n",
      "Duplicates: 0\n",
      "Missing values (%):\n",
      "id              0.000000\n",
      "object_id       0.000000\n",
      "degree_type    10.234468\n",
      "subject        25.829760\n",
      "dtype: float64\n",
      "Data types:\n",
      "id              int64\n",
      "object_id      object\n",
      "degree_type    object\n",
      "subject        object\n",
      "dtype: object\n",
      "\n",
      "=== Dataset: education ===\n",
      "Shape: (109610, 4)\n",
      "Duplicates: 0\n",
      "Missing values (%):\n",
      "id               0.000000\n",
      "person_id        0.000000\n",
      "instituition     0.050178\n",
      "graduated_at    47.035854\n",
      "dtype: float64\n",
      "Data types:\n",
      "id               int64\n",
      "person_id        int64\n",
      "instituition    object\n",
      "graduated_at    object\n",
      "dtype: object\n",
      "\n",
      "=== Dataset: fund ===\n",
      "Shape: (11652, 9)\n",
      "Duplicates: 0\n",
      "Missing values (%):\n",
      "id                     0.000000\n",
      "name                   0.017164\n",
      "founded_at            60.478888\n",
      "domain                36.817714\n",
      "network_username      81.556814\n",
      "country_code          39.469619\n",
      "investment_rounds      0.000000\n",
      "invested_companies     0.000000\n",
      "milestones             0.000000\n",
      "dtype: float64\n",
      "Data types:\n",
      "id                     int64\n",
      "name                  object\n",
      "founded_at            object\n",
      "domain                object\n",
      "network_username      object\n",
      "country_code          object\n",
      "investment_rounds      int64\n",
      "invested_companies     int64\n",
      "milestones             int64\n",
      "dtype: object\n",
      "\n",
      "=== Dataset: investment ===\n",
      "Shape: (61403, 4)\n",
      "Duplicates: 0\n",
      "Missing values (%):\n",
      "id                  0.0\n",
      "funding_round_id    0.0\n",
      "company_id          0.0\n",
      "fund_id             0.0\n",
      "dtype: float64\n",
      "Data types:\n",
      "id                  int64\n",
      "funding_round_id    int64\n",
      "company_id          int64\n",
      "fund_id             int64\n",
      "dtype: object\n",
      "\n",
      "=== Dataset: people ===\n",
      "Shape: (226709, 5)\n",
      "Duplicates: 0\n",
      "Missing values (%):\n",
      "id                   0.000000\n",
      "first_name           0.002205\n",
      "last_name            0.000441\n",
      "company_id          84.731528\n",
      "network_username    82.855996\n",
      "dtype: float64\n",
      "Data types:\n",
      "id                    int64\n",
      "first_name           object\n",
      "last_name            object\n",
      "company_id          float64\n",
      "network_username     object\n",
      "dtype: object\n"
     ]
    }
   ],
   "source": [
    "# Проверим на наличие полных дубликатов\n",
    "\n",
    "duplicates = {name: df.duplicated().sum() for name, df in datasets.items()}\n",
    "\n",
    "# Выводем информации о пропусках, дубликатах и типах данных\n",
    "info_dict = {}\n",
    "for name, df in datasets.items():\n",
    "    info_dict[name] = {\n",
    "        'shape': df.shape, # размер датафрейма\n",
    "        'missing_values': df.isnull().sum() / len(df) * 100, # процент пропущенных значений\n",
    "        'duplicates': duplicates[name], # полные дубликаты\n",
    "        'dtypes': df.dtypes, # типы\n",
    "    }\n",
    "    \n",
    "for name, info in info_dict.items():\n",
    "    print(f\"\\n=== Dataset: {name} ===\")\n",
    "    print(f\"Shape: {info['shape']}\")\n",
    "    print(f\"Duplicates: {info['duplicates']}\")\n",
    "    print(\"Missing values (%):\")\n",
    "    print(info['missing_values'])\n",
    "    print(\"Data types:\")\n",
    "    print(info['dtypes'])"
   ]
  },
  {
   "cell_type": "markdown",
   "metadata": {},
   "source": [
    "**Вывод**\n",
    "\n",
    "На данном этапе название всех столбцов во всех датасетах были приведены к единому стилю.\n",
    "\n",
    "Полных дубликатов не обнаружено.\n",
    "\n",
    "Пропуски отсутствуют только в датасете `investment`. В остальных датасетах процент пропусков достаточно высокий.\n",
    "\n",
    "Некоторые столбцы, содержащие даты (`founded_at`, `closed_at`, `graduated_at`, `acquired_at`), имеют тип `object` и требуют преобразования в тип `datetime`."
   ]
  },
  {
   "cell_type": "markdown",
   "metadata": {
    "id": "mg2gEwh0rJg0"
   },
   "source": [
    "### 1.2. Смена типов и анализ пропусков\n",
    "\n",
    "* Обработайте типы данных в столбцах, которые хранят значения даты и времени, если это необходимо.\n",
    "\n",
    "* Оцените полноту данных — сделайте предварительный вывод, достаточно ли данных для решения задач проекта."
   ]
  },
  {
   "cell_type": "markdown",
   "metadata": {
    "id": "FsL0A8RBrJg1",
    "vscode": {
     "languageId": "plaintext"
    }
   },
   "source": [
    "Изменим тип данных в столбцах, которые хранят данные с датой и временем"
   ]
  },
  {
   "cell_type": "code",
   "execution_count": 920,
   "metadata": {},
   "outputs": [],
   "source": [
    "# Преобразование столбцов с датами\n",
    "date_columns = {\n",
    "    'acquisition': ['acquired_at'],\n",
    "    'company_and_rounds': ['founded_at', 'closed_at', 'funded_at'],\n",
    "    'education': ['graduated_at'],\n",
    "    'fund': ['founded_at'],\n",
    "}\n",
    "\n",
    "for dataset_name, columns in date_columns.items():\n",
    "    for column in columns:\n",
    "        datasets[dataset_name][column] = pd.to_datetime(datasets[dataset_name][column], errors='coerce')"
   ]
  },
  {
   "cell_type": "markdown",
   "metadata": {},
   "source": [
    "**Вывод**\n",
    "\n",
    "Датасет `investment`не содержит пропусков, в `people` их минимальное количество.\n",
    "\n",
    "В датасете `company_and_rounds` есть серьёзные пропуски в критически важных столбцах (`founded_at`, `closed_at`). Это сильно ослажняет дальнейшую работу.\n",
    "\n",
    "В дальнейшем нам следует сконцентрироваться на датасетах с минимальными пропусками (`acquisition`, `degrees`, `education`, `investment`). А также удалить или заполнить пропуски в ключевых столбцах (`category_code`, `founded_at`, `graduated_at` и т. д.)"
   ]
  },
  {
   "cell_type": "markdown",
   "metadata": {},
   "source": [
    "**Вывод**\n",
    "\n",
    "Даты преобразованы в корректный формат.\n",
    "\n",
    "Датасеты имеют большое количество пропусков. Требуется предобработка дыннх для устранения дубликатов и нормализации значений. Однако данных достаточно для выполнения задач заказчика. "
   ]
  },
  {
   "cell_type": "markdown",
   "metadata": {
    "id": "u60cHsn6rJg1"
   },
   "source": [
    "<a class=\"anchor\" id=\"2-bullet\"></a>\n",
    "## Шаг 2. Предобработка данных, предварительное исследование\n",
    "\n",
    "### 2.1. Объединять или не объединять — вот в чём вопрос\n",
    "\n",
    "Некоторые названия столбцов встречаются в датасетах чаще других. И, например, в результате предварительной проверки датасетов было выяснено, что столбец `company_id` подходит для объединения данных, так как большая часть значений встречается в разных датасетах не один, а несколько раз. Этот столбец может быть использован для объединения данных.\n",
    "\n",
    "* Установите, подходит ли для объединения данных столбец `network_username`, который встречается в нескольких датасетах. Нам необходимо понимать, дублируется ли для разных датасетов информация в столбцах с таким названием, и если да — то насколько часто.\n",
    "\n",
    "* Оцените, можно ли использовать столбцы с именем `network_username` для объединения данных."
   ]
  },
  {
   "cell_type": "code",
   "execution_count": 921,
   "metadata": {
    "id": "Cf5IjfOQrJg1",
    "vscode": {
     "languageId": "plaintext"
    }
   },
   "outputs": [
    {
     "name": "stdout",
     "output_type": "stream",
     "text": [
      "Общее количество уникальных значений в fund: 2098\n",
      "Общее количество уникальных значений в company_and_rounds: 79571\n",
      "Общее количество уникальных значений в people: 38421\n",
      "Количество общих значений (fund и company_and_rounds): 70\n",
      "Количество общих значений (fund и people): 79\n",
      "Количество общих значений (company_and_rounds и people): 2199\n",
      "Количество общих значений (все три таблицы): 7\n",
      "Доля общих значений (fund и company_and_rounds): 0.09%\n",
      "Доля общих значений (fund и people): 0.21%\n",
      "Доля общих значений (company_and_rounds и people): 5.72%\n",
      "Доля общих значений (все три таблицы): 0.02%\n"
     ]
    }
   ],
   "source": [
    "# Выделим уникальные значения network_username в каждом датасете\n",
    "fund_usernames = set(datasets['fund']['network_username'].dropna())\n",
    "company_usernames = set(datasets['company_and_rounds']['network_username'].dropna())\n",
    "people_usernames = set(datasets['people']['network_username'].dropna())\n",
    "\n",
    "# Найдём пересечения\n",
    "common_fc = fund_usernames & company_usernames\n",
    "common_fp = fund_usernames & people_usernames\n",
    "common_cp = company_usernames & people_usernames\n",
    "common_three = fund_usernames & company_usernames & people_usernames\n",
    "\n",
    "print(f\"Общее количество уникальных значений в fund: {len(fund_usernames)}\")\n",
    "print(f\"Общее количество уникальных значений в company_and_rounds: {len(company_usernames)}\")\n",
    "print(f\"Общее количество уникальных значений в people: {len(people_usernames)}\")\n",
    "\n",
    "print(f\"Количество общих значений (fund и company_and_rounds): {len(common_fc)}\")\n",
    "print(f\"Количество общих значений (fund и people): {len(common_fp)}\")\n",
    "print(f\"Количество общих значений (company_and_rounds и people): {len(common_cp)}\")\n",
    "print(f\"Количество общих значений (все три таблицы): {len(common_three)}\")\n",
    "\n",
    "print(f\"Доля общих значений (fund и company_and_rounds): {len(common_fc) / len(company_usernames) * 100:.2f}%\")\n",
    "print(f\"Доля общих значений (fund и people): {len(common_fp) / len(people_usernames) * 100:.2f}%\")\n",
    "print(f\"Доля общих значений (company_and_rounds и people): {len(common_cp) / len(people_usernames) * 100:.2f}%\")\n",
    "print(f\"Доля общих значений (все три таблицы): {len(common_three) / len(people_usernames) * 100:.2f}%\")"
   ]
  },
  {
   "cell_type": "markdown",
   "metadata": {},
   "source": [
    "**Вывод**\n",
    "\n",
    "Доля общих значений невероятно низкая, с чего можно сделать вывод, что данные не связаны напрямую и объединение через этот столбец может нести ошибки."
   ]
  },
  {
   "cell_type": "markdown",
   "metadata": {
    "id": "EHcODomVrJg1"
   },
   "source": [
    "\n",
    "### 2.2. Проблемный датасет и причина возникновения пропусков\n",
    "\n",
    "Во время собственного анализа данных у заказчика больше всего вопросов возникло к датасету `company_and_rounds.csv`. В нём много пропусков как раз в информации о раундах, которая заказчику важна. Хотя информация об общем объёме финансирования по раундам присутствует в других датасетах, заказчик считает данные `company_and_rounds.csv` о размере средств наиболее верными.\n",
    "\n",
    "* Любым удобным способом приведите данные в вид, который позволяет проводить анализ в разрезе отдельных компаний. Можно изменять форму данных, порядок их хранения. Обратите внимание на структуру датасета, порядок и названия столбцов, проанализируйте значения.\n",
    "\n",
    "По гипотезе заказчика данные по компаниям из этой таблицы раньше хранились иначе, более удобным для исследования образом.\n",
    "\n",
    "* Максимальным образом сохраняя данные, сохранив их связность и исключив возможные возникающие при этом ошибки, подготовьте данные так, чтобы удобно было отобрать компании по параметрам и рассчитать показатели из расчёта на одну компанию."
   ]
  },
  {
   "cell_type": "markdown",
   "metadata": {},
   "source": [
    "Выведем первые 5 строк датасета `company_and_rounds`"
   ]
  },
  {
   "cell_type": "code",
   "execution_count": 922,
   "metadata": {},
   "outputs": [
    {
     "data": {
      "text/html": [
       "<div>\n",
       "<style scoped>\n",
       "    .dataframe tbody tr th:only-of-type {\n",
       "        vertical-align: middle;\n",
       "    }\n",
       "\n",
       "    .dataframe tbody tr th {\n",
       "        vertical-align: top;\n",
       "    }\n",
       "\n",
       "    .dataframe thead th {\n",
       "        text-align: right;\n",
       "    }\n",
       "</style>\n",
       "<table border=\"1\" class=\"dataframe\">\n",
       "  <thead>\n",
       "    <tr style=\"text-align: right;\">\n",
       "      <th></th>\n",
       "      <th>company_id</th>\n",
       "      <th>name</th>\n",
       "      <th>category_code</th>\n",
       "      <th>status</th>\n",
       "      <th>founded_at</th>\n",
       "      <th>closed_at</th>\n",
       "      <th>domain</th>\n",
       "      <th>network_username</th>\n",
       "      <th>country_code</th>\n",
       "      <th>investment_rounds</th>\n",
       "      <th>...</th>\n",
       "      <th>milestones</th>\n",
       "      <th>funding_round_id</th>\n",
       "      <th>company_id</th>\n",
       "      <th>funded_at</th>\n",
       "      <th>funding_round_type</th>\n",
       "      <th>raised_amount</th>\n",
       "      <th>pre_money_valuation</th>\n",
       "      <th>participants</th>\n",
       "      <th>is_first_round</th>\n",
       "      <th>is_last_round</th>\n",
       "    </tr>\n",
       "  </thead>\n",
       "  <tbody>\n",
       "    <tr>\n",
       "      <th>0</th>\n",
       "      <td>1.0</td>\n",
       "      <td>Wetpaint</td>\n",
       "      <td>web</td>\n",
       "      <td>operating</td>\n",
       "      <td>2005-10-17</td>\n",
       "      <td>NaT</td>\n",
       "      <td>wetpaint-inc.com</td>\n",
       "      <td>BachelrWetpaint</td>\n",
       "      <td>USA</td>\n",
       "      <td>0.0</td>\n",
       "      <td>...</td>\n",
       "      <td>5.0</td>\n",
       "      <td>888.0</td>\n",
       "      <td>1.0</td>\n",
       "      <td>2005-10-01</td>\n",
       "      <td>series-a</td>\n",
       "      <td>5250000.0</td>\n",
       "      <td>0.0</td>\n",
       "      <td>2.0</td>\n",
       "      <td>0.0</td>\n",
       "      <td>1.0</td>\n",
       "    </tr>\n",
       "    <tr>\n",
       "      <th>1</th>\n",
       "      <td>1.0</td>\n",
       "      <td>Wetpaint</td>\n",
       "      <td>web</td>\n",
       "      <td>operating</td>\n",
       "      <td>2005-10-17</td>\n",
       "      <td>NaT</td>\n",
       "      <td>wetpaint-inc.com</td>\n",
       "      <td>BachelrWetpaint</td>\n",
       "      <td>USA</td>\n",
       "      <td>0.0</td>\n",
       "      <td>...</td>\n",
       "      <td>5.0</td>\n",
       "      <td>889.0</td>\n",
       "      <td>1.0</td>\n",
       "      <td>2007-01-01</td>\n",
       "      <td>series-b</td>\n",
       "      <td>9500000.0</td>\n",
       "      <td>0.0</td>\n",
       "      <td>3.0</td>\n",
       "      <td>0.0</td>\n",
       "      <td>0.0</td>\n",
       "    </tr>\n",
       "    <tr>\n",
       "      <th>2</th>\n",
       "      <td>1.0</td>\n",
       "      <td>Wetpaint</td>\n",
       "      <td>web</td>\n",
       "      <td>operating</td>\n",
       "      <td>2005-10-17</td>\n",
       "      <td>NaT</td>\n",
       "      <td>wetpaint-inc.com</td>\n",
       "      <td>BachelrWetpaint</td>\n",
       "      <td>USA</td>\n",
       "      <td>0.0</td>\n",
       "      <td>...</td>\n",
       "      <td>5.0</td>\n",
       "      <td>2312.0</td>\n",
       "      <td>1.0</td>\n",
       "      <td>2008-05-19</td>\n",
       "      <td>series-c+</td>\n",
       "      <td>25000000.0</td>\n",
       "      <td>0.0</td>\n",
       "      <td>4.0</td>\n",
       "      <td>1.0</td>\n",
       "      <td>0.0</td>\n",
       "    </tr>\n",
       "    <tr>\n",
       "      <th>3</th>\n",
       "      <td>10.0</td>\n",
       "      <td>Flektor</td>\n",
       "      <td>games_video</td>\n",
       "      <td>acquired</td>\n",
       "      <td>NaT</td>\n",
       "      <td>NaT</td>\n",
       "      <td>flektor.com</td>\n",
       "      <td>NaN</td>\n",
       "      <td>USA</td>\n",
       "      <td>0.0</td>\n",
       "      <td>...</td>\n",
       "      <td>0.0</td>\n",
       "      <td>NaN</td>\n",
       "      <td>NaN</td>\n",
       "      <td>NaT</td>\n",
       "      <td>NaN</td>\n",
       "      <td>NaN</td>\n",
       "      <td>NaN</td>\n",
       "      <td>NaN</td>\n",
       "      <td>NaN</td>\n",
       "      <td>NaN</td>\n",
       "    </tr>\n",
       "    <tr>\n",
       "      <th>4</th>\n",
       "      <td>100.0</td>\n",
       "      <td>There</td>\n",
       "      <td>games_video</td>\n",
       "      <td>acquired</td>\n",
       "      <td>NaT</td>\n",
       "      <td>NaT</td>\n",
       "      <td>there.com</td>\n",
       "      <td>NaN</td>\n",
       "      <td>USA</td>\n",
       "      <td>0.0</td>\n",
       "      <td>...</td>\n",
       "      <td>4.0</td>\n",
       "      <td>NaN</td>\n",
       "      <td>NaN</td>\n",
       "      <td>NaT</td>\n",
       "      <td>NaN</td>\n",
       "      <td>NaN</td>\n",
       "      <td>NaN</td>\n",
       "      <td>NaN</td>\n",
       "      <td>NaN</td>\n",
       "      <td>NaN</td>\n",
       "    </tr>\n",
       "  </tbody>\n",
       "</table>\n",
       "<p>5 rows × 22 columns</p>\n",
       "</div>"
      ],
      "text/plain": [
       "   company_id      name category_code     status founded_at closed_at  \\\n",
       "0         1.0  Wetpaint           web  operating 2005-10-17       NaT   \n",
       "1         1.0  Wetpaint           web  operating 2005-10-17       NaT   \n",
       "2         1.0  Wetpaint           web  operating 2005-10-17       NaT   \n",
       "3        10.0   Flektor   games_video   acquired        NaT       NaT   \n",
       "4       100.0     There   games_video   acquired        NaT       NaT   \n",
       "\n",
       "             domain network_username country_code  investment_rounds  ...  \\\n",
       "0  wetpaint-inc.com  BachelrWetpaint          USA                0.0  ...   \n",
       "1  wetpaint-inc.com  BachelrWetpaint          USA                0.0  ...   \n",
       "2  wetpaint-inc.com  BachelrWetpaint          USA                0.0  ...   \n",
       "3       flektor.com              NaN          USA                0.0  ...   \n",
       "4         there.com              NaN          USA                0.0  ...   \n",
       "\n",
       "   milestones  funding_round_id  company_id  funded_at  funding_round_type  \\\n",
       "0         5.0             888.0         1.0 2005-10-01            series-a   \n",
       "1         5.0             889.0         1.0 2007-01-01            series-b   \n",
       "2         5.0            2312.0         1.0 2008-05-19           series-c+   \n",
       "3         0.0               NaN         NaN        NaT                 NaN   \n",
       "4         4.0               NaN         NaN        NaT                 NaN   \n",
       "\n",
       "  raised_amount pre_money_valuation  participants  is_first_round  \\\n",
       "0     5250000.0                 0.0           2.0             0.0   \n",
       "1     9500000.0                 0.0           3.0             0.0   \n",
       "2    25000000.0                 0.0           4.0             1.0   \n",
       "3           NaN                 NaN           NaN             NaN   \n",
       "4           NaN                 NaN           NaN             NaN   \n",
       "\n",
       "   is_last_round  \n",
       "0            1.0  \n",
       "1            0.0  \n",
       "2            0.0  \n",
       "3            NaN  \n",
       "4            NaN  \n",
       "\n",
       "[5 rows x 22 columns]"
      ]
     },
     "execution_count": 922,
     "metadata": {},
     "output_type": "execute_result"
    }
   ],
   "source": [
    "company_and_rounds.head()"
   ]
  },
  {
   "cell_type": "markdown",
   "metadata": {},
   "source": [
    "Как мы видим, таблица содержит два одинаковых столбца `company_id`, разберемся с этим:"
   ]
  },
  {
   "cell_type": "code",
   "execution_count": 923,
   "metadata": {},
   "outputs": [
    {
     "data": {
      "text/html": [
       "<div>\n",
       "<style scoped>\n",
       "    .dataframe tbody tr th:only-of-type {\n",
       "        vertical-align: middle;\n",
       "    }\n",
       "\n",
       "    .dataframe tbody tr th {\n",
       "        vertical-align: top;\n",
       "    }\n",
       "\n",
       "    .dataframe thead th {\n",
       "        text-align: right;\n",
       "    }\n",
       "</style>\n",
       "<table border=\"1\" class=\"dataframe\">\n",
       "  <thead>\n",
       "    <tr style=\"text-align: right;\">\n",
       "      <th></th>\n",
       "      <th>company_id</th>\n",
       "      <th>name</th>\n",
       "      <th>category_code</th>\n",
       "      <th>status</th>\n",
       "      <th>founded_at</th>\n",
       "      <th>closed_at</th>\n",
       "      <th>domain</th>\n",
       "      <th>network_username</th>\n",
       "      <th>country_code</th>\n",
       "      <th>investment_rounds</th>\n",
       "      <th>...</th>\n",
       "      <th>funding_total</th>\n",
       "      <th>milestones</th>\n",
       "      <th>funding_round_id</th>\n",
       "      <th>funded_at</th>\n",
       "      <th>funding_round_type</th>\n",
       "      <th>raised_amount</th>\n",
       "      <th>pre_money_valuation</th>\n",
       "      <th>participants</th>\n",
       "      <th>is_first_round</th>\n",
       "      <th>is_last_round</th>\n",
       "    </tr>\n",
       "  </thead>\n",
       "  <tbody>\n",
       "    <tr>\n",
       "      <th>0</th>\n",
       "      <td>1.0</td>\n",
       "      <td>Wetpaint</td>\n",
       "      <td>web</td>\n",
       "      <td>operating</td>\n",
       "      <td>2005-10-17</td>\n",
       "      <td>NaT</td>\n",
       "      <td>wetpaint-inc.com</td>\n",
       "      <td>BachelrWetpaint</td>\n",
       "      <td>USA</td>\n",
       "      <td>0.0</td>\n",
       "      <td>...</td>\n",
       "      <td>39750000.0</td>\n",
       "      <td>5.0</td>\n",
       "      <td>888.0</td>\n",
       "      <td>2005-10-01</td>\n",
       "      <td>series-a</td>\n",
       "      <td>5250000.0</td>\n",
       "      <td>0.0</td>\n",
       "      <td>2.0</td>\n",
       "      <td>0.0</td>\n",
       "      <td>1.0</td>\n",
       "    </tr>\n",
       "    <tr>\n",
       "      <th>1</th>\n",
       "      <td>1.0</td>\n",
       "      <td>Wetpaint</td>\n",
       "      <td>web</td>\n",
       "      <td>operating</td>\n",
       "      <td>2005-10-17</td>\n",
       "      <td>NaT</td>\n",
       "      <td>wetpaint-inc.com</td>\n",
       "      <td>BachelrWetpaint</td>\n",
       "      <td>USA</td>\n",
       "      <td>0.0</td>\n",
       "      <td>...</td>\n",
       "      <td>39750000.0</td>\n",
       "      <td>5.0</td>\n",
       "      <td>889.0</td>\n",
       "      <td>2007-01-01</td>\n",
       "      <td>series-b</td>\n",
       "      <td>9500000.0</td>\n",
       "      <td>0.0</td>\n",
       "      <td>3.0</td>\n",
       "      <td>0.0</td>\n",
       "      <td>0.0</td>\n",
       "    </tr>\n",
       "    <tr>\n",
       "      <th>2</th>\n",
       "      <td>1.0</td>\n",
       "      <td>Wetpaint</td>\n",
       "      <td>web</td>\n",
       "      <td>operating</td>\n",
       "      <td>2005-10-17</td>\n",
       "      <td>NaT</td>\n",
       "      <td>wetpaint-inc.com</td>\n",
       "      <td>BachelrWetpaint</td>\n",
       "      <td>USA</td>\n",
       "      <td>0.0</td>\n",
       "      <td>...</td>\n",
       "      <td>39750000.0</td>\n",
       "      <td>5.0</td>\n",
       "      <td>2312.0</td>\n",
       "      <td>2008-05-19</td>\n",
       "      <td>series-c+</td>\n",
       "      <td>25000000.0</td>\n",
       "      <td>0.0</td>\n",
       "      <td>4.0</td>\n",
       "      <td>1.0</td>\n",
       "      <td>0.0</td>\n",
       "    </tr>\n",
       "    <tr>\n",
       "      <th>3</th>\n",
       "      <td>10.0</td>\n",
       "      <td>Flektor</td>\n",
       "      <td>games_video</td>\n",
       "      <td>acquired</td>\n",
       "      <td>NaT</td>\n",
       "      <td>NaT</td>\n",
       "      <td>flektor.com</td>\n",
       "      <td>NaN</td>\n",
       "      <td>USA</td>\n",
       "      <td>0.0</td>\n",
       "      <td>...</td>\n",
       "      <td>0.0</td>\n",
       "      <td>0.0</td>\n",
       "      <td>NaN</td>\n",
       "      <td>NaT</td>\n",
       "      <td>NaN</td>\n",
       "      <td>NaN</td>\n",
       "      <td>NaN</td>\n",
       "      <td>NaN</td>\n",
       "      <td>NaN</td>\n",
       "      <td>NaN</td>\n",
       "    </tr>\n",
       "    <tr>\n",
       "      <th>4</th>\n",
       "      <td>100.0</td>\n",
       "      <td>There</td>\n",
       "      <td>games_video</td>\n",
       "      <td>acquired</td>\n",
       "      <td>NaT</td>\n",
       "      <td>NaT</td>\n",
       "      <td>there.com</td>\n",
       "      <td>NaN</td>\n",
       "      <td>USA</td>\n",
       "      <td>0.0</td>\n",
       "      <td>...</td>\n",
       "      <td>0.0</td>\n",
       "      <td>4.0</td>\n",
       "      <td>NaN</td>\n",
       "      <td>NaT</td>\n",
       "      <td>NaN</td>\n",
       "      <td>NaN</td>\n",
       "      <td>NaN</td>\n",
       "      <td>NaN</td>\n",
       "      <td>NaN</td>\n",
       "      <td>NaN</td>\n",
       "    </tr>\n",
       "    <tr>\n",
       "      <th>...</th>\n",
       "      <td>...</td>\n",
       "      <td>...</td>\n",
       "      <td>...</td>\n",
       "      <td>...</td>\n",
       "      <td>...</td>\n",
       "      <td>...</td>\n",
       "      <td>...</td>\n",
       "      <td>...</td>\n",
       "      <td>...</td>\n",
       "      <td>...</td>\n",
       "      <td>...</td>\n",
       "      <td>...</td>\n",
       "      <td>...</td>\n",
       "      <td>...</td>\n",
       "      <td>...</td>\n",
       "      <td>...</td>\n",
       "      <td>...</td>\n",
       "      <td>...</td>\n",
       "      <td>...</td>\n",
       "      <td>...</td>\n",
       "      <td>...</td>\n",
       "    </tr>\n",
       "    <tr>\n",
       "      <th>217769</th>\n",
       "      <td>NaN</td>\n",
       "      <td>NaN</td>\n",
       "      <td>NaN</td>\n",
       "      <td>NaN</td>\n",
       "      <td>NaT</td>\n",
       "      <td>NaT</td>\n",
       "      <td>NaN</td>\n",
       "      <td>NaN</td>\n",
       "      <td>NaN</td>\n",
       "      <td>NaN</td>\n",
       "      <td>...</td>\n",
       "      <td>NaN</td>\n",
       "      <td>NaN</td>\n",
       "      <td>56454.0</td>\n",
       "      <td>2011-01-31</td>\n",
       "      <td>other</td>\n",
       "      <td>5500000.0</td>\n",
       "      <td>0.0</td>\n",
       "      <td>0.0</td>\n",
       "      <td>1.0</td>\n",
       "      <td>1.0</td>\n",
       "    </tr>\n",
       "    <tr>\n",
       "      <th>217770</th>\n",
       "      <td>NaN</td>\n",
       "      <td>NaN</td>\n",
       "      <td>NaN</td>\n",
       "      <td>NaN</td>\n",
       "      <td>NaT</td>\n",
       "      <td>NaT</td>\n",
       "      <td>NaN</td>\n",
       "      <td>NaN</td>\n",
       "      <td>NaN</td>\n",
       "      <td>NaN</td>\n",
       "      <td>...</td>\n",
       "      <td>NaN</td>\n",
       "      <td>NaN</td>\n",
       "      <td>56542.0</td>\n",
       "      <td>2011-01-13</td>\n",
       "      <td>venture</td>\n",
       "      <td>10633300.0</td>\n",
       "      <td>0.0</td>\n",
       "      <td>0.0</td>\n",
       "      <td>0.0</td>\n",
       "      <td>1.0</td>\n",
       "    </tr>\n",
       "    <tr>\n",
       "      <th>217771</th>\n",
       "      <td>NaN</td>\n",
       "      <td>NaN</td>\n",
       "      <td>NaN</td>\n",
       "      <td>NaN</td>\n",
       "      <td>NaT</td>\n",
       "      <td>NaT</td>\n",
       "      <td>NaN</td>\n",
       "      <td>NaN</td>\n",
       "      <td>NaN</td>\n",
       "      <td>NaN</td>\n",
       "      <td>...</td>\n",
       "      <td>NaN</td>\n",
       "      <td>NaN</td>\n",
       "      <td>56543.0</td>\n",
       "      <td>2012-05-31</td>\n",
       "      <td>venture</td>\n",
       "      <td>2125720.0</td>\n",
       "      <td>0.0</td>\n",
       "      <td>0.0</td>\n",
       "      <td>1.0</td>\n",
       "      <td>0.0</td>\n",
       "    </tr>\n",
       "    <tr>\n",
       "      <th>217772</th>\n",
       "      <td>NaN</td>\n",
       "      <td>NaN</td>\n",
       "      <td>NaN</td>\n",
       "      <td>NaN</td>\n",
       "      <td>NaT</td>\n",
       "      <td>NaT</td>\n",
       "      <td>NaN</td>\n",
       "      <td>NaN</td>\n",
       "      <td>NaN</td>\n",
       "      <td>NaN</td>\n",
       "      <td>...</td>\n",
       "      <td>NaN</td>\n",
       "      <td>NaN</td>\n",
       "      <td>56928.0</td>\n",
       "      <td>2013-12-03</td>\n",
       "      <td>venture</td>\n",
       "      <td>3602480.0</td>\n",
       "      <td>0.0</td>\n",
       "      <td>5.0</td>\n",
       "      <td>1.0</td>\n",
       "      <td>1.0</td>\n",
       "    </tr>\n",
       "    <tr>\n",
       "      <th>217773</th>\n",
       "      <td>NaN</td>\n",
       "      <td>NaN</td>\n",
       "      <td>NaN</td>\n",
       "      <td>NaN</td>\n",
       "      <td>NaT</td>\n",
       "      <td>NaT</td>\n",
       "      <td>NaN</td>\n",
       "      <td>NaN</td>\n",
       "      <td>NaN</td>\n",
       "      <td>NaN</td>\n",
       "      <td>...</td>\n",
       "      <td>NaN</td>\n",
       "      <td>NaN</td>\n",
       "      <td>57063.0</td>\n",
       "      <td>2013-12-04</td>\n",
       "      <td>venture</td>\n",
       "      <td>7000000.0</td>\n",
       "      <td>0.0</td>\n",
       "      <td>4.0</td>\n",
       "      <td>1.0</td>\n",
       "      <td>1.0</td>\n",
       "    </tr>\n",
       "  </tbody>\n",
       "</table>\n",
       "<p>217774 rows × 21 columns</p>\n",
       "</div>"
      ],
      "text/plain": [
       "        company_id      name category_code     status founded_at closed_at  \\\n",
       "0              1.0  Wetpaint           web  operating 2005-10-17       NaT   \n",
       "1              1.0  Wetpaint           web  operating 2005-10-17       NaT   \n",
       "2              1.0  Wetpaint           web  operating 2005-10-17       NaT   \n",
       "3             10.0   Flektor   games_video   acquired        NaT       NaT   \n",
       "4            100.0     There   games_video   acquired        NaT       NaT   \n",
       "...            ...       ...           ...        ...        ...       ...   \n",
       "217769         NaN       NaN           NaN        NaN        NaT       NaT   \n",
       "217770         NaN       NaN           NaN        NaN        NaT       NaT   \n",
       "217771         NaN       NaN           NaN        NaN        NaT       NaT   \n",
       "217772         NaN       NaN           NaN        NaN        NaT       NaT   \n",
       "217773         NaN       NaN           NaN        NaN        NaT       NaT   \n",
       "\n",
       "                  domain network_username country_code  investment_rounds  \\\n",
       "0       wetpaint-inc.com  BachelrWetpaint          USA                0.0   \n",
       "1       wetpaint-inc.com  BachelrWetpaint          USA                0.0   \n",
       "2       wetpaint-inc.com  BachelrWetpaint          USA                0.0   \n",
       "3            flektor.com              NaN          USA                0.0   \n",
       "4              there.com              NaN          USA                0.0   \n",
       "...                  ...              ...          ...                ...   \n",
       "217769               NaN              NaN          NaN                NaN   \n",
       "217770               NaN              NaN          NaN                NaN   \n",
       "217771               NaN              NaN          NaN                NaN   \n",
       "217772               NaN              NaN          NaN                NaN   \n",
       "217773               NaN              NaN          NaN                NaN   \n",
       "\n",
       "        ...  funding_total  milestones  funding_round_id  funded_at  \\\n",
       "0       ...     39750000.0         5.0             888.0 2005-10-01   \n",
       "1       ...     39750000.0         5.0             889.0 2007-01-01   \n",
       "2       ...     39750000.0         5.0            2312.0 2008-05-19   \n",
       "3       ...            0.0         0.0               NaN        NaT   \n",
       "4       ...            0.0         4.0               NaN        NaT   \n",
       "...     ...            ...         ...               ...        ...   \n",
       "217769  ...            NaN         NaN           56454.0 2011-01-31   \n",
       "217770  ...            NaN         NaN           56542.0 2011-01-13   \n",
       "217771  ...            NaN         NaN           56543.0 2012-05-31   \n",
       "217772  ...            NaN         NaN           56928.0 2013-12-03   \n",
       "217773  ...            NaN         NaN           57063.0 2013-12-04   \n",
       "\n",
       "       funding_round_type raised_amount  pre_money_valuation  participants  \\\n",
       "0                series-a     5250000.0                  0.0           2.0   \n",
       "1                series-b     9500000.0                  0.0           3.0   \n",
       "2               series-c+    25000000.0                  0.0           4.0   \n",
       "3                     NaN           NaN                  NaN           NaN   \n",
       "4                     NaN           NaN                  NaN           NaN   \n",
       "...                   ...           ...                  ...           ...   \n",
       "217769              other     5500000.0                  0.0           0.0   \n",
       "217770            venture    10633300.0                  0.0           0.0   \n",
       "217771            venture     2125720.0                  0.0           0.0   \n",
       "217772            venture     3602480.0                  0.0           5.0   \n",
       "217773            venture     7000000.0                  0.0           4.0   \n",
       "\n",
       "        is_first_round  is_last_round  \n",
       "0                  0.0            1.0  \n",
       "1                  0.0            0.0  \n",
       "2                  1.0            0.0  \n",
       "3                  NaN            NaN  \n",
       "4                  NaN            NaN  \n",
       "...                ...            ...  \n",
       "217769             1.0            1.0  \n",
       "217770             0.0            1.0  \n",
       "217771             1.0            0.0  \n",
       "217772             1.0            1.0  \n",
       "217773             1.0            1.0  \n",
       "\n",
       "[217774 rows x 21 columns]"
      ]
     },
     "execution_count": 923,
     "metadata": {},
     "output_type": "execute_result"
    }
   ],
   "source": [
    "company_and_rounds_filtered = company_and_rounds.loc[:, ~company_and_rounds.columns.duplicated()]\n",
    "\n",
    "company_and_rounds_filtered"
   ]
  },
  {
   "cell_type": "markdown",
   "metadata": {},
   "source": [
    "Посмотрим названия всех столбцов"
   ]
  },
  {
   "cell_type": "code",
   "execution_count": 924,
   "metadata": {},
   "outputs": [
    {
     "data": {
      "text/plain": [
       "Index(['company_id', 'name', 'category_code', 'status', 'founded_at',\n",
       "       'closed_at', 'domain', 'network_username', 'country_code',\n",
       "       'investment_rounds', 'funding_rounds', 'funding_total', 'milestones',\n",
       "       'funding_round_id', 'funded_at', 'funding_round_type', 'raised_amount',\n",
       "       'pre_money_valuation', 'participants', 'is_first_round',\n",
       "       'is_last_round'],\n",
       "      dtype='object')"
      ]
     },
     "execution_count": 924,
     "metadata": {},
     "output_type": "execute_result"
    }
   ],
   "source": [
    "company_and_rounds_filtered.columns"
   ]
  },
  {
   "cell_type": "markdown",
   "metadata": {},
   "source": [
    "Получившиеся таблица объединяет две разные информации: данные о компаниях и данные о раундах финансирования. Это затрудняет анализ и обработку данных. Для упрощения анализа разделим на две таблицы."
   ]
  },
  {
   "cell_type": "code",
   "execution_count": 925,
   "metadata": {},
   "outputs": [],
   "source": [
    "# Выделеним таблицу компаний\n",
    "companies = company_and_rounds_filtered[\n",
    "    [\n",
    "        'company_id', 'name', 'category_code', 'status', 'founded_at', 'closed_at',\n",
    "        'domain', 'network_username', 'country_code', 'investment_rounds', 'funding_rounds',\n",
    "        'funding_total', 'milestones', 'raised_amount'\n",
    "    ]\n",
    "].drop_duplicates()\n",
    "\n",
    "# Выделеним таблицу раундов финансирования\n",
    "funding_rounds = company_and_rounds_filtered[\n",
    "    [\n",
    "        'company_id',  'funding_round_id', 'funded_at', 'funding_round_type',\n",
    "        'pre_money_valuation', 'participants', 'is_first_round', 'is_last_round'\n",
    "    ]\n",
    "].dropna(subset=['funding_round_id', 'company_id'])  "
   ]
  },
  {
   "cell_type": "markdown",
   "metadata": {},
   "source": [
    "Посмотрим основную информацию о получившихся датасетах с помощью методов `info()` и `head()`."
   ]
  },
  {
   "cell_type": "code",
   "execution_count": 926,
   "metadata": {},
   "outputs": [
    {
     "data": {
      "text/html": [
       "<div>\n",
       "<style scoped>\n",
       "    .dataframe tbody tr th:only-of-type {\n",
       "        vertical-align: middle;\n",
       "    }\n",
       "\n",
       "    .dataframe tbody tr th {\n",
       "        vertical-align: top;\n",
       "    }\n",
       "\n",
       "    .dataframe thead th {\n",
       "        text-align: right;\n",
       "    }\n",
       "</style>\n",
       "<table border=\"1\" class=\"dataframe\">\n",
       "  <thead>\n",
       "    <tr style=\"text-align: right;\">\n",
       "      <th></th>\n",
       "      <th>company_id</th>\n",
       "      <th>name</th>\n",
       "      <th>category_code</th>\n",
       "      <th>status</th>\n",
       "      <th>founded_at</th>\n",
       "      <th>closed_at</th>\n",
       "      <th>domain</th>\n",
       "      <th>network_username</th>\n",
       "      <th>country_code</th>\n",
       "      <th>investment_rounds</th>\n",
       "      <th>funding_rounds</th>\n",
       "      <th>funding_total</th>\n",
       "      <th>milestones</th>\n",
       "      <th>raised_amount</th>\n",
       "    </tr>\n",
       "  </thead>\n",
       "  <tbody>\n",
       "    <tr>\n",
       "      <th>0</th>\n",
       "      <td>1.0</td>\n",
       "      <td>Wetpaint</td>\n",
       "      <td>web</td>\n",
       "      <td>operating</td>\n",
       "      <td>2005-10-17</td>\n",
       "      <td>NaT</td>\n",
       "      <td>wetpaint-inc.com</td>\n",
       "      <td>BachelrWetpaint</td>\n",
       "      <td>USA</td>\n",
       "      <td>0.0</td>\n",
       "      <td>3.0</td>\n",
       "      <td>39750000.0</td>\n",
       "      <td>5.0</td>\n",
       "      <td>5250000.0</td>\n",
       "    </tr>\n",
       "    <tr>\n",
       "      <th>1</th>\n",
       "      <td>1.0</td>\n",
       "      <td>Wetpaint</td>\n",
       "      <td>web</td>\n",
       "      <td>operating</td>\n",
       "      <td>2005-10-17</td>\n",
       "      <td>NaT</td>\n",
       "      <td>wetpaint-inc.com</td>\n",
       "      <td>BachelrWetpaint</td>\n",
       "      <td>USA</td>\n",
       "      <td>0.0</td>\n",
       "      <td>3.0</td>\n",
       "      <td>39750000.0</td>\n",
       "      <td>5.0</td>\n",
       "      <td>9500000.0</td>\n",
       "    </tr>\n",
       "    <tr>\n",
       "      <th>2</th>\n",
       "      <td>1.0</td>\n",
       "      <td>Wetpaint</td>\n",
       "      <td>web</td>\n",
       "      <td>operating</td>\n",
       "      <td>2005-10-17</td>\n",
       "      <td>NaT</td>\n",
       "      <td>wetpaint-inc.com</td>\n",
       "      <td>BachelrWetpaint</td>\n",
       "      <td>USA</td>\n",
       "      <td>0.0</td>\n",
       "      <td>3.0</td>\n",
       "      <td>39750000.0</td>\n",
       "      <td>5.0</td>\n",
       "      <td>25000000.0</td>\n",
       "    </tr>\n",
       "    <tr>\n",
       "      <th>3</th>\n",
       "      <td>10.0</td>\n",
       "      <td>Flektor</td>\n",
       "      <td>games_video</td>\n",
       "      <td>acquired</td>\n",
       "      <td>NaT</td>\n",
       "      <td>NaT</td>\n",
       "      <td>flektor.com</td>\n",
       "      <td>NaN</td>\n",
       "      <td>USA</td>\n",
       "      <td>0.0</td>\n",
       "      <td>0.0</td>\n",
       "      <td>0.0</td>\n",
       "      <td>0.0</td>\n",
       "      <td>NaN</td>\n",
       "    </tr>\n",
       "    <tr>\n",
       "      <th>4</th>\n",
       "      <td>100.0</td>\n",
       "      <td>There</td>\n",
       "      <td>games_video</td>\n",
       "      <td>acquired</td>\n",
       "      <td>NaT</td>\n",
       "      <td>NaT</td>\n",
       "      <td>there.com</td>\n",
       "      <td>NaN</td>\n",
       "      <td>USA</td>\n",
       "      <td>0.0</td>\n",
       "      <td>0.0</td>\n",
       "      <td>0.0</td>\n",
       "      <td>4.0</td>\n",
       "      <td>NaN</td>\n",
       "    </tr>\n",
       "  </tbody>\n",
       "</table>\n",
       "</div>"
      ],
      "text/plain": [
       "   company_id      name category_code     status founded_at closed_at  \\\n",
       "0         1.0  Wetpaint           web  operating 2005-10-17       NaT   \n",
       "1         1.0  Wetpaint           web  operating 2005-10-17       NaT   \n",
       "2         1.0  Wetpaint           web  operating 2005-10-17       NaT   \n",
       "3        10.0   Flektor   games_video   acquired        NaT       NaT   \n",
       "4       100.0     There   games_video   acquired        NaT       NaT   \n",
       "\n",
       "             domain network_username country_code  investment_rounds  \\\n",
       "0  wetpaint-inc.com  BachelrWetpaint          USA                0.0   \n",
       "1  wetpaint-inc.com  BachelrWetpaint          USA                0.0   \n",
       "2  wetpaint-inc.com  BachelrWetpaint          USA                0.0   \n",
       "3       flektor.com              NaN          USA                0.0   \n",
       "4         there.com              NaN          USA                0.0   \n",
       "\n",
       "   funding_rounds  funding_total  milestones  raised_amount  \n",
       "0             3.0     39750000.0         5.0      5250000.0  \n",
       "1             3.0     39750000.0         5.0      9500000.0  \n",
       "2             3.0     39750000.0         5.0     25000000.0  \n",
       "3             0.0            0.0         0.0            NaN  \n",
       "4             0.0            0.0         4.0            NaN  "
      ]
     },
     "execution_count": 926,
     "metadata": {},
     "output_type": "execute_result"
    }
   ],
   "source": [
    "companies.head()"
   ]
  },
  {
   "cell_type": "code",
   "execution_count": 927,
   "metadata": {},
   "outputs": [
    {
     "data": {
      "text/html": [
       "<div>\n",
       "<style scoped>\n",
       "    .dataframe tbody tr th:only-of-type {\n",
       "        vertical-align: middle;\n",
       "    }\n",
       "\n",
       "    .dataframe tbody tr th {\n",
       "        vertical-align: top;\n",
       "    }\n",
       "\n",
       "    .dataframe thead th {\n",
       "        text-align: right;\n",
       "    }\n",
       "</style>\n",
       "<table border=\"1\" class=\"dataframe\">\n",
       "  <thead>\n",
       "    <tr style=\"text-align: right;\">\n",
       "      <th></th>\n",
       "      <th>company_id</th>\n",
       "      <th>funding_round_id</th>\n",
       "      <th>funded_at</th>\n",
       "      <th>funding_round_type</th>\n",
       "      <th>pre_money_valuation</th>\n",
       "      <th>participants</th>\n",
       "      <th>is_first_round</th>\n",
       "      <th>is_last_round</th>\n",
       "    </tr>\n",
       "  </thead>\n",
       "  <tbody>\n",
       "    <tr>\n",
       "      <th>0</th>\n",
       "      <td>1.0</td>\n",
       "      <td>888.0</td>\n",
       "      <td>2005-10-01</td>\n",
       "      <td>series-a</td>\n",
       "      <td>0.0</td>\n",
       "      <td>2.0</td>\n",
       "      <td>0.0</td>\n",
       "      <td>1.0</td>\n",
       "    </tr>\n",
       "    <tr>\n",
       "      <th>1</th>\n",
       "      <td>1.0</td>\n",
       "      <td>889.0</td>\n",
       "      <td>2007-01-01</td>\n",
       "      <td>series-b</td>\n",
       "      <td>0.0</td>\n",
       "      <td>3.0</td>\n",
       "      <td>0.0</td>\n",
       "      <td>0.0</td>\n",
       "    </tr>\n",
       "    <tr>\n",
       "      <th>2</th>\n",
       "      <td>1.0</td>\n",
       "      <td>2312.0</td>\n",
       "      <td>2008-05-19</td>\n",
       "      <td>series-c+</td>\n",
       "      <td>0.0</td>\n",
       "      <td>4.0</td>\n",
       "      <td>1.0</td>\n",
       "      <td>0.0</td>\n",
       "    </tr>\n",
       "    <tr>\n",
       "      <th>15</th>\n",
       "      <td>1001.0</td>\n",
       "      <td>1644.0</td>\n",
       "      <td>2008-02-26</td>\n",
       "      <td>series-a</td>\n",
       "      <td>0.0</td>\n",
       "      <td>3.0</td>\n",
       "      <td>1.0</td>\n",
       "      <td>1.0</td>\n",
       "    </tr>\n",
       "    <tr>\n",
       "      <th>20</th>\n",
       "      <td>10014.0</td>\n",
       "      <td>6682.0</td>\n",
       "      <td>2008-09-01</td>\n",
       "      <td>angel</td>\n",
       "      <td>0.0</td>\n",
       "      <td>1.0</td>\n",
       "      <td>1.0</td>\n",
       "      <td>1.0</td>\n",
       "    </tr>\n",
       "  </tbody>\n",
       "</table>\n",
       "</div>"
      ],
      "text/plain": [
       "    company_id  funding_round_id  funded_at funding_round_type  \\\n",
       "0          1.0             888.0 2005-10-01           series-a   \n",
       "1          1.0             889.0 2007-01-01           series-b   \n",
       "2          1.0            2312.0 2008-05-19          series-c+   \n",
       "15      1001.0            1644.0 2008-02-26           series-a   \n",
       "20     10014.0            6682.0 2008-09-01              angel   \n",
       "\n",
       "    pre_money_valuation  participants  is_first_round  is_last_round  \n",
       "0                   0.0           2.0             0.0            1.0  \n",
       "1                   0.0           3.0             0.0            0.0  \n",
       "2                   0.0           4.0             1.0            0.0  \n",
       "15                  0.0           3.0             1.0            1.0  \n",
       "20                  0.0           1.0             1.0            1.0  "
      ]
     },
     "execution_count": 927,
     "metadata": {},
     "output_type": "execute_result"
    }
   ],
   "source": [
    "funding_rounds.head()"
   ]
  },
  {
   "cell_type": "code",
   "execution_count": 928,
   "metadata": {},
   "outputs": [
    {
     "name": "stdout",
     "output_type": "stream",
     "text": [
      "<class 'pandas.core.frame.DataFrame'>\n",
      "Int64Index: 216182 entries, 0 to 217772\n",
      "Data columns (total 14 columns):\n",
      " #   Column             Non-Null Count   Dtype         \n",
      "---  ------             --------------   -----         \n",
      " 0   company_id         216038 non-null  float64       \n",
      " 1   name               216038 non-null  object        \n",
      " 2   category_code      142471 non-null  object        \n",
      " 3   status             216038 non-null  object        \n",
      " 4   founded_at         108646 non-null  datetime64[ns]\n",
      " 5   closed_at          3380 non-null    datetime64[ns]\n",
      " 6   domain             145745 non-null  object        \n",
      " 7   network_username   94424 non-null   object        \n",
      " 8   country_code       107209 non-null  object        \n",
      " 9   investment_rounds  216038 non-null  float64       \n",
      " 10  funding_rounds     216038 non-null  float64       \n",
      " 11  funding_total      216038 non-null  float64       \n",
      " 12  milestones         216038 non-null  float64       \n",
      " 13  raised_amount      51336 non-null   float64       \n",
      "dtypes: datetime64[ns](2), float64(6), object(6)\n",
      "memory usage: 24.7+ MB\n"
     ]
    }
   ],
   "source": [
    "companies.info()"
   ]
  },
  {
   "cell_type": "code",
   "execution_count": 929,
   "metadata": {},
   "outputs": [
    {
     "name": "stdout",
     "output_type": "stream",
     "text": [
      "<class 'pandas.core.frame.DataFrame'>\n",
      "Int64Index: 52626 entries, 0 to 217471\n",
      "Data columns (total 8 columns):\n",
      " #   Column               Non-Null Count  Dtype         \n",
      "---  ------               --------------  -----         \n",
      " 0   company_id           52626 non-null  float64       \n",
      " 1   funding_round_id     52626 non-null  float64       \n",
      " 2   funded_at            52382 non-null  datetime64[ns]\n",
      " 3   funding_round_type   52626 non-null  object        \n",
      " 4   pre_money_valuation  52626 non-null  float64       \n",
      " 5   participants         52626 non-null  float64       \n",
      " 6   is_first_round       52626 non-null  float64       \n",
      " 7   is_last_round        52626 non-null  float64       \n",
      "dtypes: datetime64[ns](1), float64(6), object(1)\n",
      "memory usage: 3.6+ MB\n"
     ]
    }
   ],
   "source": [
    "funding_rounds.info()"
   ]
  },
  {
   "cell_type": "code",
   "execution_count": 930,
   "metadata": {},
   "outputs": [],
   "source": [
    "# Обработка пропусков\n",
    "companies['founded_at'] = pd.to_datetime(companies['founded_at'], errors='coerce')\n",
    "companies['closed_at'] = pd.to_datetime(companies['closed_at'], errors='coerce')\n",
    "companies['funding_total'] = companies['funding_total'].fillna(0.0)\n",
    "companies['country_code'] = companies['country_code'].fillna(\"Unknown\")\n",
    "\n",
    "# Удаление дубликатов по company_id\n",
    "companies = companies.drop_duplicates(subset=['company_id'])\n",
    "\n",
    "# Оптимизация типов данных\n",
    "companies['investment_rounds'] = companies['investment_rounds'].astype(\"float32\")\n",
    "companies['funding_total'] = companies['funding_total'].astype(\"float32\")\n",
    "companies['founded_at'] = pd.to_datetime(companies['founded_at'], errors=\"coerce\")\n",
    "companies['closed_at'] = pd.to_datetime(companies['closed_at'], errors=\"coerce\")"
   ]
  },
  {
   "cell_type": "markdown",
   "metadata": {},
   "source": [
    "**Вывод**\n",
    "\n",
    "Данные из `company_and_rounds` успешно разделены на две таблицы: `companies` (данные о стартапах) и `funding_rounds` (данные о раундах финансирования). Дубликаты удалены, уникальные идентификаторы уточнены для всех таблиц."
   ]
  },
  {
   "cell_type": "markdown",
   "metadata": {
    "id": "g2bHIIjcrJg1"
   },
   "source": [
    "\n",
    "### 2.3. Раунды финансирования по годам\n",
    "\n",
    "* Составьте сводную таблицу по годам, в которой на основании столбца `raised_amount` для каждого года указан:\n",
    "\n",
    "  * типичный размер средств, выделяемый в рамках одного раунда;\n",
    "  * общее количество раундов финансирования за этот год.\n",
    "\n",
    "* Оставьте в таблице информацию только для тех лет, для которых есть информация о более чем 50 раундах финансирования.\n",
    "\n",
    "* На основе получившейся таблицы постройте график, который будет отражать динамику типичного размера средств, которые стартапы получали в рамках одного раунда финансирования.\n",
    "\n",
    "На основе полученных данных ответьте на вопросы:\n",
    "\n",
    "* В каком году типичный размер собранных в рамках одного раунда средств был максимален?\n",
    "\n",
    "* Какая тенденция по количеству раундов и выделяемых в рамках каждого раунда средств наблюдалась в 2013 году?"
   ]
  },
  {
   "cell_type": "code",
   "execution_count": 932,
   "metadata": {},
   "outputs": [],
   "source": [
    "# Извлечем год\n",
    "datasets['company_and_rounds']['funded_year'] = datasets['company_and_rounds']['funded_at'].dt.year\n",
    "\n",
    "\n",
    "# Сводная таблица\n",
    "funding_by_year = datasets['company_and_rounds'].groupby('funded_year').agg(\n",
    "    median_raised=('raised_amount', 'median'),          \n",
    "    rounds_count=('raised_amount', 'count'),           \n",
    "    median_nonzero=('raised_amount', lambda x: x[x > 0].median()),  \n",
    "    nonzero_rounds_count=('raised_amount', lambda x: (x > 0).sum()) \n",
    ").reset_index()"
   ]
  },
  {
   "cell_type": "code",
   "execution_count": 933,
   "metadata": {},
   "outputs": [],
   "source": [
    "# Фильтрация по годам с более чем 50 раундами\n",
    "fil_funding_by_year = funding_by_year[funding_by_year['rounds_count'] > 50]"
   ]
  },
  {
   "cell_type": "code",
   "execution_count": 934,
   "metadata": {},
   "outputs": [
    {
     "data": {
      "image/png": "[encoded data removed]",
      "text/plain": [
       "<Figure size 1008x576 with 2 Axes>"
      ]
     },
     "metadata": {
      "needs_background": "light"
     },
     "output_type": "display_data"
    }
   ],
   "source": [
    "# Построение графика\n",
    "fig, ax1 = plt.subplots(figsize=(14, 8))\n",
    "\n",
    "# Графики для медианного размера финансирования\n",
    "ax1.set_xlabel('Год')\n",
    "ax1.set_ylabel('Типичный (Медиана) размер финансирования')\n",
    "\n",
    "ax1.plot(fil_funding_by_year['funded_year'], \n",
    "         fil_funding_by_year['median_raised'], \n",
    "         marker='o', \n",
    "         label='Типичный размер финансирования',\n",
    "         color='orange')\n",
    "ax1.plot(fil_funding_by_year['funded_year'], \n",
    "         fil_funding_by_year['median_nonzero'], \n",
    "         marker='o',\n",
    "         label='Медиана без нулевых раундов',\n",
    "         color='blue')\n",
    "\n",
    "ax1.grid(True)\n",
    "\n",
    "# Графики для количества раундов на второй оси\n",
    "ax2 = ax1.twinx()\n",
    "ax2.set_ylabel('Количество раундов финансирования')\n",
    "\n",
    "ax2.plot(fil_funding_by_year['funded_year'], \n",
    "         fil_funding_by_year['rounds_count'], \n",
    "         marker='o',\n",
    "         label='Количество раундов',\n",
    "         color='green')\n",
    "\n",
    "ax2.plot(fil_funding_by_year['funded_year'], \n",
    "         fil_funding_by_year['nonzero_rounds_count'], \n",
    "         marker='o', \n",
    "         label='Количество ненулевых раундов',\n",
    "         color='purple')\n",
    "\n",
    "\n",
    "# Объединение легенд\n",
    "fig.legend(loc='upper left')\n",
    "\n",
    "plt.title('Динамика типичного размера финансирования и количества раундов по годам')\n",
    "plt.show()"
   ]
  },
  {
   "cell_type": "markdown",
   "metadata": {},
   "source": [
    "**Вывод**\n",
    "\n",
    "Максимальное значение типичного размера финансирования (медиана) наблюдалось в 2005 году. После медианный размер значительно снизился. В 2013 году размер тпичного финансирования в крайне низком положении.\n",
    "\n",
    "После пика 2005 года увеличилось количество раундов, но медианный размер финансирования снизился. В 2013 году наблюдается тенденция к росту числа раундов, что указывает на расширение возможностей для стартапов получить инвестиции."
   ]
  },
  {
   "cell_type": "markdown",
   "metadata": {
    "id": "45if1en1rJg2"
   },
   "source": [
    "\n",
    "### 2.4. Люди и их образование\n",
    "\n",
    "Заказчик хочет понять, зависит ли полнота сведений о сотрудниках (например, об их образовании) от размера компаний.\n",
    "\n",
    "* Оцените, насколько информация об образовании сотрудников полна. Используя датасеты `people.csv` и `education.csv`, разделите все компании на несколько групп по количеству сотрудников и оцените среднюю долю сотрудников без информации об образовании в каждой из групп.\n",
    "\n",
    "* Оцените, возможно ли для выполнения задания присоединить к этим таблицам ещё и таблицу `degrees.csv`."
   ]
  },
  {
   "cell_type": "markdown",
   "metadata": {},
   "source": [
    "Оценим, сколько строк имеют непустые значения в столбцах `instituition` или `graduated_at`"
   ]
  },
  {
   "cell_type": "code",
   "execution_count": 935,
   "metadata": {},
   "outputs": [],
   "source": [
    "# Объединение столбцов\n",
    "merged = people.merge(education, how='left', on='id')"
   ]
  },
  {
   "cell_type": "code",
   "execution_count": 936,
   "metadata": {},
   "outputs": [],
   "source": [
    "# Фильтрация строк, где хотя бы один из столбцов не пуст (instituition или graduated_at)\n",
    "education_non_empty = merged[\n",
    "    (merged['instituition'].notna()) |\n",
    "    (merged['graduated_at'].notna())\n",
    "]"
   ]
  },
  {
   "cell_type": "code",
   "execution_count": 937,
   "metadata": {},
   "outputs": [
    {
     "name": "stdout",
     "output_type": "stream",
     "text": [
      "Процент строк, где есть информация либо в institution, либо в graduated_at: 41.25%\n"
     ]
    }
   ],
   "source": [
    "# Процент строк, где хотя бы один из столбцов не пуст\n",
    "proportion_non_empty = (len(education_non_empty) / len(merged)) * 100\n",
    "print(f'Процент строк, где есть информация либо в institution, либо в graduated_at: {proportion_non_empty:.2f}%')"
   ]
  },
  {
   "cell_type": "markdown",
   "metadata": {},
   "source": [
    "Оценка полноты данных с присоединением таблицы `degrees`"
   ]
  },
  {
   "cell_type": "code",
   "execution_count": 938,
   "metadata": {},
   "outputs": [],
   "source": [
    "# Присоединяем таблицу degrees \n",
    "full_education = merged.merge(degrees, on='id', how='left')"
   ]
  },
  {
   "cell_type": "code",
   "execution_count": 939,
   "metadata": {},
   "outputs": [],
   "source": [
    "# Фильтрация строк, где хотя бы один из четырёх столбцов не пуст (instituition, graduated_at, degree_type, subject)\n",
    "full_education_non_empty = full_education[\n",
    "    (full_education['instituition'].notna()) |\n",
    "    (full_education['graduated_at'].notna()) |\n",
    "    (full_education['degree_type'].notna()) |\n",
    "    (full_education['subject'].notna())\n",
    "]"
   ]
  },
  {
   "cell_type": "code",
   "execution_count": 940,
   "metadata": {},
   "outputs": [
    {
     "name": "stdout",
     "output_type": "stream",
     "text": [
      "Процент строк, где есть информация хотя бы в одном из столбцов: institution, graduated_at, degree_type, subject: 41.25%\n"
     ]
    }
   ],
   "source": [
    "# Процент строк с полными данными о образовании (с присоединением degree)\n",
    "proportion_full_non_empty = (len(full_education_non_empty) / len(full_education)) * 100\n",
    "print(f'Процент строк, где есть информация хотя бы в одном из столбцов: institution, graduated_at, degree_type, subject: {proportion_full_non_empty:.2f}%')"
   ]
  },
  {
   "cell_type": "markdown",
   "metadata": {},
   "source": [
    "В обоих сулчаях процент полноты данных = 41.25%, исходя из этого данные о образовании одинаково полные с и без присоединения таблицы degrees. Можно не присоединять."
   ]
  },
  {
   "cell_type": "code",
   "execution_count": 941,
   "metadata": {
    "scrolled": true
   },
   "outputs": [
    {
     "data": {
      "text/html": [
       "<div>\n",
       "<style scoped>\n",
       "    .dataframe tbody tr th:only-of-type {\n",
       "        vertical-align: middle;\n",
       "    }\n",
       "\n",
       "    .dataframe tbody tr th {\n",
       "        vertical-align: top;\n",
       "    }\n",
       "\n",
       "    .dataframe thead th {\n",
       "        text-align: right;\n",
       "    }\n",
       "</style>\n",
       "<table border=\"1\" class=\"dataframe\">\n",
       "  <thead>\n",
       "    <tr style=\"text-align: right;\">\n",
       "      <th></th>\n",
       "      <th>id</th>\n",
       "      <th>first_name</th>\n",
       "      <th>last_name</th>\n",
       "      <th>company_id</th>\n",
       "      <th>network_username</th>\n",
       "      <th>person_id</th>\n",
       "      <th>instituition</th>\n",
       "      <th>graduated_at</th>\n",
       "    </tr>\n",
       "  </thead>\n",
       "  <tbody>\n",
       "    <tr>\n",
       "      <th>0</th>\n",
       "      <td>10</td>\n",
       "      <td>Mark</td>\n",
       "      <td>Zuckerberg</td>\n",
       "      <td>5.0</td>\n",
       "      <td>NaN</td>\n",
       "      <td>6265.0</td>\n",
       "      <td>University of Pennsylvania</td>\n",
       "      <td>1989-01-01</td>\n",
       "    </tr>\n",
       "    <tr>\n",
       "      <th>1</th>\n",
       "      <td>100</td>\n",
       "      <td>Peter</td>\n",
       "      <td>Lester</td>\n",
       "      <td>27.0</td>\n",
       "      <td>NaN</td>\n",
       "      <td>938.0</td>\n",
       "      <td>Universidad Catolica del Uruguay</td>\n",
       "      <td>2006-01-01</td>\n",
       "    </tr>\n",
       "    <tr>\n",
       "      <th>2</th>\n",
       "      <td>1000</td>\n",
       "      <td>Dr. Steven</td>\n",
       "      <td>E. Saunders</td>\n",
       "      <td>292.0</td>\n",
       "      <td>NaN</td>\n",
       "      <td>13098.0</td>\n",
       "      <td>Golden Gate University</td>\n",
       "      <td>1999-01-01</td>\n",
       "    </tr>\n",
       "    <tr>\n",
       "      <th>3</th>\n",
       "      <td>10000</td>\n",
       "      <td>Neil</td>\n",
       "      <td>Capel</td>\n",
       "      <td>2526.0</td>\n",
       "      <td>NaN</td>\n",
       "      <td>74038.0</td>\n",
       "      <td>Cairo University</td>\n",
       "      <td>NaT</td>\n",
       "    </tr>\n",
       "    <tr>\n",
       "      <th>4</th>\n",
       "      <td>100000</td>\n",
       "      <td>Sue</td>\n",
       "      <td>Pilsch</td>\n",
       "      <td>NaN</td>\n",
       "      <td>NaN</td>\n",
       "      <td>89666.0</td>\n",
       "      <td>Ohio State University</td>\n",
       "      <td>NaT</td>\n",
       "    </tr>\n",
       "  </tbody>\n",
       "</table>\n",
       "</div>"
      ],
      "text/plain": [
       "       id  first_name    last_name  company_id network_username  person_id  \\\n",
       "0      10        Mark   Zuckerberg         5.0              NaN     6265.0   \n",
       "1     100       Peter       Lester        27.0              NaN      938.0   \n",
       "2    1000  Dr. Steven  E. Saunders       292.0              NaN    13098.0   \n",
       "3   10000        Neil        Capel      2526.0              NaN    74038.0   \n",
       "4  100000         Sue       Pilsch         NaN              NaN    89666.0   \n",
       "\n",
       "                       instituition graduated_at  \n",
       "0        University of Pennsylvania   1989-01-01  \n",
       "1  Universidad Catolica del Uruguay   2006-01-01  \n",
       "2            Golden Gate University   1999-01-01  \n",
       "3                  Cairo University          NaT  \n",
       "4             Ohio State University          NaT  "
      ]
     },
     "execution_count": 941,
     "metadata": {},
     "output_type": "execute_result"
    }
   ],
   "source": [
    "# Посмотрим на объединенную таблицу\n",
    "merged.head()"
   ]
  },
  {
   "cell_type": "code",
   "execution_count": 942,
   "metadata": {},
   "outputs": [],
   "source": [
    "#Оставим уникальные значения в столбце id\n",
    "merged = merged.drop_duplicates(subset=['id'], keep='first')"
   ]
  },
  {
   "cell_type": "code",
   "execution_count": 943,
   "metadata": {},
   "outputs": [],
   "source": [
    "# Добавим столбец has_education\n",
    "merged['has_education'] = merged[['instituition', 'graduated_at']].notna().any(axis=1).astype(int)"
   ]
  },
  {
   "cell_type": "code",
   "execution_count": 944,
   "metadata": {},
   "outputs": [],
   "source": [
    "# Группируем сотрудников по company_id\n",
    "company_grouped = merged.groupby('company_id').agg(\n",
    "    total_employees=('id', 'count'),\n",
    "    employees_with_education=('has_education', 'sum')\n",
    ").reset_index()"
   ]
  },
  {
   "cell_type": "code",
   "execution_count": 945,
   "metadata": {},
   "outputs": [],
   "source": [
    "# Зададим границы и метки для групп\n",
    "bins = [0, 5, 10, 20, 50, 100, float('inf')]\n",
    "labels = ['1-5', '6-10', '11-20', '21-50', '51-100', '100+']"
   ]
  },
  {
   "cell_type": "code",
   "execution_count": 946,
   "metadata": {},
   "outputs": [],
   "source": [
    "# Добавим категории размеров компаний\n",
    "company_grouped['size_group'] = pd.cut(\n",
    "    company_grouped['total_employees'],\n",
    "    bins=bins,\n",
    "    labels=labels,\n",
    "    right=True\n",
    ")"
   ]
  },
  {
   "cell_type": "code",
   "execution_count": 947,
   "metadata": {},
   "outputs": [],
   "source": [
    "# Вычислим долю сотрудников без образования\n",
    "company_grouped['without_education_ratio'] = (\n",
    "    1 - company_grouped['employees_with_education'] / company_grouped['total_employees']\n",
    ")"
   ]
  },
  {
   "cell_type": "code",
   "execution_count": 948,
   "metadata": {},
   "outputs": [],
   "source": [
    "# Группируем по размеру компании и считаем среднюю долю\n",
    "result = company_grouped.groupby('size_group').agg(\n",
    "    average_without_education=('without_education_ratio', 'mean'),\n",
    "    company_count=('company_id', 'count')\n",
    ").reset_index()\n"
   ]
  },
  {
   "cell_type": "code",
   "execution_count": 949,
   "metadata": {},
   "outputs": [
    {
     "data": {
      "text/html": [
       "<div>\n",
       "<style scoped>\n",
       "    .dataframe tbody tr th:only-of-type {\n",
       "        vertical-align: middle;\n",
       "    }\n",
       "\n",
       "    .dataframe tbody tr th {\n",
       "        vertical-align: top;\n",
       "    }\n",
       "\n",
       "    .dataframe thead th {\n",
       "        text-align: right;\n",
       "    }\n",
       "</style>\n",
       "<table border=\"1\" class=\"dataframe\">\n",
       "  <thead>\n",
       "    <tr style=\"text-align: right;\">\n",
       "      <th></th>\n",
       "      <th>size_group</th>\n",
       "      <th>average_without_education</th>\n",
       "      <th>company_count</th>\n",
       "    </tr>\n",
       "  </thead>\n",
       "  <tbody>\n",
       "    <tr>\n",
       "      <th>0</th>\n",
       "      <td>1-5</td>\n",
       "      <td>0.477006</td>\n",
       "      <td>22433</td>\n",
       "    </tr>\n",
       "    <tr>\n",
       "      <th>1</th>\n",
       "      <td>6-10</td>\n",
       "      <td>0.274534</td>\n",
       "      <td>368</td>\n",
       "    </tr>\n",
       "    <tr>\n",
       "      <th>2</th>\n",
       "      <td>11-20</td>\n",
       "      <td>0.360101</td>\n",
       "      <td>92</td>\n",
       "    </tr>\n",
       "    <tr>\n",
       "      <th>3</th>\n",
       "      <td>21-50</td>\n",
       "      <td>0.425924</td>\n",
       "      <td>19</td>\n",
       "    </tr>\n",
       "    <tr>\n",
       "      <th>4</th>\n",
       "      <td>51-100</td>\n",
       "      <td>0.482224</td>\n",
       "      <td>6</td>\n",
       "    </tr>\n",
       "    <tr>\n",
       "      <th>5</th>\n",
       "      <td>100+</td>\n",
       "      <td>0.264048</td>\n",
       "      <td>3</td>\n",
       "    </tr>\n",
       "  </tbody>\n",
       "</table>\n",
       "</div>"
      ],
      "text/plain": [
       "  size_group  average_without_education  company_count\n",
       "0        1-5                   0.477006          22433\n",
       "1       6-10                   0.274534            368\n",
       "2      11-20                   0.360101             92\n",
       "3      21-50                   0.425924             19\n",
       "4     51-100                   0.482224              6\n",
       "5       100+                   0.264048              3"
      ]
     },
     "execution_count": 949,
     "metadata": {},
     "output_type": "execute_result"
    }
   ],
   "source": [
    "result"
   ]
  },
  {
   "cell_type": "markdown",
   "metadata": {},
   "source": [
    "Малые компании (1-5 сотрудников) показывают более высокую долю сотрудников без образования, что может быть связано с ограниченными ресурсами для развития сотрудников/ наймом не особо квалифицированнх кадров, лишь бы был сотрудник. Крупные компании (100+ сотрудников) показывают значительно более низкую долю сотрудников без образования, что может свидетельствовать о том, что такие компании уделяют больше внимания образованию и обучению своих сотрудников."
   ]
  },
  {
   "cell_type": "code",
   "execution_count": 950,
   "metadata": {},
   "outputs": [
    {
     "data": {
      "image/png": "[encoded data removed]",
      "text/plain": [
       "<Figure size 864x432 with 1 Axes>"
      ]
     },
     "metadata": {
      "needs_background": "light"
     },
     "output_type": "display_data"
    }
   ],
   "source": [
    "categories = result['size_group'].astype(str)\n",
    "percentages = (1 - result['average_without_education']) * 100  # Преобразуем в процент образованных сотрудников\n",
    "\n",
    "# Визуализация\n",
    "plt.figure(figsize=(12, 6))\n",
    "bars = plt.bar(categories, \n",
    "               percentages, \n",
    "               color='skyblue', \n",
    "               alpha=0.8, \n",
    "               edgecolor='black')\n",
    "\n",
    "# Значения над столбцами\n",
    "for bar, percentage in zip(bars, percentages):\n",
    "    plt.text(bar.get_x() + bar.get_width() / 2, bar.get_height() + 1,\n",
    "             f\"{percentage:.2f}%\", ha='center', va='bottom', fontsize=10)\n",
    "\n",
    "plt.ylim(0, 100)\n",
    "plt.xlabel(\"Размер компании (по числу сотрудников)\")\n",
    "plt.ylabel(\"Процент образованных сотрудников (%)\")\n",
    "plt.title(\"Процент образованных сотрудников по категориям\")\n",
    "plt.grid(axis='y')\n",
    "\n",
    "plt.show()"
   ]
  },
  {
   "cell_type": "markdown",
   "metadata": {},
   "source": [
    "**Вывод**\n",
    "\n",
    "Компании с числом сотрудников 6-10 демонстрируют наибольший процент образованных сотрудников. Для небольших компаний может быть полезно развивать внутренние программы обучения. В крупных компаниях (100+) наблюдается рост доли образованных сотрудников, для них важно поддерживать высокие стандарты найма и фокусироваться на профессиональном развитии сотрудников."
   ]
  },
  {
   "cell_type": "markdown",
   "metadata": {
    "id": "bmVYhphNrJg2"
   },
   "source": [
    "<a class=\"anchor\" id=\"3-bullet\"></a>\n",
    "## Шаг 3. Исследовательский анализ объединённых таблиц\n",
    "\n",
    "<big>Приступите к шагу 3 после проверки ревьюера.</big>"
   ]
  },
  {
   "cell_type": "markdown",
   "metadata": {
    "id": "3Di6tCT3rJg2"
   },
   "source": [
    "\n",
    "### 3.1. Объединение данных\n",
    "\n",
    "Объедините данные для ответа на вопросы заказчика, которые касаются интересующих его компаний.\n",
    "\n",
    "В качестве основы для объединённой таблицы возьмите данные из обработанного датасета `company_and_rounds.csv` — выберите только те компании, у которых указаны значения `funding_rounds` или `investment_rounds` больше нуля, и те, у которых в колонке `status` указано `acquired`.\n",
    "\n",
    "Далее работайте только с этими данными."
   ]
  },
  {
   "cell_type": "code",
   "execution_count": 951,
   "metadata": {
    "id": "mGYqoHS7rJg2",
    "vscode": {
     "languageId": "plaintext"
    }
   },
   "outputs": [],
   "source": [
    "companies_fil =  companies[(\n",
    "        (companies['funding_rounds'] > 0) \n",
    "        | (companies['investment_rounds'] > 0)\n",
    "    ) | (companies['status'] == 'acquired')\n",
    "]"
   ]
  },
  {
   "cell_type": "code",
   "execution_count": 952,
   "metadata": {},
   "outputs": [
    {
     "data": {
      "text/html": [
       "<div>\n",
       "<style scoped>\n",
       "    .dataframe tbody tr th:only-of-type {\n",
       "        vertical-align: middle;\n",
       "    }\n",
       "\n",
       "    .dataframe tbody tr th {\n",
       "        vertical-align: top;\n",
       "    }\n",
       "\n",
       "    .dataframe thead th {\n",
       "        text-align: right;\n",
       "    }\n",
       "</style>\n",
       "<table border=\"1\" class=\"dataframe\">\n",
       "  <thead>\n",
       "    <tr style=\"text-align: right;\">\n",
       "      <th></th>\n",
       "      <th>company_id</th>\n",
       "      <th>name</th>\n",
       "      <th>category_code</th>\n",
       "      <th>status</th>\n",
       "      <th>founded_at</th>\n",
       "      <th>closed_at</th>\n",
       "      <th>domain</th>\n",
       "      <th>network_username</th>\n",
       "      <th>country_code</th>\n",
       "      <th>investment_rounds</th>\n",
       "      <th>funding_rounds</th>\n",
       "      <th>funding_total</th>\n",
       "      <th>milestones</th>\n",
       "      <th>raised_amount</th>\n",
       "    </tr>\n",
       "  </thead>\n",
       "  <tbody>\n",
       "    <tr>\n",
       "      <th>0</th>\n",
       "      <td>1.0</td>\n",
       "      <td>Wetpaint</td>\n",
       "      <td>web</td>\n",
       "      <td>operating</td>\n",
       "      <td>2005-10-17</td>\n",
       "      <td>NaT</td>\n",
       "      <td>wetpaint-inc.com</td>\n",
       "      <td>BachelrWetpaint</td>\n",
       "      <td>USA</td>\n",
       "      <td>0.0</td>\n",
       "      <td>3.0</td>\n",
       "      <td>39750000.0</td>\n",
       "      <td>5.0</td>\n",
       "      <td>5250000.0</td>\n",
       "    </tr>\n",
       "    <tr>\n",
       "      <th>3</th>\n",
       "      <td>10.0</td>\n",
       "      <td>Flektor</td>\n",
       "      <td>games_video</td>\n",
       "      <td>acquired</td>\n",
       "      <td>NaT</td>\n",
       "      <td>NaT</td>\n",
       "      <td>flektor.com</td>\n",
       "      <td>NaN</td>\n",
       "      <td>USA</td>\n",
       "      <td>0.0</td>\n",
       "      <td>0.0</td>\n",
       "      <td>0.0</td>\n",
       "      <td>0.0</td>\n",
       "      <td>NaN</td>\n",
       "    </tr>\n",
       "    <tr>\n",
       "      <th>4</th>\n",
       "      <td>100.0</td>\n",
       "      <td>There</td>\n",
       "      <td>games_video</td>\n",
       "      <td>acquired</td>\n",
       "      <td>NaT</td>\n",
       "      <td>NaT</td>\n",
       "      <td>there.com</td>\n",
       "      <td>NaN</td>\n",
       "      <td>USA</td>\n",
       "      <td>0.0</td>\n",
       "      <td>0.0</td>\n",
       "      <td>0.0</td>\n",
       "      <td>4.0</td>\n",
       "      <td>NaN</td>\n",
       "    </tr>\n",
       "    <tr>\n",
       "      <th>15</th>\n",
       "      <td>1001.0</td>\n",
       "      <td>FriendFeed</td>\n",
       "      <td>web</td>\n",
       "      <td>acquired</td>\n",
       "      <td>2007-10-01</td>\n",
       "      <td>NaT</td>\n",
       "      <td>friendfeed.com</td>\n",
       "      <td>friendfeed</td>\n",
       "      <td>USA</td>\n",
       "      <td>0.0</td>\n",
       "      <td>1.0</td>\n",
       "      <td>5000000.0</td>\n",
       "      <td>3.0</td>\n",
       "      <td>5000000.0</td>\n",
       "    </tr>\n",
       "    <tr>\n",
       "      <th>20</th>\n",
       "      <td>10014.0</td>\n",
       "      <td>Mobclix</td>\n",
       "      <td>mobile</td>\n",
       "      <td>acquired</td>\n",
       "      <td>2008-03-01</td>\n",
       "      <td>NaT</td>\n",
       "      <td>mobclix.com</td>\n",
       "      <td>mobclix</td>\n",
       "      <td>USA</td>\n",
       "      <td>0.0</td>\n",
       "      <td>1.0</td>\n",
       "      <td>0.0</td>\n",
       "      <td>4.0</td>\n",
       "      <td>0.0</td>\n",
       "    </tr>\n",
       "    <tr>\n",
       "      <th>...</th>\n",
       "      <td>...</td>\n",
       "      <td>...</td>\n",
       "      <td>...</td>\n",
       "      <td>...</td>\n",
       "      <td>...</td>\n",
       "      <td>...</td>\n",
       "      <td>...</td>\n",
       "      <td>...</td>\n",
       "      <td>...</td>\n",
       "      <td>...</td>\n",
       "      <td>...</td>\n",
       "      <td>...</td>\n",
       "      <td>...</td>\n",
       "      <td>...</td>\n",
       "    </tr>\n",
       "    <tr>\n",
       "      <th>217458</th>\n",
       "      <td>1344.0</td>\n",
       "      <td>Vobile</td>\n",
       "      <td>web</td>\n",
       "      <td>operating</td>\n",
       "      <td>2005-01-01</td>\n",
       "      <td>NaT</td>\n",
       "      <td>vobileinc.com</td>\n",
       "      <td>networkmobile</td>\n",
       "      <td>USA</td>\n",
       "      <td>0.0</td>\n",
       "      <td>1.0</td>\n",
       "      <td>10000000.0</td>\n",
       "      <td>0.0</td>\n",
       "      <td>10000000.0</td>\n",
       "    </tr>\n",
       "    <tr>\n",
       "      <th>217459</th>\n",
       "      <td>142181.0</td>\n",
       "      <td>Stop Being Watched</td>\n",
       "      <td>software</td>\n",
       "      <td>operating</td>\n",
       "      <td>2010-06-10</td>\n",
       "      <td>NaT</td>\n",
       "      <td>stopbeingwatched.com</td>\n",
       "      <td>SBWinfonetwork</td>\n",
       "      <td>USA</td>\n",
       "      <td>0.0</td>\n",
       "      <td>1.0</td>\n",
       "      <td>500000.0</td>\n",
       "      <td>1.0</td>\n",
       "      <td>500000.0</td>\n",
       "    </tr>\n",
       "    <tr>\n",
       "      <th>217463</th>\n",
       "      <td>3429.0</td>\n",
       "      <td>Zend Technologies</td>\n",
       "      <td>software</td>\n",
       "      <td>operating</td>\n",
       "      <td>1999-01-01</td>\n",
       "      <td>NaT</td>\n",
       "      <td>zend.com</td>\n",
       "      <td>networkzend</td>\n",
       "      <td>USA</td>\n",
       "      <td>0.0</td>\n",
       "      <td>4.0</td>\n",
       "      <td>44000000.0</td>\n",
       "      <td>6.0</td>\n",
       "      <td>20000000.0</td>\n",
       "    </tr>\n",
       "    <tr>\n",
       "      <th>217467</th>\n",
       "      <td>7748.0</td>\n",
       "      <td>Flowgram</td>\n",
       "      <td>web</td>\n",
       "      <td>closed</td>\n",
       "      <td>2007-06-01</td>\n",
       "      <td>2008-06-11</td>\n",
       "      <td>flowgram.com</td>\n",
       "      <td>network</td>\n",
       "      <td>USA</td>\n",
       "      <td>0.0</td>\n",
       "      <td>1.0</td>\n",
       "      <td>1300000.0</td>\n",
       "      <td>3.0</td>\n",
       "      <td>1300000.0</td>\n",
       "    </tr>\n",
       "    <tr>\n",
       "      <th>217469</th>\n",
       "      <td>43233.0</td>\n",
       "      <td>Photonet</td>\n",
       "      <td>photo_video</td>\n",
       "      <td>acquired</td>\n",
       "      <td>2010-03-01</td>\n",
       "      <td>NaT</td>\n",
       "      <td>Photonet.com</td>\n",
       "      <td>Photonet</td>\n",
       "      <td>USA</td>\n",
       "      <td>0.0</td>\n",
       "      <td>3.0</td>\n",
       "      <td>57500000.0</td>\n",
       "      <td>3.0</td>\n",
       "      <td>500000.0</td>\n",
       "    </tr>\n",
       "  </tbody>\n",
       "</table>\n",
       "<p>40747 rows × 14 columns</p>\n",
       "</div>"
      ],
      "text/plain": [
       "        company_id                name category_code     status founded_at  \\\n",
       "0              1.0            Wetpaint           web  operating 2005-10-17   \n",
       "3             10.0             Flektor   games_video   acquired        NaT   \n",
       "4            100.0               There   games_video   acquired        NaT   \n",
       "15          1001.0          FriendFeed           web   acquired 2007-10-01   \n",
       "20         10014.0             Mobclix        mobile   acquired 2008-03-01   \n",
       "...            ...                 ...           ...        ...        ...   \n",
       "217458      1344.0              Vobile           web  operating 2005-01-01   \n",
       "217459    142181.0  Stop Being Watched      software  operating 2010-06-10   \n",
       "217463      3429.0   Zend Technologies      software  operating 1999-01-01   \n",
       "217467      7748.0            Flowgram           web     closed 2007-06-01   \n",
       "217469     43233.0            Photonet   photo_video   acquired 2010-03-01   \n",
       "\n",
       "        closed_at                domain network_username country_code  \\\n",
       "0             NaT      wetpaint-inc.com  BachelrWetpaint          USA   \n",
       "3             NaT           flektor.com              NaN          USA   \n",
       "4             NaT             there.com              NaN          USA   \n",
       "15            NaT        friendfeed.com       friendfeed          USA   \n",
       "20            NaT           mobclix.com          mobclix          USA   \n",
       "...           ...                   ...              ...          ...   \n",
       "217458        NaT         vobileinc.com    networkmobile          USA   \n",
       "217459        NaT  stopbeingwatched.com   SBWinfonetwork          USA   \n",
       "217463        NaT              zend.com      networkzend          USA   \n",
       "217467 2008-06-11          flowgram.com          network          USA   \n",
       "217469        NaT          Photonet.com         Photonet          USA   \n",
       "\n",
       "        investment_rounds  funding_rounds  funding_total  milestones  \\\n",
       "0                     0.0             3.0     39750000.0         5.0   \n",
       "3                     0.0             0.0            0.0         0.0   \n",
       "4                     0.0             0.0            0.0         4.0   \n",
       "15                    0.0             1.0      5000000.0         3.0   \n",
       "20                    0.0             1.0            0.0         4.0   \n",
       "...                   ...             ...            ...         ...   \n",
       "217458                0.0             1.0     10000000.0         0.0   \n",
       "217459                0.0             1.0       500000.0         1.0   \n",
       "217463                0.0             4.0     44000000.0         6.0   \n",
       "217467                0.0             1.0      1300000.0         3.0   \n",
       "217469                0.0             3.0     57500000.0         3.0   \n",
       "\n",
       "        raised_amount  \n",
       "0           5250000.0  \n",
       "3                 NaN  \n",
       "4                 NaN  \n",
       "15          5000000.0  \n",
       "20                0.0  \n",
       "...               ...  \n",
       "217458     10000000.0  \n",
       "217459       500000.0  \n",
       "217463     20000000.0  \n",
       "217467      1300000.0  \n",
       "217469       500000.0  \n",
       "\n",
       "[40747 rows x 14 columns]"
      ]
     },
     "execution_count": 952,
     "metadata": {},
     "output_type": "execute_result"
    }
   ],
   "source": [
    "companies_fil"
   ]
  },
  {
   "cell_type": "code",
   "execution_count": 953,
   "metadata": {},
   "outputs": [
    {
     "data": {
      "text/plain": [
       "Index(['company_id', 'name', 'category_code', 'status', 'founded_at',\n",
       "       'closed_at', 'domain', 'network_username', 'country_code',\n",
       "       'investment_rounds', 'funding_rounds', 'funding_total', 'milestones',\n",
       "       'raised_amount'],\n",
       "      dtype='object')"
      ]
     },
     "execution_count": 953,
     "metadata": {},
     "output_type": "execute_result"
    }
   ],
   "source": [
    "# Выведем все столбцы\n",
    "companies_fil.columns"
   ]
  },
  {
   "cell_type": "code",
   "execution_count": 954,
   "metadata": {},
   "outputs": [],
   "source": [
    "# Создадим копию \n",
    "companies_fil = companies_fil.copy()\n",
    "\n",
    "# Преобразуем столбец funding_total\n",
    "companies_fil['funding_total'] = pd.to_numeric(companies_fil['funding_total'], errors='coerce')"
   ]
  },
  {
   "cell_type": "code",
   "execution_count": 955,
   "metadata": {},
   "outputs": [
    {
     "data": {
      "text/html": [
       "<div>\n",
       "<style scoped>\n",
       "    .dataframe tbody tr th:only-of-type {\n",
       "        vertical-align: middle;\n",
       "    }\n",
       "\n",
       "    .dataframe tbody tr th {\n",
       "        vertical-align: top;\n",
       "    }\n",
       "\n",
       "    .dataframe thead th {\n",
       "        text-align: right;\n",
       "    }\n",
       "</style>\n",
       "<table border=\"1\" class=\"dataframe\">\n",
       "  <thead>\n",
       "    <tr style=\"text-align: right;\">\n",
       "      <th></th>\n",
       "      <th>company_id</th>\n",
       "      <th>name</th>\n",
       "      <th>category_code</th>\n",
       "      <th>status</th>\n",
       "      <th>founded_at</th>\n",
       "      <th>closed_at</th>\n",
       "      <th>domain</th>\n",
       "      <th>network_username</th>\n",
       "      <th>country_code</th>\n",
       "      <th>investment_rounds</th>\n",
       "      <th>funding_rounds</th>\n",
       "      <th>funding_total</th>\n",
       "      <th>milestones</th>\n",
       "      <th>raised_amount</th>\n",
       "    </tr>\n",
       "  </thead>\n",
       "  <tbody>\n",
       "    <tr>\n",
       "      <th>0</th>\n",
       "      <td>1.0</td>\n",
       "      <td>Wetpaint</td>\n",
       "      <td>web</td>\n",
       "      <td>operating</td>\n",
       "      <td>2005-10-17</td>\n",
       "      <td>NaT</td>\n",
       "      <td>wetpaint-inc.com</td>\n",
       "      <td>BachelrWetpaint</td>\n",
       "      <td>USA</td>\n",
       "      <td>0.0</td>\n",
       "      <td>3.0</td>\n",
       "      <td>39750000.0</td>\n",
       "      <td>5.0</td>\n",
       "      <td>5250000.0</td>\n",
       "    </tr>\n",
       "    <tr>\n",
       "      <th>3</th>\n",
       "      <td>10.0</td>\n",
       "      <td>Flektor</td>\n",
       "      <td>games_video</td>\n",
       "      <td>acquired</td>\n",
       "      <td>NaT</td>\n",
       "      <td>NaT</td>\n",
       "      <td>flektor.com</td>\n",
       "      <td>NaN</td>\n",
       "      <td>USA</td>\n",
       "      <td>0.0</td>\n",
       "      <td>0.0</td>\n",
       "      <td>0.0</td>\n",
       "      <td>0.0</td>\n",
       "      <td>NaN</td>\n",
       "    </tr>\n",
       "    <tr>\n",
       "      <th>4</th>\n",
       "      <td>100.0</td>\n",
       "      <td>There</td>\n",
       "      <td>games_video</td>\n",
       "      <td>acquired</td>\n",
       "      <td>NaT</td>\n",
       "      <td>NaT</td>\n",
       "      <td>there.com</td>\n",
       "      <td>NaN</td>\n",
       "      <td>USA</td>\n",
       "      <td>0.0</td>\n",
       "      <td>0.0</td>\n",
       "      <td>0.0</td>\n",
       "      <td>4.0</td>\n",
       "      <td>NaN</td>\n",
       "    </tr>\n",
       "    <tr>\n",
       "      <th>15</th>\n",
       "      <td>1001.0</td>\n",
       "      <td>FriendFeed</td>\n",
       "      <td>web</td>\n",
       "      <td>acquired</td>\n",
       "      <td>2007-10-01</td>\n",
       "      <td>NaT</td>\n",
       "      <td>friendfeed.com</td>\n",
       "      <td>friendfeed</td>\n",
       "      <td>USA</td>\n",
       "      <td>0.0</td>\n",
       "      <td>1.0</td>\n",
       "      <td>5000000.0</td>\n",
       "      <td>3.0</td>\n",
       "      <td>5000000.0</td>\n",
       "    </tr>\n",
       "    <tr>\n",
       "      <th>20</th>\n",
       "      <td>10014.0</td>\n",
       "      <td>Mobclix</td>\n",
       "      <td>mobile</td>\n",
       "      <td>acquired</td>\n",
       "      <td>2008-03-01</td>\n",
       "      <td>NaT</td>\n",
       "      <td>mobclix.com</td>\n",
       "      <td>mobclix</td>\n",
       "      <td>USA</td>\n",
       "      <td>0.0</td>\n",
       "      <td>1.0</td>\n",
       "      <td>0.0</td>\n",
       "      <td>4.0</td>\n",
       "      <td>0.0</td>\n",
       "    </tr>\n",
       "    <tr>\n",
       "      <th>...</th>\n",
       "      <td>...</td>\n",
       "      <td>...</td>\n",
       "      <td>...</td>\n",
       "      <td>...</td>\n",
       "      <td>...</td>\n",
       "      <td>...</td>\n",
       "      <td>...</td>\n",
       "      <td>...</td>\n",
       "      <td>...</td>\n",
       "      <td>...</td>\n",
       "      <td>...</td>\n",
       "      <td>...</td>\n",
       "      <td>...</td>\n",
       "      <td>...</td>\n",
       "    </tr>\n",
       "    <tr>\n",
       "      <th>217458</th>\n",
       "      <td>1344.0</td>\n",
       "      <td>Vobile</td>\n",
       "      <td>web</td>\n",
       "      <td>operating</td>\n",
       "      <td>2005-01-01</td>\n",
       "      <td>NaT</td>\n",
       "      <td>vobileinc.com</td>\n",
       "      <td>networkmobile</td>\n",
       "      <td>USA</td>\n",
       "      <td>0.0</td>\n",
       "      <td>1.0</td>\n",
       "      <td>10000000.0</td>\n",
       "      <td>0.0</td>\n",
       "      <td>10000000.0</td>\n",
       "    </tr>\n",
       "    <tr>\n",
       "      <th>217459</th>\n",
       "      <td>142181.0</td>\n",
       "      <td>Stop Being Watched</td>\n",
       "      <td>software</td>\n",
       "      <td>operating</td>\n",
       "      <td>2010-06-10</td>\n",
       "      <td>NaT</td>\n",
       "      <td>stopbeingwatched.com</td>\n",
       "      <td>SBWinfonetwork</td>\n",
       "      <td>USA</td>\n",
       "      <td>0.0</td>\n",
       "      <td>1.0</td>\n",
       "      <td>500000.0</td>\n",
       "      <td>1.0</td>\n",
       "      <td>500000.0</td>\n",
       "    </tr>\n",
       "    <tr>\n",
       "      <th>217463</th>\n",
       "      <td>3429.0</td>\n",
       "      <td>Zend Technologies</td>\n",
       "      <td>software</td>\n",
       "      <td>operating</td>\n",
       "      <td>1999-01-01</td>\n",
       "      <td>NaT</td>\n",
       "      <td>zend.com</td>\n",
       "      <td>networkzend</td>\n",
       "      <td>USA</td>\n",
       "      <td>0.0</td>\n",
       "      <td>4.0</td>\n",
       "      <td>44000000.0</td>\n",
       "      <td>6.0</td>\n",
       "      <td>20000000.0</td>\n",
       "    </tr>\n",
       "    <tr>\n",
       "      <th>217467</th>\n",
       "      <td>7748.0</td>\n",
       "      <td>Flowgram</td>\n",
       "      <td>web</td>\n",
       "      <td>closed</td>\n",
       "      <td>2007-06-01</td>\n",
       "      <td>2008-06-11</td>\n",
       "      <td>flowgram.com</td>\n",
       "      <td>network</td>\n",
       "      <td>USA</td>\n",
       "      <td>0.0</td>\n",
       "      <td>1.0</td>\n",
       "      <td>1300000.0</td>\n",
       "      <td>3.0</td>\n",
       "      <td>1300000.0</td>\n",
       "    </tr>\n",
       "    <tr>\n",
       "      <th>217469</th>\n",
       "      <td>43233.0</td>\n",
       "      <td>Photonet</td>\n",
       "      <td>photo_video</td>\n",
       "      <td>acquired</td>\n",
       "      <td>2010-03-01</td>\n",
       "      <td>NaT</td>\n",
       "      <td>Photonet.com</td>\n",
       "      <td>Photonet</td>\n",
       "      <td>USA</td>\n",
       "      <td>0.0</td>\n",
       "      <td>3.0</td>\n",
       "      <td>57500000.0</td>\n",
       "      <td>3.0</td>\n",
       "      <td>500000.0</td>\n",
       "    </tr>\n",
       "  </tbody>\n",
       "</table>\n",
       "<p>40747 rows × 14 columns</p>\n",
       "</div>"
      ],
      "text/plain": [
       "        company_id                name category_code     status founded_at  \\\n",
       "0              1.0            Wetpaint           web  operating 2005-10-17   \n",
       "3             10.0             Flektor   games_video   acquired        NaT   \n",
       "4            100.0               There   games_video   acquired        NaT   \n",
       "15          1001.0          FriendFeed           web   acquired 2007-10-01   \n",
       "20         10014.0             Mobclix        mobile   acquired 2008-03-01   \n",
       "...            ...                 ...           ...        ...        ...   \n",
       "217458      1344.0              Vobile           web  operating 2005-01-01   \n",
       "217459    142181.0  Stop Being Watched      software  operating 2010-06-10   \n",
       "217463      3429.0   Zend Technologies      software  operating 1999-01-01   \n",
       "217467      7748.0            Flowgram           web     closed 2007-06-01   \n",
       "217469     43233.0            Photonet   photo_video   acquired 2010-03-01   \n",
       "\n",
       "        closed_at                domain network_username country_code  \\\n",
       "0             NaT      wetpaint-inc.com  BachelrWetpaint          USA   \n",
       "3             NaT           flektor.com              NaN          USA   \n",
       "4             NaT             there.com              NaN          USA   \n",
       "15            NaT        friendfeed.com       friendfeed          USA   \n",
       "20            NaT           mobclix.com          mobclix          USA   \n",
       "...           ...                   ...              ...          ...   \n",
       "217458        NaT         vobileinc.com    networkmobile          USA   \n",
       "217459        NaT  stopbeingwatched.com   SBWinfonetwork          USA   \n",
       "217463        NaT              zend.com      networkzend          USA   \n",
       "217467 2008-06-11          flowgram.com          network          USA   \n",
       "217469        NaT          Photonet.com         Photonet          USA   \n",
       "\n",
       "        investment_rounds  funding_rounds  funding_total  milestones  \\\n",
       "0                     0.0             3.0     39750000.0         5.0   \n",
       "3                     0.0             0.0            0.0         0.0   \n",
       "4                     0.0             0.0            0.0         4.0   \n",
       "15                    0.0             1.0      5000000.0         3.0   \n",
       "20                    0.0             1.0            0.0         4.0   \n",
       "...                   ...             ...            ...         ...   \n",
       "217458                0.0             1.0     10000000.0         0.0   \n",
       "217459                0.0             1.0       500000.0         1.0   \n",
       "217463                0.0             4.0     44000000.0         6.0   \n",
       "217467                0.0             1.0      1300000.0         3.0   \n",
       "217469                0.0             3.0     57500000.0         3.0   \n",
       "\n",
       "        raised_amount  \n",
       "0           5250000.0  \n",
       "3                 NaN  \n",
       "4                 NaN  \n",
       "15          5000000.0  \n",
       "20                0.0  \n",
       "...               ...  \n",
       "217458     10000000.0  \n",
       "217459       500000.0  \n",
       "217463     20000000.0  \n",
       "217467      1300000.0  \n",
       "217469       500000.0  \n",
       "\n",
       "[40747 rows x 14 columns]"
      ]
     },
     "execution_count": 955,
     "metadata": {},
     "output_type": "execute_result"
    }
   ],
   "source": [
    "companies_fil"
   ]
  },
  {
   "cell_type": "markdown",
   "metadata": {},
   "source": [
    "**Вывод**\n",
    "\n",
    "Получен новый датасет `companies_fil`, в котором хранятся данные о приобретенных компаниях с ненулевыми числом инвестиционных раундов и раундов финансирования."
   ]
  },
  {
   "cell_type": "markdown",
   "metadata": {
    "id": "DFHINkV3rJg2"
   },
   "source": [
    "\n",
    "### 3.2. Анализ выбросов\n",
    "\n",
    "Заказчика интересует обычный для рассматриваемого периода размер средств, который предоставлялся компаниям.\n",
    "\n",
    "* По предобработанному столбцу `funding_total` оцените, какой размер общего финансирования для одной компании будет типичным, а какой — выбивающимся.\n",
    "\n",
    "* Аномальные значения установите графически, а типичные при помощи таблиц и формул.\n",
    "\n",
    "* В процессе расчёта значений обратите внимание, например, на показатели, возвращаемые методом `.describe()`, — объясните их. Применимы ли к таким данным обычные способы нахождения типичных значений?"
   ]
  },
  {
   "cell_type": "code",
   "execution_count": 956,
   "metadata": {},
   "outputs": [
    {
     "name": "stdout",
     "output_type": "stream",
     "text": [
      "count     40747.00\n",
      "mean        10.14M\n",
      "std         56.46M\n",
      "min           0.00\n",
      "25%           0.00\n",
      "50%      600000.00\n",
      "75%          5.65M\n",
      "max       5700.00M\n",
      "Name: funding_total, dtype: object\n"
     ]
    }
   ],
   "source": [
    "# Описание данных\n",
    "funding_stats = companies_fil['funding_total'].describe()\n",
    "\n",
    "# Переведем значения в миллионы и окргулим до 2 знаков после запятой\n",
    "funding_stats_formatted = funding_stats.apply(lambda x: f\"{x/1e6:.2f}M\" if x >= 1e6 else f\"{x:.2f}\")\n",
    "\n",
    "print(funding_stats_formatted)"
   ]
  },
  {
   "cell_type": "markdown",
   "metadata": {},
   "source": [
    "Построим визуализацию, учитывая выбросы"
   ]
  },
  {
   "cell_type": "code",
   "execution_count": 957,
   "metadata": {},
   "outputs": [
    {
     "data": {
      "image/png": "[encoded data removed]",
      "text/plain": [
       "<Figure size 720x432 with 1 Axes>"
      ]
     },
     "metadata": {
      "needs_background": "light"
     },
     "output_type": "display_data"
    }
   ],
   "source": [
    "# Преобразование funding_total в миллиарды\n",
    "companies_fil['funding_total_bln'] = companies_fil['funding_total'] / 1e9\n",
    "\n",
    "# Создание ящика с усами\n",
    "plt.figure(figsize=(10, 6))\n",
    "sns.boxplot(x=companies_fil['funding_total_bln'], \n",
    "            color='gray')\n",
    "\n",
    "# Подписи\n",
    "plt.xlabel(\"Funding Total (млрд)\")\n",
    "plt.title(\"Ящик с усами (с выбросами)\")\n",
    "plt.xticks(fontsize=10)\n",
    "plt.grid(axis='x')\n",
    "plt.xticks(\n",
    "    ticks=plt.xticks()[0],\n",
    "    labels=[f\"{tick:.1f} млрд\" for tick in plt.xticks()[0]])\n",
    "plt.xlim(0, companies_fil['funding_total_bln'].max() )\n",
    "\n",
    "plt.show()"
   ]
  },
  {
   "cell_type": "markdown",
   "metadata": {},
   "source": [
    "Большинство данных сосредоточено ниже 1 млрд.. Наблюдается большое количество выбросов выше верхней границы (1.43млрд)."
   ]
  },
  {
   "cell_type": "code",
   "execution_count": 958,
   "metadata": {},
   "outputs": [
    {
     "name": "stdout",
     "output_type": "stream",
     "text": [
      "Нижняя граница выбросов: -8475975.0\n",
      "Верхняя граница выбросов: 14126625.0\n"
     ]
    }
   ],
   "source": [
    "# границы выбросов\n",
    "Q1 = funding_stats['25%']\n",
    "Q3 = funding_stats['75%']\n",
    "IQR = Q3 - Q1\n",
    "lower_bound = Q1 - 1.5 * IQR\n",
    "upper_bound = Q3 + 1.5 * IQR\n",
    "print(f\"Нижняя граница выбросов: {lower_bound}\")\n",
    "print(f\"Верхняя граница выбросов: {upper_bound}\")"
   ]
  },
  {
   "cell_type": "markdown",
   "metadata": {},
   "source": [
    "Обрежем выбросы и создадим график без них"
   ]
  },
  {
   "cell_type": "code",
   "execution_count": 959,
   "metadata": {},
   "outputs": [
    {
     "data": {
      "text/plain": [
       "0         39.75\n",
       "3          0.00\n",
       "4          0.00\n",
       "15         5.00\n",
       "20         0.00\n",
       "          ...  \n",
       "217458    10.00\n",
       "217459     0.50\n",
       "217463    44.00\n",
       "217467     1.30\n",
       "217469    57.50\n",
       "Name: funding_total_mln, Length: 40402, dtype: float32"
      ]
     },
     "execution_count": 959,
     "metadata": {},
     "output_type": "execute_result"
    }
   ],
   "source": [
    "# Преобразование funding_total в миллионы\n",
    "companies_fil['funding_total_mln'] = companies_fil['funding_total'] / 1e6\n",
    "# Фильтрация данных для исключения верхних выбросов\n",
    "filtered_data = companies_fil[companies_fil['funding_total_mln'] < 150]['funding_total_mln'].dropna()\n",
    "\n",
    "filtered_data"
   ]
  },
  {
   "cell_type": "code",
   "execution_count": 960,
   "metadata": {},
   "outputs": [],
   "source": [
    "# Расчет границ\n",
    "std_dev = filtered_data.std()\n",
    "mean = filtered_data.mean()\n",
    "Q1, Q3 = filtered_data.quantile([0.25, 0.75])\n",
    "IQR = Q3 - Q1\n",
    "\n",
    "std_2_pos =  mean + 2 * std_dev\n",
    "iqr_upper = Q3 + 1.5 * IQR\n",
    "percentile_90 = filtered_data.quantile(0.90)\n",
    "percentile_95 = filtered_data.quantile(0.95)\n",
    "percentile_975 = filtered_data.quantile(0.975)\n",
    "percentile_99 = filtered_data.quantile(0.99)"
   ]
  },
  {
   "cell_type": "code",
   "execution_count": 961,
   "metadata": {},
   "outputs": [
    {
     "data": {
      "image/png": "[encoded data removed]",
      "text/plain": [
       "<Figure size 864x432 with 1 Axes>"
      ]
     },
     "metadata": {
      "needs_background": "light"
     },
     "output_type": "display_data"
    }
   ],
   "source": [
    "# Построим гистограмму\n",
    "plt.figure(figsize=(12, 6))\n",
    "sns.histplot(filtered_data, \n",
    "             bins=50, \n",
    "             kde=True, \n",
    "             color=\"lightblue\", \n",
    "             alpha=0.7, \n",
    "             label=\"Funding Total\")\n",
    "\n",
    "# Линии границ\n",
    "plt.axvline(x=std_2_pos, color='red', linestyle='--', \n",
    "            label=f'{std_2_pos:.2f} млн Верхняя граница (стандартное отклонение)')\n",
    "plt.axvline(x=iqr_upper, color='green', linestyle='--', \n",
    "            label=f'{iqr_upper:.2f} млн Верхняя граница (IQR)')\n",
    "plt.axvline(x=percentile_90, color='blue', \n",
    "            linestyle='--', label=f'{percentile_90:.2f} млн Верхняя граница (90%)')\n",
    "plt.axvline(x=percentile_95, color='blue', \n",
    "            linestyle='--', label=f'{percentile_95:.2f} млн Верхняя граница (95%)')\n",
    "plt.axvline(x=percentile_975, color='blue', \n",
    "            linestyle='--', label=f'{percentile_975:.2f} млн Верхняя граница (97.5%)')\n",
    "plt.axvline(x=percentile_99, color='blue', \n",
    "            linestyle='--', label=f'{percentile_99:.2f} млн Верхняя граница (99%)')\n",
    "\n",
    "# Среднее значение\n",
    "plt.axvline(mean, color='orange', linestyle='-', label=f'Mean: {mean:.2f} млн')\n",
    "\n",
    "plt.title('Сравнение границ выбросов')\n",
    "plt.xlabel('Funding Total (млн)')\n",
    "plt.ylabel('Частота')\n",
    "plt.legend(loc='upper right')\n",
    "plt.grid(True)\n",
    "plt.xticks(\n",
    "    ticks=plt.xticks()[0],\n",
    "    labels=[f'{tick:.1f} млн' for tick in plt.xticks()[0]]\n",
    ")\n",
    "plt.xlim(0, filtered_data.max())  \n",
    "\n",
    "plt.show()"
   ]
  },
  {
   "cell_type": "markdown",
   "metadata": {},
   "source": [
    "Распределение данных скощено вправо, имеется длинный хвост выбросов. Типичные значения лежат в диапазоне от 0 до 10 млн.."
   ]
  },
  {
   "cell_type": "markdown",
   "metadata": {},
   "source": [
    "#### Типичные значения:\n",
    "\n",
    "Большинство компаний получают финансирование около медианы (600тыс.) и 75-го перцентиля (5.65млн).\n",
    "\n",
    "#### Выбивающиеся значения:\n",
    "\n",
    "Все значения выше 14.13млн можно считать аномальными, верхние перцентили (97.5% и 99%) подтверждают эту границу."
   ]
  },
  {
   "cell_type": "markdown",
   "metadata": {},
   "source": [
    "Метод `.describe()` плохо подходит к анализу, т.к. данные сильно скошены: гистограмма имеет длинный правый хвост, что указывает на то, что большие значения значительно превышают среднее, также вычисление стандартного отклонения, предполагают симметричное распределение данных. В данном случае стандартное отклонение (56.46млн) слишком велико и вредит анализу, т.к. связано с сильным влиянием выбросов."
   ]
  },
  {
   "cell_type": "markdown",
   "metadata": {
    "id": "JqkRAQrIrJg2"
   },
   "source": [
    "\n",
    "### 3.3. Куплены забесплатно?\n",
    "\n",
    "* Исследуйте компании, которые были проданы за ноль или за один доллар, и при этом известно, что у них был ненулевой общий объём финансирования.\n",
    "\n",
    "Кроме этого, заказчик скоро получит доступ к базе данных {gray}(\\{\\{SQLite\\}\\}\\[da_new_sprint8_modul2_project_SQLite\\]), которая содержит данные по ценам покупки стартапов и размерам предварительного финансирования.\n",
    "\n",
    "Известно, что данные в базе похожи на имеющиеся, однако в ней отсутствуют как оконные функции, так и встроенные функции для расчёта квартилей и процентилей. Эту работу придётся делать вручную. Для облегчения расчётов заказчик хочет определить, каким процентилям соответствуют выбросы.\n",
    "\n",
    "* Рассчитайте аналитически верхнюю и нижнюю границу выбросов для столбца `funding_total` и укажите, каким процентилям границы соответствуют. Учитывая озвученные выше предпосылки и собственные соображения, сделайте выводы о корректности планируемой заказчиком замены нижней и верхней границы выбросов на значения, рассчитанные по процентилям."
   ]
  },
  {
   "cell_type": "code",
   "execution_count": 962,
   "metadata": {
    "id": "wJHXCBwwrJg2",
    "vscode": {
     "languageId": "plaintext"
    }
   },
   "outputs": [
    {
     "data": {
      "text/html": [
       "<div>\n",
       "<style scoped>\n",
       "    .dataframe tbody tr th:only-of-type {\n",
       "        vertical-align: middle;\n",
       "    }\n",
       "\n",
       "    .dataframe tbody tr th {\n",
       "        vertical-align: top;\n",
       "    }\n",
       "\n",
       "    .dataframe thead th {\n",
       "        text-align: right;\n",
       "    }\n",
       "</style>\n",
       "<table border=\"1\" class=\"dataframe\">\n",
       "  <thead>\n",
       "    <tr style=\"text-align: right;\">\n",
       "      <th></th>\n",
       "      <th>company_id</th>\n",
       "      <th>name</th>\n",
       "      <th>category_code</th>\n",
       "      <th>status</th>\n",
       "      <th>founded_at</th>\n",
       "      <th>closed_at</th>\n",
       "      <th>domain</th>\n",
       "      <th>network_username</th>\n",
       "      <th>country_code</th>\n",
       "      <th>investment_rounds</th>\n",
       "      <th>funding_rounds</th>\n",
       "      <th>funding_total</th>\n",
       "      <th>milestones</th>\n",
       "      <th>raised_amount</th>\n",
       "      <th>funding_total_bln</th>\n",
       "      <th>funding_total_mln</th>\n",
       "    </tr>\n",
       "  </thead>\n",
       "  <tbody>\n",
       "    <tr>\n",
       "      <th>5491</th>\n",
       "      <td>13207.0</td>\n",
       "      <td>JamLegend</td>\n",
       "      <td>games_video</td>\n",
       "      <td>acquired</td>\n",
       "      <td>NaT</td>\n",
       "      <td>NaT</td>\n",
       "      <td>jamlegend.com</td>\n",
       "      <td>jamlegend</td>\n",
       "      <td>Unknown</td>\n",
       "      <td>0.0</td>\n",
       "      <td>2.0</td>\n",
       "      <td>2000000.0</td>\n",
       "      <td>0.0</td>\n",
       "      <td>0.0</td>\n",
       "      <td>0.002000</td>\n",
       "      <td>2.000</td>\n",
       "    </tr>\n",
       "    <tr>\n",
       "      <th>6891</th>\n",
       "      <td>138030.0</td>\n",
       "      <td>NSFW Corporation</td>\n",
       "      <td>news</td>\n",
       "      <td>acquired</td>\n",
       "      <td>2011-01-01</td>\n",
       "      <td>NaT</td>\n",
       "      <td>nsfwcorp.com</td>\n",
       "      <td>nsfwcorp</td>\n",
       "      <td>USA</td>\n",
       "      <td>0.0</td>\n",
       "      <td>2.0</td>\n",
       "      <td>250000.0</td>\n",
       "      <td>2.0</td>\n",
       "      <td>0.0</td>\n",
       "      <td>0.000250</td>\n",
       "      <td>0.250</td>\n",
       "    </tr>\n",
       "    <tr>\n",
       "      <th>7381</th>\n",
       "      <td>139237.0</td>\n",
       "      <td>TrustGo</td>\n",
       "      <td>security</td>\n",
       "      <td>acquired</td>\n",
       "      <td>2011-06-08</td>\n",
       "      <td>NaT</td>\n",
       "      <td>trustgo.com</td>\n",
       "      <td>TrustGoMobile</td>\n",
       "      <td>USA</td>\n",
       "      <td>0.0</td>\n",
       "      <td>2.0</td>\n",
       "      <td>1500000.0</td>\n",
       "      <td>1.0</td>\n",
       "      <td>0.0</td>\n",
       "      <td>0.001500</td>\n",
       "      <td>1.500</td>\n",
       "    </tr>\n",
       "    <tr>\n",
       "      <th>16361</th>\n",
       "      <td>150658.0</td>\n",
       "      <td>Karma</td>\n",
       "      <td>mobile</td>\n",
       "      <td>acquired</td>\n",
       "      <td>2011-01-01</td>\n",
       "      <td>NaT</td>\n",
       "      <td>getkarma.com</td>\n",
       "      <td>getkarma</td>\n",
       "      <td>USA</td>\n",
       "      <td>0.0</td>\n",
       "      <td>2.0</td>\n",
       "      <td>2305000.0</td>\n",
       "      <td>2.0</td>\n",
       "      <td>0.0</td>\n",
       "      <td>0.002305</td>\n",
       "      <td>2.305</td>\n",
       "    </tr>\n",
       "    <tr>\n",
       "      <th>23909</th>\n",
       "      <td>1591.0</td>\n",
       "      <td>Scout Labs</td>\n",
       "      <td>enterprise</td>\n",
       "      <td>acquired</td>\n",
       "      <td>NaT</td>\n",
       "      <td>NaT</td>\n",
       "      <td>scoutlabs.com</td>\n",
       "      <td>NaN</td>\n",
       "      <td>USA</td>\n",
       "      <td>0.0</td>\n",
       "      <td>3.0</td>\n",
       "      <td>4000000.0</td>\n",
       "      <td>5.0</td>\n",
       "      <td>0.0</td>\n",
       "      <td>0.004000</td>\n",
       "      <td>4.000</td>\n",
       "    </tr>\n",
       "    <tr>\n",
       "      <th>...</th>\n",
       "      <td>...</td>\n",
       "      <td>...</td>\n",
       "      <td>...</td>\n",
       "      <td>...</td>\n",
       "      <td>...</td>\n",
       "      <td>...</td>\n",
       "      <td>...</td>\n",
       "      <td>...</td>\n",
       "      <td>...</td>\n",
       "      <td>...</td>\n",
       "      <td>...</td>\n",
       "      <td>...</td>\n",
       "      <td>...</td>\n",
       "      <td>...</td>\n",
       "      <td>...</td>\n",
       "      <td>...</td>\n",
       "    </tr>\n",
       "    <tr>\n",
       "      <th>212631</th>\n",
       "      <td>83535.0</td>\n",
       "      <td>ImpulseSave</td>\n",
       "      <td>mobile</td>\n",
       "      <td>acquired</td>\n",
       "      <td>2010-01-01</td>\n",
       "      <td>NaT</td>\n",
       "      <td>impulsesave.com</td>\n",
       "      <td>impulsesave</td>\n",
       "      <td>USA</td>\n",
       "      <td>0.0</td>\n",
       "      <td>3.0</td>\n",
       "      <td>50000.0</td>\n",
       "      <td>3.0</td>\n",
       "      <td>0.0</td>\n",
       "      <td>0.000050</td>\n",
       "      <td>0.050</td>\n",
       "    </tr>\n",
       "    <tr>\n",
       "      <th>215339</th>\n",
       "      <td>867.0</td>\n",
       "      <td>GamerDNA</td>\n",
       "      <td>web</td>\n",
       "      <td>acquired</td>\n",
       "      <td>2006-10-01</td>\n",
       "      <td>NaT</td>\n",
       "      <td>gamerdna.com</td>\n",
       "      <td>GamerDNA</td>\n",
       "      <td>USA</td>\n",
       "      <td>0.0</td>\n",
       "      <td>2.0</td>\n",
       "      <td>3000000.0</td>\n",
       "      <td>3.0</td>\n",
       "      <td>0.0</td>\n",
       "      <td>0.003000</td>\n",
       "      <td>3.000</td>\n",
       "    </tr>\n",
       "    <tr>\n",
       "      <th>216787</th>\n",
       "      <td>9665.0</td>\n",
       "      <td>Atrua Technologies</td>\n",
       "      <td>mobile</td>\n",
       "      <td>acquired</td>\n",
       "      <td>2000-01-01</td>\n",
       "      <td>NaT</td>\n",
       "      <td>atrua.com</td>\n",
       "      <td>NaN</td>\n",
       "      <td>USA</td>\n",
       "      <td>0.0</td>\n",
       "      <td>3.0</td>\n",
       "      <td>13000000.0</td>\n",
       "      <td>1.0</td>\n",
       "      <td>0.0</td>\n",
       "      <td>0.013000</td>\n",
       "      <td>13.000</td>\n",
       "    </tr>\n",
       "    <tr>\n",
       "      <th>216973</th>\n",
       "      <td>9782.0</td>\n",
       "      <td>ReTel Technologies</td>\n",
       "      <td>analytics</td>\n",
       "      <td>acquired</td>\n",
       "      <td>2007-10-01</td>\n",
       "      <td>NaT</td>\n",
       "      <td>reteltechnologies.com</td>\n",
       "      <td>reteltech</td>\n",
       "      <td>USA</td>\n",
       "      <td>0.0</td>\n",
       "      <td>2.0</td>\n",
       "      <td>1000000.0</td>\n",
       "      <td>3.0</td>\n",
       "      <td>0.0</td>\n",
       "      <td>0.001000</td>\n",
       "      <td>1.000</td>\n",
       "    </tr>\n",
       "    <tr>\n",
       "      <th>217141</th>\n",
       "      <td>99.0</td>\n",
       "      <td>Amie Street</td>\n",
       "      <td>web</td>\n",
       "      <td>acquired</td>\n",
       "      <td>2011-07-04</td>\n",
       "      <td>NaT</td>\n",
       "      <td>amiestreet.com</td>\n",
       "      <td>amiestreet_logs</td>\n",
       "      <td>USA</td>\n",
       "      <td>0.0</td>\n",
       "      <td>2.0</td>\n",
       "      <td>3900000.0</td>\n",
       "      <td>0.0</td>\n",
       "      <td>0.0</td>\n",
       "      <td>0.003900</td>\n",
       "      <td>3.900</td>\n",
       "    </tr>\n",
       "  </tbody>\n",
       "</table>\n",
       "<p>64 rows × 16 columns</p>\n",
       "</div>"
      ],
      "text/plain": [
       "        company_id                name category_code    status founded_at  \\\n",
       "5491       13207.0           JamLegend   games_video  acquired        NaT   \n",
       "6891      138030.0    NSFW Corporation          news  acquired 2011-01-01   \n",
       "7381      139237.0             TrustGo      security  acquired 2011-06-08   \n",
       "16361     150658.0               Karma        mobile  acquired 2011-01-01   \n",
       "23909       1591.0          Scout Labs    enterprise  acquired        NaT   \n",
       "...            ...                 ...           ...       ...        ...   \n",
       "212631     83535.0         ImpulseSave        mobile  acquired 2010-01-01   \n",
       "215339       867.0            GamerDNA           web  acquired 2006-10-01   \n",
       "216787      9665.0  Atrua Technologies        mobile  acquired 2000-01-01   \n",
       "216973      9782.0  ReTel Technologies     analytics  acquired 2007-10-01   \n",
       "217141        99.0         Amie Street           web  acquired 2011-07-04   \n",
       "\n",
       "       closed_at                 domain network_username country_code  \\\n",
       "5491         NaT          jamlegend.com        jamlegend      Unknown   \n",
       "6891         NaT           nsfwcorp.com         nsfwcorp          USA   \n",
       "7381         NaT            trustgo.com    TrustGoMobile          USA   \n",
       "16361        NaT           getkarma.com         getkarma          USA   \n",
       "23909        NaT          scoutlabs.com              NaN          USA   \n",
       "...          ...                    ...              ...          ...   \n",
       "212631       NaT        impulsesave.com      impulsesave          USA   \n",
       "215339       NaT           gamerdna.com         GamerDNA          USA   \n",
       "216787       NaT              atrua.com              NaN          USA   \n",
       "216973       NaT  reteltechnologies.com        reteltech          USA   \n",
       "217141       NaT         amiestreet.com  amiestreet_logs          USA   \n",
       "\n",
       "        investment_rounds  funding_rounds  funding_total  milestones  \\\n",
       "5491                  0.0             2.0      2000000.0         0.0   \n",
       "6891                  0.0             2.0       250000.0         2.0   \n",
       "7381                  0.0             2.0      1500000.0         1.0   \n",
       "16361                 0.0             2.0      2305000.0         2.0   \n",
       "23909                 0.0             3.0      4000000.0         5.0   \n",
       "...                   ...             ...            ...         ...   \n",
       "212631                0.0             3.0        50000.0         3.0   \n",
       "215339                0.0             2.0      3000000.0         3.0   \n",
       "216787                0.0             3.0     13000000.0         1.0   \n",
       "216973                0.0             2.0      1000000.0         3.0   \n",
       "217141                0.0             2.0      3900000.0         0.0   \n",
       "\n",
       "        raised_amount  funding_total_bln  funding_total_mln  \n",
       "5491              0.0           0.002000              2.000  \n",
       "6891              0.0           0.000250              0.250  \n",
       "7381              0.0           0.001500              1.500  \n",
       "16361             0.0           0.002305              2.305  \n",
       "23909             0.0           0.004000              4.000  \n",
       "...               ...                ...                ...  \n",
       "212631            0.0           0.000050              0.050  \n",
       "215339            0.0           0.003000              3.000  \n",
       "216787            0.0           0.013000             13.000  \n",
       "216973            0.0           0.001000              1.000  \n",
       "217141            0.0           0.003900              3.900  \n",
       "\n",
       "[64 rows x 16 columns]"
      ]
     },
     "execution_count": 962,
     "metadata": {},
     "output_type": "execute_result"
    }
   ],
   "source": [
    "# Фильтр компаний\n",
    "sold_companies = companies_fil[\n",
    "    (companies_fil['status'] == 'acquired') &    \n",
    "    (companies_fil['funding_total'] > 0) &       \n",
    "    (companies_fil['raised_amount'].isin([0, 1]))  \n",
    "]\n",
    "\n",
    "sold_companies"
   ]
  },
  {
   "cell_type": "code",
   "execution_count": 963,
   "metadata": {},
   "outputs": [
    {
     "name": "stdout",
     "output_type": "stream",
     "text": [
      "Нижняя граница выбросов: -20428062.5\n",
      "Верхняя граница выбросов: 37976837.5\n",
      "Нижняя граница соответствует 0.00 процентилям\n",
      "Верхняя граница соответствует 96.88 процентилям\n"
     ]
    }
   ],
   "source": [
    "# Убираем пропущенные значения в столбце funding_total\n",
    "funding_total_clean = sold_companies['funding_total'].dropna()\n",
    "\n",
    "# 1 и 3 квартили с помощью pandas\n",
    "q1 = funding_total_clean.quantile(0.25)\n",
    "q3 = funding_total_clean.quantile(0.75)\n",
    "\n",
    "iqr = q3 - q1\n",
    "\n",
    "# Верхняя и нижняя границы выбросов\n",
    "lower_bound = q1 - 1.5 * iqr\n",
    "upper_bound = q3 + 1.5 * iqr\n",
    "\n",
    "# Вывод границ\n",
    "print(f'Нижняя граница выбросов: {lower_bound}')\n",
    "print(f'Верхняя граница выбросов: {upper_bound}')\n",
    "\n",
    "# Определение процентилей границ\n",
    "lower_percentile = (funding_total_clean <= lower_bound).mean() * 100\n",
    "upper_percentile = 100 - (funding_total_clean >= upper_bound).mean() * 100  \n",
    "\n",
    "print(f'Нижняя граница соответствует {lower_percentile:.2f} процентилям')\n",
    "print(f'Верхняя граница соответствует {upper_percentile:.2f} процентилям')"
   ]
  },
  {
   "cell_type": "markdown",
   "metadata": {},
   "source": [
    "**Вывод**\n",
    "\n",
    "Нижняя граница указывает на то, что в данных отсутствуют реальные выбросы в нижней части, так как финансирование не может быть отрицательным. Верхняя граница позволяет выявить компании с аномально высоким финансированием. Процентиль для нижней границы находится за пределами распределения, что означает, что ни одна компания не попадает под эту границу. Верхняя граница выбросов охватывает верхние 96.88% значений финансирования.\n",
    "\n",
    "Нижнюю границу выбросов можно игнорировать, так как финансирование не может быть отрицательным. Замена нижней границы не имеет смысла, так как выбросы отсутствуют в нижней части. Замена верхней границы выбросов на значение, рассчитанное по процентилям, может быть использовано, например, замена на 85-й или 90-й процентиль хорошо отразит характер данных. "
   ]
  },
  {
   "cell_type": "markdown",
   "metadata": {
    "id": "mEiWpROjrJg2"
   },
   "source": [
    "\n",
    "### 3.4. Цены стартапов по категориям\n",
    "\n",
    "Категории стартапов с наибольшими ценами и значительным разбросом цен могут быть наиболее привлекательными для крупных инвесторов, которые готовы к высоким рискам ради потенциально больших доходов. Среди категорий стартапов выделите категории стартапов, характеризующиеся:\n",
    "\n",
    "* наибольшими ценами;\n",
    "* и наибольшим разбросом цен за стартап.\n",
    "\n",
    "Объясните, почему решили составить топ именно из такого числа категорий и почему рассчитывали именно так."
   ]
  },
  {
   "cell_type": "code",
   "execution_count": 964,
   "metadata": {
    "id": "jQ09dYUWrJg2",
    "vscode": {
     "languageId": "plaintext"
    }
   },
   "outputs": [
    {
     "name": "stdout",
     "output_type": "stream",
     "text": [
      "Топ 5 категорий стартапов с наибольшими ценами (медианой):\n",
      "    category_code  median_funding   std_funding\n",
      "35  semiconductor       8100000.0  3.992461e+07\n",
      "4       cleantech       6000000.0  9.215550e+07\n",
      "20        medical       5400000.0  3.354983e+07\n",
      "24       nanotech       5115960.0  9.596109e+07\n",
      "3         biotech       4000000.0  5.465791e+07\n",
      "\n",
      "Топ 5 категорий стартапов с наибольшим разбросом цен (стандартное отклонение):\n",
      "   category_code  median_funding   std_funding\n",
      "2     automotive       1300000.0  1.832047e+08\n",
      "22        mobile        800000.0  1.459792e+08\n",
      "36        social        355000.0  1.114758e+08\n",
      "15        health       1000000.0  1.050341e+08\n",
      "24      nanotech       5115960.0  9.596109e+07\n"
     ]
    }
   ],
   "source": [
    "# Удалим пропущенные значения в столбце funding_total\n",
    "companies_fil_clean = companies_fil.dropna(subset=['funding_total'])\n",
    "\n",
    "# Медиану и стандартное отклонение для каждой категории \n",
    "category_stats = companies_fil_clean.groupby('category_code')['funding_total'].agg(\n",
    "    median_funding='median',\n",
    "    std_funding='std'\n",
    ").reset_index()\n",
    "\n",
    "# Сортировка по медиане \n",
    "top_median_funding = category_stats.sort_values(by='median_funding', ascending=False)\n",
    "\n",
    "# Сортировка по стандартному отклонению \n",
    "top_std_funding = category_stats.sort_values(by='std_funding', ascending=False)\n",
    "\n",
    "# Топ категорий по медиане и стандартному отклонению\n",
    "top_median_funding_top_n = top_median_funding.head(5)  \n",
    "top_std_funding_top_n = top_std_funding.head(5)  \n",
    "\n",
    "print('Топ 5 категорий стартапов с наибольшими ценами (медианой):')\n",
    "print(top_median_funding_top_n)\n",
    "\n",
    "print('\\nТоп 5 категорий стартапов с наибольшим разбросом цен (стандартное отклонение):')\n",
    "print(top_std_funding_top_n)"
   ]
  },
  {
   "cell_type": "markdown",
   "metadata": {},
   "source": [
    "**Вывод**\n",
    "\n",
    "В топ 5 категорий стартапов с наибольшими ценами входят компании, которые стабильно получают более высокое финансирование. Высокая медиана свидетельствует о том, что часть компаний в этих секторах получает финансирование выше, чем в других категориях. В данном случае смотрим именно на медиану, поскольку она устойчива к выбросам и дает более точную оценку типичного финансирования.\n",
    "\n",
    "В топ 5 категорий стартапов с наибольшим разбросом цен входят компании, у которых большое стандартное отклонение - оно указывает на значительную вариативность финансирования. В этих секторах существуют как высокофинансируемые компании, так и компании с небольшими вложениями. Здесь актуальнее учитывать стандартное отклонение, так как анализ разброса дает понимание о тос, насколько финансирование в данной категории отличается от среднего значения. "
   ]
  },
  {
   "cell_type": "code",
   "execution_count": 965,
   "metadata": {},
   "outputs": [
    {
     "data": {
      "image/png": "[encoded data removed]",
      "text/plain": [
       "<Figure size 1008x432 with 2 Axes>"
      ]
     },
     "metadata": {
      "needs_background": "light"
     },
     "output_type": "display_data"
    }
   ],
   "source": [
    "# Топ 5 категорий с наибольшими ценами (медианой)\n",
    "top_median_funding_top_n = top_median_funding.head(5)\n",
    "\n",
    "# Топ 5 категорий с наибольшим разбросом цен (стандартное отклонение)\n",
    "top_std_funding_top_n = top_std_funding.head(5)\n",
    "\n",
    "# Визуализация\n",
    "fig, axes = plt.subplots(1, 2, figsize=(14, 6))\n",
    "\n",
    "# Медиана финансирования \n",
    "sns.barplot(data=top_median_funding_top_n, \n",
    "            x='category_code', \n",
    "            y='median_funding', \n",
    "            ax=axes[0], \n",
    "            color=\"lightblue\")\n",
    "axes[0].set_title('Топ 5 категорий с наибольшими ценами (медианой)')\n",
    "axes[0].set_xlabel('Категория стартапа')\n",
    "axes[0].set_ylabel('Медиана финансирования')\n",
    "\n",
    "# Стандартное отклонение \n",
    "sns.barplot(data=top_std_funding_top_n, \n",
    "            x='category_code', \n",
    "            y='std_funding', \n",
    "            ax=axes[1], \n",
    "            color=\"lightblue\")\n",
    "axes[1].set_title('Топ 5 категорий с наибольшим разбросом цен (стандартное отклонение)')\n",
    "axes[1].set_xlabel('Категория стартапа')\n",
    "axes[1].set_ylabel('Стандартное отклонение финансирования')\n",
    "\n",
    "plt.show()"
   ]
  },
  {
   "cell_type": "markdown",
   "metadata": {},
   "source": [
    "**Вывод**\n",
    "\n",
    "Такие категории, как semiconductor, cleantech, и medical, привлекают больше финансирования. Это, вероятно, связано с тем, что данные технологии требуют больших инвестиций на этапе исследований и разработок. Эти категории могут быть привлекательны для инвесторов, которые ищут стабильные, высокобюджетные проекты.\n",
    "\n",
    "Категории аutomotive, mobile, и social демонстрируют значительную вариативность. Это может быть вызвано наличием как крупных, так и мелких проектов в этих категориях. Высокий разброс указывает на высокий риск, но и потенциал для крупных доходов."
   ]
  },
  {
   "cell_type": "markdown",
   "metadata": {
    "id": "ADOfyVY_rJg3"
   },
   "source": [
    "\n",
    "### 3.5. Сколько раундов продержится стартап перед покупкой\n",
    "\n",
    "* Необходимо проанализировать столбец `funding_rounds`. Исследуйте значения столбца. Заказчика интересует типичное значение количества раундов для каждого возможного статуса стартапа.\n",
    "\n",
    "* Постройте график, который отображает, сколько в среднем раундов финансирования проходило для стартапов из каждой группы. Сделайте выводы."
   ]
  },
  {
   "cell_type": "code",
   "execution_count": 966,
   "metadata": {},
   "outputs": [],
   "source": [
    "# Фильтрация компаний с хотя бы одним раундом финансирования\n",
    "companies_with_rounds = companies_fil_clean[companies_fil_clean['funding_rounds'] > 0]"
   ]
  },
  {
   "cell_type": "code",
   "execution_count": 967,
   "metadata": {
    "id": "hgXMPC4WrJg3",
    "vscode": {
     "languageId": "plaintext"
    }
   },
   "outputs": [
    {
     "name": "stdout",
     "output_type": "stream",
     "text": [
      "Среднее количество раундов по статусам:\n",
      "      status  funding_rounds\n",
      "0   acquired        1.896645\n",
      "1     closed        1.383437\n",
      "2        ipo        2.526531\n",
      "3  operating        1.642359\n"
     ]
    }
   ],
   "source": [
    "# Группировка по статусу, среднее количество раундов\n",
    "status_funding_rounds = companies_with_rounds.groupby('status')['funding_rounds'].mean().reset_index()\n",
    "\n",
    "print('Среднее количество раундов по статусам:')\n",
    "print(status_funding_rounds)"
   ]
  },
  {
   "cell_type": "code",
   "execution_count": 968,
   "metadata": {},
   "outputs": [
    {
     "data": {
      "image/png": "[encoded data removed]",
      "text/plain": [
       "<Figure size 720x432 with 1 Axes>"
      ]
     },
     "metadata": {
      "needs_background": "light"
     },
     "output_type": "display_data"
    }
   ],
   "source": [
    "# Сортировка по среднему количеству раундов\n",
    "status_funding_rounds_sorted = status_funding_rounds.sort_values(by='funding_rounds', ascending=False)\n",
    "\n",
    "# Визуализация\n",
    "plt.figure(figsize=(10, 6))\n",
    "sns.barplot(data=status_funding_rounds_sorted, \n",
    "            x='status', \n",
    "            y='funding_rounds', \n",
    "            color='lightblue')\n",
    "\n",
    "\n",
    "plt.title('Среднее количество раундов финансирования по статусам стартапов')\n",
    "plt.xlabel('Статус стартапа')\n",
    "plt.ylabel('Среднее количество раундов финансирования') \n",
    "\n",
    "plt.show()"
   ]
  },
  {
   "cell_type": "markdown",
   "metadata": {},
   "source": [
    "**Вывод**\n",
    "\n",
    "Стартапы, вышедшие на IPO, имеют наибольшее среднее количество раундов финансирования (2.53). Это указывает на то, что компании, успешно доходящие до IPO, обычно проходят больше раундов для привлечения достаточного объема капитала. Закрытые стартапы имеют наименьшее среднее количество раундов финансирования (1.38). Это может свидетельствовать о том, что такие компании не успели привлечь достаточное количество капитала или прекратили свою деятельность на более ранних стадиях развития."
   ]
  },
  {
   "cell_type": "markdown",
   "metadata": {
    "id": "VAFEZ2HBrJg3"
   },
   "source": [
    "<a class=\"anchor\" id=\"4-bullet\"></a>\n",
    "\n",
    "## Шаг 4. Итоговый вывод и рекомендации\n",
    "\n",
    "Опишите, что было сделано в проекте, какие были сделаны выводы, подкрепляют ли они друг друга или заставляют сомневаться в полученных результатах."
   ]
  },
  {
   "cell_type": "markdown",
   "metadata": {},
   "source": [
    "### Выводы\n",
    "\n",
    "- Данные очищены и предобработаны, выделены ключевые метрики для анализа, но значительная доля пропусков в отдельных таблицах требует фокусировки на более качественных датасетах.\n",
    "\n",
    "- Проведена детальная структуризация данных, включая проверку достоверности. Уточнены ключевые признаки, связанные с успехом стартапов.\n",
    "\n",
    "- Выявлено, что в 2013 году наблюдалась тенденция к росту числа раундов, что указывает на расширение возможностей для стартапов получить инвестиции.\n",
    "\n",
    "- Данные об образовании подтверждают связь между квалификацией основателей и успехом компаний.\n",
    "\n",
    "- Проведён продвинутый анализ цен, выбросов и категорий стартапов. Установлены зависимости стоимости от категории и финансирования, что важно для оценки перспективности сделок.\n",
    "\n",
    "- Определили, что финансирование напрямую влияет на оценку компании, но разброс увеличивается с ростом объёма привлечённых средств.\n",
    "\n",
    "- Компании с наибольшим числом раундов финансирования и квалифицированными основателями показывают более высокую вероятность успеха. \n",
    "\n",
    "### Рекомендации\n",
    "\n",
    "- Покупать стартапы с перспективной технологией, но недостаточным финансированием, чтобы использовать их скрытый потенциал.\n",
    "\n",
    "- Учитывать разброс стоимости внутри категорий, чтобы минимизировать риски при оценке.\n",
    "\n",
    "- Сосредоточить внимание на стартапах в категориях с высокой медианной стоимостью (semiconductor, biotech и др.) для максимизации прибыли.\n",
    "\n",
    "- Рассматривать сделки за 0$ и 1$ как возможность приобретения активов с минимальными затратами, если у стартапа есть ценные патенты, технологии или опытная команда.\n",
    "\n",
    "- Оценивать стартапы с учётом стадии их развития, числа раундов финансирования и квалификации основателей.\n",
    "\n",
    "- Сосредотачиваться на стартапах с сильной командой и понятной бизнес-моделью.\n",
    "\n",
    "- Обновлять информацию о рыночных трендах и изменениях в категориях стартапов.\n",
    "\n",
    "- Продавать стартапы крупным игрокам или фондам, заинтересованным в быстром доступе к новым технологиям."
   ]
  }
 ],
 "metadata": {
  "ExecuteTimeLog": [
   {
    "duration": 52,
    "start_time": "2024-12-16T09:52:26.928Z"
   },
   {
    "duration": 47,
    "start_time": "2024-12-16T09:52:33.568Z"
   },
   {
    "duration": 63,
    "start_time": "2024-12-16T09:52:55.811Z"
   },
   {
    "duration": 1351,
    "start_time": "2024-12-16T15:59:41.530Z"
   },
   {
    "duration": 2151,
    "start_time": "2024-12-16T16:01:25.218Z"
   },
   {
    "duration": 17,
    "start_time": "2024-12-16T16:01:45.072Z"
   },
   {
    "duration": 133,
    "start_time": "2024-12-16T16:02:08.310Z"
   },
   {
    "duration": 98,
    "start_time": "2024-12-16T16:02:28.590Z"
   },
   {
    "duration": 106,
    "start_time": "2024-12-16T16:02:38.410Z"
   },
   {
    "duration": 10,
    "start_time": "2024-12-16T16:04:20.201Z"
   },
   {
    "duration": 10,
    "start_time": "2024-12-16T16:04:39.712Z"
   },
   {
    "duration": 105,
    "start_time": "2024-12-16T16:04:55.048Z"
   },
   {
    "duration": 5,
    "start_time": "2024-12-16T16:04:57.115Z"
   },
   {
    "duration": 11,
    "start_time": "2024-12-16T16:05:04.268Z"
   },
   {
    "duration": 48,
    "start_time": "2024-12-22T11:45:45.850Z"
   },
   {
    "duration": 1242,
    "start_time": "2024-12-22T11:46:08.259Z"
   },
   {
    "duration": 4344,
    "start_time": "2024-12-22T11:46:09.503Z"
   },
   {
    "duration": 14,
    "start_time": "2024-12-22T11:46:13.849Z"
   },
   {
    "duration": 9,
    "start_time": "2024-12-22T11:46:13.865Z"
   },
   {
    "duration": 158,
    "start_time": "2024-12-22T11:46:13.875Z"
   },
   {
    "duration": 11,
    "start_time": "2024-12-22T11:46:14.034Z"
   },
   {
    "duration": 27,
    "start_time": "2024-12-22T11:46:14.046Z"
   },
   {
    "duration": 6,
    "start_time": "2024-12-22T11:46:14.075Z"
   },
   {
    "duration": 17,
    "start_time": "2024-12-22T11:46:14.082Z"
   },
   {
    "duration": 47,
    "start_time": "2024-12-23T16:51:12.948Z"
   },
   {
    "duration": 1364,
    "start_time": "2024-12-23T16:51:18.230Z"
   },
   {
    "duration": 1886,
    "start_time": "2024-12-23T16:51:19.597Z"
   },
   {
    "duration": 12,
    "start_time": "2024-12-23T16:51:21.487Z"
   },
   {
    "duration": 15,
    "start_time": "2024-12-23T16:51:21.501Z"
   },
   {
    "duration": 146,
    "start_time": "2024-12-23T16:51:21.517Z"
   },
   {
    "duration": 9,
    "start_time": "2024-12-23T16:51:21.664Z"
   },
   {
    "duration": 23,
    "start_time": "2024-12-23T16:51:21.674Z"
   },
   {
    "duration": 8,
    "start_time": "2024-12-23T16:51:21.698Z"
   },
   {
    "duration": 39,
    "start_time": "2024-12-23T16:51:21.707Z"
   },
   {
    "duration": 8,
    "start_time": "2024-12-23T16:51:50.580Z"
   },
   {
    "duration": 10,
    "start_time": "2024-12-23T16:51:52.689Z"
   },
   {
    "duration": 3,
    "start_time": "2024-12-23T16:54:25.208Z"
   },
   {
    "duration": 2077,
    "start_time": "2024-12-23T16:54:25.214Z"
   },
   {
    "duration": 9,
    "start_time": "2024-12-23T16:54:27.293Z"
   },
   {
    "duration": 11,
    "start_time": "2024-12-23T16:54:27.304Z"
   },
   {
    "duration": 6,
    "start_time": "2024-12-23T16:54:27.318Z"
   },
   {
    "duration": 20,
    "start_time": "2024-12-23T16:54:27.326Z"
   },
   {
    "duration": 50,
    "start_time": "2024-12-23T16:54:27.348Z"
   },
   {
    "duration": 91,
    "start_time": "2024-12-23T16:54:27.400Z"
   },
   {
    "duration": 7,
    "start_time": "2024-12-23T16:54:27.493Z"
   },
   {
    "duration": 17,
    "start_time": "2024-12-23T16:54:27.502Z"
   },
   {
    "duration": 10,
    "start_time": "2024-12-23T16:54:27.521Z"
   },
   {
    "duration": 11,
    "start_time": "2024-12-23T16:54:27.532Z"
   },
   {
    "duration": 5,
    "start_time": "2024-12-23T16:54:27.545Z"
   },
   {
    "duration": 41,
    "start_time": "2024-12-23T16:54:27.552Z"
   },
   {
    "duration": 12,
    "start_time": "2024-12-23T16:54:27.594Z"
   },
   {
    "duration": 34,
    "start_time": "2024-12-23T16:54:27.607Z"
   },
   {
    "duration": 8,
    "start_time": "2024-12-23T17:01:35.326Z"
   },
   {
    "duration": 22,
    "start_time": "2024-12-23T17:01:52.912Z"
   },
   {
    "duration": 663,
    "start_time": "2024-12-23T17:03:25.178Z"
   },
   {
    "duration": 578,
    "start_time": "2024-12-23T17:03:44.637Z"
   },
   {
    "duration": 8,
    "start_time": "2024-12-23T17:11:06.885Z"
   },
   {
    "duration": 289,
    "start_time": "2024-12-23T17:14:25.497Z"
   },
   {
    "duration": 29,
    "start_time": "2024-12-23T17:17:12.080Z"
   },
   {
    "duration": 11,
    "start_time": "2024-12-23T17:17:22.646Z"
   },
   {
    "duration": 12,
    "start_time": "2024-12-23T17:17:37.661Z"
   },
   {
    "duration": 2,
    "start_time": "2024-12-23T17:26:13.801Z"
   },
   {
    "duration": 2131,
    "start_time": "2024-12-23T17:26:13.808Z"
   },
   {
    "duration": 9,
    "start_time": "2024-12-23T17:26:15.941Z"
   },
   {
    "duration": 11,
    "start_time": "2024-12-23T17:26:15.952Z"
   },
   {
    "duration": 24,
    "start_time": "2024-12-23T17:26:15.964Z"
   },
   {
    "duration": 20,
    "start_time": "2024-12-23T17:26:15.991Z"
   },
   {
    "duration": 20,
    "start_time": "2024-12-23T17:26:16.013Z"
   },
   {
    "duration": 109,
    "start_time": "2024-12-23T17:26:16.035Z"
   },
   {
    "duration": 7,
    "start_time": "2024-12-23T17:26:16.145Z"
   },
   {
    "duration": 17,
    "start_time": "2024-12-23T17:26:16.154Z"
   },
   {
    "duration": 29,
    "start_time": "2024-12-23T17:26:16.173Z"
   },
   {
    "duration": 19,
    "start_time": "2024-12-23T17:26:16.203Z"
   },
   {
    "duration": 6,
    "start_time": "2024-12-23T17:26:16.224Z"
   },
   {
    "duration": 17,
    "start_time": "2024-12-23T17:26:16.231Z"
   },
   {
    "duration": 7,
    "start_time": "2024-12-23T17:26:16.250Z"
   },
   {
    "duration": 36,
    "start_time": "2024-12-23T17:26:16.258Z"
   },
   {
    "duration": 8,
    "start_time": "2024-12-23T17:26:16.295Z"
   },
   {
    "duration": 630,
    "start_time": "2024-12-23T17:26:16.304Z"
   },
   {
    "duration": 141,
    "start_time": "2024-12-23T17:38:33.196Z"
   },
   {
    "duration": 32,
    "start_time": "2024-12-23T17:50:57.200Z"
   },
   {
    "duration": 30,
    "start_time": "2024-12-23T18:25:59.930Z"
   },
   {
    "duration": 76,
    "start_time": "2024-12-23T18:59:56.594Z"
   },
   {
    "duration": 3,
    "start_time": "2024-12-23T19:00:06.657Z"
   },
   {
    "duration": 2177,
    "start_time": "2024-12-23T19:00:06.662Z"
   },
   {
    "duration": 8,
    "start_time": "2024-12-23T19:00:08.841Z"
   },
   {
    "duration": 12,
    "start_time": "2024-12-23T19:00:08.851Z"
   },
   {
    "duration": 28,
    "start_time": "2024-12-23T19:00:08.864Z"
   },
   {
    "duration": 20,
    "start_time": "2024-12-23T19:00:08.894Z"
   },
   {
    "duration": 21,
    "start_time": "2024-12-23T19:00:08.916Z"
   },
   {
    "duration": 113,
    "start_time": "2024-12-23T19:00:08.939Z"
   },
   {
    "duration": 7,
    "start_time": "2024-12-23T19:00:09.054Z"
   },
   {
    "duration": 30,
    "start_time": "2024-12-23T19:00:09.065Z"
   },
   {
    "duration": 11,
    "start_time": "2024-12-23T19:00:09.097Z"
   },
   {
    "duration": 15,
    "start_time": "2024-12-23T19:00:09.109Z"
   },
   {
    "duration": 6,
    "start_time": "2024-12-23T19:00:09.126Z"
   },
   {
    "duration": 67,
    "start_time": "2024-12-23T19:00:09.134Z"
   },
   {
    "duration": 8,
    "start_time": "2024-12-23T19:00:09.202Z"
   },
   {
    "duration": 34,
    "start_time": "2024-12-23T19:00:09.212Z"
   },
   {
    "duration": 8,
    "start_time": "2024-12-23T19:00:09.247Z"
   },
   {
    "duration": 670,
    "start_time": "2024-12-23T19:00:09.256Z"
   },
   {
    "duration": 156,
    "start_time": "2024-12-23T19:00:09.927Z"
   },
   {
    "duration": 34,
    "start_time": "2024-12-23T19:00:10.087Z"
   },
   {
    "duration": 14,
    "start_time": "2024-12-23T19:00:10.123Z"
   },
   {
    "duration": 15,
    "start_time": "2024-12-23T19:01:05.637Z"
   },
   {
    "duration": 24,
    "start_time": "2024-12-23T19:01:22.821Z"
   },
   {
    "duration": 15,
    "start_time": "2024-12-23T19:01:51.130Z"
   },
   {
    "duration": 47,
    "start_time": "2024-12-23T19:02:05.925Z"
   },
   {
    "duration": 91,
    "start_time": "2024-12-23T19:02:14.561Z"
   },
   {
    "duration": 77,
    "start_time": "2024-12-23T19:02:28.325Z"
   },
   {
    "duration": 188,
    "start_time": "2024-12-23T19:02:54.148Z"
   },
   {
    "duration": 44,
    "start_time": "2024-12-23T19:03:32.899Z"
   },
   {
    "duration": 91,
    "start_time": "2024-12-23T19:05:24.236Z"
   },
   {
    "duration": 21,
    "start_time": "2024-12-23T19:05:50.067Z"
   },
   {
    "duration": 6,
    "start_time": "2024-12-23T19:06:13.662Z"
   },
   {
    "duration": 8,
    "start_time": "2024-12-23T19:06:24.525Z"
   },
   {
    "duration": 5,
    "start_time": "2024-12-23T19:06:36.343Z"
   },
   {
    "duration": 5,
    "start_time": "2024-12-23T19:06:45.242Z"
   },
   {
    "duration": 42,
    "start_time": "2024-12-23T19:08:05.015Z"
   },
   {
    "duration": 81,
    "start_time": "2024-12-23T19:09:10.793Z"
   },
   {
    "duration": 20,
    "start_time": "2024-12-23T19:09:16.859Z"
   },
   {
    "duration": 122,
    "start_time": "2024-12-23T19:10:25.509Z"
   },
   {
    "duration": 20,
    "start_time": "2024-12-23T19:10:40.634Z"
   },
   {
    "duration": 8,
    "start_time": "2024-12-23T19:15:58.079Z"
   },
   {
    "duration": 17,
    "start_time": "2024-12-23T19:16:32.816Z"
   },
   {
    "duration": 25,
    "start_time": "2024-12-23T19:16:41.222Z"
   },
   {
    "duration": 80,
    "start_time": "2024-12-23T19:17:38.798Z"
   },
   {
    "duration": 71,
    "start_time": "2024-12-23T19:18:02.363Z"
   },
   {
    "duration": 84,
    "start_time": "2024-12-23T19:18:09.305Z"
   },
   {
    "duration": 75,
    "start_time": "2024-12-23T19:18:13.885Z"
   },
   {
    "duration": 84,
    "start_time": "2024-12-23T19:18:23.698Z"
   },
   {
    "duration": 27,
    "start_time": "2024-12-23T19:18:42.261Z"
   },
   {
    "duration": 52,
    "start_time": "2024-12-24T09:27:40.270Z"
   },
   {
    "duration": 1388,
    "start_time": "2024-12-24T09:28:23.989Z"
   },
   {
    "duration": 2451,
    "start_time": "2024-12-24T09:28:25.379Z"
   },
   {
    "duration": 13,
    "start_time": "2024-12-24T09:28:27.832Z"
   },
   {
    "duration": 52,
    "start_time": "2024-12-24T09:28:27.847Z"
   },
   {
    "duration": 8,
    "start_time": "2024-12-24T09:28:27.901Z"
   },
   {
    "duration": 30,
    "start_time": "2024-12-24T09:28:27.910Z"
   },
   {
    "duration": 25,
    "start_time": "2024-12-24T09:28:27.942Z"
   },
   {
    "duration": 114,
    "start_time": "2024-12-24T09:28:27.969Z"
   },
   {
    "duration": 7,
    "start_time": "2024-12-24T09:28:28.085Z"
   },
   {
    "duration": 54,
    "start_time": "2024-12-24T09:28:28.095Z"
   },
   {
    "duration": 12,
    "start_time": "2024-12-24T09:28:28.150Z"
   },
   {
    "duration": 17,
    "start_time": "2024-12-24T09:28:28.164Z"
   },
   {
    "duration": 7,
    "start_time": "2024-12-24T09:28:28.183Z"
   },
   {
    "duration": 14,
    "start_time": "2024-12-24T09:28:28.191Z"
   },
   {
    "duration": 25,
    "start_time": "2024-12-24T09:28:28.206Z"
   },
   {
    "duration": 41,
    "start_time": "2024-12-24T09:28:28.232Z"
   },
   {
    "duration": 9,
    "start_time": "2024-12-24T09:28:28.274Z"
   },
   {
    "duration": 867,
    "start_time": "2024-12-24T09:28:28.285Z"
   },
   {
    "duration": 184,
    "start_time": "2024-12-24T09:28:29.154Z"
   },
   {
    "duration": 37,
    "start_time": "2024-12-24T09:28:29.340Z"
   },
   {
    "duration": 66,
    "start_time": "2024-12-24T09:28:29.379Z"
   },
   {
    "duration": 120,
    "start_time": "2024-12-24T09:28:29.446Z"
   },
   {
    "duration": 207,
    "start_time": "2024-12-24T09:28:29.567Z"
   },
   {
    "duration": 99,
    "start_time": "2024-12-24T09:28:29.776Z"
   },
   {
    "duration": 5,
    "start_time": "2024-12-24T09:28:29.877Z"
   },
   {
    "duration": 85,
    "start_time": "2024-12-24T09:28:29.884Z"
   },
   {
    "duration": 1336,
    "start_time": "2024-12-24T09:29:11.257Z"
   },
   {
    "duration": 90,
    "start_time": "2024-12-24T09:30:16.667Z"
   },
   {
    "duration": 6,
    "start_time": "2024-12-24T09:30:32.036Z"
   },
   {
    "duration": 93,
    "start_time": "2024-12-24T09:30:33.768Z"
   },
   {
    "duration": 87,
    "start_time": "2024-12-24T09:30:47.456Z"
   },
   {
    "duration": 3,
    "start_time": "2024-12-24T09:30:52.347Z"
   },
   {
    "duration": 2297,
    "start_time": "2024-12-24T09:30:52.353Z"
   },
   {
    "duration": 8,
    "start_time": "2024-12-24T09:30:54.652Z"
   },
   {
    "duration": 80,
    "start_time": "2024-12-24T09:30:54.662Z"
   },
   {
    "duration": 25,
    "start_time": "2024-12-24T09:30:54.744Z"
   },
   {
    "duration": 74,
    "start_time": "2024-12-24T09:30:54.771Z"
   },
   {
    "duration": 92,
    "start_time": "2024-12-24T09:30:54.847Z"
   },
   {
    "duration": 209,
    "start_time": "2024-12-24T09:30:54.941Z"
   },
   {
    "duration": 9,
    "start_time": "2024-12-24T09:30:55.151Z"
   },
   {
    "duration": 76,
    "start_time": "2024-12-24T09:30:55.162Z"
   },
   {
    "duration": 24,
    "start_time": "2024-12-24T09:30:55.240Z"
   },
   {
    "duration": 63,
    "start_time": "2024-12-24T09:30:55.266Z"
   },
   {
    "duration": 7,
    "start_time": "2024-12-24T09:30:55.332Z"
   },
   {
    "duration": 24,
    "start_time": "2024-12-24T09:30:55.340Z"
   },
   {
    "duration": 12,
    "start_time": "2024-12-24T09:30:55.366Z"
   },
   {
    "duration": 100,
    "start_time": "2024-12-24T09:30:55.379Z"
   },
   {
    "duration": 57,
    "start_time": "2024-12-24T09:30:55.481Z"
   },
   {
    "duration": 927,
    "start_time": "2024-12-24T09:30:55.539Z"
   },
   {
    "duration": 173,
    "start_time": "2024-12-24T09:30:56.468Z"
   },
   {
    "duration": 38,
    "start_time": "2024-12-24T09:30:56.643Z"
   },
   {
    "duration": 16,
    "start_time": "2024-12-24T09:30:56.683Z"
   },
   {
    "duration": 0,
    "start_time": "2024-12-24T09:30:56.701Z"
   },
   {
    "duration": 0,
    "start_time": "2024-12-24T09:30:56.702Z"
   },
   {
    "duration": 0,
    "start_time": "2024-12-24T09:30:56.704Z"
   },
   {
    "duration": 0,
    "start_time": "2024-12-24T09:30:56.705Z"
   },
   {
    "duration": 3,
    "start_time": "2024-12-24T09:31:09.215Z"
   },
   {
    "duration": 1943,
    "start_time": "2024-12-24T09:31:09.220Z"
   },
   {
    "duration": 8,
    "start_time": "2024-12-24T09:31:11.165Z"
   },
   {
    "duration": 49,
    "start_time": "2024-12-24T09:31:11.175Z"
   },
   {
    "duration": 11,
    "start_time": "2024-12-24T09:31:11.225Z"
   },
   {
    "duration": 29,
    "start_time": "2024-12-24T09:31:11.237Z"
   },
   {
    "duration": 75,
    "start_time": "2024-12-24T09:31:11.268Z"
   },
   {
    "duration": 218,
    "start_time": "2024-12-24T09:31:11.345Z"
   },
   {
    "duration": 7,
    "start_time": "2024-12-24T09:31:11.565Z"
   },
   {
    "duration": 20,
    "start_time": "2024-12-24T09:31:11.630Z"
   },
   {
    "duration": 23,
    "start_time": "2024-12-24T09:31:11.651Z"
   },
   {
    "duration": 64,
    "start_time": "2024-12-24T09:31:11.676Z"
   },
   {
    "duration": 7,
    "start_time": "2024-12-24T09:31:11.741Z"
   },
   {
    "duration": 84,
    "start_time": "2024-12-24T09:31:11.750Z"
   },
   {
    "duration": 10,
    "start_time": "2024-12-24T09:31:11.836Z"
   },
   {
    "duration": 96,
    "start_time": "2024-12-24T09:31:11.847Z"
   },
   {
    "duration": 12,
    "start_time": "2024-12-24T09:31:11.945Z"
   },
   {
    "duration": 1176,
    "start_time": "2024-12-24T09:31:11.959Z"
   },
   {
    "duration": 173,
    "start_time": "2024-12-24T09:31:13.136Z"
   },
   {
    "duration": 42,
    "start_time": "2024-12-24T09:31:13.311Z"
   },
   {
    "duration": 204,
    "start_time": "2024-12-24T09:31:13.355Z"
   },
   {
    "duration": 69,
    "start_time": "2024-12-24T09:31:13.561Z"
   },
   {
    "duration": 0,
    "start_time": "2024-12-24T09:31:13.631Z"
   },
   {
    "duration": 0,
    "start_time": "2024-12-24T09:31:13.632Z"
   },
   {
    "duration": 0,
    "start_time": "2024-12-24T09:31:13.633Z"
   },
   {
    "duration": 0,
    "start_time": "2024-12-24T09:31:13.634Z"
   },
   {
    "duration": 34,
    "start_time": "2024-12-24T09:47:31.855Z"
   },
   {
    "duration": 87,
    "start_time": "2024-12-24T09:47:39.035Z"
   },
   {
    "duration": 239,
    "start_time": "2024-12-24T09:52:10.345Z"
   },
   {
    "duration": 95,
    "start_time": "2024-12-24T09:52:37.987Z"
   },
   {
    "duration": 6,
    "start_time": "2024-12-24T09:52:40.114Z"
   },
   {
    "duration": 19,
    "start_time": "2024-12-24T10:05:45.775Z"
   },
   {
    "duration": 20,
    "start_time": "2024-12-24T10:07:29.260Z"
   },
   {
    "duration": 48,
    "start_time": "2024-12-24T10:08:37.458Z"
   },
   {
    "duration": 197,
    "start_time": "2024-12-24T10:08:56.456Z"
   },
   {
    "duration": 218,
    "start_time": "2024-12-24T10:11:08.236Z"
   },
   {
    "duration": 196,
    "start_time": "2024-12-24T10:12:50.196Z"
   },
   {
    "duration": 204,
    "start_time": "2024-12-24T10:13:02.066Z"
   },
   {
    "duration": 283,
    "start_time": "2024-12-24T10:13:07.064Z"
   },
   {
    "duration": 200,
    "start_time": "2024-12-24T10:13:36.450Z"
   },
   {
    "duration": 196,
    "start_time": "2024-12-24T10:13:45.714Z"
   },
   {
    "duration": 105,
    "start_time": "2024-12-24T10:24:47.781Z"
   },
   {
    "duration": 3930,
    "start_time": "2024-12-24T10:25:48.183Z"
   },
   {
    "duration": 4043,
    "start_time": "2024-12-24T10:28:02.690Z"
   },
   {
    "duration": 3965,
    "start_time": "2024-12-24T10:28:21.976Z"
   },
   {
    "duration": 3901,
    "start_time": "2024-12-24T10:30:05.494Z"
   },
   {
    "duration": 109,
    "start_time": "2024-12-24T10:35:29.541Z"
   },
   {
    "duration": 109,
    "start_time": "2024-12-24T10:37:23.128Z"
   },
   {
    "duration": 16,
    "start_time": "2024-12-24T10:37:51.228Z"
   },
   {
    "duration": 16,
    "start_time": "2024-12-24T10:38:01.921Z"
   },
   {
    "duration": 2434,
    "start_time": "2024-12-24T10:38:23.968Z"
   },
   {
    "duration": 2450,
    "start_time": "2024-12-24T10:38:51.480Z"
   },
   {
    "duration": 91,
    "start_time": "2024-12-24T10:41:52.819Z"
   },
   {
    "duration": 102,
    "start_time": "2024-12-24T10:42:01.793Z"
   },
   {
    "duration": 4067,
    "start_time": "2024-12-24T10:42:52.195Z"
   },
   {
    "duration": 4091,
    "start_time": "2024-12-24T10:43:04.075Z"
   },
   {
    "duration": 10,
    "start_time": "2024-12-24T10:43:56.699Z"
   },
   {
    "duration": 11,
    "start_time": "2024-12-24T10:44:17.264Z"
   },
   {
    "duration": 16,
    "start_time": "2024-12-24T10:44:33.113Z"
   },
   {
    "duration": 149,
    "start_time": "2024-12-24T10:46:02.789Z"
   },
   {
    "duration": 110,
    "start_time": "2024-12-24T10:47:00.930Z"
   },
   {
    "duration": 112,
    "start_time": "2024-12-24T10:48:36.276Z"
   },
   {
    "duration": 1680,
    "start_time": "2024-12-24T10:48:44.103Z"
   },
   {
    "duration": 198,
    "start_time": "2024-12-24T10:49:37.842Z"
   },
   {
    "duration": 1508,
    "start_time": "2024-12-24T10:49:43.515Z"
   },
   {
    "duration": 207,
    "start_time": "2024-12-24T10:49:48.923Z"
   },
   {
    "duration": 195,
    "start_time": "2024-12-24T10:49:55.295Z"
   },
   {
    "duration": 188,
    "start_time": "2024-12-24T10:50:14.146Z"
   },
   {
    "duration": 179,
    "start_time": "2024-12-24T10:50:26.954Z"
   },
   {
    "duration": 198,
    "start_time": "2024-12-24T10:51:54.614Z"
   },
   {
    "duration": 173,
    "start_time": "2024-12-24T10:52:40.423Z"
   },
   {
    "duration": 145,
    "start_time": "2024-12-24T10:52:47.607Z"
   },
   {
    "duration": 150,
    "start_time": "2024-12-24T10:53:51.333Z"
   },
   {
    "duration": 152,
    "start_time": "2024-12-24T10:54:18.156Z"
   },
   {
    "duration": 144,
    "start_time": "2024-12-24T10:54:23.949Z"
   },
   {
    "duration": 117,
    "start_time": "2024-12-24T10:56:14.748Z"
   },
   {
    "duration": 148,
    "start_time": "2024-12-24T10:58:00.613Z"
   },
   {
    "duration": 3598,
    "start_time": "2024-12-24T10:58:19.495Z"
   },
   {
    "duration": 10,
    "start_time": "2024-12-24T10:58:26.570Z"
   },
   {
    "duration": 16,
    "start_time": "2024-12-24T10:58:29.875Z"
   },
   {
    "duration": 315,
    "start_time": "2024-12-24T10:59:56.037Z"
   },
   {
    "duration": 393,
    "start_time": "2024-12-24T11:00:49.668Z"
   },
   {
    "duration": 311,
    "start_time": "2024-12-24T11:01:15.286Z"
   },
   {
    "duration": 26,
    "start_time": "2024-12-24T11:04:06.503Z"
   },
   {
    "duration": 10,
    "start_time": "2024-12-24T11:04:34.131Z"
   },
   {
    "duration": 14,
    "start_time": "2024-12-24T11:04:50.320Z"
   },
   {
    "duration": 19,
    "start_time": "2024-12-24T11:05:12.356Z"
   },
   {
    "duration": 266,
    "start_time": "2024-12-24T11:05:40.645Z"
   },
   {
    "duration": 25,
    "start_time": "2024-12-24T11:05:44.183Z"
   },
   {
    "duration": 10,
    "start_time": "2024-12-24T11:05:48.632Z"
   },
   {
    "duration": 19,
    "start_time": "2024-12-24T11:05:50.835Z"
   },
   {
    "duration": 4,
    "start_time": "2024-12-24T11:06:01.042Z"
   },
   {
    "duration": 2268,
    "start_time": "2024-12-24T11:06:01.048Z"
   },
   {
    "duration": 13,
    "start_time": "2024-12-24T11:06:03.318Z"
   },
   {
    "duration": 54,
    "start_time": "2024-12-24T11:06:03.333Z"
   },
   {
    "duration": 52,
    "start_time": "2024-12-24T11:06:03.389Z"
   },
   {
    "duration": 75,
    "start_time": "2024-12-24T11:06:03.443Z"
   },
   {
    "duration": 67,
    "start_time": "2024-12-24T11:06:03.519Z"
   },
   {
    "duration": 110,
    "start_time": "2024-12-24T11:06:03.588Z"
   },
   {
    "duration": 8,
    "start_time": "2024-12-24T11:06:03.700Z"
   },
   {
    "duration": 55,
    "start_time": "2024-12-24T11:06:03.711Z"
   },
   {
    "duration": 11,
    "start_time": "2024-12-24T11:06:03.768Z"
   },
   {
    "duration": 35,
    "start_time": "2024-12-24T11:06:03.780Z"
   },
   {
    "duration": 86,
    "start_time": "2024-12-24T11:06:03.816Z"
   },
   {
    "duration": 43,
    "start_time": "2024-12-24T11:06:03.903Z"
   },
   {
    "duration": 54,
    "start_time": "2024-12-24T11:06:03.948Z"
   },
   {
    "duration": 68,
    "start_time": "2024-12-24T11:06:04.004Z"
   },
   {
    "duration": 20,
    "start_time": "2024-12-24T11:06:04.074Z"
   },
   {
    "duration": 1164,
    "start_time": "2024-12-24T11:06:04.096Z"
   },
   {
    "duration": 368,
    "start_time": "2024-12-24T11:06:05.262Z"
   },
   {
    "duration": 37,
    "start_time": "2024-12-24T11:06:05.632Z"
   },
   {
    "duration": 505,
    "start_time": "2024-12-24T11:06:05.671Z"
   },
   {
    "duration": 0,
    "start_time": "2024-12-24T11:06:06.230Z"
   },
   {
    "duration": 0,
    "start_time": "2024-12-24T11:06:06.232Z"
   },
   {
    "duration": 0,
    "start_time": "2024-12-24T11:06:06.233Z"
   },
   {
    "duration": 0,
    "start_time": "2024-12-24T11:06:06.234Z"
   },
   {
    "duration": 0,
    "start_time": "2024-12-24T11:06:06.235Z"
   },
   {
    "duration": 0,
    "start_time": "2024-12-24T11:06:06.237Z"
   },
   {
    "duration": 0,
    "start_time": "2024-12-24T11:06:06.238Z"
   },
   {
    "duration": 3,
    "start_time": "2024-12-24T11:06:54.220Z"
   },
   {
    "duration": 2007,
    "start_time": "2024-12-24T11:06:54.225Z"
   },
   {
    "duration": 8,
    "start_time": "2024-12-24T11:06:56.234Z"
   },
   {
    "duration": 13,
    "start_time": "2024-12-24T11:06:56.244Z"
   },
   {
    "duration": 7,
    "start_time": "2024-12-24T11:06:56.258Z"
   },
   {
    "duration": 63,
    "start_time": "2024-12-24T11:06:56.267Z"
   },
   {
    "duration": 63,
    "start_time": "2024-12-24T11:06:56.332Z"
   },
   {
    "duration": 120,
    "start_time": "2024-12-24T11:06:56.397Z"
   },
   {
    "duration": 12,
    "start_time": "2024-12-24T11:06:56.519Z"
   },
   {
    "duration": 38,
    "start_time": "2024-12-24T11:06:56.534Z"
   },
   {
    "duration": 36,
    "start_time": "2024-12-24T11:06:56.574Z"
   },
   {
    "duration": 16,
    "start_time": "2024-12-24T11:06:56.612Z"
   },
   {
    "duration": 10,
    "start_time": "2024-12-24T11:06:56.630Z"
   },
   {
    "duration": 12,
    "start_time": "2024-12-24T11:06:56.641Z"
   },
   {
    "duration": 9,
    "start_time": "2024-12-24T11:06:56.655Z"
   },
   {
    "duration": 47,
    "start_time": "2024-12-24T11:06:56.666Z"
   },
   {
    "duration": 24,
    "start_time": "2024-12-24T11:06:56.714Z"
   },
   {
    "duration": 1191,
    "start_time": "2024-12-24T11:06:56.739Z"
   },
   {
    "duration": 322,
    "start_time": "2024-12-24T11:06:57.932Z"
   },
   {
    "duration": 92,
    "start_time": "2024-12-24T11:06:58.256Z"
   },
   {
    "duration": 441,
    "start_time": "2024-12-24T11:06:58.350Z"
   },
   {
    "duration": 656,
    "start_time": "2024-12-24T11:06:58.793Z"
   },
   {
    "duration": 24,
    "start_time": "2024-12-24T11:06:59.451Z"
   },
   {
    "duration": 9,
    "start_time": "2024-12-24T11:06:59.531Z"
   },
   {
    "duration": 32,
    "start_time": "2024-12-24T11:06:59.541Z"
   },
   {
    "duration": 57,
    "start_time": "2024-12-24T11:06:59.575Z"
   },
   {
    "duration": 0,
    "start_time": "2024-12-24T11:06:59.633Z"
   },
   {
    "duration": 150,
    "start_time": "2024-12-24T11:07:51.290Z"
   },
   {
    "duration": 24,
    "start_time": "2024-12-24T11:07:55.304Z"
   },
   {
    "duration": 3,
    "start_time": "2024-12-24T11:08:02.331Z"
   },
   {
    "duration": 1934,
    "start_time": "2024-12-24T11:08:02.336Z"
   },
   {
    "duration": 9,
    "start_time": "2024-12-24T11:08:04.272Z"
   },
   {
    "duration": 101,
    "start_time": "2024-12-24T11:08:04.283Z"
   },
   {
    "duration": 84,
    "start_time": "2024-12-24T11:08:04.386Z"
   },
   {
    "duration": 50,
    "start_time": "2024-12-24T11:08:04.472Z"
   },
   {
    "duration": 62,
    "start_time": "2024-12-24T11:08:04.523Z"
   },
   {
    "duration": 356,
    "start_time": "2024-12-24T11:08:04.587Z"
   },
   {
    "duration": 9,
    "start_time": "2024-12-24T11:08:04.944Z"
   },
   {
    "duration": 92,
    "start_time": "2024-12-24T11:08:04.955Z"
   },
   {
    "duration": 40,
    "start_time": "2024-12-24T11:08:05.048Z"
   },
   {
    "duration": 65,
    "start_time": "2024-12-24T11:08:05.090Z"
   },
   {
    "duration": 20,
    "start_time": "2024-12-24T11:08:05.157Z"
   },
   {
    "duration": 54,
    "start_time": "2024-12-24T11:08:05.179Z"
   },
   {
    "duration": 59,
    "start_time": "2024-12-24T11:08:05.234Z"
   },
   {
    "duration": 85,
    "start_time": "2024-12-24T11:08:05.295Z"
   },
   {
    "duration": 15,
    "start_time": "2024-12-24T11:08:05.430Z"
   },
   {
    "duration": 1017,
    "start_time": "2024-12-24T11:08:05.447Z"
   },
   {
    "duration": 170,
    "start_time": "2024-12-24T11:08:06.465Z"
   },
   {
    "duration": 38,
    "start_time": "2024-12-24T11:08:06.637Z"
   },
   {
    "duration": 233,
    "start_time": "2024-12-24T11:08:06.678Z"
   },
   {
    "duration": 157,
    "start_time": "2024-12-24T11:08:06.912Z"
   },
   {
    "duration": 24,
    "start_time": "2024-12-24T11:08:07.071Z"
   },
   {
    "duration": 25,
    "start_time": "2024-12-24T11:08:07.096Z"
   },
   {
    "duration": 32,
    "start_time": "2024-12-24T11:08:07.123Z"
   },
   {
    "duration": 13,
    "start_time": "2024-12-24T11:08:07.157Z"
   },
   {
    "duration": 0,
    "start_time": "2024-12-24T11:08:07.172Z"
   },
   {
    "duration": 154,
    "start_time": "2024-12-24T11:10:29.656Z"
   },
   {
    "duration": 30,
    "start_time": "2024-12-24T11:11:13.387Z"
   },
   {
    "duration": 1321,
    "start_time": "2024-12-24T21:09:42.441Z"
   },
   {
    "duration": 1824,
    "start_time": "2024-12-24T21:09:43.764Z"
   },
   {
    "duration": 12,
    "start_time": "2024-12-24T21:09:45.589Z"
   },
   {
    "duration": 29,
    "start_time": "2024-12-24T21:09:45.602Z"
   },
   {
    "duration": 8,
    "start_time": "2024-12-24T21:09:45.634Z"
   },
   {
    "duration": 66,
    "start_time": "2024-12-24T21:09:45.643Z"
   },
   {
    "duration": 39,
    "start_time": "2024-12-24T21:09:45.711Z"
   },
   {
    "duration": 116,
    "start_time": "2024-12-24T21:09:45.752Z"
   },
   {
    "duration": 8,
    "start_time": "2024-12-24T21:09:45.870Z"
   },
   {
    "duration": 56,
    "start_time": "2024-12-24T21:09:45.879Z"
   },
   {
    "duration": 10,
    "start_time": "2024-12-24T21:09:45.937Z"
   },
   {
    "duration": 28,
    "start_time": "2024-12-24T21:09:45.948Z"
   },
   {
    "duration": 12,
    "start_time": "2024-12-24T21:09:45.978Z"
   },
   {
    "duration": 11,
    "start_time": "2024-12-24T21:09:45.993Z"
   },
   {
    "duration": 25,
    "start_time": "2024-12-24T21:09:46.005Z"
   },
   {
    "duration": 54,
    "start_time": "2024-12-24T21:09:46.033Z"
   },
   {
    "duration": 8,
    "start_time": "2024-12-24T21:09:46.088Z"
   },
   {
    "duration": 778,
    "start_time": "2024-12-24T21:09:46.098Z"
   },
   {
    "duration": 164,
    "start_time": "2024-12-24T21:09:46.878Z"
   },
   {
    "duration": 35,
    "start_time": "2024-12-24T21:09:47.043Z"
   },
   {
    "duration": 261,
    "start_time": "2024-12-24T21:09:47.079Z"
   },
   {
    "duration": 193,
    "start_time": "2024-12-24T21:09:47.342Z"
   },
   {
    "duration": 0,
    "start_time": "2024-12-24T21:09:47.537Z"
   },
   {
    "duration": 0,
    "start_time": "2024-12-24T21:09:47.538Z"
   },
   {
    "duration": 0,
    "start_time": "2024-12-24T21:09:47.539Z"
   },
   {
    "duration": 0,
    "start_time": "2024-12-24T21:09:47.540Z"
   },
   {
    "duration": 0,
    "start_time": "2024-12-24T21:09:47.542Z"
   },
   {
    "duration": 3,
    "start_time": "2024-12-24T21:10:16.257Z"
   },
   {
    "duration": 2271,
    "start_time": "2024-12-24T21:10:16.263Z"
   },
   {
    "duration": 8,
    "start_time": "2024-12-24T21:10:18.536Z"
   },
   {
    "duration": 13,
    "start_time": "2024-12-24T21:10:18.546Z"
   },
   {
    "duration": 7,
    "start_time": "2024-12-24T21:10:18.561Z"
   },
   {
    "duration": 31,
    "start_time": "2024-12-24T21:10:18.569Z"
   },
   {
    "duration": 42,
    "start_time": "2024-12-24T21:10:18.602Z"
   },
   {
    "duration": 104,
    "start_time": "2024-12-24T21:10:18.645Z"
   },
   {
    "duration": 7,
    "start_time": "2024-12-24T21:10:18.751Z"
   },
   {
    "duration": 55,
    "start_time": "2024-12-24T21:10:18.761Z"
   },
   {
    "duration": 10,
    "start_time": "2024-12-24T21:10:18.818Z"
   },
   {
    "duration": 42,
    "start_time": "2024-12-24T21:10:18.829Z"
   },
   {
    "duration": 7,
    "start_time": "2024-12-24T21:10:18.872Z"
   },
   {
    "duration": 153,
    "start_time": "2024-12-24T21:10:18.880Z"
   },
   {
    "duration": 16,
    "start_time": "2024-12-24T21:10:19.035Z"
   },
   {
    "duration": 96,
    "start_time": "2024-12-24T21:10:19.053Z"
   },
   {
    "duration": 14,
    "start_time": "2024-12-24T21:10:19.151Z"
   },
   {
    "duration": 749,
    "start_time": "2024-12-24T21:10:19.166Z"
   },
   {
    "duration": 166,
    "start_time": "2024-12-24T21:10:19.916Z"
   },
   {
    "duration": 36,
    "start_time": "2024-12-24T21:10:20.083Z"
   },
   {
    "duration": 208,
    "start_time": "2024-12-24T21:10:20.130Z"
   },
   {
    "duration": 111,
    "start_time": "2024-12-24T21:10:20.340Z"
   },
   {
    "duration": 0,
    "start_time": "2024-12-24T21:10:20.452Z"
   },
   {
    "duration": 0,
    "start_time": "2024-12-24T21:10:20.454Z"
   },
   {
    "duration": 0,
    "start_time": "2024-12-24T21:10:20.455Z"
   },
   {
    "duration": 0,
    "start_time": "2024-12-24T21:10:20.456Z"
   },
   {
    "duration": 0,
    "start_time": "2024-12-24T21:10:20.457Z"
   },
   {
    "duration": 164,
    "start_time": "2024-12-24T21:10:55.094Z"
   },
   {
    "duration": 7466,
    "start_time": "2024-12-24T21:12:00.360Z"
   },
   {
    "duration": 123,
    "start_time": "2024-12-24T21:12:42.185Z"
   },
   {
    "duration": 29,
    "start_time": "2024-12-24T21:13:29.873Z"
   },
   {
    "duration": 67,
    "start_time": "2024-12-24T21:14:17.298Z"
   },
   {
    "duration": 69,
    "start_time": "2024-12-24T21:14:28.637Z"
   },
   {
    "duration": 18,
    "start_time": "2024-12-24T21:16:10.562Z"
   },
   {
    "duration": 1283,
    "start_time": "2024-12-24T21:18:12.568Z"
   },
   {
    "duration": 1323,
    "start_time": "2024-12-24T21:18:25.848Z"
   },
   {
    "duration": 10,
    "start_time": "2024-12-24T21:18:50.518Z"
   },
   {
    "duration": 39,
    "start_time": "2024-12-24T21:18:53.040Z"
   },
   {
    "duration": 2893,
    "start_time": "2024-12-24T21:19:36.868Z"
   },
   {
    "duration": 2109,
    "start_time": "2024-12-24T21:20:24.736Z"
   },
   {
    "duration": 1797,
    "start_time": "2024-12-24T21:20:41.280Z"
   },
   {
    "duration": 1797,
    "start_time": "2024-12-24T21:20:54.433Z"
   },
   {
    "duration": 8,
    "start_time": "2024-12-24T21:25:07.214Z"
   },
   {
    "duration": 11,
    "start_time": "2024-12-24T21:25:43.321Z"
   },
   {
    "duration": 19,
    "start_time": "2024-12-24T21:26:53.334Z"
   },
   {
    "duration": 663,
    "start_time": "2024-12-24T21:28:09.471Z"
   },
   {
    "duration": 8,
    "start_time": "2024-12-24T21:29:08.389Z"
   },
   {
    "duration": 8,
    "start_time": "2024-12-24T21:29:26.503Z"
   },
   {
    "duration": 10,
    "start_time": "2024-12-24T21:33:04.807Z"
   },
   {
    "duration": 81,
    "start_time": "2024-12-24T21:33:10.548Z"
   },
   {
    "duration": 113,
    "start_time": "2024-12-24T21:33:18.853Z"
   },
   {
    "duration": 85,
    "start_time": "2024-12-24T21:33:50.728Z"
   },
   {
    "duration": 35,
    "start_time": "2024-12-24T21:34:06.775Z"
   },
   {
    "duration": 196,
    "start_time": "2024-12-24T21:34:47.211Z"
   },
   {
    "duration": 137,
    "start_time": "2024-12-24T21:34:56.345Z"
   },
   {
    "duration": 17,
    "start_time": "2024-12-24T21:35:15.010Z"
   },
   {
    "duration": 12,
    "start_time": "2024-12-24T21:35:56.382Z"
   },
   {
    "duration": 1347,
    "start_time": "2024-12-24T21:36:39.858Z"
   },
   {
    "duration": 1295,
    "start_time": "2024-12-24T21:37:10.953Z"
   },
   {
    "duration": 58,
    "start_time": "2024-12-24T21:39:05.912Z"
   },
   {
    "duration": 19,
    "start_time": "2024-12-24T21:41:10.268Z"
   },
   {
    "duration": 26,
    "start_time": "2024-12-24T21:42:46.789Z"
   },
   {
    "duration": 12,
    "start_time": "2024-12-24T21:43:21.024Z"
   },
   {
    "duration": 18,
    "start_time": "2024-12-24T21:43:33.483Z"
   },
   {
    "duration": 17,
    "start_time": "2024-12-24T21:43:54.387Z"
   },
   {
    "duration": 69,
    "start_time": "2024-12-24T21:44:09.267Z"
   },
   {
    "duration": 34,
    "start_time": "2024-12-24T21:44:14.269Z"
   },
   {
    "duration": 12,
    "start_time": "2024-12-24T21:44:18.901Z"
   },
   {
    "duration": 13,
    "start_time": "2024-12-24T21:44:41.831Z"
   },
   {
    "duration": 14,
    "start_time": "2024-12-24T21:45:12.394Z"
   },
   {
    "duration": 13,
    "start_time": "2024-12-24T21:46:27.975Z"
   },
   {
    "duration": 17,
    "start_time": "2024-12-24T21:46:35.617Z"
   },
   {
    "duration": 21,
    "start_time": "2024-12-24T21:47:41.156Z"
   },
   {
    "duration": 20,
    "start_time": "2024-12-24T21:47:57.128Z"
   },
   {
    "duration": 93,
    "start_time": "2024-12-24T21:49:24.192Z"
   },
   {
    "duration": 81,
    "start_time": "2024-12-24T21:49:35.163Z"
   },
   {
    "duration": 12,
    "start_time": "2024-12-24T21:49:39.475Z"
   },
   {
    "duration": 9,
    "start_time": "2024-12-24T21:51:26.474Z"
   },
   {
    "duration": 8,
    "start_time": "2024-12-24T21:51:32.869Z"
   },
   {
    "duration": 91,
    "start_time": "2024-12-24T21:52:43.783Z"
   },
   {
    "duration": 94,
    "start_time": "2024-12-24T21:52:47.553Z"
   },
   {
    "duration": 119,
    "start_time": "2024-12-24T21:53:39.007Z"
   },
   {
    "duration": 9,
    "start_time": "2024-12-24T21:53:41.835Z"
   },
   {
    "duration": 58,
    "start_time": "2024-12-24T21:53:49.187Z"
   },
   {
    "duration": 23,
    "start_time": "2024-12-24T21:53:53.321Z"
   },
   {
    "duration": 16,
    "start_time": "2024-12-24T21:53:56.248Z"
   },
   {
    "duration": 146,
    "start_time": "2024-12-24T21:54:29.775Z"
   },
   {
    "duration": 38,
    "start_time": "2024-12-24T21:54:46.630Z"
   },
   {
    "duration": 14,
    "start_time": "2024-12-24T21:54:55.608Z"
   },
   {
    "duration": 3,
    "start_time": "2024-12-24T21:55:34.031Z"
   },
   {
    "duration": 2406,
    "start_time": "2024-12-24T21:55:34.036Z"
   },
   {
    "duration": 8,
    "start_time": "2024-12-24T21:55:36.443Z"
   },
   {
    "duration": 14,
    "start_time": "2024-12-24T21:55:36.453Z"
   },
   {
    "duration": 16,
    "start_time": "2024-12-24T21:55:36.469Z"
   },
   {
    "duration": 29,
    "start_time": "2024-12-24T21:55:36.487Z"
   },
   {
    "duration": 41,
    "start_time": "2024-12-24T21:55:36.530Z"
   },
   {
    "duration": 123,
    "start_time": "2024-12-24T21:55:36.573Z"
   },
   {
    "duration": 7,
    "start_time": "2024-12-24T21:55:36.698Z"
   },
   {
    "duration": 40,
    "start_time": "2024-12-24T21:55:36.709Z"
   },
   {
    "duration": 26,
    "start_time": "2024-12-24T21:55:36.751Z"
   },
   {
    "duration": 32,
    "start_time": "2024-12-24T21:55:36.779Z"
   },
   {
    "duration": 26,
    "start_time": "2024-12-24T21:55:36.813Z"
   },
   {
    "duration": 14,
    "start_time": "2024-12-24T21:55:36.841Z"
   },
   {
    "duration": 9,
    "start_time": "2024-12-24T21:55:36.857Z"
   },
   {
    "duration": 51,
    "start_time": "2024-12-24T21:55:36.867Z"
   },
   {
    "duration": 11,
    "start_time": "2024-12-24T21:55:36.920Z"
   },
   {
    "duration": 724,
    "start_time": "2024-12-24T21:55:36.933Z"
   },
   {
    "duration": 166,
    "start_time": "2024-12-24T21:55:37.659Z"
   },
   {
    "duration": 39,
    "start_time": "2024-12-24T21:55:37.827Z"
   },
   {
    "duration": 208,
    "start_time": "2024-12-24T21:55:37.868Z"
   },
   {
    "duration": 203,
    "start_time": "2024-12-24T21:55:38.078Z"
   },
   {
    "duration": 8,
    "start_time": "2024-12-24T21:55:38.283Z"
   },
   {
    "duration": 22,
    "start_time": "2024-12-24T21:55:38.293Z"
   },
   {
    "duration": 15,
    "start_time": "2024-12-24T21:55:38.316Z"
   },
   {
    "duration": 98,
    "start_time": "2024-12-24T21:55:38.333Z"
   },
   {
    "duration": 87,
    "start_time": "2024-12-24T21:55:38.432Z"
   },
   {
    "duration": 99,
    "start_time": "2024-12-24T21:55:38.531Z"
   },
   {
    "duration": 15,
    "start_time": "2024-12-24T21:55:38.631Z"
   },
   {
    "duration": 26,
    "start_time": "2024-12-24T21:55:38.648Z"
   },
   {
    "duration": 15,
    "start_time": "2024-12-24T21:55:38.675Z"
   },
   {
    "duration": 0,
    "start_time": "2024-12-24T21:55:38.692Z"
   },
   {
    "duration": 0,
    "start_time": "2024-12-24T21:55:38.693Z"
   },
   {
    "duration": 17,
    "start_time": "2024-12-24T22:02:11.954Z"
   },
   {
    "duration": 607,
    "start_time": "2024-12-24T22:02:39.092Z"
   },
   {
    "duration": 35,
    "start_time": "2024-12-24T22:03:37.572Z"
   },
   {
    "duration": 21,
    "start_time": "2024-12-24T22:03:43.485Z"
   },
   {
    "duration": 21,
    "start_time": "2024-12-24T22:03:47.804Z"
   },
   {
    "duration": 19,
    "start_time": "2024-12-24T22:03:54.643Z"
   },
   {
    "duration": 266,
    "start_time": "2024-12-24T22:06:31.439Z"
   },
   {
    "duration": 20,
    "start_time": "2024-12-24T22:06:35.227Z"
   },
   {
    "duration": 23,
    "start_time": "2024-12-24T22:06:37.383Z"
   },
   {
    "duration": 19,
    "start_time": "2024-12-24T22:06:40.721Z"
   },
   {
    "duration": 183,
    "start_time": "2024-12-24T22:08:19.136Z"
   },
   {
    "duration": 103,
    "start_time": "2024-12-24T22:08:41.606Z"
   },
   {
    "duration": 182,
    "start_time": "2024-12-24T22:08:49.610Z"
   },
   {
    "duration": 89,
    "start_time": "2024-12-24T22:08:52.079Z"
   },
   {
    "duration": 12,
    "start_time": "2024-12-24T22:08:56.809Z"
   },
   {
    "duration": 21,
    "start_time": "2024-12-24T22:10:03.670Z"
   },
   {
    "duration": 39,
    "start_time": "2024-12-24T22:10:18.662Z"
   },
   {
    "duration": 260,
    "start_time": "2024-12-24T22:11:56.323Z"
   },
   {
    "duration": 254,
    "start_time": "2024-12-24T22:14:00.633Z"
   },
   {
    "duration": 234,
    "start_time": "2024-12-24T22:14:20.850Z"
   },
   {
    "duration": 226,
    "start_time": "2024-12-24T22:14:30.703Z"
   },
   {
    "duration": 245,
    "start_time": "2024-12-24T22:14:51.260Z"
   },
   {
    "duration": 235,
    "start_time": "2024-12-24T22:15:04.183Z"
   },
   {
    "duration": 517,
    "start_time": "2024-12-24T22:17:15.499Z"
   },
   {
    "duration": 245,
    "start_time": "2024-12-24T22:17:45.131Z"
   },
   {
    "duration": 235,
    "start_time": "2024-12-24T22:17:54.766Z"
   },
   {
    "duration": 567,
    "start_time": "2024-12-24T22:18:25.265Z"
   },
   {
    "duration": 498,
    "start_time": "2024-12-24T22:19:04.671Z"
   },
   {
    "duration": 508,
    "start_time": "2024-12-24T22:19:34.593Z"
   },
   {
    "duration": 584,
    "start_time": "2024-12-24T22:19:42.761Z"
   },
   {
    "duration": 498,
    "start_time": "2024-12-24T22:20:22.256Z"
   },
   {
    "duration": 563,
    "start_time": "2024-12-24T22:20:40.201Z"
   },
   {
    "duration": 502,
    "start_time": "2024-12-24T22:20:48.886Z"
   },
   {
    "duration": 527,
    "start_time": "2024-12-24T22:21:47.631Z"
   },
   {
    "duration": 598,
    "start_time": "2024-12-24T22:22:18.787Z"
   },
   {
    "duration": 517,
    "start_time": "2024-12-24T22:22:24.461Z"
   },
   {
    "duration": 612,
    "start_time": "2024-12-24T22:22:27.768Z"
   },
   {
    "duration": 512,
    "start_time": "2024-12-24T22:23:29.235Z"
   },
   {
    "duration": 510,
    "start_time": "2024-12-24T22:23:37.383Z"
   },
   {
    "duration": 579,
    "start_time": "2024-12-24T22:23:44.573Z"
   },
   {
    "duration": 510,
    "start_time": "2024-12-24T22:23:52.154Z"
   },
   {
    "duration": 592,
    "start_time": "2024-12-24T22:23:56.639Z"
   },
   {
    "duration": 533,
    "start_time": "2024-12-24T22:26:48.015Z"
   },
   {
    "duration": 4,
    "start_time": "2024-12-24T22:37:54.132Z"
   },
   {
    "duration": 106,
    "start_time": "2024-12-24T22:39:04.887Z"
   },
   {
    "duration": 3,
    "start_time": "2024-12-24T22:39:29.420Z"
   },
   {
    "duration": 2308,
    "start_time": "2024-12-24T22:39:29.425Z"
   },
   {
    "duration": 8,
    "start_time": "2024-12-24T22:39:31.735Z"
   },
   {
    "duration": 47,
    "start_time": "2024-12-24T22:39:31.745Z"
   },
   {
    "duration": 37,
    "start_time": "2024-12-24T22:39:31.793Z"
   },
   {
    "duration": 25,
    "start_time": "2024-12-24T22:39:31.832Z"
   },
   {
    "duration": 25,
    "start_time": "2024-12-24T22:39:31.858Z"
   },
   {
    "duration": 120,
    "start_time": "2024-12-24T22:39:31.884Z"
   },
   {
    "duration": 9,
    "start_time": "2024-12-24T22:39:32.006Z"
   },
   {
    "duration": 31,
    "start_time": "2024-12-24T22:39:32.029Z"
   },
   {
    "duration": 15,
    "start_time": "2024-12-24T22:39:32.062Z"
   },
   {
    "duration": 27,
    "start_time": "2024-12-24T22:39:32.079Z"
   },
   {
    "duration": 20,
    "start_time": "2024-12-24T22:39:32.108Z"
   },
   {
    "duration": 12,
    "start_time": "2024-12-24T22:39:32.129Z"
   },
   {
    "duration": 8,
    "start_time": "2024-12-24T22:39:32.143Z"
   },
   {
    "duration": 40,
    "start_time": "2024-12-24T22:39:32.152Z"
   },
   {
    "duration": 13,
    "start_time": "2024-12-24T22:39:32.194Z"
   },
   {
    "duration": 1132,
    "start_time": "2024-12-24T22:39:32.209Z"
   },
   {
    "duration": 306,
    "start_time": "2024-12-24T22:39:33.342Z"
   },
   {
    "duration": 88,
    "start_time": "2024-12-24T22:39:33.651Z"
   },
   {
    "duration": 397,
    "start_time": "2024-12-24T22:39:33.741Z"
   },
   {
    "duration": 239,
    "start_time": "2024-12-24T22:39:34.139Z"
   },
   {
    "duration": 8,
    "start_time": "2024-12-24T22:39:34.380Z"
   },
   {
    "duration": 17,
    "start_time": "2024-12-24T22:39:34.390Z"
   },
   {
    "duration": 23,
    "start_time": "2024-12-24T22:39:34.408Z"
   },
   {
    "duration": 537,
    "start_time": "2024-12-24T22:39:34.433Z"
   },
   {
    "duration": 4,
    "start_time": "2024-12-24T22:39:34.971Z"
   },
   {
    "duration": 181,
    "start_time": "2024-12-24T22:40:34.909Z"
   },
   {
    "duration": 99,
    "start_time": "2024-12-24T22:41:53.614Z"
   },
   {
    "duration": 1360,
    "start_time": "2024-12-24T22:46:51.747Z"
   },
   {
    "duration": 139,
    "start_time": "2024-12-24T22:47:20.112Z"
   },
   {
    "duration": 126,
    "start_time": "2024-12-24T22:47:39.503Z"
   },
   {
    "duration": 3,
    "start_time": "2024-12-24T22:47:50.211Z"
   },
   {
    "duration": 2092,
    "start_time": "2024-12-24T22:47:50.218Z"
   },
   {
    "duration": 9,
    "start_time": "2024-12-24T22:47:52.312Z"
   },
   {
    "duration": 12,
    "start_time": "2024-12-24T22:47:52.330Z"
   },
   {
    "duration": 8,
    "start_time": "2024-12-24T22:47:52.344Z"
   },
   {
    "duration": 25,
    "start_time": "2024-12-24T22:47:52.353Z"
   },
   {
    "duration": 22,
    "start_time": "2024-12-24T22:47:52.380Z"
   },
   {
    "duration": 103,
    "start_time": "2024-12-24T22:47:52.431Z"
   },
   {
    "duration": 8,
    "start_time": "2024-12-24T22:47:52.535Z"
   },
   {
    "duration": 20,
    "start_time": "2024-12-24T22:47:52.544Z"
   },
   {
    "duration": 9,
    "start_time": "2024-12-24T22:47:52.567Z"
   },
   {
    "duration": 15,
    "start_time": "2024-12-24T22:47:52.578Z"
   },
   {
    "duration": 19,
    "start_time": "2024-12-24T22:47:52.595Z"
   },
   {
    "duration": 9,
    "start_time": "2024-12-24T22:47:52.631Z"
   },
   {
    "duration": 9,
    "start_time": "2024-12-24T22:47:52.642Z"
   },
   {
    "duration": 50,
    "start_time": "2024-12-24T22:47:52.652Z"
   },
   {
    "duration": 28,
    "start_time": "2024-12-24T22:47:52.703Z"
   },
   {
    "duration": 743,
    "start_time": "2024-12-24T22:47:52.733Z"
   },
   {
    "duration": 161,
    "start_time": "2024-12-24T22:47:53.478Z"
   },
   {
    "duration": 35,
    "start_time": "2024-12-24T22:47:53.640Z"
   },
   {
    "duration": 25,
    "start_time": "2024-12-24T22:47:53.676Z"
   },
   {
    "duration": 0,
    "start_time": "2024-12-24T22:47:53.703Z"
   },
   {
    "duration": 0,
    "start_time": "2024-12-24T22:47:53.704Z"
   },
   {
    "duration": 0,
    "start_time": "2024-12-24T22:47:53.705Z"
   },
   {
    "duration": 28,
    "start_time": "2024-12-24T22:49:19.046Z"
   },
   {
    "duration": 30,
    "start_time": "2024-12-24T22:49:52.037Z"
   },
   {
    "duration": 27,
    "start_time": "2024-12-24T22:50:29.104Z"
   },
   {
    "duration": 16,
    "start_time": "2024-12-24T22:51:25.304Z"
   },
   {
    "duration": 29,
    "start_time": "2024-12-24T22:51:57.410Z"
   },
   {
    "duration": 19,
    "start_time": "2024-12-24T22:52:41.665Z"
   },
   {
    "duration": 108,
    "start_time": "2024-12-24T22:54:21.096Z"
   },
   {
    "duration": 24,
    "start_time": "2024-12-24T22:54:38.308Z"
   },
   {
    "duration": 14,
    "start_time": "2024-12-24T22:55:03.149Z"
   },
   {
    "duration": 64,
    "start_time": "2024-12-24T22:55:21.309Z"
   },
   {
    "duration": 20,
    "start_time": "2024-12-24T22:56:22.003Z"
   },
   {
    "duration": 12,
    "start_time": "2024-12-24T22:56:40.424Z"
   },
   {
    "duration": 93,
    "start_time": "2024-12-24T22:57:42.207Z"
   },
   {
    "duration": 16,
    "start_time": "2024-12-24T22:57:57.167Z"
   },
   {
    "duration": 16,
    "start_time": "2024-12-24T22:58:05.085Z"
   },
   {
    "duration": 14,
    "start_time": "2024-12-24T22:58:45.419Z"
   },
   {
    "duration": 13,
    "start_time": "2024-12-24T22:58:58.033Z"
   },
   {
    "duration": 133,
    "start_time": "2024-12-24T22:59:02.649Z"
   },
   {
    "duration": 20,
    "start_time": "2024-12-24T22:59:40.279Z"
   },
   {
    "duration": 71,
    "start_time": "2024-12-24T23:00:08.236Z"
   },
   {
    "duration": 77,
    "start_time": "2024-12-24T23:00:52.111Z"
   },
   {
    "duration": 66,
    "start_time": "2024-12-24T23:01:36.134Z"
   },
   {
    "duration": 2,
    "start_time": "2024-12-24T23:04:53.787Z"
   },
   {
    "duration": 2629,
    "start_time": "2024-12-24T23:04:53.791Z"
   },
   {
    "duration": 10,
    "start_time": "2024-12-24T23:04:56.422Z"
   },
   {
    "duration": 16,
    "start_time": "2024-12-24T23:04:56.434Z"
   },
   {
    "duration": 8,
    "start_time": "2024-12-24T23:04:56.452Z"
   },
   {
    "duration": 25,
    "start_time": "2024-12-24T23:04:56.462Z"
   },
   {
    "duration": 102,
    "start_time": "2024-12-24T23:04:56.489Z"
   },
   {
    "duration": 123,
    "start_time": "2024-12-24T23:04:56.593Z"
   },
   {
    "duration": 13,
    "start_time": "2024-12-24T23:04:56.718Z"
   },
   {
    "duration": 23,
    "start_time": "2024-12-24T23:04:56.734Z"
   },
   {
    "duration": 12,
    "start_time": "2024-12-24T23:04:56.758Z"
   },
   {
    "duration": 13,
    "start_time": "2024-12-24T23:04:56.771Z"
   },
   {
    "duration": 14,
    "start_time": "2024-12-24T23:04:56.786Z"
   },
   {
    "duration": 42,
    "start_time": "2024-12-24T23:04:56.802Z"
   },
   {
    "duration": 10,
    "start_time": "2024-12-24T23:04:56.846Z"
   },
   {
    "duration": 52,
    "start_time": "2024-12-24T23:04:56.857Z"
   },
   {
    "duration": 23,
    "start_time": "2024-12-24T23:04:56.911Z"
   },
   {
    "duration": 824,
    "start_time": "2024-12-24T23:04:56.936Z"
   },
   {
    "duration": 182,
    "start_time": "2024-12-24T23:04:57.762Z"
   },
   {
    "duration": 40,
    "start_time": "2024-12-24T23:04:57.946Z"
   },
   {
    "duration": 48,
    "start_time": "2024-12-24T23:04:57.987Z"
   },
   {
    "duration": 0,
    "start_time": "2024-12-24T23:04:58.037Z"
   },
   {
    "duration": 0,
    "start_time": "2024-12-24T23:04:58.038Z"
   },
   {
    "duration": 23,
    "start_time": "2024-12-24T23:06:46.180Z"
   },
   {
    "duration": 34,
    "start_time": "2024-12-24T23:07:07.388Z"
   },
   {
    "duration": 64,
    "start_time": "2024-12-24T23:07:51.609Z"
   },
   {
    "duration": 1694,
    "start_time": "2024-12-24T23:09:24.310Z"
   },
   {
    "duration": 13,
    "start_time": "2024-12-24T23:10:29.511Z"
   },
   {
    "duration": 12,
    "start_time": "2024-12-24T23:10:35.292Z"
   },
   {
    "duration": 13,
    "start_time": "2024-12-24T23:10:51.098Z"
   },
   {
    "duration": 12,
    "start_time": "2024-12-24T23:11:09.739Z"
   },
   {
    "duration": 12,
    "start_time": "2024-12-24T23:11:27.209Z"
   },
   {
    "duration": 25,
    "start_time": "2024-12-24T23:13:09.909Z"
   },
   {
    "duration": 2025,
    "start_time": "2024-12-24T23:15:22.380Z"
   },
   {
    "duration": 3,
    "start_time": "2024-12-24T23:15:29.659Z"
   },
   {
    "duration": 2903,
    "start_time": "2024-12-24T23:15:29.664Z"
   },
   {
    "duration": 9,
    "start_time": "2024-12-24T23:15:32.569Z"
   },
   {
    "duration": 87,
    "start_time": "2024-12-24T23:15:32.580Z"
   },
   {
    "duration": 12,
    "start_time": "2024-12-24T23:15:32.668Z"
   },
   {
    "duration": 48,
    "start_time": "2024-12-24T23:15:32.681Z"
   },
   {
    "duration": 51,
    "start_time": "2024-12-24T23:15:32.731Z"
   },
   {
    "duration": 120,
    "start_time": "2024-12-24T23:15:32.784Z"
   },
   {
    "duration": 8,
    "start_time": "2024-12-24T23:15:32.906Z"
   },
   {
    "duration": 155,
    "start_time": "2024-12-24T23:15:32.916Z"
   },
   {
    "duration": 24,
    "start_time": "2024-12-24T23:15:33.073Z"
   },
   {
    "duration": 27,
    "start_time": "2024-12-24T23:15:33.099Z"
   },
   {
    "duration": 23,
    "start_time": "2024-12-24T23:15:33.128Z"
   },
   {
    "duration": 19,
    "start_time": "2024-12-24T23:15:33.153Z"
   },
   {
    "duration": 10,
    "start_time": "2024-12-24T23:15:33.175Z"
   },
   {
    "duration": 55,
    "start_time": "2024-12-24T23:15:33.187Z"
   },
   {
    "duration": 14,
    "start_time": "2024-12-24T23:15:33.244Z"
   },
   {
    "duration": 774,
    "start_time": "2024-12-24T23:15:33.260Z"
   },
   {
    "duration": 167,
    "start_time": "2024-12-24T23:15:34.036Z"
   },
   {
    "duration": 46,
    "start_time": "2024-12-24T23:15:34.205Z"
   },
   {
    "duration": 26,
    "start_time": "2024-12-24T23:15:34.252Z"
   },
   {
    "duration": 1675,
    "start_time": "2024-12-24T23:15:34.280Z"
   },
   {
    "duration": 0,
    "start_time": "2024-12-24T23:15:35.957Z"
   },
   {
    "duration": 0,
    "start_time": "2024-12-24T23:15:35.958Z"
   },
   {
    "duration": 1875,
    "start_time": "2024-12-24T23:16:03.684Z"
   },
   {
    "duration": 1833,
    "start_time": "2024-12-24T23:16:17.058Z"
   },
   {
    "duration": 15,
    "start_time": "2024-12-24T23:18:02.424Z"
   },
   {
    "duration": 1853,
    "start_time": "2024-12-24T23:20:57.867Z"
   },
   {
    "duration": 219,
    "start_time": "2024-12-24T23:21:14.747Z"
   },
   {
    "duration": 2963,
    "start_time": "2024-12-24T23:21:23.098Z"
   },
   {
    "duration": 1844,
    "start_time": "2024-12-24T23:21:42.667Z"
   },
   {
    "duration": 1749,
    "start_time": "2024-12-24T23:23:57.408Z"
   },
   {
    "duration": 86,
    "start_time": "2024-12-24T23:24:24.595Z"
   },
   {
    "duration": 133,
    "start_time": "2024-12-24T23:24:32.887Z"
   },
   {
    "duration": 3,
    "start_time": "2024-12-24T23:25:10.715Z"
   },
   {
    "duration": 2246,
    "start_time": "2024-12-24T23:25:10.719Z"
   },
   {
    "duration": 9,
    "start_time": "2024-12-24T23:25:12.967Z"
   },
   {
    "duration": 14,
    "start_time": "2024-12-24T23:25:12.978Z"
   },
   {
    "duration": 7,
    "start_time": "2024-12-24T23:25:12.994Z"
   },
   {
    "duration": 38,
    "start_time": "2024-12-24T23:25:13.003Z"
   },
   {
    "duration": 65,
    "start_time": "2024-12-24T23:25:13.043Z"
   },
   {
    "duration": 104,
    "start_time": "2024-12-24T23:25:13.110Z"
   },
   {
    "duration": 14,
    "start_time": "2024-12-24T23:25:13.215Z"
   },
   {
    "duration": 21,
    "start_time": "2024-12-24T23:25:13.233Z"
   },
   {
    "duration": 16,
    "start_time": "2024-12-24T23:25:13.255Z"
   },
   {
    "duration": 19,
    "start_time": "2024-12-24T23:25:13.273Z"
   },
   {
    "duration": 9,
    "start_time": "2024-12-24T23:25:13.295Z"
   },
   {
    "duration": 29,
    "start_time": "2024-12-24T23:25:13.306Z"
   },
   {
    "duration": 9,
    "start_time": "2024-12-24T23:25:13.337Z"
   },
   {
    "duration": 41,
    "start_time": "2024-12-24T23:25:13.348Z"
   },
   {
    "duration": 8,
    "start_time": "2024-12-24T23:25:13.391Z"
   },
   {
    "duration": 778,
    "start_time": "2024-12-24T23:25:13.400Z"
   },
   {
    "duration": 170,
    "start_time": "2024-12-24T23:25:14.179Z"
   },
   {
    "duration": 37,
    "start_time": "2024-12-24T23:25:14.351Z"
   },
   {
    "duration": 47,
    "start_time": "2024-12-24T23:25:14.390Z"
   },
   {
    "duration": 189,
    "start_time": "2024-12-24T23:25:14.439Z"
   },
   {
    "duration": 223,
    "start_time": "2024-12-24T23:25:14.630Z"
   },
   {
    "duration": 551,
    "start_time": "2024-12-24T23:25:14.855Z"
   },
   {
    "duration": 151,
    "start_time": "2024-12-24T23:25:49.310Z"
   },
   {
    "duration": 83,
    "start_time": "2024-12-24T23:26:43.290Z"
   },
   {
    "duration": 29,
    "start_time": "2024-12-24T23:27:11.926Z"
   },
   {
    "duration": 93,
    "start_time": "2024-12-24T23:27:17.499Z"
   },
   {
    "duration": 82,
    "start_time": "2024-12-24T23:27:51.225Z"
   },
   {
    "duration": 3,
    "start_time": "2024-12-24T23:28:03.633Z"
   },
   {
    "duration": 1961,
    "start_time": "2024-12-24T23:28:03.638Z"
   },
   {
    "duration": 8,
    "start_time": "2024-12-24T23:28:05.601Z"
   },
   {
    "duration": 34,
    "start_time": "2024-12-24T23:28:05.611Z"
   },
   {
    "duration": 16,
    "start_time": "2024-12-24T23:28:05.647Z"
   },
   {
    "duration": 24,
    "start_time": "2024-12-24T23:28:05.664Z"
   },
   {
    "duration": 24,
    "start_time": "2024-12-24T23:28:05.690Z"
   },
   {
    "duration": 104,
    "start_time": "2024-12-24T23:28:05.715Z"
   },
   {
    "duration": 11,
    "start_time": "2024-12-24T23:28:05.821Z"
   },
   {
    "duration": 59,
    "start_time": "2024-12-24T23:28:05.835Z"
   },
   {
    "duration": 47,
    "start_time": "2024-12-24T23:28:05.896Z"
   },
   {
    "duration": 71,
    "start_time": "2024-12-24T23:28:05.944Z"
   },
   {
    "duration": 35,
    "start_time": "2024-12-24T23:28:06.017Z"
   },
   {
    "duration": 22,
    "start_time": "2024-12-24T23:28:06.053Z"
   },
   {
    "duration": 10,
    "start_time": "2024-12-24T23:28:06.077Z"
   },
   {
    "duration": 53,
    "start_time": "2024-12-24T23:28:06.088Z"
   },
   {
    "duration": 11,
    "start_time": "2024-12-24T23:28:06.142Z"
   },
   {
    "duration": 821,
    "start_time": "2024-12-24T23:28:06.155Z"
   },
   {
    "duration": 161,
    "start_time": "2024-12-24T23:28:06.977Z"
   },
   {
    "duration": 36,
    "start_time": "2024-12-24T23:28:07.139Z"
   },
   {
    "duration": 31,
    "start_time": "2024-12-24T23:28:07.177Z"
   },
   {
    "duration": 154,
    "start_time": "2024-12-24T23:28:07.230Z"
   },
   {
    "duration": 363,
    "start_time": "2024-12-24T23:28:07.385Z"
   },
   {
    "duration": 1180,
    "start_time": "2024-12-24T23:28:07.750Z"
   },
   {
    "duration": 2,
    "start_time": "2024-12-24T23:34:32.221Z"
   },
   {
    "duration": 2066,
    "start_time": "2024-12-24T23:34:32.229Z"
   },
   {
    "duration": 9,
    "start_time": "2024-12-24T23:34:34.297Z"
   },
   {
    "duration": 12,
    "start_time": "2024-12-24T23:34:34.307Z"
   },
   {
    "duration": 7,
    "start_time": "2024-12-24T23:34:34.330Z"
   },
   {
    "duration": 32,
    "start_time": "2024-12-24T23:34:34.339Z"
   },
   {
    "duration": 24,
    "start_time": "2024-12-24T23:34:34.373Z"
   },
   {
    "duration": 140,
    "start_time": "2024-12-24T23:34:34.399Z"
   },
   {
    "duration": 8,
    "start_time": "2024-12-24T23:34:34.540Z"
   },
   {
    "duration": 26,
    "start_time": "2024-12-24T23:34:34.550Z"
   },
   {
    "duration": 10,
    "start_time": "2024-12-24T23:34:34.578Z"
   },
   {
    "duration": 48,
    "start_time": "2024-12-24T23:34:34.589Z"
   },
   {
    "duration": 89,
    "start_time": "2024-12-24T23:34:34.639Z"
   },
   {
    "duration": 12,
    "start_time": "2024-12-24T23:34:34.730Z"
   },
   {
    "duration": 9,
    "start_time": "2024-12-24T23:34:34.744Z"
   },
   {
    "duration": 57,
    "start_time": "2024-12-24T23:34:34.754Z"
   },
   {
    "duration": 24,
    "start_time": "2024-12-24T23:34:34.813Z"
   },
   {
    "duration": 734,
    "start_time": "2024-12-24T23:34:34.838Z"
   },
   {
    "duration": 161,
    "start_time": "2024-12-24T23:34:35.574Z"
   },
   {
    "duration": 34,
    "start_time": "2024-12-24T23:34:35.737Z"
   },
   {
    "duration": 25,
    "start_time": "2024-12-24T23:34:35.773Z"
   },
   {
    "duration": 189,
    "start_time": "2024-12-24T23:34:35.799Z"
   },
   {
    "duration": 223,
    "start_time": "2024-12-24T23:34:35.989Z"
   },
   {
    "duration": 538,
    "start_time": "2024-12-24T23:34:36.214Z"
   },
   {
    "duration": 1438,
    "start_time": "2024-12-25T10:46:52.728Z"
   },
   {
    "duration": 1876,
    "start_time": "2024-12-25T10:46:54.169Z"
   },
   {
    "duration": 13,
    "start_time": "2024-12-25T10:46:56.047Z"
   },
   {
    "duration": 22,
    "start_time": "2024-12-25T10:46:56.061Z"
   },
   {
    "duration": 7,
    "start_time": "2024-12-25T10:46:56.086Z"
   },
   {
    "duration": 26,
    "start_time": "2024-12-25T10:46:56.095Z"
   },
   {
    "duration": 24,
    "start_time": "2024-12-25T10:46:56.122Z"
   },
   {
    "duration": 115,
    "start_time": "2024-12-25T10:46:56.174Z"
   },
   {
    "duration": 7,
    "start_time": "2024-12-25T10:46:56.291Z"
   },
   {
    "duration": 26,
    "start_time": "2024-12-25T10:46:56.299Z"
   },
   {
    "duration": 28,
    "start_time": "2024-12-25T10:46:56.326Z"
   },
   {
    "duration": 39,
    "start_time": "2024-12-25T10:46:56.355Z"
   },
   {
    "duration": 6,
    "start_time": "2024-12-25T10:46:56.396Z"
   },
   {
    "duration": 18,
    "start_time": "2024-12-25T10:46:56.405Z"
   },
   {
    "duration": 9,
    "start_time": "2024-12-25T10:46:56.424Z"
   },
   {
    "duration": 49,
    "start_time": "2024-12-25T10:46:56.434Z"
   },
   {
    "duration": 9,
    "start_time": "2024-12-25T10:46:56.485Z"
   },
   {
    "duration": 887,
    "start_time": "2024-12-25T10:46:56.495Z"
   },
   {
    "duration": 198,
    "start_time": "2024-12-25T10:46:57.384Z"
   },
   {
    "duration": 35,
    "start_time": "2024-12-25T10:46:57.584Z"
   },
   {
    "duration": 27,
    "start_time": "2024-12-25T10:46:57.621Z"
   },
   {
    "duration": 206,
    "start_time": "2024-12-25T10:46:57.649Z"
   },
   {
    "duration": 256,
    "start_time": "2024-12-25T10:46:57.857Z"
   },
   {
    "duration": 598,
    "start_time": "2024-12-25T10:46:58.115Z"
   },
   {
    "duration": 1424,
    "start_time": "2024-12-27T18:52:34.738Z"
   },
   {
    "duration": 2469,
    "start_time": "2024-12-27T18:52:36.165Z"
   },
   {
    "duration": 17,
    "start_time": "2024-12-27T18:52:38.637Z"
   },
   {
    "duration": 13,
    "start_time": "2024-12-27T18:52:38.656Z"
   },
   {
    "duration": 12,
    "start_time": "2024-12-27T18:52:38.721Z"
   },
   {
    "duration": 96,
    "start_time": "2024-12-27T18:52:38.737Z"
   },
   {
    "duration": 36,
    "start_time": "2024-12-27T18:52:38.834Z"
   },
   {
    "duration": 354,
    "start_time": "2024-12-27T18:52:38.872Z"
   },
   {
    "duration": 15,
    "start_time": "2024-12-27T18:52:39.230Z"
   },
   {
    "duration": 88,
    "start_time": "2024-12-27T18:52:39.248Z"
   },
   {
    "duration": 13,
    "start_time": "2024-12-27T18:52:39.338Z"
   },
   {
    "duration": 13,
    "start_time": "2024-12-27T18:52:39.353Z"
   },
   {
    "duration": 67,
    "start_time": "2024-12-27T18:52:39.368Z"
   },
   {
    "duration": 13,
    "start_time": "2024-12-27T18:52:39.437Z"
   },
   {
    "duration": 9,
    "start_time": "2024-12-27T18:52:39.451Z"
   },
   {
    "duration": 99,
    "start_time": "2024-12-27T18:52:39.462Z"
   },
   {
    "duration": 9,
    "start_time": "2024-12-27T18:52:39.562Z"
   },
   {
    "duration": 869,
    "start_time": "2024-12-27T18:52:39.572Z"
   },
   {
    "duration": 168,
    "start_time": "2024-12-27T18:52:40.442Z"
   },
   {
    "duration": 46,
    "start_time": "2024-12-27T18:52:40.611Z"
   },
   {
    "duration": 70,
    "start_time": "2024-12-27T18:52:40.659Z"
   },
   {
    "duration": 28,
    "start_time": "2024-12-27T18:52:40.730Z"
   },
   {
    "duration": 257,
    "start_time": "2024-12-27T18:52:40.760Z"
   },
   {
    "duration": 263,
    "start_time": "2024-12-27T18:52:41.019Z"
   },
   {
    "duration": 585,
    "start_time": "2024-12-27T18:52:41.283Z"
   },
   {
    "duration": 1382,
    "start_time": "2025-01-01T21:23:41.104Z"
   },
   {
    "duration": 2654,
    "start_time": "2025-01-01T21:23:42.488Z"
   },
   {
    "duration": 13,
    "start_time": "2025-01-01T21:23:45.144Z"
   },
   {
    "duration": 88,
    "start_time": "2025-01-01T21:23:45.158Z"
   },
   {
    "duration": 11,
    "start_time": "2025-01-01T21:23:45.248Z"
   },
   {
    "duration": 95,
    "start_time": "2025-01-01T21:23:45.261Z"
   },
   {
    "duration": 81,
    "start_time": "2025-01-01T21:23:45.357Z"
   },
   {
    "duration": 201,
    "start_time": "2025-01-01T21:23:45.440Z"
   },
   {
    "duration": 7,
    "start_time": "2025-01-01T21:23:45.643Z"
   },
   {
    "duration": 21,
    "start_time": "2025-01-01T21:23:45.652Z"
   },
   {
    "duration": 64,
    "start_time": "2025-01-01T21:23:45.674Z"
   },
   {
    "duration": 12,
    "start_time": "2025-01-01T21:23:45.740Z"
   },
   {
    "duration": 7,
    "start_time": "2025-01-01T21:23:45.753Z"
   },
   {
    "duration": 10,
    "start_time": "2025-01-01T21:23:45.761Z"
   },
   {
    "duration": 12,
    "start_time": "2025-01-01T21:23:45.772Z"
   },
   {
    "duration": 40,
    "start_time": "2025-01-01T21:23:45.838Z"
   },
   {
    "duration": 61,
    "start_time": "2025-01-01T21:23:45.880Z"
   },
   {
    "duration": 1050,
    "start_time": "2025-01-01T21:23:45.942Z"
   },
   {
    "duration": 176,
    "start_time": "2025-01-01T21:23:46.994Z"
   },
   {
    "duration": 33,
    "start_time": "2025-01-01T21:23:47.171Z"
   },
   {
    "duration": 63,
    "start_time": "2025-01-01T21:23:47.206Z"
   },
   {
    "duration": 24,
    "start_time": "2025-01-01T21:23:47.270Z"
   },
   {
    "duration": 217,
    "start_time": "2025-01-01T21:23:47.296Z"
   },
   {
    "duration": 241,
    "start_time": "2025-01-01T21:23:47.515Z"
   },
   {
    "duration": 579,
    "start_time": "2025-01-01T21:23:47.758Z"
   },
   {
    "duration": 51,
    "start_time": "2025-01-01T21:27:29.197Z"
   },
   {
    "duration": 54,
    "start_time": "2025-01-01T21:28:21.501Z"
   },
   {
    "duration": 324,
    "start_time": "2025-01-01T21:31:27.713Z"
   },
   {
    "duration": 170,
    "start_time": "2025-01-01T21:32:21.437Z"
   },
   {
    "duration": 19,
    "start_time": "2025-01-01T21:32:35.425Z"
   },
   {
    "duration": 20,
    "start_time": "2025-01-01T21:33:09.304Z"
   },
   {
    "duration": 259,
    "start_time": "2025-01-01T21:36:19.395Z"
   },
   {
    "duration": 17,
    "start_time": "2025-01-01T21:36:21.115Z"
   },
   {
    "duration": 23,
    "start_time": "2025-01-01T21:36:24.764Z"
   },
   {
    "duration": 1558,
    "start_time": "2025-01-01T21:36:36.688Z"
   },
   {
    "duration": 131,
    "start_time": "2025-01-01T21:37:09.736Z"
   },
   {
    "duration": 49,
    "start_time": "2025-01-01T21:39:17.950Z"
   },
   {
    "duration": 14,
    "start_time": "2025-01-01T21:39:49.686Z"
   },
   {
    "duration": 71,
    "start_time": "2025-01-01T21:45:40.411Z"
   },
   {
    "duration": 156,
    "start_time": "2025-01-01T21:45:57.631Z"
   },
   {
    "duration": 13,
    "start_time": "2025-01-01T21:47:33.760Z"
   },
   {
    "duration": 213,
    "start_time": "2025-01-01T21:48:53.861Z"
   },
   {
    "duration": 242,
    "start_time": "2025-01-01T21:53:35.071Z"
   },
   {
    "duration": 288,
    "start_time": "2025-01-01T21:57:26.994Z"
   },
   {
    "duration": 24,
    "start_time": "2025-01-01T21:59:28.829Z"
   },
   {
    "duration": 2,
    "start_time": "2025-01-01T21:59:40.553Z"
   },
   {
    "duration": 3,
    "start_time": "2025-01-01T21:59:44.198Z"
   },
   {
    "duration": 4,
    "start_time": "2025-01-01T22:00:11.608Z"
   },
   {
    "duration": 1510,
    "start_time": "2025-01-01T22:03:26.199Z"
   },
   {
    "duration": 56,
    "start_time": "2025-01-01T22:04:37.035Z"
   },
   {
    "duration": 354,
    "start_time": "2025-01-01T22:04:37.881Z"
   },
   {
    "duration": 4,
    "start_time": "2025-01-01T22:04:57.838Z"
   },
   {
    "duration": 305,
    "start_time": "2025-01-01T22:05:01.206Z"
   },
   {
    "duration": 295,
    "start_time": "2025-01-01T22:05:55.087Z"
   },
   {
    "duration": 302,
    "start_time": "2025-01-01T22:07:15.226Z"
   },
   {
    "duration": 316,
    "start_time": "2025-01-01T22:07:20.633Z"
   },
   {
    "duration": 316,
    "start_time": "2025-01-01T22:07:31.452Z"
   },
   {
    "duration": 425,
    "start_time": "2025-01-01T22:07:37.949Z"
   },
   {
    "duration": 293,
    "start_time": "2025-01-01T22:08:03.413Z"
   },
   {
    "duration": 291,
    "start_time": "2025-01-01T22:08:43.597Z"
   },
   {
    "duration": 97,
    "start_time": "2025-01-01T22:11:10.379Z"
   },
   {
    "duration": 114,
    "start_time": "2025-01-01T22:11:18.568Z"
   },
   {
    "duration": 302,
    "start_time": "2025-01-01T22:11:29.354Z"
   },
   {
    "duration": 2582,
    "start_time": "2025-01-01T22:23:12.778Z"
   },
   {
    "duration": 3,
    "start_time": "2025-01-01T22:23:44.382Z"
   },
   {
    "duration": 3074,
    "start_time": "2025-01-01T22:25:12.673Z"
   },
   {
    "duration": 271,
    "start_time": "2025-01-01T22:29:14.628Z"
   },
   {
    "duration": 4,
    "start_time": "2025-01-01T22:29:38.668Z"
   },
   {
    "duration": 2486,
    "start_time": "2025-01-01T22:29:59.037Z"
   },
   {
    "duration": 249,
    "start_time": "2025-01-01T22:30:10.852Z"
   },
   {
    "duration": 4,
    "start_time": "2025-01-01T22:30:24.330Z"
   },
   {
    "duration": 20,
    "start_time": "2025-01-01T22:31:02.648Z"
   },
   {
    "duration": 1403,
    "start_time": "2025-01-01T22:43:03.442Z"
   },
   {
    "duration": 96,
    "start_time": "2025-01-01T22:44:51.788Z"
   },
   {
    "duration": 251,
    "start_time": "2025-01-01T22:46:26.579Z"
   },
   {
    "duration": 154,
    "start_time": "2025-01-01T22:47:41.756Z"
   },
   {
    "duration": 112,
    "start_time": "2025-01-01T22:47:57.172Z"
   },
   {
    "duration": 107,
    "start_time": "2025-01-01T22:48:24.116Z"
   },
   {
    "duration": 3607,
    "start_time": "2025-01-01T22:48:34.183Z"
   },
   {
    "duration": 3756,
    "start_time": "2025-01-01T22:48:38.682Z"
   },
   {
    "duration": 9,
    "start_time": "2025-01-01T22:49:22.977Z"
   },
   {
    "duration": 20,
    "start_time": "2025-01-01T22:49:59.484Z"
   },
   {
    "duration": 19,
    "start_time": "2025-01-01T22:50:11.623Z"
   },
   {
    "duration": 3,
    "start_time": "2025-01-01T22:50:31.901Z"
   },
   {
    "duration": 2459,
    "start_time": "2025-01-01T22:50:31.907Z"
   },
   {
    "duration": 9,
    "start_time": "2025-01-01T22:50:34.368Z"
   },
   {
    "duration": 68,
    "start_time": "2025-01-01T22:50:34.378Z"
   },
   {
    "duration": 24,
    "start_time": "2025-01-01T22:50:34.447Z"
   },
   {
    "duration": 72,
    "start_time": "2025-01-01T22:50:34.473Z"
   },
   {
    "duration": 23,
    "start_time": "2025-01-01T22:50:34.546Z"
   },
   {
    "duration": 205,
    "start_time": "2025-01-01T22:50:34.571Z"
   },
   {
    "duration": 7,
    "start_time": "2025-01-01T22:50:34.778Z"
   },
   {
    "duration": 61,
    "start_time": "2025-01-01T22:50:34.786Z"
   },
   {
    "duration": 10,
    "start_time": "2025-01-01T22:50:34.848Z"
   },
   {
    "duration": 16,
    "start_time": "2025-01-01T22:50:34.859Z"
   },
   {
    "duration": 32,
    "start_time": "2025-01-01T22:50:34.877Z"
   },
   {
    "duration": 23,
    "start_time": "2025-01-01T22:50:34.910Z"
   },
   {
    "duration": 8,
    "start_time": "2025-01-01T22:50:34.936Z"
   },
   {
    "duration": 47,
    "start_time": "2025-01-01T22:50:34.946Z"
   },
   {
    "duration": 9,
    "start_time": "2025-01-01T22:50:34.995Z"
   },
   {
    "duration": 752,
    "start_time": "2025-01-01T22:50:35.006Z"
   },
   {
    "duration": 168,
    "start_time": "2025-01-01T22:50:35.760Z"
   },
   {
    "duration": 64,
    "start_time": "2025-01-01T22:50:35.930Z"
   },
   {
    "duration": 43,
    "start_time": "2025-01-01T22:50:35.996Z"
   },
   {
    "duration": 164,
    "start_time": "2025-01-01T22:50:36.041Z"
   },
   {
    "duration": 254,
    "start_time": "2025-01-01T22:50:36.208Z"
   },
   {
    "duration": 18,
    "start_time": "2025-01-01T22:50:36.464Z"
   },
   {
    "duration": 33,
    "start_time": "2025-01-01T22:50:36.484Z"
   },
   {
    "duration": 69,
    "start_time": "2025-01-01T22:50:36.519Z"
   },
   {
    "duration": 22,
    "start_time": "2025-01-01T22:50:36.590Z"
   },
   {
    "duration": 117,
    "start_time": "2025-01-01T22:50:36.614Z"
   },
   {
    "duration": 3,
    "start_time": "2025-01-01T22:50:36.736Z"
   },
   {
    "duration": 75,
    "start_time": "2025-01-01T22:50:36.741Z"
   },
   {
    "duration": 4,
    "start_time": "2025-01-01T22:50:36.818Z"
   },
   {
    "duration": 332,
    "start_time": "2025-01-01T22:50:36.824Z"
   },
   {
    "duration": 115,
    "start_time": "2025-01-01T22:50:37.158Z"
   },
   {
    "duration": 3892,
    "start_time": "2025-01-01T22:50:37.275Z"
   },
   {
    "duration": 9,
    "start_time": "2025-01-01T22:50:41.168Z"
   },
   {
    "duration": 21,
    "start_time": "2025-01-01T22:50:41.178Z"
   },
   {
    "duration": 3201,
    "start_time": "2025-01-01T22:50:41.201Z"
   },
   {
    "duration": 275,
    "start_time": "2025-01-01T22:50:44.404Z"
   },
   {
    "duration": 3,
    "start_time": "2025-01-01T22:50:44.681Z"
   },
   {
    "duration": 2528,
    "start_time": "2025-01-01T22:50:44.686Z"
   },
   {
    "duration": 257,
    "start_time": "2025-01-01T22:50:47.215Z"
   },
   {
    "duration": 3,
    "start_time": "2025-01-01T22:50:47.476Z"
   },
   {
    "duration": 30,
    "start_time": "2025-01-01T22:50:47.481Z"
   },
   {
    "duration": 611,
    "start_time": "2025-01-01T22:50:47.512Z"
   },
   {
    "duration": 1453,
    "start_time": "2025-01-03T12:16:04.749Z"
   },
   {
    "duration": 2060,
    "start_time": "2025-01-03T12:16:06.204Z"
   },
   {
    "duration": 13,
    "start_time": "2025-01-03T12:16:08.265Z"
   },
   {
    "duration": 12,
    "start_time": "2025-01-03T12:16:08.281Z"
   },
   {
    "duration": 16,
    "start_time": "2025-01-03T12:16:08.295Z"
   },
   {
    "duration": 44,
    "start_time": "2025-01-03T12:16:08.313Z"
   },
   {
    "duration": 32,
    "start_time": "2025-01-03T12:16:08.359Z"
   },
   {
    "duration": 114,
    "start_time": "2025-01-03T12:16:08.392Z"
   },
   {
    "duration": 8,
    "start_time": "2025-01-03T12:16:08.508Z"
   },
   {
    "duration": 48,
    "start_time": "2025-01-03T12:16:08.518Z"
   },
   {
    "duration": 12,
    "start_time": "2025-01-03T12:16:08.568Z"
   },
   {
    "duration": 22,
    "start_time": "2025-01-03T12:16:08.581Z"
   },
   {
    "duration": 18,
    "start_time": "2025-01-03T12:16:08.604Z"
   },
   {
    "duration": 22,
    "start_time": "2025-01-03T12:16:08.624Z"
   },
   {
    "duration": 9,
    "start_time": "2025-01-03T12:16:08.648Z"
   },
   {
    "duration": 61,
    "start_time": "2025-01-03T12:16:08.659Z"
   },
   {
    "duration": 9,
    "start_time": "2025-01-03T12:16:08.722Z"
   },
   {
    "duration": 818,
    "start_time": "2025-01-03T12:16:08.732Z"
   },
   {
    "duration": 185,
    "start_time": "2025-01-03T12:16:09.552Z"
   },
   {
    "duration": 67,
    "start_time": "2025-01-03T12:16:09.741Z"
   },
   {
    "duration": 26,
    "start_time": "2025-01-03T12:16:09.810Z"
   },
   {
    "duration": 224,
    "start_time": "2025-01-03T12:16:09.838Z"
   },
   {
    "duration": 128,
    "start_time": "2025-01-03T12:16:10.064Z"
   },
   {
    "duration": 0,
    "start_time": "2025-01-03T12:16:10.204Z"
   },
   {
    "duration": 0,
    "start_time": "2025-01-03T12:16:10.205Z"
   },
   {
    "duration": 0,
    "start_time": "2025-01-03T12:16:10.207Z"
   },
   {
    "duration": 0,
    "start_time": "2025-01-03T12:16:10.208Z"
   },
   {
    "duration": 0,
    "start_time": "2025-01-03T12:16:10.209Z"
   },
   {
    "duration": 0,
    "start_time": "2025-01-03T12:16:10.211Z"
   },
   {
    "duration": 0,
    "start_time": "2025-01-03T12:16:10.212Z"
   },
   {
    "duration": 0,
    "start_time": "2025-01-03T12:16:10.213Z"
   },
   {
    "duration": 0,
    "start_time": "2025-01-03T12:16:10.214Z"
   },
   {
    "duration": 0,
    "start_time": "2025-01-03T12:16:10.216Z"
   },
   {
    "duration": 0,
    "start_time": "2025-01-03T12:16:10.217Z"
   },
   {
    "duration": 0,
    "start_time": "2025-01-03T12:16:10.218Z"
   },
   {
    "duration": 0,
    "start_time": "2025-01-03T12:16:10.219Z"
   },
   {
    "duration": 0,
    "start_time": "2025-01-03T12:16:10.221Z"
   },
   {
    "duration": 0,
    "start_time": "2025-01-03T12:16:10.222Z"
   },
   {
    "duration": 0,
    "start_time": "2025-01-03T12:16:10.223Z"
   },
   {
    "duration": 0,
    "start_time": "2025-01-03T12:16:10.224Z"
   },
   {
    "duration": 0,
    "start_time": "2025-01-03T12:16:10.226Z"
   },
   {
    "duration": 0,
    "start_time": "2025-01-03T12:16:10.270Z"
   },
   {
    "duration": 0,
    "start_time": "2025-01-03T12:16:10.272Z"
   },
   {
    "duration": 0,
    "start_time": "2025-01-03T12:16:10.274Z"
   },
   {
    "duration": 4,
    "start_time": "2025-01-03T12:17:35.362Z"
   },
   {
    "duration": 1974,
    "start_time": "2025-01-03T12:17:35.373Z"
   },
   {
    "duration": 9,
    "start_time": "2025-01-03T12:17:37.349Z"
   },
   {
    "duration": 26,
    "start_time": "2025-01-03T12:17:37.359Z"
   },
   {
    "duration": 11,
    "start_time": "2025-01-03T12:17:37.387Z"
   },
   {
    "duration": 29,
    "start_time": "2025-01-03T12:17:37.401Z"
   },
   {
    "duration": 53,
    "start_time": "2025-01-03T12:17:37.431Z"
   },
   {
    "duration": 112,
    "start_time": "2025-01-03T12:17:37.485Z"
   },
   {
    "duration": 8,
    "start_time": "2025-01-03T12:17:37.598Z"
   },
   {
    "duration": 22,
    "start_time": "2025-01-03T12:17:37.608Z"
   },
   {
    "duration": 14,
    "start_time": "2025-01-03T12:17:37.632Z"
   },
   {
    "duration": 31,
    "start_time": "2025-01-03T12:17:37.647Z"
   },
   {
    "duration": 7,
    "start_time": "2025-01-03T12:17:37.679Z"
   },
   {
    "duration": 12,
    "start_time": "2025-01-03T12:17:37.688Z"
   },
   {
    "duration": 69,
    "start_time": "2025-01-03T12:17:37.704Z"
   },
   {
    "duration": 42,
    "start_time": "2025-01-03T12:17:37.775Z"
   },
   {
    "duration": 9,
    "start_time": "2025-01-03T12:17:37.819Z"
   },
   {
    "duration": 786,
    "start_time": "2025-01-03T12:17:37.829Z"
   },
   {
    "duration": 173,
    "start_time": "2025-01-03T12:17:38.617Z"
   },
   {
    "duration": 66,
    "start_time": "2025-01-03T12:17:38.792Z"
   },
   {
    "duration": 28,
    "start_time": "2025-01-03T12:17:38.869Z"
   },
   {
    "duration": 194,
    "start_time": "2025-01-03T12:17:38.899Z"
   },
   {
    "duration": 315,
    "start_time": "2025-01-03T12:17:39.095Z"
   },
   {
    "duration": 17,
    "start_time": "2025-01-03T12:17:39.412Z"
   },
   {
    "duration": 24,
    "start_time": "2025-01-03T12:17:39.430Z"
   },
   {
    "duration": 71,
    "start_time": "2025-01-03T12:17:39.471Z"
   },
   {
    "duration": 30,
    "start_time": "2025-01-03T12:17:39.544Z"
   },
   {
    "duration": 114,
    "start_time": "2025-01-03T12:17:39.575Z"
   },
   {
    "duration": 4,
    "start_time": "2025-01-03T12:17:39.690Z"
   },
   {
    "duration": 91,
    "start_time": "2025-01-03T12:17:39.696Z"
   },
   {
    "duration": 4,
    "start_time": "2025-01-03T12:17:39.789Z"
   },
   {
    "duration": 384,
    "start_time": "2025-01-03T12:17:39.795Z"
   },
   {
    "duration": 116,
    "start_time": "2025-01-03T12:17:40.181Z"
   },
   {
    "duration": 4784,
    "start_time": "2025-01-03T12:17:40.299Z"
   },
   {
    "duration": 10,
    "start_time": "2025-01-03T12:17:45.085Z"
   },
   {
    "duration": 0,
    "start_time": "2025-01-03T12:17:45.097Z"
   },
   {
    "duration": 0,
    "start_time": "2025-01-03T12:17:45.098Z"
   },
   {
    "duration": 0,
    "start_time": "2025-01-03T12:17:45.099Z"
   },
   {
    "duration": 0,
    "start_time": "2025-01-03T12:17:45.100Z"
   },
   {
    "duration": 0,
    "start_time": "2025-01-03T12:17:45.102Z"
   },
   {
    "duration": 0,
    "start_time": "2025-01-03T12:17:45.103Z"
   },
   {
    "duration": 0,
    "start_time": "2025-01-03T12:17:45.104Z"
   },
   {
    "duration": 0,
    "start_time": "2025-01-03T12:17:45.105Z"
   },
   {
    "duration": 0,
    "start_time": "2025-01-03T12:17:45.107Z"
   },
   {
    "duration": 296,
    "start_time": "2025-01-03T12:19:14.550Z"
   },
   {
    "duration": 12,
    "start_time": "2025-01-03T12:19:29.926Z"
   },
   {
    "duration": 16,
    "start_time": "2025-01-03T12:19:32.428Z"
   },
   {
    "duration": 2,
    "start_time": "2025-01-03T12:33:13.259Z"
   },
   {
    "duration": 2413,
    "start_time": "2025-01-03T12:33:13.263Z"
   },
   {
    "duration": 8,
    "start_time": "2025-01-03T12:33:15.678Z"
   },
   {
    "duration": 22,
    "start_time": "2025-01-03T12:33:15.688Z"
   },
   {
    "duration": 7,
    "start_time": "2025-01-03T12:33:15.713Z"
   },
   {
    "duration": 166,
    "start_time": "2025-01-03T12:33:15.722Z"
   },
   {
    "duration": 22,
    "start_time": "2025-01-03T12:33:15.890Z"
   },
   {
    "duration": 216,
    "start_time": "2025-01-03T12:33:15.971Z"
   },
   {
    "duration": 8,
    "start_time": "2025-01-03T12:33:16.189Z"
   },
   {
    "duration": 97,
    "start_time": "2025-01-03T12:33:16.198Z"
   },
   {
    "duration": 10,
    "start_time": "2025-01-03T12:33:16.297Z"
   },
   {
    "duration": 62,
    "start_time": "2025-01-03T12:33:16.309Z"
   },
   {
    "duration": 8,
    "start_time": "2025-01-03T12:33:16.372Z"
   },
   {
    "duration": 14,
    "start_time": "2025-01-03T12:33:16.383Z"
   },
   {
    "duration": 15,
    "start_time": "2025-01-03T12:33:16.398Z"
   },
   {
    "duration": 93,
    "start_time": "2025-01-03T12:33:16.415Z"
   },
   {
    "duration": 63,
    "start_time": "2025-01-03T12:33:16.510Z"
   },
   {
    "duration": 939,
    "start_time": "2025-01-03T12:33:16.575Z"
   },
   {
    "duration": 162,
    "start_time": "2025-01-03T12:33:17.516Z"
   },
   {
    "duration": 57,
    "start_time": "2025-01-03T12:33:17.679Z"
   },
   {
    "duration": 43,
    "start_time": "2025-01-03T12:33:17.737Z"
   },
   {
    "duration": 250,
    "start_time": "2025-01-03T12:33:17.782Z"
   },
   {
    "duration": 273,
    "start_time": "2025-01-03T12:33:18.034Z"
   },
   {
    "duration": 12,
    "start_time": "2025-01-03T12:33:18.309Z"
   },
   {
    "duration": 16,
    "start_time": "2025-01-03T12:33:18.322Z"
   },
   {
    "duration": 77,
    "start_time": "2025-01-03T12:33:18.339Z"
   },
   {
    "duration": 23,
    "start_time": "2025-01-03T12:33:18.418Z"
   },
   {
    "duration": 111,
    "start_time": "2025-01-03T12:33:18.442Z"
   },
   {
    "duration": 2,
    "start_time": "2025-01-03T12:33:18.555Z"
   },
   {
    "duration": 79,
    "start_time": "2025-01-03T12:33:18.559Z"
   },
   {
    "duration": 4,
    "start_time": "2025-01-03T12:33:18.639Z"
   },
   {
    "duration": 331,
    "start_time": "2025-01-03T12:33:18.645Z"
   },
   {
    "duration": 292,
    "start_time": "2025-01-03T12:33:18.978Z"
   },
   {
    "duration": 0,
    "start_time": "2025-01-03T12:33:19.272Z"
   },
   {
    "duration": 0,
    "start_time": "2025-01-03T12:33:19.273Z"
   },
   {
    "duration": 0,
    "start_time": "2025-01-03T12:33:19.274Z"
   },
   {
    "duration": 0,
    "start_time": "2025-01-03T12:33:19.275Z"
   },
   {
    "duration": 0,
    "start_time": "2025-01-03T12:33:19.277Z"
   },
   {
    "duration": 0,
    "start_time": "2025-01-03T12:33:19.278Z"
   },
   {
    "duration": 0,
    "start_time": "2025-01-03T12:33:19.279Z"
   },
   {
    "duration": 0,
    "start_time": "2025-01-03T12:33:19.280Z"
   },
   {
    "duration": 0,
    "start_time": "2025-01-03T12:33:19.281Z"
   },
   {
    "duration": 0,
    "start_time": "2025-01-03T12:33:19.283Z"
   },
   {
    "duration": 0,
    "start_time": "2025-01-03T12:33:19.284Z"
   },
   {
    "duration": 0,
    "start_time": "2025-01-03T12:33:19.285Z"
   },
   {
    "duration": 3,
    "start_time": "2025-01-03T14:05:21.526Z"
   },
   {
    "duration": 2479,
    "start_time": "2025-01-03T14:05:21.536Z"
   },
   {
    "duration": 10,
    "start_time": "2025-01-03T14:05:24.071Z"
   },
   {
    "duration": 28,
    "start_time": "2025-01-03T14:05:24.084Z"
   },
   {
    "duration": 8,
    "start_time": "2025-01-03T14:05:24.114Z"
   },
   {
    "duration": 27,
    "start_time": "2025-01-03T14:05:24.172Z"
   },
   {
    "duration": 79,
    "start_time": "2025-01-03T14:05:24.201Z"
   },
   {
    "duration": 205,
    "start_time": "2025-01-03T14:05:24.282Z"
   },
   {
    "duration": 8,
    "start_time": "2025-01-03T14:05:24.489Z"
   },
   {
    "duration": 78,
    "start_time": "2025-01-03T14:05:24.499Z"
   },
   {
    "duration": 10,
    "start_time": "2025-01-03T14:05:24.579Z"
   },
   {
    "duration": 30,
    "start_time": "2025-01-03T14:05:24.591Z"
   },
   {
    "duration": 8,
    "start_time": "2025-01-03T14:05:24.670Z"
   },
   {
    "duration": 19,
    "start_time": "2025-01-03T14:05:24.680Z"
   },
   {
    "duration": 25,
    "start_time": "2025-01-03T14:05:24.702Z"
   },
   {
    "duration": 40,
    "start_time": "2025-01-03T14:05:24.771Z"
   },
   {
    "duration": 9,
    "start_time": "2025-01-03T14:05:24.813Z"
   },
   {
    "duration": 758,
    "start_time": "2025-01-03T14:05:24.823Z"
   },
   {
    "duration": 185,
    "start_time": "2025-01-03T14:05:25.583Z"
   },
   {
    "duration": 70,
    "start_time": "2025-01-03T14:05:25.772Z"
   },
   {
    "duration": 40,
    "start_time": "2025-01-03T14:05:25.844Z"
   },
   {
    "duration": 159,
    "start_time": "2025-01-03T14:05:25.886Z"
   },
   {
    "duration": 261,
    "start_time": "2025-01-03T14:05:26.047Z"
   },
   {
    "duration": 12,
    "start_time": "2025-01-03T14:05:26.310Z"
   },
   {
    "duration": 84,
    "start_time": "2025-01-03T14:05:26.324Z"
   },
   {
    "duration": 80,
    "start_time": "2025-01-03T14:05:26.410Z"
   },
   {
    "duration": 14,
    "start_time": "2025-01-03T14:05:26.491Z"
   },
   {
    "duration": 110,
    "start_time": "2025-01-03T14:05:26.507Z"
   },
   {
    "duration": 2,
    "start_time": "2025-01-03T14:05:26.619Z"
   },
   {
    "duration": 81,
    "start_time": "2025-01-03T14:05:26.623Z"
   },
   {
    "duration": 4,
    "start_time": "2025-01-03T14:05:26.706Z"
   },
   {
    "duration": 329,
    "start_time": "2025-01-03T14:05:26.712Z"
   },
   {
    "duration": 71,
    "start_time": "2025-01-03T14:08:17.672Z"
   },
   {
    "duration": 16,
    "start_time": "2025-01-03T14:09:03.135Z"
   },
   {
    "duration": 14,
    "start_time": "2025-01-03T14:09:11.620Z"
   },
   {
    "duration": 14,
    "start_time": "2025-01-03T14:09:37.680Z"
   },
   {
    "duration": 14,
    "start_time": "2025-01-03T14:10:09.977Z"
   },
   {
    "duration": 13,
    "start_time": "2025-01-03T14:10:19.021Z"
   },
   {
    "duration": 112,
    "start_time": "2025-01-03T14:10:52.359Z"
   },
   {
    "duration": 48,
    "start_time": "2025-01-03T14:11:02.365Z"
   },
   {
    "duration": 1325,
    "start_time": "2025-01-03T14:12:27.115Z"
   },
   {
    "duration": 87,
    "start_time": "2025-01-03T14:16:03.623Z"
   },
   {
    "duration": 94,
    "start_time": "2025-01-03T14:16:11.817Z"
   },
   {
    "duration": 89,
    "start_time": "2025-01-03T14:17:11.698Z"
   },
   {
    "duration": 37,
    "start_time": "2025-01-03T14:19:25.233Z"
   },
   {
    "duration": 189,
    "start_time": "2025-01-03T14:20:10.142Z"
   },
   {
    "duration": 205,
    "start_time": "2025-01-03T14:20:19.204Z"
   },
   {
    "duration": 169,
    "start_time": "2025-01-03T14:20:52.043Z"
   },
   {
    "duration": 270,
    "start_time": "2025-01-03T14:21:27.545Z"
   },
   {
    "duration": 82,
    "start_time": "2025-01-03T14:21:44.896Z"
   },
   {
    "duration": 283,
    "start_time": "2025-01-03T14:21:46.688Z"
   },
   {
    "duration": 211,
    "start_time": "2025-01-03T14:21:57.311Z"
   },
   {
    "duration": 161,
    "start_time": "2025-01-03T14:23:11.030Z"
   },
   {
    "duration": 75,
    "start_time": "2025-01-03T14:23:38.223Z"
   },
   {
    "duration": 107,
    "start_time": "2025-01-03T14:23:54.102Z"
   },
   {
    "duration": 9,
    "start_time": "2025-01-03T14:24:49.894Z"
   },
   {
    "duration": 82,
    "start_time": "2025-01-03T14:24:58.332Z"
   },
   {
    "duration": 91,
    "start_time": "2025-01-03T14:25:00.193Z"
   },
   {
    "duration": 2,
    "start_time": "2025-01-03T14:25:06.239Z"
   },
   {
    "duration": 2131,
    "start_time": "2025-01-03T14:25:06.243Z"
   },
   {
    "duration": 9,
    "start_time": "2025-01-03T14:25:08.375Z"
   },
   {
    "duration": 70,
    "start_time": "2025-01-03T14:25:08.385Z"
   },
   {
    "duration": 23,
    "start_time": "2025-01-03T14:25:08.457Z"
   },
   {
    "duration": 37,
    "start_time": "2025-01-03T14:25:08.481Z"
   },
   {
    "duration": 34,
    "start_time": "2025-01-03T14:25:08.519Z"
   },
   {
    "duration": 131,
    "start_time": "2025-01-03T14:25:08.554Z"
   },
   {
    "duration": 7,
    "start_time": "2025-01-03T14:25:08.687Z"
   },
   {
    "duration": 87,
    "start_time": "2025-01-03T14:25:08.697Z"
   },
   {
    "duration": 11,
    "start_time": "2025-01-03T14:25:08.786Z"
   },
   {
    "duration": 23,
    "start_time": "2025-01-03T14:25:08.799Z"
   },
   {
    "duration": 18,
    "start_time": "2025-01-03T14:25:08.824Z"
   },
   {
    "duration": 28,
    "start_time": "2025-01-03T14:25:08.844Z"
   },
   {
    "duration": 18,
    "start_time": "2025-01-03T14:25:08.873Z"
   },
   {
    "duration": 67,
    "start_time": "2025-01-03T14:25:08.892Z"
   },
   {
    "duration": 10,
    "start_time": "2025-01-03T14:25:08.960Z"
   },
   {
    "duration": 779,
    "start_time": "2025-01-03T14:25:08.971Z"
   },
   {
    "duration": 170,
    "start_time": "2025-01-03T14:25:09.752Z"
   },
   {
    "duration": 66,
    "start_time": "2025-01-03T14:25:09.924Z"
   },
   {
    "duration": 25,
    "start_time": "2025-01-03T14:25:09.992Z"
   },
   {
    "duration": 178,
    "start_time": "2025-01-03T14:25:10.019Z"
   },
   {
    "duration": 265,
    "start_time": "2025-01-03T14:25:10.199Z"
   },
   {
    "duration": 12,
    "start_time": "2025-01-03T14:25:10.470Z"
   },
   {
    "duration": 15,
    "start_time": "2025-01-03T14:25:10.484Z"
   },
   {
    "duration": 73,
    "start_time": "2025-01-03T14:25:10.501Z"
   },
   {
    "duration": 33,
    "start_time": "2025-01-03T14:25:10.576Z"
   },
   {
    "duration": 118,
    "start_time": "2025-01-03T14:25:10.670Z"
   },
   {
    "duration": 3,
    "start_time": "2025-01-03T14:25:10.789Z"
   },
   {
    "duration": 129,
    "start_time": "2025-01-03T14:25:10.793Z"
   },
   {
    "duration": 4,
    "start_time": "2025-01-03T14:25:10.924Z"
   },
   {
    "duration": 363,
    "start_time": "2025-01-03T14:25:10.929Z"
   },
   {
    "duration": 56,
    "start_time": "2025-01-03T14:25:11.293Z"
   },
   {
    "duration": 95,
    "start_time": "2025-01-03T14:25:11.351Z"
   },
   {
    "duration": 96,
    "start_time": "2025-01-03T14:25:11.448Z"
   },
   {
    "duration": 154,
    "start_time": "2025-01-03T14:27:49.825Z"
   },
   {
    "duration": 112,
    "start_time": "2025-01-03T14:28:56.133Z"
   },
   {
    "duration": 47,
    "start_time": "2025-01-03T14:29:25.556Z"
   },
   {
    "duration": 14,
    "start_time": "2025-01-03T14:30:00.926Z"
   },
   {
    "duration": 13,
    "start_time": "2025-01-03T14:30:53.895Z"
   },
   {
    "duration": 82,
    "start_time": "2025-01-03T14:31:37.095Z"
   },
   {
    "duration": 84,
    "start_time": "2025-01-03T14:31:41.195Z"
   },
   {
    "duration": 14,
    "start_time": "2025-01-03T14:31:47.665Z"
   },
   {
    "duration": 92,
    "start_time": "2025-01-03T14:32:32.547Z"
   },
   {
    "duration": 96,
    "start_time": "2025-01-03T14:32:36.898Z"
   },
   {
    "duration": 3,
    "start_time": "2025-01-03T14:34:27.447Z"
   },
   {
    "duration": 1946,
    "start_time": "2025-01-03T14:34:27.454Z"
   },
   {
    "duration": 9,
    "start_time": "2025-01-03T14:34:29.402Z"
   },
   {
    "duration": 67,
    "start_time": "2025-01-03T14:34:29.412Z"
   },
   {
    "duration": 12,
    "start_time": "2025-01-03T14:34:29.481Z"
   },
   {
    "duration": 75,
    "start_time": "2025-01-03T14:34:29.496Z"
   },
   {
    "duration": 29,
    "start_time": "2025-01-03T14:34:29.572Z"
   },
   {
    "duration": 271,
    "start_time": "2025-01-03T14:34:29.602Z"
   },
   {
    "duration": 11,
    "start_time": "2025-01-03T14:34:29.875Z"
   },
   {
    "duration": 22,
    "start_time": "2025-01-03T14:34:29.888Z"
   },
   {
    "duration": 66,
    "start_time": "2025-01-03T14:34:29.912Z"
   },
   {
    "duration": 22,
    "start_time": "2025-01-03T14:34:29.980Z"
   },
   {
    "duration": 7,
    "start_time": "2025-01-03T14:34:30.003Z"
   },
   {
    "duration": 64,
    "start_time": "2025-01-03T14:34:30.012Z"
   },
   {
    "duration": 122,
    "start_time": "2025-01-03T14:34:30.079Z"
   },
   {
    "duration": 77,
    "start_time": "2025-01-03T14:34:30.203Z"
   },
   {
    "duration": 44,
    "start_time": "2025-01-03T14:34:30.281Z"
   },
   {
    "duration": 791,
    "start_time": "2025-01-03T14:34:30.327Z"
   },
   {
    "duration": 172,
    "start_time": "2025-01-03T14:34:31.120Z"
   },
   {
    "duration": 59,
    "start_time": "2025-01-03T14:34:31.293Z"
   },
   {
    "duration": 37,
    "start_time": "2025-01-03T14:34:31.353Z"
   },
   {
    "duration": 179,
    "start_time": "2025-01-03T14:34:31.392Z"
   },
   {
    "duration": 280,
    "start_time": "2025-01-03T14:34:31.573Z"
   },
   {
    "duration": 22,
    "start_time": "2025-01-03T14:34:31.854Z"
   },
   {
    "duration": 16,
    "start_time": "2025-01-03T14:34:31.878Z"
   },
   {
    "duration": 69,
    "start_time": "2025-01-03T14:34:31.896Z"
   },
   {
    "duration": 13,
    "start_time": "2025-01-03T14:34:31.970Z"
   },
   {
    "duration": 121,
    "start_time": "2025-01-03T14:34:31.985Z"
   },
   {
    "duration": 3,
    "start_time": "2025-01-03T14:34:32.108Z"
   },
   {
    "duration": 184,
    "start_time": "2025-01-03T14:34:32.112Z"
   },
   {
    "duration": 4,
    "start_time": "2025-01-03T14:34:32.298Z"
   },
   {
    "duration": 343,
    "start_time": "2025-01-03T14:34:32.303Z"
   },
   {
    "duration": 73,
    "start_time": "2025-01-03T14:34:32.647Z"
   },
   {
    "duration": 92,
    "start_time": "2025-01-03T14:34:32.722Z"
   },
   {
    "duration": 116,
    "start_time": "2025-01-03T14:34:32.817Z"
   },
   {
    "duration": 16,
    "start_time": "2025-01-03T14:34:32.935Z"
   },
   {
    "duration": 130,
    "start_time": "2025-01-03T14:34:32.953Z"
   },
   {
    "duration": 33,
    "start_time": "2025-01-03T14:34:33.085Z"
   },
   {
    "duration": 16,
    "start_time": "2025-01-03T14:34:51.763Z"
   },
   {
    "duration": 3,
    "start_time": "2025-01-03T14:35:07.137Z"
   },
   {
    "duration": 2254,
    "start_time": "2025-01-03T14:35:07.142Z"
   },
   {
    "duration": 8,
    "start_time": "2025-01-03T14:35:09.398Z"
   },
   {
    "duration": 63,
    "start_time": "2025-01-03T14:35:09.408Z"
   },
   {
    "duration": 9,
    "start_time": "2025-01-03T14:35:09.472Z"
   },
   {
    "duration": 105,
    "start_time": "2025-01-03T14:35:09.482Z"
   },
   {
    "duration": 84,
    "start_time": "2025-01-03T14:35:09.588Z"
   },
   {
    "duration": 126,
    "start_time": "2025-01-03T14:35:09.673Z"
   },
   {
    "duration": 7,
    "start_time": "2025-01-03T14:35:09.801Z"
   },
   {
    "duration": 22,
    "start_time": "2025-01-03T14:35:09.810Z"
   },
   {
    "duration": 10,
    "start_time": "2025-01-03T14:35:09.834Z"
   },
   {
    "duration": 34,
    "start_time": "2025-01-03T14:35:09.845Z"
   },
   {
    "duration": 6,
    "start_time": "2025-01-03T14:35:09.881Z"
   },
   {
    "duration": 19,
    "start_time": "2025-01-03T14:35:09.889Z"
   },
   {
    "duration": 8,
    "start_time": "2025-01-03T14:35:09.910Z"
   },
   {
    "duration": 55,
    "start_time": "2025-01-03T14:35:09.920Z"
   },
   {
    "duration": 10,
    "start_time": "2025-01-03T14:35:09.976Z"
   },
   {
    "duration": 893,
    "start_time": "2025-01-03T14:35:09.987Z"
   },
   {
    "duration": 165,
    "start_time": "2025-01-03T14:35:10.882Z"
   },
   {
    "duration": 60,
    "start_time": "2025-01-03T14:35:11.049Z"
   },
   {
    "duration": 26,
    "start_time": "2025-01-03T14:35:11.110Z"
   },
   {
    "duration": 162,
    "start_time": "2025-01-03T14:35:11.138Z"
   },
   {
    "duration": 244,
    "start_time": "2025-01-03T14:35:11.302Z"
   },
   {
    "duration": 12,
    "start_time": "2025-01-03T14:35:11.548Z"
   },
   {
    "duration": 18,
    "start_time": "2025-01-03T14:35:11.570Z"
   },
   {
    "duration": 66,
    "start_time": "2025-01-03T14:35:11.589Z"
   },
   {
    "duration": 30,
    "start_time": "2025-01-03T14:35:11.657Z"
   },
   {
    "duration": 114,
    "start_time": "2025-01-03T14:35:11.691Z"
   },
   {
    "duration": 3,
    "start_time": "2025-01-03T14:35:11.807Z"
   },
   {
    "duration": 83,
    "start_time": "2025-01-03T14:35:11.811Z"
   },
   {
    "duration": 3,
    "start_time": "2025-01-03T14:35:11.896Z"
   },
   {
    "duration": 405,
    "start_time": "2025-01-03T14:35:11.900Z"
   },
   {
    "duration": 70,
    "start_time": "2025-01-03T14:35:12.307Z"
   },
   {
    "duration": 80,
    "start_time": "2025-01-03T14:35:12.379Z"
   },
   {
    "duration": 97,
    "start_time": "2025-01-03T14:35:12.471Z"
   },
   {
    "duration": 13,
    "start_time": "2025-01-03T14:35:12.570Z"
   },
   {
    "duration": 126,
    "start_time": "2025-01-03T14:35:12.585Z"
   },
   {
    "duration": 39,
    "start_time": "2025-01-03T14:35:12.712Z"
   },
   {
    "duration": 38,
    "start_time": "2025-01-03T14:37:01.585Z"
   },
   {
    "duration": 27,
    "start_time": "2025-01-03T14:38:08.000Z"
   },
   {
    "duration": 4,
    "start_time": "2025-01-03T14:40:07.726Z"
   },
   {
    "duration": 7,
    "start_time": "2025-01-03T14:40:32.324Z"
   },
   {
    "duration": 18,
    "start_time": "2025-01-03T14:40:52.910Z"
   },
   {
    "duration": 3,
    "start_time": "2025-01-03T14:41:03.177Z"
   },
   {
    "duration": 1926,
    "start_time": "2025-01-03T14:41:03.184Z"
   },
   {
    "duration": 8,
    "start_time": "2025-01-03T14:41:05.112Z"
   },
   {
    "duration": 15,
    "start_time": "2025-01-03T14:41:05.122Z"
   },
   {
    "duration": 19,
    "start_time": "2025-01-03T14:41:05.138Z"
   },
   {
    "duration": 40,
    "start_time": "2025-01-03T14:41:05.159Z"
   },
   {
    "duration": 28,
    "start_time": "2025-01-03T14:41:05.200Z"
   },
   {
    "duration": 122,
    "start_time": "2025-01-03T14:41:05.230Z"
   },
   {
    "duration": 8,
    "start_time": "2025-01-03T14:41:05.354Z"
   },
   {
    "duration": 38,
    "start_time": "2025-01-03T14:41:05.370Z"
   },
   {
    "duration": 13,
    "start_time": "2025-01-03T14:41:05.410Z"
   },
   {
    "duration": 39,
    "start_time": "2025-01-03T14:41:05.425Z"
   },
   {
    "duration": 7,
    "start_time": "2025-01-03T14:41:05.466Z"
   },
   {
    "duration": 47,
    "start_time": "2025-01-03T14:41:05.474Z"
   },
   {
    "duration": 10,
    "start_time": "2025-01-03T14:41:05.524Z"
   },
   {
    "duration": 59,
    "start_time": "2025-01-03T14:41:05.536Z"
   },
   {
    "duration": 9,
    "start_time": "2025-01-03T14:41:05.597Z"
   },
   {
    "duration": 811,
    "start_time": "2025-01-03T14:41:05.608Z"
   },
   {
    "duration": 185,
    "start_time": "2025-01-03T14:41:06.421Z"
   },
   {
    "duration": 65,
    "start_time": "2025-01-03T14:41:06.608Z"
   },
   {
    "duration": 27,
    "start_time": "2025-01-03T14:41:06.674Z"
   },
   {
    "duration": 159,
    "start_time": "2025-01-03T14:41:06.703Z"
   },
   {
    "duration": 253,
    "start_time": "2025-01-03T14:41:06.869Z"
   },
   {
    "duration": 13,
    "start_time": "2025-01-03T14:41:07.123Z"
   },
   {
    "duration": 31,
    "start_time": "2025-01-03T14:41:07.137Z"
   },
   {
    "duration": 62,
    "start_time": "2025-01-03T14:41:07.169Z"
   },
   {
    "duration": 21,
    "start_time": "2025-01-03T14:41:07.233Z"
   },
   {
    "duration": 109,
    "start_time": "2025-01-03T14:41:07.271Z"
   },
   {
    "duration": 3,
    "start_time": "2025-01-03T14:41:07.382Z"
   },
   {
    "duration": 70,
    "start_time": "2025-01-03T14:41:07.386Z"
   },
   {
    "duration": 14,
    "start_time": "2025-01-03T14:41:07.457Z"
   },
   {
    "duration": 332,
    "start_time": "2025-01-03T14:41:07.473Z"
   },
   {
    "duration": 65,
    "start_time": "2025-01-03T14:41:07.807Z"
   },
   {
    "duration": 84,
    "start_time": "2025-01-03T14:41:07.874Z"
   },
   {
    "duration": 96,
    "start_time": "2025-01-03T14:41:07.960Z"
   },
   {
    "duration": 24,
    "start_time": "2025-01-03T14:41:08.058Z"
   },
   {
    "duration": 117,
    "start_time": "2025-01-03T14:41:08.083Z"
   },
   {
    "duration": 38,
    "start_time": "2025-01-03T14:41:08.202Z"
   },
   {
    "duration": 52,
    "start_time": "2025-01-03T14:41:08.241Z"
   },
   {
    "duration": 24,
    "start_time": "2025-01-03T14:41:08.295Z"
   },
   {
    "duration": 4,
    "start_time": "2025-01-03T14:41:08.321Z"
   },
   {
    "duration": 7,
    "start_time": "2025-01-03T14:41:08.329Z"
   },
   {
    "duration": 45,
    "start_time": "2025-01-03T14:41:08.337Z"
   },
   {
    "duration": 27,
    "start_time": "2025-01-03T14:43:54.871Z"
   },
   {
    "duration": 23,
    "start_time": "2025-01-03T14:43:58.079Z"
   },
   {
    "duration": 3,
    "start_time": "2025-01-03T14:44:02.477Z"
   },
   {
    "duration": 1869,
    "start_time": "2025-01-03T14:44:02.481Z"
   },
   {
    "duration": 8,
    "start_time": "2025-01-03T14:44:04.352Z"
   },
   {
    "duration": 18,
    "start_time": "2025-01-03T14:44:04.369Z"
   },
   {
    "duration": 26,
    "start_time": "2025-01-03T14:44:04.389Z"
   },
   {
    "duration": 93,
    "start_time": "2025-01-03T14:44:04.416Z"
   },
   {
    "duration": 59,
    "start_time": "2025-01-03T14:44:04.511Z"
   },
   {
    "duration": 114,
    "start_time": "2025-01-03T14:44:04.572Z"
   },
   {
    "duration": 8,
    "start_time": "2025-01-03T14:44:04.688Z"
   },
   {
    "duration": 32,
    "start_time": "2025-01-03T14:44:04.698Z"
   },
   {
    "duration": 24,
    "start_time": "2025-01-03T14:44:04.731Z"
   },
   {
    "duration": 19,
    "start_time": "2025-01-03T14:44:04.757Z"
   },
   {
    "duration": 6,
    "start_time": "2025-01-03T14:44:04.778Z"
   },
   {
    "duration": 10,
    "start_time": "2025-01-03T14:44:04.786Z"
   },
   {
    "duration": 28,
    "start_time": "2025-01-03T14:44:04.797Z"
   },
   {
    "duration": 70,
    "start_time": "2025-01-03T14:44:04.827Z"
   },
   {
    "duration": 10,
    "start_time": "2025-01-03T14:44:04.899Z"
   },
   {
    "duration": 1546,
    "start_time": "2025-01-03T14:44:04.911Z"
   },
   {
    "duration": 172,
    "start_time": "2025-01-03T14:44:06.459Z"
   },
   {
    "duration": 64,
    "start_time": "2025-01-03T14:44:06.633Z"
   },
   {
    "duration": 73,
    "start_time": "2025-01-03T14:44:06.699Z"
   },
   {
    "duration": 230,
    "start_time": "2025-01-03T14:44:06.774Z"
   },
   {
    "duration": 264,
    "start_time": "2025-01-03T14:44:07.006Z"
   },
   {
    "duration": 12,
    "start_time": "2025-01-03T14:44:07.272Z"
   },
   {
    "duration": 19,
    "start_time": "2025-01-03T14:44:07.286Z"
   },
   {
    "duration": 75,
    "start_time": "2025-01-03T14:44:07.306Z"
   },
   {
    "duration": 14,
    "start_time": "2025-01-03T14:44:07.382Z"
   },
   {
    "duration": 126,
    "start_time": "2025-01-03T14:44:07.399Z"
   },
   {
    "duration": 3,
    "start_time": "2025-01-03T14:44:07.527Z"
   },
   {
    "duration": 174,
    "start_time": "2025-01-03T14:44:07.531Z"
   },
   {
    "duration": 4,
    "start_time": "2025-01-03T14:44:07.706Z"
   },
   {
    "duration": 338,
    "start_time": "2025-01-03T14:44:07.711Z"
   },
   {
    "duration": 70,
    "start_time": "2025-01-03T14:44:08.050Z"
   },
   {
    "duration": 98,
    "start_time": "2025-01-03T14:44:08.122Z"
   },
   {
    "duration": 106,
    "start_time": "2025-01-03T14:44:08.222Z"
   },
   {
    "duration": 14,
    "start_time": "2025-01-03T14:44:08.330Z"
   },
   {
    "duration": 129,
    "start_time": "2025-01-03T14:44:08.346Z"
   },
   {
    "duration": 38,
    "start_time": "2025-01-03T14:44:08.477Z"
   },
   {
    "duration": 36,
    "start_time": "2025-01-03T14:44:08.517Z"
   },
   {
    "duration": 38,
    "start_time": "2025-01-03T14:44:08.554Z"
   },
   {
    "duration": 4,
    "start_time": "2025-01-03T14:44:08.593Z"
   },
   {
    "duration": 8,
    "start_time": "2025-01-03T14:44:08.599Z"
   },
   {
    "duration": 16,
    "start_time": "2025-01-03T14:44:08.609Z"
   },
   {
    "duration": 14,
    "start_time": "2025-01-03T14:44:59.070Z"
   },
   {
    "duration": 3,
    "start_time": "2025-01-03T14:45:13.298Z"
   },
   {
    "duration": 1971,
    "start_time": "2025-01-03T14:45:13.306Z"
   },
   {
    "duration": 8,
    "start_time": "2025-01-03T14:45:15.279Z"
   },
   {
    "duration": 68,
    "start_time": "2025-01-03T14:45:15.289Z"
   },
   {
    "duration": 11,
    "start_time": "2025-01-03T14:45:15.359Z"
   },
   {
    "duration": 74,
    "start_time": "2025-01-03T14:45:15.374Z"
   },
   {
    "duration": 24,
    "start_time": "2025-01-03T14:45:15.449Z"
   },
   {
    "duration": 109,
    "start_time": "2025-01-03T14:45:15.475Z"
   },
   {
    "duration": 8,
    "start_time": "2025-01-03T14:45:15.585Z"
   },
   {
    "duration": 46,
    "start_time": "2025-01-03T14:45:15.595Z"
   },
   {
    "duration": 10,
    "start_time": "2025-01-03T14:45:15.643Z"
   },
   {
    "duration": 13,
    "start_time": "2025-01-03T14:45:15.654Z"
   },
   {
    "duration": 7,
    "start_time": "2025-01-03T14:45:15.669Z"
   },
   {
    "duration": 10,
    "start_time": "2025-01-03T14:45:15.678Z"
   },
   {
    "duration": 17,
    "start_time": "2025-01-03T14:45:15.691Z"
   },
   {
    "duration": 75,
    "start_time": "2025-01-03T14:45:15.709Z"
   },
   {
    "duration": 15,
    "start_time": "2025-01-03T14:45:15.786Z"
   },
   {
    "duration": 797,
    "start_time": "2025-01-03T14:45:15.803Z"
   },
   {
    "duration": 169,
    "start_time": "2025-01-03T14:45:16.602Z"
   },
   {
    "duration": 62,
    "start_time": "2025-01-03T14:45:16.773Z"
   },
   {
    "duration": 45,
    "start_time": "2025-01-03T14:45:16.836Z"
   },
   {
    "duration": 175,
    "start_time": "2025-01-03T14:45:16.882Z"
   },
   {
    "duration": 260,
    "start_time": "2025-01-03T14:45:17.059Z"
   },
   {
    "duration": 12,
    "start_time": "2025-01-03T14:45:17.321Z"
   },
   {
    "duration": 37,
    "start_time": "2025-01-03T14:45:17.334Z"
   },
   {
    "duration": 60,
    "start_time": "2025-01-03T14:45:17.372Z"
   },
   {
    "duration": 43,
    "start_time": "2025-01-03T14:45:17.434Z"
   },
   {
    "duration": 112,
    "start_time": "2025-01-03T14:45:17.478Z"
   },
   {
    "duration": 3,
    "start_time": "2025-01-03T14:45:17.592Z"
   },
   {
    "duration": 81,
    "start_time": "2025-01-03T14:45:17.597Z"
   },
   {
    "duration": 5,
    "start_time": "2025-01-03T14:45:17.679Z"
   },
   {
    "duration": 342,
    "start_time": "2025-01-03T14:45:17.686Z"
   },
   {
    "duration": 78,
    "start_time": "2025-01-03T14:45:18.031Z"
   },
   {
    "duration": 92,
    "start_time": "2025-01-03T14:45:18.111Z"
   },
   {
    "duration": 108,
    "start_time": "2025-01-03T14:45:18.205Z"
   },
   {
    "duration": 13,
    "start_time": "2025-01-03T14:45:18.315Z"
   },
   {
    "duration": 124,
    "start_time": "2025-01-03T14:45:18.330Z"
   },
   {
    "duration": 48,
    "start_time": "2025-01-03T14:45:18.455Z"
   },
   {
    "duration": 73,
    "start_time": "2025-01-03T14:45:18.505Z"
   },
   {
    "duration": 25,
    "start_time": "2025-01-03T14:45:18.579Z"
   },
   {
    "duration": 4,
    "start_time": "2025-01-03T14:45:18.605Z"
   },
   {
    "duration": 8,
    "start_time": "2025-01-03T14:45:18.613Z"
   },
   {
    "duration": 19,
    "start_time": "2025-01-03T14:45:18.622Z"
   },
   {
    "duration": 3,
    "start_time": "2025-01-03T14:46:51.523Z"
   },
   {
    "duration": 1962,
    "start_time": "2025-01-03T14:46:51.530Z"
   },
   {
    "duration": 8,
    "start_time": "2025-01-03T14:46:53.494Z"
   },
   {
    "duration": 70,
    "start_time": "2025-01-03T14:46:53.504Z"
   },
   {
    "duration": 7,
    "start_time": "2025-01-03T14:46:53.576Z"
   },
   {
    "duration": 25,
    "start_time": "2025-01-03T14:46:53.585Z"
   },
   {
    "duration": 74,
    "start_time": "2025-01-03T14:46:53.612Z"
   },
   {
    "duration": 206,
    "start_time": "2025-01-03T14:46:53.687Z"
   },
   {
    "duration": 8,
    "start_time": "2025-01-03T14:46:53.895Z"
   },
   {
    "duration": 77,
    "start_time": "2025-01-03T14:46:53.905Z"
   },
   {
    "duration": 10,
    "start_time": "2025-01-03T14:46:53.984Z"
   },
   {
    "duration": 76,
    "start_time": "2025-01-03T14:46:53.995Z"
   },
   {
    "duration": 8,
    "start_time": "2025-01-03T14:46:54.073Z"
   },
   {
    "duration": 31,
    "start_time": "2025-01-03T14:46:54.083Z"
   },
   {
    "duration": 9,
    "start_time": "2025-01-03T14:46:54.117Z"
   },
   {
    "duration": 49,
    "start_time": "2025-01-03T14:46:54.170Z"
   },
   {
    "duration": 10,
    "start_time": "2025-01-03T14:46:54.272Z"
   },
   {
    "duration": 951,
    "start_time": "2025-01-03T14:46:54.285Z"
   },
   {
    "duration": 168,
    "start_time": "2025-01-03T14:46:55.238Z"
   },
   {
    "duration": 65,
    "start_time": "2025-01-03T14:46:55.408Z"
   },
   {
    "duration": 27,
    "start_time": "2025-01-03T14:46:55.475Z"
   },
   {
    "duration": 156,
    "start_time": "2025-01-03T14:46:55.504Z"
   },
   {
    "duration": 284,
    "start_time": "2025-01-03T14:46:55.670Z"
   },
   {
    "duration": 16,
    "start_time": "2025-01-03T14:46:55.956Z"
   },
   {
    "duration": 16,
    "start_time": "2025-01-03T14:46:55.973Z"
   },
   {
    "duration": 85,
    "start_time": "2025-01-03T14:46:55.991Z"
   },
   {
    "duration": 21,
    "start_time": "2025-01-03T14:46:56.078Z"
   },
   {
    "duration": 201,
    "start_time": "2025-01-03T14:46:56.101Z"
   },
   {
    "duration": 3,
    "start_time": "2025-01-03T14:46:56.304Z"
   },
   {
    "duration": 86,
    "start_time": "2025-01-03T14:46:56.309Z"
   },
   {
    "duration": 4,
    "start_time": "2025-01-03T14:46:56.397Z"
   },
   {
    "duration": 335,
    "start_time": "2025-01-03T14:46:56.403Z"
   },
   {
    "duration": 66,
    "start_time": "2025-01-03T14:46:56.740Z"
   },
   {
    "duration": 130,
    "start_time": "2025-01-03T14:46:56.807Z"
   },
   {
    "duration": 96,
    "start_time": "2025-01-03T14:46:56.938Z"
   },
   {
    "duration": 14,
    "start_time": "2025-01-03T14:46:57.036Z"
   },
   {
    "duration": 120,
    "start_time": "2025-01-03T14:46:57.051Z"
   },
   {
    "duration": 39,
    "start_time": "2025-01-03T14:46:57.173Z"
   },
   {
    "duration": 13,
    "start_time": "2025-01-03T14:46:57.214Z"
   },
   {
    "duration": 0,
    "start_time": "2025-01-03T14:46:57.229Z"
   },
   {
    "duration": 0,
    "start_time": "2025-01-03T14:46:57.230Z"
   },
   {
    "duration": 0,
    "start_time": "2025-01-03T14:46:57.232Z"
   },
   {
    "duration": 0,
    "start_time": "2025-01-03T14:46:57.233Z"
   },
   {
    "duration": 3,
    "start_time": "2025-01-03T14:49:17.419Z"
   },
   {
    "duration": 2384,
    "start_time": "2025-01-03T14:49:17.424Z"
   },
   {
    "duration": 8,
    "start_time": "2025-01-03T14:49:19.810Z"
   },
   {
    "duration": 12,
    "start_time": "2025-01-03T14:49:19.871Z"
   },
   {
    "duration": 21,
    "start_time": "2025-01-03T14:49:19.885Z"
   },
   {
    "duration": 62,
    "start_time": "2025-01-03T14:49:19.908Z"
   },
   {
    "duration": 29,
    "start_time": "2025-01-03T14:49:19.972Z"
   },
   {
    "duration": 115,
    "start_time": "2025-01-03T14:49:20.002Z"
   },
   {
    "duration": 8,
    "start_time": "2025-01-03T14:49:20.119Z"
   },
   {
    "duration": 58,
    "start_time": "2025-01-03T14:49:20.128Z"
   },
   {
    "duration": 10,
    "start_time": "2025-01-03T14:49:20.188Z"
   },
   {
    "duration": 22,
    "start_time": "2025-01-03T14:49:20.199Z"
   },
   {
    "duration": 7,
    "start_time": "2025-01-03T14:49:20.224Z"
   },
   {
    "duration": 10,
    "start_time": "2025-01-03T14:49:20.232Z"
   },
   {
    "duration": 29,
    "start_time": "2025-01-03T14:49:20.244Z"
   },
   {
    "duration": 42,
    "start_time": "2025-01-03T14:49:20.274Z"
   },
   {
    "duration": 9,
    "start_time": "2025-01-03T14:49:20.318Z"
   },
   {
    "duration": 754,
    "start_time": "2025-01-03T14:49:20.328Z"
   },
   {
    "duration": 165,
    "start_time": "2025-01-03T14:49:21.084Z"
   },
   {
    "duration": 59,
    "start_time": "2025-01-03T14:49:21.251Z"
   },
   {
    "duration": 26,
    "start_time": "2025-01-03T14:49:21.311Z"
   },
   {
    "duration": 179,
    "start_time": "2025-01-03T14:49:21.338Z"
   },
   {
    "duration": 274,
    "start_time": "2025-01-03T14:49:21.519Z"
   },
   {
    "duration": 13,
    "start_time": "2025-01-03T14:49:21.794Z"
   },
   {
    "duration": 20,
    "start_time": "2025-01-03T14:49:21.808Z"
   },
   {
    "duration": 74,
    "start_time": "2025-01-03T14:49:21.829Z"
   },
   {
    "duration": 13,
    "start_time": "2025-01-03T14:49:21.904Z"
   },
   {
    "duration": 126,
    "start_time": "2025-01-03T14:49:21.919Z"
   },
   {
    "duration": 3,
    "start_time": "2025-01-03T14:49:22.047Z"
   },
   {
    "duration": 82,
    "start_time": "2025-01-03T14:49:22.051Z"
   },
   {
    "duration": 4,
    "start_time": "2025-01-03T14:49:22.134Z"
   },
   {
    "duration": 334,
    "start_time": "2025-01-03T14:49:22.140Z"
   },
   {
    "duration": 56,
    "start_time": "2025-01-03T14:49:22.476Z"
   },
   {
    "duration": 106,
    "start_time": "2025-01-03T14:49:22.534Z"
   },
   {
    "duration": 90,
    "start_time": "2025-01-03T14:49:22.642Z"
   },
   {
    "duration": 14,
    "start_time": "2025-01-03T14:49:22.733Z"
   },
   {
    "duration": 128,
    "start_time": "2025-01-03T14:49:22.750Z"
   },
   {
    "duration": 36,
    "start_time": "2025-01-03T14:49:22.880Z"
   },
   {
    "duration": 28,
    "start_time": "2025-01-03T14:49:22.918Z"
   },
   {
    "duration": 43,
    "start_time": "2025-01-03T14:49:22.948Z"
   },
   {
    "duration": 4,
    "start_time": "2025-01-03T14:49:22.992Z"
   },
   {
    "duration": 11,
    "start_time": "2025-01-03T14:49:22.998Z"
   },
   {
    "duration": 21,
    "start_time": "2025-01-03T14:49:23.011Z"
   },
   {
    "duration": 3,
    "start_time": "2025-01-03T14:51:24.964Z"
   },
   {
    "duration": 2521,
    "start_time": "2025-01-03T14:51:24.971Z"
   },
   {
    "duration": 8,
    "start_time": "2025-01-03T14:51:27.494Z"
   },
   {
    "duration": 13,
    "start_time": "2025-01-03T14:51:27.504Z"
   },
   {
    "duration": 8,
    "start_time": "2025-01-03T14:51:27.518Z"
   },
   {
    "duration": 69,
    "start_time": "2025-01-03T14:51:27.528Z"
   },
   {
    "duration": 33,
    "start_time": "2025-01-03T14:51:27.599Z"
   },
   {
    "duration": 118,
    "start_time": "2025-01-03T14:51:27.633Z"
   },
   {
    "duration": 8,
    "start_time": "2025-01-03T14:51:27.753Z"
   },
   {
    "duration": 33,
    "start_time": "2025-01-03T14:51:27.762Z"
   },
   {
    "duration": 13,
    "start_time": "2025-01-03T14:51:27.797Z"
   },
   {
    "duration": 18,
    "start_time": "2025-01-03T14:51:27.811Z"
   },
   {
    "duration": 7,
    "start_time": "2025-01-03T14:51:27.831Z"
   },
   {
    "duration": 17,
    "start_time": "2025-01-03T14:51:27.839Z"
   },
   {
    "duration": 14,
    "start_time": "2025-01-03T14:51:27.859Z"
   },
   {
    "duration": 48,
    "start_time": "2025-01-03T14:51:27.875Z"
   },
   {
    "duration": 10,
    "start_time": "2025-01-03T14:51:27.924Z"
   },
   {
    "duration": 763,
    "start_time": "2025-01-03T14:51:27.935Z"
   },
   {
    "duration": 176,
    "start_time": "2025-01-03T14:51:28.699Z"
   },
   {
    "duration": 61,
    "start_time": "2025-01-03T14:51:28.877Z"
   },
   {
    "duration": 42,
    "start_time": "2025-01-03T14:51:28.940Z"
   },
   {
    "duration": 180,
    "start_time": "2025-01-03T14:51:28.984Z"
   },
   {
    "duration": 280,
    "start_time": "2025-01-03T14:51:29.170Z"
   },
   {
    "duration": 19,
    "start_time": "2025-01-03T14:51:29.452Z"
   },
   {
    "duration": 17,
    "start_time": "2025-01-03T14:51:29.473Z"
   },
   {
    "duration": 67,
    "start_time": "2025-01-03T14:51:29.492Z"
   },
   {
    "duration": 15,
    "start_time": "2025-01-03T14:51:29.571Z"
   },
   {
    "duration": 118,
    "start_time": "2025-01-03T14:51:29.588Z"
   },
   {
    "duration": 3,
    "start_time": "2025-01-03T14:51:29.707Z"
   },
   {
    "duration": 82,
    "start_time": "2025-01-03T14:51:29.712Z"
   },
   {
    "duration": 4,
    "start_time": "2025-01-03T14:51:29.796Z"
   },
   {
    "duration": 316,
    "start_time": "2025-01-03T14:51:29.801Z"
   },
   {
    "duration": 68,
    "start_time": "2025-01-03T14:51:30.119Z"
   },
   {
    "duration": 123,
    "start_time": "2025-01-03T14:51:30.188Z"
   },
   {
    "duration": 101,
    "start_time": "2025-01-03T14:51:30.312Z"
   },
   {
    "duration": 16,
    "start_time": "2025-01-03T14:51:30.414Z"
   },
   {
    "duration": 208,
    "start_time": "2025-01-03T14:51:30.431Z"
   },
   {
    "duration": 41,
    "start_time": "2025-01-03T14:51:30.641Z"
   },
   {
    "duration": 32,
    "start_time": "2025-01-03T14:51:30.683Z"
   },
   {
    "duration": 7,
    "start_time": "2025-01-03T14:54:06.479Z"
   },
   {
    "duration": 26,
    "start_time": "2025-01-03T14:54:12.613Z"
   },
   {
    "duration": 28,
    "start_time": "2025-01-03T14:54:27.227Z"
   },
   {
    "duration": 25,
    "start_time": "2025-01-03T14:54:32.686Z"
   },
   {
    "duration": 3,
    "start_time": "2025-01-03T14:55:16.574Z"
   },
   {
    "duration": 1782,
    "start_time": "2025-01-03T14:55:16.582Z"
   },
   {
    "duration": 9,
    "start_time": "2025-01-03T14:55:18.366Z"
   },
   {
    "duration": 18,
    "start_time": "2025-01-03T14:55:18.376Z"
   },
   {
    "duration": 14,
    "start_time": "2025-01-03T14:55:18.396Z"
   },
   {
    "duration": 27,
    "start_time": "2025-01-03T14:55:18.413Z"
   },
   {
    "duration": 90,
    "start_time": "2025-01-03T14:55:18.441Z"
   },
   {
    "duration": 152,
    "start_time": "2025-01-03T14:55:18.533Z"
   },
   {
    "duration": 8,
    "start_time": "2025-01-03T14:55:18.686Z"
   },
   {
    "duration": 75,
    "start_time": "2025-01-03T14:55:18.696Z"
   },
   {
    "duration": 10,
    "start_time": "2025-01-03T14:55:18.773Z"
   },
   {
    "duration": 21,
    "start_time": "2025-01-03T14:55:18.785Z"
   },
   {
    "duration": 101,
    "start_time": "2025-01-03T14:55:18.808Z"
   },
   {
    "duration": 10,
    "start_time": "2025-01-03T14:55:18.911Z"
   },
   {
    "duration": 46,
    "start_time": "2025-01-03T14:55:18.924Z"
   },
   {
    "duration": 98,
    "start_time": "2025-01-03T14:55:18.973Z"
   },
   {
    "duration": 10,
    "start_time": "2025-01-03T14:55:19.072Z"
   },
   {
    "duration": 1259,
    "start_time": "2025-01-03T14:55:19.083Z"
   },
   {
    "duration": 173,
    "start_time": "2025-01-03T14:55:20.344Z"
   },
   {
    "duration": 66,
    "start_time": "2025-01-03T14:55:20.519Z"
   },
   {
    "duration": 27,
    "start_time": "2025-01-03T14:55:20.586Z"
   },
   {
    "duration": 169,
    "start_time": "2025-01-03T14:55:20.615Z"
   },
   {
    "duration": 274,
    "start_time": "2025-01-03T14:55:20.786Z"
   },
   {
    "duration": 17,
    "start_time": "2025-01-03T14:55:21.062Z"
   },
   {
    "duration": 21,
    "start_time": "2025-01-03T14:55:21.080Z"
   },
   {
    "duration": 71,
    "start_time": "2025-01-03T14:55:21.103Z"
   },
   {
    "duration": 13,
    "start_time": "2025-01-03T14:55:21.176Z"
   },
   {
    "duration": 133,
    "start_time": "2025-01-03T14:55:21.190Z"
   },
   {
    "duration": 3,
    "start_time": "2025-01-03T14:55:21.325Z"
   },
   {
    "duration": 90,
    "start_time": "2025-01-03T14:55:21.329Z"
   },
   {
    "duration": 3,
    "start_time": "2025-01-03T14:55:21.421Z"
   },
   {
    "duration": 317,
    "start_time": "2025-01-03T14:55:21.426Z"
   },
   {
    "duration": 72,
    "start_time": "2025-01-03T14:55:21.745Z"
   },
   {
    "duration": 94,
    "start_time": "2025-01-03T14:55:21.819Z"
   },
   {
    "duration": 100,
    "start_time": "2025-01-03T14:55:21.915Z"
   },
   {
    "duration": 14,
    "start_time": "2025-01-03T14:55:22.017Z"
   },
   {
    "duration": 119,
    "start_time": "2025-01-03T14:55:22.033Z"
   },
   {
    "duration": 41,
    "start_time": "2025-01-03T14:55:22.154Z"
   },
   {
    "duration": 45,
    "start_time": "2025-01-03T14:55:22.196Z"
   },
   {
    "duration": 121,
    "start_time": "2025-01-03T14:55:22.243Z"
   },
   {
    "duration": 22,
    "start_time": "2025-01-03T14:55:22.365Z"
   },
   {
    "duration": 4,
    "start_time": "2025-01-03T14:57:25.732Z"
   },
   {
    "duration": 2051,
    "start_time": "2025-01-03T14:57:25.738Z"
   },
   {
    "duration": 8,
    "start_time": "2025-01-03T14:57:27.791Z"
   },
   {
    "duration": 14,
    "start_time": "2025-01-03T14:57:27.801Z"
   },
   {
    "duration": 57,
    "start_time": "2025-01-03T14:57:27.816Z"
   },
   {
    "duration": 30,
    "start_time": "2025-01-03T14:57:27.875Z"
   },
   {
    "duration": 81,
    "start_time": "2025-01-03T14:57:27.907Z"
   },
   {
    "duration": 204,
    "start_time": "2025-01-03T14:57:27.990Z"
   },
   {
    "duration": 8,
    "start_time": "2025-01-03T14:57:28.195Z"
   },
   {
    "duration": 88,
    "start_time": "2025-01-03T14:57:28.205Z"
   },
   {
    "duration": 19,
    "start_time": "2025-01-03T14:57:28.294Z"
   },
   {
    "duration": 65,
    "start_time": "2025-01-03T14:57:28.314Z"
   },
   {
    "duration": 7,
    "start_time": "2025-01-03T14:57:28.380Z"
   },
   {
    "duration": 12,
    "start_time": "2025-01-03T14:57:28.388Z"
   },
   {
    "duration": 8,
    "start_time": "2025-01-03T14:57:28.402Z"
   },
   {
    "duration": 96,
    "start_time": "2025-01-03T14:57:28.412Z"
   },
   {
    "duration": 62,
    "start_time": "2025-01-03T14:57:28.509Z"
   },
   {
    "duration": 857,
    "start_time": "2025-01-03T14:57:28.572Z"
   },
   {
    "duration": 167,
    "start_time": "2025-01-03T14:57:29.431Z"
   },
   {
    "duration": 57,
    "start_time": "2025-01-03T14:57:29.599Z"
   },
   {
    "duration": 30,
    "start_time": "2025-01-03T14:57:29.670Z"
   },
   {
    "duration": 185,
    "start_time": "2025-01-03T14:57:29.702Z"
   },
   {
    "duration": 281,
    "start_time": "2025-01-03T14:57:29.889Z"
   },
   {
    "duration": 13,
    "start_time": "2025-01-03T14:57:30.171Z"
   },
   {
    "duration": 85,
    "start_time": "2025-01-03T14:57:30.185Z"
   },
   {
    "duration": 105,
    "start_time": "2025-01-03T14:57:30.272Z"
   },
   {
    "duration": 32,
    "start_time": "2025-01-03T14:57:30.379Z"
   },
   {
    "duration": 153,
    "start_time": "2025-01-03T14:57:30.414Z"
   },
   {
    "duration": 57,
    "start_time": "2025-01-03T14:57:30.569Z"
   },
   {
    "duration": 150,
    "start_time": "2025-01-03T14:57:30.628Z"
   },
   {
    "duration": 4,
    "start_time": "2025-01-03T14:57:30.779Z"
   },
   {
    "duration": 326,
    "start_time": "2025-01-03T14:57:30.785Z"
   },
   {
    "duration": 69,
    "start_time": "2025-01-03T14:57:31.112Z"
   },
   {
    "duration": 101,
    "start_time": "2025-01-03T14:57:31.183Z"
   },
   {
    "duration": 90,
    "start_time": "2025-01-03T14:57:31.286Z"
   },
   {
    "duration": 14,
    "start_time": "2025-01-03T14:57:31.378Z"
   },
   {
    "duration": 129,
    "start_time": "2025-01-03T14:57:31.394Z"
   },
   {
    "duration": 46,
    "start_time": "2025-01-03T14:57:31.525Z"
   },
   {
    "duration": 28,
    "start_time": "2025-01-03T14:57:31.573Z"
   },
   {
    "duration": 89,
    "start_time": "2025-01-03T14:57:31.603Z"
   },
   {
    "duration": 3,
    "start_time": "2025-01-03T14:58:08.246Z"
   },
   {
    "duration": 2147,
    "start_time": "2025-01-03T14:58:08.253Z"
   },
   {
    "duration": 8,
    "start_time": "2025-01-03T14:58:10.403Z"
   },
   {
    "duration": 63,
    "start_time": "2025-01-03T14:58:10.413Z"
   },
   {
    "duration": 15,
    "start_time": "2025-01-03T14:58:10.478Z"
   },
   {
    "duration": 75,
    "start_time": "2025-01-03T14:58:10.496Z"
   },
   {
    "duration": 26,
    "start_time": "2025-01-03T14:58:10.572Z"
   },
   {
    "duration": 270,
    "start_time": "2025-01-03T14:58:10.600Z"
   },
   {
    "duration": 8,
    "start_time": "2025-01-03T14:58:10.872Z"
   },
   {
    "duration": 46,
    "start_time": "2025-01-03T14:58:10.882Z"
   },
   {
    "duration": 50,
    "start_time": "2025-01-03T14:58:10.930Z"
   },
   {
    "duration": 20,
    "start_time": "2025-01-03T14:58:10.981Z"
   },
   {
    "duration": 7,
    "start_time": "2025-01-03T14:58:11.002Z"
   },
   {
    "duration": 11,
    "start_time": "2025-01-03T14:58:11.010Z"
   },
   {
    "duration": 9,
    "start_time": "2025-01-03T14:58:11.024Z"
   },
   {
    "duration": 44,
    "start_time": "2025-01-03T14:58:11.071Z"
   },
   {
    "duration": 10,
    "start_time": "2025-01-03T14:58:11.117Z"
   },
   {
    "duration": 771,
    "start_time": "2025-01-03T14:58:11.128Z"
   },
   {
    "duration": 162,
    "start_time": "2025-01-03T14:58:11.900Z"
   },
   {
    "duration": 59,
    "start_time": "2025-01-03T14:58:12.064Z"
   },
   {
    "duration": 25,
    "start_time": "2025-01-03T14:58:12.125Z"
   },
   {
    "duration": 265,
    "start_time": "2025-01-03T14:58:12.152Z"
   },
   {
    "duration": 278,
    "start_time": "2025-01-03T14:58:12.419Z"
   },
   {
    "duration": 12,
    "start_time": "2025-01-03T14:58:12.699Z"
   },
   {
    "duration": 16,
    "start_time": "2025-01-03T14:58:12.713Z"
   },
   {
    "duration": 78,
    "start_time": "2025-01-03T14:58:12.730Z"
   },
   {
    "duration": 13,
    "start_time": "2025-01-03T14:58:12.810Z"
   },
   {
    "duration": 210,
    "start_time": "2025-01-03T14:58:12.824Z"
   },
   {
    "duration": 3,
    "start_time": "2025-01-03T14:58:13.035Z"
   },
   {
    "duration": 81,
    "start_time": "2025-01-03T14:58:13.040Z"
   },
   {
    "duration": 4,
    "start_time": "2025-01-03T14:58:13.123Z"
   },
   {
    "duration": 326,
    "start_time": "2025-01-03T14:58:13.128Z"
   },
   {
    "duration": 69,
    "start_time": "2025-01-03T14:58:13.456Z"
   },
   {
    "duration": 103,
    "start_time": "2025-01-03T14:58:13.527Z"
   },
   {
    "duration": 104,
    "start_time": "2025-01-03T14:58:13.631Z"
   },
   {
    "duration": 14,
    "start_time": "2025-01-03T14:58:13.736Z"
   },
   {
    "duration": 125,
    "start_time": "2025-01-03T14:58:13.751Z"
   },
   {
    "duration": 39,
    "start_time": "2025-01-03T14:58:13.877Z"
   },
   {
    "duration": 31,
    "start_time": "2025-01-03T14:58:13.918Z"
   },
   {
    "duration": 28,
    "start_time": "2025-01-03T14:58:13.971Z"
   },
   {
    "duration": 2,
    "start_time": "2025-01-03T14:59:10.789Z"
   },
   {
    "duration": 1213,
    "start_time": "2025-01-03T14:59:23.898Z"
   },
   {
    "duration": 2214,
    "start_time": "2025-01-03T14:59:25.113Z"
   },
   {
    "duration": 12,
    "start_time": "2025-01-03T14:59:27.328Z"
   },
   {
    "duration": 29,
    "start_time": "2025-01-03T14:59:27.342Z"
   },
   {
    "duration": 8,
    "start_time": "2025-01-03T14:59:27.372Z"
   },
   {
    "duration": 25,
    "start_time": "2025-01-03T14:59:27.381Z"
   },
   {
    "duration": 24,
    "start_time": "2025-01-03T14:59:27.408Z"
   },
   {
    "duration": 126,
    "start_time": "2025-01-03T14:59:27.434Z"
   },
   {
    "duration": 15,
    "start_time": "2025-01-03T14:59:27.561Z"
   },
   {
    "duration": 81,
    "start_time": "2025-01-03T14:59:27.579Z"
   },
   {
    "duration": 10,
    "start_time": "2025-01-03T14:59:27.662Z"
   },
   {
    "duration": 15,
    "start_time": "2025-01-03T14:59:27.674Z"
   },
   {
    "duration": 6,
    "start_time": "2025-01-03T14:59:27.691Z"
   },
   {
    "duration": 17,
    "start_time": "2025-01-03T14:59:27.699Z"
   },
   {
    "duration": 11,
    "start_time": "2025-01-03T14:59:27.718Z"
   },
   {
    "duration": 70,
    "start_time": "2025-01-03T14:59:27.730Z"
   },
   {
    "duration": 8,
    "start_time": "2025-01-03T14:59:27.801Z"
   },
   {
    "duration": 799,
    "start_time": "2025-01-03T14:59:27.811Z"
   },
   {
    "duration": 179,
    "start_time": "2025-01-03T14:59:28.611Z"
   },
   {
    "duration": 54,
    "start_time": "2025-01-03T14:59:28.792Z"
   },
   {
    "duration": 39,
    "start_time": "2025-01-03T14:59:28.847Z"
   },
   {
    "duration": 241,
    "start_time": "2025-01-03T14:59:28.888Z"
   },
   {
    "duration": 300,
    "start_time": "2025-01-03T14:59:29.131Z"
   },
   {
    "duration": 12,
    "start_time": "2025-01-03T14:59:29.433Z"
   },
   {
    "duration": 30,
    "start_time": "2025-01-03T14:59:29.447Z"
   },
   {
    "duration": 64,
    "start_time": "2025-01-03T14:59:29.479Z"
   },
   {
    "duration": 34,
    "start_time": "2025-01-03T14:59:29.545Z"
   },
   {
    "duration": 121,
    "start_time": "2025-01-03T14:59:29.582Z"
   },
   {
    "duration": 3,
    "start_time": "2025-01-03T14:59:29.705Z"
   },
   {
    "duration": 89,
    "start_time": "2025-01-03T14:59:29.709Z"
   },
   {
    "duration": 5,
    "start_time": "2025-01-03T14:59:29.799Z"
   },
   {
    "duration": 369,
    "start_time": "2025-01-03T14:59:29.806Z"
   },
   {
    "duration": 60,
    "start_time": "2025-01-03T14:59:30.177Z"
   },
   {
    "duration": 115,
    "start_time": "2025-01-03T14:59:30.238Z"
   },
   {
    "duration": 99,
    "start_time": "2025-01-03T14:59:30.355Z"
   },
   {
    "duration": 21,
    "start_time": "2025-01-03T14:59:30.456Z"
   },
   {
    "duration": 197,
    "start_time": "2025-01-03T14:59:30.479Z"
   },
   {
    "duration": 37,
    "start_time": "2025-01-03T14:59:30.677Z"
   },
   {
    "duration": 27,
    "start_time": "2025-01-03T14:59:30.716Z"
   },
   {
    "duration": 48,
    "start_time": "2025-01-03T14:59:30.745Z"
   },
   {
    "duration": 106,
    "start_time": "2025-01-03T15:00:26.847Z"
   },
   {
    "duration": 19,
    "start_time": "2025-01-03T15:00:34.052Z"
   },
   {
    "duration": 4,
    "start_time": "2025-01-03T15:00:42.349Z"
   },
   {
    "duration": 6,
    "start_time": "2025-01-03T15:00:48.280Z"
   },
   {
    "duration": 17,
    "start_time": "2025-01-03T15:00:58.587Z"
   },
   {
    "duration": 3,
    "start_time": "2025-01-03T15:01:43.799Z"
   },
   {
    "duration": 2538,
    "start_time": "2025-01-03T15:01:43.808Z"
   },
   {
    "duration": 8,
    "start_time": "2025-01-03T15:01:46.348Z"
   },
   {
    "duration": 26,
    "start_time": "2025-01-03T15:01:46.358Z"
   },
   {
    "duration": 18,
    "start_time": "2025-01-03T15:01:46.386Z"
   },
   {
    "duration": 47,
    "start_time": "2025-01-03T15:01:46.406Z"
   },
   {
    "duration": 51,
    "start_time": "2025-01-03T15:01:46.455Z"
   },
   {
    "duration": 123,
    "start_time": "2025-01-03T15:01:46.508Z"
   },
   {
    "duration": 8,
    "start_time": "2025-01-03T15:01:46.633Z"
   },
   {
    "duration": 35,
    "start_time": "2025-01-03T15:01:46.642Z"
   },
   {
    "duration": 18,
    "start_time": "2025-01-03T15:01:46.679Z"
   },
   {
    "duration": 19,
    "start_time": "2025-01-03T15:01:46.698Z"
   },
   {
    "duration": 13,
    "start_time": "2025-01-03T15:01:46.719Z"
   },
   {
    "duration": 22,
    "start_time": "2025-01-03T15:01:46.734Z"
   },
   {
    "duration": 14,
    "start_time": "2025-01-03T15:01:46.759Z"
   },
   {
    "duration": 102,
    "start_time": "2025-01-03T15:01:46.775Z"
   },
   {
    "duration": 10,
    "start_time": "2025-01-03T15:01:46.878Z"
   },
   {
    "duration": 1633,
    "start_time": "2025-01-03T15:01:46.889Z"
   },
   {
    "duration": 170,
    "start_time": "2025-01-03T15:01:48.524Z"
   },
   {
    "duration": 58,
    "start_time": "2025-01-03T15:01:48.696Z"
   },
   {
    "duration": 39,
    "start_time": "2025-01-03T15:01:48.756Z"
   },
   {
    "duration": 161,
    "start_time": "2025-01-03T15:01:48.796Z"
   },
   {
    "duration": 269,
    "start_time": "2025-01-03T15:01:48.958Z"
   },
   {
    "duration": 12,
    "start_time": "2025-01-03T15:01:49.228Z"
   },
   {
    "duration": 35,
    "start_time": "2025-01-03T15:01:49.241Z"
   },
   {
    "duration": 70,
    "start_time": "2025-01-03T15:01:49.278Z"
   },
   {
    "duration": 26,
    "start_time": "2025-01-03T15:01:49.349Z"
   },
   {
    "duration": 108,
    "start_time": "2025-01-03T15:01:49.377Z"
   },
   {
    "duration": 3,
    "start_time": "2025-01-03T15:01:49.487Z"
   },
   {
    "duration": 90,
    "start_time": "2025-01-03T15:01:49.491Z"
   },
   {
    "duration": 4,
    "start_time": "2025-01-03T15:01:49.583Z"
   },
   {
    "duration": 407,
    "start_time": "2025-01-03T15:01:49.588Z"
   },
   {
    "duration": 75,
    "start_time": "2025-01-03T15:01:49.996Z"
   },
   {
    "duration": 98,
    "start_time": "2025-01-03T15:01:50.073Z"
   },
   {
    "duration": 99,
    "start_time": "2025-01-03T15:01:50.173Z"
   },
   {
    "duration": 23,
    "start_time": "2025-01-03T15:01:50.274Z"
   },
   {
    "duration": 125,
    "start_time": "2025-01-03T15:01:50.299Z"
   },
   {
    "duration": 55,
    "start_time": "2025-01-03T15:01:50.426Z"
   },
   {
    "duration": 27,
    "start_time": "2025-01-03T15:01:50.483Z"
   },
   {
    "duration": 86,
    "start_time": "2025-01-03T15:01:50.511Z"
   },
   {
    "duration": 20,
    "start_time": "2025-01-03T15:01:50.600Z"
   },
   {
    "duration": 4,
    "start_time": "2025-01-03T15:01:50.625Z"
   },
   {
    "duration": 18,
    "start_time": "2025-01-03T15:01:50.631Z"
   },
   {
    "duration": 31,
    "start_time": "2025-01-03T15:01:50.650Z"
   },
   {
    "duration": 26,
    "start_time": "2025-01-03T15:02:34.450Z"
   },
   {
    "duration": 3,
    "start_time": "2025-01-03T15:03:18.810Z"
   },
   {
    "duration": 2260,
    "start_time": "2025-01-03T15:03:18.815Z"
   },
   {
    "duration": 8,
    "start_time": "2025-01-03T15:03:21.077Z"
   },
   {
    "duration": 15,
    "start_time": "2025-01-03T15:03:21.087Z"
   },
   {
    "duration": 14,
    "start_time": "2025-01-03T15:03:21.103Z"
   },
   {
    "duration": 76,
    "start_time": "2025-01-03T15:03:21.118Z"
   },
   {
    "duration": 76,
    "start_time": "2025-01-03T15:03:21.196Z"
   },
   {
    "duration": 206,
    "start_time": "2025-01-03T15:03:21.274Z"
   },
   {
    "duration": 8,
    "start_time": "2025-01-03T15:03:21.482Z"
   },
   {
    "duration": 77,
    "start_time": "2025-01-03T15:03:21.493Z"
   },
   {
    "duration": 15,
    "start_time": "2025-01-03T15:03:21.572Z"
   },
   {
    "duration": 131,
    "start_time": "2025-01-03T15:03:21.589Z"
   },
   {
    "duration": 10,
    "start_time": "2025-01-03T15:03:21.721Z"
   },
   {
    "duration": 43,
    "start_time": "2025-01-03T15:03:21.732Z"
   },
   {
    "duration": 8,
    "start_time": "2025-01-03T15:03:21.777Z"
   },
   {
    "duration": 104,
    "start_time": "2025-01-03T15:03:21.787Z"
   },
   {
    "duration": 9,
    "start_time": "2025-01-03T15:03:21.893Z"
   },
   {
    "duration": 979,
    "start_time": "2025-01-03T15:03:21.903Z"
   },
   {
    "duration": 169,
    "start_time": "2025-01-03T15:03:22.884Z"
   },
   {
    "duration": 65,
    "start_time": "2025-01-03T15:03:23.055Z"
   },
   {
    "duration": 25,
    "start_time": "2025-01-03T15:03:23.122Z"
   },
   {
    "duration": 162,
    "start_time": "2025-01-03T15:03:23.149Z"
   },
   {
    "duration": 261,
    "start_time": "2025-01-03T15:03:23.313Z"
   },
   {
    "duration": 13,
    "start_time": "2025-01-03T15:03:23.576Z"
   },
   {
    "duration": 21,
    "start_time": "2025-01-03T15:03:23.590Z"
   },
   {
    "duration": 78,
    "start_time": "2025-01-03T15:03:23.612Z"
   },
   {
    "duration": 21,
    "start_time": "2025-01-03T15:03:23.692Z"
   },
   {
    "duration": 116,
    "start_time": "2025-01-03T15:03:23.717Z"
   },
   {
    "duration": 3,
    "start_time": "2025-01-03T15:03:23.834Z"
   },
   {
    "duration": 80,
    "start_time": "2025-01-03T15:03:23.839Z"
   },
   {
    "duration": 4,
    "start_time": "2025-01-03T15:03:23.921Z"
   },
   {
    "duration": 434,
    "start_time": "2025-01-03T15:03:23.926Z"
   },
   {
    "duration": 68,
    "start_time": "2025-01-03T15:03:24.361Z"
   },
   {
    "duration": 97,
    "start_time": "2025-01-03T15:03:24.431Z"
   },
   {
    "duration": 104,
    "start_time": "2025-01-03T15:03:24.530Z"
   },
   {
    "duration": 14,
    "start_time": "2025-01-03T15:03:24.636Z"
   },
   {
    "duration": 114,
    "start_time": "2025-01-03T15:03:24.652Z"
   },
   {
    "duration": 39,
    "start_time": "2025-01-03T15:03:24.771Z"
   },
   {
    "duration": 29,
    "start_time": "2025-01-03T15:03:24.812Z"
   },
   {
    "duration": 39,
    "start_time": "2025-01-03T15:03:24.843Z"
   },
   {
    "duration": 52,
    "start_time": "2025-01-03T15:03:24.884Z"
   },
   {
    "duration": 7,
    "start_time": "2025-01-03T15:03:24.938Z"
   },
   {
    "duration": 17,
    "start_time": "2025-01-03T15:03:24.946Z"
   },
   {
    "duration": 3,
    "start_time": "2025-01-03T15:07:15.818Z"
   },
   {
    "duration": 1786,
    "start_time": "2025-01-03T15:07:15.823Z"
   },
   {
    "duration": 9,
    "start_time": "2025-01-03T15:07:17.611Z"
   },
   {
    "duration": 28,
    "start_time": "2025-01-03T15:07:17.622Z"
   },
   {
    "duration": 8,
    "start_time": "2025-01-03T15:07:17.652Z"
   },
   {
    "duration": 27,
    "start_time": "2025-01-03T15:07:17.662Z"
   },
   {
    "duration": 25,
    "start_time": "2025-01-03T15:07:17.691Z"
   },
   {
    "duration": 115,
    "start_time": "2025-01-03T15:07:17.717Z"
   },
   {
    "duration": 7,
    "start_time": "2025-01-03T15:07:17.834Z"
   },
   {
    "duration": 34,
    "start_time": "2025-01-03T15:07:17.843Z"
   },
   {
    "duration": 10,
    "start_time": "2025-01-03T15:07:17.878Z"
   },
   {
    "duration": 18,
    "start_time": "2025-01-03T15:07:17.890Z"
   },
   {
    "duration": 16,
    "start_time": "2025-01-03T15:07:17.910Z"
   },
   {
    "duration": 31,
    "start_time": "2025-01-03T15:07:17.927Z"
   },
   {
    "duration": 12,
    "start_time": "2025-01-03T15:07:17.959Z"
   },
   {
    "duration": 45,
    "start_time": "2025-01-03T15:07:17.972Z"
   },
   {
    "duration": 10,
    "start_time": "2025-01-03T15:07:18.019Z"
   },
   {
    "duration": 1493,
    "start_time": "2025-01-03T15:07:18.030Z"
   },
   {
    "duration": 174,
    "start_time": "2025-01-03T15:07:19.525Z"
   },
   {
    "duration": 55,
    "start_time": "2025-01-03T15:07:19.701Z"
   },
   {
    "duration": 37,
    "start_time": "2025-01-03T15:07:19.758Z"
   },
   {
    "duration": 163,
    "start_time": "2025-01-03T15:07:19.796Z"
   },
   {
    "duration": 256,
    "start_time": "2025-01-03T15:07:19.961Z"
   },
   {
    "duration": 13,
    "start_time": "2025-01-03T15:07:20.219Z"
   },
   {
    "duration": 21,
    "start_time": "2025-01-03T15:07:20.234Z"
   },
   {
    "duration": 64,
    "start_time": "2025-01-03T15:07:20.271Z"
   },
   {
    "duration": 39,
    "start_time": "2025-01-03T15:07:20.337Z"
   },
   {
    "duration": 113,
    "start_time": "2025-01-03T15:07:20.381Z"
   },
   {
    "duration": 4,
    "start_time": "2025-01-03T15:07:20.496Z"
   },
   {
    "duration": 177,
    "start_time": "2025-01-03T15:07:20.502Z"
   },
   {
    "duration": 5,
    "start_time": "2025-01-03T15:07:20.680Z"
   },
   {
    "duration": 330,
    "start_time": "2025-01-03T15:07:20.687Z"
   },
   {
    "duration": 72,
    "start_time": "2025-01-03T15:07:21.019Z"
   },
   {
    "duration": 92,
    "start_time": "2025-01-03T15:07:21.092Z"
   },
   {
    "duration": 101,
    "start_time": "2025-01-03T15:07:21.186Z"
   },
   {
    "duration": 15,
    "start_time": "2025-01-03T15:07:21.289Z"
   },
   {
    "duration": 122,
    "start_time": "2025-01-03T15:07:21.306Z"
   },
   {
    "duration": 45,
    "start_time": "2025-01-03T15:07:21.430Z"
   },
   {
    "duration": 30,
    "start_time": "2025-01-03T15:07:21.477Z"
   },
   {
    "duration": 21,
    "start_time": "2025-01-03T15:07:21.509Z"
   },
   {
    "duration": 5,
    "start_time": "2025-01-03T15:07:21.531Z"
   },
   {
    "duration": 36,
    "start_time": "2025-01-03T15:07:21.538Z"
   },
   {
    "duration": 19,
    "start_time": "2025-01-03T15:07:21.576Z"
   },
   {
    "duration": 110,
    "start_time": "2025-01-03T15:07:21.597Z"
   },
   {
    "duration": 3,
    "start_time": "2025-01-03T15:10:39.700Z"
   },
   {
    "duration": 2051,
    "start_time": "2025-01-03T15:10:39.705Z"
   },
   {
    "duration": 13,
    "start_time": "2025-01-03T15:10:41.758Z"
   },
   {
    "duration": 17,
    "start_time": "2025-01-03T15:10:41.773Z"
   },
   {
    "duration": 17,
    "start_time": "2025-01-03T15:10:41.791Z"
   },
   {
    "duration": 43,
    "start_time": "2025-01-03T15:10:41.809Z"
   },
   {
    "duration": 25,
    "start_time": "2025-01-03T15:10:41.854Z"
   },
   {
    "duration": 121,
    "start_time": "2025-01-03T15:10:41.881Z"
   },
   {
    "duration": 7,
    "start_time": "2025-01-03T15:10:42.004Z"
   },
   {
    "duration": 28,
    "start_time": "2025-01-03T15:10:42.014Z"
   },
   {
    "duration": 11,
    "start_time": "2025-01-03T15:10:42.044Z"
   },
   {
    "duration": 34,
    "start_time": "2025-01-03T15:10:42.056Z"
   },
   {
    "duration": 7,
    "start_time": "2025-01-03T15:10:42.091Z"
   },
   {
    "duration": 9,
    "start_time": "2025-01-03T15:10:42.099Z"
   },
   {
    "duration": 14,
    "start_time": "2025-01-03T15:10:42.110Z"
   },
   {
    "duration": 48,
    "start_time": "2025-01-03T15:10:42.126Z"
   },
   {
    "duration": 8,
    "start_time": "2025-01-03T15:10:42.176Z"
   },
   {
    "duration": 3,
    "start_time": "2025-01-03T15:10:44.883Z"
   },
   {
    "duration": 2423,
    "start_time": "2025-01-03T15:10:44.887Z"
   },
   {
    "duration": 9,
    "start_time": "2025-01-03T15:10:47.312Z"
   },
   {
    "duration": 17,
    "start_time": "2025-01-03T15:10:47.323Z"
   },
   {
    "duration": 8,
    "start_time": "2025-01-03T15:10:47.341Z"
   },
   {
    "duration": 43,
    "start_time": "2025-01-03T15:10:47.350Z"
   },
   {
    "duration": 24,
    "start_time": "2025-01-03T15:10:47.394Z"
   },
   {
    "duration": 131,
    "start_time": "2025-01-03T15:10:47.419Z"
   },
   {
    "duration": 7,
    "start_time": "2025-01-03T15:10:47.552Z"
   },
   {
    "duration": 25,
    "start_time": "2025-01-03T15:10:47.561Z"
   },
   {
    "duration": 10,
    "start_time": "2025-01-03T15:10:47.588Z"
   },
   {
    "duration": 64,
    "start_time": "2025-01-03T15:10:47.599Z"
   },
   {
    "duration": 27,
    "start_time": "2025-01-03T15:10:47.665Z"
   },
   {
    "duration": 10,
    "start_time": "2025-01-03T15:10:47.694Z"
   },
   {
    "duration": 9,
    "start_time": "2025-01-03T15:10:47.705Z"
   },
   {
    "duration": 70,
    "start_time": "2025-01-03T15:10:47.715Z"
   },
   {
    "duration": 9,
    "start_time": "2025-01-03T15:10:47.787Z"
   },
   {
    "duration": 763,
    "start_time": "2025-01-03T15:10:47.798Z"
   },
   {
    "duration": 157,
    "start_time": "2025-01-03T15:10:48.570Z"
   },
   {
    "duration": 64,
    "start_time": "2025-01-03T15:10:48.729Z"
   },
   {
    "duration": 27,
    "start_time": "2025-01-03T15:10:48.795Z"
   },
   {
    "duration": 162,
    "start_time": "2025-01-03T15:10:48.824Z"
   },
   {
    "duration": 251,
    "start_time": "2025-01-03T15:10:48.987Z"
   },
   {
    "duration": 14,
    "start_time": "2025-01-03T15:10:49.240Z"
   },
   {
    "duration": 28,
    "start_time": "2025-01-03T15:10:49.255Z"
   },
   {
    "duration": 61,
    "start_time": "2025-01-03T15:10:49.284Z"
   },
   {
    "duration": 41,
    "start_time": "2025-01-03T15:10:49.347Z"
   },
   {
    "duration": 107,
    "start_time": "2025-01-03T15:10:49.390Z"
   },
   {
    "duration": 3,
    "start_time": "2025-01-03T15:10:49.498Z"
   },
   {
    "duration": 79,
    "start_time": "2025-01-03T15:10:49.503Z"
   },
   {
    "duration": 4,
    "start_time": "2025-01-03T15:10:49.584Z"
   },
   {
    "duration": 328,
    "start_time": "2025-01-03T15:10:49.589Z"
   },
   {
    "duration": 72,
    "start_time": "2025-01-03T15:10:49.918Z"
   },
   {
    "duration": 91,
    "start_time": "2025-01-03T15:10:49.992Z"
   },
   {
    "duration": 94,
    "start_time": "2025-01-03T15:10:50.084Z"
   },
   {
    "duration": 14,
    "start_time": "2025-01-03T15:10:50.180Z"
   },
   {
    "duration": 197,
    "start_time": "2025-01-03T15:10:50.196Z"
   },
   {
    "duration": 38,
    "start_time": "2025-01-03T15:10:50.395Z"
   },
   {
    "duration": 39,
    "start_time": "2025-01-03T15:10:50.434Z"
   },
   {
    "duration": 20,
    "start_time": "2025-01-03T15:10:50.475Z"
   },
   {
    "duration": 15,
    "start_time": "2025-01-03T15:10:50.497Z"
   },
   {
    "duration": 32,
    "start_time": "2025-01-03T15:10:50.513Z"
   },
   {
    "duration": 79,
    "start_time": "2025-01-03T15:10:50.546Z"
   },
   {
    "duration": 8,
    "start_time": "2025-01-03T15:10:50.631Z"
   },
   {
    "duration": 8,
    "start_time": "2025-01-03T15:12:11.993Z"
   },
   {
    "duration": 9,
    "start_time": "2025-01-03T15:12:15.348Z"
   },
   {
    "duration": 9,
    "start_time": "2025-01-03T15:12:22.118Z"
   },
   {
    "duration": 30,
    "start_time": "2025-01-03T15:13:08.697Z"
   },
   {
    "duration": 2,
    "start_time": "2025-01-03T15:15:50.616Z"
   },
   {
    "duration": 1927,
    "start_time": "2025-01-03T15:15:50.622Z"
   },
   {
    "duration": 10,
    "start_time": "2025-01-03T15:15:52.551Z"
   },
   {
    "duration": 12,
    "start_time": "2025-01-03T15:15:52.570Z"
   },
   {
    "duration": 14,
    "start_time": "2025-01-03T15:15:52.583Z"
   },
   {
    "duration": 33,
    "start_time": "2025-01-03T15:15:52.600Z"
   },
   {
    "duration": 26,
    "start_time": "2025-01-03T15:15:52.635Z"
   },
   {
    "duration": 114,
    "start_time": "2025-01-03T15:15:52.671Z"
   },
   {
    "duration": 8,
    "start_time": "2025-01-03T15:15:52.787Z"
   },
   {
    "duration": 23,
    "start_time": "2025-01-03T15:15:52.797Z"
   },
   {
    "duration": 36,
    "start_time": "2025-01-03T15:15:52.822Z"
   },
   {
    "duration": 17,
    "start_time": "2025-01-03T15:15:52.860Z"
   },
   {
    "duration": 8,
    "start_time": "2025-01-03T15:15:52.879Z"
   },
   {
    "duration": 23,
    "start_time": "2025-01-03T15:15:52.889Z"
   },
   {
    "duration": 13,
    "start_time": "2025-01-03T15:15:52.917Z"
   },
   {
    "duration": 59,
    "start_time": "2025-01-03T15:15:52.931Z"
   },
   {
    "duration": 9,
    "start_time": "2025-01-03T15:15:52.992Z"
   },
   {
    "duration": 793,
    "start_time": "2025-01-03T15:15:53.003Z"
   },
   {
    "duration": 196,
    "start_time": "2025-01-03T15:15:53.799Z"
   },
   {
    "duration": 58,
    "start_time": "2025-01-03T15:15:53.998Z"
   },
   {
    "duration": 33,
    "start_time": "2025-01-03T15:15:54.071Z"
   },
   {
    "duration": 167,
    "start_time": "2025-01-03T15:15:54.106Z"
   },
   {
    "duration": 270,
    "start_time": "2025-01-03T15:15:54.275Z"
   },
   {
    "duration": 14,
    "start_time": "2025-01-03T15:15:54.547Z"
   },
   {
    "duration": 64,
    "start_time": "2025-01-03T15:15:54.562Z"
   },
   {
    "duration": 81,
    "start_time": "2025-01-03T15:15:54.628Z"
   },
   {
    "duration": 39,
    "start_time": "2025-01-03T15:15:54.711Z"
   },
   {
    "duration": 203,
    "start_time": "2025-01-03T15:15:54.752Z"
   },
   {
    "duration": 3,
    "start_time": "2025-01-03T15:15:54.957Z"
   },
   {
    "duration": 80,
    "start_time": "2025-01-03T15:15:54.962Z"
   },
   {
    "duration": 4,
    "start_time": "2025-01-03T15:15:55.044Z"
   },
   {
    "duration": 348,
    "start_time": "2025-01-03T15:15:55.051Z"
   },
   {
    "duration": 56,
    "start_time": "2025-01-03T15:15:55.401Z"
   },
   {
    "duration": 99,
    "start_time": "2025-01-03T15:15:55.472Z"
   },
   {
    "duration": 98,
    "start_time": "2025-01-03T15:15:55.573Z"
   },
   {
    "duration": 15,
    "start_time": "2025-01-03T15:15:55.672Z"
   },
   {
    "duration": 137,
    "start_time": "2025-01-03T15:15:55.688Z"
   },
   {
    "duration": 49,
    "start_time": "2025-01-03T15:15:55.827Z"
   },
   {
    "duration": 30,
    "start_time": "2025-01-03T15:15:55.878Z"
   },
   {
    "duration": 23,
    "start_time": "2025-01-03T15:15:55.909Z"
   },
   {
    "duration": 4,
    "start_time": "2025-01-03T15:15:55.934Z"
   },
   {
    "duration": 34,
    "start_time": "2025-01-03T15:15:55.941Z"
   },
   {
    "duration": 17,
    "start_time": "2025-01-03T15:15:55.977Z"
   },
   {
    "duration": 25,
    "start_time": "2025-01-03T15:15:55.996Z"
   },
   {
    "duration": 9,
    "start_time": "2025-01-03T15:16:25.370Z"
   },
   {
    "duration": 71,
    "start_time": "2025-01-03T15:39:05.492Z"
   },
   {
    "duration": 89,
    "start_time": "2025-01-03T15:39:08.764Z"
   },
   {
    "duration": 98,
    "start_time": "2025-01-03T15:39:43.963Z"
   },
   {
    "duration": 13,
    "start_time": "2025-01-03T15:40:00.403Z"
   },
   {
    "duration": 91,
    "start_time": "2025-01-03T15:40:09.977Z"
   },
   {
    "duration": 3,
    "start_time": "2025-01-03T15:45:56.219Z"
   },
   {
    "duration": 2553,
    "start_time": "2025-01-03T15:45:56.223Z"
   },
   {
    "duration": 11,
    "start_time": "2025-01-03T15:45:58.778Z"
   },
   {
    "duration": 16,
    "start_time": "2025-01-03T15:45:58.792Z"
   },
   {
    "duration": 10,
    "start_time": "2025-01-03T15:45:58.810Z"
   },
   {
    "duration": 56,
    "start_time": "2025-01-03T15:45:58.822Z"
   },
   {
    "duration": 25,
    "start_time": "2025-01-03T15:45:58.880Z"
   },
   {
    "duration": 118,
    "start_time": "2025-01-03T15:45:58.906Z"
   },
   {
    "duration": 7,
    "start_time": "2025-01-03T15:45:59.026Z"
   },
   {
    "duration": 46,
    "start_time": "2025-01-03T15:45:59.036Z"
   },
   {
    "duration": 10,
    "start_time": "2025-01-03T15:45:59.084Z"
   },
   {
    "duration": 25,
    "start_time": "2025-01-03T15:45:59.095Z"
   },
   {
    "duration": 21,
    "start_time": "2025-01-03T15:45:59.122Z"
   },
   {
    "duration": 10,
    "start_time": "2025-01-03T15:45:59.145Z"
   },
   {
    "duration": 7,
    "start_time": "2025-01-03T15:45:59.157Z"
   },
   {
    "duration": 46,
    "start_time": "2025-01-03T15:45:59.166Z"
   },
   {
    "duration": 9,
    "start_time": "2025-01-03T15:45:59.214Z"
   },
   {
    "duration": 759,
    "start_time": "2025-01-03T15:45:59.224Z"
   },
   {
    "duration": 166,
    "start_time": "2025-01-03T15:45:59.984Z"
   },
   {
    "duration": 67,
    "start_time": "2025-01-03T15:46:00.152Z"
   },
   {
    "duration": 27,
    "start_time": "2025-01-03T15:46:00.221Z"
   },
   {
    "duration": 204,
    "start_time": "2025-01-03T15:46:00.250Z"
   },
   {
    "duration": 263,
    "start_time": "2025-01-03T15:46:00.456Z"
   },
   {
    "duration": 12,
    "start_time": "2025-01-03T15:46:00.721Z"
   },
   {
    "duration": 76,
    "start_time": "2025-01-03T15:46:00.735Z"
   },
   {
    "duration": 83,
    "start_time": "2025-01-03T15:46:00.813Z"
   },
   {
    "duration": 52,
    "start_time": "2025-01-03T15:46:00.898Z"
   },
   {
    "duration": 107,
    "start_time": "2025-01-03T15:46:00.953Z"
   },
   {
    "duration": 3,
    "start_time": "2025-01-03T15:46:01.062Z"
   },
   {
    "duration": 138,
    "start_time": "2025-01-03T15:46:01.069Z"
   },
   {
    "duration": 4,
    "start_time": "2025-01-03T15:46:01.208Z"
   },
   {
    "duration": 370,
    "start_time": "2025-01-03T15:46:01.214Z"
   },
   {
    "duration": 57,
    "start_time": "2025-01-03T15:46:01.586Z"
   },
   {
    "duration": 105,
    "start_time": "2025-01-03T15:46:01.645Z"
   },
   {
    "duration": 103,
    "start_time": "2025-01-03T15:46:01.752Z"
   },
   {
    "duration": 23,
    "start_time": "2025-01-03T15:46:01.857Z"
   },
   {
    "duration": 66,
    "start_time": "2025-01-03T15:46:01.882Z"
   },
   {
    "duration": 5,
    "start_time": "2025-01-03T15:46:01.950Z"
   },
   {
    "duration": 88,
    "start_time": "2025-01-03T15:46:01.956Z"
   },
   {
    "duration": 30,
    "start_time": "2025-01-03T15:46:02.046Z"
   },
   {
    "duration": 13,
    "start_time": "2025-01-03T15:46:02.077Z"
   },
   {
    "duration": 22,
    "start_time": "2025-01-03T15:46:02.092Z"
   },
   {
    "duration": 57,
    "start_time": "2025-01-03T15:46:02.116Z"
   },
   {
    "duration": 11,
    "start_time": "2025-01-03T15:46:02.175Z"
   },
   {
    "duration": 3,
    "start_time": "2025-01-03T15:46:19.844Z"
   },
   {
    "duration": 2016,
    "start_time": "2025-01-03T15:46:19.854Z"
   },
   {
    "duration": 8,
    "start_time": "2025-01-03T15:46:21.873Z"
   },
   {
    "duration": 39,
    "start_time": "2025-01-03T15:46:21.882Z"
   },
   {
    "duration": 47,
    "start_time": "2025-01-03T15:46:21.923Z"
   },
   {
    "duration": 25,
    "start_time": "2025-01-03T15:46:21.973Z"
   },
   {
    "duration": 78,
    "start_time": "2025-01-03T15:46:21.999Z"
   },
   {
    "duration": 205,
    "start_time": "2025-01-03T15:46:22.078Z"
   },
   {
    "duration": 8,
    "start_time": "2025-01-03T15:46:22.284Z"
   },
   {
    "duration": 103,
    "start_time": "2025-01-03T15:46:22.294Z"
   },
   {
    "duration": 10,
    "start_time": "2025-01-03T15:46:22.399Z"
   },
   {
    "duration": 65,
    "start_time": "2025-01-03T15:46:22.410Z"
   },
   {
    "duration": 7,
    "start_time": "2025-01-03T15:46:22.476Z"
   },
   {
    "duration": 10,
    "start_time": "2025-01-03T15:46:22.484Z"
   },
   {
    "duration": 9,
    "start_time": "2025-01-03T15:46:22.496Z"
   },
   {
    "duration": 91,
    "start_time": "2025-01-03T15:46:22.507Z"
   },
   {
    "duration": 9,
    "start_time": "2025-01-03T15:46:22.600Z"
   },
   {
    "duration": 847,
    "start_time": "2025-01-03T15:46:22.611Z"
   },
   {
    "duration": 170,
    "start_time": "2025-01-03T15:46:23.460Z"
   },
   {
    "duration": 63,
    "start_time": "2025-01-03T15:46:23.632Z"
   },
   {
    "duration": 26,
    "start_time": "2025-01-03T15:46:23.697Z"
   },
   {
    "duration": 223,
    "start_time": "2025-01-03T15:46:23.724Z"
   },
   {
    "duration": 299,
    "start_time": "2025-01-03T15:46:23.948Z"
   },
   {
    "duration": 12,
    "start_time": "2025-01-03T15:46:24.249Z"
   },
   {
    "duration": 15,
    "start_time": "2025-01-03T15:46:24.272Z"
   },
   {
    "duration": 63,
    "start_time": "2025-01-03T15:46:24.288Z"
   },
   {
    "duration": 74,
    "start_time": "2025-01-03T15:46:24.352Z"
   },
   {
    "duration": 100,
    "start_time": "2025-01-03T15:46:24.427Z"
   },
   {
    "duration": 3,
    "start_time": "2025-01-03T15:46:24.529Z"
   },
   {
    "duration": 100,
    "start_time": "2025-01-03T15:46:24.533Z"
   },
   {
    "duration": 3,
    "start_time": "2025-01-03T15:46:24.635Z"
   },
   {
    "duration": 330,
    "start_time": "2025-01-03T15:46:24.640Z"
   },
   {
    "duration": 59,
    "start_time": "2025-01-03T15:46:24.972Z"
   },
   {
    "duration": 100,
    "start_time": "2025-01-03T15:46:25.033Z"
   },
   {
    "duration": 99,
    "start_time": "2025-01-03T15:46:25.135Z"
   },
   {
    "duration": 13,
    "start_time": "2025-01-03T15:46:25.236Z"
   },
   {
    "duration": 71,
    "start_time": "2025-01-03T15:46:25.251Z"
   },
   {
    "duration": 5,
    "start_time": "2025-01-03T15:46:25.324Z"
   },
   {
    "duration": 45,
    "start_time": "2025-01-03T15:46:25.331Z"
   },
   {
    "duration": 4,
    "start_time": "2025-01-03T15:46:25.377Z"
   },
   {
    "duration": 15,
    "start_time": "2025-01-03T15:46:25.382Z"
   },
   {
    "duration": 5,
    "start_time": "2025-01-03T15:46:25.401Z"
   },
   {
    "duration": 20,
    "start_time": "2025-01-03T15:46:25.408Z"
   },
   {
    "duration": 8,
    "start_time": "2025-01-03T15:46:25.430Z"
   },
   {
    "duration": 3,
    "start_time": "2025-01-03T15:46:47.707Z"
   },
   {
    "duration": 1871,
    "start_time": "2025-01-03T15:46:47.715Z"
   },
   {
    "duration": 8,
    "start_time": "2025-01-03T15:46:49.588Z"
   },
   {
    "duration": 23,
    "start_time": "2025-01-03T15:46:49.598Z"
   },
   {
    "duration": 55,
    "start_time": "2025-01-03T15:46:49.624Z"
   },
   {
    "duration": 90,
    "start_time": "2025-01-03T15:46:49.681Z"
   },
   {
    "duration": 34,
    "start_time": "2025-01-03T15:46:49.773Z"
   },
   {
    "duration": 264,
    "start_time": "2025-01-03T15:46:49.808Z"
   },
   {
    "duration": 8,
    "start_time": "2025-01-03T15:46:50.073Z"
   },
   {
    "duration": 21,
    "start_time": "2025-01-03T15:46:50.083Z"
   },
   {
    "duration": 10,
    "start_time": "2025-01-03T15:46:50.107Z"
   },
   {
    "duration": 18,
    "start_time": "2025-01-03T15:46:50.171Z"
   },
   {
    "duration": 12,
    "start_time": "2025-01-03T15:46:50.190Z"
   },
   {
    "duration": 11,
    "start_time": "2025-01-03T15:46:50.203Z"
   },
   {
    "duration": 56,
    "start_time": "2025-01-03T15:46:50.216Z"
   },
   {
    "duration": 97,
    "start_time": "2025-01-03T15:46:50.274Z"
   },
   {
    "duration": 10,
    "start_time": "2025-01-03T15:46:50.373Z"
   },
   {
    "duration": 1037,
    "start_time": "2025-01-03T15:46:50.385Z"
   },
   {
    "duration": 167,
    "start_time": "2025-01-03T15:46:51.424Z"
   },
   {
    "duration": 58,
    "start_time": "2025-01-03T15:46:51.592Z"
   },
   {
    "duration": 41,
    "start_time": "2025-01-03T15:46:51.652Z"
   },
   {
    "duration": 168,
    "start_time": "2025-01-03T15:46:51.694Z"
   },
   {
    "duration": 268,
    "start_time": "2025-01-03T15:46:51.863Z"
   },
   {
    "duration": 11,
    "start_time": "2025-01-03T15:46:52.132Z"
   },
   {
    "duration": 26,
    "start_time": "2025-01-03T15:46:52.145Z"
   },
   {
    "duration": 60,
    "start_time": "2025-01-03T15:46:52.173Z"
   },
   {
    "duration": 13,
    "start_time": "2025-01-03T15:46:52.235Z"
   },
   {
    "duration": 133,
    "start_time": "2025-01-03T15:46:52.250Z"
   },
   {
    "duration": 3,
    "start_time": "2025-01-03T15:46:52.387Z"
   },
   {
    "duration": 86,
    "start_time": "2025-01-03T15:46:52.392Z"
   },
   {
    "duration": 4,
    "start_time": "2025-01-03T15:46:52.480Z"
   },
   {
    "duration": 329,
    "start_time": "2025-01-03T15:46:52.485Z"
   },
   {
    "duration": 68,
    "start_time": "2025-01-03T15:46:52.816Z"
   },
   {
    "duration": 86,
    "start_time": "2025-01-03T15:46:52.885Z"
   },
   {
    "duration": 99,
    "start_time": "2025-01-03T15:46:52.972Z"
   },
   {
    "duration": 12,
    "start_time": "2025-01-03T15:46:53.073Z"
   },
   {
    "duration": 87,
    "start_time": "2025-01-03T15:46:53.086Z"
   },
   {
    "duration": 13,
    "start_time": "2025-01-03T15:46:53.175Z"
   },
   {
    "duration": 36,
    "start_time": "2025-01-03T15:46:53.190Z"
   },
   {
    "duration": 3,
    "start_time": "2025-01-03T15:46:53.227Z"
   },
   {
    "duration": 19,
    "start_time": "2025-01-03T15:46:53.232Z"
   },
   {
    "duration": 8,
    "start_time": "2025-01-03T15:46:53.253Z"
   },
   {
    "duration": 17,
    "start_time": "2025-01-03T15:46:53.262Z"
   },
   {
    "duration": 8,
    "start_time": "2025-01-03T15:46:53.281Z"
   },
   {
    "duration": 259,
    "start_time": "2025-01-03T15:49:36.492Z"
   },
   {
    "duration": 151,
    "start_time": "2025-01-03T15:50:57.383Z"
   },
   {
    "duration": 5,
    "start_time": "2025-01-03T15:55:27.248Z"
   },
   {
    "duration": 3,
    "start_time": "2025-01-03T15:57:23.550Z"
   },
   {
    "duration": 1954,
    "start_time": "2025-01-03T15:57:23.560Z"
   },
   {
    "duration": 62,
    "start_time": "2025-01-03T15:57:25.516Z"
   },
   {
    "duration": 44,
    "start_time": "2025-01-03T15:57:25.579Z"
   },
   {
    "duration": 50,
    "start_time": "2025-01-03T15:57:25.625Z"
   },
   {
    "duration": 34,
    "start_time": "2025-01-03T15:57:25.677Z"
   },
   {
    "duration": 73,
    "start_time": "2025-01-03T15:57:25.712Z"
   },
   {
    "duration": 227,
    "start_time": "2025-01-03T15:57:25.788Z"
   },
   {
    "duration": 56,
    "start_time": "2025-01-03T15:57:26.017Z"
   },
   {
    "duration": 29,
    "start_time": "2025-01-03T15:57:26.075Z"
   },
   {
    "duration": 10,
    "start_time": "2025-01-03T15:57:26.106Z"
   },
   {
    "duration": 20,
    "start_time": "2025-01-03T15:57:26.171Z"
   },
   {
    "duration": 7,
    "start_time": "2025-01-03T15:57:26.193Z"
   },
   {
    "duration": 69,
    "start_time": "2025-01-03T15:57:26.202Z"
   },
   {
    "duration": 10,
    "start_time": "2025-01-03T15:57:26.274Z"
   },
   {
    "duration": 92,
    "start_time": "2025-01-03T15:57:26.285Z"
   },
   {
    "duration": 9,
    "start_time": "2025-01-03T15:57:26.378Z"
   },
   {
    "duration": 963,
    "start_time": "2025-01-03T15:57:26.388Z"
   },
   {
    "duration": 167,
    "start_time": "2025-01-03T15:57:27.353Z"
   },
   {
    "duration": 65,
    "start_time": "2025-01-03T15:57:27.522Z"
   },
   {
    "duration": 26,
    "start_time": "2025-01-03T15:57:27.589Z"
   },
   {
    "duration": 162,
    "start_time": "2025-01-03T15:57:27.617Z"
   },
   {
    "duration": 5,
    "start_time": "2025-01-03T15:57:27.780Z"
   },
   {
    "duration": 284,
    "start_time": "2025-01-03T15:57:27.786Z"
   },
   {
    "duration": 15,
    "start_time": "2025-01-03T15:57:28.072Z"
   },
   {
    "duration": 19,
    "start_time": "2025-01-03T15:57:28.089Z"
   },
   {
    "duration": 76,
    "start_time": "2025-01-03T15:57:28.109Z"
   },
   {
    "duration": 21,
    "start_time": "2025-01-03T15:57:28.187Z"
   },
   {
    "duration": 1294,
    "start_time": "2025-01-03T15:57:28.209Z"
   },
   {
    "duration": 0,
    "start_time": "2025-01-03T15:57:29.505Z"
   },
   {
    "duration": 0,
    "start_time": "2025-01-03T15:57:29.507Z"
   },
   {
    "duration": 0,
    "start_time": "2025-01-03T15:57:29.508Z"
   },
   {
    "duration": 0,
    "start_time": "2025-01-03T15:57:29.509Z"
   },
   {
    "duration": 0,
    "start_time": "2025-01-03T15:57:29.510Z"
   },
   {
    "duration": 0,
    "start_time": "2025-01-03T15:57:29.511Z"
   },
   {
    "duration": 1,
    "start_time": "2025-01-03T15:57:29.512Z"
   },
   {
    "duration": 0,
    "start_time": "2025-01-03T15:57:29.513Z"
   },
   {
    "duration": 0,
    "start_time": "2025-01-03T15:57:29.515Z"
   },
   {
    "duration": 0,
    "start_time": "2025-01-03T15:57:29.516Z"
   },
   {
    "duration": 0,
    "start_time": "2025-01-03T15:57:29.517Z"
   },
   {
    "duration": 0,
    "start_time": "2025-01-03T15:57:29.518Z"
   },
   {
    "duration": 0,
    "start_time": "2025-01-03T15:57:29.519Z"
   },
   {
    "duration": 0,
    "start_time": "2025-01-03T15:57:29.520Z"
   },
   {
    "duration": 0,
    "start_time": "2025-01-03T15:57:29.521Z"
   },
   {
    "duration": 0,
    "start_time": "2025-01-03T15:57:29.522Z"
   },
   {
    "duration": 3,
    "start_time": "2025-01-03T15:57:47.208Z"
   },
   {
    "duration": 1858,
    "start_time": "2025-01-03T15:57:47.212Z"
   },
   {
    "duration": 8,
    "start_time": "2025-01-03T15:57:49.072Z"
   },
   {
    "duration": 49,
    "start_time": "2025-01-03T15:57:49.082Z"
   },
   {
    "duration": 7,
    "start_time": "2025-01-03T15:57:49.133Z"
   },
   {
    "duration": 24,
    "start_time": "2025-01-03T15:57:49.142Z"
   },
   {
    "duration": 25,
    "start_time": "2025-01-03T15:57:49.167Z"
   },
   {
    "duration": 112,
    "start_time": "2025-01-03T15:57:49.194Z"
   },
   {
    "duration": 8,
    "start_time": "2025-01-03T15:57:49.308Z"
   },
   {
    "duration": 34,
    "start_time": "2025-01-03T15:57:49.318Z"
   },
   {
    "duration": 10,
    "start_time": "2025-01-03T15:57:49.354Z"
   },
   {
    "duration": 13,
    "start_time": "2025-01-03T15:57:49.370Z"
   },
   {
    "duration": 11,
    "start_time": "2025-01-03T15:57:49.385Z"
   },
   {
    "duration": 26,
    "start_time": "2025-01-03T15:57:49.398Z"
   },
   {
    "duration": 9,
    "start_time": "2025-01-03T15:57:49.425Z"
   },
   {
    "duration": 48,
    "start_time": "2025-01-03T15:57:49.435Z"
   },
   {
    "duration": 9,
    "start_time": "2025-01-03T15:57:49.485Z"
   },
   {
    "duration": 1090,
    "start_time": "2025-01-03T15:57:49.495Z"
   },
   {
    "duration": 313,
    "start_time": "2025-01-03T15:57:50.586Z"
   },
   {
    "duration": 110,
    "start_time": "2025-01-03T15:57:50.900Z"
   },
   {
    "duration": 81,
    "start_time": "2025-01-03T15:57:51.011Z"
   },
   {
    "duration": 378,
    "start_time": "2025-01-03T15:57:51.094Z"
   },
   {
    "duration": 5,
    "start_time": "2025-01-03T15:57:51.473Z"
   },
   {
    "duration": 296,
    "start_time": "2025-01-03T15:57:51.480Z"
   },
   {
    "duration": 17,
    "start_time": "2025-01-03T15:57:51.778Z"
   },
   {
    "duration": 71,
    "start_time": "2025-01-03T15:57:51.796Z"
   },
   {
    "duration": 72,
    "start_time": "2025-01-03T15:57:51.869Z"
   },
   {
    "duration": 13,
    "start_time": "2025-01-03T15:57:51.944Z"
   },
   {
    "duration": 1412,
    "start_time": "2025-01-03T15:57:51.959Z"
   },
   {
    "duration": 0,
    "start_time": "2025-01-03T15:57:53.372Z"
   },
   {
    "duration": 0,
    "start_time": "2025-01-03T15:57:53.374Z"
   },
   {
    "duration": 0,
    "start_time": "2025-01-03T15:57:53.375Z"
   },
   {
    "duration": 0,
    "start_time": "2025-01-03T15:57:53.376Z"
   },
   {
    "duration": 0,
    "start_time": "2025-01-03T15:57:53.377Z"
   },
   {
    "duration": 0,
    "start_time": "2025-01-03T15:57:53.378Z"
   },
   {
    "duration": 0,
    "start_time": "2025-01-03T15:57:53.380Z"
   },
   {
    "duration": 0,
    "start_time": "2025-01-03T15:57:53.381Z"
   },
   {
    "duration": 0,
    "start_time": "2025-01-03T15:57:53.382Z"
   },
   {
    "duration": 0,
    "start_time": "2025-01-03T15:57:53.384Z"
   },
   {
    "duration": 0,
    "start_time": "2025-01-03T15:57:53.385Z"
   },
   {
    "duration": 0,
    "start_time": "2025-01-03T15:57:53.386Z"
   },
   {
    "duration": 0,
    "start_time": "2025-01-03T15:57:53.387Z"
   },
   {
    "duration": 0,
    "start_time": "2025-01-03T15:57:53.388Z"
   },
   {
    "duration": 0,
    "start_time": "2025-01-03T15:57:53.389Z"
   },
   {
    "duration": 0,
    "start_time": "2025-01-03T15:57:53.390Z"
   },
   {
    "duration": 2,
    "start_time": "2025-01-03T15:58:30.533Z"
   },
   {
    "duration": 1908,
    "start_time": "2025-01-03T15:58:30.540Z"
   },
   {
    "duration": 9,
    "start_time": "2025-01-03T15:58:32.450Z"
   },
   {
    "duration": 25,
    "start_time": "2025-01-03T15:58:32.460Z"
   },
   {
    "duration": 8,
    "start_time": "2025-01-03T15:58:32.487Z"
   },
   {
    "duration": 43,
    "start_time": "2025-01-03T15:58:32.497Z"
   },
   {
    "duration": 25,
    "start_time": "2025-01-03T15:58:32.542Z"
   },
   {
    "duration": 107,
    "start_time": "2025-01-03T15:58:32.569Z"
   },
   {
    "duration": 7,
    "start_time": "2025-01-03T15:58:32.678Z"
   },
   {
    "duration": 44,
    "start_time": "2025-01-03T15:58:32.687Z"
   },
   {
    "duration": 24,
    "start_time": "2025-01-03T15:58:32.733Z"
   },
   {
    "duration": 15,
    "start_time": "2025-01-03T15:58:32.758Z"
   },
   {
    "duration": 7,
    "start_time": "2025-01-03T15:58:32.774Z"
   },
   {
    "duration": 9,
    "start_time": "2025-01-03T15:58:32.783Z"
   },
   {
    "duration": 9,
    "start_time": "2025-01-03T15:58:32.795Z"
   },
   {
    "duration": 43,
    "start_time": "2025-01-03T15:58:32.805Z"
   },
   {
    "duration": 9,
    "start_time": "2025-01-03T15:58:32.870Z"
   },
   {
    "duration": 756,
    "start_time": "2025-01-03T15:58:32.881Z"
   },
   {
    "duration": 173,
    "start_time": "2025-01-03T15:58:33.639Z"
   },
   {
    "duration": 58,
    "start_time": "2025-01-03T15:58:33.814Z"
   },
   {
    "duration": 41,
    "start_time": "2025-01-03T15:58:33.874Z"
   },
   {
    "duration": 189,
    "start_time": "2025-01-03T15:58:33.917Z"
   },
   {
    "duration": 4,
    "start_time": "2025-01-03T15:58:34.107Z"
   },
   {
    "duration": 337,
    "start_time": "2025-01-03T15:58:34.113Z"
   },
   {
    "duration": 18,
    "start_time": "2025-01-03T15:58:34.452Z"
   },
   {
    "duration": 19,
    "start_time": "2025-01-03T15:58:34.472Z"
   },
   {
    "duration": 115,
    "start_time": "2025-01-03T15:58:34.492Z"
   },
   {
    "duration": 13,
    "start_time": "2025-01-03T15:58:34.609Z"
   },
   {
    "duration": 1522,
    "start_time": "2025-01-03T15:58:34.624Z"
   },
   {
    "duration": 0,
    "start_time": "2025-01-03T15:58:36.148Z"
   },
   {
    "duration": 0,
    "start_time": "2025-01-03T15:58:36.149Z"
   },
   {
    "duration": 0,
    "start_time": "2025-01-03T15:58:36.151Z"
   },
   {
    "duration": 0,
    "start_time": "2025-01-03T15:58:36.151Z"
   },
   {
    "duration": 0,
    "start_time": "2025-01-03T15:58:36.153Z"
   },
   {
    "duration": 0,
    "start_time": "2025-01-03T15:58:36.154Z"
   },
   {
    "duration": 0,
    "start_time": "2025-01-03T15:58:36.155Z"
   },
   {
    "duration": 0,
    "start_time": "2025-01-03T15:58:36.156Z"
   },
   {
    "duration": 0,
    "start_time": "2025-01-03T15:58:36.157Z"
   },
   {
    "duration": 0,
    "start_time": "2025-01-03T15:58:36.158Z"
   },
   {
    "duration": 0,
    "start_time": "2025-01-03T15:58:36.159Z"
   },
   {
    "duration": 0,
    "start_time": "2025-01-03T15:58:36.160Z"
   },
   {
    "duration": 0,
    "start_time": "2025-01-03T15:58:36.160Z"
   },
   {
    "duration": 0,
    "start_time": "2025-01-03T15:58:36.161Z"
   },
   {
    "duration": 0,
    "start_time": "2025-01-03T15:58:36.162Z"
   },
   {
    "duration": 0,
    "start_time": "2025-01-03T15:58:36.163Z"
   },
   {
    "duration": 3,
    "start_time": "2025-01-03T15:59:00.519Z"
   },
   {
    "duration": 2606,
    "start_time": "2025-01-03T15:59:00.524Z"
   },
   {
    "duration": 10,
    "start_time": "2025-01-03T15:59:03.131Z"
   },
   {
    "duration": 29,
    "start_time": "2025-01-03T15:59:03.143Z"
   },
   {
    "duration": 12,
    "start_time": "2025-01-03T15:59:03.174Z"
   },
   {
    "duration": 24,
    "start_time": "2025-01-03T15:59:03.188Z"
   },
   {
    "duration": 31,
    "start_time": "2025-01-03T15:59:03.214Z"
   },
   {
    "duration": 113,
    "start_time": "2025-01-03T15:59:03.247Z"
   },
   {
    "duration": 12,
    "start_time": "2025-01-03T15:59:03.362Z"
   },
   {
    "duration": 20,
    "start_time": "2025-01-03T15:59:03.376Z"
   },
   {
    "duration": 17,
    "start_time": "2025-01-03T15:59:03.397Z"
   },
   {
    "duration": 15,
    "start_time": "2025-01-03T15:59:03.416Z"
   },
   {
    "duration": 16,
    "start_time": "2025-01-03T15:59:03.433Z"
   },
   {
    "duration": 23,
    "start_time": "2025-01-03T15:59:03.450Z"
   },
   {
    "duration": 9,
    "start_time": "2025-01-03T15:59:03.474Z"
   },
   {
    "duration": 41,
    "start_time": "2025-01-03T15:59:03.485Z"
   },
   {
    "duration": 9,
    "start_time": "2025-01-03T15:59:03.528Z"
   },
   {
    "duration": 828,
    "start_time": "2025-01-03T15:59:03.538Z"
   },
   {
    "duration": 165,
    "start_time": "2025-01-03T15:59:04.368Z"
   },
   {
    "duration": 66,
    "start_time": "2025-01-03T15:59:04.535Z"
   },
   {
    "duration": 27,
    "start_time": "2025-01-03T15:59:04.603Z"
   },
   {
    "duration": 179,
    "start_time": "2025-01-03T15:59:04.632Z"
   },
   {
    "duration": 3,
    "start_time": "2025-01-03T15:59:04.813Z"
   },
   {
    "duration": 312,
    "start_time": "2025-01-03T15:59:04.818Z"
   },
   {
    "duration": 16,
    "start_time": "2025-01-03T15:59:05.132Z"
   },
   {
    "duration": 28,
    "start_time": "2025-01-03T15:59:05.149Z"
   },
   {
    "duration": 192,
    "start_time": "2025-01-03T15:59:05.179Z"
   },
   {
    "duration": 14,
    "start_time": "2025-01-03T15:59:05.374Z"
   },
   {
    "duration": 196,
    "start_time": "2025-01-03T15:59:05.390Z"
   },
   {
    "duration": 3,
    "start_time": "2025-01-03T15:59:05.588Z"
   },
   {
    "duration": 190,
    "start_time": "2025-01-03T15:59:05.592Z"
   },
   {
    "duration": 5,
    "start_time": "2025-01-03T15:59:05.785Z"
   },
   {
    "duration": 785,
    "start_time": "2025-01-03T15:59:05.792Z"
   },
   {
    "duration": 102,
    "start_time": "2025-01-03T15:59:06.579Z"
   },
   {
    "duration": 97,
    "start_time": "2025-01-03T15:59:06.683Z"
   },
   {
    "duration": 95,
    "start_time": "2025-01-03T15:59:06.782Z"
   },
   {
    "duration": 12,
    "start_time": "2025-01-03T15:59:06.879Z"
   },
   {
    "duration": 63,
    "start_time": "2025-01-03T15:59:06.892Z"
   },
   {
    "duration": 5,
    "start_time": "2025-01-03T15:59:06.957Z"
   },
   {
    "duration": 32,
    "start_time": "2025-01-03T15:59:06.970Z"
   },
   {
    "duration": 4,
    "start_time": "2025-01-03T15:59:07.003Z"
   },
   {
    "duration": 14,
    "start_time": "2025-01-03T15:59:07.008Z"
   },
   {
    "duration": 19,
    "start_time": "2025-01-03T15:59:07.023Z"
   },
   {
    "duration": 120,
    "start_time": "2025-01-03T15:59:07.044Z"
   },
   {
    "duration": 15,
    "start_time": "2025-01-03T15:59:07.166Z"
   },
   {
    "duration": 86,
    "start_time": "2025-01-03T16:00:27.705Z"
   },
   {
    "duration": 23,
    "start_time": "2025-01-03T16:03:47.858Z"
   },
   {
    "duration": 19,
    "start_time": "2025-01-03T16:04:06.486Z"
   },
   {
    "duration": 25,
    "start_time": "2025-01-03T16:04:20.486Z"
   },
   {
    "duration": 52,
    "start_time": "2025-01-03T18:32:06.827Z"
   },
   {
    "duration": 1343,
    "start_time": "2025-01-03T18:32:11.126Z"
   },
   {
    "duration": 2513,
    "start_time": "2025-01-03T18:32:12.471Z"
   },
   {
    "duration": 16,
    "start_time": "2025-01-03T18:32:14.986Z"
   },
   {
    "duration": 50,
    "start_time": "2025-01-03T18:32:15.004Z"
   },
   {
    "duration": 32,
    "start_time": "2025-01-03T18:32:15.055Z"
   },
   {
    "duration": 43,
    "start_time": "2025-01-03T18:32:15.089Z"
   },
   {
    "duration": 22,
    "start_time": "2025-01-03T18:32:15.133Z"
   },
   {
    "duration": 93,
    "start_time": "2025-01-03T18:32:15.157Z"
   },
   {
    "duration": 7,
    "start_time": "2025-01-03T18:32:15.252Z"
   },
   {
    "duration": 52,
    "start_time": "2025-01-03T18:32:15.261Z"
   },
   {
    "duration": 26,
    "start_time": "2025-01-03T18:32:15.315Z"
   },
   {
    "duration": 33,
    "start_time": "2025-01-03T18:32:15.343Z"
   },
   {
    "duration": 18,
    "start_time": "2025-01-03T18:32:15.377Z"
   },
   {
    "duration": 19,
    "start_time": "2025-01-03T18:32:15.401Z"
   },
   {
    "duration": 10,
    "start_time": "2025-01-03T18:32:15.422Z"
   },
   {
    "duration": 80,
    "start_time": "2025-01-03T18:32:15.434Z"
   },
   {
    "duration": 8,
    "start_time": "2025-01-03T18:32:15.515Z"
   },
   {
    "duration": 746,
    "start_time": "2025-01-03T18:32:15.529Z"
   },
   {
    "duration": 180,
    "start_time": "2025-01-03T18:32:16.277Z"
   },
   {
    "duration": 58,
    "start_time": "2025-01-03T18:32:16.459Z"
   },
   {
    "duration": 23,
    "start_time": "2025-01-03T18:32:16.519Z"
   },
   {
    "duration": 207,
    "start_time": "2025-01-03T18:32:16.544Z"
   },
   {
    "duration": 5,
    "start_time": "2025-01-03T18:32:16.753Z"
   },
   {
    "duration": 297,
    "start_time": "2025-01-03T18:32:16.760Z"
   },
   {
    "duration": 15,
    "start_time": "2025-01-03T18:32:17.058Z"
   },
   {
    "duration": 16,
    "start_time": "2025-01-03T18:32:17.087Z"
   },
   {
    "duration": 55,
    "start_time": "2025-01-03T18:32:17.105Z"
   },
   {
    "duration": 31,
    "start_time": "2025-01-03T18:32:17.165Z"
   },
   {
    "duration": 200,
    "start_time": "2025-01-03T18:32:17.198Z"
   },
   {
    "duration": 3,
    "start_time": "2025-01-03T18:32:17.400Z"
   },
   {
    "duration": 67,
    "start_time": "2025-01-03T18:32:17.404Z"
   },
   {
    "duration": 13,
    "start_time": "2025-01-03T18:32:17.473Z"
   },
   {
    "duration": 355,
    "start_time": "2025-01-03T18:32:17.488Z"
   },
   {
    "duration": 50,
    "start_time": "2025-01-03T18:32:17.845Z"
   },
   {
    "duration": 71,
    "start_time": "2025-01-03T18:32:17.896Z"
   },
   {
    "duration": 99,
    "start_time": "2025-01-03T18:32:17.969Z"
   },
   {
    "duration": 20,
    "start_time": "2025-01-03T18:32:18.070Z"
   },
   {
    "duration": 76,
    "start_time": "2025-01-03T18:32:18.092Z"
   },
   {
    "duration": 16,
    "start_time": "2025-01-03T18:32:18.170Z"
   },
   {
    "duration": 31,
    "start_time": "2025-01-03T18:32:18.188Z"
   },
   {
    "duration": 4,
    "start_time": "2025-01-03T18:32:18.220Z"
   },
   {
    "duration": 6,
    "start_time": "2025-01-03T18:32:18.225Z"
   },
   {
    "duration": 4,
    "start_time": "2025-01-03T18:32:18.233Z"
   },
   {
    "duration": 90,
    "start_time": "2025-01-03T18:32:18.239Z"
   },
   {
    "duration": 9,
    "start_time": "2025-01-03T18:32:18.331Z"
   },
   {
    "duration": 1498,
    "start_time": "2025-01-03T18:32:18.341Z"
   },
   {
    "duration": 0,
    "start_time": "2025-01-03T18:32:19.841Z"
   },
   {
    "duration": 0,
    "start_time": "2025-01-03T18:32:19.842Z"
   },
   {
    "duration": 146,
    "start_time": "2025-01-03T18:32:41.443Z"
   },
   {
    "duration": 184,
    "start_time": "2025-01-03T18:38:00.848Z"
   },
   {
    "duration": 181,
    "start_time": "2025-01-03T18:41:49.589Z"
   },
   {
    "duration": 2,
    "start_time": "2025-01-03T18:45:09.822Z"
   },
   {
    "duration": 2294,
    "start_time": "2025-01-03T18:45:09.828Z"
   },
   {
    "duration": 8,
    "start_time": "2025-01-03T18:45:12.124Z"
   },
   {
    "duration": 67,
    "start_time": "2025-01-03T18:45:12.133Z"
   },
   {
    "duration": 8,
    "start_time": "2025-01-03T18:45:12.203Z"
   },
   {
    "duration": 21,
    "start_time": "2025-01-03T18:45:12.213Z"
   },
   {
    "duration": 29,
    "start_time": "2025-01-03T18:45:12.288Z"
   },
   {
    "duration": 273,
    "start_time": "2025-01-03T18:45:12.318Z"
   },
   {
    "duration": 11,
    "start_time": "2025-01-03T18:45:12.593Z"
   },
   {
    "duration": 81,
    "start_time": "2025-01-03T18:45:12.606Z"
   },
   {
    "duration": 16,
    "start_time": "2025-01-03T18:45:12.689Z"
   },
   {
    "duration": 17,
    "start_time": "2025-01-03T18:45:12.707Z"
   },
   {
    "duration": 62,
    "start_time": "2025-01-03T18:45:12.726Z"
   },
   {
    "duration": 23,
    "start_time": "2025-01-03T18:45:12.790Z"
   },
   {
    "duration": 10,
    "start_time": "2025-01-03T18:45:12.816Z"
   },
   {
    "duration": 158,
    "start_time": "2025-01-03T18:45:12.828Z"
   },
   {
    "duration": 20,
    "start_time": "2025-01-03T18:45:12.988Z"
   },
   {
    "duration": 810,
    "start_time": "2025-01-03T18:45:13.010Z"
   },
   {
    "duration": 177,
    "start_time": "2025-01-03T18:45:13.822Z"
   },
   {
    "duration": 53,
    "start_time": "2025-01-03T18:45:14.001Z"
   },
   {
    "duration": 40,
    "start_time": "2025-01-03T18:45:14.055Z"
   },
   {
    "duration": 155,
    "start_time": "2025-01-03T18:45:14.097Z"
   },
   {
    "duration": 4,
    "start_time": "2025-01-03T18:45:14.253Z"
   },
   {
    "duration": 273,
    "start_time": "2025-01-03T18:45:14.258Z"
   },
   {
    "duration": 16,
    "start_time": "2025-01-03T18:45:14.532Z"
   },
   {
    "duration": 39,
    "start_time": "2025-01-03T18:45:14.550Z"
   },
   {
    "duration": 60,
    "start_time": "2025-01-03T18:45:14.591Z"
   },
   {
    "duration": 19,
    "start_time": "2025-01-03T18:45:14.653Z"
   },
   {
    "duration": 118,
    "start_time": "2025-01-03T18:45:14.686Z"
   },
   {
    "duration": 3,
    "start_time": "2025-01-03T18:45:14.806Z"
   },
   {
    "duration": 86,
    "start_time": "2025-01-03T18:45:14.811Z"
   },
   {
    "duration": 8,
    "start_time": "2025-01-03T18:45:14.899Z"
   },
   {
    "duration": 389,
    "start_time": "2025-01-03T18:45:14.909Z"
   },
   {
    "duration": 53,
    "start_time": "2025-01-03T18:45:15.303Z"
   },
   {
    "duration": 119,
    "start_time": "2025-01-03T18:45:15.357Z"
   },
   {
    "duration": 95,
    "start_time": "2025-01-03T18:45:15.477Z"
   },
   {
    "duration": 11,
    "start_time": "2025-01-03T18:45:15.574Z"
   },
   {
    "duration": 61,
    "start_time": "2025-01-03T18:45:15.587Z"
   },
   {
    "duration": 6,
    "start_time": "2025-01-03T18:45:15.649Z"
   },
   {
    "duration": 54,
    "start_time": "2025-01-03T18:45:15.657Z"
   },
   {
    "duration": 6,
    "start_time": "2025-01-03T18:45:15.713Z"
   },
   {
    "duration": 26,
    "start_time": "2025-01-03T18:45:15.723Z"
   },
   {
    "duration": 0,
    "start_time": "2025-01-03T18:45:15.750Z"
   },
   {
    "duration": 0,
    "start_time": "2025-01-03T18:45:15.751Z"
   },
   {
    "duration": 0,
    "start_time": "2025-01-03T18:45:15.752Z"
   },
   {
    "duration": 0,
    "start_time": "2025-01-03T18:45:15.753Z"
   },
   {
    "duration": 0,
    "start_time": "2025-01-03T18:45:15.754Z"
   },
   {
    "duration": 0,
    "start_time": "2025-01-03T18:45:15.755Z"
   },
   {
    "duration": 4,
    "start_time": "2025-01-03T18:46:55.904Z"
   },
   {
    "duration": 2091,
    "start_time": "2025-01-03T18:46:55.912Z"
   },
   {
    "duration": 12,
    "start_time": "2025-01-03T18:46:58.004Z"
   },
   {
    "duration": 12,
    "start_time": "2025-01-03T18:46:58.017Z"
   },
   {
    "duration": 65,
    "start_time": "2025-01-03T18:46:58.030Z"
   },
   {
    "duration": 24,
    "start_time": "2025-01-03T18:46:58.098Z"
   },
   {
    "duration": 87,
    "start_time": "2025-01-03T18:46:58.123Z"
   },
   {
    "duration": 207,
    "start_time": "2025-01-03T18:46:58.212Z"
   },
   {
    "duration": 9,
    "start_time": "2025-01-03T18:46:58.421Z"
   },
   {
    "duration": 28,
    "start_time": "2025-01-03T18:46:58.489Z"
   },
   {
    "duration": 9,
    "start_time": "2025-01-03T18:46:58.518Z"
   },
   {
    "duration": 69,
    "start_time": "2025-01-03T18:46:58.529Z"
   },
   {
    "duration": 17,
    "start_time": "2025-01-03T18:46:58.600Z"
   },
   {
    "duration": 8,
    "start_time": "2025-01-03T18:46:58.619Z"
   },
   {
    "duration": 8,
    "start_time": "2025-01-03T18:46:58.630Z"
   },
   {
    "duration": 44,
    "start_time": "2025-01-03T18:46:58.687Z"
   },
   {
    "duration": 62,
    "start_time": "2025-01-03T18:46:58.732Z"
   },
   {
    "duration": 776,
    "start_time": "2025-01-03T18:46:58.797Z"
   },
   {
    "duration": 168,
    "start_time": "2025-01-03T18:46:59.588Z"
   },
   {
    "duration": 68,
    "start_time": "2025-01-03T18:46:59.758Z"
   },
   {
    "duration": 22,
    "start_time": "2025-01-03T18:46:59.827Z"
   },
   {
    "duration": 160,
    "start_time": "2025-01-03T18:46:59.850Z"
   },
   {
    "duration": 4,
    "start_time": "2025-01-03T18:47:00.013Z"
   },
   {
    "duration": 300,
    "start_time": "2025-01-03T18:47:00.019Z"
   },
   {
    "duration": 15,
    "start_time": "2025-01-03T18:47:00.321Z"
   },
   {
    "duration": 47,
    "start_time": "2025-01-03T18:47:00.338Z"
   },
   {
    "duration": 70,
    "start_time": "2025-01-03T18:47:00.386Z"
   },
   {
    "duration": 24,
    "start_time": "2025-01-03T18:47:00.457Z"
   },
   {
    "duration": 105,
    "start_time": "2025-01-03T18:47:00.482Z"
   },
   {
    "duration": 4,
    "start_time": "2025-01-03T18:47:00.589Z"
   },
   {
    "duration": 81,
    "start_time": "2025-01-03T18:47:00.595Z"
   },
   {
    "duration": 4,
    "start_time": "2025-01-03T18:47:00.677Z"
   },
   {
    "duration": 317,
    "start_time": "2025-01-03T18:47:00.682Z"
   },
   {
    "duration": 59,
    "start_time": "2025-01-03T18:47:01.001Z"
   },
   {
    "duration": 101,
    "start_time": "2025-01-03T18:47:01.061Z"
   },
   {
    "duration": 91,
    "start_time": "2025-01-03T18:47:01.164Z"
   },
   {
    "duration": 11,
    "start_time": "2025-01-03T18:47:01.257Z"
   },
   {
    "duration": 195,
    "start_time": "2025-01-03T18:47:01.269Z"
   },
   {
    "duration": 4,
    "start_time": "2025-01-03T18:47:01.466Z"
   },
   {
    "duration": 5,
    "start_time": "2025-01-03T18:47:01.471Z"
   },
   {
    "duration": 33,
    "start_time": "2025-01-03T18:47:01.477Z"
   },
   {
    "duration": 1226,
    "start_time": "2025-01-03T18:47:01.515Z"
   },
   {
    "duration": 0,
    "start_time": "2025-01-03T18:47:02.742Z"
   },
   {
    "duration": 0,
    "start_time": "2025-01-03T18:47:02.744Z"
   },
   {
    "duration": 0,
    "start_time": "2025-01-03T18:47:02.745Z"
   },
   {
    "duration": 0,
    "start_time": "2025-01-03T18:47:02.746Z"
   },
   {
    "duration": 0,
    "start_time": "2025-01-03T18:47:02.747Z"
   },
   {
    "duration": 0,
    "start_time": "2025-01-03T18:47:02.748Z"
   },
   {
    "duration": 0,
    "start_time": "2025-01-03T18:47:02.749Z"
   },
   {
    "duration": 3,
    "start_time": "2025-01-03T18:47:49.808Z"
   },
   {
    "duration": 1976,
    "start_time": "2025-01-03T18:47:49.813Z"
   },
   {
    "duration": 12,
    "start_time": "2025-01-03T18:47:51.791Z"
   },
   {
    "duration": 24,
    "start_time": "2025-01-03T18:47:51.806Z"
   },
   {
    "duration": 59,
    "start_time": "2025-01-03T18:47:51.831Z"
   },
   {
    "duration": 29,
    "start_time": "2025-01-03T18:47:51.892Z"
   },
   {
    "duration": 80,
    "start_time": "2025-01-03T18:47:51.923Z"
   },
   {
    "duration": 301,
    "start_time": "2025-01-03T18:47:52.005Z"
   },
   {
    "duration": 8,
    "start_time": "2025-01-03T18:47:52.308Z"
   },
   {
    "duration": 90,
    "start_time": "2025-01-03T18:47:52.318Z"
   },
   {
    "duration": 13,
    "start_time": "2025-01-03T18:47:52.410Z"
   },
   {
    "duration": 71,
    "start_time": "2025-01-03T18:47:52.425Z"
   },
   {
    "duration": 11,
    "start_time": "2025-01-03T18:47:52.498Z"
   },
   {
    "duration": 21,
    "start_time": "2025-01-03T18:47:52.510Z"
   },
   {
    "duration": 56,
    "start_time": "2025-01-03T18:47:52.533Z"
   },
   {
    "duration": 42,
    "start_time": "2025-01-03T18:47:52.591Z"
   },
   {
    "duration": 12,
    "start_time": "2025-01-03T18:47:52.691Z"
   },
   {
    "duration": 758,
    "start_time": "2025-01-03T18:47:52.705Z"
   },
   {
    "duration": 179,
    "start_time": "2025-01-03T18:47:53.465Z"
   },
   {
    "duration": 68,
    "start_time": "2025-01-03T18:47:53.646Z"
   },
   {
    "duration": 22,
    "start_time": "2025-01-03T18:47:53.716Z"
   },
   {
    "duration": 157,
    "start_time": "2025-01-03T18:47:53.740Z"
   },
   {
    "duration": 4,
    "start_time": "2025-01-03T18:47:53.899Z"
   },
   {
    "duration": 264,
    "start_time": "2025-01-03T18:47:53.904Z"
   },
   {
    "duration": 14,
    "start_time": "2025-01-03T18:47:54.170Z"
   },
   {
    "duration": 25,
    "start_time": "2025-01-03T18:47:54.187Z"
   },
   {
    "duration": 94,
    "start_time": "2025-01-03T18:47:54.215Z"
   },
   {
    "duration": 11,
    "start_time": "2025-01-03T18:47:54.313Z"
   },
   {
    "duration": 123,
    "start_time": "2025-01-03T18:47:54.326Z"
   },
   {
    "duration": 3,
    "start_time": "2025-01-03T18:47:54.450Z"
   },
   {
    "duration": 145,
    "start_time": "2025-01-03T18:47:54.455Z"
   },
   {
    "duration": 7,
    "start_time": "2025-01-03T18:47:54.602Z"
   },
   {
    "duration": 328,
    "start_time": "2025-01-03T18:47:54.611Z"
   },
   {
    "duration": 71,
    "start_time": "2025-01-03T18:47:54.940Z"
   },
   {
    "duration": 78,
    "start_time": "2025-01-03T18:47:55.013Z"
   },
   {
    "duration": 93,
    "start_time": "2025-01-03T18:47:55.093Z"
   },
   {
    "duration": 15,
    "start_time": "2025-01-03T18:47:55.189Z"
   },
   {
    "duration": 73,
    "start_time": "2025-01-03T18:47:55.206Z"
   },
   {
    "duration": 6,
    "start_time": "2025-01-03T18:47:55.280Z"
   },
   {
    "duration": 123,
    "start_time": "2025-01-03T18:47:55.288Z"
   },
   {
    "duration": 3,
    "start_time": "2025-01-03T18:47:55.413Z"
   },
   {
    "duration": 1146,
    "start_time": "2025-01-03T18:47:55.418Z"
   },
   {
    "duration": 0,
    "start_time": "2025-01-03T18:47:56.565Z"
   },
   {
    "duration": 0,
    "start_time": "2025-01-03T18:47:56.567Z"
   },
   {
    "duration": 0,
    "start_time": "2025-01-03T18:47:56.568Z"
   },
   {
    "duration": 0,
    "start_time": "2025-01-03T18:47:56.569Z"
   },
   {
    "duration": 0,
    "start_time": "2025-01-03T18:47:56.570Z"
   },
   {
    "duration": 0,
    "start_time": "2025-01-03T18:47:56.571Z"
   },
   {
    "duration": 3,
    "start_time": "2025-01-03T18:48:43.183Z"
   },
   {
    "duration": 1952,
    "start_time": "2025-01-03T18:48:43.190Z"
   },
   {
    "duration": 8,
    "start_time": "2025-01-03T18:48:45.143Z"
   },
   {
    "duration": 25,
    "start_time": "2025-01-03T18:48:45.153Z"
   },
   {
    "duration": 20,
    "start_time": "2025-01-03T18:48:45.179Z"
   },
   {
    "duration": 22,
    "start_time": "2025-01-03T18:48:45.202Z"
   },
   {
    "duration": 34,
    "start_time": "2025-01-03T18:48:45.226Z"
   },
   {
    "duration": 109,
    "start_time": "2025-01-03T18:48:45.262Z"
   },
   {
    "duration": 15,
    "start_time": "2025-01-03T18:48:45.373Z"
   },
   {
    "duration": 26,
    "start_time": "2025-01-03T18:48:45.390Z"
   },
   {
    "duration": 13,
    "start_time": "2025-01-03T18:48:45.418Z"
   },
   {
    "duration": 21,
    "start_time": "2025-01-03T18:48:45.487Z"
   },
   {
    "duration": 7,
    "start_time": "2025-01-03T18:48:45.510Z"
   },
   {
    "duration": 15,
    "start_time": "2025-01-03T18:48:45.518Z"
   },
   {
    "duration": 13,
    "start_time": "2025-01-03T18:48:45.590Z"
   },
   {
    "duration": 96,
    "start_time": "2025-01-03T18:48:45.605Z"
   },
   {
    "duration": 9,
    "start_time": "2025-01-03T18:48:45.702Z"
   },
   {
    "duration": 1446,
    "start_time": "2025-01-03T18:48:45.713Z"
   },
   {
    "duration": 218,
    "start_time": "2025-01-03T18:48:47.161Z"
   },
   {
    "duration": 73,
    "start_time": "2025-01-03T18:48:47.381Z"
   },
   {
    "duration": 43,
    "start_time": "2025-01-03T18:48:47.456Z"
   },
   {
    "duration": 147,
    "start_time": "2025-01-03T18:48:47.501Z"
   },
   {
    "duration": 4,
    "start_time": "2025-01-03T18:48:47.649Z"
   },
   {
    "duration": 255,
    "start_time": "2025-01-03T18:48:47.655Z"
   },
   {
    "duration": 15,
    "start_time": "2025-01-03T18:48:47.912Z"
   },
   {
    "duration": 11,
    "start_time": "2025-01-03T18:48:47.929Z"
   },
   {
    "duration": 79,
    "start_time": "2025-01-03T18:48:47.942Z"
   },
   {
    "duration": 11,
    "start_time": "2025-01-03T18:48:48.023Z"
   },
   {
    "duration": 119,
    "start_time": "2025-01-03T18:48:48.035Z"
   },
   {
    "duration": 3,
    "start_time": "2025-01-03T18:48:48.156Z"
   },
   {
    "duration": 85,
    "start_time": "2025-01-03T18:48:48.160Z"
   },
   {
    "duration": 4,
    "start_time": "2025-01-03T18:48:48.246Z"
   },
   {
    "duration": 325,
    "start_time": "2025-01-03T18:48:48.251Z"
   },
   {
    "duration": 68,
    "start_time": "2025-01-03T18:48:48.577Z"
   },
   {
    "duration": 89,
    "start_time": "2025-01-03T18:48:48.647Z"
   },
   {
    "duration": 87,
    "start_time": "2025-01-03T18:48:48.737Z"
   },
   {
    "duration": 10,
    "start_time": "2025-01-03T18:48:48.825Z"
   },
   {
    "duration": 65,
    "start_time": "2025-01-03T18:48:48.837Z"
   },
   {
    "duration": 5,
    "start_time": "2025-01-03T18:48:48.910Z"
   },
   {
    "duration": 26,
    "start_time": "2025-01-03T18:48:48.917Z"
   },
   {
    "duration": 3,
    "start_time": "2025-01-03T18:48:48.945Z"
   },
   {
    "duration": 18,
    "start_time": "2025-01-03T18:48:48.951Z"
   },
   {
    "duration": 0,
    "start_time": "2025-01-03T18:48:48.971Z"
   },
   {
    "duration": 0,
    "start_time": "2025-01-03T18:48:48.972Z"
   },
   {
    "duration": 0,
    "start_time": "2025-01-03T18:48:48.972Z"
   },
   {
    "duration": 0,
    "start_time": "2025-01-03T18:48:48.973Z"
   },
   {
    "duration": 0,
    "start_time": "2025-01-03T18:48:48.974Z"
   },
   {
    "duration": 0,
    "start_time": "2025-01-03T18:48:48.974Z"
   },
   {
    "duration": 3,
    "start_time": "2025-01-03T18:50:04.721Z"
   },
   {
    "duration": 1902,
    "start_time": "2025-01-03T18:50:04.726Z"
   },
   {
    "duration": 62,
    "start_time": "2025-01-03T18:50:06.630Z"
   },
   {
    "duration": 38,
    "start_time": "2025-01-03T18:50:06.694Z"
   },
   {
    "duration": 54,
    "start_time": "2025-01-03T18:50:06.734Z"
   },
   {
    "duration": 33,
    "start_time": "2025-01-03T18:50:06.790Z"
   },
   {
    "duration": 81,
    "start_time": "2025-01-03T18:50:06.825Z"
   },
   {
    "duration": 282,
    "start_time": "2025-01-03T18:50:06.908Z"
   },
   {
    "duration": 9,
    "start_time": "2025-01-03T18:50:07.191Z"
   },
   {
    "duration": 26,
    "start_time": "2025-01-03T18:50:07.203Z"
   },
   {
    "duration": 64,
    "start_time": "2025-01-03T18:50:07.231Z"
   },
   {
    "duration": 28,
    "start_time": "2025-01-03T18:50:07.296Z"
   },
   {
    "duration": 83,
    "start_time": "2025-01-03T18:50:07.326Z"
   },
   {
    "duration": 18,
    "start_time": "2025-01-03T18:50:07.412Z"
   },
   {
    "duration": 9,
    "start_time": "2025-01-03T18:50:07.431Z"
   },
   {
    "duration": 88,
    "start_time": "2025-01-03T18:50:07.441Z"
   },
   {
    "duration": 64,
    "start_time": "2025-01-03T18:50:07.531Z"
   },
   {
    "duration": 844,
    "start_time": "2025-01-03T18:50:07.597Z"
   },
   {
    "duration": 166,
    "start_time": "2025-01-03T18:50:08.443Z"
   },
   {
    "duration": 62,
    "start_time": "2025-01-03T18:50:08.611Z"
   },
   {
    "duration": 33,
    "start_time": "2025-01-03T18:50:08.674Z"
   },
   {
    "duration": 202,
    "start_time": "2025-01-03T18:50:08.709Z"
   },
   {
    "duration": 4,
    "start_time": "2025-01-03T18:50:08.913Z"
   },
   {
    "duration": 316,
    "start_time": "2025-01-03T18:50:08.920Z"
   },
   {
    "duration": 14,
    "start_time": "2025-01-03T18:50:09.238Z"
   },
   {
    "duration": 31,
    "start_time": "2025-01-03T18:50:09.254Z"
   },
   {
    "duration": 144,
    "start_time": "2025-01-03T18:50:09.288Z"
   },
   {
    "duration": 18,
    "start_time": "2025-01-03T18:50:09.437Z"
   },
   {
    "duration": 203,
    "start_time": "2025-01-03T18:50:09.457Z"
   },
   {
    "duration": 2,
    "start_time": "2025-01-03T18:50:09.662Z"
   },
   {
    "duration": 75,
    "start_time": "2025-01-03T18:50:09.666Z"
   },
   {
    "duration": 3,
    "start_time": "2025-01-03T18:50:09.743Z"
   },
   {
    "duration": 332,
    "start_time": "2025-01-03T18:50:09.748Z"
   },
   {
    "duration": 61,
    "start_time": "2025-01-03T18:50:10.082Z"
   },
   {
    "duration": 92,
    "start_time": "2025-01-03T18:50:10.144Z"
   },
   {
    "duration": 86,
    "start_time": "2025-01-03T18:50:10.237Z"
   },
   {
    "duration": 11,
    "start_time": "2025-01-03T18:50:10.325Z"
   },
   {
    "duration": 78,
    "start_time": "2025-01-03T18:50:10.338Z"
   },
   {
    "duration": 5,
    "start_time": "2025-01-03T18:50:10.418Z"
   },
   {
    "duration": 28,
    "start_time": "2025-01-03T18:50:10.425Z"
   },
   {
    "duration": 3,
    "start_time": "2025-01-03T18:50:10.455Z"
   },
   {
    "duration": 73,
    "start_time": "2025-01-03T18:50:10.460Z"
   },
   {
    "duration": 10,
    "start_time": "2025-01-03T18:50:10.534Z"
   },
   {
    "duration": 14,
    "start_time": "2025-01-03T18:50:10.545Z"
   },
   {
    "duration": 7,
    "start_time": "2025-01-03T18:50:10.560Z"
   },
   {
    "duration": 179,
    "start_time": "2025-01-03T18:50:10.569Z"
   },
   {
    "duration": 20,
    "start_time": "2025-01-03T18:50:10.749Z"
   },
   {
    "duration": 48,
    "start_time": "2025-01-03T18:50:10.770Z"
   },
   {
    "duration": 1081,
    "start_time": "2025-01-03T18:50:32.348Z"
   },
   {
    "duration": 166,
    "start_time": "2025-01-03T18:50:43.501Z"
   },
   {
    "duration": 24,
    "start_time": "2025-01-03T18:53:12.803Z"
   },
   {
    "duration": 26,
    "start_time": "2025-01-03T18:53:16.116Z"
   },
   {
    "duration": 1098,
    "start_time": "2025-01-03T19:03:06.920Z"
   },
   {
    "duration": 18,
    "start_time": "2025-01-03T19:03:32.167Z"
   },
   {
    "duration": 532,
    "start_time": "2025-01-03T19:03:45.541Z"
   },
   {
    "duration": 376,
    "start_time": "2025-01-03T19:56:50.996Z"
   },
   {
    "duration": 352,
    "start_time": "2025-01-03T19:57:02.120Z"
   },
   {
    "duration": 3,
    "start_time": "2025-01-03T19:57:56.593Z"
   },
   {
    "duration": 2319,
    "start_time": "2025-01-03T19:57:56.601Z"
   },
   {
    "duration": 9,
    "start_time": "2025-01-03T19:57:58.923Z"
   },
   {
    "duration": 17,
    "start_time": "2025-01-03T19:57:58.989Z"
   },
   {
    "duration": 15,
    "start_time": "2025-01-03T19:57:59.009Z"
   },
   {
    "duration": 70,
    "start_time": "2025-01-03T19:57:59.027Z"
   },
   {
    "duration": 34,
    "start_time": "2025-01-03T19:57:59.099Z"
   },
   {
    "duration": 355,
    "start_time": "2025-01-03T19:57:59.135Z"
   },
   {
    "duration": 13,
    "start_time": "2025-01-03T19:57:59.493Z"
   },
   {
    "duration": 75,
    "start_time": "2025-01-03T19:57:59.512Z"
   },
   {
    "duration": 15,
    "start_time": "2025-01-03T19:57:59.589Z"
   },
   {
    "duration": 15,
    "start_time": "2025-01-03T19:57:59.606Z"
   },
   {
    "duration": 7,
    "start_time": "2025-01-03T19:57:59.623Z"
   },
   {
    "duration": 77,
    "start_time": "2025-01-03T19:57:59.632Z"
   },
   {
    "duration": 83,
    "start_time": "2025-01-03T19:57:59.712Z"
   },
   {
    "duration": 115,
    "start_time": "2025-01-03T19:57:59.797Z"
   },
   {
    "duration": 73,
    "start_time": "2025-01-03T19:57:59.914Z"
   },
   {
    "duration": 940,
    "start_time": "2025-01-03T19:57:59.989Z"
   },
   {
    "duration": 178,
    "start_time": "2025-01-03T19:58:00.930Z"
   },
   {
    "duration": 53,
    "start_time": "2025-01-03T19:58:01.109Z"
   },
   {
    "duration": 47,
    "start_time": "2025-01-03T19:58:01.164Z"
   },
   {
    "duration": 161,
    "start_time": "2025-01-03T19:58:01.213Z"
   },
   {
    "duration": 5,
    "start_time": "2025-01-03T19:58:01.375Z"
   },
   {
    "duration": 272,
    "start_time": "2025-01-03T19:58:01.387Z"
   },
   {
    "duration": 15,
    "start_time": "2025-01-03T19:58:01.660Z"
   },
   {
    "duration": 128,
    "start_time": "2025-01-03T19:58:01.676Z"
   },
   {
    "duration": 77,
    "start_time": "2025-01-03T19:58:01.806Z"
   },
   {
    "duration": 28,
    "start_time": "2025-01-03T19:58:01.884Z"
   },
   {
    "duration": 94,
    "start_time": "2025-01-03T19:58:01.914Z"
   },
   {
    "duration": 5,
    "start_time": "2025-01-03T19:58:02.010Z"
   },
   {
    "duration": 136,
    "start_time": "2025-01-03T19:58:02.017Z"
   },
   {
    "duration": 4,
    "start_time": "2025-01-03T19:58:02.155Z"
   },
   {
    "duration": 344,
    "start_time": "2025-01-03T19:58:02.160Z"
   },
   {
    "duration": 53,
    "start_time": "2025-01-03T19:58:02.506Z"
   },
   {
    "duration": 109,
    "start_time": "2025-01-03T19:58:02.561Z"
   },
   {
    "duration": 88,
    "start_time": "2025-01-03T19:58:02.671Z"
   },
   {
    "duration": 36,
    "start_time": "2025-01-03T19:58:02.761Z"
   },
   {
    "duration": 89,
    "start_time": "2025-01-03T19:58:02.799Z"
   },
   {
    "duration": 6,
    "start_time": "2025-01-03T19:58:02.890Z"
   },
   {
    "duration": 48,
    "start_time": "2025-01-03T19:58:02.898Z"
   },
   {
    "duration": 11,
    "start_time": "2025-01-03T19:58:02.948Z"
   },
   {
    "duration": 9,
    "start_time": "2025-01-03T19:58:02.963Z"
   },
   {
    "duration": 17,
    "start_time": "2025-01-03T19:58:02.973Z"
   },
   {
    "duration": 48,
    "start_time": "2025-01-03T19:58:02.992Z"
   },
   {
    "duration": 21,
    "start_time": "2025-01-03T19:58:03.042Z"
   },
   {
    "duration": 288,
    "start_time": "2025-01-03T19:58:03.065Z"
   },
   {
    "duration": 43,
    "start_time": "2025-01-03T19:58:03.354Z"
   },
   {
    "duration": 28,
    "start_time": "2025-01-03T19:58:03.399Z"
   },
   {
    "duration": 9,
    "start_time": "2025-01-03T20:01:18.121Z"
   },
   {
    "duration": 4,
    "start_time": "2025-01-03T20:01:34.941Z"
   },
   {
    "duration": 11,
    "start_time": "2025-01-03T20:01:49.582Z"
   },
   {
    "duration": 9,
    "start_time": "2025-01-03T20:01:56.649Z"
   },
   {
    "duration": 9,
    "start_time": "2025-01-03T20:04:40.509Z"
   },
   {
    "duration": 8,
    "start_time": "2025-01-03T20:04:47.730Z"
   },
   {
    "duration": 5,
    "start_time": "2025-01-03T20:04:51.474Z"
   },
   {
    "duration": 10,
    "start_time": "2025-01-03T20:04:53.415Z"
   },
   {
    "duration": 3,
    "start_time": "2025-01-03T20:05:04.975Z"
   },
   {
    "duration": 2435,
    "start_time": "2025-01-03T20:05:04.982Z"
   },
   {
    "duration": 74,
    "start_time": "2025-01-03T20:05:07.420Z"
   },
   {
    "duration": 16,
    "start_time": "2025-01-03T20:05:07.500Z"
   },
   {
    "duration": 11,
    "start_time": "2025-01-03T20:05:07.518Z"
   },
   {
    "duration": 84,
    "start_time": "2025-01-03T20:05:07.531Z"
   },
   {
    "duration": 82,
    "start_time": "2025-01-03T20:05:07.617Z"
   },
   {
    "duration": 134,
    "start_time": "2025-01-03T20:05:07.701Z"
   },
   {
    "duration": 7,
    "start_time": "2025-01-03T20:05:07.837Z"
   },
   {
    "duration": 46,
    "start_time": "2025-01-03T20:05:07.846Z"
   },
   {
    "duration": 15,
    "start_time": "2025-01-03T20:05:07.893Z"
   },
   {
    "duration": 29,
    "start_time": "2025-01-03T20:05:07.909Z"
   },
   {
    "duration": 14,
    "start_time": "2025-01-03T20:05:07.940Z"
   },
   {
    "duration": 16,
    "start_time": "2025-01-03T20:05:07.955Z"
   },
   {
    "duration": 8,
    "start_time": "2025-01-03T20:05:07.975Z"
   },
   {
    "duration": 46,
    "start_time": "2025-01-03T20:05:07.984Z"
   },
   {
    "duration": 10,
    "start_time": "2025-01-03T20:05:08.032Z"
   },
   {
    "duration": 749,
    "start_time": "2025-01-03T20:05:08.044Z"
   },
   {
    "duration": 169,
    "start_time": "2025-01-03T20:05:08.797Z"
   },
   {
    "duration": 72,
    "start_time": "2025-01-03T20:05:08.968Z"
   },
   {
    "duration": 21,
    "start_time": "2025-01-03T20:05:09.042Z"
   },
   {
    "duration": 161,
    "start_time": "2025-01-03T20:05:09.065Z"
   },
   {
    "duration": 4,
    "start_time": "2025-01-03T20:05:09.228Z"
   },
   {
    "duration": 318,
    "start_time": "2025-01-03T20:05:09.233Z"
   },
   {
    "duration": 13,
    "start_time": "2025-01-03T20:05:09.553Z"
   },
   {
    "duration": 30,
    "start_time": "2025-01-03T20:05:09.567Z"
   },
   {
    "duration": 61,
    "start_time": "2025-01-03T20:05:09.599Z"
   },
   {
    "duration": 32,
    "start_time": "2025-01-03T20:05:09.661Z"
   },
   {
    "duration": 121,
    "start_time": "2025-01-03T20:05:09.695Z"
   },
   {
    "duration": 3,
    "start_time": "2025-01-03T20:05:09.817Z"
   },
   {
    "duration": 75,
    "start_time": "2025-01-03T20:05:09.822Z"
   },
   {
    "duration": 4,
    "start_time": "2025-01-03T20:05:09.899Z"
   },
   {
    "duration": 339,
    "start_time": "2025-01-03T20:05:09.905Z"
   },
   {
    "duration": 65,
    "start_time": "2025-01-03T20:05:10.245Z"
   },
   {
    "duration": 85,
    "start_time": "2025-01-03T20:05:10.311Z"
   },
   {
    "duration": 90,
    "start_time": "2025-01-03T20:05:10.400Z"
   },
   {
    "duration": 13,
    "start_time": "2025-01-03T20:05:10.492Z"
   },
   {
    "duration": 55,
    "start_time": "2025-01-03T20:05:10.507Z"
   },
   {
    "duration": 4,
    "start_time": "2025-01-03T20:05:10.565Z"
   },
   {
    "duration": 67,
    "start_time": "2025-01-03T20:05:10.571Z"
   },
   {
    "duration": 4,
    "start_time": "2025-01-03T20:05:10.639Z"
   },
   {
    "duration": 14,
    "start_time": "2025-01-03T20:05:10.647Z"
   },
   {
    "duration": 5,
    "start_time": "2025-01-03T20:05:10.663Z"
   },
   {
    "duration": 13,
    "start_time": "2025-01-03T20:05:10.669Z"
   },
   {
    "duration": 13,
    "start_time": "2025-01-03T20:05:10.684Z"
   },
   {
    "duration": 195,
    "start_time": "2025-01-03T20:05:10.699Z"
   },
   {
    "duration": 24,
    "start_time": "2025-01-03T20:05:10.896Z"
   },
   {
    "duration": 27,
    "start_time": "2025-01-03T20:05:10.922Z"
   },
   {
    "duration": 4,
    "start_time": "2025-01-03T20:05:10.950Z"
   },
   {
    "duration": 22,
    "start_time": "2025-01-03T20:05:10.955Z"
   },
   {
    "duration": 4,
    "start_time": "2025-01-03T20:05:47.439Z"
   },
   {
    "duration": 9,
    "start_time": "2025-01-03T20:06:10.770Z"
   },
   {
    "duration": 117,
    "start_time": "2025-01-03T20:06:25.520Z"
   },
   {
    "duration": 95,
    "start_time": "2025-01-03T20:06:37.755Z"
   },
   {
    "duration": 125,
    "start_time": "2025-01-03T20:07:45.589Z"
   },
   {
    "duration": 106,
    "start_time": "2025-01-03T20:07:51.028Z"
   },
   {
    "duration": 103,
    "start_time": "2025-01-03T20:07:58.651Z"
   },
   {
    "duration": 120,
    "start_time": "2025-01-03T20:08:06.752Z"
   },
   {
    "duration": 206,
    "start_time": "2025-01-03T20:08:11.792Z"
   },
   {
    "duration": 4,
    "start_time": "2025-01-03T20:08:31.210Z"
   },
   {
    "duration": 919,
    "start_time": "2025-01-03T20:12:56.186Z"
   },
   {
    "duration": 3,
    "start_time": "2025-01-03T20:17:24.972Z"
   },
   {
    "duration": 2672,
    "start_time": "2025-01-03T20:17:24.979Z"
   },
   {
    "duration": 8,
    "start_time": "2025-01-03T20:17:27.653Z"
   },
   {
    "duration": 27,
    "start_time": "2025-01-03T20:17:27.663Z"
   },
   {
    "duration": 19,
    "start_time": "2025-01-03T20:17:27.692Z"
   },
   {
    "duration": 25,
    "start_time": "2025-01-03T20:17:27.714Z"
   },
   {
    "duration": 35,
    "start_time": "2025-01-03T20:17:27.741Z"
   },
   {
    "duration": 163,
    "start_time": "2025-01-03T20:17:27.777Z"
   },
   {
    "duration": 11,
    "start_time": "2025-01-03T20:17:27.942Z"
   },
   {
    "duration": 31,
    "start_time": "2025-01-03T20:17:27.955Z"
   },
   {
    "duration": 10,
    "start_time": "2025-01-03T20:17:27.987Z"
   },
   {
    "duration": 22,
    "start_time": "2025-01-03T20:17:27.999Z"
   },
   {
    "duration": 8,
    "start_time": "2025-01-03T20:17:28.023Z"
   },
   {
    "duration": 10,
    "start_time": "2025-01-03T20:17:28.032Z"
   },
   {
    "duration": 9,
    "start_time": "2025-01-03T20:17:28.045Z"
   },
   {
    "duration": 63,
    "start_time": "2025-01-03T20:17:28.055Z"
   },
   {
    "duration": 9,
    "start_time": "2025-01-03T20:17:28.120Z"
   },
   {
    "duration": 695,
    "start_time": "2025-01-03T20:17:28.130Z"
   },
   {
    "duration": 160,
    "start_time": "2025-01-03T20:17:28.826Z"
   },
   {
    "duration": 53,
    "start_time": "2025-01-03T20:17:28.988Z"
   },
   {
    "duration": 21,
    "start_time": "2025-01-03T20:17:29.042Z"
   },
   {
    "duration": 182,
    "start_time": "2025-01-03T20:17:29.065Z"
   },
   {
    "duration": 3,
    "start_time": "2025-01-03T20:17:29.249Z"
   },
   {
    "duration": 325,
    "start_time": "2025-01-03T20:17:29.254Z"
   },
   {
    "duration": 17,
    "start_time": "2025-01-03T20:17:29.581Z"
   },
   {
    "duration": 11,
    "start_time": "2025-01-03T20:17:29.600Z"
   },
   {
    "duration": 77,
    "start_time": "2025-01-03T20:17:29.613Z"
   },
   {
    "duration": 21,
    "start_time": "2025-01-03T20:17:29.691Z"
   },
   {
    "duration": 100,
    "start_time": "2025-01-03T20:17:29.714Z"
   },
   {
    "duration": 29,
    "start_time": "2025-01-03T20:17:29.816Z"
   },
   {
    "duration": 71,
    "start_time": "2025-01-03T20:17:29.847Z"
   },
   {
    "duration": 4,
    "start_time": "2025-01-03T20:17:29.919Z"
   },
   {
    "duration": 308,
    "start_time": "2025-01-03T20:17:29.925Z"
   },
   {
    "duration": 60,
    "start_time": "2025-01-03T20:17:30.235Z"
   },
   {
    "duration": 74,
    "start_time": "2025-01-03T20:17:30.297Z"
   },
   {
    "duration": 79,
    "start_time": "2025-01-03T20:17:30.386Z"
   },
   {
    "duration": 23,
    "start_time": "2025-01-03T20:17:30.466Z"
   },
   {
    "duration": 92,
    "start_time": "2025-01-03T20:17:30.491Z"
   },
   {
    "duration": 5,
    "start_time": "2025-01-03T20:17:30.585Z"
   },
   {
    "duration": 78,
    "start_time": "2025-01-03T20:17:30.591Z"
   },
   {
    "duration": 3,
    "start_time": "2025-01-03T20:17:30.670Z"
   },
   {
    "duration": 15,
    "start_time": "2025-01-03T20:17:30.677Z"
   },
   {
    "duration": 16,
    "start_time": "2025-01-03T20:17:30.694Z"
   },
   {
    "duration": 30,
    "start_time": "2025-01-03T20:17:30.711Z"
   },
   {
    "duration": 7,
    "start_time": "2025-01-03T20:17:30.743Z"
   },
   {
    "duration": 160,
    "start_time": "2025-01-03T20:17:30.752Z"
   },
   {
    "duration": 21,
    "start_time": "2025-01-03T20:17:30.913Z"
   },
   {
    "duration": 21,
    "start_time": "2025-01-03T20:17:30.936Z"
   },
   {
    "duration": 4,
    "start_time": "2025-01-03T20:17:30.958Z"
   },
   {
    "duration": 7,
    "start_time": "2025-01-03T20:17:30.986Z"
   },
   {
    "duration": 10,
    "start_time": "2025-01-03T20:17:30.995Z"
   },
   {
    "duration": 120,
    "start_time": "2025-01-03T20:17:31.006Z"
   },
   {
    "duration": 4,
    "start_time": "2025-01-03T20:17:31.128Z"
   },
   {
    "duration": 756,
    "start_time": "2025-01-03T20:17:31.133Z"
   },
   {
    "duration": 7,
    "start_time": "2025-01-03T20:18:39.605Z"
   },
   {
    "duration": 8,
    "start_time": "2025-01-03T20:18:43.404Z"
   },
   {
    "duration": 5,
    "start_time": "2025-01-03T20:18:50.750Z"
   },
   {
    "duration": 4,
    "start_time": "2025-01-03T20:18:56.822Z"
   },
   {
    "duration": 3,
    "start_time": "2025-01-03T20:19:08.898Z"
   },
   {
    "duration": 1704,
    "start_time": "2025-01-03T20:19:08.903Z"
   },
   {
    "duration": 8,
    "start_time": "2025-01-03T20:19:10.609Z"
   },
   {
    "duration": 40,
    "start_time": "2025-01-03T20:19:10.619Z"
   },
   {
    "duration": 8,
    "start_time": "2025-01-03T20:19:10.661Z"
   },
   {
    "duration": 25,
    "start_time": "2025-01-03T20:19:10.671Z"
   },
   {
    "duration": 18,
    "start_time": "2025-01-03T20:19:10.703Z"
   },
   {
    "duration": 100,
    "start_time": "2025-01-03T20:19:10.722Z"
   },
   {
    "duration": 8,
    "start_time": "2025-01-03T20:19:10.823Z"
   },
   {
    "duration": 22,
    "start_time": "2025-01-03T20:19:10.833Z"
   },
   {
    "duration": 10,
    "start_time": "2025-01-03T20:19:10.856Z"
   },
   {
    "duration": 16,
    "start_time": "2025-01-03T20:19:10.887Z"
   },
   {
    "duration": 6,
    "start_time": "2025-01-03T20:19:10.905Z"
   },
   {
    "duration": 10,
    "start_time": "2025-01-03T20:19:10.913Z"
   },
   {
    "duration": 11,
    "start_time": "2025-01-03T20:19:10.924Z"
   },
   {
    "duration": 67,
    "start_time": "2025-01-03T20:19:10.937Z"
   },
   {
    "duration": 9,
    "start_time": "2025-01-03T20:19:11.005Z"
   },
   {
    "duration": 1201,
    "start_time": "2025-01-03T20:19:11.015Z"
   },
   {
    "duration": 300,
    "start_time": "2025-01-03T20:19:12.218Z"
   },
   {
    "duration": 186,
    "start_time": "2025-01-03T20:19:12.520Z"
   },
   {
    "duration": 80,
    "start_time": "2025-01-03T20:19:12.708Z"
   },
   {
    "duration": 253,
    "start_time": "2025-01-03T20:19:12.790Z"
   },
   {
    "duration": 5,
    "start_time": "2025-01-03T20:19:13.045Z"
   },
   {
    "duration": 297,
    "start_time": "2025-01-03T20:19:13.052Z"
   },
   {
    "duration": 12,
    "start_time": "2025-01-03T20:19:13.352Z"
   },
   {
    "duration": 23,
    "start_time": "2025-01-03T20:19:13.365Z"
   },
   {
    "duration": 63,
    "start_time": "2025-01-03T20:19:13.389Z"
   },
   {
    "duration": 17,
    "start_time": "2025-01-03T20:19:13.456Z"
   },
   {
    "duration": 188,
    "start_time": "2025-01-03T20:19:13.487Z"
   },
   {
    "duration": 10,
    "start_time": "2025-01-03T20:19:13.677Z"
   },
   {
    "duration": 71,
    "start_time": "2025-01-03T20:19:13.689Z"
   },
   {
    "duration": 4,
    "start_time": "2025-01-03T20:19:13.762Z"
   },
   {
    "duration": 418,
    "start_time": "2025-01-03T20:19:13.768Z"
   },
   {
    "duration": 50,
    "start_time": "2025-01-03T20:19:14.188Z"
   },
   {
    "duration": 96,
    "start_time": "2025-01-03T20:19:14.240Z"
   },
   {
    "duration": 92,
    "start_time": "2025-01-03T20:19:14.337Z"
   },
   {
    "duration": 9,
    "start_time": "2025-01-03T20:19:14.430Z"
   },
   {
    "duration": 58,
    "start_time": "2025-01-03T20:19:14.441Z"
   },
   {
    "duration": 5,
    "start_time": "2025-01-03T20:19:14.500Z"
   },
   {
    "duration": 29,
    "start_time": "2025-01-03T20:19:14.506Z"
   },
   {
    "duration": 3,
    "start_time": "2025-01-03T20:19:14.537Z"
   },
   {
    "duration": 21,
    "start_time": "2025-01-03T20:19:14.541Z"
   },
   {
    "duration": 22,
    "start_time": "2025-01-03T20:19:14.564Z"
   },
   {
    "duration": 72,
    "start_time": "2025-01-03T20:19:14.588Z"
   },
   {
    "duration": 7,
    "start_time": "2025-01-03T20:19:14.662Z"
   },
   {
    "duration": 190,
    "start_time": "2025-01-03T20:19:14.670Z"
   },
   {
    "duration": 25,
    "start_time": "2025-01-03T20:19:14.861Z"
   },
   {
    "duration": 24,
    "start_time": "2025-01-03T20:19:14.888Z"
   },
   {
    "duration": 8,
    "start_time": "2025-01-03T20:19:14.914Z"
   },
   {
    "duration": 4,
    "start_time": "2025-01-03T20:19:14.924Z"
   },
   {
    "duration": 126,
    "start_time": "2025-01-03T20:19:14.930Z"
   },
   {
    "duration": 4,
    "start_time": "2025-01-03T20:19:15.058Z"
   },
   {
    "duration": 874,
    "start_time": "2025-01-03T20:19:15.063Z"
   },
   {
    "duration": 4,
    "start_time": "2025-01-03T20:20:37.900Z"
   },
   {
    "duration": 20,
    "start_time": "2025-01-03T20:20:47.439Z"
   },
   {
    "duration": 8,
    "start_time": "2025-01-03T20:21:00.889Z"
   },
   {
    "duration": 5,
    "start_time": "2025-01-03T20:21:08.876Z"
   },
   {
    "duration": 111,
    "start_time": "2025-01-03T20:22:04.569Z"
   },
   {
    "duration": 818,
    "start_time": "2025-01-03T20:22:44.943Z"
   },
   {
    "duration": 767,
    "start_time": "2025-01-03T20:23:05.138Z"
   },
   {
    "duration": 5,
    "start_time": "2025-01-03T20:24:20.692Z"
   },
   {
    "duration": 9,
    "start_time": "2025-01-03T20:24:26.646Z"
   },
   {
    "duration": 20,
    "start_time": "2025-01-03T20:24:53.212Z"
   },
   {
    "duration": 1107,
    "start_time": "2025-01-03T20:27:48.615Z"
   },
   {
    "duration": 21,
    "start_time": "2025-01-03T20:28:31.009Z"
   },
   {
    "duration": 9,
    "start_time": "2025-01-03T20:28:39.301Z"
   },
   {
    "duration": 6,
    "start_time": "2025-01-03T20:28:51.161Z"
   },
   {
    "duration": 10,
    "start_time": "2025-01-03T20:29:05.458Z"
   },
   {
    "duration": 16,
    "start_time": "2025-01-03T20:29:19.266Z"
   },
   {
    "duration": 8,
    "start_time": "2025-01-03T20:29:47.314Z"
   },
   {
    "duration": 244,
    "start_time": "2025-01-03T20:29:54.815Z"
   },
   {
    "duration": 30,
    "start_time": "2025-01-03T20:33:39.227Z"
   },
   {
    "duration": 20,
    "start_time": "2025-01-03T20:33:46.892Z"
   },
   {
    "duration": 275,
    "start_time": "2025-01-03T20:35:20.897Z"
   },
   {
    "duration": 58,
    "start_time": "2025-01-03T20:36:11.952Z"
   },
   {
    "duration": 59,
    "start_time": "2025-01-03T20:37:21.074Z"
   },
   {
    "duration": 21,
    "start_time": "2025-01-03T20:37:26.297Z"
   },
   {
    "duration": 51,
    "start_time": "2025-01-03T20:37:51.115Z"
   },
   {
    "duration": 33,
    "start_time": "2025-01-03T20:38:03.038Z"
   },
   {
    "duration": 80,
    "start_time": "2025-01-03T20:38:09.921Z"
   },
   {
    "duration": 19,
    "start_time": "2025-01-03T20:38:12.920Z"
   },
   {
    "duration": 2,
    "start_time": "2025-01-03T20:38:22.753Z"
   },
   {
    "duration": 1929,
    "start_time": "2025-01-03T20:38:22.759Z"
   },
   {
    "duration": 8,
    "start_time": "2025-01-03T20:38:24.690Z"
   },
   {
    "duration": 22,
    "start_time": "2025-01-03T20:38:24.699Z"
   },
   {
    "duration": 7,
    "start_time": "2025-01-03T20:38:24.722Z"
   },
   {
    "duration": 65,
    "start_time": "2025-01-03T20:38:24.731Z"
   },
   {
    "duration": 18,
    "start_time": "2025-01-03T20:38:24.798Z"
   },
   {
    "duration": 190,
    "start_time": "2025-01-03T20:38:24.817Z"
   },
   {
    "duration": 9,
    "start_time": "2025-01-03T20:38:25.009Z"
   },
   {
    "duration": 72,
    "start_time": "2025-01-03T20:38:25.019Z"
   },
   {
    "duration": 9,
    "start_time": "2025-01-03T20:38:25.093Z"
   },
   {
    "duration": 14,
    "start_time": "2025-01-03T20:38:25.103Z"
   },
   {
    "duration": 6,
    "start_time": "2025-01-03T20:38:25.119Z"
   },
   {
    "duration": 63,
    "start_time": "2025-01-03T20:38:25.127Z"
   },
   {
    "duration": 9,
    "start_time": "2025-01-03T20:38:25.193Z"
   },
   {
    "duration": 92,
    "start_time": "2025-01-03T20:38:25.203Z"
   },
   {
    "duration": 9,
    "start_time": "2025-01-03T20:38:25.296Z"
   },
   {
    "duration": 1146,
    "start_time": "2025-01-03T20:38:25.306Z"
   },
   {
    "duration": 173,
    "start_time": "2025-01-03T20:38:26.454Z"
   },
   {
    "duration": 61,
    "start_time": "2025-01-03T20:38:26.629Z"
   },
   {
    "duration": 19,
    "start_time": "2025-01-03T20:38:26.691Z"
   },
   {
    "duration": 145,
    "start_time": "2025-01-03T20:38:26.712Z"
   },
   {
    "duration": 4,
    "start_time": "2025-01-03T20:38:26.859Z"
   },
   {
    "duration": 255,
    "start_time": "2025-01-03T20:38:26.864Z"
   },
   {
    "duration": 12,
    "start_time": "2025-01-03T20:38:27.121Z"
   },
   {
    "duration": 9,
    "start_time": "2025-01-03T20:38:27.135Z"
   },
   {
    "duration": 92,
    "start_time": "2025-01-03T20:38:27.146Z"
   },
   {
    "duration": 24,
    "start_time": "2025-01-03T20:38:27.240Z"
   },
   {
    "duration": 122,
    "start_time": "2025-01-03T20:38:27.266Z"
   },
   {
    "duration": 3,
    "start_time": "2025-01-03T20:38:27.390Z"
   },
   {
    "duration": 73,
    "start_time": "2025-01-03T20:38:27.394Z"
   },
   {
    "duration": 4,
    "start_time": "2025-01-03T20:38:27.468Z"
   },
   {
    "duration": 320,
    "start_time": "2025-01-03T20:38:27.474Z"
   },
   {
    "duration": 51,
    "start_time": "2025-01-03T20:38:27.796Z"
   },
   {
    "duration": 88,
    "start_time": "2025-01-03T20:38:27.849Z"
   },
   {
    "duration": 88,
    "start_time": "2025-01-03T20:38:27.938Z"
   },
   {
    "duration": 11,
    "start_time": "2025-01-03T20:38:28.027Z"
   },
   {
    "duration": 59,
    "start_time": "2025-01-03T20:38:28.039Z"
   },
   {
    "duration": 5,
    "start_time": "2025-01-03T20:38:28.100Z"
   },
   {
    "duration": 42,
    "start_time": "2025-01-03T20:38:28.106Z"
   },
   {
    "duration": 3,
    "start_time": "2025-01-03T20:38:28.149Z"
   },
   {
    "duration": 7,
    "start_time": "2025-01-03T20:38:28.156Z"
   },
   {
    "duration": 23,
    "start_time": "2025-01-03T20:38:28.165Z"
   },
   {
    "duration": 66,
    "start_time": "2025-01-03T20:38:28.189Z"
   },
   {
    "duration": 7,
    "start_time": "2025-01-03T20:38:28.257Z"
   },
   {
    "duration": 165,
    "start_time": "2025-01-03T20:38:28.266Z"
   },
   {
    "duration": 20,
    "start_time": "2025-01-03T20:38:28.432Z"
   },
   {
    "duration": 33,
    "start_time": "2025-01-03T20:38:28.454Z"
   },
   {
    "duration": 29,
    "start_time": "2025-01-03T20:38:28.489Z"
   },
   {
    "duration": 20,
    "start_time": "2025-01-03T20:38:28.520Z"
   },
   {
    "duration": 24,
    "start_time": "2025-01-03T20:38:28.542Z"
   },
   {
    "duration": 1534,
    "start_time": "2025-01-03T20:38:28.567Z"
   },
   {
    "duration": 0,
    "start_time": "2025-01-03T20:38:30.103Z"
   },
   {
    "duration": 0,
    "start_time": "2025-01-03T20:38:30.104Z"
   },
   {
    "duration": 0,
    "start_time": "2025-01-03T20:38:30.105Z"
   },
   {
    "duration": 0,
    "start_time": "2025-01-03T20:38:30.106Z"
   },
   {
    "duration": 0,
    "start_time": "2025-01-03T20:38:30.107Z"
   },
   {
    "duration": 0,
    "start_time": "2025-01-03T20:38:30.108Z"
   },
   {
    "duration": 0,
    "start_time": "2025-01-03T20:38:30.109Z"
   },
   {
    "duration": 0,
    "start_time": "2025-01-03T20:38:30.110Z"
   },
   {
    "duration": 3,
    "start_time": "2025-01-03T20:38:56.546Z"
   },
   {
    "duration": 1728,
    "start_time": "2025-01-03T20:38:56.553Z"
   },
   {
    "duration": 8,
    "start_time": "2025-01-03T20:38:58.284Z"
   },
   {
    "duration": 9,
    "start_time": "2025-01-03T20:38:58.293Z"
   },
   {
    "duration": 7,
    "start_time": "2025-01-03T20:38:58.304Z"
   },
   {
    "duration": 74,
    "start_time": "2025-01-03T20:38:58.313Z"
   },
   {
    "duration": 18,
    "start_time": "2025-01-03T20:38:58.388Z"
   },
   {
    "duration": 188,
    "start_time": "2025-01-03T20:38:58.408Z"
   },
   {
    "duration": 7,
    "start_time": "2025-01-03T20:38:58.598Z"
   },
   {
    "duration": 16,
    "start_time": "2025-01-03T20:38:58.607Z"
   },
   {
    "duration": 62,
    "start_time": "2025-01-03T20:38:58.625Z"
   },
   {
    "duration": 51,
    "start_time": "2025-01-03T20:38:58.689Z"
   },
   {
    "duration": 6,
    "start_time": "2025-01-03T20:38:58.742Z"
   },
   {
    "duration": 38,
    "start_time": "2025-01-03T20:38:58.750Z"
   },
   {
    "duration": 8,
    "start_time": "2025-01-03T20:38:58.791Z"
   },
   {
    "duration": 90,
    "start_time": "2025-01-03T20:38:58.800Z"
   },
   {
    "duration": 9,
    "start_time": "2025-01-03T20:38:58.892Z"
   },
   {
    "duration": 1101,
    "start_time": "2025-01-03T20:38:58.902Z"
   },
   {
    "duration": 157,
    "start_time": "2025-01-03T20:39:00.004Z"
   },
   {
    "duration": 54,
    "start_time": "2025-01-03T20:39:00.163Z"
   },
   {
    "duration": 17,
    "start_time": "2025-01-03T20:39:00.219Z"
   },
   {
    "duration": 149,
    "start_time": "2025-01-03T20:39:00.238Z"
   },
   {
    "duration": 3,
    "start_time": "2025-01-03T20:39:00.389Z"
   },
   {
    "duration": 290,
    "start_time": "2025-01-03T20:39:00.393Z"
   },
   {
    "duration": 11,
    "start_time": "2025-01-03T20:39:00.687Z"
   },
   {
    "duration": 55,
    "start_time": "2025-01-03T20:39:00.699Z"
   },
   {
    "duration": 73,
    "start_time": "2025-01-03T20:39:00.755Z"
   },
   {
    "duration": 19,
    "start_time": "2025-01-03T20:39:00.830Z"
   },
   {
    "duration": 133,
    "start_time": "2025-01-03T20:39:00.851Z"
   },
   {
    "duration": 3,
    "start_time": "2025-01-03T20:39:00.985Z"
   },
   {
    "duration": 77,
    "start_time": "2025-01-03T20:39:00.990Z"
   },
   {
    "duration": 4,
    "start_time": "2025-01-03T20:39:01.068Z"
   },
   {
    "duration": 308,
    "start_time": "2025-01-03T20:39:01.073Z"
   },
   {
    "duration": 51,
    "start_time": "2025-01-03T20:39:01.383Z"
   },
   {
    "duration": 81,
    "start_time": "2025-01-03T20:39:01.436Z"
   },
   {
    "duration": 83,
    "start_time": "2025-01-03T20:39:01.519Z"
   },
   {
    "duration": 10,
    "start_time": "2025-01-03T20:39:01.604Z"
   },
   {
    "duration": 69,
    "start_time": "2025-01-03T20:39:01.615Z"
   },
   {
    "duration": 5,
    "start_time": "2025-01-03T20:39:01.686Z"
   },
   {
    "duration": 62,
    "start_time": "2025-01-03T20:39:01.692Z"
   },
   {
    "duration": 3,
    "start_time": "2025-01-03T20:39:01.756Z"
   },
   {
    "duration": 5,
    "start_time": "2025-01-03T20:39:01.762Z"
   },
   {
    "duration": 22,
    "start_time": "2025-01-03T20:39:01.769Z"
   },
   {
    "duration": 54,
    "start_time": "2025-01-03T20:39:01.792Z"
   },
   {
    "duration": 7,
    "start_time": "2025-01-03T20:39:01.848Z"
   },
   {
    "duration": 161,
    "start_time": "2025-01-03T20:39:01.857Z"
   },
   {
    "duration": 21,
    "start_time": "2025-01-03T20:39:02.019Z"
   },
   {
    "duration": 18,
    "start_time": "2025-01-03T20:39:02.042Z"
   },
   {
    "duration": 55,
    "start_time": "2025-01-03T20:39:02.061Z"
   },
   {
    "duration": 19,
    "start_time": "2025-01-03T20:39:02.118Z"
   },
   {
    "duration": 15,
    "start_time": "2025-01-03T20:39:02.139Z"
   },
   {
    "duration": 1131,
    "start_time": "2025-01-03T20:39:02.155Z"
   },
   {
    "duration": 0,
    "start_time": "2025-01-03T20:39:03.287Z"
   },
   {
    "duration": 0,
    "start_time": "2025-01-03T20:39:03.288Z"
   },
   {
    "duration": 0,
    "start_time": "2025-01-03T20:39:03.290Z"
   },
   {
    "duration": 0,
    "start_time": "2025-01-03T20:39:03.291Z"
   },
   {
    "duration": 0,
    "start_time": "2025-01-03T20:39:03.291Z"
   },
   {
    "duration": 0,
    "start_time": "2025-01-03T20:39:03.292Z"
   },
   {
    "duration": 0,
    "start_time": "2025-01-03T20:39:03.293Z"
   },
   {
    "duration": 0,
    "start_time": "2025-01-03T20:39:03.293Z"
   },
   {
    "duration": 19,
    "start_time": "2025-01-03T20:39:30.982Z"
   },
   {
    "duration": 62,
    "start_time": "2025-01-03T20:40:30.485Z"
   },
   {
    "duration": 21,
    "start_time": "2025-01-03T20:40:32.699Z"
   },
   {
    "duration": 3,
    "start_time": "2025-01-03T20:40:41.143Z"
   },
   {
    "duration": 1752,
    "start_time": "2025-01-03T20:40:41.150Z"
   },
   {
    "duration": 8,
    "start_time": "2025-01-03T20:40:42.904Z"
   },
   {
    "duration": 18,
    "start_time": "2025-01-03T20:40:42.913Z"
   },
   {
    "duration": 56,
    "start_time": "2025-01-03T20:40:42.932Z"
   },
   {
    "duration": 32,
    "start_time": "2025-01-03T20:40:42.990Z"
   },
   {
    "duration": 66,
    "start_time": "2025-01-03T20:40:43.023Z"
   },
   {
    "duration": 137,
    "start_time": "2025-01-03T20:40:43.090Z"
   },
   {
    "duration": 59,
    "start_time": "2025-01-03T20:40:43.228Z"
   },
   {
    "duration": 17,
    "start_time": "2025-01-03T20:40:43.288Z"
   },
   {
    "duration": 9,
    "start_time": "2025-01-03T20:40:43.308Z"
   },
   {
    "duration": 68,
    "start_time": "2025-01-03T20:40:43.319Z"
   },
   {
    "duration": 8,
    "start_time": "2025-01-03T20:40:43.388Z"
   },
   {
    "duration": 16,
    "start_time": "2025-01-03T20:40:43.397Z"
   },
   {
    "duration": 9,
    "start_time": "2025-01-03T20:40:43.415Z"
   },
   {
    "duration": 81,
    "start_time": "2025-01-03T20:40:43.425Z"
   },
   {
    "duration": 12,
    "start_time": "2025-01-03T20:40:43.507Z"
   },
   {
    "duration": 1068,
    "start_time": "2025-01-03T20:40:43.521Z"
   },
   {
    "duration": 155,
    "start_time": "2025-01-03T20:40:44.591Z"
   },
   {
    "duration": 59,
    "start_time": "2025-01-03T20:40:44.748Z"
   },
   {
    "duration": 18,
    "start_time": "2025-01-03T20:40:44.809Z"
   },
   {
    "duration": 165,
    "start_time": "2025-01-03T20:40:44.829Z"
   },
   {
    "duration": 4,
    "start_time": "2025-01-03T20:40:44.995Z"
   },
   {
    "duration": 320,
    "start_time": "2025-01-03T20:40:45.000Z"
   },
   {
    "duration": 12,
    "start_time": "2025-01-03T20:40:45.322Z"
   },
   {
    "duration": 67,
    "start_time": "2025-01-03T20:40:45.335Z"
   },
   {
    "duration": 71,
    "start_time": "2025-01-03T20:40:45.404Z"
   },
   {
    "duration": 19,
    "start_time": "2025-01-03T20:40:45.476Z"
   },
   {
    "duration": 178,
    "start_time": "2025-01-03T20:40:45.499Z"
   },
   {
    "duration": 11,
    "start_time": "2025-01-03T20:40:45.678Z"
   },
   {
    "duration": 72,
    "start_time": "2025-01-03T20:40:45.690Z"
   },
   {
    "duration": 4,
    "start_time": "2025-01-03T20:40:45.764Z"
   },
   {
    "duration": 317,
    "start_time": "2025-01-03T20:40:45.769Z"
   },
   {
    "duration": 52,
    "start_time": "2025-01-03T20:40:46.088Z"
   },
   {
    "duration": 90,
    "start_time": "2025-01-03T20:40:46.142Z"
   },
   {
    "duration": 87,
    "start_time": "2025-01-03T20:40:46.233Z"
   },
   {
    "duration": 10,
    "start_time": "2025-01-03T20:40:46.321Z"
   },
   {
    "duration": 53,
    "start_time": "2025-01-03T20:40:46.333Z"
   },
   {
    "duration": 4,
    "start_time": "2025-01-03T20:40:46.388Z"
   },
   {
    "duration": 28,
    "start_time": "2025-01-03T20:40:46.394Z"
   },
   {
    "duration": 3,
    "start_time": "2025-01-03T20:40:46.423Z"
   },
   {
    "duration": 10,
    "start_time": "2025-01-03T20:40:46.427Z"
   },
   {
    "duration": 4,
    "start_time": "2025-01-03T20:40:46.438Z"
   },
   {
    "duration": 17,
    "start_time": "2025-01-03T20:40:46.443Z"
   },
   {
    "duration": 25,
    "start_time": "2025-01-03T20:40:46.462Z"
   },
   {
    "duration": 170,
    "start_time": "2025-01-03T20:40:46.489Z"
   },
   {
    "duration": 28,
    "start_time": "2025-01-03T20:40:46.661Z"
   },
   {
    "duration": 62,
    "start_time": "2025-01-03T20:40:46.690Z"
   },
   {
    "duration": 31,
    "start_time": "2025-01-03T20:40:46.754Z"
   },
   {
    "duration": 17,
    "start_time": "2025-01-03T20:40:46.787Z"
   },
   {
    "duration": 103,
    "start_time": "2025-01-03T20:40:46.805Z"
   },
   {
    "duration": 18,
    "start_time": "2025-01-03T20:40:46.910Z"
   },
   {
    "duration": 0,
    "start_time": "2025-01-03T20:40:46.930Z"
   },
   {
    "duration": 0,
    "start_time": "2025-01-03T20:40:46.931Z"
   },
   {
    "duration": 0,
    "start_time": "2025-01-03T20:40:46.932Z"
   },
   {
    "duration": 0,
    "start_time": "2025-01-03T20:40:46.933Z"
   },
   {
    "duration": 0,
    "start_time": "2025-01-03T20:40:46.934Z"
   },
   {
    "duration": 0,
    "start_time": "2025-01-03T20:40:46.935Z"
   },
   {
    "duration": 0,
    "start_time": "2025-01-03T20:40:46.936Z"
   },
   {
    "duration": 3,
    "start_time": "2025-01-03T20:41:19.584Z"
   },
   {
    "duration": 1823,
    "start_time": "2025-01-03T20:41:19.590Z"
   },
   {
    "duration": 11,
    "start_time": "2025-01-03T20:41:21.416Z"
   },
   {
    "duration": 68,
    "start_time": "2025-01-03T20:41:21.429Z"
   },
   {
    "duration": 10,
    "start_time": "2025-01-03T20:41:21.499Z"
   },
   {
    "duration": 84,
    "start_time": "2025-01-03T20:41:21.512Z"
   },
   {
    "duration": 22,
    "start_time": "2025-01-03T20:41:21.599Z"
   },
   {
    "duration": 184,
    "start_time": "2025-01-03T20:41:21.623Z"
   },
   {
    "duration": 7,
    "start_time": "2025-01-03T20:41:21.808Z"
   },
   {
    "duration": 84,
    "start_time": "2025-01-03T20:41:21.816Z"
   },
   {
    "duration": 53,
    "start_time": "2025-01-03T20:41:21.902Z"
   },
   {
    "duration": 38,
    "start_time": "2025-01-03T20:41:21.956Z"
   },
   {
    "duration": 6,
    "start_time": "2025-01-03T20:41:21.995Z"
   },
   {
    "duration": 18,
    "start_time": "2025-01-03T20:41:22.003Z"
   },
   {
    "duration": 13,
    "start_time": "2025-01-03T20:41:22.024Z"
   },
   {
    "duration": 34,
    "start_time": "2025-01-03T20:41:22.087Z"
   },
   {
    "duration": 65,
    "start_time": "2025-01-03T20:41:22.122Z"
   },
   {
    "duration": 982,
    "start_time": "2025-01-03T20:41:22.189Z"
   },
   {
    "duration": 156,
    "start_time": "2025-01-03T20:41:23.172Z"
   },
   {
    "duration": 56,
    "start_time": "2025-01-03T20:41:23.330Z"
   },
   {
    "duration": 19,
    "start_time": "2025-01-03T20:41:23.388Z"
   },
   {
    "duration": 152,
    "start_time": "2025-01-03T20:41:23.409Z"
   },
   {
    "duration": 4,
    "start_time": "2025-01-03T20:41:23.562Z"
   },
   {
    "duration": 243,
    "start_time": "2025-01-03T20:41:23.568Z"
   },
   {
    "duration": 12,
    "start_time": "2025-01-03T20:41:23.813Z"
   },
   {
    "duration": 12,
    "start_time": "2025-01-03T20:41:23.826Z"
   },
   {
    "duration": 67,
    "start_time": "2025-01-03T20:41:23.840Z"
   },
   {
    "duration": 19,
    "start_time": "2025-01-03T20:41:23.909Z"
   },
   {
    "duration": 93,
    "start_time": "2025-01-03T20:41:23.930Z"
   },
   {
    "duration": 2,
    "start_time": "2025-01-03T20:41:24.025Z"
   },
   {
    "duration": 92,
    "start_time": "2025-01-03T20:41:24.029Z"
   },
   {
    "duration": 4,
    "start_time": "2025-01-03T20:41:24.122Z"
   },
   {
    "duration": 298,
    "start_time": "2025-01-03T20:41:24.127Z"
   },
   {
    "duration": 61,
    "start_time": "2025-01-03T20:41:24.426Z"
   },
   {
    "duration": 70,
    "start_time": "2025-01-03T20:41:24.489Z"
   },
   {
    "duration": 89,
    "start_time": "2025-01-03T20:41:24.560Z"
   },
   {
    "duration": 11,
    "start_time": "2025-01-03T20:41:24.652Z"
   },
   {
    "duration": 61,
    "start_time": "2025-01-03T20:41:24.665Z"
   },
   {
    "duration": 29,
    "start_time": "2025-01-03T20:41:24.728Z"
   },
   {
    "duration": 31,
    "start_time": "2025-01-03T20:41:24.759Z"
   },
   {
    "duration": 3,
    "start_time": "2025-01-03T20:41:24.792Z"
   },
   {
    "duration": 5,
    "start_time": "2025-01-03T20:41:24.798Z"
   },
   {
    "duration": 4,
    "start_time": "2025-01-03T20:41:24.805Z"
   },
   {
    "duration": 13,
    "start_time": "2025-01-03T20:41:24.811Z"
   },
   {
    "duration": 7,
    "start_time": "2025-01-03T20:41:24.825Z"
   },
   {
    "duration": 240,
    "start_time": "2025-01-03T20:41:24.834Z"
   },
   {
    "duration": 27,
    "start_time": "2025-01-03T20:41:25.076Z"
   },
   {
    "duration": 20,
    "start_time": "2025-01-03T20:41:25.105Z"
   },
   {
    "duration": 5,
    "start_time": "2025-01-03T20:41:25.126Z"
   },
   {
    "duration": 17,
    "start_time": "2025-01-03T20:41:25.133Z"
   },
   {
    "duration": 35,
    "start_time": "2025-01-03T20:41:25.152Z"
   },
   {
    "duration": 110,
    "start_time": "2025-01-03T20:41:25.188Z"
   },
   {
    "duration": 4,
    "start_time": "2025-01-03T20:41:25.300Z"
   },
   {
    "duration": 761,
    "start_time": "2025-01-03T20:41:25.305Z"
   },
   {
    "duration": 23,
    "start_time": "2025-01-03T20:41:26.068Z"
   },
   {
    "duration": 5,
    "start_time": "2025-01-03T20:41:26.093Z"
   },
   {
    "duration": 15,
    "start_time": "2025-01-03T20:41:26.099Z"
   },
   {
    "duration": 7,
    "start_time": "2025-01-03T20:41:26.116Z"
   },
   {
    "duration": 226,
    "start_time": "2025-01-03T20:41:26.124Z"
   },
   {
    "duration": 1131,
    "start_time": "2025-01-03T20:44:57.710Z"
   },
   {
    "duration": 106,
    "start_time": "2025-01-03T20:45:27.748Z"
   },
   {
    "duration": 2,
    "start_time": "2025-01-03T20:45:52.761Z"
   },
   {
    "duration": 1724,
    "start_time": "2025-01-03T20:45:52.767Z"
   },
   {
    "duration": 8,
    "start_time": "2025-01-03T20:45:54.493Z"
   },
   {
    "duration": 12,
    "start_time": "2025-01-03T20:45:54.502Z"
   },
   {
    "duration": 7,
    "start_time": "2025-01-03T20:45:54.516Z"
   },
   {
    "duration": 20,
    "start_time": "2025-01-03T20:45:54.526Z"
   },
   {
    "duration": 46,
    "start_time": "2025-01-03T20:45:54.547Z"
   },
   {
    "duration": 101,
    "start_time": "2025-01-03T20:45:54.594Z"
   },
   {
    "duration": 7,
    "start_time": "2025-01-03T20:45:54.696Z"
   },
   {
    "duration": 49,
    "start_time": "2025-01-03T20:45:54.704Z"
   },
   {
    "duration": 9,
    "start_time": "2025-01-03T20:45:54.754Z"
   },
   {
    "duration": 20,
    "start_time": "2025-01-03T20:45:54.765Z"
   },
   {
    "duration": 9,
    "start_time": "2025-01-03T20:45:54.787Z"
   },
   {
    "duration": 16,
    "start_time": "2025-01-03T20:45:54.798Z"
   },
   {
    "duration": 7,
    "start_time": "2025-01-03T20:45:54.817Z"
   },
   {
    "duration": 33,
    "start_time": "2025-01-03T20:45:54.826Z"
   },
   {
    "duration": 9,
    "start_time": "2025-01-03T20:45:54.860Z"
   },
   {
    "duration": 1258,
    "start_time": "2025-01-03T20:45:54.870Z"
   },
   {
    "duration": 302,
    "start_time": "2025-01-03T20:45:56.129Z"
   },
   {
    "duration": 72,
    "start_time": "2025-01-03T20:45:56.433Z"
   },
   {
    "duration": 18,
    "start_time": "2025-01-03T20:45:56.507Z"
   },
   {
    "duration": 181,
    "start_time": "2025-01-03T20:45:56.527Z"
   },
   {
    "duration": 4,
    "start_time": "2025-01-03T20:45:56.710Z"
   },
   {
    "duration": 271,
    "start_time": "2025-01-03T20:45:56.715Z"
   },
   {
    "duration": 12,
    "start_time": "2025-01-03T20:45:56.988Z"
   },
   {
    "duration": 9,
    "start_time": "2025-01-03T20:45:57.001Z"
   },
   {
    "duration": 59,
    "start_time": "2025-01-03T20:45:57.012Z"
   },
   {
    "duration": 28,
    "start_time": "2025-01-03T20:45:57.072Z"
   },
   {
    "duration": 93,
    "start_time": "2025-01-03T20:45:57.102Z"
   },
   {
    "duration": 3,
    "start_time": "2025-01-03T20:45:57.197Z"
   },
   {
    "duration": 84,
    "start_time": "2025-01-03T20:45:57.202Z"
   },
   {
    "duration": 4,
    "start_time": "2025-01-03T20:45:57.288Z"
   },
   {
    "duration": 305,
    "start_time": "2025-01-03T20:45:57.293Z"
   },
   {
    "duration": 51,
    "start_time": "2025-01-03T20:45:57.600Z"
   },
   {
    "duration": 85,
    "start_time": "2025-01-03T20:45:57.652Z"
   },
   {
    "duration": 88,
    "start_time": "2025-01-03T20:45:57.739Z"
   },
   {
    "duration": 9,
    "start_time": "2025-01-03T20:45:57.829Z"
   },
   {
    "duration": 57,
    "start_time": "2025-01-03T20:45:57.840Z"
   },
   {
    "duration": 6,
    "start_time": "2025-01-03T20:45:57.899Z"
   },
   {
    "duration": 102,
    "start_time": "2025-01-03T20:45:57.906Z"
   },
   {
    "duration": 4,
    "start_time": "2025-01-03T20:45:58.010Z"
   },
   {
    "duration": 6,
    "start_time": "2025-01-03T20:45:58.018Z"
   },
   {
    "duration": 14,
    "start_time": "2025-01-03T20:45:58.025Z"
   },
   {
    "duration": 18,
    "start_time": "2025-01-03T20:45:58.041Z"
   },
   {
    "duration": 7,
    "start_time": "2025-01-03T20:45:58.060Z"
   },
   {
    "duration": 181,
    "start_time": "2025-01-03T20:45:58.069Z"
   },
   {
    "duration": 19,
    "start_time": "2025-01-03T20:45:58.252Z"
   },
   {
    "duration": 28,
    "start_time": "2025-01-03T20:45:58.272Z"
   },
   {
    "duration": 5,
    "start_time": "2025-01-03T20:45:58.302Z"
   },
   {
    "duration": 17,
    "start_time": "2025-01-03T20:45:58.308Z"
   },
   {
    "duration": 7,
    "start_time": "2025-01-03T20:45:58.326Z"
   },
   {
    "duration": 127,
    "start_time": "2025-01-03T20:45:58.334Z"
   },
   {
    "duration": 4,
    "start_time": "2025-01-03T20:45:58.462Z"
   },
   {
    "duration": 713,
    "start_time": "2025-01-03T20:45:58.467Z"
   },
   {
    "duration": 21,
    "start_time": "2025-01-03T20:45:59.182Z"
   },
   {
    "duration": 5,
    "start_time": "2025-01-03T20:45:59.204Z"
   },
   {
    "duration": 14,
    "start_time": "2025-01-03T20:45:59.211Z"
   },
   {
    "duration": 7,
    "start_time": "2025-01-03T20:45:59.227Z"
   },
   {
    "duration": 156,
    "start_time": "2025-01-03T20:45:59.235Z"
   },
   {
    "duration": 123,
    "start_time": "2025-01-03T20:46:56.065Z"
   },
   {
    "duration": 185,
    "start_time": "2025-01-03T20:47:50.555Z"
   },
   {
    "duration": 110,
    "start_time": "2025-01-03T20:48:16.124Z"
   },
   {
    "duration": 108,
    "start_time": "2025-01-03T20:48:36.871Z"
   },
   {
    "duration": 104,
    "start_time": "2025-01-03T20:48:42.009Z"
   },
   {
    "duration": 1139,
    "start_time": "2025-01-03T20:54:14.562Z"
   },
   {
    "duration": 128,
    "start_time": "2025-01-03T20:54:37.501Z"
   },
   {
    "duration": 122,
    "start_time": "2025-01-03T20:55:21.544Z"
   },
   {
    "duration": 135,
    "start_time": "2025-01-03T20:55:58.377Z"
   },
   {
    "duration": 123,
    "start_time": "2025-01-03T20:56:12.222Z"
   },
   {
    "duration": 138,
    "start_time": "2025-01-03T20:56:30.964Z"
   },
   {
    "duration": 138,
    "start_time": "2025-01-03T20:56:37.099Z"
   },
   {
    "duration": 131,
    "start_time": "2025-01-03T20:56:46.000Z"
   },
   {
    "duration": 126,
    "start_time": "2025-01-03T20:56:51.725Z"
   },
   {
    "duration": 127,
    "start_time": "2025-01-03T20:57:01.956Z"
   },
   {
    "duration": 79,
    "start_time": "2025-01-03T20:57:09.998Z"
   },
   {
    "duration": 221,
    "start_time": "2025-01-03T20:57:14.786Z"
   },
   {
    "duration": 131,
    "start_time": "2025-01-03T20:57:17.965Z"
   },
   {
    "duration": 129,
    "start_time": "2025-01-03T20:58:07.280Z"
   },
   {
    "duration": 120,
    "start_time": "2025-01-03T20:58:14.861Z"
   },
   {
    "duration": 119,
    "start_time": "2025-01-03T20:58:19.052Z"
   },
   {
    "duration": 1181,
    "start_time": "2025-01-03T20:59:48.682Z"
   },
   {
    "duration": 1176,
    "start_time": "2025-01-03T20:59:55.819Z"
   },
   {
    "duration": 115,
    "start_time": "2025-01-03T21:00:57.924Z"
   },
   {
    "duration": 120,
    "start_time": "2025-01-03T21:01:06.783Z"
   },
   {
    "duration": 136,
    "start_time": "2025-01-03T21:02:26.215Z"
   },
   {
    "duration": 123,
    "start_time": "2025-01-03T21:02:43.930Z"
   },
   {
    "duration": 1266,
    "start_time": "2025-01-03T21:03:52.016Z"
   },
   {
    "duration": 127,
    "start_time": "2025-01-03T21:04:08.665Z"
   },
   {
    "duration": 145,
    "start_time": "2025-01-03T21:04:16.840Z"
   },
   {
    "duration": 213,
    "start_time": "2025-01-03T21:04:25.078Z"
   },
   {
    "duration": 119,
    "start_time": "2025-01-03T21:04:34.334Z"
   },
   {
    "duration": 126,
    "start_time": "2025-01-03T21:04:44.562Z"
   },
   {
    "duration": 5,
    "start_time": "2025-01-03T21:05:08.909Z"
   },
   {
    "duration": 743,
    "start_time": "2025-01-03T21:08:06.428Z"
   },
   {
    "duration": 618,
    "start_time": "2025-01-03T21:10:58.552Z"
   },
   {
    "duration": 614,
    "start_time": "2025-01-03T21:11:33.574Z"
   },
   {
    "duration": 738,
    "start_time": "2025-01-03T21:12:32.841Z"
   },
   {
    "duration": 981,
    "start_time": "2025-01-03T21:14:34.466Z"
   },
   {
    "duration": 851,
    "start_time": "2025-01-03T21:17:18.055Z"
   },
   {
    "duration": 817,
    "start_time": "2025-01-03T21:17:42.791Z"
   },
   {
    "duration": 790,
    "start_time": "2025-01-03T21:18:47.289Z"
   },
   {
    "duration": 760,
    "start_time": "2025-01-03T21:18:54.227Z"
   },
   {
    "duration": 3,
    "start_time": "2025-01-03T21:20:30.908Z"
   },
   {
    "duration": 2402,
    "start_time": "2025-01-03T21:20:30.914Z"
   },
   {
    "duration": 8,
    "start_time": "2025-01-03T21:20:33.318Z"
   },
   {
    "duration": 64,
    "start_time": "2025-01-03T21:20:33.328Z"
   },
   {
    "duration": 7,
    "start_time": "2025-01-03T21:20:33.394Z"
   },
   {
    "duration": 23,
    "start_time": "2025-01-03T21:20:33.404Z"
   },
   {
    "duration": 73,
    "start_time": "2025-01-03T21:20:33.428Z"
   },
   {
    "duration": 230,
    "start_time": "2025-01-03T21:20:33.503Z"
   },
   {
    "duration": 8,
    "start_time": "2025-01-03T21:20:33.787Z"
   },
   {
    "duration": 32,
    "start_time": "2025-01-03T21:20:33.797Z"
   },
   {
    "duration": 9,
    "start_time": "2025-01-03T21:20:33.831Z"
   },
   {
    "duration": 55,
    "start_time": "2025-01-03T21:20:33.842Z"
   },
   {
    "duration": 28,
    "start_time": "2025-01-03T21:20:33.899Z"
   },
   {
    "duration": 62,
    "start_time": "2025-01-03T21:20:33.929Z"
   },
   {
    "duration": 8,
    "start_time": "2025-01-03T21:20:33.995Z"
   },
   {
    "duration": 53,
    "start_time": "2025-01-03T21:20:34.004Z"
   },
   {
    "duration": 8,
    "start_time": "2025-01-03T21:20:34.059Z"
   },
   {
    "duration": 677,
    "start_time": "2025-01-03T21:20:34.069Z"
   },
   {
    "duration": 160,
    "start_time": "2025-01-03T21:20:34.748Z"
   },
   {
    "duration": 53,
    "start_time": "2025-01-03T21:20:34.909Z"
   },
   {
    "duration": 37,
    "start_time": "2025-01-03T21:20:34.963Z"
   },
   {
    "duration": 147,
    "start_time": "2025-01-03T21:20:35.002Z"
   },
   {
    "duration": 4,
    "start_time": "2025-01-03T21:20:35.151Z"
   },
   {
    "duration": 277,
    "start_time": "2025-01-03T21:20:35.157Z"
   },
   {
    "duration": 13,
    "start_time": "2025-01-03T21:20:35.436Z"
   },
   {
    "duration": 13,
    "start_time": "2025-01-03T21:20:35.450Z"
   },
   {
    "duration": 66,
    "start_time": "2025-01-03T21:20:35.465Z"
   },
   {
    "duration": 22,
    "start_time": "2025-01-03T21:20:35.533Z"
   },
   {
    "duration": 113,
    "start_time": "2025-01-03T21:20:35.556Z"
   },
   {
    "duration": 3,
    "start_time": "2025-01-03T21:20:35.671Z"
   },
   {
    "duration": 109,
    "start_time": "2025-01-03T21:20:35.675Z"
   },
   {
    "duration": 4,
    "start_time": "2025-01-03T21:20:35.785Z"
   },
   {
    "duration": 329,
    "start_time": "2025-01-03T21:20:35.790Z"
   },
   {
    "duration": 51,
    "start_time": "2025-01-03T21:20:36.120Z"
   },
   {
    "duration": 88,
    "start_time": "2025-01-03T21:20:36.172Z"
   },
   {
    "duration": 85,
    "start_time": "2025-01-03T21:20:36.261Z"
   },
   {
    "duration": 10,
    "start_time": "2025-01-03T21:20:36.347Z"
   },
   {
    "duration": 53,
    "start_time": "2025-01-03T21:20:36.358Z"
   },
   {
    "duration": 5,
    "start_time": "2025-01-03T21:20:36.413Z"
   },
   {
    "duration": 28,
    "start_time": "2025-01-03T21:20:36.419Z"
   },
   {
    "duration": 3,
    "start_time": "2025-01-03T21:20:36.449Z"
   },
   {
    "duration": 7,
    "start_time": "2025-01-03T21:20:36.456Z"
   },
   {
    "duration": 4,
    "start_time": "2025-01-03T21:20:36.486Z"
   },
   {
    "duration": 45,
    "start_time": "2025-01-03T21:20:36.492Z"
   },
   {
    "duration": 10,
    "start_time": "2025-01-03T21:20:36.539Z"
   },
   {
    "duration": 161,
    "start_time": "2025-01-03T21:20:36.550Z"
   },
   {
    "duration": 20,
    "start_time": "2025-01-03T21:20:36.713Z"
   },
   {
    "duration": 25,
    "start_time": "2025-01-03T21:20:36.735Z"
   },
   {
    "duration": 15,
    "start_time": "2025-01-03T21:20:36.762Z"
   },
   {
    "duration": 38,
    "start_time": "2025-01-03T21:20:36.778Z"
   },
   {
    "duration": 67,
    "start_time": "2025-01-03T21:20:36.818Z"
   },
   {
    "duration": 118,
    "start_time": "2025-01-03T21:20:36.887Z"
   },
   {
    "duration": 4,
    "start_time": "2025-01-03T21:20:37.007Z"
   },
   {
    "duration": 18,
    "start_time": "2025-01-03T21:20:37.013Z"
   },
   {
    "duration": 114,
    "start_time": "2025-01-03T21:20:37.032Z"
   },
   {
    "duration": 5,
    "start_time": "2025-01-03T21:20:37.148Z"
   },
   {
    "duration": 24,
    "start_time": "2025-01-03T21:20:37.155Z"
   },
   {
    "duration": 8,
    "start_time": "2025-01-03T21:20:37.180Z"
   },
   {
    "duration": 242,
    "start_time": "2025-01-03T21:20:37.189Z"
   },
   {
    "duration": 12,
    "start_time": "2025-01-03T21:20:57.870Z"
   },
   {
    "duration": 11,
    "start_time": "2025-01-03T21:21:39.282Z"
   },
   {
    "duration": 959,
    "start_time": "2025-01-03T21:22:54.541Z"
   },
   {
    "duration": 20,
    "start_time": "2025-01-03T21:23:34.075Z"
   },
   {
    "duration": 14,
    "start_time": "2025-01-03T21:24:00.587Z"
   },
   {
    "duration": 11,
    "start_time": "2025-01-03T21:24:04.534Z"
   },
   {
    "duration": 3,
    "start_time": "2025-01-03T21:24:08.254Z"
   },
   {
    "duration": 2889,
    "start_time": "2025-01-03T21:24:08.262Z"
   },
   {
    "duration": 10,
    "start_time": "2025-01-03T21:24:11.153Z"
   },
   {
    "duration": 27,
    "start_time": "2025-01-03T21:24:11.165Z"
   },
   {
    "duration": 9,
    "start_time": "2025-01-03T21:24:11.194Z"
   },
   {
    "duration": 22,
    "start_time": "2025-01-03T21:24:11.205Z"
   },
   {
    "duration": 17,
    "start_time": "2025-01-03T21:24:11.229Z"
   },
   {
    "duration": 109,
    "start_time": "2025-01-03T21:24:11.248Z"
   },
   {
    "duration": 8,
    "start_time": "2025-01-03T21:24:11.358Z"
   },
   {
    "duration": 26,
    "start_time": "2025-01-03T21:24:11.368Z"
   },
   {
    "duration": 9,
    "start_time": "2025-01-03T21:24:11.396Z"
   },
   {
    "duration": 13,
    "start_time": "2025-01-03T21:24:11.406Z"
   },
   {
    "duration": 7,
    "start_time": "2025-01-03T21:24:11.420Z"
   },
   {
    "duration": 10,
    "start_time": "2025-01-03T21:24:11.428Z"
   },
   {
    "duration": 8,
    "start_time": "2025-01-03T21:24:11.440Z"
   },
   {
    "duration": 64,
    "start_time": "2025-01-03T21:24:11.449Z"
   },
   {
    "duration": 9,
    "start_time": "2025-01-03T21:24:11.515Z"
   },
   {
    "duration": 669,
    "start_time": "2025-01-03T21:24:11.525Z"
   },
   {
    "duration": 155,
    "start_time": "2025-01-03T21:24:12.195Z"
   },
   {
    "duration": 56,
    "start_time": "2025-01-03T21:24:12.352Z"
   },
   {
    "duration": 19,
    "start_time": "2025-01-03T21:24:12.409Z"
   },
   {
    "duration": 188,
    "start_time": "2025-01-03T21:24:12.429Z"
   },
   {
    "duration": 4,
    "start_time": "2025-01-03T21:24:12.619Z"
   },
   {
    "duration": 320,
    "start_time": "2025-01-03T21:24:12.624Z"
   },
   {
    "duration": 12,
    "start_time": "2025-01-03T21:24:12.945Z"
   },
   {
    "duration": 11,
    "start_time": "2025-01-03T21:24:12.959Z"
   },
   {
    "duration": 65,
    "start_time": "2025-01-03T21:24:12.972Z"
   },
   {
    "duration": 26,
    "start_time": "2025-01-03T21:24:13.039Z"
   },
   {
    "duration": 117,
    "start_time": "2025-01-03T21:24:13.067Z"
   },
   {
    "duration": 2,
    "start_time": "2025-01-03T21:24:13.186Z"
   },
   {
    "duration": 70,
    "start_time": "2025-01-03T21:24:13.189Z"
   },
   {
    "duration": 4,
    "start_time": "2025-01-03T21:24:13.260Z"
   },
   {
    "duration": 303,
    "start_time": "2025-01-03T21:24:13.265Z"
   },
   {
    "duration": 58,
    "start_time": "2025-01-03T21:24:13.570Z"
   },
   {
    "duration": 88,
    "start_time": "2025-01-03T21:24:13.630Z"
   },
   {
    "duration": 83,
    "start_time": "2025-01-03T21:24:13.720Z"
   },
   {
    "duration": 10,
    "start_time": "2025-01-03T21:24:13.804Z"
   },
   {
    "duration": 76,
    "start_time": "2025-01-03T21:24:13.816Z"
   },
   {
    "duration": 5,
    "start_time": "2025-01-03T21:24:13.894Z"
   },
   {
    "duration": 37,
    "start_time": "2025-01-03T21:24:13.900Z"
   },
   {
    "duration": 3,
    "start_time": "2025-01-03T21:24:13.939Z"
   },
   {
    "duration": 5,
    "start_time": "2025-01-03T21:24:13.946Z"
   },
   {
    "duration": 3,
    "start_time": "2025-01-03T21:24:13.953Z"
   },
   {
    "duration": 33,
    "start_time": "2025-01-03T21:24:13.958Z"
   },
   {
    "duration": 7,
    "start_time": "2025-01-03T21:24:13.993Z"
   },
   {
    "duration": 172,
    "start_time": "2025-01-03T21:24:14.001Z"
   },
   {
    "duration": 24,
    "start_time": "2025-01-03T21:24:14.175Z"
   },
   {
    "duration": 19,
    "start_time": "2025-01-03T21:24:14.201Z"
   },
   {
    "duration": 5,
    "start_time": "2025-01-03T21:24:14.221Z"
   },
   {
    "duration": 25,
    "start_time": "2025-01-03T21:24:14.227Z"
   },
   {
    "duration": 7,
    "start_time": "2025-01-03T21:24:14.253Z"
   },
   {
    "duration": 121,
    "start_time": "2025-01-03T21:24:14.286Z"
   },
   {
    "duration": 4,
    "start_time": "2025-01-03T21:24:14.409Z"
   },
   {
    "duration": 27,
    "start_time": "2025-01-03T21:24:14.414Z"
   },
   {
    "duration": 14,
    "start_time": "2025-01-03T21:24:14.443Z"
   },
   {
    "duration": 32,
    "start_time": "2025-01-03T21:24:14.459Z"
   },
   {
    "duration": 759,
    "start_time": "2025-01-03T21:24:14.492Z"
   },
   {
    "duration": 23,
    "start_time": "2025-01-03T21:24:15.252Z"
   },
   {
    "duration": 15,
    "start_time": "2025-01-03T21:24:15.276Z"
   },
   {
    "duration": 35,
    "start_time": "2025-01-03T21:24:15.292Z"
   },
   {
    "duration": 24,
    "start_time": "2025-01-03T21:24:15.328Z"
   },
   {
    "duration": 135,
    "start_time": "2025-01-03T21:24:15.354Z"
   },
   {
    "duration": 3,
    "start_time": "2025-01-03T21:24:37.268Z"
   },
   {
    "duration": 1153,
    "start_time": "2025-01-03T21:24:50.529Z"
   },
   {
    "duration": 2103,
    "start_time": "2025-01-03T21:24:51.684Z"
   },
   {
    "duration": 13,
    "start_time": "2025-01-03T21:24:53.788Z"
   },
   {
    "duration": 35,
    "start_time": "2025-01-03T21:24:53.803Z"
   },
   {
    "duration": 19,
    "start_time": "2025-01-03T21:24:53.839Z"
   },
   {
    "duration": 40,
    "start_time": "2025-01-03T21:24:53.859Z"
   },
   {
    "duration": 22,
    "start_time": "2025-01-03T21:24:53.901Z"
   },
   {
    "duration": 105,
    "start_time": "2025-01-03T21:24:53.924Z"
   },
   {
    "duration": 7,
    "start_time": "2025-01-03T21:24:54.031Z"
   },
   {
    "duration": 22,
    "start_time": "2025-01-03T21:24:54.041Z"
   },
   {
    "duration": 37,
    "start_time": "2025-01-03T21:24:54.065Z"
   },
   {
    "duration": 20,
    "start_time": "2025-01-03T21:24:54.104Z"
   },
   {
    "duration": 69,
    "start_time": "2025-01-03T21:24:54.126Z"
   },
   {
    "duration": 28,
    "start_time": "2025-01-03T21:24:54.197Z"
   },
   {
    "duration": 11,
    "start_time": "2025-01-03T21:24:54.228Z"
   },
   {
    "duration": 42,
    "start_time": "2025-01-03T21:24:54.240Z"
   },
   {
    "duration": 8,
    "start_time": "2025-01-03T21:24:54.284Z"
   },
   {
    "duration": 781,
    "start_time": "2025-01-03T21:24:54.294Z"
   },
   {
    "duration": 162,
    "start_time": "2025-01-03T21:24:55.077Z"
   },
   {
    "duration": 57,
    "start_time": "2025-01-03T21:24:55.241Z"
   },
   {
    "duration": 24,
    "start_time": "2025-01-03T21:24:55.299Z"
   },
   {
    "duration": 230,
    "start_time": "2025-01-03T21:24:55.324Z"
   },
   {
    "duration": 4,
    "start_time": "2025-01-03T21:24:55.556Z"
   },
   {
    "duration": 357,
    "start_time": "2025-01-03T21:24:55.561Z"
   },
   {
    "duration": 14,
    "start_time": "2025-01-03T21:24:55.920Z"
   },
   {
    "duration": 14,
    "start_time": "2025-01-03T21:24:55.935Z"
   },
   {
    "duration": 79,
    "start_time": "2025-01-03T21:24:55.950Z"
   },
   {
    "duration": 20,
    "start_time": "2025-01-03T21:24:56.033Z"
   },
   {
    "duration": 88,
    "start_time": "2025-01-03T21:24:56.054Z"
   },
   {
    "duration": 2,
    "start_time": "2025-01-03T21:24:56.144Z"
   },
   {
    "duration": 131,
    "start_time": "2025-01-03T21:24:56.148Z"
   },
   {
    "duration": 4,
    "start_time": "2025-01-03T21:24:56.281Z"
   },
   {
    "duration": 329,
    "start_time": "2025-01-03T21:24:56.286Z"
   },
   {
    "duration": 51,
    "start_time": "2025-01-03T21:24:56.617Z"
   },
   {
    "duration": 72,
    "start_time": "2025-01-03T21:24:56.670Z"
   },
   {
    "duration": 97,
    "start_time": "2025-01-03T21:24:56.744Z"
   },
   {
    "duration": 10,
    "start_time": "2025-01-03T21:24:56.843Z"
   },
   {
    "duration": 101,
    "start_time": "2025-01-03T21:24:56.855Z"
   },
   {
    "duration": 5,
    "start_time": "2025-01-03T21:24:56.958Z"
   },
   {
    "duration": 36,
    "start_time": "2025-01-03T21:24:56.964Z"
   },
   {
    "duration": 2,
    "start_time": "2025-01-03T21:24:57.002Z"
   },
   {
    "duration": 6,
    "start_time": "2025-01-03T21:24:57.006Z"
   },
   {
    "duration": 5,
    "start_time": "2025-01-03T21:24:57.014Z"
   },
   {
    "duration": 16,
    "start_time": "2025-01-03T21:24:57.020Z"
   },
   {
    "duration": 8,
    "start_time": "2025-01-03T21:24:57.037Z"
   },
   {
    "duration": 226,
    "start_time": "2025-01-03T21:24:57.047Z"
   },
   {
    "duration": 29,
    "start_time": "2025-01-03T21:24:57.275Z"
   },
   {
    "duration": 22,
    "start_time": "2025-01-03T21:24:57.306Z"
   },
   {
    "duration": 6,
    "start_time": "2025-01-03T21:24:57.329Z"
   },
   {
    "duration": 36,
    "start_time": "2025-01-03T21:24:57.336Z"
   },
   {
    "duration": 16,
    "start_time": "2025-01-03T21:24:57.373Z"
   },
   {
    "duration": 127,
    "start_time": "2025-01-03T21:24:57.390Z"
   },
   {
    "duration": 4,
    "start_time": "2025-01-03T21:24:57.519Z"
   },
   {
    "duration": 25,
    "start_time": "2025-01-03T21:24:57.524Z"
   },
   {
    "duration": 11,
    "start_time": "2025-01-03T21:24:57.551Z"
   },
   {
    "duration": 9,
    "start_time": "2025-01-03T21:24:57.587Z"
   },
   {
    "duration": 580,
    "start_time": "2025-01-03T21:24:57.597Z"
   },
   {
    "duration": 33,
    "start_time": "2025-01-03T21:24:58.179Z"
   },
   {
    "duration": 7,
    "start_time": "2025-01-03T21:24:58.213Z"
   },
   {
    "duration": 21,
    "start_time": "2025-01-03T21:24:58.222Z"
   },
   {
    "duration": 8,
    "start_time": "2025-01-03T21:24:58.245Z"
   },
   {
    "duration": 178,
    "start_time": "2025-01-03T21:24:58.254Z"
   },
   {
    "duration": 2,
    "start_time": "2025-01-03T21:25:27.545Z"
   },
   {
    "duration": 1638,
    "start_time": "2025-01-03T21:25:27.552Z"
   },
   {
    "duration": 7,
    "start_time": "2025-01-03T21:25:29.192Z"
   },
   {
    "duration": 13,
    "start_time": "2025-01-03T21:25:29.201Z"
   },
   {
    "duration": 7,
    "start_time": "2025-01-03T21:25:29.215Z"
   },
   {
    "duration": 117,
    "start_time": "2025-01-03T21:25:29.224Z"
   },
   {
    "duration": 21,
    "start_time": "2025-01-03T21:25:29.343Z"
   },
   {
    "duration": 127,
    "start_time": "2025-01-03T21:25:29.365Z"
   },
   {
    "duration": 7,
    "start_time": "2025-01-03T21:25:29.494Z"
   },
   {
    "duration": 21,
    "start_time": "2025-01-03T21:25:29.502Z"
   },
   {
    "duration": 10,
    "start_time": "2025-01-03T21:25:29.524Z"
   },
   {
    "duration": 13,
    "start_time": "2025-01-03T21:25:29.535Z"
   },
   {
    "duration": 6,
    "start_time": "2025-01-03T21:25:29.550Z"
   },
   {
    "duration": 36,
    "start_time": "2025-01-03T21:25:29.558Z"
   },
   {
    "duration": 8,
    "start_time": "2025-01-03T21:25:29.597Z"
   },
   {
    "duration": 34,
    "start_time": "2025-01-03T21:25:29.606Z"
   },
   {
    "duration": 11,
    "start_time": "2025-01-03T21:25:29.642Z"
   },
   {
    "duration": 1144,
    "start_time": "2025-01-03T21:25:29.655Z"
   },
   {
    "duration": 328,
    "start_time": "2025-01-03T21:25:30.801Z"
   },
   {
    "duration": 158,
    "start_time": "2025-01-03T21:25:31.131Z"
   },
   {
    "duration": 23,
    "start_time": "2025-01-03T21:25:31.290Z"
   },
   {
    "duration": 296,
    "start_time": "2025-01-03T21:25:31.315Z"
   },
   {
    "duration": 4,
    "start_time": "2025-01-03T21:25:31.613Z"
   },
   {
    "duration": 300,
    "start_time": "2025-01-03T21:25:31.618Z"
   },
   {
    "duration": 16,
    "start_time": "2025-01-03T21:25:31.919Z"
   },
   {
    "duration": 18,
    "start_time": "2025-01-03T21:25:31.936Z"
   },
   {
    "duration": 66,
    "start_time": "2025-01-03T21:25:31.956Z"
   },
   {
    "duration": 20,
    "start_time": "2025-01-03T21:25:32.024Z"
   },
   {
    "duration": 101,
    "start_time": "2025-01-03T21:25:32.046Z"
   },
   {
    "duration": 3,
    "start_time": "2025-01-03T21:25:32.149Z"
   },
   {
    "duration": 74,
    "start_time": "2025-01-03T21:25:32.153Z"
   },
   {
    "duration": 3,
    "start_time": "2025-01-03T21:25:32.229Z"
   },
   {
    "duration": 306,
    "start_time": "2025-01-03T21:25:32.234Z"
   },
   {
    "duration": 58,
    "start_time": "2025-01-03T21:25:32.542Z"
   },
   {
    "duration": 84,
    "start_time": "2025-01-03T21:25:32.602Z"
   },
   {
    "duration": 82,
    "start_time": "2025-01-03T21:25:32.688Z"
   },
   {
    "duration": 19,
    "start_time": "2025-01-03T21:25:32.771Z"
   },
   {
    "duration": 64,
    "start_time": "2025-01-03T21:25:32.792Z"
   },
   {
    "duration": 5,
    "start_time": "2025-01-03T21:25:32.858Z"
   },
   {
    "duration": 43,
    "start_time": "2025-01-03T21:25:32.864Z"
   },
   {
    "duration": 3,
    "start_time": "2025-01-03T21:25:32.908Z"
   },
   {
    "duration": 24,
    "start_time": "2025-01-03T21:25:32.916Z"
   },
   {
    "duration": 19,
    "start_time": "2025-01-03T21:25:32.941Z"
   },
   {
    "duration": 38,
    "start_time": "2025-01-03T21:25:32.962Z"
   },
   {
    "duration": 23,
    "start_time": "2025-01-03T21:25:33.001Z"
   },
   {
    "duration": 163,
    "start_time": "2025-01-03T21:25:33.025Z"
   },
   {
    "duration": 19,
    "start_time": "2025-01-03T21:25:33.190Z"
   },
   {
    "duration": 21,
    "start_time": "2025-01-03T21:25:33.211Z"
   },
   {
    "duration": 7,
    "start_time": "2025-01-03T21:25:33.234Z"
   },
   {
    "duration": 33,
    "start_time": "2025-01-03T21:25:33.242Z"
   },
   {
    "duration": 9,
    "start_time": "2025-01-03T21:25:33.285Z"
   },
   {
    "duration": 126,
    "start_time": "2025-01-03T21:25:33.295Z"
   },
   {
    "duration": 5,
    "start_time": "2025-01-03T21:25:33.423Z"
   },
   {
    "duration": 24,
    "start_time": "2025-01-03T21:25:33.430Z"
   },
   {
    "duration": 36,
    "start_time": "2025-01-03T21:25:33.456Z"
   },
   {
    "duration": 9,
    "start_time": "2025-01-03T21:25:33.494Z"
   },
   {
    "duration": 441,
    "start_time": "2025-01-03T21:25:33.505Z"
   },
   {
    "duration": 39,
    "start_time": "2025-01-03T21:25:33.948Z"
   },
   {
    "duration": 7,
    "start_time": "2025-01-03T21:25:33.989Z"
   },
   {
    "duration": 44,
    "start_time": "2025-01-03T21:25:33.998Z"
   },
   {
    "duration": 9,
    "start_time": "2025-01-03T21:25:34.044Z"
   },
   {
    "duration": 141,
    "start_time": "2025-01-03T21:25:34.055Z"
   },
   {
    "duration": 24,
    "start_time": "2025-01-03T21:26:22.449Z"
   },
   {
    "duration": 3,
    "start_time": "2025-01-03T21:27:21.643Z"
   },
   {
    "duration": 1813,
    "start_time": "2025-01-03T21:27:21.649Z"
   },
   {
    "duration": 8,
    "start_time": "2025-01-03T21:27:23.464Z"
   },
   {
    "duration": 24,
    "start_time": "2025-01-03T21:27:23.474Z"
   },
   {
    "duration": 25,
    "start_time": "2025-01-03T21:27:23.500Z"
   },
   {
    "duration": 38,
    "start_time": "2025-01-03T21:27:23.528Z"
   },
   {
    "duration": 47,
    "start_time": "2025-01-03T21:27:23.568Z"
   },
   {
    "duration": 271,
    "start_time": "2025-01-03T21:27:23.618Z"
   },
   {
    "duration": 7,
    "start_time": "2025-01-03T21:27:23.891Z"
   },
   {
    "duration": 20,
    "start_time": "2025-01-03T21:27:23.900Z"
   },
   {
    "duration": 65,
    "start_time": "2025-01-03T21:27:23.922Z"
   },
   {
    "duration": 22,
    "start_time": "2025-01-03T21:27:23.988Z"
   },
   {
    "duration": 14,
    "start_time": "2025-01-03T21:27:24.011Z"
   },
   {
    "duration": 71,
    "start_time": "2025-01-03T21:27:24.027Z"
   },
   {
    "duration": 10,
    "start_time": "2025-01-03T21:27:24.102Z"
   },
   {
    "duration": 181,
    "start_time": "2025-01-03T21:27:24.114Z"
   },
   {
    "duration": 13,
    "start_time": "2025-01-03T21:27:24.297Z"
   },
   {
    "duration": 1005,
    "start_time": "2025-01-03T21:27:24.311Z"
   },
   {
    "duration": 160,
    "start_time": "2025-01-03T21:27:25.317Z"
   },
   {
    "duration": 56,
    "start_time": "2025-01-03T21:27:25.478Z"
   },
   {
    "duration": 26,
    "start_time": "2025-01-03T21:27:25.536Z"
   },
   {
    "duration": 181,
    "start_time": "2025-01-03T21:27:25.565Z"
   },
   {
    "duration": 4,
    "start_time": "2025-01-03T21:27:25.747Z"
   },
   {
    "duration": 250,
    "start_time": "2025-01-03T21:27:25.753Z"
   },
   {
    "duration": 14,
    "start_time": "2025-01-03T21:27:26.005Z"
   },
   {
    "duration": 14,
    "start_time": "2025-01-03T21:27:26.021Z"
   },
   {
    "duration": 72,
    "start_time": "2025-01-03T21:27:26.036Z"
   },
   {
    "duration": 19,
    "start_time": "2025-01-03T21:27:26.109Z"
   },
   {
    "duration": 158,
    "start_time": "2025-01-03T21:27:26.129Z"
   },
   {
    "duration": 3,
    "start_time": "2025-01-03T21:27:26.289Z"
   },
   {
    "duration": 64,
    "start_time": "2025-01-03T21:27:26.294Z"
   },
   {
    "duration": 4,
    "start_time": "2025-01-03T21:27:26.359Z"
   },
   {
    "duration": 306,
    "start_time": "2025-01-03T21:27:26.364Z"
   },
   {
    "duration": 57,
    "start_time": "2025-01-03T21:27:26.671Z"
   },
   {
    "duration": 86,
    "start_time": "2025-01-03T21:27:26.729Z"
   },
   {
    "duration": 83,
    "start_time": "2025-01-03T21:27:26.817Z"
   },
   {
    "duration": 10,
    "start_time": "2025-01-03T21:27:26.902Z"
   },
   {
    "duration": 49,
    "start_time": "2025-01-03T21:27:26.914Z"
   },
   {
    "duration": 5,
    "start_time": "2025-01-03T21:27:26.964Z"
   },
   {
    "duration": 28,
    "start_time": "2025-01-03T21:27:26.986Z"
   },
   {
    "duration": 12,
    "start_time": "2025-01-03T21:27:27.017Z"
   },
   {
    "duration": 5,
    "start_time": "2025-01-03T21:27:27.033Z"
   },
   {
    "duration": 10,
    "start_time": "2025-01-03T21:27:27.040Z"
   },
   {
    "duration": 14,
    "start_time": "2025-01-03T21:27:27.051Z"
   },
   {
    "duration": 75,
    "start_time": "2025-01-03T21:27:27.066Z"
   },
   {
    "duration": 249,
    "start_time": "2025-01-03T21:27:27.143Z"
   },
   {
    "duration": 21,
    "start_time": "2025-01-03T21:27:27.394Z"
   },
   {
    "duration": 24,
    "start_time": "2025-01-03T21:27:27.416Z"
   },
   {
    "duration": 6,
    "start_time": "2025-01-03T21:27:27.441Z"
   },
   {
    "duration": 49,
    "start_time": "2025-01-03T21:27:27.449Z"
   },
   {
    "duration": 8,
    "start_time": "2025-01-03T21:27:27.499Z"
   },
   {
    "duration": 139,
    "start_time": "2025-01-03T21:27:27.509Z"
   },
   {
    "duration": 4,
    "start_time": "2025-01-03T21:27:27.650Z"
   },
   {
    "duration": 47,
    "start_time": "2025-01-03T21:27:27.656Z"
   },
   {
    "duration": 15,
    "start_time": "2025-01-03T21:27:27.705Z"
   },
   {
    "duration": 11,
    "start_time": "2025-01-03T21:27:27.722Z"
   },
   {
    "duration": 705,
    "start_time": "2025-01-03T21:27:27.735Z"
   },
   {
    "duration": 28,
    "start_time": "2025-01-03T21:27:28.441Z"
   },
   {
    "duration": 6,
    "start_time": "2025-01-03T21:27:28.486Z"
   },
   {
    "duration": 18,
    "start_time": "2025-01-03T21:27:28.494Z"
   },
   {
    "duration": 8,
    "start_time": "2025-01-03T21:27:28.514Z"
   },
   {
    "duration": 155,
    "start_time": "2025-01-03T21:27:28.524Z"
   },
   {
    "duration": 774,
    "start_time": "2025-01-03T21:28:49.903Z"
   },
   {
    "duration": 771,
    "start_time": "2025-01-03T21:29:09.606Z"
   },
   {
    "duration": 733,
    "start_time": "2025-01-03T21:29:21.960Z"
   },
   {
    "duration": 848,
    "start_time": "2025-01-03T21:30:17.813Z"
   },
   {
    "duration": 8,
    "start_time": "2025-01-03T21:30:46.629Z"
   },
   {
    "duration": 75,
    "start_time": "2025-01-03T21:31:15.063Z"
   },
   {
    "duration": 122,
    "start_time": "2025-01-03T21:31:30.123Z"
   },
   {
    "duration": 739,
    "start_time": "2025-01-03T21:33:01.330Z"
   },
   {
    "duration": 718,
    "start_time": "2025-01-03T21:33:16.810Z"
   },
   {
    "duration": 777,
    "start_time": "2025-01-03T21:33:30.706Z"
   },
   {
    "duration": 750,
    "start_time": "2025-01-03T21:34:27.915Z"
   },
   {
    "duration": 4,
    "start_time": "2025-01-03T21:35:40.354Z"
   },
   {
    "duration": 31,
    "start_time": "2025-01-03T21:40:00.789Z"
   },
   {
    "duration": 12,
    "start_time": "2025-01-03T21:40:32.515Z"
   },
   {
    "duration": 71,
    "start_time": "2025-01-03T21:41:00.434Z"
   },
   {
    "duration": 1203,
    "start_time": "2025-01-03T21:41:13.102Z"
   },
   {
    "duration": 21,
    "start_time": "2025-01-03T21:41:34.096Z"
   },
   {
    "duration": 30,
    "start_time": "2025-01-03T21:41:53.262Z"
   },
   {
    "duration": 36,
    "start_time": "2025-01-03T21:42:07.800Z"
   },
   {
    "duration": 12,
    "start_time": "2025-01-03T21:42:34.229Z"
   },
   {
    "duration": 29,
    "start_time": "2025-01-03T21:42:40.693Z"
   },
   {
    "duration": 5,
    "start_time": "2025-01-03T21:43:28.855Z"
   },
   {
    "duration": 6,
    "start_time": "2025-01-03T21:43:34.479Z"
   },
   {
    "duration": 29,
    "start_time": "2025-01-03T21:44:04.825Z"
   },
   {
    "duration": 29,
    "start_time": "2025-01-03T21:45:14.064Z"
   },
   {
    "duration": 32,
    "start_time": "2025-01-03T21:45:34.899Z"
   },
   {
    "duration": 11,
    "start_time": "2025-01-03T21:47:04.550Z"
   },
   {
    "duration": 10,
    "start_time": "2025-01-03T21:47:16.270Z"
   },
   {
    "duration": 24,
    "start_time": "2025-01-03T21:48:59.304Z"
   },
   {
    "duration": 458,
    "start_time": "2025-01-03T21:49:44.982Z"
   },
   {
    "duration": 499,
    "start_time": "2025-01-03T21:50:36.836Z"
   },
   {
    "duration": 423,
    "start_time": "2025-01-03T21:50:49.958Z"
   },
   {
    "duration": 19,
    "start_time": "2025-01-03T21:51:30.723Z"
   },
   {
    "duration": 98,
    "start_time": "2025-01-03T21:52:30.857Z"
   },
   {
    "duration": 438,
    "start_time": "2025-01-03T21:52:42.731Z"
   },
   {
    "duration": 444,
    "start_time": "2025-01-03T21:52:48.470Z"
   },
   {
    "duration": 432,
    "start_time": "2025-01-03T21:52:54.056Z"
   },
   {
    "duration": 18,
    "start_time": "2025-01-03T21:54:55.102Z"
   },
   {
    "duration": 7,
    "start_time": "2025-01-03T21:55:00.986Z"
   },
   {
    "duration": 19,
    "start_time": "2025-01-03T21:55:10.835Z"
   },
   {
    "duration": 251,
    "start_time": "2025-01-03T21:55:33.980Z"
   },
   {
    "duration": 312,
    "start_time": "2025-01-03T21:56:35.441Z"
   },
   {
    "duration": 8,
    "start_time": "2025-01-03T21:59:24.188Z"
   },
   {
    "duration": 733,
    "start_time": "2025-01-03T22:00:00.380Z"
   },
   {
    "duration": 2,
    "start_time": "2025-01-03T22:12:53.040Z"
   },
   {
    "duration": 2278,
    "start_time": "2025-01-03T22:12:53.048Z"
   },
   {
    "duration": 8,
    "start_time": "2025-01-03T22:12:55.327Z"
   },
   {
    "duration": 13,
    "start_time": "2025-01-03T22:12:55.336Z"
   },
   {
    "duration": 23,
    "start_time": "2025-01-03T22:12:55.350Z"
   },
   {
    "duration": 26,
    "start_time": "2025-01-03T22:12:55.375Z"
   },
   {
    "duration": 24,
    "start_time": "2025-01-03T22:12:55.402Z"
   },
   {
    "duration": 98,
    "start_time": "2025-01-03T22:12:55.428Z"
   },
   {
    "duration": 8,
    "start_time": "2025-01-03T22:12:55.528Z"
   },
   {
    "duration": 22,
    "start_time": "2025-01-03T22:12:55.538Z"
   },
   {
    "duration": 28,
    "start_time": "2025-01-03T22:12:55.562Z"
   },
   {
    "duration": 17,
    "start_time": "2025-01-03T22:12:55.593Z"
   },
   {
    "duration": 11,
    "start_time": "2025-01-03T22:12:55.612Z"
   },
   {
    "duration": 10,
    "start_time": "2025-01-03T22:12:55.625Z"
   },
   {
    "duration": 8,
    "start_time": "2025-01-03T22:12:55.638Z"
   },
   {
    "duration": 65,
    "start_time": "2025-01-03T22:12:55.647Z"
   },
   {
    "duration": 9,
    "start_time": "2025-01-03T22:12:55.713Z"
   },
   {
    "duration": 653,
    "start_time": "2025-01-03T22:12:55.724Z"
   },
   {
    "duration": 148,
    "start_time": "2025-01-03T22:12:56.387Z"
   },
   {
    "duration": 59,
    "start_time": "2025-01-03T22:12:56.536Z"
   },
   {
    "duration": 24,
    "start_time": "2025-01-03T22:12:56.597Z"
   },
   {
    "duration": 166,
    "start_time": "2025-01-03T22:12:56.622Z"
   },
   {
    "duration": 3,
    "start_time": "2025-01-03T22:12:56.790Z"
   },
   {
    "duration": 271,
    "start_time": "2025-01-03T22:12:56.795Z"
   },
   {
    "duration": 20,
    "start_time": "2025-01-03T22:12:57.068Z"
   },
   {
    "duration": 12,
    "start_time": "2025-01-03T22:12:57.090Z"
   },
   {
    "duration": 52,
    "start_time": "2025-01-03T22:12:57.103Z"
   },
   {
    "duration": 45,
    "start_time": "2025-01-03T22:12:57.156Z"
   },
   {
    "duration": 73,
    "start_time": "2025-01-03T22:12:57.203Z"
   },
   {
    "duration": 0,
    "start_time": "2025-01-03T22:12:57.279Z"
   },
   {
    "duration": 0,
    "start_time": "2025-01-03T22:12:57.280Z"
   },
   {
    "duration": 0,
    "start_time": "2025-01-03T22:12:57.281Z"
   },
   {
    "duration": 0,
    "start_time": "2025-01-03T22:12:57.282Z"
   },
   {
    "duration": 0,
    "start_time": "2025-01-03T22:12:57.283Z"
   },
   {
    "duration": 0,
    "start_time": "2025-01-03T22:12:57.284Z"
   },
   {
    "duration": 0,
    "start_time": "2025-01-03T22:12:57.284Z"
   },
   {
    "duration": 0,
    "start_time": "2025-01-03T22:12:57.286Z"
   },
   {
    "duration": 0,
    "start_time": "2025-01-03T22:12:57.287Z"
   },
   {
    "duration": 0,
    "start_time": "2025-01-03T22:12:57.288Z"
   },
   {
    "duration": 0,
    "start_time": "2025-01-03T22:12:57.289Z"
   },
   {
    "duration": 0,
    "start_time": "2025-01-03T22:12:57.290Z"
   },
   {
    "duration": 0,
    "start_time": "2025-01-03T22:12:57.290Z"
   },
   {
    "duration": 0,
    "start_time": "2025-01-03T22:12:57.291Z"
   },
   {
    "duration": 0,
    "start_time": "2025-01-03T22:12:57.292Z"
   },
   {
    "duration": 0,
    "start_time": "2025-01-03T22:12:57.292Z"
   },
   {
    "duration": 0,
    "start_time": "2025-01-03T22:12:57.293Z"
   },
   {
    "duration": 0,
    "start_time": "2025-01-03T22:12:57.294Z"
   },
   {
    "duration": 0,
    "start_time": "2025-01-03T22:12:57.294Z"
   },
   {
    "duration": 0,
    "start_time": "2025-01-03T22:12:57.295Z"
   },
   {
    "duration": 0,
    "start_time": "2025-01-03T22:12:57.296Z"
   },
   {
    "duration": 0,
    "start_time": "2025-01-03T22:12:57.297Z"
   },
   {
    "duration": 0,
    "start_time": "2025-01-03T22:12:57.297Z"
   },
   {
    "duration": 0,
    "start_time": "2025-01-03T22:12:57.298Z"
   },
   {
    "duration": 0,
    "start_time": "2025-01-03T22:12:57.299Z"
   },
   {
    "duration": 0,
    "start_time": "2025-01-03T22:12:57.300Z"
   },
   {
    "duration": 0,
    "start_time": "2025-01-03T22:12:57.301Z"
   },
   {
    "duration": 1,
    "start_time": "2025-01-03T22:12:57.301Z"
   },
   {
    "duration": 0,
    "start_time": "2025-01-03T22:12:57.302Z"
   },
   {
    "duration": 0,
    "start_time": "2025-01-03T22:12:57.303Z"
   },
   {
    "duration": 0,
    "start_time": "2025-01-03T22:12:57.303Z"
   },
   {
    "duration": 0,
    "start_time": "2025-01-03T22:12:57.304Z"
   },
   {
    "duration": 0,
    "start_time": "2025-01-03T22:12:57.306Z"
   },
   {
    "duration": 0,
    "start_time": "2025-01-03T22:12:57.307Z"
   },
   {
    "duration": 0,
    "start_time": "2025-01-03T22:12:57.308Z"
   },
   {
    "duration": 0,
    "start_time": "2025-01-03T22:12:57.308Z"
   },
   {
    "duration": 91,
    "start_time": "2025-01-03T22:13:50.189Z"
   },
   {
    "duration": 3,
    "start_time": "2025-01-03T22:13:54.641Z"
   },
   {
    "duration": 2038,
    "start_time": "2025-01-03T22:13:54.648Z"
   },
   {
    "duration": 9,
    "start_time": "2025-01-03T22:13:56.688Z"
   },
   {
    "duration": 17,
    "start_time": "2025-01-03T22:13:56.698Z"
   },
   {
    "duration": 9,
    "start_time": "2025-01-03T22:13:56.717Z"
   },
   {
    "duration": 20,
    "start_time": "2025-01-03T22:13:56.728Z"
   },
   {
    "duration": 38,
    "start_time": "2025-01-03T22:13:56.750Z"
   },
   {
    "duration": 84,
    "start_time": "2025-01-03T22:13:56.790Z"
   },
   {
    "duration": 9,
    "start_time": "2025-01-03T22:13:56.887Z"
   },
   {
    "duration": 18,
    "start_time": "2025-01-03T22:13:56.897Z"
   },
   {
    "duration": 9,
    "start_time": "2025-01-03T22:13:56.917Z"
   },
   {
    "duration": 12,
    "start_time": "2025-01-03T22:13:56.928Z"
   },
   {
    "duration": 8,
    "start_time": "2025-01-03T22:13:56.942Z"
   },
   {
    "duration": 11,
    "start_time": "2025-01-03T22:13:56.987Z"
   },
   {
    "duration": 8,
    "start_time": "2025-01-03T22:13:57.001Z"
   },
   {
    "duration": 34,
    "start_time": "2025-01-03T22:13:57.010Z"
   },
   {
    "duration": 7,
    "start_time": "2025-01-03T22:13:57.046Z"
   },
   {
    "duration": 692,
    "start_time": "2025-01-03T22:13:57.055Z"
   },
   {
    "duration": 158,
    "start_time": "2025-01-03T22:13:57.749Z"
   },
   {
    "duration": 57,
    "start_time": "2025-01-03T22:13:57.909Z"
   },
   {
    "duration": 38,
    "start_time": "2025-01-03T22:13:57.967Z"
   },
   {
    "duration": 193,
    "start_time": "2025-01-03T22:13:58.007Z"
   },
   {
    "duration": 4,
    "start_time": "2025-01-03T22:13:58.202Z"
   },
   {
    "duration": 305,
    "start_time": "2025-01-03T22:13:58.207Z"
   },
   {
    "duration": 13,
    "start_time": "2025-01-03T22:13:58.514Z"
   },
   {
    "duration": 16,
    "start_time": "2025-01-03T22:13:58.529Z"
   },
   {
    "duration": 69,
    "start_time": "2025-01-03T22:13:58.546Z"
   },
   {
    "duration": 12,
    "start_time": "2025-01-03T22:13:58.616Z"
   },
   {
    "duration": 100,
    "start_time": "2025-01-03T22:13:58.629Z"
   },
   {
    "duration": 2,
    "start_time": "2025-01-03T22:13:58.731Z"
   },
   {
    "duration": 73,
    "start_time": "2025-01-03T22:13:58.735Z"
   },
   {
    "duration": 0,
    "start_time": "2025-01-03T22:13:58.810Z"
   },
   {
    "duration": 0,
    "start_time": "2025-01-03T22:13:58.811Z"
   },
   {
    "duration": 0,
    "start_time": "2025-01-03T22:13:58.812Z"
   },
   {
    "duration": 0,
    "start_time": "2025-01-03T22:13:58.813Z"
   },
   {
    "duration": 0,
    "start_time": "2025-01-03T22:13:58.814Z"
   },
   {
    "duration": 0,
    "start_time": "2025-01-03T22:13:58.815Z"
   },
   {
    "duration": 0,
    "start_time": "2025-01-03T22:13:58.816Z"
   },
   {
    "duration": 0,
    "start_time": "2025-01-03T22:13:58.816Z"
   },
   {
    "duration": 0,
    "start_time": "2025-01-03T22:13:58.817Z"
   },
   {
    "duration": 0,
    "start_time": "2025-01-03T22:13:58.818Z"
   },
   {
    "duration": 0,
    "start_time": "2025-01-03T22:13:58.819Z"
   },
   {
    "duration": 0,
    "start_time": "2025-01-03T22:13:58.820Z"
   },
   {
    "duration": 0,
    "start_time": "2025-01-03T22:13:58.821Z"
   },
   {
    "duration": 0,
    "start_time": "2025-01-03T22:13:58.821Z"
   },
   {
    "duration": 0,
    "start_time": "2025-01-03T22:13:58.822Z"
   },
   {
    "duration": 0,
    "start_time": "2025-01-03T22:13:58.823Z"
   },
   {
    "duration": 0,
    "start_time": "2025-01-03T22:13:58.824Z"
   },
   {
    "duration": 0,
    "start_time": "2025-01-03T22:13:58.824Z"
   },
   {
    "duration": 0,
    "start_time": "2025-01-03T22:13:58.825Z"
   },
   {
    "duration": 0,
    "start_time": "2025-01-03T22:13:58.826Z"
   },
   {
    "duration": 0,
    "start_time": "2025-01-03T22:13:58.826Z"
   },
   {
    "duration": 0,
    "start_time": "2025-01-03T22:13:58.827Z"
   },
   {
    "duration": 0,
    "start_time": "2025-01-03T22:13:58.828Z"
   },
   {
    "duration": 0,
    "start_time": "2025-01-03T22:13:58.829Z"
   },
   {
    "duration": 0,
    "start_time": "2025-01-03T22:13:58.829Z"
   },
   {
    "duration": 0,
    "start_time": "2025-01-03T22:13:58.830Z"
   },
   {
    "duration": 0,
    "start_time": "2025-01-03T22:13:58.831Z"
   },
   {
    "duration": 0,
    "start_time": "2025-01-03T22:13:58.832Z"
   },
   {
    "duration": 0,
    "start_time": "2025-01-03T22:13:58.833Z"
   },
   {
    "duration": 0,
    "start_time": "2025-01-03T22:13:58.834Z"
   },
   {
    "duration": 0,
    "start_time": "2025-01-03T22:13:58.835Z"
   },
   {
    "duration": 0,
    "start_time": "2025-01-03T22:13:58.836Z"
   },
   {
    "duration": 0,
    "start_time": "2025-01-03T22:13:58.837Z"
   },
   {
    "duration": 0,
    "start_time": "2025-01-03T22:13:58.838Z"
   },
   {
    "duration": 3,
    "start_time": "2025-01-03T22:14:20.206Z"
   },
   {
    "duration": 1792,
    "start_time": "2025-01-03T22:14:20.212Z"
   },
   {
    "duration": 8,
    "start_time": "2025-01-03T22:14:22.006Z"
   },
   {
    "duration": 13,
    "start_time": "2025-01-03T22:14:22.016Z"
   },
   {
    "duration": 7,
    "start_time": "2025-01-03T22:14:22.031Z"
   },
   {
    "duration": 28,
    "start_time": "2025-01-03T22:14:22.039Z"
   },
   {
    "duration": 35,
    "start_time": "2025-01-03T22:14:22.069Z"
   },
   {
    "duration": 92,
    "start_time": "2025-01-03T22:14:22.105Z"
   },
   {
    "duration": 8,
    "start_time": "2025-01-03T22:14:22.198Z"
   },
   {
    "duration": 28,
    "start_time": "2025-01-03T22:14:22.207Z"
   },
   {
    "duration": 10,
    "start_time": "2025-01-03T22:14:22.237Z"
   },
   {
    "duration": 12,
    "start_time": "2025-01-03T22:14:22.248Z"
   },
   {
    "duration": 24,
    "start_time": "2025-01-03T22:14:22.262Z"
   },
   {
    "duration": 17,
    "start_time": "2025-01-03T22:14:22.288Z"
   },
   {
    "duration": 11,
    "start_time": "2025-01-03T22:14:22.306Z"
   },
   {
    "duration": 59,
    "start_time": "2025-01-03T22:14:22.318Z"
   },
   {
    "duration": 47,
    "start_time": "2025-01-03T22:14:22.379Z"
   },
   {
    "duration": 670,
    "start_time": "2025-01-03T22:14:22.427Z"
   },
   {
    "duration": 160,
    "start_time": "2025-01-03T22:14:23.099Z"
   },
   {
    "duration": 57,
    "start_time": "2025-01-03T22:14:23.261Z"
   },
   {
    "duration": 26,
    "start_time": "2025-01-03T22:14:23.319Z"
   },
   {
    "duration": 183,
    "start_time": "2025-01-03T22:14:23.346Z"
   },
   {
    "duration": 5,
    "start_time": "2025-01-03T22:14:23.530Z"
   },
   {
    "duration": 300,
    "start_time": "2025-01-03T22:14:23.536Z"
   },
   {
    "duration": 15,
    "start_time": "2025-01-03T22:14:23.838Z"
   },
   {
    "duration": 13,
    "start_time": "2025-01-03T22:14:23.854Z"
   },
   {
    "duration": 69,
    "start_time": "2025-01-03T22:14:23.869Z"
   },
   {
    "duration": 18,
    "start_time": "2025-01-03T22:14:23.940Z"
   },
   {
    "duration": 94,
    "start_time": "2025-01-03T22:14:23.962Z"
   },
   {
    "duration": 3,
    "start_time": "2025-01-03T22:14:24.058Z"
   },
   {
    "duration": 76,
    "start_time": "2025-01-03T22:14:24.062Z"
   },
   {
    "duration": 4,
    "start_time": "2025-01-03T22:14:24.140Z"
   },
   {
    "duration": 68,
    "start_time": "2025-01-03T22:14:24.145Z"
   },
   {
    "duration": 0,
    "start_time": "2025-01-03T22:14:24.215Z"
   },
   {
    "duration": 0,
    "start_time": "2025-01-03T22:14:24.216Z"
   },
   {
    "duration": 0,
    "start_time": "2025-01-03T22:14:24.216Z"
   },
   {
    "duration": 0,
    "start_time": "2025-01-03T22:14:24.217Z"
   },
   {
    "duration": 0,
    "start_time": "2025-01-03T22:14:24.218Z"
   },
   {
    "duration": 0,
    "start_time": "2025-01-03T22:14:24.219Z"
   },
   {
    "duration": 0,
    "start_time": "2025-01-03T22:14:24.220Z"
   },
   {
    "duration": 0,
    "start_time": "2025-01-03T22:14:24.221Z"
   },
   {
    "duration": 0,
    "start_time": "2025-01-03T22:14:24.222Z"
   },
   {
    "duration": 0,
    "start_time": "2025-01-03T22:14:24.222Z"
   },
   {
    "duration": 0,
    "start_time": "2025-01-03T22:14:24.223Z"
   },
   {
    "duration": 0,
    "start_time": "2025-01-03T22:14:24.224Z"
   },
   {
    "duration": 0,
    "start_time": "2025-01-03T22:14:24.225Z"
   },
   {
    "duration": 0,
    "start_time": "2025-01-03T22:14:24.226Z"
   },
   {
    "duration": 0,
    "start_time": "2025-01-03T22:14:24.227Z"
   },
   {
    "duration": 0,
    "start_time": "2025-01-03T22:14:24.228Z"
   },
   {
    "duration": 0,
    "start_time": "2025-01-03T22:14:24.228Z"
   },
   {
    "duration": 0,
    "start_time": "2025-01-03T22:14:24.229Z"
   },
   {
    "duration": 0,
    "start_time": "2025-01-03T22:14:24.230Z"
   },
   {
    "duration": 0,
    "start_time": "2025-01-03T22:14:24.232Z"
   },
   {
    "duration": 0,
    "start_time": "2025-01-03T22:14:24.232Z"
   },
   {
    "duration": 0,
    "start_time": "2025-01-03T22:14:24.234Z"
   },
   {
    "duration": 0,
    "start_time": "2025-01-03T22:14:24.234Z"
   },
   {
    "duration": 0,
    "start_time": "2025-01-03T22:14:24.235Z"
   },
   {
    "duration": 0,
    "start_time": "2025-01-03T22:14:24.236Z"
   },
   {
    "duration": 0,
    "start_time": "2025-01-03T22:14:24.238Z"
   },
   {
    "duration": 0,
    "start_time": "2025-01-03T22:14:24.238Z"
   },
   {
    "duration": 0,
    "start_time": "2025-01-03T22:14:24.240Z"
   },
   {
    "duration": 0,
    "start_time": "2025-01-03T22:14:24.241Z"
   },
   {
    "duration": 0,
    "start_time": "2025-01-03T22:14:24.242Z"
   },
   {
    "duration": 0,
    "start_time": "2025-01-03T22:14:24.243Z"
   },
   {
    "duration": 0,
    "start_time": "2025-01-03T22:14:24.244Z"
   },
   {
    "duration": 3,
    "start_time": "2025-01-03T22:14:52.272Z"
   },
   {
    "duration": 1949,
    "start_time": "2025-01-03T22:14:52.278Z"
   },
   {
    "duration": 61,
    "start_time": "2025-01-03T22:14:54.229Z"
   },
   {
    "duration": 27,
    "start_time": "2025-01-03T22:14:54.292Z"
   },
   {
    "duration": 7,
    "start_time": "2025-01-03T22:14:54.321Z"
   },
   {
    "duration": 70,
    "start_time": "2025-01-03T22:14:54.331Z"
   },
   {
    "duration": 86,
    "start_time": "2025-01-03T22:14:54.402Z"
   },
   {
    "duration": 140,
    "start_time": "2025-01-03T22:14:54.489Z"
   },
   {
    "duration": 8,
    "start_time": "2025-01-03T22:14:54.686Z"
   },
   {
    "duration": 18,
    "start_time": "2025-01-03T22:14:54.696Z"
   },
   {
    "duration": 10,
    "start_time": "2025-01-03T22:14:54.715Z"
   },
   {
    "duration": 69,
    "start_time": "2025-01-03T22:14:54.726Z"
   },
   {
    "duration": 7,
    "start_time": "2025-01-03T22:14:54.797Z"
   },
   {
    "duration": 14,
    "start_time": "2025-01-03T22:14:54.805Z"
   },
   {
    "duration": 8,
    "start_time": "2025-01-03T22:14:54.821Z"
   },
   {
    "duration": 84,
    "start_time": "2025-01-03T22:14:54.831Z"
   },
   {
    "duration": 10,
    "start_time": "2025-01-03T22:14:54.917Z"
   },
   {
    "duration": 750,
    "start_time": "2025-01-03T22:14:54.929Z"
   },
   {
    "duration": 169,
    "start_time": "2025-01-03T22:14:55.680Z"
   },
   {
    "duration": 56,
    "start_time": "2025-01-03T22:14:55.851Z"
   },
   {
    "duration": 23,
    "start_time": "2025-01-03T22:14:55.909Z"
   },
   {
    "duration": 161,
    "start_time": "2025-01-03T22:14:55.934Z"
   },
   {
    "duration": 4,
    "start_time": "2025-01-03T22:14:56.097Z"
   },
   {
    "duration": 277,
    "start_time": "2025-01-03T22:14:56.103Z"
   },
   {
    "duration": 16,
    "start_time": "2025-01-03T22:14:56.382Z"
   },
   {
    "duration": 12,
    "start_time": "2025-01-03T22:14:56.400Z"
   },
   {
    "duration": 80,
    "start_time": "2025-01-03T22:14:56.414Z"
   },
   {
    "duration": 12,
    "start_time": "2025-01-03T22:14:56.495Z"
   },
   {
    "duration": 97,
    "start_time": "2025-01-03T22:14:56.508Z"
   },
   {
    "duration": 3,
    "start_time": "2025-01-03T22:14:56.607Z"
   },
   {
    "duration": 83,
    "start_time": "2025-01-03T22:14:56.611Z"
   },
   {
    "duration": 4,
    "start_time": "2025-01-03T22:14:56.696Z"
   },
   {
    "duration": 355,
    "start_time": "2025-01-03T22:14:56.701Z"
   },
   {
    "duration": 64,
    "start_time": "2025-01-03T22:14:57.058Z"
   },
   {
    "duration": 89,
    "start_time": "2025-01-03T22:14:57.124Z"
   },
   {
    "duration": 90,
    "start_time": "2025-01-03T22:14:57.215Z"
   },
   {
    "duration": 10,
    "start_time": "2025-01-03T22:14:57.307Z"
   },
   {
    "duration": 50,
    "start_time": "2025-01-03T22:14:57.319Z"
   },
   {
    "duration": 16,
    "start_time": "2025-01-03T22:14:57.371Z"
   },
   {
    "duration": 89,
    "start_time": "2025-01-03T22:14:57.388Z"
   },
   {
    "duration": 3,
    "start_time": "2025-01-03T22:14:57.479Z"
   },
   {
    "duration": 5,
    "start_time": "2025-01-03T22:14:57.486Z"
   },
   {
    "duration": 4,
    "start_time": "2025-01-03T22:14:57.493Z"
   },
   {
    "duration": 13,
    "start_time": "2025-01-03T22:14:57.499Z"
   },
   {
    "duration": 8,
    "start_time": "2025-01-03T22:14:57.514Z"
   },
   {
    "duration": 196,
    "start_time": "2025-01-03T22:14:57.523Z"
   },
   {
    "duration": 20,
    "start_time": "2025-01-03T22:14:57.721Z"
   },
   {
    "duration": 25,
    "start_time": "2025-01-03T22:14:57.743Z"
   },
   {
    "duration": 18,
    "start_time": "2025-01-03T22:14:57.770Z"
   },
   {
    "duration": 9,
    "start_time": "2025-01-03T22:14:57.789Z"
   },
   {
    "duration": 23,
    "start_time": "2025-01-03T22:14:57.799Z"
   },
   {
    "duration": 8,
    "start_time": "2025-01-03T22:14:57.824Z"
   },
   {
    "duration": 155,
    "start_time": "2025-01-03T22:14:57.833Z"
   },
   {
    "duration": 4,
    "start_time": "2025-01-03T22:14:57.990Z"
   },
   {
    "duration": 29,
    "start_time": "2025-01-03T22:14:57.996Z"
   },
   {
    "duration": 14,
    "start_time": "2025-01-03T22:14:58.027Z"
   },
   {
    "duration": 11,
    "start_time": "2025-01-03T22:14:58.043Z"
   },
   {
    "duration": 862,
    "start_time": "2025-01-03T22:14:58.056Z"
   },
   {
    "duration": 6,
    "start_time": "2025-01-03T22:14:58.920Z"
   },
   {
    "duration": 40,
    "start_time": "2025-01-03T22:14:58.927Z"
   },
   {
    "duration": 19,
    "start_time": "2025-01-03T22:14:58.969Z"
   },
   {
    "duration": 27,
    "start_time": "2025-01-03T22:14:58.990Z"
   },
   {
    "duration": 475,
    "start_time": "2025-01-03T22:14:59.018Z"
   },
   {
    "duration": 18,
    "start_time": "2025-01-03T22:14:59.494Z"
   },
   {
    "duration": 326,
    "start_time": "2025-01-03T22:14:59.514Z"
   },
   {
    "duration": 4,
    "start_time": "2025-01-03T22:18:16.987Z"
   },
   {
    "duration": 4,
    "start_time": "2025-01-03T22:18:39.025Z"
   },
   {
    "duration": 4,
    "start_time": "2025-01-03T22:18:57.986Z"
   },
   {
    "duration": 13,
    "start_time": "2025-01-03T22:24:02.776Z"
   },
   {
    "duration": 78,
    "start_time": "2025-01-03T22:24:05.147Z"
   },
   {
    "duration": 71,
    "start_time": "2025-01-03T22:24:47.176Z"
   },
   {
    "duration": 12,
    "start_time": "2025-01-03T22:24:53.206Z"
   },
   {
    "duration": 73,
    "start_time": "2025-01-03T22:25:10.749Z"
   },
   {
    "duration": 44,
    "start_time": "2025-01-03T22:25:13.344Z"
   },
   {
    "duration": 4,
    "start_time": "2025-01-03T22:25:15.109Z"
   },
   {
    "duration": 88,
    "start_time": "2025-01-03T22:26:29.970Z"
   },
   {
    "duration": 98,
    "start_time": "2025-01-03T22:26:40.152Z"
   },
   {
    "duration": 4,
    "start_time": "2025-01-03T22:27:00.472Z"
   },
   {
    "duration": 3,
    "start_time": "2025-01-03T22:27:35.693Z"
   },
   {
    "duration": 11,
    "start_time": "2025-01-03T22:28:37.874Z"
   },
   {
    "duration": 3,
    "start_time": "2025-01-03T22:28:47.162Z"
   },
   {
    "duration": 3,
    "start_time": "2025-01-03T22:29:15.891Z"
   },
   {
    "duration": 4,
    "start_time": "2025-01-03T22:29:48.752Z"
   },
   {
    "duration": 3,
    "start_time": "2025-01-03T22:29:55.648Z"
   },
   {
    "duration": 4,
    "start_time": "2025-01-03T22:30:12.939Z"
   },
   {
    "duration": 3,
    "start_time": "2025-01-03T22:31:05.113Z"
   },
   {
    "duration": 4,
    "start_time": "2025-01-03T22:31:31.207Z"
   },
   {
    "duration": 70,
    "start_time": "2025-01-03T22:32:40.549Z"
   },
   {
    "duration": 78,
    "start_time": "2025-01-03T22:33:02.648Z"
   },
   {
    "duration": 4,
    "start_time": "2025-01-03T22:33:06.711Z"
   },
   {
    "duration": 2,
    "start_time": "2025-01-03T22:34:46.842Z"
   },
   {
    "duration": 2205,
    "start_time": "2025-01-03T22:34:46.848Z"
   },
   {
    "duration": 9,
    "start_time": "2025-01-03T22:34:49.055Z"
   },
   {
    "duration": 66,
    "start_time": "2025-01-03T22:34:49.066Z"
   },
   {
    "duration": 10,
    "start_time": "2025-01-03T22:34:49.134Z"
   },
   {
    "duration": 20,
    "start_time": "2025-01-03T22:34:49.147Z"
   },
   {
    "duration": 22,
    "start_time": "2025-01-03T22:34:49.169Z"
   },
   {
    "duration": 84,
    "start_time": "2025-01-03T22:34:49.192Z"
   },
   {
    "duration": 14,
    "start_time": "2025-01-03T22:34:49.277Z"
   },
   {
    "duration": 26,
    "start_time": "2025-01-03T22:34:49.293Z"
   },
   {
    "duration": 16,
    "start_time": "2025-01-03T22:34:49.320Z"
   },
   {
    "duration": 65,
    "start_time": "2025-01-03T22:34:49.338Z"
   },
   {
    "duration": 7,
    "start_time": "2025-01-03T22:34:49.404Z"
   },
   {
    "duration": 9,
    "start_time": "2025-01-03T22:34:49.413Z"
   },
   {
    "duration": 10,
    "start_time": "2025-01-03T22:34:49.426Z"
   },
   {
    "duration": 73,
    "start_time": "2025-01-03T22:34:49.439Z"
   },
   {
    "duration": 9,
    "start_time": "2025-01-03T22:34:49.514Z"
   },
   {
    "duration": 667,
    "start_time": "2025-01-03T22:34:49.524Z"
   },
   {
    "duration": 161,
    "start_time": "2025-01-03T22:34:50.193Z"
   },
   {
    "duration": 61,
    "start_time": "2025-01-03T22:34:50.355Z"
   },
   {
    "duration": 22,
    "start_time": "2025-01-03T22:34:50.418Z"
   },
   {
    "duration": 260,
    "start_time": "2025-01-03T22:34:50.442Z"
   },
   {
    "duration": 4,
    "start_time": "2025-01-03T22:34:50.703Z"
   },
   {
    "duration": 311,
    "start_time": "2025-01-03T22:34:50.708Z"
   },
   {
    "duration": 15,
    "start_time": "2025-01-03T22:34:51.020Z"
   },
   {
    "duration": 22,
    "start_time": "2025-01-03T22:34:51.037Z"
   },
   {
    "duration": 136,
    "start_time": "2025-01-03T22:34:51.061Z"
   },
   {
    "duration": 20,
    "start_time": "2025-01-03T22:34:51.198Z"
   },
   {
    "duration": 102,
    "start_time": "2025-01-03T22:34:51.220Z"
   },
   {
    "duration": 2,
    "start_time": "2025-01-03T22:34:51.324Z"
   },
   {
    "duration": 169,
    "start_time": "2025-01-03T22:34:51.328Z"
   },
   {
    "duration": 5,
    "start_time": "2025-01-03T22:34:51.499Z"
   },
   {
    "duration": 368,
    "start_time": "2025-01-03T22:34:51.505Z"
   },
   {
    "duration": 78,
    "start_time": "2025-01-03T22:34:51.875Z"
   },
   {
    "duration": 42,
    "start_time": "2025-01-03T22:34:51.954Z"
   },
   {
    "duration": 4,
    "start_time": "2025-01-03T22:34:51.998Z"
   },
   {
    "duration": 123,
    "start_time": "2025-01-03T22:34:52.004Z"
   },
   {
    "duration": 62,
    "start_time": "2025-01-03T22:34:52.129Z"
   },
   {
    "duration": 4,
    "start_time": "2025-01-03T22:34:52.193Z"
   },
   {
    "duration": 24,
    "start_time": "2025-01-03T22:34:52.199Z"
   },
   {
    "duration": 46,
    "start_time": "2025-01-03T22:34:52.225Z"
   },
   {
    "duration": 5,
    "start_time": "2025-01-03T22:34:52.277Z"
   },
   {
    "duration": 32,
    "start_time": "2025-01-03T22:34:52.283Z"
   },
   {
    "duration": 10,
    "start_time": "2025-01-03T22:34:52.317Z"
   },
   {
    "duration": 11,
    "start_time": "2025-01-03T22:34:52.329Z"
   },
   {
    "duration": 29,
    "start_time": "2025-01-03T22:34:52.341Z"
   },
   {
    "duration": 103,
    "start_time": "2025-01-03T22:34:52.372Z"
   },
   {
    "duration": 64,
    "start_time": "2025-01-03T22:34:52.477Z"
   },
   {
    "duration": 186,
    "start_time": "2025-01-03T22:34:52.542Z"
   },
   {
    "duration": 21,
    "start_time": "2025-01-03T22:34:52.730Z"
   },
   {
    "duration": 35,
    "start_time": "2025-01-03T22:34:52.752Z"
   },
   {
    "duration": 17,
    "start_time": "2025-01-03T22:34:52.788Z"
   },
   {
    "duration": 24,
    "start_time": "2025-01-03T22:34:52.806Z"
   },
   {
    "duration": 51,
    "start_time": "2025-01-03T22:34:52.832Z"
   },
   {
    "duration": 30,
    "start_time": "2025-01-03T22:34:52.884Z"
   },
   {
    "duration": 144,
    "start_time": "2025-01-03T22:34:52.915Z"
   },
   {
    "duration": 4,
    "start_time": "2025-01-03T22:34:53.061Z"
   },
   {
    "duration": 68,
    "start_time": "2025-01-03T22:34:53.066Z"
   },
   {
    "duration": 20,
    "start_time": "2025-01-03T22:34:53.136Z"
   },
   {
    "duration": 11,
    "start_time": "2025-01-03T22:34:53.157Z"
   },
   {
    "duration": 820,
    "start_time": "2025-01-03T22:34:53.169Z"
   },
   {
    "duration": 6,
    "start_time": "2025-01-03T22:34:53.991Z"
   },
   {
    "duration": 63,
    "start_time": "2025-01-03T22:34:53.998Z"
   },
   {
    "duration": 10,
    "start_time": "2025-01-03T22:34:54.062Z"
   },
   {
    "duration": 25,
    "start_time": "2025-01-03T22:34:54.073Z"
   },
   {
    "duration": 486,
    "start_time": "2025-01-03T22:34:54.100Z"
   },
   {
    "duration": 18,
    "start_time": "2025-01-03T22:34:54.588Z"
   },
   {
    "duration": 322,
    "start_time": "2025-01-03T22:34:54.607Z"
   },
   {
    "duration": 3,
    "start_time": "2025-01-03T22:41:15.306Z"
   },
   {
    "duration": 2437,
    "start_time": "2025-01-03T22:41:15.311Z"
   },
   {
    "duration": 9,
    "start_time": "2025-01-03T22:41:17.750Z"
   },
   {
    "duration": 25,
    "start_time": "2025-01-03T22:41:17.761Z"
   },
   {
    "duration": 7,
    "start_time": "2025-01-03T22:41:17.788Z"
   },
   {
    "duration": 23,
    "start_time": "2025-01-03T22:41:17.797Z"
   },
   {
    "duration": 21,
    "start_time": "2025-01-03T22:41:17.822Z"
   },
   {
    "duration": 110,
    "start_time": "2025-01-03T22:41:17.845Z"
   },
   {
    "duration": 8,
    "start_time": "2025-01-03T22:41:17.957Z"
   },
   {
    "duration": 35,
    "start_time": "2025-01-03T22:41:17.968Z"
   },
   {
    "duration": 10,
    "start_time": "2025-01-03T22:41:18.005Z"
   },
   {
    "duration": 13,
    "start_time": "2025-01-03T22:41:18.016Z"
   },
   {
    "duration": 7,
    "start_time": "2025-01-03T22:41:18.031Z"
   },
   {
    "duration": 9,
    "start_time": "2025-01-03T22:41:18.040Z"
   },
   {
    "duration": 43,
    "start_time": "2025-01-03T22:41:18.051Z"
   },
   {
    "duration": 33,
    "start_time": "2025-01-03T22:41:18.096Z"
   },
   {
    "duration": 9,
    "start_time": "2025-01-03T22:41:18.131Z"
   },
   {
    "duration": 697,
    "start_time": "2025-01-03T22:41:18.142Z"
   },
   {
    "duration": 155,
    "start_time": "2025-01-03T22:41:18.841Z"
   },
   {
    "duration": 52,
    "start_time": "2025-01-03T22:41:18.998Z"
   },
   {
    "duration": 35,
    "start_time": "2025-01-03T22:41:19.052Z"
   },
   {
    "duration": 175,
    "start_time": "2025-01-03T22:41:19.089Z"
   },
   {
    "duration": 5,
    "start_time": "2025-01-03T22:41:19.265Z"
   },
   {
    "duration": 287,
    "start_time": "2025-01-03T22:41:19.271Z"
   },
   {
    "duration": 13,
    "start_time": "2025-01-03T22:41:19.560Z"
   },
   {
    "duration": 19,
    "start_time": "2025-01-03T22:41:19.575Z"
   },
   {
    "duration": 53,
    "start_time": "2025-01-03T22:41:19.595Z"
   },
   {
    "duration": 27,
    "start_time": "2025-01-03T22:41:19.660Z"
   },
   {
    "duration": 82,
    "start_time": "2025-01-03T22:41:19.689Z"
   },
   {
    "duration": 3,
    "start_time": "2025-01-03T22:41:19.772Z"
   },
   {
    "duration": 68,
    "start_time": "2025-01-03T22:41:19.777Z"
   },
   {
    "duration": 4,
    "start_time": "2025-01-03T22:41:19.847Z"
   },
   {
    "duration": 364,
    "start_time": "2025-01-03T22:41:19.853Z"
   },
   {
    "duration": 84,
    "start_time": "2025-01-03T22:41:20.219Z"
   },
   {
    "duration": 33,
    "start_time": "2025-01-03T22:41:20.305Z"
   },
   {
    "duration": 3,
    "start_time": "2025-01-03T22:41:20.340Z"
   },
   {
    "duration": 132,
    "start_time": "2025-01-03T22:41:20.344Z"
   },
   {
    "duration": 65,
    "start_time": "2025-01-03T22:41:20.477Z"
   },
   {
    "duration": 3,
    "start_time": "2025-01-03T22:41:20.544Z"
   },
   {
    "duration": 63,
    "start_time": "2025-01-03T22:41:20.549Z"
   },
   {
    "duration": 35,
    "start_time": "2025-01-03T22:41:20.613Z"
   },
   {
    "duration": 5,
    "start_time": "2025-01-03T22:41:20.649Z"
   },
   {
    "duration": 49,
    "start_time": "2025-01-03T22:41:20.656Z"
   },
   {
    "duration": 3,
    "start_time": "2025-01-03T22:41:20.706Z"
   },
   {
    "duration": 9,
    "start_time": "2025-01-03T22:41:20.711Z"
   },
   {
    "duration": 66,
    "start_time": "2025-01-03T22:41:20.722Z"
   },
   {
    "duration": 30,
    "start_time": "2025-01-03T22:41:20.790Z"
   },
   {
    "duration": 35,
    "start_time": "2025-01-03T22:41:20.822Z"
   },
   {
    "duration": 232,
    "start_time": "2025-01-03T22:41:20.859Z"
   },
   {
    "duration": 20,
    "start_time": "2025-01-03T22:41:21.092Z"
   },
   {
    "duration": 68,
    "start_time": "2025-01-03T22:41:21.114Z"
   },
   {
    "duration": 4,
    "start_time": "2025-01-03T22:41:21.184Z"
   },
   {
    "duration": 13,
    "start_time": "2025-01-03T22:41:21.189Z"
   },
   {
    "duration": 33,
    "start_time": "2025-01-03T22:41:21.203Z"
   },
   {
    "duration": 33,
    "start_time": "2025-01-03T22:41:21.238Z"
   },
   {
    "duration": 123,
    "start_time": "2025-01-03T22:41:21.272Z"
   },
   {
    "duration": 4,
    "start_time": "2025-01-03T22:41:21.397Z"
   },
   {
    "duration": 60,
    "start_time": "2025-01-03T22:41:21.403Z"
   },
   {
    "duration": 14,
    "start_time": "2025-01-03T22:41:21.465Z"
   },
   {
    "duration": 27,
    "start_time": "2025-01-03T22:41:21.480Z"
   },
   {
    "duration": 675,
    "start_time": "2025-01-03T22:41:21.509Z"
   },
   {
    "duration": 6,
    "start_time": "2025-01-03T22:41:22.186Z"
   },
   {
    "duration": 48,
    "start_time": "2025-01-03T22:41:22.193Z"
   },
   {
    "duration": 10,
    "start_time": "2025-01-03T22:41:22.242Z"
   },
   {
    "duration": 35,
    "start_time": "2025-01-03T22:41:22.254Z"
   },
   {
    "duration": 527,
    "start_time": "2025-01-03T22:41:22.291Z"
   },
   {
    "duration": 20,
    "start_time": "2025-01-03T22:41:22.820Z"
   },
   {
    "duration": 307,
    "start_time": "2025-01-03T22:41:22.842Z"
   },
   {
    "duration": 4,
    "start_time": "2025-01-03T22:43:02.744Z"
   },
   {
    "duration": 9,
    "start_time": "2025-01-03T22:45:16.785Z"
   },
   {
    "duration": 14,
    "start_time": "2025-01-03T22:45:30.908Z"
   },
   {
    "duration": 9,
    "start_time": "2025-01-03T22:45:52.097Z"
   },
   {
    "duration": 448,
    "start_time": "2025-01-03T22:51:51.481Z"
   },
   {
    "duration": 325,
    "start_time": "2025-01-03T22:51:55.491Z"
   },
   {
    "duration": 470,
    "start_time": "2025-01-03T22:52:05.507Z"
   },
   {
    "duration": 290,
    "start_time": "2025-01-03T22:52:13.189Z"
   },
   {
    "duration": 65,
    "start_time": "2025-01-03T22:53:29.343Z"
   },
   {
    "duration": 157,
    "start_time": "2025-01-03T22:53:35.027Z"
   },
   {
    "duration": 159,
    "start_time": "2025-01-03T22:53:42.489Z"
   },
   {
    "duration": 3,
    "start_time": "2025-01-03T22:54:35.133Z"
   },
   {
    "duration": 2260,
    "start_time": "2025-01-03T22:54:35.143Z"
   },
   {
    "duration": 8,
    "start_time": "2025-01-03T22:54:37.405Z"
   },
   {
    "duration": 89,
    "start_time": "2025-01-03T22:54:37.414Z"
   },
   {
    "duration": 12,
    "start_time": "2025-01-03T22:54:37.504Z"
   },
   {
    "duration": 47,
    "start_time": "2025-01-03T22:54:37.518Z"
   },
   {
    "duration": 25,
    "start_time": "2025-01-03T22:54:37.567Z"
   },
   {
    "duration": 96,
    "start_time": "2025-01-03T22:54:37.594Z"
   },
   {
    "duration": 7,
    "start_time": "2025-01-03T22:54:37.691Z"
   },
   {
    "duration": 23,
    "start_time": "2025-01-03T22:54:37.700Z"
   },
   {
    "duration": 9,
    "start_time": "2025-01-03T22:54:37.724Z"
   },
   {
    "duration": 11,
    "start_time": "2025-01-03T22:54:37.735Z"
   },
   {
    "duration": 14,
    "start_time": "2025-01-03T22:54:37.747Z"
   },
   {
    "duration": 28,
    "start_time": "2025-01-03T22:54:37.762Z"
   },
   {
    "duration": 9,
    "start_time": "2025-01-03T22:54:37.793Z"
   },
   {
    "duration": 33,
    "start_time": "2025-01-03T22:54:37.803Z"
   },
   {
    "duration": 8,
    "start_time": "2025-01-03T22:54:37.837Z"
   },
   {
    "duration": 649,
    "start_time": "2025-01-03T22:54:37.847Z"
   },
   {
    "duration": 149,
    "start_time": "2025-01-03T22:54:38.497Z"
   },
   {
    "duration": 55,
    "start_time": "2025-01-03T22:54:38.648Z"
   },
   {
    "duration": 22,
    "start_time": "2025-01-03T22:54:38.705Z"
   },
   {
    "duration": 155,
    "start_time": "2025-01-03T22:54:38.728Z"
   },
   {
    "duration": 3,
    "start_time": "2025-01-03T22:54:38.886Z"
   },
   {
    "duration": 254,
    "start_time": "2025-01-03T22:54:38.890Z"
   },
   {
    "duration": 14,
    "start_time": "2025-01-03T22:54:39.145Z"
   },
   {
    "duration": 53,
    "start_time": "2025-01-03T22:54:39.161Z"
   },
   {
    "duration": 54,
    "start_time": "2025-01-03T22:54:39.215Z"
   },
   {
    "duration": 19,
    "start_time": "2025-01-03T22:54:39.270Z"
   },
   {
    "duration": 175,
    "start_time": "2025-01-03T22:54:39.290Z"
   },
   {
    "duration": 3,
    "start_time": "2025-01-03T22:54:39.468Z"
   },
   {
    "duration": 77,
    "start_time": "2025-01-03T22:54:39.474Z"
   },
   {
    "duration": 4,
    "start_time": "2025-01-03T22:54:39.553Z"
   },
   {
    "duration": 353,
    "start_time": "2025-01-03T22:54:39.558Z"
   },
   {
    "duration": 86,
    "start_time": "2025-01-03T22:54:39.913Z"
   },
   {
    "duration": 36,
    "start_time": "2025-01-03T22:54:40.002Z"
   },
   {
    "duration": 4,
    "start_time": "2025-01-03T22:54:40.040Z"
   },
   {
    "duration": 137,
    "start_time": "2025-01-03T22:54:40.045Z"
   },
   {
    "duration": 80,
    "start_time": "2025-01-03T22:54:40.184Z"
   },
   {
    "duration": 3,
    "start_time": "2025-01-03T22:54:40.266Z"
   },
   {
    "duration": 26,
    "start_time": "2025-01-03T22:54:40.270Z"
   },
   {
    "duration": 37,
    "start_time": "2025-01-03T22:54:40.297Z"
   },
   {
    "duration": 4,
    "start_time": "2025-01-03T22:54:40.338Z"
   },
   {
    "duration": 28,
    "start_time": "2025-01-03T22:54:40.343Z"
   },
   {
    "duration": 13,
    "start_time": "2025-01-03T22:54:40.373Z"
   },
   {
    "duration": 9,
    "start_time": "2025-01-03T22:54:40.387Z"
   },
   {
    "duration": 13,
    "start_time": "2025-01-03T22:54:40.397Z"
   },
   {
    "duration": 12,
    "start_time": "2025-01-03T22:54:40.412Z"
   },
   {
    "duration": 11,
    "start_time": "2025-01-03T22:54:40.425Z"
   },
   {
    "duration": 179,
    "start_time": "2025-01-03T22:54:40.437Z"
   },
   {
    "duration": 20,
    "start_time": "2025-01-03T22:54:40.617Z"
   },
   {
    "duration": 21,
    "start_time": "2025-01-03T22:54:40.638Z"
   },
   {
    "duration": 4,
    "start_time": "2025-01-03T22:54:40.661Z"
   },
   {
    "duration": 5,
    "start_time": "2025-01-03T22:54:40.686Z"
   },
   {
    "duration": 35,
    "start_time": "2025-01-03T22:54:40.693Z"
   },
   {
    "duration": 8,
    "start_time": "2025-01-03T22:54:40.730Z"
   },
   {
    "duration": 128,
    "start_time": "2025-01-03T22:54:40.739Z"
   },
   {
    "duration": 5,
    "start_time": "2025-01-03T22:54:40.868Z"
   },
   {
    "duration": 14,
    "start_time": "2025-01-03T22:54:40.886Z"
   },
   {
    "duration": 10,
    "start_time": "2025-01-03T22:54:40.902Z"
   },
   {
    "duration": 770,
    "start_time": "2025-01-03T22:54:40.913Z"
   },
   {
    "duration": 6,
    "start_time": "2025-01-03T22:54:41.686Z"
   },
   {
    "duration": 36,
    "start_time": "2025-01-03T22:54:41.694Z"
   },
   {
    "duration": 9,
    "start_time": "2025-01-03T22:54:41.732Z"
   },
   {
    "duration": 24,
    "start_time": "2025-01-03T22:54:41.742Z"
   },
   {
    "duration": 285,
    "start_time": "2025-01-03T22:54:41.786Z"
   },
   {
    "duration": 17,
    "start_time": "2025-01-03T22:54:42.072Z"
   },
   {
    "duration": 158,
    "start_time": "2025-01-03T22:54:42.091Z"
   },
   {
    "duration": 53,
    "start_time": "2025-01-04T16:32:09.138Z"
   },
   {
    "duration": 1418,
    "start_time": "2025-01-04T16:32:15.390Z"
   },
   {
    "duration": 2571,
    "start_time": "2025-01-04T16:32:16.810Z"
   },
   {
    "duration": 12,
    "start_time": "2025-01-04T16:32:19.383Z"
   },
   {
    "duration": 12,
    "start_time": "2025-01-04T16:32:19.397Z"
   },
   {
    "duration": 7,
    "start_time": "2025-01-04T16:32:19.410Z"
   },
   {
    "duration": 24,
    "start_time": "2025-01-04T16:32:19.419Z"
   },
   {
    "duration": 48,
    "start_time": "2025-01-04T16:32:19.445Z"
   },
   {
    "duration": 113,
    "start_time": "2025-01-04T16:32:19.495Z"
   },
   {
    "duration": 6,
    "start_time": "2025-01-04T16:32:19.610Z"
   },
   {
    "duration": 34,
    "start_time": "2025-01-04T16:32:19.619Z"
   },
   {
    "duration": 56,
    "start_time": "2025-01-04T16:32:19.655Z"
   },
   {
    "duration": 12,
    "start_time": "2025-01-04T16:32:19.713Z"
   },
   {
    "duration": 6,
    "start_time": "2025-01-04T16:32:19.727Z"
   },
   {
    "duration": 11,
    "start_time": "2025-01-04T16:32:19.734Z"
   },
   {
    "duration": 8,
    "start_time": "2025-01-04T16:32:19.746Z"
   },
   {
    "duration": 41,
    "start_time": "2025-01-04T16:32:19.756Z"
   },
   {
    "duration": 8,
    "start_time": "2025-01-04T16:32:19.799Z"
   },
   {
    "duration": 893,
    "start_time": "2025-01-04T16:32:19.809Z"
   },
   {
    "duration": 378,
    "start_time": "2025-01-04T16:32:20.704Z"
   },
   {
    "duration": 106,
    "start_time": "2025-01-04T16:32:21.083Z"
   },
   {
    "duration": 81,
    "start_time": "2025-01-04T16:32:21.191Z"
   },
   {
    "duration": 420,
    "start_time": "2025-01-04T16:32:21.274Z"
   },
   {
    "duration": 4,
    "start_time": "2025-01-04T16:32:21.695Z"
   },
   {
    "duration": 474,
    "start_time": "2025-01-04T16:32:21.701Z"
   },
   {
    "duration": 15,
    "start_time": "2025-01-04T16:32:22.176Z"
   },
   {
    "duration": 22,
    "start_time": "2025-01-04T16:32:22.192Z"
   },
   {
    "duration": 154,
    "start_time": "2025-01-04T16:32:22.215Z"
   },
   {
    "duration": 23,
    "start_time": "2025-01-04T16:32:22.372Z"
   },
   {
    "duration": 92,
    "start_time": "2025-01-04T16:32:22.397Z"
   },
   {
    "duration": 3,
    "start_time": "2025-01-04T16:32:22.490Z"
   },
   {
    "duration": 86,
    "start_time": "2025-01-04T16:32:22.494Z"
   },
   {
    "duration": 4,
    "start_time": "2025-01-04T16:32:22.582Z"
   },
   {
    "duration": 412,
    "start_time": "2025-01-04T16:32:22.587Z"
   },
   {
    "duration": 79,
    "start_time": "2025-01-04T16:32:23.002Z"
   },
   {
    "duration": 61,
    "start_time": "2025-01-04T16:32:23.083Z"
   },
   {
    "duration": 3,
    "start_time": "2025-01-04T16:32:23.146Z"
   },
   {
    "duration": 131,
    "start_time": "2025-01-04T16:32:23.150Z"
   },
   {
    "duration": 113,
    "start_time": "2025-01-04T16:32:23.282Z"
   },
   {
    "duration": 3,
    "start_time": "2025-01-04T16:32:23.397Z"
   },
   {
    "duration": 17,
    "start_time": "2025-01-04T16:32:23.401Z"
   },
   {
    "duration": 65,
    "start_time": "2025-01-04T16:32:23.419Z"
   },
   {
    "duration": 5,
    "start_time": "2025-01-04T16:32:23.485Z"
   },
   {
    "duration": 36,
    "start_time": "2025-01-04T16:32:23.491Z"
   },
   {
    "duration": 4,
    "start_time": "2025-01-04T16:32:23.529Z"
   },
   {
    "duration": 12,
    "start_time": "2025-01-04T16:32:23.534Z"
   },
   {
    "duration": 21,
    "start_time": "2025-01-04T16:32:23.548Z"
   },
   {
    "duration": 25,
    "start_time": "2025-01-04T16:32:23.571Z"
   },
   {
    "duration": 153,
    "start_time": "2025-01-04T16:32:23.598Z"
   },
   {
    "duration": 197,
    "start_time": "2025-01-04T16:32:23.752Z"
   },
   {
    "duration": 32,
    "start_time": "2025-01-04T16:32:23.951Z"
   },
   {
    "duration": 24,
    "start_time": "2025-01-04T16:32:23.984Z"
   },
   {
    "duration": 4,
    "start_time": "2025-01-04T16:32:24.009Z"
   },
   {
    "duration": 15,
    "start_time": "2025-01-04T16:32:24.015Z"
   },
   {
    "duration": 46,
    "start_time": "2025-01-04T16:32:24.031Z"
   },
   {
    "duration": 12,
    "start_time": "2025-01-04T16:32:24.079Z"
   },
   {
    "duration": 216,
    "start_time": "2025-01-04T16:32:24.093Z"
   },
   {
    "duration": 4,
    "start_time": "2025-01-04T16:32:24.311Z"
   },
   {
    "duration": 25,
    "start_time": "2025-01-04T16:32:24.316Z"
   },
   {
    "duration": 11,
    "start_time": "2025-01-04T16:32:24.343Z"
   },
   {
    "duration": 853,
    "start_time": "2025-01-04T16:32:24.356Z"
   },
   {
    "duration": 6,
    "start_time": "2025-01-04T16:32:25.211Z"
   },
   {
    "duration": 86,
    "start_time": "2025-01-04T16:32:25.219Z"
   },
   {
    "duration": 9,
    "start_time": "2025-01-04T16:32:25.307Z"
   },
   {
    "duration": 31,
    "start_time": "2025-01-04T16:32:25.317Z"
   },
   {
    "duration": 418,
    "start_time": "2025-01-04T16:32:25.349Z"
   },
   {
    "duration": 12,
    "start_time": "2025-01-04T16:32:25.772Z"
   },
   {
    "duration": 184,
    "start_time": "2025-01-04T16:32:25.786Z"
   },
   {
    "duration": 14,
    "start_time": "2025-01-04T16:33:30.174Z"
   },
   {
    "duration": 5,
    "start_time": "2025-01-04T16:33:53.601Z"
   },
   {
    "duration": 31,
    "start_time": "2025-01-04T16:33:57.136Z"
   },
   {
    "duration": 13,
    "start_time": "2025-01-04T16:34:14.180Z"
   },
   {
    "duration": 13,
    "start_time": "2025-01-04T16:34:17.228Z"
   },
   {
    "duration": 32,
    "start_time": "2025-01-04T16:34:22.933Z"
   },
   {
    "duration": 9,
    "start_time": "2025-01-04T16:34:25.204Z"
   },
   {
    "duration": 3,
    "start_time": "2025-01-04T16:39:03.453Z"
   },
   {
    "duration": 2634,
    "start_time": "2025-01-04T16:39:03.461Z"
   },
   {
    "duration": 14,
    "start_time": "2025-01-04T16:39:06.097Z"
   },
   {
    "duration": 117,
    "start_time": "2025-01-04T16:39:06.113Z"
   },
   {
    "duration": 80,
    "start_time": "2025-01-04T16:39:06.232Z"
   },
   {
    "duration": 95,
    "start_time": "2025-01-04T16:39:06.315Z"
   },
   {
    "duration": 88,
    "start_time": "2025-01-04T16:39:06.412Z"
   },
   {
    "duration": 366,
    "start_time": "2025-01-04T16:39:06.505Z"
   },
   {
    "duration": 12,
    "start_time": "2025-01-04T16:39:06.873Z"
   },
   {
    "duration": 95,
    "start_time": "2025-01-04T16:39:06.887Z"
   },
   {
    "duration": 16,
    "start_time": "2025-01-04T16:39:06.986Z"
   },
   {
    "duration": 78,
    "start_time": "2025-01-04T16:39:07.004Z"
   },
   {
    "duration": 11,
    "start_time": "2025-01-04T16:39:07.085Z"
   },
   {
    "duration": 73,
    "start_time": "2025-01-04T16:39:07.099Z"
   },
   {
    "duration": 13,
    "start_time": "2025-01-04T16:39:07.177Z"
   },
   {
    "duration": 187,
    "start_time": "2025-01-04T16:39:07.193Z"
   },
   {
    "duration": 15,
    "start_time": "2025-01-04T16:39:07.383Z"
   },
   {
    "duration": 1124,
    "start_time": "2025-01-04T16:39:07.401Z"
   },
   {
    "duration": 192,
    "start_time": "2025-01-04T16:39:08.527Z"
   },
   {
    "duration": 69,
    "start_time": "2025-01-04T16:39:08.721Z"
   },
   {
    "duration": 29,
    "start_time": "2025-01-04T16:39:08.792Z"
   },
   {
    "duration": 174,
    "start_time": "2025-01-04T16:39:08.825Z"
   },
   {
    "duration": 5,
    "start_time": "2025-01-04T16:39:09.001Z"
   },
   {
    "duration": 322,
    "start_time": "2025-01-04T16:39:09.008Z"
   },
   {
    "duration": 17,
    "start_time": "2025-01-04T16:39:09.332Z"
   },
   {
    "duration": 38,
    "start_time": "2025-01-04T16:39:09.351Z"
   },
   {
    "duration": 86,
    "start_time": "2025-01-04T16:39:09.391Z"
   },
   {
    "duration": 24,
    "start_time": "2025-01-04T16:39:09.479Z"
   },
   {
    "duration": 116,
    "start_time": "2025-01-04T16:39:09.505Z"
   },
   {
    "duration": 4,
    "start_time": "2025-01-04T16:39:09.622Z"
   },
   {
    "duration": 109,
    "start_time": "2025-01-04T16:39:09.627Z"
   },
   {
    "duration": 5,
    "start_time": "2025-01-04T16:39:09.737Z"
   },
   {
    "duration": 415,
    "start_time": "2025-01-04T16:39:09.744Z"
   },
   {
    "duration": 96,
    "start_time": "2025-01-04T16:39:10.161Z"
   },
   {
    "duration": 42,
    "start_time": "2025-01-04T16:39:10.271Z"
   },
   {
    "duration": 18,
    "start_time": "2025-01-04T16:39:10.315Z"
   },
   {
    "duration": 116,
    "start_time": "2025-01-04T16:39:10.335Z"
   },
   {
    "duration": 86,
    "start_time": "2025-01-04T16:39:10.452Z"
   },
   {
    "duration": 5,
    "start_time": "2025-01-04T16:39:10.541Z"
   },
   {
    "duration": 47,
    "start_time": "2025-01-04T16:39:10.549Z"
   },
   {
    "duration": 138,
    "start_time": "2025-01-04T16:39:10.599Z"
   },
   {
    "duration": 7,
    "start_time": "2025-01-04T16:39:10.744Z"
   },
   {
    "duration": 46,
    "start_time": "2025-01-04T16:39:10.754Z"
   },
   {
    "duration": 4,
    "start_time": "2025-01-04T16:39:10.803Z"
   },
   {
    "duration": 11,
    "start_time": "2025-01-04T16:39:10.808Z"
   },
   {
    "duration": 14,
    "start_time": "2025-01-04T16:39:10.821Z"
   },
   {
    "duration": 20,
    "start_time": "2025-01-04T16:39:10.838Z"
   },
   {
    "duration": 9,
    "start_time": "2025-01-04T16:39:10.871Z"
   },
   {
    "duration": 195,
    "start_time": "2025-01-04T16:39:10.882Z"
   },
   {
    "duration": 33,
    "start_time": "2025-01-04T16:39:11.079Z"
   },
   {
    "duration": 29,
    "start_time": "2025-01-04T16:39:11.114Z"
   },
   {
    "duration": 30,
    "start_time": "2025-01-04T16:39:11.145Z"
   },
   {
    "duration": 16,
    "start_time": "2025-01-04T16:39:11.177Z"
   },
   {
    "duration": 38,
    "start_time": "2025-01-04T16:39:11.195Z"
   },
   {
    "duration": 12,
    "start_time": "2025-01-04T16:39:11.235Z"
   },
   {
    "duration": 155,
    "start_time": "2025-01-04T16:39:11.271Z"
   },
   {
    "duration": 5,
    "start_time": "2025-01-04T16:39:11.428Z"
   },
   {
    "duration": 35,
    "start_time": "2025-01-04T16:39:11.435Z"
   },
   {
    "duration": 12,
    "start_time": "2025-01-04T16:39:11.472Z"
   },
   {
    "duration": 819,
    "start_time": "2025-01-04T16:39:11.487Z"
   },
   {
    "duration": 10,
    "start_time": "2025-01-04T16:39:12.308Z"
   },
   {
    "duration": 1542,
    "start_time": "2025-01-04T16:39:12.320Z"
   },
   {
    "duration": 0,
    "start_time": "2025-01-04T16:39:13.864Z"
   },
   {
    "duration": 0,
    "start_time": "2025-01-04T16:39:13.866Z"
   },
   {
    "duration": 0,
    "start_time": "2025-01-04T16:39:13.868Z"
   },
   {
    "duration": 0,
    "start_time": "2025-01-04T16:39:13.869Z"
   },
   {
    "duration": 0,
    "start_time": "2025-01-04T16:39:13.871Z"
   },
   {
    "duration": 4,
    "start_time": "2025-01-04T16:40:00.138Z"
   },
   {
    "duration": 2080,
    "start_time": "2025-01-04T16:40:00.147Z"
   },
   {
    "duration": 14,
    "start_time": "2025-01-04T16:40:02.229Z"
   },
   {
    "duration": 35,
    "start_time": "2025-01-04T16:40:02.245Z"
   },
   {
    "duration": 12,
    "start_time": "2025-01-04T16:40:02.282Z"
   },
   {
    "duration": 96,
    "start_time": "2025-01-04T16:40:02.298Z"
   },
   {
    "duration": 83,
    "start_time": "2025-01-04T16:40:02.396Z"
   },
   {
    "duration": 219,
    "start_time": "2025-01-04T16:40:02.480Z"
   },
   {
    "duration": 9,
    "start_time": "2025-01-04T16:40:02.701Z"
   },
   {
    "duration": 110,
    "start_time": "2025-01-04T16:40:02.712Z"
   },
   {
    "duration": 59,
    "start_time": "2025-01-04T16:40:02.825Z"
   },
   {
    "duration": 85,
    "start_time": "2025-01-04T16:40:02.886Z"
   },
   {
    "duration": 11,
    "start_time": "2025-01-04T16:40:02.974Z"
   },
   {
    "duration": 44,
    "start_time": "2025-01-04T16:40:02.987Z"
   },
   {
    "duration": 17,
    "start_time": "2025-01-04T16:40:03.074Z"
   },
   {
    "duration": 181,
    "start_time": "2025-01-04T16:40:03.094Z"
   },
   {
    "duration": 16,
    "start_time": "2025-01-04T16:40:03.277Z"
   },
   {
    "duration": 1484,
    "start_time": "2025-01-04T16:40:03.295Z"
   },
   {
    "duration": 183,
    "start_time": "2025-01-04T16:40:04.782Z"
   },
   {
    "duration": 65,
    "start_time": "2025-01-04T16:40:04.967Z"
   },
   {
    "duration": 56,
    "start_time": "2025-01-04T16:40:05.035Z"
   },
   {
    "duration": 195,
    "start_time": "2025-01-04T16:40:05.092Z"
   },
   {
    "duration": 5,
    "start_time": "2025-01-04T16:40:05.289Z"
   },
   {
    "duration": 415,
    "start_time": "2025-01-04T16:40:05.296Z"
   },
   {
    "duration": 38,
    "start_time": "2025-01-04T16:40:05.714Z"
   },
   {
    "duration": 67,
    "start_time": "2025-01-04T16:40:05.754Z"
   },
   {
    "duration": 118,
    "start_time": "2025-01-04T16:40:05.824Z"
   },
   {
    "duration": 30,
    "start_time": "2025-01-04T16:40:05.944Z"
   },
   {
    "duration": 113,
    "start_time": "2025-01-04T16:40:05.976Z"
   },
   {
    "duration": 4,
    "start_time": "2025-01-04T16:40:06.092Z"
   },
   {
    "duration": 99,
    "start_time": "2025-01-04T16:40:06.098Z"
   },
   {
    "duration": 7,
    "start_time": "2025-01-04T16:40:06.199Z"
   },
   {
    "duration": 567,
    "start_time": "2025-01-04T16:40:06.208Z"
   },
   {
    "duration": 135,
    "start_time": "2025-01-04T16:40:06.777Z"
   },
   {
    "duration": 44,
    "start_time": "2025-01-04T16:40:06.913Z"
   },
   {
    "duration": 13,
    "start_time": "2025-01-04T16:40:06.970Z"
   },
   {
    "duration": 157,
    "start_time": "2025-01-04T16:40:06.986Z"
   },
   {
    "duration": 141,
    "start_time": "2025-01-04T16:40:07.146Z"
   },
   {
    "duration": 5,
    "start_time": "2025-01-04T16:40:07.289Z"
   },
   {
    "duration": 80,
    "start_time": "2025-01-04T16:40:07.296Z"
   },
   {
    "duration": 74,
    "start_time": "2025-01-04T16:40:07.379Z"
   },
   {
    "duration": 6,
    "start_time": "2025-01-04T16:40:07.460Z"
   },
   {
    "duration": 50,
    "start_time": "2025-01-04T16:40:07.469Z"
   },
   {
    "duration": 4,
    "start_time": "2025-01-04T16:40:07.521Z"
   },
   {
    "duration": 45,
    "start_time": "2025-01-04T16:40:07.527Z"
   },
   {
    "duration": 30,
    "start_time": "2025-01-04T16:40:07.574Z"
   },
   {
    "duration": 51,
    "start_time": "2025-01-04T16:40:07.607Z"
   },
   {
    "duration": 14,
    "start_time": "2025-01-04T16:40:07.661Z"
   },
   {
    "duration": 192,
    "start_time": "2025-01-04T16:40:07.677Z"
   },
   {
    "duration": 33,
    "start_time": "2025-01-04T16:40:07.871Z"
   },
   {
    "duration": 29,
    "start_time": "2025-01-04T16:40:07.905Z"
   },
   {
    "duration": 19,
    "start_time": "2025-01-04T16:40:07.936Z"
   },
   {
    "duration": 44,
    "start_time": "2025-01-04T16:40:07.972Z"
   },
   {
    "duration": 63,
    "start_time": "2025-01-04T16:40:08.019Z"
   },
   {
    "duration": 13,
    "start_time": "2025-01-04T16:40:08.084Z"
   },
   {
    "duration": 163,
    "start_time": "2025-01-04T16:40:08.099Z"
   },
   {
    "duration": 12,
    "start_time": "2025-01-04T16:40:08.263Z"
   },
   {
    "duration": 77,
    "start_time": "2025-01-04T16:40:08.277Z"
   },
   {
    "duration": 12,
    "start_time": "2025-01-04T16:40:08.356Z"
   },
   {
    "duration": 762,
    "start_time": "2025-01-04T16:40:08.370Z"
   },
   {
    "duration": 37,
    "start_time": "2025-01-04T16:40:09.135Z"
   },
   {
    "duration": 12,
    "start_time": "2025-01-04T16:40:09.175Z"
   },
   {
    "duration": 32,
    "start_time": "2025-01-04T16:40:09.190Z"
   },
   {
    "duration": 371,
    "start_time": "2025-01-04T16:40:09.225Z"
   },
   {
    "duration": 16,
    "start_time": "2025-01-04T16:40:09.598Z"
   },
   {
    "duration": 189,
    "start_time": "2025-01-04T16:40:09.617Z"
   },
   {
    "duration": 12,
    "start_time": "2025-01-04T16:40:45.388Z"
   },
   {
    "duration": 12,
    "start_time": "2025-01-04T16:42:22.910Z"
   },
   {
    "duration": 34,
    "start_time": "2025-01-04T16:42:27.372Z"
   },
   {
    "duration": 88,
    "start_time": "2025-01-04T16:43:22.656Z"
   },
   {
    "duration": 31,
    "start_time": "2025-01-04T16:43:30.400Z"
   },
   {
    "duration": 31,
    "start_time": "2025-01-04T16:43:53.650Z"
   },
   {
    "duration": 10,
    "start_time": "2025-01-04T16:43:59.332Z"
   },
   {
    "duration": 3,
    "start_time": "2025-01-04T16:52:20.394Z"
   },
   {
    "duration": 2393,
    "start_time": "2025-01-04T16:52:20.401Z"
   },
   {
    "duration": 10,
    "start_time": "2025-01-04T16:52:22.796Z"
   },
   {
    "duration": 28,
    "start_time": "2025-01-04T16:52:22.808Z"
   },
   {
    "duration": 11,
    "start_time": "2025-01-04T16:52:22.838Z"
   },
   {
    "duration": 43,
    "start_time": "2025-01-04T16:52:22.872Z"
   },
   {
    "duration": 54,
    "start_time": "2025-01-04T16:52:22.917Z"
   },
   {
    "duration": 113,
    "start_time": "2025-01-04T16:52:22.973Z"
   },
   {
    "duration": 9,
    "start_time": "2025-01-04T16:52:23.088Z"
   },
   {
    "duration": 44,
    "start_time": "2025-01-04T16:52:23.099Z"
   },
   {
    "duration": 28,
    "start_time": "2025-01-04T16:52:23.145Z"
   },
   {
    "duration": 32,
    "start_time": "2025-01-04T16:52:23.176Z"
   },
   {
    "duration": 8,
    "start_time": "2025-01-04T16:52:23.211Z"
   },
   {
    "duration": 28,
    "start_time": "2025-01-04T16:52:23.221Z"
   },
   {
    "duration": 26,
    "start_time": "2025-01-04T16:52:23.255Z"
   },
   {
    "duration": 43,
    "start_time": "2025-01-04T16:52:23.283Z"
   },
   {
    "duration": 17,
    "start_time": "2025-01-04T16:52:23.328Z"
   },
   {
    "duration": 1013,
    "start_time": "2025-01-04T16:52:23.347Z"
   },
   {
    "duration": 170,
    "start_time": "2025-01-04T16:52:24.369Z"
   },
   {
    "duration": 92,
    "start_time": "2025-01-04T16:52:24.541Z"
   },
   {
    "duration": 55,
    "start_time": "2025-01-04T16:52:24.636Z"
   },
   {
    "duration": 180,
    "start_time": "2025-01-04T16:52:24.694Z"
   },
   {
    "duration": 4,
    "start_time": "2025-01-04T16:52:24.877Z"
   },
   {
    "duration": 357,
    "start_time": "2025-01-04T16:52:24.883Z"
   },
   {
    "duration": 19,
    "start_time": "2025-01-04T16:52:25.242Z"
   },
   {
    "duration": 57,
    "start_time": "2025-01-04T16:52:25.273Z"
   },
   {
    "duration": 71,
    "start_time": "2025-01-04T16:52:25.332Z"
   },
   {
    "duration": 24,
    "start_time": "2025-01-04T16:52:25.405Z"
   },
   {
    "duration": 116,
    "start_time": "2025-01-04T16:52:25.430Z"
   },
   {
    "duration": 3,
    "start_time": "2025-01-04T16:52:25.548Z"
   },
   {
    "duration": 96,
    "start_time": "2025-01-04T16:52:25.552Z"
   },
   {
    "duration": 5,
    "start_time": "2025-01-04T16:52:25.651Z"
   },
   {
    "duration": 416,
    "start_time": "2025-01-04T16:52:25.670Z"
   },
   {
    "duration": 126,
    "start_time": "2025-01-04T16:52:26.088Z"
   },
   {
    "duration": 42,
    "start_time": "2025-01-04T16:52:26.216Z"
   },
   {
    "duration": 98,
    "start_time": "2025-01-04T16:52:26.271Z"
   },
   {
    "duration": 117,
    "start_time": "2025-01-04T16:52:26.371Z"
   },
   {
    "duration": 96,
    "start_time": "2025-01-04T16:52:26.490Z"
   },
   {
    "duration": 4,
    "start_time": "2025-01-04T16:52:26.588Z"
   },
   {
    "duration": 16,
    "start_time": "2025-01-04T16:52:26.593Z"
   },
   {
    "duration": 146,
    "start_time": "2025-01-04T16:52:26.610Z"
   },
   {
    "duration": 6,
    "start_time": "2025-01-04T16:52:26.763Z"
   },
   {
    "duration": 44,
    "start_time": "2025-01-04T16:52:26.771Z"
   },
   {
    "duration": 3,
    "start_time": "2025-01-04T16:52:26.818Z"
   },
   {
    "duration": 8,
    "start_time": "2025-01-04T16:52:26.823Z"
   },
   {
    "duration": 21,
    "start_time": "2025-01-04T16:52:26.833Z"
   },
   {
    "duration": 22,
    "start_time": "2025-01-04T16:52:26.856Z"
   },
   {
    "duration": 9,
    "start_time": "2025-01-04T16:52:26.879Z"
   },
   {
    "duration": 228,
    "start_time": "2025-01-04T16:52:26.891Z"
   },
   {
    "duration": 26,
    "start_time": "2025-01-04T16:52:27.121Z"
   },
   {
    "duration": 46,
    "start_time": "2025-01-04T16:52:27.149Z"
   },
   {
    "duration": 5,
    "start_time": "2025-01-04T16:52:27.197Z"
   },
   {
    "duration": 28,
    "start_time": "2025-01-04T16:52:27.204Z"
   },
   {
    "duration": 49,
    "start_time": "2025-01-04T16:52:27.235Z"
   },
   {
    "duration": 13,
    "start_time": "2025-01-04T16:52:27.287Z"
   },
   {
    "duration": 255,
    "start_time": "2025-01-04T16:52:27.302Z"
   },
   {
    "duration": 14,
    "start_time": "2025-01-04T16:52:27.559Z"
   },
   {
    "duration": 25,
    "start_time": "2025-01-04T16:52:27.574Z"
   },
   {
    "duration": 15,
    "start_time": "2025-01-04T16:52:27.600Z"
   },
   {
    "duration": 1072,
    "start_time": "2025-01-04T16:52:27.617Z"
   },
   {
    "duration": 32,
    "start_time": "2025-01-04T16:52:28.691Z"
   },
   {
    "duration": 11,
    "start_time": "2025-01-04T16:52:28.725Z"
   },
   {
    "duration": 64,
    "start_time": "2025-01-04T16:52:28.738Z"
   },
   {
    "duration": 322,
    "start_time": "2025-01-04T16:52:28.804Z"
   },
   {
    "duration": 15,
    "start_time": "2025-01-04T16:52:29.129Z"
   },
   {
    "duration": 218,
    "start_time": "2025-01-04T16:52:29.146Z"
   },
   {
    "duration": 1430,
    "start_time": "2025-01-05T05:33:24.239Z"
   },
   {
    "duration": 2596,
    "start_time": "2025-01-05T05:33:25.672Z"
   },
   {
    "duration": 12,
    "start_time": "2025-01-05T05:33:28.271Z"
   },
   {
    "duration": 13,
    "start_time": "2025-01-05T05:33:28.284Z"
   },
   {
    "duration": 10,
    "start_time": "2025-01-05T05:33:28.315Z"
   },
   {
    "duration": 38,
    "start_time": "2025-01-05T05:33:28.328Z"
   },
   {
    "duration": 26,
    "start_time": "2025-01-05T05:33:28.368Z"
   },
   {
    "duration": 137,
    "start_time": "2025-01-05T05:33:28.396Z"
   },
   {
    "duration": 10,
    "start_time": "2025-01-05T05:33:28.539Z"
   },
   {
    "duration": 21,
    "start_time": "2025-01-05T05:33:28.551Z"
   },
   {
    "duration": 10,
    "start_time": "2025-01-05T05:33:28.574Z"
   },
   {
    "duration": 44,
    "start_time": "2025-01-05T05:33:28.585Z"
   },
   {
    "duration": 10,
    "start_time": "2025-01-05T05:33:28.633Z"
   },
   {
    "duration": 14,
    "start_time": "2025-01-05T05:33:28.646Z"
   },
   {
    "duration": 18,
    "start_time": "2025-01-05T05:33:28.661Z"
   },
   {
    "duration": 60,
    "start_time": "2025-01-05T05:33:28.681Z"
   },
   {
    "duration": 13,
    "start_time": "2025-01-05T05:33:28.743Z"
   },
   {
    "duration": 907,
    "start_time": "2025-01-05T05:33:28.759Z"
   },
   {
    "duration": 182,
    "start_time": "2025-01-05T05:33:29.668Z"
   },
   {
    "duration": 74,
    "start_time": "2025-01-05T05:33:29.852Z"
   },
   {
    "duration": 32,
    "start_time": "2025-01-05T05:33:29.935Z"
   },
   {
    "duration": 202,
    "start_time": "2025-01-05T05:33:29.969Z"
   },
   {
    "duration": 5,
    "start_time": "2025-01-05T05:33:30.173Z"
   },
   {
    "duration": 529,
    "start_time": "2025-01-05T05:33:30.180Z"
   },
   {
    "duration": 36,
    "start_time": "2025-01-05T05:33:30.716Z"
   },
   {
    "duration": 40,
    "start_time": "2025-01-05T05:33:30.754Z"
   },
   {
    "duration": 122,
    "start_time": "2025-01-05T05:33:30.796Z"
   },
   {
    "duration": 26,
    "start_time": "2025-01-05T05:33:30.919Z"
   },
   {
    "duration": 141,
    "start_time": "2025-01-05T05:33:30.947Z"
   },
   {
    "duration": 3,
    "start_time": "2025-01-05T05:33:31.090Z"
   },
   {
    "duration": 92,
    "start_time": "2025-01-05T05:33:31.095Z"
   },
   {
    "duration": 3,
    "start_time": "2025-01-05T05:33:31.189Z"
   },
   {
    "duration": 406,
    "start_time": "2025-01-05T05:33:31.194Z"
   },
   {
    "duration": 94,
    "start_time": "2025-01-05T05:33:31.601Z"
   },
   {
    "duration": 66,
    "start_time": "2025-01-05T05:33:31.697Z"
   },
   {
    "duration": 11,
    "start_time": "2025-01-05T05:33:31.765Z"
   },
   {
    "duration": 129,
    "start_time": "2025-01-05T05:33:31.777Z"
   },
   {
    "duration": 70,
    "start_time": "2025-01-05T05:33:47.599Z"
   },
   {
    "duration": 41,
    "start_time": "2025-01-05T05:34:06.127Z"
   },
   {
    "duration": 132,
    "start_time": "2025-01-05T05:34:57.143Z"
   },
   {
    "duration": 115,
    "start_time": "2025-01-05T05:34:58.928Z"
   },
   {
    "duration": 27,
    "start_time": "2025-01-05T05:35:07.107Z"
   },
   {
    "duration": 101,
    "start_time": "2025-01-05T05:35:16.470Z"
   },
   {
    "duration": 55,
    "start_time": "2025-01-05T05:35:39.814Z"
   },
   {
    "duration": 50,
    "start_time": "2025-01-05T05:36:10.470Z"
   },
   {
    "duration": 85,
    "start_time": "2025-01-05T05:36:20.399Z"
   },
   {
    "duration": 51,
    "start_time": "2025-01-05T05:38:19.323Z"
   },
   {
    "duration": 61,
    "start_time": "2025-01-05T05:38:41.602Z"
   },
   {
    "duration": 4,
    "start_time": "2025-01-05T05:38:41.665Z"
   },
   {
    "duration": 14,
    "start_time": "2025-01-05T05:38:41.671Z"
   },
   {
    "duration": 49,
    "start_time": "2025-01-05T05:38:41.719Z"
   },
   {
    "duration": 6,
    "start_time": "2025-01-05T05:38:41.771Z"
   },
   {
    "duration": 53,
    "start_time": "2025-01-05T05:38:41.779Z"
   },
   {
    "duration": 13,
    "start_time": "2025-01-05T05:38:41.834Z"
   },
   {
    "duration": 13,
    "start_time": "2025-01-05T05:38:41.848Z"
   },
   {
    "duration": 5,
    "start_time": "2025-01-05T05:38:41.862Z"
   },
   {
    "duration": 12,
    "start_time": "2025-01-05T05:38:41.868Z"
   },
   {
    "duration": 9,
    "start_time": "2025-01-05T05:38:41.882Z"
   },
   {
    "duration": 205,
    "start_time": "2025-01-05T05:38:41.893Z"
   },
   {
    "duration": 45,
    "start_time": "2025-01-05T05:38:42.100Z"
   },
   {
    "duration": 26,
    "start_time": "2025-01-05T05:38:42.147Z"
   },
   {
    "duration": 11,
    "start_time": "2025-01-05T05:38:42.174Z"
   },
   {
    "duration": 7,
    "start_time": "2025-01-05T05:38:42.187Z"
   },
   {
    "duration": 58,
    "start_time": "2025-01-05T05:38:42.195Z"
   },
   {
    "duration": 10,
    "start_time": "2025-01-05T05:38:42.255Z"
   },
   {
    "duration": 142,
    "start_time": "2025-01-05T05:38:42.266Z"
   },
   {
    "duration": 4,
    "start_time": "2025-01-05T05:38:42.409Z"
   },
   {
    "duration": 27,
    "start_time": "2025-01-05T05:38:42.422Z"
   },
   {
    "duration": 14,
    "start_time": "2025-01-05T05:38:42.450Z"
   },
   {
    "duration": 793,
    "start_time": "2025-01-05T05:38:42.465Z"
   },
   {
    "duration": 28,
    "start_time": "2025-01-05T05:38:43.259Z"
   },
   {
    "duration": 9,
    "start_time": "2025-01-05T05:38:43.289Z"
   },
   {
    "duration": 51,
    "start_time": "2025-01-05T05:38:43.317Z"
   },
   {
    "duration": 319,
    "start_time": "2025-01-05T05:38:43.370Z"
   },
   {
    "duration": 10,
    "start_time": "2025-01-05T05:38:43.691Z"
   },
   {
    "duration": 269,
    "start_time": "2025-01-05T05:38:43.715Z"
   },
   {
    "duration": 1296,
    "start_time": "2025-01-07T15:50:10.995Z"
   },
   {
    "duration": 2105,
    "start_time": "2025-01-07T15:50:12.293Z"
   },
   {
    "duration": 11,
    "start_time": "2025-01-07T15:50:14.400Z"
   },
   {
    "duration": 12,
    "start_time": "2025-01-07T15:50:14.413Z"
   },
   {
    "duration": 7,
    "start_time": "2025-01-07T15:50:14.426Z"
   },
   {
    "duration": 19,
    "start_time": "2025-01-07T15:50:14.434Z"
   },
   {
    "duration": 48,
    "start_time": "2025-01-07T15:50:14.455Z"
   },
   {
    "duration": 93,
    "start_time": "2025-01-07T15:50:14.505Z"
   },
   {
    "duration": 7,
    "start_time": "2025-01-07T15:50:14.600Z"
   },
   {
    "duration": 18,
    "start_time": "2025-01-07T15:50:14.611Z"
   },
   {
    "duration": 10,
    "start_time": "2025-01-07T15:50:14.630Z"
   },
   {
    "duration": 44,
    "start_time": "2025-01-07T15:50:14.642Z"
   },
   {
    "duration": 8,
    "start_time": "2025-01-07T15:50:14.688Z"
   },
   {
    "duration": 26,
    "start_time": "2025-01-07T15:50:14.698Z"
   },
   {
    "duration": 8,
    "start_time": "2025-01-07T15:50:14.726Z"
   },
   {
    "duration": 32,
    "start_time": "2025-01-07T15:50:14.735Z"
   },
   {
    "duration": 19,
    "start_time": "2025-01-07T15:50:14.768Z"
   },
   {
    "duration": 670,
    "start_time": "2025-01-07T15:50:14.788Z"
   },
   {
    "duration": 185,
    "start_time": "2025-01-07T15:50:15.460Z"
   },
   {
    "duration": 56,
    "start_time": "2025-01-07T15:50:15.647Z"
   },
   {
    "duration": 23,
    "start_time": "2025-01-07T15:50:15.705Z"
   },
   {
    "duration": 197,
    "start_time": "2025-01-07T15:50:15.730Z"
   },
   {
    "duration": 3,
    "start_time": "2025-01-07T15:50:15.929Z"
   },
   {
    "duration": 299,
    "start_time": "2025-01-07T15:50:15.934Z"
   },
   {
    "duration": 14,
    "start_time": "2025-01-07T15:50:16.235Z"
   },
   {
    "duration": 79,
    "start_time": "2025-01-07T15:50:16.250Z"
   },
   {
    "duration": 62,
    "start_time": "2025-01-07T15:50:16.330Z"
   },
   {
    "duration": 19,
    "start_time": "2025-01-07T15:50:16.396Z"
   },
   {
    "duration": 91,
    "start_time": "2025-01-07T15:50:16.416Z"
   },
   {
    "duration": 3,
    "start_time": "2025-01-07T15:50:16.508Z"
   },
   {
    "duration": 73,
    "start_time": "2025-01-07T15:50:16.513Z"
   },
   {
    "duration": 3,
    "start_time": "2025-01-07T15:50:16.588Z"
   },
   {
    "duration": 331,
    "start_time": "2025-01-07T15:50:16.592Z"
   },
   {
    "duration": 65,
    "start_time": "2025-01-07T15:50:16.924Z"
   },
   {
    "duration": 58,
    "start_time": "2025-01-07T15:50:16.990Z"
   },
   {
    "duration": 4,
    "start_time": "2025-01-07T15:50:17.049Z"
   },
   {
    "duration": 117,
    "start_time": "2025-01-07T15:50:17.055Z"
   },
   {
    "duration": 101,
    "start_time": "2025-01-07T15:50:17.173Z"
   },
   {
    "duration": 4,
    "start_time": "2025-01-07T15:50:17.276Z"
   },
   {
    "duration": 10,
    "start_time": "2025-01-07T15:50:17.287Z"
   },
   {
    "duration": 32,
    "start_time": "2025-01-07T15:50:17.299Z"
   },
   {
    "duration": 5,
    "start_time": "2025-01-07T15:50:17.332Z"
   },
   {
    "duration": 48,
    "start_time": "2025-01-07T15:50:17.338Z"
   },
   {
    "duration": 3,
    "start_time": "2025-01-07T15:50:17.388Z"
   },
   {
    "duration": 5,
    "start_time": "2025-01-07T15:50:17.393Z"
   },
   {
    "duration": 10,
    "start_time": "2025-01-07T15:50:17.400Z"
   },
   {
    "duration": 16,
    "start_time": "2025-01-07T15:50:17.411Z"
   },
   {
    "duration": 7,
    "start_time": "2025-01-07T15:50:17.429Z"
   },
   {
    "duration": 172,
    "start_time": "2025-01-07T15:50:17.438Z"
   },
   {
    "duration": 22,
    "start_time": "2025-01-07T15:50:17.612Z"
   },
   {
    "duration": 28,
    "start_time": "2025-01-07T15:50:17.635Z"
   },
   {
    "duration": 4,
    "start_time": "2025-01-07T15:50:17.665Z"
   },
   {
    "duration": 8,
    "start_time": "2025-01-07T15:50:17.687Z"
   },
   {
    "duration": 27,
    "start_time": "2025-01-07T15:50:17.696Z"
   },
   {
    "duration": 8,
    "start_time": "2025-01-07T15:50:17.724Z"
   },
   {
    "duration": 135,
    "start_time": "2025-01-07T15:50:17.733Z"
   },
   {
    "duration": 5,
    "start_time": "2025-01-07T15:50:17.869Z"
   },
   {
    "duration": 16,
    "start_time": "2025-01-07T15:50:17.886Z"
   },
   {
    "duration": 10,
    "start_time": "2025-01-07T15:50:17.903Z"
   },
   {
    "duration": 754,
    "start_time": "2025-01-07T15:50:17.915Z"
   },
   {
    "duration": 32,
    "start_time": "2025-01-07T15:50:18.670Z"
   },
   {
    "duration": 8,
    "start_time": "2025-01-07T15:50:18.703Z"
   },
   {
    "duration": 58,
    "start_time": "2025-01-07T15:50:18.712Z"
   },
   {
    "duration": 267,
    "start_time": "2025-01-07T15:50:18.772Z"
   },
   {
    "duration": 10,
    "start_time": "2025-01-07T15:50:19.041Z"
   },
   {
    "duration": 213,
    "start_time": "2025-01-07T15:50:19.052Z"
   },
   {
    "duration": 3,
    "start_time": "2025-01-07T15:50:45.067Z"
   },
   {
    "duration": 2114,
    "start_time": "2025-01-07T15:50:45.073Z"
   },
   {
    "duration": 8,
    "start_time": "2025-01-07T15:50:47.189Z"
   },
   {
    "duration": 19,
    "start_time": "2025-01-07T15:50:47.199Z"
   },
   {
    "duration": 8,
    "start_time": "2025-01-07T15:50:47.219Z"
   },
   {
    "duration": 83,
    "start_time": "2025-01-07T15:50:47.229Z"
   },
   {
    "duration": 75,
    "start_time": "2025-01-07T15:50:47.313Z"
   },
   {
    "duration": 205,
    "start_time": "2025-01-07T15:50:47.390Z"
   },
   {
    "duration": 7,
    "start_time": "2025-01-07T15:50:47.597Z"
   },
   {
    "duration": 23,
    "start_time": "2025-01-07T15:50:47.605Z"
   },
   {
    "duration": 64,
    "start_time": "2025-01-07T15:50:47.630Z"
   },
   {
    "duration": 36,
    "start_time": "2025-01-07T15:50:47.696Z"
   },
   {
    "duration": 7,
    "start_time": "2025-01-07T15:50:47.733Z"
   },
   {
    "duration": 54,
    "start_time": "2025-01-07T15:50:47.741Z"
   },
   {
    "duration": 21,
    "start_time": "2025-01-07T15:50:47.799Z"
   },
   {
    "duration": 92,
    "start_time": "2025-01-07T15:50:47.822Z"
   },
   {
    "duration": 8,
    "start_time": "2025-01-07T15:50:47.916Z"
   },
   {
    "duration": 821,
    "start_time": "2025-01-07T15:50:47.925Z"
   },
   {
    "duration": 154,
    "start_time": "2025-01-07T15:50:48.747Z"
   },
   {
    "duration": 51,
    "start_time": "2025-01-07T15:50:48.903Z"
   },
   {
    "duration": 34,
    "start_time": "2025-01-07T15:50:48.956Z"
   },
   {
    "duration": 169,
    "start_time": "2025-01-07T15:50:48.991Z"
   },
   {
    "duration": 5,
    "start_time": "2025-01-07T15:50:49.162Z"
   },
   {
    "duration": 291,
    "start_time": "2025-01-07T15:50:49.168Z"
   },
   {
    "duration": 27,
    "start_time": "2025-01-07T15:50:49.461Z"
   },
   {
    "duration": 12,
    "start_time": "2025-01-07T15:50:49.489Z"
   },
   {
    "duration": 57,
    "start_time": "2025-01-07T15:50:49.503Z"
   },
   {
    "duration": 35,
    "start_time": "2025-01-07T15:50:49.561Z"
   },
   {
    "duration": 95,
    "start_time": "2025-01-07T15:50:49.597Z"
   },
   {
    "duration": 2,
    "start_time": "2025-01-07T15:50:49.694Z"
   },
   {
    "duration": 69,
    "start_time": "2025-01-07T15:50:49.698Z"
   },
   {
    "duration": 4,
    "start_time": "2025-01-07T15:50:49.768Z"
   },
   {
    "duration": 300,
    "start_time": "2025-01-07T15:50:49.773Z"
   },
   {
    "duration": 74,
    "start_time": "2025-01-07T15:50:50.075Z"
   },
   {
    "duration": 39,
    "start_time": "2025-01-07T15:50:50.151Z"
   },
   {
    "duration": 3,
    "start_time": "2025-01-07T15:50:50.192Z"
   },
   {
    "duration": 98,
    "start_time": "2025-01-07T15:50:50.196Z"
   },
   {
    "duration": 64,
    "start_time": "2025-01-07T15:50:50.296Z"
   },
   {
    "duration": 4,
    "start_time": "2025-01-07T15:50:50.361Z"
   },
   {
    "duration": 25,
    "start_time": "2025-01-07T15:50:50.367Z"
   },
   {
    "duration": 34,
    "start_time": "2025-01-07T15:50:50.394Z"
   },
   {
    "duration": 14,
    "start_time": "2025-01-07T15:50:50.432Z"
   },
   {
    "duration": 43,
    "start_time": "2025-01-07T15:50:50.448Z"
   },
   {
    "duration": 3,
    "start_time": "2025-01-07T15:50:50.492Z"
   },
   {
    "duration": 30,
    "start_time": "2025-01-07T15:50:50.497Z"
   },
   {
    "duration": 19,
    "start_time": "2025-01-07T15:50:50.528Z"
   },
   {
    "duration": 29,
    "start_time": "2025-01-07T15:50:50.548Z"
   },
   {
    "duration": 14,
    "start_time": "2025-01-07T15:50:50.579Z"
   },
   {
    "duration": 174,
    "start_time": "2025-01-07T15:50:50.595Z"
   },
   {
    "duration": 25,
    "start_time": "2025-01-07T15:50:50.771Z"
   },
   {
    "duration": 22,
    "start_time": "2025-01-07T15:50:50.797Z"
   },
   {
    "duration": 12,
    "start_time": "2025-01-07T15:50:50.820Z"
   },
   {
    "duration": 14,
    "start_time": "2025-01-07T15:50:50.833Z"
   },
   {
    "duration": 80,
    "start_time": "2025-01-07T15:50:50.848Z"
   },
   {
    "duration": 8,
    "start_time": "2025-01-07T15:50:50.930Z"
   },
   {
    "duration": 124,
    "start_time": "2025-01-07T15:50:50.939Z"
   },
   {
    "duration": 4,
    "start_time": "2025-01-07T15:50:51.065Z"
   },
   {
    "duration": 26,
    "start_time": "2025-01-07T15:50:51.070Z"
   },
   {
    "duration": 10,
    "start_time": "2025-01-07T15:50:51.097Z"
   },
   {
    "duration": 775,
    "start_time": "2025-01-07T15:50:51.108Z"
   },
   {
    "duration": 25,
    "start_time": "2025-01-07T15:50:51.885Z"
   },
   {
    "duration": 8,
    "start_time": "2025-01-07T15:50:51.911Z"
   },
   {
    "duration": 35,
    "start_time": "2025-01-07T15:50:51.920Z"
   },
   {
    "duration": 281,
    "start_time": "2025-01-07T15:50:51.956Z"
   },
   {
    "duration": 9,
    "start_time": "2025-01-07T15:50:52.239Z"
   },
   {
    "duration": 247,
    "start_time": "2025-01-07T15:50:52.249Z"
   },
   {
    "duration": 3,
    "start_time": "2025-01-07T15:51:33.748Z"
   },
   {
    "duration": 1688,
    "start_time": "2025-01-07T15:51:33.755Z"
   },
   {
    "duration": 8,
    "start_time": "2025-01-07T15:51:35.445Z"
   },
   {
    "duration": 19,
    "start_time": "2025-01-07T15:51:35.454Z"
   },
   {
    "duration": 23,
    "start_time": "2025-01-07T15:51:35.475Z"
   },
   {
    "duration": 115,
    "start_time": "2025-01-07T15:51:35.500Z"
   },
   {
    "duration": 22,
    "start_time": "2025-01-07T15:51:35.617Z"
   },
   {
    "duration": 173,
    "start_time": "2025-01-07T15:51:35.641Z"
   },
   {
    "duration": 7,
    "start_time": "2025-01-07T15:51:35.816Z"
   },
   {
    "duration": 75,
    "start_time": "2025-01-07T15:51:35.824Z"
   },
   {
    "duration": 31,
    "start_time": "2025-01-07T15:51:35.900Z"
   },
   {
    "duration": 54,
    "start_time": "2025-01-07T15:51:35.933Z"
   },
   {
    "duration": 6,
    "start_time": "2025-01-07T15:51:35.989Z"
   },
   {
    "duration": 109,
    "start_time": "2025-01-07T15:51:35.996Z"
   },
   {
    "duration": 39,
    "start_time": "2025-01-07T15:51:36.108Z"
   },
   {
    "duration": 67,
    "start_time": "2025-01-07T15:51:36.148Z"
   },
   {
    "duration": 73,
    "start_time": "2025-01-07T15:51:36.216Z"
   },
   {
    "duration": 909,
    "start_time": "2025-01-07T15:51:36.291Z"
   },
   {
    "duration": 157,
    "start_time": "2025-01-07T15:51:37.202Z"
   },
   {
    "duration": 54,
    "start_time": "2025-01-07T15:51:37.361Z"
   },
   {
    "duration": 21,
    "start_time": "2025-01-07T15:51:37.417Z"
   },
   {
    "duration": 146,
    "start_time": "2025-01-07T15:51:37.440Z"
   },
   {
    "duration": 3,
    "start_time": "2025-01-07T15:51:37.588Z"
   },
   {
    "duration": 285,
    "start_time": "2025-01-07T15:51:37.593Z"
   },
   {
    "duration": 19,
    "start_time": "2025-01-07T15:51:37.879Z"
   },
   {
    "duration": 26,
    "start_time": "2025-01-07T15:51:37.900Z"
   },
   {
    "duration": 64,
    "start_time": "2025-01-07T15:51:37.928Z"
   },
   {
    "duration": 11,
    "start_time": "2025-01-07T15:51:37.993Z"
   },
   {
    "duration": 137,
    "start_time": "2025-01-07T15:51:38.006Z"
   },
   {
    "duration": 3,
    "start_time": "2025-01-07T15:51:38.144Z"
   },
   {
    "duration": 88,
    "start_time": "2025-01-07T15:51:38.148Z"
   },
   {
    "duration": 3,
    "start_time": "2025-01-07T15:51:38.238Z"
   },
   {
    "duration": 366,
    "start_time": "2025-01-07T15:51:38.243Z"
   },
   {
    "duration": 80,
    "start_time": "2025-01-07T15:51:38.611Z"
   },
   {
    "duration": 31,
    "start_time": "2025-01-07T15:51:38.692Z"
   },
   {
    "duration": 27,
    "start_time": "2025-01-07T15:51:38.725Z"
   },
   {
    "duration": 91,
    "start_time": "2025-01-07T15:51:38.753Z"
   },
   {
    "duration": 83,
    "start_time": "2025-01-07T15:51:38.845Z"
   },
   {
    "duration": 5,
    "start_time": "2025-01-07T15:51:38.930Z"
   },
   {
    "duration": 35,
    "start_time": "2025-01-07T15:51:38.936Z"
   },
   {
    "duration": 35,
    "start_time": "2025-01-07T15:51:38.973Z"
   },
   {
    "duration": 1211,
    "start_time": "2025-01-07T15:51:39.012Z"
   },
   {
    "duration": 0,
    "start_time": "2025-01-07T15:51:40.224Z"
   },
   {
    "duration": 0,
    "start_time": "2025-01-07T15:51:40.225Z"
   },
   {
    "duration": 0,
    "start_time": "2025-01-07T15:51:40.226Z"
   },
   {
    "duration": 0,
    "start_time": "2025-01-07T15:51:40.227Z"
   },
   {
    "duration": 0,
    "start_time": "2025-01-07T15:51:40.228Z"
   },
   {
    "duration": 0,
    "start_time": "2025-01-07T15:51:40.229Z"
   },
   {
    "duration": 0,
    "start_time": "2025-01-07T15:51:40.230Z"
   },
   {
    "duration": 0,
    "start_time": "2025-01-07T15:51:40.230Z"
   },
   {
    "duration": 0,
    "start_time": "2025-01-07T15:51:40.231Z"
   },
   {
    "duration": 0,
    "start_time": "2025-01-07T15:51:40.232Z"
   },
   {
    "duration": 0,
    "start_time": "2025-01-07T15:51:40.233Z"
   },
   {
    "duration": 0,
    "start_time": "2025-01-07T15:51:40.234Z"
   },
   {
    "duration": 0,
    "start_time": "2025-01-07T15:51:40.234Z"
   },
   {
    "duration": 0,
    "start_time": "2025-01-07T15:51:40.235Z"
   },
   {
    "duration": 0,
    "start_time": "2025-01-07T15:51:40.236Z"
   },
   {
    "duration": 0,
    "start_time": "2025-01-07T15:51:40.237Z"
   },
   {
    "duration": 0,
    "start_time": "2025-01-07T15:51:40.238Z"
   },
   {
    "duration": 0,
    "start_time": "2025-01-07T15:51:40.239Z"
   },
   {
    "duration": 0,
    "start_time": "2025-01-07T15:51:40.239Z"
   },
   {
    "duration": 0,
    "start_time": "2025-01-07T15:51:40.240Z"
   },
   {
    "duration": 0,
    "start_time": "2025-01-07T15:51:40.241Z"
   },
   {
    "duration": 0,
    "start_time": "2025-01-07T15:51:40.242Z"
   },
   {
    "duration": 0,
    "start_time": "2025-01-07T15:51:40.243Z"
   },
   {
    "duration": 0,
    "start_time": "2025-01-07T15:51:40.244Z"
   },
   {
    "duration": 2,
    "start_time": "2025-01-07T15:51:59.716Z"
   },
   {
    "duration": 1732,
    "start_time": "2025-01-07T15:51:59.722Z"
   },
   {
    "duration": 8,
    "start_time": "2025-01-07T15:52:01.456Z"
   },
   {
    "duration": 18,
    "start_time": "2025-01-07T15:52:01.466Z"
   },
   {
    "duration": 10,
    "start_time": "2025-01-07T15:52:01.485Z"
   },
   {
    "duration": 25,
    "start_time": "2025-01-07T15:52:01.497Z"
   },
   {
    "duration": 32,
    "start_time": "2025-01-07T15:52:01.523Z"
   },
   {
    "duration": 99,
    "start_time": "2025-01-07T15:52:01.557Z"
   },
   {
    "duration": 7,
    "start_time": "2025-01-07T15:52:01.657Z"
   },
   {
    "duration": 46,
    "start_time": "2025-01-07T15:52:01.665Z"
   },
   {
    "duration": 18,
    "start_time": "2025-01-07T15:52:01.712Z"
   },
   {
    "duration": 11,
    "start_time": "2025-01-07T15:52:01.732Z"
   },
   {
    "duration": 31,
    "start_time": "2025-01-07T15:52:01.746Z"
   },
   {
    "duration": 42,
    "start_time": "2025-01-07T15:52:01.779Z"
   },
   {
    "duration": 8,
    "start_time": "2025-01-07T15:52:01.824Z"
   },
   {
    "duration": 48,
    "start_time": "2025-01-07T15:52:01.834Z"
   },
   {
    "duration": 8,
    "start_time": "2025-01-07T15:52:01.883Z"
   },
   {
    "duration": 629,
    "start_time": "2025-01-07T15:52:01.893Z"
   },
   {
    "duration": 151,
    "start_time": "2025-01-07T15:52:02.523Z"
   },
   {
    "duration": 58,
    "start_time": "2025-01-07T15:52:02.675Z"
   },
   {
    "duration": 56,
    "start_time": "2025-01-07T15:52:02.735Z"
   },
   {
    "duration": 185,
    "start_time": "2025-01-07T15:52:02.792Z"
   },
   {
    "duration": 3,
    "start_time": "2025-01-07T15:52:02.979Z"
   },
   {
    "duration": 424,
    "start_time": "2025-01-07T15:52:02.986Z"
   },
   {
    "duration": 15,
    "start_time": "2025-01-07T15:52:03.412Z"
   },
   {
    "duration": 66,
    "start_time": "2025-01-07T15:52:03.428Z"
   },
   {
    "duration": 103,
    "start_time": "2025-01-07T15:52:03.496Z"
   },
   {
    "duration": 11,
    "start_time": "2025-01-07T15:52:03.600Z"
   },
   {
    "duration": 201,
    "start_time": "2025-01-07T15:52:03.613Z"
   },
   {
    "duration": 2,
    "start_time": "2025-01-07T15:52:03.816Z"
   },
   {
    "duration": 172,
    "start_time": "2025-01-07T15:52:03.820Z"
   },
   {
    "duration": 3,
    "start_time": "2025-01-07T15:52:03.994Z"
   },
   {
    "duration": 604,
    "start_time": "2025-01-07T15:52:03.999Z"
   },
   {
    "duration": 64,
    "start_time": "2025-01-07T15:52:04.604Z"
   },
   {
    "duration": 38,
    "start_time": "2025-01-07T15:52:04.669Z"
   },
   {
    "duration": 4,
    "start_time": "2025-01-07T15:52:04.708Z"
   },
   {
    "duration": 103,
    "start_time": "2025-01-07T15:52:04.714Z"
   },
   {
    "duration": 95,
    "start_time": "2025-01-07T15:52:04.819Z"
   },
   {
    "duration": 4,
    "start_time": "2025-01-07T15:52:04.916Z"
   },
   {
    "duration": 37,
    "start_time": "2025-01-07T15:52:04.921Z"
   },
   {
    "duration": 30,
    "start_time": "2025-01-07T15:52:04.960Z"
   },
   {
    "duration": 14,
    "start_time": "2025-01-07T15:52:04.995Z"
   },
   {
    "duration": 38,
    "start_time": "2025-01-07T15:52:05.011Z"
   },
   {
    "duration": 3,
    "start_time": "2025-01-07T15:52:05.051Z"
   },
   {
    "duration": 20,
    "start_time": "2025-01-07T15:52:05.055Z"
   },
   {
    "duration": 10,
    "start_time": "2025-01-07T15:52:05.076Z"
   },
   {
    "duration": 31,
    "start_time": "2025-01-07T15:52:05.087Z"
   },
   {
    "duration": 13,
    "start_time": "2025-01-07T15:52:05.119Z"
   },
   {
    "duration": 157,
    "start_time": "2025-01-07T15:52:05.134Z"
   },
   {
    "duration": 19,
    "start_time": "2025-01-07T15:52:05.293Z"
   },
   {
    "duration": 73,
    "start_time": "2025-01-07T15:52:05.313Z"
   },
   {
    "duration": 43,
    "start_time": "2025-01-07T15:52:05.387Z"
   },
   {
    "duration": 27,
    "start_time": "2025-01-07T15:52:05.431Z"
   },
   {
    "duration": 22,
    "start_time": "2025-01-07T15:52:05.459Z"
   },
   {
    "duration": 37,
    "start_time": "2025-01-07T15:52:05.482Z"
   },
   {
    "duration": 184,
    "start_time": "2025-01-07T15:52:05.521Z"
   },
   {
    "duration": 4,
    "start_time": "2025-01-07T15:52:05.707Z"
   },
   {
    "duration": 29,
    "start_time": "2025-01-07T15:52:05.713Z"
   },
   {
    "duration": 18,
    "start_time": "2025-01-07T15:52:05.744Z"
   },
   {
    "duration": 706,
    "start_time": "2025-01-07T15:52:05.764Z"
   },
   {
    "duration": 28,
    "start_time": "2025-01-07T15:52:06.472Z"
   },
   {
    "duration": 11,
    "start_time": "2025-01-07T15:52:06.501Z"
   },
   {
    "duration": 37,
    "start_time": "2025-01-07T15:52:06.513Z"
   },
   {
    "duration": 302,
    "start_time": "2025-01-07T15:52:06.551Z"
   },
   {
    "duration": 9,
    "start_time": "2025-01-07T15:52:06.855Z"
   },
   {
    "duration": 289,
    "start_time": "2025-01-07T15:52:06.865Z"
   },
   {
    "duration": 24,
    "start_time": "2025-01-07T15:52:25.523Z"
   },
   {
    "duration": 3,
    "start_time": "2025-01-07T16:00:05.458Z"
   },
   {
    "duration": 1701,
    "start_time": "2025-01-07T16:00:05.464Z"
   },
   {
    "duration": 8,
    "start_time": "2025-01-07T16:00:07.167Z"
   },
   {
    "duration": 67,
    "start_time": "2025-01-07T16:00:07.176Z"
   },
   {
    "duration": 31,
    "start_time": "2025-01-07T16:00:07.245Z"
   },
   {
    "duration": 25,
    "start_time": "2025-01-07T16:00:07.278Z"
   },
   {
    "duration": 46,
    "start_time": "2025-01-07T16:00:07.305Z"
   },
   {
    "duration": 90,
    "start_time": "2025-01-07T16:00:07.353Z"
   },
   {
    "duration": 7,
    "start_time": "2025-01-07T16:00:07.444Z"
   },
   {
    "duration": 18,
    "start_time": "2025-01-07T16:00:07.453Z"
   },
   {
    "duration": 12,
    "start_time": "2025-01-07T16:00:07.486Z"
   },
   {
    "duration": 50,
    "start_time": "2025-01-07T16:00:07.499Z"
   },
   {
    "duration": 6,
    "start_time": "2025-01-07T16:00:07.551Z"
   },
   {
    "duration": 10,
    "start_time": "2025-01-07T16:00:07.558Z"
   },
   {
    "duration": 8,
    "start_time": "2025-01-07T16:00:07.570Z"
   },
   {
    "duration": 36,
    "start_time": "2025-01-07T16:00:07.579Z"
   },
   {
    "duration": 10,
    "start_time": "2025-01-07T16:00:07.616Z"
   },
   {
    "duration": 641,
    "start_time": "2025-01-07T16:00:07.627Z"
   },
   {
    "duration": 154,
    "start_time": "2025-01-07T16:00:08.270Z"
   },
   {
    "duration": 49,
    "start_time": "2025-01-07T16:00:08.426Z"
   },
   {
    "duration": 22,
    "start_time": "2025-01-07T16:00:08.487Z"
   },
   {
    "duration": 170,
    "start_time": "2025-01-07T16:00:08.511Z"
   },
   {
    "duration": 3,
    "start_time": "2025-01-07T16:00:08.686Z"
   },
   {
    "duration": 287,
    "start_time": "2025-01-07T16:00:08.690Z"
   },
   {
    "duration": 19,
    "start_time": "2025-01-07T16:00:08.979Z"
   },
   {
    "duration": 17,
    "start_time": "2025-01-07T16:00:08.999Z"
   },
   {
    "duration": 94,
    "start_time": "2025-01-07T16:00:09.018Z"
   },
   {
    "duration": 18,
    "start_time": "2025-01-07T16:00:09.114Z"
   },
   {
    "duration": 140,
    "start_time": "2025-01-07T16:00:09.187Z"
   },
   {
    "duration": 4,
    "start_time": "2025-01-07T16:00:09.328Z"
   },
   {
    "duration": 184,
    "start_time": "2025-01-07T16:00:09.333Z"
   },
   {
    "duration": 4,
    "start_time": "2025-01-07T16:00:09.519Z"
   },
   {
    "duration": 667,
    "start_time": "2025-01-07T16:00:09.525Z"
   },
   {
    "duration": 123,
    "start_time": "2025-01-07T16:00:10.193Z"
   },
   {
    "duration": 89,
    "start_time": "2025-01-07T16:00:10.318Z"
   },
   {
    "duration": 3,
    "start_time": "2025-01-07T16:00:10.409Z"
   },
   {
    "duration": 162,
    "start_time": "2025-01-07T16:00:10.414Z"
   },
   {
    "duration": 78,
    "start_time": "2025-01-07T16:00:10.578Z"
   },
   {
    "duration": 3,
    "start_time": "2025-01-07T16:00:10.658Z"
   },
   {
    "duration": 38,
    "start_time": "2025-01-07T16:00:10.663Z"
   },
   {
    "duration": 96,
    "start_time": "2025-01-07T16:00:10.702Z"
   },
   {
    "duration": 15,
    "start_time": "2025-01-07T16:00:10.803Z"
   },
   {
    "duration": 41,
    "start_time": "2025-01-07T16:00:10.820Z"
   },
   {
    "duration": 3,
    "start_time": "2025-01-07T16:00:10.862Z"
   },
   {
    "duration": 15,
    "start_time": "2025-01-07T16:00:10.867Z"
   },
   {
    "duration": 69,
    "start_time": "2025-01-07T16:00:10.884Z"
   },
   {
    "duration": 17,
    "start_time": "2025-01-07T16:00:10.955Z"
   },
   {
    "duration": 7,
    "start_time": "2025-01-07T16:00:10.974Z"
   },
   {
    "duration": 158,
    "start_time": "2025-01-07T16:00:10.983Z"
   },
   {
    "duration": 20,
    "start_time": "2025-01-07T16:00:11.142Z"
   },
   {
    "duration": 33,
    "start_time": "2025-01-07T16:00:11.163Z"
   },
   {
    "duration": 4,
    "start_time": "2025-01-07T16:00:11.197Z"
   },
   {
    "duration": 25,
    "start_time": "2025-01-07T16:00:11.202Z"
   },
   {
    "duration": 41,
    "start_time": "2025-01-07T16:00:11.228Z"
   },
   {
    "duration": 8,
    "start_time": "2025-01-07T16:00:11.271Z"
   },
   {
    "duration": 124,
    "start_time": "2025-01-07T16:00:11.280Z"
   },
   {
    "duration": 5,
    "start_time": "2025-01-07T16:00:11.405Z"
   },
   {
    "duration": 29,
    "start_time": "2025-01-07T16:00:11.411Z"
   },
   {
    "duration": 31,
    "start_time": "2025-01-07T16:00:11.441Z"
   },
   {
    "duration": 27,
    "start_time": "2025-01-07T16:00:11.474Z"
   },
   {
    "duration": 10,
    "start_time": "2025-01-07T16:00:11.503Z"
   },
   {
    "duration": 762,
    "start_time": "2025-01-07T16:00:11.515Z"
   },
   {
    "duration": 26,
    "start_time": "2025-01-07T16:00:12.286Z"
   },
   {
    "duration": 39,
    "start_time": "2025-01-07T16:00:12.313Z"
   },
   {
    "duration": 54,
    "start_time": "2025-01-07T16:00:12.354Z"
   },
   {
    "duration": 276,
    "start_time": "2025-01-07T16:00:12.410Z"
   },
   {
    "duration": 9,
    "start_time": "2025-01-07T16:00:12.688Z"
   },
   {
    "duration": 157,
    "start_time": "2025-01-07T16:00:12.699Z"
   },
   {
    "duration": 3,
    "start_time": "2025-01-07T16:01:04.729Z"
   },
   {
    "duration": 1755,
    "start_time": "2025-01-07T16:01:04.735Z"
   },
   {
    "duration": 8,
    "start_time": "2025-01-07T16:01:06.492Z"
   },
   {
    "duration": 32,
    "start_time": "2025-01-07T16:01:06.501Z"
   },
   {
    "duration": 11,
    "start_time": "2025-01-07T16:01:06.535Z"
   },
   {
    "duration": 109,
    "start_time": "2025-01-07T16:01:06.548Z"
   },
   {
    "duration": 27,
    "start_time": "2025-01-07T16:01:06.659Z"
   },
   {
    "duration": 109,
    "start_time": "2025-01-07T16:01:06.688Z"
   },
   {
    "duration": 7,
    "start_time": "2025-01-07T16:01:06.798Z"
   },
   {
    "duration": 32,
    "start_time": "2025-01-07T16:01:06.807Z"
   },
   {
    "duration": 19,
    "start_time": "2025-01-07T16:01:06.841Z"
   },
   {
    "duration": 67,
    "start_time": "2025-01-07T16:01:06.861Z"
   },
   {
    "duration": 53,
    "start_time": "2025-01-07T16:01:06.930Z"
   },
   {
    "duration": 21,
    "start_time": "2025-01-07T16:01:06.985Z"
   },
   {
    "duration": 25,
    "start_time": "2025-01-07T16:01:07.010Z"
   },
   {
    "duration": 34,
    "start_time": "2025-01-07T16:01:07.037Z"
   },
   {
    "duration": 8,
    "start_time": "2025-01-07T16:01:07.073Z"
   },
   {
    "duration": 658,
    "start_time": "2025-01-07T16:01:07.083Z"
   },
   {
    "duration": 153,
    "start_time": "2025-01-07T16:01:07.742Z"
   },
   {
    "duration": 50,
    "start_time": "2025-01-07T16:01:07.897Z"
   },
   {
    "duration": 39,
    "start_time": "2025-01-07T16:01:07.948Z"
   },
   {
    "duration": 136,
    "start_time": "2025-01-07T16:01:07.988Z"
   },
   {
    "duration": 4,
    "start_time": "2025-01-07T16:01:08.125Z"
   },
   {
    "duration": 262,
    "start_time": "2025-01-07T16:01:08.130Z"
   },
   {
    "duration": 14,
    "start_time": "2025-01-07T16:01:08.393Z"
   },
   {
    "duration": 12,
    "start_time": "2025-01-07T16:01:08.409Z"
   },
   {
    "duration": 79,
    "start_time": "2025-01-07T16:01:08.423Z"
   },
   {
    "duration": 11,
    "start_time": "2025-01-07T16:01:08.503Z"
   },
   {
    "duration": 92,
    "start_time": "2025-01-07T16:01:08.516Z"
   },
   {
    "duration": 2,
    "start_time": "2025-01-07T16:01:08.610Z"
   },
   {
    "duration": 62,
    "start_time": "2025-01-07T16:01:08.614Z"
   },
   {
    "duration": 9,
    "start_time": "2025-01-07T16:01:08.678Z"
   },
   {
    "duration": 298,
    "start_time": "2025-01-07T16:01:08.688Z"
   },
   {
    "duration": 67,
    "start_time": "2025-01-07T16:01:08.988Z"
   },
   {
    "duration": 43,
    "start_time": "2025-01-07T16:01:09.056Z"
   },
   {
    "duration": 3,
    "start_time": "2025-01-07T16:01:09.101Z"
   },
   {
    "duration": 92,
    "start_time": "2025-01-07T16:01:09.105Z"
   },
   {
    "duration": 58,
    "start_time": "2025-01-07T16:01:09.198Z"
   },
   {
    "duration": 3,
    "start_time": "2025-01-07T16:01:09.258Z"
   },
   {
    "duration": 25,
    "start_time": "2025-01-07T16:01:09.262Z"
   },
   {
    "duration": 30,
    "start_time": "2025-01-07T16:01:09.288Z"
   },
   {
    "duration": 15,
    "start_time": "2025-01-07T16:01:09.323Z"
   },
   {
    "duration": 68,
    "start_time": "2025-01-07T16:01:09.339Z"
   },
   {
    "duration": 3,
    "start_time": "2025-01-07T16:01:09.408Z"
   },
   {
    "duration": 11,
    "start_time": "2025-01-07T16:01:09.412Z"
   },
   {
    "duration": 60,
    "start_time": "2025-01-07T16:01:09.426Z"
   },
   {
    "duration": 13,
    "start_time": "2025-01-07T16:01:09.489Z"
   },
   {
    "duration": 7,
    "start_time": "2025-01-07T16:01:09.504Z"
   },
   {
    "duration": 374,
    "start_time": "2025-01-07T16:01:09.512Z"
   },
   {
    "duration": 20,
    "start_time": "2025-01-07T16:01:09.888Z"
   },
   {
    "duration": 21,
    "start_time": "2025-01-07T16:01:09.910Z"
   },
   {
    "duration": 4,
    "start_time": "2025-01-07T16:01:09.987Z"
   },
   {
    "duration": 10,
    "start_time": "2025-01-07T16:01:09.992Z"
   },
   {
    "duration": 34,
    "start_time": "2025-01-07T16:01:10.004Z"
   },
   {
    "duration": 54,
    "start_time": "2025-01-07T16:01:10.039Z"
   },
   {
    "duration": 293,
    "start_time": "2025-01-07T16:01:10.095Z"
   },
   {
    "duration": 4,
    "start_time": "2025-01-07T16:01:10.390Z"
   },
   {
    "duration": 7,
    "start_time": "2025-01-07T16:01:10.396Z"
   },
   {
    "duration": 5,
    "start_time": "2025-01-07T16:01:10.404Z"
   },
   {
    "duration": 16,
    "start_time": "2025-01-07T16:01:10.410Z"
   },
   {
    "duration": 60,
    "start_time": "2025-01-07T16:01:10.427Z"
   },
   {
    "duration": 1109,
    "start_time": "2025-01-07T16:01:10.488Z"
   },
   {
    "duration": 27,
    "start_time": "2025-01-07T16:01:11.598Z"
   },
   {
    "duration": 64,
    "start_time": "2025-01-07T16:01:11.626Z"
   },
   {
    "duration": 26,
    "start_time": "2025-01-07T16:01:11.691Z"
   },
   {
    "duration": 568,
    "start_time": "2025-01-07T16:01:11.719Z"
   },
   {
    "duration": 9,
    "start_time": "2025-01-07T16:01:12.289Z"
   },
   {
    "duration": 239,
    "start_time": "2025-01-07T16:01:12.299Z"
   },
   {
    "duration": 3,
    "start_time": "2025-01-07T16:04:56.410Z"
   },
   {
    "duration": 1769,
    "start_time": "2025-01-07T16:04:56.418Z"
   },
   {
    "duration": 8,
    "start_time": "2025-01-07T16:04:58.189Z"
   },
   {
    "duration": 15,
    "start_time": "2025-01-07T16:04:58.199Z"
   },
   {
    "duration": 13,
    "start_time": "2025-01-07T16:04:58.215Z"
   },
   {
    "duration": 19,
    "start_time": "2025-01-07T16:04:58.230Z"
   },
   {
    "duration": 37,
    "start_time": "2025-01-07T16:04:58.251Z"
   },
   {
    "duration": 82,
    "start_time": "2025-01-07T16:04:58.289Z"
   },
   {
    "duration": 14,
    "start_time": "2025-01-07T16:04:58.373Z"
   },
   {
    "duration": 28,
    "start_time": "2025-01-07T16:04:58.389Z"
   },
   {
    "duration": 18,
    "start_time": "2025-01-07T16:04:58.419Z"
   },
   {
    "duration": 18,
    "start_time": "2025-01-07T16:04:58.438Z"
   },
   {
    "duration": 9,
    "start_time": "2025-01-07T16:04:58.457Z"
   },
   {
    "duration": 12,
    "start_time": "2025-01-07T16:04:58.467Z"
   },
   {
    "duration": 7,
    "start_time": "2025-01-07T16:04:58.482Z"
   },
   {
    "duration": 38,
    "start_time": "2025-01-07T16:04:58.491Z"
   },
   {
    "duration": 8,
    "start_time": "2025-01-07T16:04:58.530Z"
   },
   {
    "duration": 1283,
    "start_time": "2025-01-07T16:04:58.539Z"
   },
   {
    "duration": 216,
    "start_time": "2025-01-07T16:04:59.824Z"
   },
   {
    "duration": 55,
    "start_time": "2025-01-07T16:05:00.042Z"
   },
   {
    "duration": 78,
    "start_time": "2025-01-07T16:05:00.098Z"
   },
   {
    "duration": 211,
    "start_time": "2025-01-07T16:05:00.178Z"
   },
   {
    "duration": 4,
    "start_time": "2025-01-07T16:05:00.391Z"
   },
   {
    "duration": 338,
    "start_time": "2025-01-07T16:05:00.396Z"
   },
   {
    "duration": 14,
    "start_time": "2025-01-07T16:05:00.736Z"
   },
   {
    "duration": 74,
    "start_time": "2025-01-07T16:05:00.752Z"
   },
   {
    "duration": 60,
    "start_time": "2025-01-07T16:05:00.828Z"
   },
   {
    "duration": 11,
    "start_time": "2025-01-07T16:05:00.889Z"
   },
   {
    "duration": 245,
    "start_time": "2025-01-07T16:05:00.901Z"
   },
   {
    "duration": 3,
    "start_time": "2025-01-07T16:05:01.147Z"
   },
   {
    "duration": 77,
    "start_time": "2025-01-07T16:05:01.151Z"
   },
   {
    "duration": 4,
    "start_time": "2025-01-07T16:05:01.229Z"
   },
   {
    "duration": 312,
    "start_time": "2025-01-07T16:05:01.235Z"
   },
   {
    "duration": 84,
    "start_time": "2025-01-07T16:05:01.548Z"
   },
   {
    "duration": 32,
    "start_time": "2025-01-07T16:05:01.633Z"
   },
   {
    "duration": 4,
    "start_time": "2025-01-07T16:05:01.666Z"
   },
   {
    "duration": 120,
    "start_time": "2025-01-07T16:05:01.687Z"
   },
   {
    "duration": 88,
    "start_time": "2025-01-07T16:05:01.808Z"
   },
   {
    "duration": 3,
    "start_time": "2025-01-07T16:05:01.898Z"
   },
   {
    "duration": 38,
    "start_time": "2025-01-07T16:05:01.902Z"
   },
   {
    "duration": 37,
    "start_time": "2025-01-07T16:05:01.941Z"
   },
   {
    "duration": 23,
    "start_time": "2025-01-07T16:05:01.983Z"
   },
   {
    "duration": 47,
    "start_time": "2025-01-07T16:05:02.008Z"
   },
   {
    "duration": 47,
    "start_time": "2025-01-07T16:05:02.056Z"
   },
   {
    "duration": 107,
    "start_time": "2025-01-07T16:05:02.104Z"
   },
   {
    "duration": 16,
    "start_time": "2025-01-07T16:05:02.212Z"
   },
   {
    "duration": 15,
    "start_time": "2025-01-07T16:05:02.229Z"
   },
   {
    "duration": 31,
    "start_time": "2025-01-07T16:05:02.245Z"
   },
   {
    "duration": 167,
    "start_time": "2025-01-07T16:05:02.278Z"
   },
   {
    "duration": 19,
    "start_time": "2025-01-07T16:05:02.447Z"
   },
   {
    "duration": 76,
    "start_time": "2025-01-07T16:05:02.468Z"
   },
   {
    "duration": 3,
    "start_time": "2025-01-07T16:05:02.546Z"
   },
   {
    "duration": 19,
    "start_time": "2025-01-07T16:05:02.550Z"
   },
   {
    "duration": 43,
    "start_time": "2025-01-07T16:05:02.570Z"
   },
   {
    "duration": 9,
    "start_time": "2025-01-07T16:05:02.615Z"
   },
   {
    "duration": 117,
    "start_time": "2025-01-07T16:05:02.626Z"
   },
   {
    "duration": 3,
    "start_time": "2025-01-07T16:05:02.745Z"
   },
   {
    "duration": 54,
    "start_time": "2025-01-07T16:05:02.749Z"
   },
   {
    "duration": 24,
    "start_time": "2025-01-07T16:05:02.804Z"
   },
   {
    "duration": 17,
    "start_time": "2025-01-07T16:05:02.830Z"
   },
   {
    "duration": 22,
    "start_time": "2025-01-07T16:05:02.849Z"
   },
   {
    "duration": 780,
    "start_time": "2025-01-07T16:05:02.872Z"
   },
   {
    "duration": 25,
    "start_time": "2025-01-07T16:05:03.653Z"
   },
   {
    "duration": 13,
    "start_time": "2025-01-07T16:05:03.679Z"
   },
   {
    "duration": 55,
    "start_time": "2025-01-07T16:05:03.693Z"
   },
   {
    "duration": 269,
    "start_time": "2025-01-07T16:05:03.749Z"
   },
   {
    "duration": 10,
    "start_time": "2025-01-07T16:05:04.019Z"
   },
   {
    "duration": 158,
    "start_time": "2025-01-07T16:05:04.030Z"
   },
   {
    "duration": 2,
    "start_time": "2025-01-07T16:05:50.682Z"
   },
   {
    "duration": 1805,
    "start_time": "2025-01-07T16:05:50.688Z"
   },
   {
    "duration": 11,
    "start_time": "2025-01-07T16:05:52.495Z"
   },
   {
    "duration": 14,
    "start_time": "2025-01-07T16:05:52.508Z"
   },
   {
    "duration": 67,
    "start_time": "2025-01-07T16:05:52.525Z"
   },
   {
    "duration": 30,
    "start_time": "2025-01-07T16:05:52.594Z"
   },
   {
    "duration": 74,
    "start_time": "2025-01-07T16:05:52.626Z"
   },
   {
    "duration": 186,
    "start_time": "2025-01-07T16:05:52.701Z"
   },
   {
    "duration": 7,
    "start_time": "2025-01-07T16:05:52.889Z"
   },
   {
    "duration": 113,
    "start_time": "2025-01-07T16:05:52.897Z"
   },
   {
    "duration": 20,
    "start_time": "2025-01-07T16:05:53.013Z"
   },
   {
    "duration": 52,
    "start_time": "2025-01-07T16:05:53.034Z"
   },
   {
    "duration": 6,
    "start_time": "2025-01-07T16:05:53.088Z"
   },
   {
    "duration": 17,
    "start_time": "2025-01-07T16:05:53.096Z"
   },
   {
    "duration": 7,
    "start_time": "2025-01-07T16:05:53.115Z"
   },
   {
    "duration": 79,
    "start_time": "2025-01-07T16:05:53.124Z"
   },
   {
    "duration": 8,
    "start_time": "2025-01-07T16:05:53.205Z"
   },
   {
    "duration": 964,
    "start_time": "2025-01-07T16:05:53.214Z"
   },
   {
    "duration": 149,
    "start_time": "2025-01-07T16:05:54.186Z"
   },
   {
    "duration": 55,
    "start_time": "2025-01-07T16:05:54.337Z"
   },
   {
    "duration": 48,
    "start_time": "2025-01-07T16:05:54.393Z"
   },
   {
    "duration": 159,
    "start_time": "2025-01-07T16:05:54.443Z"
   },
   {
    "duration": 4,
    "start_time": "2025-01-07T16:05:54.603Z"
   },
   {
    "duration": 295,
    "start_time": "2025-01-07T16:05:54.609Z"
   },
   {
    "duration": 15,
    "start_time": "2025-01-07T16:05:54.906Z"
   },
   {
    "duration": 56,
    "start_time": "2025-01-07T16:05:54.922Z"
   },
   {
    "duration": 55,
    "start_time": "2025-01-07T16:05:54.980Z"
   },
   {
    "duration": 18,
    "start_time": "2025-01-07T16:05:55.037Z"
   },
   {
    "duration": 104,
    "start_time": "2025-01-07T16:05:55.059Z"
   },
   {
    "duration": 3,
    "start_time": "2025-01-07T16:05:55.164Z"
   },
   {
    "duration": 75,
    "start_time": "2025-01-07T16:05:55.168Z"
   },
   {
    "duration": 4,
    "start_time": "2025-01-07T16:05:55.245Z"
   },
   {
    "duration": 410,
    "start_time": "2025-01-07T16:05:55.250Z"
   },
   {
    "duration": 80,
    "start_time": "2025-01-07T16:05:55.662Z"
   },
   {
    "duration": 31,
    "start_time": "2025-01-07T16:05:55.744Z"
   },
   {
    "duration": 11,
    "start_time": "2025-01-07T16:05:55.777Z"
   },
   {
    "duration": 100,
    "start_time": "2025-01-07T16:05:55.790Z"
   },
   {
    "duration": 57,
    "start_time": "2025-01-07T16:05:55.892Z"
   },
   {
    "duration": 3,
    "start_time": "2025-01-07T16:05:55.951Z"
   },
   {
    "duration": 18,
    "start_time": "2025-01-07T16:05:55.956Z"
   },
   {
    "duration": 38,
    "start_time": "2025-01-07T16:05:55.975Z"
   },
   {
    "duration": 15,
    "start_time": "2025-01-07T16:05:56.015Z"
   },
   {
    "duration": 27,
    "start_time": "2025-01-07T16:05:56.031Z"
   },
   {
    "duration": 26,
    "start_time": "2025-01-07T16:05:56.060Z"
   },
   {
    "duration": 56,
    "start_time": "2025-01-07T16:05:56.088Z"
   },
   {
    "duration": 4,
    "start_time": "2025-01-07T16:05:56.146Z"
   },
   {
    "duration": 15,
    "start_time": "2025-01-07T16:05:56.152Z"
   },
   {
    "duration": 7,
    "start_time": "2025-01-07T16:05:56.169Z"
   },
   {
    "duration": 159,
    "start_time": "2025-01-07T16:05:56.178Z"
   },
   {
    "duration": 21,
    "start_time": "2025-01-07T16:05:56.339Z"
   },
   {
    "duration": 78,
    "start_time": "2025-01-07T16:05:56.362Z"
   },
   {
    "duration": 4,
    "start_time": "2025-01-07T16:05:56.442Z"
   },
   {
    "duration": 8,
    "start_time": "2025-01-07T16:05:56.448Z"
   },
   {
    "duration": 21,
    "start_time": "2025-01-07T16:05:56.458Z"
   },
   {
    "duration": 8,
    "start_time": "2025-01-07T16:05:56.481Z"
   },
   {
    "duration": 127,
    "start_time": "2025-01-07T16:05:56.490Z"
   },
   {
    "duration": 3,
    "start_time": "2025-01-07T16:05:56.619Z"
   },
   {
    "duration": 3,
    "start_time": "2025-01-07T16:05:56.624Z"
   },
   {
    "duration": 5,
    "start_time": "2025-01-07T16:05:56.628Z"
   },
   {
    "duration": 13,
    "start_time": "2025-01-07T16:05:56.634Z"
   },
   {
    "duration": 9,
    "start_time": "2025-01-07T16:05:56.649Z"
   },
   {
    "duration": 727,
    "start_time": "2025-01-07T16:05:56.659Z"
   },
   {
    "duration": 31,
    "start_time": "2025-01-07T16:05:57.388Z"
   },
   {
    "duration": 9,
    "start_time": "2025-01-07T16:05:57.420Z"
   },
   {
    "duration": 30,
    "start_time": "2025-01-07T16:05:57.430Z"
   },
   {
    "duration": 288,
    "start_time": "2025-01-07T16:05:57.462Z"
   },
   {
    "duration": 9,
    "start_time": "2025-01-07T16:05:57.752Z"
   },
   {
    "duration": 163,
    "start_time": "2025-01-07T16:05:57.763Z"
   },
   {
    "duration": 2,
    "start_time": "2025-01-07T16:06:40.382Z"
   },
   {
    "duration": 1561,
    "start_time": "2025-01-07T16:06:40.388Z"
   },
   {
    "duration": 7,
    "start_time": "2025-01-07T16:06:41.952Z"
   },
   {
    "duration": 11,
    "start_time": "2025-01-07T16:06:41.960Z"
   },
   {
    "duration": 26,
    "start_time": "2025-01-07T16:06:41.972Z"
   },
   {
    "duration": 20,
    "start_time": "2025-01-07T16:06:42.000Z"
   },
   {
    "duration": 21,
    "start_time": "2025-01-07T16:06:42.021Z"
   },
   {
    "duration": 103,
    "start_time": "2025-01-07T16:06:42.043Z"
   },
   {
    "duration": 10,
    "start_time": "2025-01-07T16:06:42.147Z"
   },
   {
    "duration": 19,
    "start_time": "2025-01-07T16:06:42.158Z"
   },
   {
    "duration": 17,
    "start_time": "2025-01-07T16:06:42.178Z"
   },
   {
    "duration": 13,
    "start_time": "2025-01-07T16:06:42.196Z"
   },
   {
    "duration": 6,
    "start_time": "2025-01-07T16:06:42.210Z"
   },
   {
    "duration": 8,
    "start_time": "2025-01-07T16:06:42.217Z"
   },
   {
    "duration": 7,
    "start_time": "2025-01-07T16:06:42.228Z"
   },
   {
    "duration": 61,
    "start_time": "2025-01-07T16:06:42.237Z"
   },
   {
    "duration": 9,
    "start_time": "2025-01-07T16:06:42.299Z"
   },
   {
    "duration": 657,
    "start_time": "2025-01-07T16:06:42.309Z"
   },
   {
    "duration": 166,
    "start_time": "2025-01-07T16:06:42.968Z"
   },
   {
    "duration": 55,
    "start_time": "2025-01-07T16:06:43.136Z"
   },
   {
    "duration": 23,
    "start_time": "2025-01-07T16:06:43.193Z"
   },
   {
    "duration": 314,
    "start_time": "2025-01-07T16:06:43.217Z"
   },
   {
    "duration": 55,
    "start_time": "2025-01-07T16:06:43.533Z"
   },
   {
    "duration": 624,
    "start_time": "2025-01-07T16:06:43.590Z"
   },
   {
    "duration": 16,
    "start_time": "2025-01-07T16:06:44.215Z"
   },
   {
    "duration": 64,
    "start_time": "2025-01-07T16:06:44.232Z"
   },
   {
    "duration": 110,
    "start_time": "2025-01-07T16:06:44.297Z"
   },
   {
    "duration": 20,
    "start_time": "2025-01-07T16:06:44.409Z"
   },
   {
    "duration": 201,
    "start_time": "2025-01-07T16:06:44.487Z"
   },
   {
    "duration": 3,
    "start_time": "2025-01-07T16:06:44.691Z"
   },
   {
    "duration": 124,
    "start_time": "2025-01-07T16:06:44.696Z"
   },
   {
    "duration": 4,
    "start_time": "2025-01-07T16:06:44.822Z"
   },
   {
    "duration": 325,
    "start_time": "2025-01-07T16:06:44.827Z"
   },
   {
    "duration": 79,
    "start_time": "2025-01-07T16:06:45.154Z"
   },
   {
    "duration": 31,
    "start_time": "2025-01-07T16:06:45.235Z"
   },
   {
    "duration": 20,
    "start_time": "2025-01-07T16:06:45.268Z"
   },
   {
    "duration": 124,
    "start_time": "2025-01-07T16:06:45.290Z"
   },
   {
    "duration": 80,
    "start_time": "2025-01-07T16:06:45.417Z"
   },
   {
    "duration": 4,
    "start_time": "2025-01-07T16:06:45.498Z"
   },
   {
    "duration": 22,
    "start_time": "2025-01-07T16:06:45.503Z"
   },
   {
    "duration": 35,
    "start_time": "2025-01-07T16:06:45.527Z"
   },
   {
    "duration": 26,
    "start_time": "2025-01-07T16:06:45.567Z"
   },
   {
    "duration": 34,
    "start_time": "2025-01-07T16:06:45.595Z"
   },
   {
    "duration": 4,
    "start_time": "2025-01-07T16:06:45.631Z"
   },
   {
    "duration": 11,
    "start_time": "2025-01-07T16:06:45.636Z"
   },
   {
    "duration": 13,
    "start_time": "2025-01-07T16:06:45.649Z"
   },
   {
    "duration": 35,
    "start_time": "2025-01-07T16:06:45.663Z"
   },
   {
    "duration": 10,
    "start_time": "2025-01-07T16:06:45.699Z"
   },
   {
    "duration": 240,
    "start_time": "2025-01-07T16:06:45.710Z"
   },
   {
    "duration": 20,
    "start_time": "2025-01-07T16:06:45.952Z"
   },
   {
    "duration": 37,
    "start_time": "2025-01-07T16:06:45.973Z"
   },
   {
    "duration": 12,
    "start_time": "2025-01-07T16:06:46.011Z"
   },
   {
    "duration": 7,
    "start_time": "2025-01-07T16:06:46.025Z"
   },
   {
    "duration": 23,
    "start_time": "2025-01-07T16:06:46.033Z"
   },
   {
    "duration": 8,
    "start_time": "2025-01-07T16:06:46.057Z"
   },
   {
    "duration": 129,
    "start_time": "2025-01-07T16:06:46.066Z"
   },
   {
    "duration": 4,
    "start_time": "2025-01-07T16:06:46.197Z"
   },
   {
    "duration": 22,
    "start_time": "2025-01-07T16:06:46.202Z"
   },
   {
    "duration": 10,
    "start_time": "2025-01-07T16:06:46.226Z"
   },
   {
    "duration": 731,
    "start_time": "2025-01-07T16:06:46.237Z"
   },
   {
    "duration": 29,
    "start_time": "2025-01-07T16:06:46.970Z"
   },
   {
    "duration": 8,
    "start_time": "2025-01-07T16:06:47.001Z"
   },
   {
    "duration": 24,
    "start_time": "2025-01-07T16:06:47.010Z"
   },
   {
    "duration": 285,
    "start_time": "2025-01-07T16:06:47.035Z"
   },
   {
    "duration": 9,
    "start_time": "2025-01-07T16:06:47.322Z"
   },
   {
    "duration": 157,
    "start_time": "2025-01-07T16:06:47.332Z"
   },
   {
    "duration": 2,
    "start_time": "2025-01-07T16:08:45.926Z"
   },
   {
    "duration": 1620,
    "start_time": "2025-01-07T16:08:45.932Z"
   },
   {
    "duration": 8,
    "start_time": "2025-01-07T16:08:47.554Z"
   },
   {
    "duration": 18,
    "start_time": "2025-01-07T16:08:47.563Z"
   },
   {
    "duration": 7,
    "start_time": "2025-01-07T16:08:47.582Z"
   },
   {
    "duration": 20,
    "start_time": "2025-01-07T16:08:47.591Z"
   },
   {
    "duration": 20,
    "start_time": "2025-01-07T16:08:47.613Z"
   },
   {
    "duration": 104,
    "start_time": "2025-01-07T16:08:47.635Z"
   },
   {
    "duration": 7,
    "start_time": "2025-01-07T16:08:47.740Z"
   },
   {
    "duration": 18,
    "start_time": "2025-01-07T16:08:47.748Z"
   },
   {
    "duration": 20,
    "start_time": "2025-01-07T16:08:47.768Z"
   },
   {
    "duration": 14,
    "start_time": "2025-01-07T16:08:47.790Z"
   },
   {
    "duration": 6,
    "start_time": "2025-01-07T16:08:47.806Z"
   },
   {
    "duration": 9,
    "start_time": "2025-01-07T16:08:47.813Z"
   },
   {
    "duration": 7,
    "start_time": "2025-01-07T16:08:47.825Z"
   },
   {
    "duration": 55,
    "start_time": "2025-01-07T16:08:47.834Z"
   },
   {
    "duration": 8,
    "start_time": "2025-01-07T16:08:47.891Z"
   },
   {
    "duration": 1294,
    "start_time": "2025-01-07T16:08:47.900Z"
   },
   {
    "duration": 180,
    "start_time": "2025-01-07T16:08:49.195Z"
   },
   {
    "duration": 56,
    "start_time": "2025-01-07T16:08:49.376Z"
   },
   {
    "duration": 35,
    "start_time": "2025-01-07T16:08:49.434Z"
   },
   {
    "duration": 174,
    "start_time": "2025-01-07T16:08:49.487Z"
   },
   {
    "duration": 4,
    "start_time": "2025-01-07T16:08:49.662Z"
   },
   {
    "duration": 310,
    "start_time": "2025-01-07T16:08:49.667Z"
   },
   {
    "duration": 21,
    "start_time": "2025-01-07T16:08:49.978Z"
   },
   {
    "duration": 28,
    "start_time": "2025-01-07T16:08:50.000Z"
   },
   {
    "duration": 70,
    "start_time": "2025-01-07T16:08:50.030Z"
   },
   {
    "duration": 11,
    "start_time": "2025-01-07T16:08:50.102Z"
   },
   {
    "duration": 115,
    "start_time": "2025-01-07T16:08:50.115Z"
   },
   {
    "duration": 2,
    "start_time": "2025-01-07T16:08:50.232Z"
   },
   {
    "duration": 93,
    "start_time": "2025-01-07T16:08:50.236Z"
   },
   {
    "duration": 4,
    "start_time": "2025-01-07T16:08:50.330Z"
   },
   {
    "duration": 346,
    "start_time": "2025-01-07T16:08:50.335Z"
   },
   {
    "duration": 71,
    "start_time": "2025-01-07T16:08:50.685Z"
   },
   {
    "duration": 45,
    "start_time": "2025-01-07T16:08:50.758Z"
   },
   {
    "duration": 11,
    "start_time": "2025-01-07T16:08:50.804Z"
   },
   {
    "duration": 92,
    "start_time": "2025-01-07T16:08:50.817Z"
   },
   {
    "duration": 85,
    "start_time": "2025-01-07T16:08:50.911Z"
   },
   {
    "duration": 4,
    "start_time": "2025-01-07T16:08:50.997Z"
   },
   {
    "duration": 32,
    "start_time": "2025-01-07T16:08:51.003Z"
   },
   {
    "duration": 42,
    "start_time": "2025-01-07T16:08:51.037Z"
   },
   {
    "duration": 15,
    "start_time": "2025-01-07T16:08:51.084Z"
   },
   {
    "duration": 29,
    "start_time": "2025-01-07T16:08:51.101Z"
   },
   {
    "duration": 3,
    "start_time": "2025-01-07T16:08:51.132Z"
   },
   {
    "duration": 31,
    "start_time": "2025-01-07T16:08:51.136Z"
   },
   {
    "duration": 9,
    "start_time": "2025-01-07T16:08:51.168Z"
   },
   {
    "duration": 52,
    "start_time": "2025-01-07T16:08:51.179Z"
   },
   {
    "duration": 21,
    "start_time": "2025-01-07T16:08:51.232Z"
   },
   {
    "duration": 168,
    "start_time": "2025-01-07T16:08:51.254Z"
   },
   {
    "duration": 21,
    "start_time": "2025-01-07T16:08:51.424Z"
   },
   {
    "duration": 22,
    "start_time": "2025-01-07T16:08:51.447Z"
   },
   {
    "duration": 18,
    "start_time": "2025-01-07T16:08:51.470Z"
   },
   {
    "duration": 8,
    "start_time": "2025-01-07T16:08:51.489Z"
   },
   {
    "duration": 32,
    "start_time": "2025-01-07T16:08:51.498Z"
   },
   {
    "duration": 8,
    "start_time": "2025-01-07T16:08:51.532Z"
   },
   {
    "duration": 225,
    "start_time": "2025-01-07T16:08:51.542Z"
   },
   {
    "duration": 4,
    "start_time": "2025-01-07T16:08:51.769Z"
   },
   {
    "duration": 26,
    "start_time": "2025-01-07T16:08:51.774Z"
   },
   {
    "duration": 16,
    "start_time": "2025-01-07T16:08:51.802Z"
   },
   {
    "duration": 743,
    "start_time": "2025-01-07T16:08:51.819Z"
   },
   {
    "duration": 62,
    "start_time": "2025-01-07T16:08:52.564Z"
   },
   {
    "duration": 0,
    "start_time": "2025-01-07T16:08:52.628Z"
   },
   {
    "duration": 0,
    "start_time": "2025-01-07T16:08:52.629Z"
   },
   {
    "duration": 0,
    "start_time": "2025-01-07T16:08:52.630Z"
   },
   {
    "duration": 0,
    "start_time": "2025-01-07T16:08:52.631Z"
   },
   {
    "duration": 0,
    "start_time": "2025-01-07T16:08:52.632Z"
   },
   {
    "duration": 3,
    "start_time": "2025-01-07T16:09:18.784Z"
   },
   {
    "duration": 1675,
    "start_time": "2025-01-07T16:09:18.791Z"
   },
   {
    "duration": 20,
    "start_time": "2025-01-07T16:09:20.468Z"
   },
   {
    "duration": 25,
    "start_time": "2025-01-07T16:09:20.490Z"
   },
   {
    "duration": 16,
    "start_time": "2025-01-07T16:09:20.516Z"
   },
   {
    "duration": 71,
    "start_time": "2025-01-07T16:09:20.534Z"
   },
   {
    "duration": 22,
    "start_time": "2025-01-07T16:09:20.606Z"
   },
   {
    "duration": 187,
    "start_time": "2025-01-07T16:09:20.630Z"
   },
   {
    "duration": 7,
    "start_time": "2025-01-07T16:09:20.819Z"
   },
   {
    "duration": 71,
    "start_time": "2025-01-07T16:09:20.828Z"
   },
   {
    "duration": 9,
    "start_time": "2025-01-07T16:09:20.901Z"
   },
   {
    "duration": 81,
    "start_time": "2025-01-07T16:09:20.912Z"
   },
   {
    "duration": 6,
    "start_time": "2025-01-07T16:09:20.995Z"
   },
   {
    "duration": 84,
    "start_time": "2025-01-07T16:09:21.003Z"
   },
   {
    "duration": 9,
    "start_time": "2025-01-07T16:09:21.090Z"
   },
   {
    "duration": 33,
    "start_time": "2025-01-07T16:09:21.100Z"
   },
   {
    "duration": 9,
    "start_time": "2025-01-07T16:09:21.187Z"
   },
   {
    "duration": 962,
    "start_time": "2025-01-07T16:09:21.198Z"
   },
   {
    "duration": 156,
    "start_time": "2025-01-07T16:09:22.161Z"
   },
   {
    "duration": 52,
    "start_time": "2025-01-07T16:09:22.318Z"
   },
   {
    "duration": 31,
    "start_time": "2025-01-07T16:09:22.371Z"
   },
   {
    "duration": 177,
    "start_time": "2025-01-07T16:09:22.403Z"
   },
   {
    "duration": 4,
    "start_time": "2025-01-07T16:09:22.586Z"
   },
   {
    "duration": 294,
    "start_time": "2025-01-07T16:09:22.592Z"
   },
   {
    "duration": 15,
    "start_time": "2025-01-07T16:09:22.888Z"
   },
   {
    "duration": 13,
    "start_time": "2025-01-07T16:09:22.904Z"
   },
   {
    "duration": 69,
    "start_time": "2025-01-07T16:09:22.918Z"
   },
   {
    "duration": 19,
    "start_time": "2025-01-07T16:09:22.989Z"
   },
   {
    "duration": 96,
    "start_time": "2025-01-07T16:09:23.009Z"
   },
   {
    "duration": 3,
    "start_time": "2025-01-07T16:09:23.107Z"
   },
   {
    "duration": 77,
    "start_time": "2025-01-07T16:09:23.111Z"
   },
   {
    "duration": 4,
    "start_time": "2025-01-07T16:09:23.189Z"
   },
   {
    "duration": 308,
    "start_time": "2025-01-07T16:09:23.195Z"
   },
   {
    "duration": 67,
    "start_time": "2025-01-07T16:09:23.504Z"
   },
   {
    "duration": 30,
    "start_time": "2025-01-07T16:09:23.586Z"
   },
   {
    "duration": 4,
    "start_time": "2025-01-07T16:09:23.618Z"
   },
   {
    "duration": 98,
    "start_time": "2025-01-07T16:09:23.623Z"
   },
   {
    "duration": 83,
    "start_time": "2025-01-07T16:09:23.723Z"
   },
   {
    "duration": 3,
    "start_time": "2025-01-07T16:09:23.808Z"
   },
   {
    "duration": 12,
    "start_time": "2025-01-07T16:09:23.813Z"
   },
   {
    "duration": 30,
    "start_time": "2025-01-07T16:09:23.826Z"
   },
   {
    "duration": 31,
    "start_time": "2025-01-07T16:09:23.861Z"
   },
   {
    "duration": 29,
    "start_time": "2025-01-07T16:09:23.893Z"
   },
   {
    "duration": 3,
    "start_time": "2025-01-07T16:09:23.924Z"
   },
   {
    "duration": 8,
    "start_time": "2025-01-07T16:09:23.928Z"
   },
   {
    "duration": 3,
    "start_time": "2025-01-07T16:09:23.938Z"
   },
   {
    "duration": 20,
    "start_time": "2025-01-07T16:09:23.943Z"
   },
   {
    "duration": 24,
    "start_time": "2025-01-07T16:09:23.964Z"
   },
   {
    "duration": 171,
    "start_time": "2025-01-07T16:09:23.989Z"
   },
   {
    "duration": 27,
    "start_time": "2025-01-07T16:09:24.162Z"
   },
   {
    "duration": 24,
    "start_time": "2025-01-07T16:09:24.191Z"
   },
   {
    "duration": 7,
    "start_time": "2025-01-07T16:09:24.217Z"
   },
   {
    "duration": 6,
    "start_time": "2025-01-07T16:09:24.225Z"
   },
   {
    "duration": 23,
    "start_time": "2025-01-07T16:09:24.233Z"
   },
   {
    "duration": 10,
    "start_time": "2025-01-07T16:09:24.287Z"
   },
   {
    "duration": 130,
    "start_time": "2025-01-07T16:09:24.299Z"
   },
   {
    "duration": 5,
    "start_time": "2025-01-07T16:09:24.430Z"
   },
   {
    "duration": 13,
    "start_time": "2025-01-07T16:09:24.437Z"
   },
   {
    "duration": 10,
    "start_time": "2025-01-07T16:09:24.451Z"
   },
   {
    "duration": 686,
    "start_time": "2025-01-07T16:09:24.486Z"
   },
   {
    "duration": 76,
    "start_time": "2025-01-07T16:09:25.174Z"
   },
   {
    "duration": 0,
    "start_time": "2025-01-07T16:09:25.252Z"
   },
   {
    "duration": 0,
    "start_time": "2025-01-07T16:09:25.253Z"
   },
   {
    "duration": 0,
    "start_time": "2025-01-07T16:09:25.254Z"
   },
   {
    "duration": 0,
    "start_time": "2025-01-07T16:09:25.255Z"
   },
   {
    "duration": 0,
    "start_time": "2025-01-07T16:09:25.256Z"
   },
   {
    "duration": 27,
    "start_time": "2025-01-07T16:09:41.160Z"
   },
   {
    "duration": 3,
    "start_time": "2025-01-07T16:09:47.048Z"
   },
   {
    "duration": 1563,
    "start_time": "2025-01-07T16:09:47.054Z"
   },
   {
    "duration": 7,
    "start_time": "2025-01-07T16:09:48.620Z"
   },
   {
    "duration": 10,
    "start_time": "2025-01-07T16:09:48.629Z"
   },
   {
    "duration": 6,
    "start_time": "2025-01-07T16:09:48.641Z"
   },
   {
    "duration": 37,
    "start_time": "2025-01-07T16:09:48.649Z"
   },
   {
    "duration": 19,
    "start_time": "2025-01-07T16:09:48.688Z"
   },
   {
    "duration": 94,
    "start_time": "2025-01-07T16:09:48.709Z"
   },
   {
    "duration": 6,
    "start_time": "2025-01-07T16:09:48.805Z"
   },
   {
    "duration": 15,
    "start_time": "2025-01-07T16:09:48.813Z"
   },
   {
    "duration": 9,
    "start_time": "2025-01-07T16:09:48.829Z"
   },
   {
    "duration": 15,
    "start_time": "2025-01-07T16:09:48.839Z"
   },
   {
    "duration": 6,
    "start_time": "2025-01-07T16:09:48.855Z"
   },
   {
    "duration": 9,
    "start_time": "2025-01-07T16:09:48.887Z"
   },
   {
    "duration": 8,
    "start_time": "2025-01-07T16:09:48.898Z"
   },
   {
    "duration": 32,
    "start_time": "2025-01-07T16:09:48.908Z"
   },
   {
    "duration": 26,
    "start_time": "2025-01-07T16:09:48.941Z"
   },
   {
    "duration": 961,
    "start_time": "2025-01-07T16:09:48.968Z"
   },
   {
    "duration": 239,
    "start_time": "2025-01-07T16:09:49.987Z"
   },
   {
    "duration": 104,
    "start_time": "2025-01-07T16:09:50.228Z"
   },
   {
    "duration": 22,
    "start_time": "2025-01-07T16:09:50.386Z"
   },
   {
    "duration": 261,
    "start_time": "2025-01-07T16:09:50.410Z"
   },
   {
    "duration": 4,
    "start_time": "2025-01-07T16:09:50.686Z"
   },
   {
    "duration": 291,
    "start_time": "2025-01-07T16:09:50.692Z"
   },
   {
    "duration": 14,
    "start_time": "2025-01-07T16:09:50.986Z"
   },
   {
    "duration": 26,
    "start_time": "2025-01-07T16:09:51.002Z"
   },
   {
    "duration": 60,
    "start_time": "2025-01-07T16:09:51.030Z"
   },
   {
    "duration": 18,
    "start_time": "2025-01-07T16:09:51.091Z"
   },
   {
    "duration": 169,
    "start_time": "2025-01-07T16:09:51.110Z"
   },
   {
    "duration": 6,
    "start_time": "2025-01-07T16:09:51.281Z"
   },
   {
    "duration": 93,
    "start_time": "2025-01-07T16:09:51.289Z"
   },
   {
    "duration": 3,
    "start_time": "2025-01-07T16:09:51.384Z"
   },
   {
    "duration": 314,
    "start_time": "2025-01-07T16:09:51.389Z"
   },
   {
    "duration": 81,
    "start_time": "2025-01-07T16:09:51.705Z"
   },
   {
    "duration": 31,
    "start_time": "2025-01-07T16:09:51.788Z"
   },
   {
    "duration": 4,
    "start_time": "2025-01-07T16:09:51.821Z"
   },
   {
    "duration": 111,
    "start_time": "2025-01-07T16:09:51.827Z"
   },
   {
    "duration": 64,
    "start_time": "2025-01-07T16:09:51.940Z"
   },
   {
    "duration": 3,
    "start_time": "2025-01-07T16:09:52.006Z"
   },
   {
    "duration": 14,
    "start_time": "2025-01-07T16:09:52.011Z"
   },
   {
    "duration": 49,
    "start_time": "2025-01-07T16:09:52.026Z"
   },
   {
    "duration": 15,
    "start_time": "2025-01-07T16:09:52.081Z"
   },
   {
    "duration": 96,
    "start_time": "2025-01-07T16:09:52.098Z"
   },
   {
    "duration": 3,
    "start_time": "2025-01-07T16:09:52.196Z"
   },
   {
    "duration": 22,
    "start_time": "2025-01-07T16:09:52.201Z"
   },
   {
    "duration": 23,
    "start_time": "2025-01-07T16:09:52.225Z"
   },
   {
    "duration": 23,
    "start_time": "2025-01-07T16:09:52.250Z"
   },
   {
    "duration": 16,
    "start_time": "2025-01-07T16:09:52.275Z"
   },
   {
    "duration": 169,
    "start_time": "2025-01-07T16:09:52.293Z"
   },
   {
    "duration": 28,
    "start_time": "2025-01-07T16:09:52.464Z"
   },
   {
    "duration": 30,
    "start_time": "2025-01-07T16:09:52.494Z"
   },
   {
    "duration": 72,
    "start_time": "2025-01-07T16:09:52.525Z"
   },
   {
    "duration": 13,
    "start_time": "2025-01-07T16:09:52.598Z"
   },
   {
    "duration": 40,
    "start_time": "2025-01-07T16:09:52.612Z"
   },
   {
    "duration": 21,
    "start_time": "2025-01-07T16:09:52.654Z"
   },
   {
    "duration": 134,
    "start_time": "2025-01-07T16:09:52.676Z"
   },
   {
    "duration": 4,
    "start_time": "2025-01-07T16:09:52.811Z"
   },
   {
    "duration": 23,
    "start_time": "2025-01-07T16:09:52.817Z"
   },
   {
    "duration": 10,
    "start_time": "2025-01-07T16:09:52.842Z"
   },
   {
    "duration": 720,
    "start_time": "2025-01-07T16:09:52.854Z"
   },
   {
    "duration": 31,
    "start_time": "2025-01-07T16:09:53.575Z"
   },
   {
    "duration": 8,
    "start_time": "2025-01-07T16:09:53.607Z"
   },
   {
    "duration": 45,
    "start_time": "2025-01-07T16:09:53.617Z"
   },
   {
    "duration": 264,
    "start_time": "2025-01-07T16:09:53.664Z"
   },
   {
    "duration": 9,
    "start_time": "2025-01-07T16:09:53.930Z"
   },
   {
    "duration": 155,
    "start_time": "2025-01-07T16:09:53.941Z"
   },
   {
    "duration": 5,
    "start_time": "2025-01-07T16:11:37.043Z"
   },
   {
    "duration": 1694,
    "start_time": "2025-01-07T16:11:37.050Z"
   },
   {
    "duration": 8,
    "start_time": "2025-01-07T16:11:38.745Z"
   },
   {
    "duration": 65,
    "start_time": "2025-01-07T16:11:38.755Z"
   },
   {
    "duration": 22,
    "start_time": "2025-01-07T16:11:38.821Z"
   },
   {
    "duration": 29,
    "start_time": "2025-01-07T16:11:38.845Z"
   },
   {
    "duration": 20,
    "start_time": "2025-01-07T16:11:38.875Z"
   },
   {
    "duration": 90,
    "start_time": "2025-01-07T16:11:38.897Z"
   },
   {
    "duration": 6,
    "start_time": "2025-01-07T16:11:38.989Z"
   },
   {
    "duration": 15,
    "start_time": "2025-01-07T16:11:38.998Z"
   },
   {
    "duration": 9,
    "start_time": "2025-01-07T16:11:39.014Z"
   },
   {
    "duration": 19,
    "start_time": "2025-01-07T16:11:39.024Z"
   },
   {
    "duration": 6,
    "start_time": "2025-01-07T16:11:39.044Z"
   },
   {
    "duration": 9,
    "start_time": "2025-01-07T16:11:39.052Z"
   },
   {
    "duration": 7,
    "start_time": "2025-01-07T16:11:39.086Z"
   },
   {
    "duration": 36,
    "start_time": "2025-01-07T16:11:39.095Z"
   },
   {
    "duration": 8,
    "start_time": "2025-01-07T16:11:39.132Z"
   },
   {
    "duration": 662,
    "start_time": "2025-01-07T16:11:39.142Z"
   },
   {
    "duration": 303,
    "start_time": "2025-01-07T16:11:39.806Z"
   },
   {
    "duration": 110,
    "start_time": "2025-01-07T16:11:40.111Z"
   },
   {
    "duration": 76,
    "start_time": "2025-01-07T16:11:40.223Z"
   },
   {
    "duration": 324,
    "start_time": "2025-01-07T16:11:40.300Z"
   },
   {
    "duration": 4,
    "start_time": "2025-01-07T16:11:40.625Z"
   },
   {
    "duration": 509,
    "start_time": "2025-01-07T16:11:40.686Z"
   },
   {
    "duration": 14,
    "start_time": "2025-01-07T16:11:41.197Z"
   },
   {
    "duration": 13,
    "start_time": "2025-01-07T16:11:41.212Z"
   },
   {
    "duration": 71,
    "start_time": "2025-01-07T16:11:41.226Z"
   },
   {
    "duration": 11,
    "start_time": "2025-01-07T16:11:41.308Z"
   },
   {
    "duration": 90,
    "start_time": "2025-01-07T16:11:41.320Z"
   },
   {
    "duration": 3,
    "start_time": "2025-01-07T16:11:41.412Z"
   },
   {
    "duration": 74,
    "start_time": "2025-01-07T16:11:41.416Z"
   },
   {
    "duration": 3,
    "start_time": "2025-01-07T16:11:41.492Z"
   },
   {
    "duration": 375,
    "start_time": "2025-01-07T16:11:41.497Z"
   },
   {
    "duration": 75,
    "start_time": "2025-01-07T16:11:41.874Z"
   },
   {
    "duration": 35,
    "start_time": "2025-01-07T16:11:41.951Z"
   },
   {
    "duration": 3,
    "start_time": "2025-01-07T16:11:41.988Z"
   },
   {
    "duration": 98,
    "start_time": "2025-01-07T16:11:41.993Z"
   },
   {
    "duration": 77,
    "start_time": "2025-01-07T16:11:42.093Z"
   },
   {
    "duration": 3,
    "start_time": "2025-01-07T16:11:42.172Z"
   },
   {
    "duration": 11,
    "start_time": "2025-01-07T16:11:42.186Z"
   },
   {
    "duration": 36,
    "start_time": "2025-01-07T16:11:42.198Z"
   },
   {
    "duration": 15,
    "start_time": "2025-01-07T16:11:42.235Z"
   },
   {
    "duration": 43,
    "start_time": "2025-01-07T16:11:42.252Z"
   },
   {
    "duration": 3,
    "start_time": "2025-01-07T16:11:42.296Z"
   },
   {
    "duration": 14,
    "start_time": "2025-01-07T16:11:42.301Z"
   },
   {
    "duration": 12,
    "start_time": "2025-01-07T16:11:42.316Z"
   },
   {
    "duration": 13,
    "start_time": "2025-01-07T16:11:42.329Z"
   },
   {
    "duration": 6,
    "start_time": "2025-01-07T16:11:42.344Z"
   },
   {
    "duration": 225,
    "start_time": "2025-01-07T16:11:42.352Z"
   },
   {
    "duration": 24,
    "start_time": "2025-01-07T16:11:42.578Z"
   },
   {
    "duration": 22,
    "start_time": "2025-01-07T16:11:42.604Z"
   },
   {
    "duration": 3,
    "start_time": "2025-01-07T16:11:42.628Z"
   },
   {
    "duration": 15,
    "start_time": "2025-01-07T16:11:42.633Z"
   },
   {
    "duration": 38,
    "start_time": "2025-01-07T16:11:42.649Z"
   },
   {
    "duration": 8,
    "start_time": "2025-01-07T16:11:42.688Z"
   },
   {
    "duration": 121,
    "start_time": "2025-01-07T16:11:42.698Z"
   },
   {
    "duration": 4,
    "start_time": "2025-01-07T16:11:42.821Z"
   },
   {
    "duration": 14,
    "start_time": "2025-01-07T16:11:42.826Z"
   },
   {
    "duration": 10,
    "start_time": "2025-01-07T16:11:42.841Z"
   },
   {
    "duration": 728,
    "start_time": "2025-01-07T16:11:42.853Z"
   },
   {
    "duration": 27,
    "start_time": "2025-01-07T16:11:43.586Z"
   },
   {
    "duration": 8,
    "start_time": "2025-01-07T16:11:43.615Z"
   },
   {
    "duration": 26,
    "start_time": "2025-01-07T16:11:43.624Z"
   },
   {
    "duration": 283,
    "start_time": "2025-01-07T16:11:43.652Z"
   },
   {
    "duration": 11,
    "start_time": "2025-01-07T16:11:43.937Z"
   },
   {
    "duration": 162,
    "start_time": "2025-01-07T16:11:43.950Z"
   },
   {
    "duration": 2,
    "start_time": "2025-01-07T16:14:12.556Z"
   },
   {
    "duration": 1582,
    "start_time": "2025-01-07T16:14:12.563Z"
   },
   {
    "duration": 8,
    "start_time": "2025-01-07T16:14:14.147Z"
   },
   {
    "duration": 39,
    "start_time": "2025-01-07T16:14:14.157Z"
   },
   {
    "duration": 7,
    "start_time": "2025-01-07T16:14:14.197Z"
   },
   {
    "duration": 19,
    "start_time": "2025-01-07T16:14:14.206Z"
   },
   {
    "duration": 20,
    "start_time": "2025-01-07T16:14:14.226Z"
   },
   {
    "duration": 103,
    "start_time": "2025-01-07T16:14:14.248Z"
   },
   {
    "duration": 7,
    "start_time": "2025-01-07T16:14:14.353Z"
   },
   {
    "duration": 27,
    "start_time": "2025-01-07T16:14:14.361Z"
   },
   {
    "duration": 52,
    "start_time": "2025-01-07T16:14:14.390Z"
   },
   {
    "duration": 46,
    "start_time": "2025-01-07T16:14:14.443Z"
   },
   {
    "duration": 6,
    "start_time": "2025-01-07T16:14:14.491Z"
   },
   {
    "duration": 10,
    "start_time": "2025-01-07T16:14:14.498Z"
   },
   {
    "duration": 9,
    "start_time": "2025-01-07T16:14:14.511Z"
   },
   {
    "duration": 87,
    "start_time": "2025-01-07T16:14:14.521Z"
   },
   {
    "duration": 8,
    "start_time": "2025-01-07T16:14:14.610Z"
   },
   {
    "duration": 1305,
    "start_time": "2025-01-07T16:14:14.619Z"
   },
   {
    "duration": 150,
    "start_time": "2025-01-07T16:14:15.926Z"
   },
   {
    "duration": 54,
    "start_time": "2025-01-07T16:14:16.078Z"
   },
   {
    "duration": 22,
    "start_time": "2025-01-07T16:14:16.133Z"
   },
   {
    "duration": 193,
    "start_time": "2025-01-07T16:14:16.157Z"
   },
   {
    "duration": 4,
    "start_time": "2025-01-07T16:14:16.351Z"
   },
   {
    "duration": 290,
    "start_time": "2025-01-07T16:14:16.356Z"
   },
   {
    "duration": 15,
    "start_time": "2025-01-07T16:14:16.647Z"
   },
   {
    "duration": 24,
    "start_time": "2025-01-07T16:14:16.663Z"
   },
   {
    "duration": 55,
    "start_time": "2025-01-07T16:14:16.688Z"
   },
   {
    "duration": 18,
    "start_time": "2025-01-07T16:14:16.744Z"
   },
   {
    "duration": 95,
    "start_time": "2025-01-07T16:14:16.764Z"
   },
   {
    "duration": 2,
    "start_time": "2025-01-07T16:14:16.861Z"
   },
   {
    "duration": 96,
    "start_time": "2025-01-07T16:14:16.865Z"
   },
   {
    "duration": 4,
    "start_time": "2025-01-07T16:14:16.962Z"
   },
   {
    "duration": 317,
    "start_time": "2025-01-07T16:14:16.967Z"
   },
   {
    "duration": 67,
    "start_time": "2025-01-07T16:14:17.286Z"
   },
   {
    "duration": 43,
    "start_time": "2025-01-07T16:14:17.355Z"
   },
   {
    "duration": 4,
    "start_time": "2025-01-07T16:14:17.400Z"
   },
   {
    "duration": 98,
    "start_time": "2025-01-07T16:14:17.405Z"
   },
   {
    "duration": 87,
    "start_time": "2025-01-07T16:14:17.505Z"
   },
   {
    "duration": 4,
    "start_time": "2025-01-07T16:14:17.594Z"
   },
   {
    "duration": 12,
    "start_time": "2025-01-07T16:14:17.600Z"
   },
   {
    "duration": 32,
    "start_time": "2025-01-07T16:14:17.614Z"
   },
   {
    "duration": 41,
    "start_time": "2025-01-07T16:14:17.651Z"
   },
   {
    "duration": 28,
    "start_time": "2025-01-07T16:14:17.693Z"
   },
   {
    "duration": 3,
    "start_time": "2025-01-07T16:14:17.723Z"
   },
   {
    "duration": 7,
    "start_time": "2025-01-07T16:14:17.728Z"
   },
   {
    "duration": 5,
    "start_time": "2025-01-07T16:14:17.736Z"
   },
   {
    "duration": 13,
    "start_time": "2025-01-07T16:14:17.743Z"
   },
   {
    "duration": 7,
    "start_time": "2025-01-07T16:14:17.786Z"
   },
   {
    "duration": 253,
    "start_time": "2025-01-07T16:14:17.795Z"
   },
   {
    "duration": 21,
    "start_time": "2025-01-07T16:14:18.050Z"
   },
   {
    "duration": 36,
    "start_time": "2025-01-07T16:14:18.073Z"
   },
   {
    "duration": 3,
    "start_time": "2025-01-07T16:14:18.111Z"
   },
   {
    "duration": 74,
    "start_time": "2025-01-07T16:14:18.116Z"
   },
   {
    "duration": 26,
    "start_time": "2025-01-07T16:14:18.192Z"
   },
   {
    "duration": 9,
    "start_time": "2025-01-07T16:14:18.219Z"
   },
   {
    "duration": 125,
    "start_time": "2025-01-07T16:14:18.229Z"
   },
   {
    "duration": 4,
    "start_time": "2025-01-07T16:14:18.356Z"
   },
   {
    "duration": 65,
    "start_time": "2025-01-07T16:14:18.361Z"
   },
   {
    "duration": 40,
    "start_time": "2025-01-07T16:14:18.427Z"
   },
   {
    "duration": 705,
    "start_time": "2025-01-07T16:14:18.468Z"
   },
   {
    "duration": 33,
    "start_time": "2025-01-07T16:14:19.175Z"
   },
   {
    "duration": 8,
    "start_time": "2025-01-07T16:14:19.209Z"
   },
   {
    "duration": 29,
    "start_time": "2025-01-07T16:14:19.219Z"
   },
   {
    "duration": 306,
    "start_time": "2025-01-07T16:14:19.250Z"
   },
   {
    "duration": 8,
    "start_time": "2025-01-07T16:14:19.557Z"
   },
   {
    "duration": 20,
    "start_time": "2025-01-07T16:14:19.566Z"
   },
   {
    "duration": 146,
    "start_time": "2025-01-07T16:14:19.588Z"
   },
   {
    "duration": 3,
    "start_time": "2025-01-07T16:17:00.582Z"
   },
   {
    "duration": 2301,
    "start_time": "2025-01-07T16:17:00.588Z"
   },
   {
    "duration": 7,
    "start_time": "2025-01-07T16:17:02.892Z"
   },
   {
    "duration": 36,
    "start_time": "2025-01-07T16:17:02.901Z"
   },
   {
    "duration": 52,
    "start_time": "2025-01-07T16:17:02.939Z"
   },
   {
    "duration": 22,
    "start_time": "2025-01-07T16:17:02.992Z"
   },
   {
    "duration": 37,
    "start_time": "2025-01-07T16:17:03.016Z"
   },
   {
    "duration": 94,
    "start_time": "2025-01-07T16:17:03.055Z"
   },
   {
    "duration": 7,
    "start_time": "2025-01-07T16:17:03.150Z"
   },
   {
    "duration": 18,
    "start_time": "2025-01-07T16:17:03.158Z"
   },
   {
    "duration": 9,
    "start_time": "2025-01-07T16:17:03.186Z"
   },
   {
    "duration": 28,
    "start_time": "2025-01-07T16:17:03.196Z"
   },
   {
    "duration": 8,
    "start_time": "2025-01-07T16:17:03.225Z"
   },
   {
    "duration": 21,
    "start_time": "2025-01-07T16:17:03.234Z"
   },
   {
    "duration": 10,
    "start_time": "2025-01-07T16:17:03.257Z"
   },
   {
    "duration": 42,
    "start_time": "2025-01-07T16:17:03.268Z"
   },
   {
    "duration": 9,
    "start_time": "2025-01-07T16:17:03.311Z"
   },
   {
    "duration": 671,
    "start_time": "2025-01-07T16:17:03.321Z"
   },
   {
    "duration": 153,
    "start_time": "2025-01-07T16:17:03.993Z"
   },
   {
    "duration": 55,
    "start_time": "2025-01-07T16:17:04.147Z"
   },
   {
    "duration": 24,
    "start_time": "2025-01-07T16:17:04.203Z"
   },
   {
    "duration": 187,
    "start_time": "2025-01-07T16:17:04.228Z"
   },
   {
    "duration": 4,
    "start_time": "2025-01-07T16:17:04.417Z"
   },
   {
    "duration": 353,
    "start_time": "2025-01-07T16:17:04.422Z"
   },
   {
    "duration": 14,
    "start_time": "2025-01-07T16:17:04.777Z"
   },
   {
    "duration": 54,
    "start_time": "2025-01-07T16:17:04.792Z"
   },
   {
    "duration": 61,
    "start_time": "2025-01-07T16:17:04.848Z"
   },
   {
    "duration": 19,
    "start_time": "2025-01-07T16:17:04.911Z"
   },
   {
    "duration": 99,
    "start_time": "2025-01-07T16:17:04.934Z"
   },
   {
    "duration": 3,
    "start_time": "2025-01-07T16:17:05.035Z"
   },
   {
    "duration": 99,
    "start_time": "2025-01-07T16:17:05.039Z"
   },
   {
    "duration": 3,
    "start_time": "2025-01-07T16:17:05.140Z"
   },
   {
    "duration": 324,
    "start_time": "2025-01-07T16:17:05.145Z"
   },
   {
    "duration": 78,
    "start_time": "2025-01-07T16:17:05.470Z"
   },
   {
    "duration": 43,
    "start_time": "2025-01-07T16:17:05.550Z"
   },
   {
    "duration": 26,
    "start_time": "2025-01-07T16:17:05.595Z"
   },
   {
    "duration": 100,
    "start_time": "2025-01-07T16:17:05.623Z"
   },
   {
    "duration": 88,
    "start_time": "2025-01-07T16:17:05.725Z"
   },
   {
    "duration": 3,
    "start_time": "2025-01-07T16:17:05.815Z"
   },
   {
    "duration": 32,
    "start_time": "2025-01-07T16:17:05.820Z"
   },
   {
    "duration": 57,
    "start_time": "2025-01-07T16:17:05.853Z"
   },
   {
    "duration": 15,
    "start_time": "2025-01-07T16:17:05.911Z"
   },
   {
    "duration": 45,
    "start_time": "2025-01-07T16:17:05.928Z"
   },
   {
    "duration": 3,
    "start_time": "2025-01-07T16:17:05.975Z"
   },
   {
    "duration": 51,
    "start_time": "2025-01-07T16:17:05.979Z"
   },
   {
    "duration": 5,
    "start_time": "2025-01-07T16:17:06.032Z"
   },
   {
    "duration": 21,
    "start_time": "2025-01-07T16:17:06.038Z"
   },
   {
    "duration": 19,
    "start_time": "2025-01-07T16:17:06.061Z"
   },
   {
    "duration": 159,
    "start_time": "2025-01-07T16:17:06.082Z"
   },
   {
    "duration": 20,
    "start_time": "2025-01-07T16:17:06.242Z"
   },
   {
    "duration": 33,
    "start_time": "2025-01-07T16:17:06.264Z"
   },
   {
    "duration": 4,
    "start_time": "2025-01-07T16:17:06.298Z"
   },
   {
    "duration": 13,
    "start_time": "2025-01-07T16:17:06.304Z"
   },
   {
    "duration": 33,
    "start_time": "2025-01-07T16:17:06.318Z"
   },
   {
    "duration": 24,
    "start_time": "2025-01-07T16:17:06.353Z"
   },
   {
    "duration": 300,
    "start_time": "2025-01-07T16:17:06.378Z"
   },
   {
    "duration": 7,
    "start_time": "2025-01-07T16:17:06.680Z"
   },
   {
    "duration": 13,
    "start_time": "2025-01-07T16:17:06.689Z"
   },
   {
    "duration": 10,
    "start_time": "2025-01-07T16:17:06.703Z"
   },
   {
    "duration": 961,
    "start_time": "2025-01-07T16:17:06.714Z"
   },
   {
    "duration": 28,
    "start_time": "2025-01-07T16:17:07.676Z"
   },
   {
    "duration": 9,
    "start_time": "2025-01-07T16:17:07.705Z"
   },
   {
    "duration": 28,
    "start_time": "2025-01-07T16:17:07.715Z"
   },
   {
    "duration": 304,
    "start_time": "2025-01-07T16:17:07.745Z"
   },
   {
    "duration": 8,
    "start_time": "2025-01-07T16:17:08.051Z"
   },
   {
    "duration": 9,
    "start_time": "2025-01-07T16:17:08.061Z"
   },
   {
    "duration": 151,
    "start_time": "2025-01-07T16:17:08.071Z"
   }
  ],
  "colab": {
   "provenance": []
  },
  "kernelspec": {
   "display_name": "Python 3 (ipykernel)",
   "language": "python",
   "name": "python3"
  },
  "language_info": {
   "codemirror_mode": {
    "name": "ipython",
    "version": 3
   },
   "file_extension": ".py",
   "mimetype": "text/x-python",
   "name": "python",
   "nbconvert_exporter": "python",
   "pygments_lexer": "ipython3",
   "version": "3.11.5"
  },
  "toc": {
   "base_numbering": 1,
   "nav_menu": {},
   "number_sections": false,
   "sideBar": true,
   "skip_h1_title": false,
   "title_cell": "Table of Contents",
   "title_sidebar": "Contents",
   "toc_cell": false,
   "toc_position": {
    "height": "calc(100% - 180px)",
    "left": "10px",
    "top": "150px",
    "width": "165px"
   },
   "toc_section_display": true,
   "toc_window_display": true
  }
 },
 "nbformat": 4,
 "nbformat_minor": 1
}
