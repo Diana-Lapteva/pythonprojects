{
 "cells": [
  {
   "cell_type": "markdown",
   "metadata": {
    "id": "u98L9TgH0eMk"
   },
   "source": [
    "# Разработка A/B-тестирования и анализ результатов\n",
    "\n",
    "- Автор: Лаптева Диана\n",
    "- Дата: 02.03.2025"
   ]
  },
  {
   "cell_type": "markdown",
   "metadata": {},
   "source": [
    "## Введение"
   ]
  },
  {
   "cell_type": "markdown",
   "metadata": {},
   "source": [
    "### Заказчик\n",
    "<font color='#777778'> Команда разработчиков рекомендательных систем приложения. </font>"
   ]
  },
  {
   "cell_type": "markdown",
   "metadata": {},
   "source": [
    "### Цель проекта\n",
    "\n",
    "<font color='#777778'> Провести A/B-тестирование нового алгоритма рекомендаций для определения его влияния на улучшение пользовательского опыта и повышение монетизации, а также оценить статистическую значимость изменений в показателях вовлеченности и конверсии между группами пользователей. </font>"
   ]
  },
  {
   "cell_type": "markdown",
   "metadata": {},
   "source": [
    "### Задачи проекта \n",
    "\n",
    "<font color='#777778'>    \n",
    "    \n",
    "- Подготовка к А/В-тесту\n",
    "    \n",
    "- Мониторинг теста\n",
    "    \n",
    "- Анализ результатов\n",
    "\n",
    "- Оценка статистической значимости</font>"
   ]
  },
  {
   "cell_type": "markdown",
   "metadata": {},
   "source": [
    "### Содержимое проекта\n",
    "\n",
    "<font color='#777778'>\n",
    "\n",
    "1.   [Описание данных.](#1-bullet)\n",
    "2.   [Работа с историческими данными.](#2-bullet)\n",
    "3.   [Подготовка к тесту.](#3-bullet)\n",
    "4.   [Мониторинг А/В-теста](#4-bullet)\n",
    "5.   [Проверка результатов A/B-теста](#5-bullet)\n",
    "</font>\n",
    "\n",
    "---"
   ]
  },
  {
   "cell_type": "markdown",
   "metadata": {
    "id": "LJBRALHs0eMf"
   },
   "source": [
    "<a class=\"anchor\" id=\"1-bullet\"></a>\n",
    "## Описание данных\n",
    "\n",
    "Таблицы:\n",
    "\n",
    "- `sessions_project_history.csv` — таблица с историческими данными по сессиям пользователей на период с 2025-08-15 по 2025-09-23. \n",
    "\n",
    "- `sessions_project_test_part.csv` — таблица с данными за первый день проведения A/B-теста, то есть за 2025-10-14. \n",
    "\n",
    "- `sessions_project_test.csv` — таблица с данными за весь период проведения A/B-теста, то есть с 2025-10-14 по 2025-11-02. \n",
    "\n",
    "У этих таблиц совпадает структура и содержание колонок, различаются лишь периоды наблюдения.\n",
    "\n",
    "Поля таблиц `sessions_project_history.csv`, `sessions_project_test.csv`, `sessions_project_test_part.csv`:\n",
    "\n",
    "- `user_id` — идентификатор пользователя;\n",
    "\n",
    "- `session_id` — идентификатор сессии в приложении;\n",
    "\n",
    "- `session_date` — дата сессии;\n",
    "\n",
    "- `session_start_ts` — дата и время начала сессии;\n",
    "\n",
    "- `install_date` — дата установки приложения;\n",
    "\n",
    "- `session_number` — порядковый номер сессии для конкретного пользователя;\n",
    "\n",
    "- `registration_flag` — является ли пользователь зарегистрированным;\n",
    "\n",
    "- `page_counter` — количество просмотренных страниц во время сессии;\n",
    "\n",
    "- `region` — регион пользователя;\n",
    "\n",
    "- `device` — тип устройства пользователя;\n",
    "\n",
    "- `test_group` — тестовая группа (в таблице с историческими данными этого столбца нет)."
   ]
  },
  {
   "cell_type": "markdown",
   "metadata": {
    "id": "UpOucjID0eMl"
   },
   "source": [
    "<a class=\"anchor\" id=\"2-bullet\"></a>\n",
    "### 1. Работа с историческими данными (EDA)"
   ]
  },
  {
   "cell_type": "markdown",
   "metadata": {
    "id": "8iJMtL-30eMl"
   },
   "source": [
    "#### 1.1. Загрузка исторических данных"
   ]
  },
  {
   "cell_type": "code",
   "execution_count": 1,
   "metadata": {
    "id": "6TPR2-1RPboT"
   },
   "outputs": [
    {
     "data": {
      "text/html": [
       "<div>\n",
       "<style scoped>\n",
       "    .dataframe tbody tr th:only-of-type {\n",
       "        vertical-align: middle;\n",
       "    }\n",
       "\n",
       "    .dataframe tbody tr th {\n",
       "        vertical-align: top;\n",
       "    }\n",
       "\n",
       "    .dataframe thead th {\n",
       "        text-align: right;\n",
       "    }\n",
       "</style>\n",
       "<table border=\"1\" class=\"dataframe\">\n",
       "  <thead>\n",
       "    <tr style=\"text-align: right;\">\n",
       "      <th></th>\n",
       "      <th>user_id</th>\n",
       "      <th>session_id</th>\n",
       "      <th>session_date</th>\n",
       "      <th>session_start_ts</th>\n",
       "      <th>install_date</th>\n",
       "      <th>session_number</th>\n",
       "      <th>registration_flag</th>\n",
       "      <th>page_counter</th>\n",
       "      <th>region</th>\n",
       "      <th>device</th>\n",
       "    </tr>\n",
       "  </thead>\n",
       "  <tbody>\n",
       "    <tr>\n",
       "      <th>0</th>\n",
       "      <td>E302123B7000BFE4</td>\n",
       "      <td>F9AF61A0C2023832</td>\n",
       "      <td>2025-08-15</td>\n",
       "      <td>2025-08-15 17:47:35</td>\n",
       "      <td>2025-08-15</td>\n",
       "      <td>1</td>\n",
       "      <td>0</td>\n",
       "      <td>3</td>\n",
       "      <td>CIS</td>\n",
       "      <td>iPhone</td>\n",
       "    </tr>\n",
       "    <tr>\n",
       "      <th>1</th>\n",
       "      <td>2530F72E221829FB</td>\n",
       "      <td>85003A206CBDAC6F</td>\n",
       "      <td>2025-08-15</td>\n",
       "      <td>2025-08-15 16:42:14</td>\n",
       "      <td>2025-08-15</td>\n",
       "      <td>1</td>\n",
       "      <td>0</td>\n",
       "      <td>4</td>\n",
       "      <td>MENA</td>\n",
       "      <td>Android</td>\n",
       "    </tr>\n",
       "    <tr>\n",
       "      <th>2</th>\n",
       "      <td>876E020A4FC512F5</td>\n",
       "      <td>3677423E49D72DEE</td>\n",
       "      <td>2025-08-15</td>\n",
       "      <td>2025-08-15 12:30:00</td>\n",
       "      <td>2025-08-15</td>\n",
       "      <td>1</td>\n",
       "      <td>0</td>\n",
       "      <td>4</td>\n",
       "      <td>EU</td>\n",
       "      <td>PC</td>\n",
       "    </tr>\n",
       "    <tr>\n",
       "      <th>3</th>\n",
       "      <td>2640B349E1D81584</td>\n",
       "      <td>956B45F5915CA225</td>\n",
       "      <td>2025-08-15</td>\n",
       "      <td>2025-08-15 15:31:31</td>\n",
       "      <td>2025-08-15</td>\n",
       "      <td>1</td>\n",
       "      <td>0</td>\n",
       "      <td>4</td>\n",
       "      <td>CIS</td>\n",
       "      <td>Android</td>\n",
       "    </tr>\n",
       "    <tr>\n",
       "      <th>4</th>\n",
       "      <td>94E1CBFAEF1F5EE9</td>\n",
       "      <td>83BF0DA35F9F1F40</td>\n",
       "      <td>2025-08-15</td>\n",
       "      <td>2025-08-15 21:33:53</td>\n",
       "      <td>2025-08-15</td>\n",
       "      <td>1</td>\n",
       "      <td>0</td>\n",
       "      <td>3</td>\n",
       "      <td>CIS</td>\n",
       "      <td>Android</td>\n",
       "    </tr>\n",
       "  </tbody>\n",
       "</table>\n",
       "</div>"
      ],
      "text/plain": [
       "            user_id        session_id session_date     session_start_ts  \\\n",
       "0  E302123B7000BFE4  F9AF61A0C2023832   2025-08-15  2025-08-15 17:47:35   \n",
       "1  2530F72E221829FB  85003A206CBDAC6F   2025-08-15  2025-08-15 16:42:14   \n",
       "2  876E020A4FC512F5  3677423E49D72DEE   2025-08-15  2025-08-15 12:30:00   \n",
       "3  2640B349E1D81584  956B45F5915CA225   2025-08-15  2025-08-15 15:31:31   \n",
       "4  94E1CBFAEF1F5EE9  83BF0DA35F9F1F40   2025-08-15  2025-08-15 21:33:53   \n",
       "\n",
       "  install_date  session_number  registration_flag  page_counter region  \\\n",
       "0   2025-08-15               1                  0             3    CIS   \n",
       "1   2025-08-15               1                  0             4   MENA   \n",
       "2   2025-08-15               1                  0             4     EU   \n",
       "3   2025-08-15               1                  0             4    CIS   \n",
       "4   2025-08-15               1                  0             3    CIS   \n",
       "\n",
       "    device  \n",
       "0   iPhone  \n",
       "1  Android  \n",
       "2       PC  \n",
       "3  Android  \n",
       "4  Android  "
      ]
     },
     "execution_count": 1,
     "metadata": {},
     "output_type": "execute_result"
    }
   ],
   "source": [
    "# Импорт библиотеки\n",
    "import pandas as pd\n",
    "\n",
    "# Выгрузим датафрейм\n",
    "sessions_history = pd.read_csv('https://code.s3.yandex.net/datasets/sessions_project_history.csv')\n",
    "\n",
    "# Выведем первые 5 строк\n",
    "sessions_history.head(5)"
   ]
  },
  {
   "cell_type": "markdown",
   "metadata": {
    "id": "qTDoiODz0eMo"
   },
   "source": [
    "#### 1.2. Знакомство с данными"
   ]
  },
  {
   "cell_type": "code",
   "execution_count": 2,
   "metadata": {
    "id": "PWZO9vTIPbPN"
   },
   "outputs": [
    {
     "name": "stdout",
     "output_type": "stream",
     "text": [
      "Количество уникальных сессий: \n",
      " user_id\n",
      "00005FB6A13A6FBE    2\n",
      "0000B15A18D77ED9    3\n",
      "0000C4E3A4A571A9    2\n",
      "000293FAF9E67A81    4\n",
      "00029C5AE889A6C3    2\n",
      "                   ..\n",
      "FFFCDE7746148710    4\n",
      "FFFDD413285E753F    3\n",
      "FFFECBA0F2578AB0    2\n",
      "FFFEDB68228B5F21    5\n",
      "FFFF4228DF580C3B    3\n",
      "Name: session_id, Length: 134039, dtype: int64\n",
      "Пользователь 10E0DEFC1ABDBBE0 имеет наибольшее число сессий, равное 10\n",
      "Все данные по пользователю 10E0DEFC1ABDBBE0: \n",
      "                  user_id        session_id session_date     session_start_ts  \\\n",
      "115558  10E0DEFC1ABDBBE0  B8F0423BBFFCF5DC   2025-08-14  2025-08-14 13:57:39   \n",
      "191751  10E0DEFC1ABDBBE0  87CA2FA549473837   2025-08-15  2025-08-15 16:42:10   \n",
      "239370  10E0DEFC1ABDBBE0  4ADD8011DCDCE318   2025-08-16  2025-08-16 19:53:21   \n",
      "274629  10E0DEFC1ABDBBE0  DF0FD0E09BF1F3D7   2025-08-17  2025-08-17 15:03:43   \n",
      "302501  10E0DEFC1ABDBBE0  3C221774B4DE6885   2025-08-18  2025-08-18 17:29:14   \n",
      "325557  10E0DEFC1ABDBBE0  031BD7A67048105B   2025-08-19  2025-08-19 13:23:55   \n",
      "345336  10E0DEFC1ABDBBE0  FF4315CF4AD4B100   2025-08-20  2025-08-20 19:31:54   \n",
      "377532  10E0DEFC1ABDBBE0  4045FEA0747203B4   2025-08-22  2025-08-22 17:54:13   \n",
      "403538  10E0DEFC1ABDBBE0  344B086C421C7F37   2025-08-24  2025-08-24 14:46:13   \n",
      "414743  10E0DEFC1ABDBBE0  054F20BA371E4C9D   2025-08-25  2025-08-25 18:36:41   \n",
      "\n",
      "       install_date  session_number  registration_flag  page_counter region  \\\n",
      "115558   2025-08-14               1                  0             4    CIS   \n",
      "191751   2025-08-14               2                  0             3    CIS   \n",
      "239370   2025-08-14               3                  0             3    CIS   \n",
      "274629   2025-08-14               4                  0             1    CIS   \n",
      "302501   2025-08-14               5                  0             4    CIS   \n",
      "325557   2025-08-14               6                  0             2    CIS   \n",
      "345336   2025-08-14               7                  0             2    CIS   \n",
      "377532   2025-08-14               8                  0             2    CIS   \n",
      "403538   2025-08-14               9                  0             2    CIS   \n",
      "414743   2025-08-14              10                  0             3    CIS   \n",
      "\n",
      "         device  \n",
      "115558  Android  \n",
      "191751  Android  \n",
      "239370  Android  \n",
      "274629  Android  \n",
      "302501  Android  \n",
      "325557  Android  \n",
      "345336  Android  \n",
      "377532  Android  \n",
      "403538  Android  \n",
      "414743  Android  \n"
     ]
    }
   ],
   "source": [
    "# Подсчет количества уникальных сессий для каждого пользователя\n",
    "user_session_counts = sessions_history.groupby(\"user_id\")[\"session_id\"].nunique()\n",
    "\n",
    "# Определение пользователя с наибольшим числом сессий\n",
    "max_sessions_user = user_session_counts.idxmax()\n",
    "max_sessions_count = user_session_counts.max()\n",
    "\n",
    "# Выбор всех данных по этому пользователю\n",
    "user_data = sessions_history[sessions_history[\"user_id\"] == max_sessions_user]\n",
    "\n",
    "print(f'Количество уникальных сессий: \\n {user_session_counts}')\n",
    "print(f'Пользователь {max_sessions_user} имеет наибольшее число сессий, равное {max_sessions_count}')\n",
    "print(f'Все данные по пользователю {max_sessions_user}: \\n {user_data}')"
   ]
  },
  {
   "cell_type": "markdown",
   "metadata": {
    "id": "CmcGpJTP0eMq"
   },
   "source": [
    "#### 1.3. Анализ числа регистраций"
   ]
  },
  {
   "cell_type": "code",
   "execution_count": 3,
   "metadata": {
    "id": "tN_6Ml3EPatS"
   },
   "outputs": [
    {
     "data": {
      "image/png": "[encoded data removed]",
      "text/plain": [
       "<Figure size 864x720 with 1 Axes>"
      ]
     },
     "metadata": {
      "needs_background": "light"
     },
     "output_type": "display_data"
    },
    {
     "data": {
      "image/png": "[encoded data removed]",
      "text/plain": [
       "<Figure size 864x360 with 1 Axes>"
      ]
     },
     "metadata": {
      "needs_background": "light"
     },
     "output_type": "display_data"
    }
   ],
   "source": [
    "# Импорт библиотеки для визуализации данных\n",
    "import matplotlib.pyplot as plt\n",
    "\n",
    "# Приведем столбцы с датами к виду (YYYY-MM-DD)\n",
    "sessions_history['session_start_ts'] = pd.to_datetime(sessions_history['session_start_ts']).dt.date\n",
    "sessions_history['session_date'] = pd.to_datetime(sessions_history['session_date'])\n",
    "sessions_history['install_date'] = pd.to_datetime(sessions_history['install_date'])\n",
    "\n",
    "# Агрегирование данных по дням\n",
    "registrations_by_day = sessions_history.groupby('session_date').agg(\n",
    "    total_users=('user_id', 'nunique'),\n",
    "    registered_users=('registration_flag', 'sum')\n",
    ").reset_index()\n",
    "\n",
    "# Доли зарегистрированных пользователей\n",
    "registrations_by_day['registration_ratio'] = (\n",
    "    registrations_by_day['registered_users'] / registrations_by_day['total_users']\n",
    ")\n",
    "\n",
    "# Определение осей\n",
    "x_1, y_1, y_2 = registrations_by_day['session_date'], registrations_by_day['total_users'], registrations_by_day['registered_users']\n",
    "x_2, y_3 = registrations_by_day['session_date'], registrations_by_day['registration_ratio']\n",
    "\n",
    "# Визуализация\n",
    "plt.figure(figsize=(12, 10))\n",
    "\n",
    "# График общего числа пользователей и зарегистрированных пользователей\n",
    "plt.plot(x_1, y_1, label='Всего пользователей', marker='o')\n",
    "plt.plot(x_1, y_2, label='Зарегистрированные пользователи', marker='s')\n",
    "plt.title('Число пользователей и зарегистрированных пользователей по дням')\n",
    "plt.xlabel('Дата')\n",
    "plt.ylabel('Количество пользователей')\n",
    "plt.legend()\n",
    "plt.grid()\n",
    "plt.show()\n",
    "\n",
    "# График доли зарегистрированных пользователей\n",
    "plt.figure(figsize=(12, 5))\n",
    "plt.plot(x_2, y_3, label='Доля зарегистрированных', color='r', marker='^')\n",
    "plt.title('Доля зарегистрированных пользователей по дням')\n",
    "plt.xlabel('Дата')\n",
    "plt.ylabel('Доля зарегистрированных пользователей')\n",
    "plt.legend()\n",
    "plt.grid()\n",
    "plt.show()"
   ]
  },
  {
   "cell_type": "markdown",
   "metadata": {},
   "source": [
    "**Вывод**\n",
    "\n",
    "График \"Общее число пользователей и зарегистрированных пользователей\":\n",
    "\n",
    "- Число пользователей имело пик в начале периода (22 августа 2025 года), после чего оставалось относительно стабильным, но с небольшими колебаниями.\n",
    "- После 15 сентября 2025 года количество пользователей начало резко снижаться, что может быть связано с окончанием рекламной кампании, сезонностью или техническими изменениями в продукте.\n",
    "\n",
    "График \"Доля зарегистрированных пользователей\":\n",
    "\n",
    "- Доля зарегистрированных пользователей постепенно увеличивается.  В начале периода она составляла менее 5%, а к концу периода выросла до более чем 10%."
   ]
  },
  {
   "cell_type": "markdown",
   "metadata": {
    "id": "UR7D7RhF0eMr"
   },
   "source": [
    "#### 1.4. Анализ числа просмотренных страниц"
   ]
  },
  {
   "cell_type": "code",
   "execution_count": 4,
   "metadata": {
    "id": "cb6hPlVzPaSf"
   },
   "outputs": [
    {
     "data": {
      "image/png": "[encoded data removed]",
      "text/plain": [
       "<Figure size 864x432 with 1 Axes>"
      ]
     },
     "metadata": {
      "needs_background": "light"
     },
     "output_type": "display_data"
    }
   ],
   "source": [
    "# Анализ числа просмотренных страниц\n",
    "page_views_counts = sessions_history['page_counter'].value_counts().sort_index()\n",
    "\n",
    "# Визуализация\n",
    "\n",
    "plt.figure(figsize=(12, 6))\n",
    "plt.bar(page_views_counts.index, page_views_counts.values)\n",
    "plt.title('Распределение количества просмотренных страниц')\n",
    "plt.xlabel('Число просмотренных страниц')\n",
    "plt.ylabel('Количество сессий')\n",
    "plt.grid(axis='y')\n",
    "plt.show()"
   ]
  },
  {
   "cell_type": "markdown",
   "metadata": {},
   "source": [
    "**Вывод**\n",
    "\n",
    "- Наибольшее число сессий приходится на 3 просмотренные страницы – более 160 000 сессий.\n",
    "\n",
    "- После 4 просмотров количество сессий заметно падает."
   ]
  },
  {
   "cell_type": "markdown",
   "metadata": {
    "id": "xDltSpVP0eMr"
   },
   "source": [
    "#### 1.5. Доля пользователей, просмотревших более четырёх страниц\n",
    "Продуктовая команда продукта считает, что сессии, в рамках которых пользователь просмотрел 4 и более страниц, говорят об удовлетворённости контентом и алгоритмами рекомендаций. Этот показатель является важной прокси-метрикой для продукта."
   ]
  },
  {
   "cell_type": "code",
   "execution_count": 5,
   "metadata": {
    "id": "iygaPfixPYMW"
   },
   "outputs": [
    {
     "data": {
      "image/png": "[encoded data removed]",
      "text/plain": [
       "<Figure size 864x360 with 1 Axes>"
      ]
     },
     "metadata": {
      "needs_background": "light"
     },
     "output_type": "display_data"
    }
   ],
   "source": [
    "# Столбец good_session\n",
    "sessions_history['good_session'] = (sessions_history['page_counter'] >= 4).astype(int)\n",
    "\n",
    "# Агрегация данных по дням\n",
    "good_sessions_by_day = sessions_history.groupby('session_date')['good_session'].mean().reset_index()\n",
    "\n",
    "# Визуализация\n",
    "plt.figure(figsize=(12, 5))\n",
    "plt.plot(good_sessions_by_day['session_date'], \n",
    "         good_sessions_by_day['good_session'], \n",
    "         label='Доля успешных сессий',  \n",
    "         marker='o')\n",
    "plt.title('Средняя доля успешных сессий по дням')\n",
    "plt.xlabel('Дата')\n",
    "plt.ylabel('Доля успешных сессий')\n",
    "plt.legend()\n",
    "plt.grid()\n",
    "plt.show()"
   ]
  },
  {
   "cell_type": "markdown",
   "metadata": {},
   "source": [
    "**Вывод**\n",
    "\n",
    "- Общий тренд стабилен, но с колебаниями – на протяжении периода наблюдается средняя доля успешных сессий около 0.305–0.315.\n",
    "\n",
    "- После 15 сентября наблюдаются резкие колебания, вплоть до падения ниже 0.29 и последующего подъема выше 0.315."
   ]
  },
  {
   "cell_type": "markdown",
   "metadata": {},
   "source": [
    "**Вывод**\n",
    "\n",
    "- Исходя из загруженного датафрейма `sessions_history`, каждый пользователь может иметь несколько сессий. Количество сессий на пользователя варьируется.\n",
    "\n",
    "- Найден пользователь с наибольшим числом сессий (10 сессий). Все его сессии зарегистрированы с одного устройства (Android) и происходят из одного региона (CIS).\n",
    "\n",
    "- Число зарегистрированных пользователей оставалось относительно стабильным на протяжении всего периода, без сильных всплесков или падений.\n",
    "\n",
    "- Доля зарегистрированных пользователей постепенно увеличивается. \n",
    "\n",
    "- Сессии чаще всего останавливаются на 3 просмотренных страницах.\n",
    "\n",
    "- Примерно 30–32% сессий заканчиваются просмотром 4 и более страниц."
   ]
  },
  {
   "cell_type": "markdown",
   "metadata": {
    "id": "21JcG77Y0eMt"
   },
   "source": [
    "<a class=\"anchor\" id=\"3-bullet\"></a>\n",
    "### 2. Подготовка к тесту"
   ]
  },
  {
   "cell_type": "markdown",
   "metadata": {},
   "source": [
    "В данном тесте целевой метрикой, вероятнее всего, является конверсия в регистрацию. Именно она позволит оценить, насколько изменения в продукте или интерфейсе влияют на желание пользователей регистрироваться."
   ]
  },
  {
   "cell_type": "markdown",
   "metadata": {
    "id": "uzaeln270eMt"
   },
   "source": [
    "#### 2.1. Расчёт размера выборки\n",
    "Параметры:\n",
    "\n",
    "- Уровень значимости — 0.05.\n",
    "\n",
    "- Вероятность ошибки второго рода — 0.2.\n",
    "\n",
    "- Мощность теста.\n",
    "\n",
    "- Минимальный детектируемый эффект, или MDE, — 3%. Обратите внимание, что здесь нужно указать десятичную дробь, а не процент.\n",
    "\n",
    "При расчёте размера выборки мы будем использовать метод `solve_power()` из класса `power.NormalIndPower` модуля `statsmodels.stats`."
   ]
  },
  {
   "cell_type": "code",
   "execution_count": 6,
   "metadata": {
    "id": "zSxJyPGPNdaI"
   },
   "outputs": [
    {
     "name": "stdout",
     "output_type": "stream",
     "text": [
      "Необходимый размер выборки для каждой группы: 17441\n"
     ]
    }
   ],
   "source": [
    "from statsmodels.stats.power import NormalIndPower\n",
    "\n",
    "# Задаём параметры\n",
    "alpha = 0.05  # Уровень значимости\n",
    "beta = 0.2  # Ошибка второго рода, часто 1 - мощность\n",
    "power = 1 - beta  # Мощность теста\n",
    "mde = 0.03 # Минимальный детектируемый эффект\n",
    "\n",
    "# Инициализируем класс NormalIndPower\n",
    "power_analysis = NormalIndPower()\n",
    "\n",
    "# Рассчитываем размер выборки\n",
    "sample_size = power_analysis.solve_power(\n",
    "    effect_size = mde,\n",
    "    power = power,\n",
    "    alpha = alpha,\n",
    "    ratio = 1 # Равномерное распределение выборок\n",
    ")\n",
    "\n",
    "print(f'Необходимый размер выборки для каждой группы: {int(sample_size)}')"
   ]
  },
  {
   "cell_type": "markdown",
   "metadata": {
    "id": "qLEv4RoV0eMu"
   },
   "source": [
    "#### 2.2. Расчёт длительности A/B-тестав"
   ]
  },
  {
   "cell_type": "code",
   "execution_count": 7,
   "metadata": {
    "id": "KZDRbryDOGHa"
   },
   "outputs": [
    {
     "name": "stdout",
     "output_type": "stream",
     "text": [
      "Рассчитанная длительность A/B-теста при текущем уровне трафика в 9908 пользователей в день составит 4 дней\n"
     ]
    }
   ],
   "source": [
    "from math import ceil\n",
    "\n",
    "# Среднее количество пользователей приложения в день по историческим данным\n",
    "avg_daily_users = ceil(sessions_history.groupby('session_date')['user_id'].nunique().mean())\n",
    "\n",
    "# Рассчитываем длительность теста в днях как отношение размера выборки к среднему числу пользователей\n",
    "test_duration = ceil(2 * sample_size / avg_daily_users)\n",
    "\n",
    "print(f'Рассчитанная длительность A/B-теста при текущем уровне трафика в {avg_daily_users} пользователей в день составит {test_duration} дней')"
   ]
  },
  {
   "cell_type": "markdown",
   "metadata": {},
   "source": [
    "**Вывод**\n",
    "\n",
    "- Каждая группа должна содержать 17 441 пользователя, чтобы тест обладал достаточной статистической силой для выявления значимого эффекта.\n",
    "\n",
    "- Средний дневной трафик приложения составляет 9 908 уникальных пользователей.\n",
    "\n",
    "- Длительность A/B-теста составляет 4 дня."
   ]
  },
  {
   "cell_type": "markdown",
   "metadata": {
    "id": "ZuvtAdha0eMv"
   },
   "source": [
    "<a class=\"anchor\" id=\"4-bullet\"></a>\n",
    "### 3. Мониторинг А/В-теста"
   ]
  },
  {
   "cell_type": "markdown",
   "metadata": {
    "id": "jq5sE3Ya0eMv"
   },
   "source": [
    "#### 3.1. Проверка распределения пользователей\n",
    "\n",
    "A/B-тест успешно запущен, и уже доступны данные за первые три дня. На этом этапе нужно убедиться, что всё идёт хорошо: пользователи разделены правильным образом, а интересующие вас метрики корректно считаются."
   ]
  },
  {
   "cell_type": "code",
   "execution_count": 8,
   "metadata": {
    "id": "G1bqIzDJOUiz"
   },
   "outputs": [
    {
     "name": "stdout",
     "output_type": "stream",
     "text": [
      "Процентная разница в количестве пользователей между группами A и B: 0.74%\n"
     ]
    },
    {
     "data": {
      "image/png": "[encoded data removed]",
      "text/plain": [
       "<Figure size 576x432 with 1 Axes>"
      ]
     },
     "metadata": {},
     "output_type": "display_data"
    }
   ],
   "source": [
    "# Загрузка данных\n",
    "sessions_test_part = pd.read_csv('https://code.s3.yandex.net/datasets/sessions_project_test_part.csv')\n",
    "\n",
    "# Подсчёт уникальных пользователей в каждой группе\n",
    "user_counts = sessions_test_part.groupby(['session_date', 'test_group'])['user_id'].nunique().unstack()\n",
    "\n",
    "# Расчёт процентной разницы\n",
    "A_users = user_counts['A'].sum()\n",
    "B_users = user_counts['B'].sum()\n",
    "percent_diff = 100 * abs(A_users - B_users) / A_users\n",
    "\n",
    "print(f'Процентная разница в количестве пользователей между группами A и B: {percent_diff:.2f}%')\n",
    "\n",
    "# Визуализация\n",
    "plt.figure(figsize=(8, 6))\n",
    "plt.pie([A_users, B_users], \n",
    "        labels=['A', 'B'], \n",
    "        autopct='%1.1f%%', \n",
    "        colors=['blue', 'orange'])\n",
    "plt.title('Распределение пользователей по экспериментальным группам')\n",
    "plt.show()"
   ]
  },
  {
   "cell_type": "markdown",
   "metadata": {},
   "source": [
    "**Вывод**\n",
    "\n",
    "Сильных различий в количестве пользователей нет. Группы сформированы корректно."
   ]
  },
  {
   "cell_type": "markdown",
   "metadata": {
    "id": "sgpNY5bv0eM0"
   },
   "source": [
    "#### 3.2. Проверка пересечений пользователей"
   ]
  },
  {
   "cell_type": "code",
   "execution_count": 9,
   "metadata": {
    "id": "E72ozN9FOX1u"
   },
   "outputs": [
    {
     "name": "stdout",
     "output_type": "stream",
     "text": [
      "Количество пользователей, попавших в обе группы: 0\n"
     ]
    }
   ],
   "source": [
    "# Проверка пересечений пользователей\n",
    "intersect_users = set(sessions_test_part[sessions_test_part['test_group'] == 'A']['user_id']).intersection(\n",
    "    set(sessions_test_part[sessions_test_part['test_group'] == 'B']['user_id'])\n",
    ")\n",
    "\n",
    "print(f'Количество пользователей, попавших в обе группы: {len(intersect_users)}')"
   ]
  },
  {
   "cell_type": "markdown",
   "metadata": {
    "id": "6RvkNLrg0eM1"
   },
   "source": [
    "#### 3.3. Равномерность разделения пользователей по устройствам"
   ]
  },
  {
   "cell_type": "code",
   "execution_count": 10,
   "metadata": {
    "id": "x_IP6PUNPWHC"
   },
   "outputs": [
    {
     "data": {
      "image/png": "[encoded data removed]",
      "text/plain": [
       "<Figure size 432x432 with 1 Axes>"
      ]
     },
     "metadata": {},
     "output_type": "display_data"
    },
    {
     "data": {
      "image/png": "[encoded data removed]",
      "text/plain": [
       "<Figure size 432x432 with 1 Axes>"
      ]
     },
     "metadata": {},
     "output_type": "display_data"
    }
   ],
   "source": [
    "# Количество пользователей по устройствам в каждой группе\n",
    "device_counts = sessions_test_part.groupby(['test_group', 'device'])['user_id'].nunique().reset_index()\n",
    "\n",
    "# График для группы A\n",
    "device_counts_A = device_counts[device_counts['test_group'] == 'A']\n",
    "plt.figure(figsize=(6, 6))\n",
    "plt.pie(device_counts_A['user_id'], \n",
    "        labels=device_counts_A['device'], \n",
    "        autopct='%1.1f%%')\n",
    "plt.title('Распределение пользователей по устройствам (Группа A)')\n",
    "plt.show()\n",
    "\n",
    "# График для группы B\n",
    "device_counts_B = device_counts[device_counts['test_group'] == 'B']\n",
    "plt.figure(figsize=(6, 6))\n",
    "plt.pie(device_counts_B['user_id'], \n",
    "        labels=device_counts_B['device'], \n",
    "        autopct='%1.1f%%')\n",
    "plt.title('Распределение пользователей по устройствам (Группа B)')\n",
    "plt.show()"
   ]
  },
  {
   "cell_type": "markdown",
   "metadata": {},
   "source": [
    "**Вывод**\n",
    "\n",
    "В группе А и в группе В каждый тип устройства популярен приблизительно одинаково. Чаще всего пользователи используют Android, реже всего - Mac."
   ]
  },
  {
   "cell_type": "markdown",
   "metadata": {
    "id": "gAgmP6vo0eM1"
   },
   "source": [
    "#### 3.4. Равномерность распределения пользователей по регионам"
   ]
  },
  {
   "cell_type": "code",
   "execution_count": 11,
   "metadata": {
    "id": "3hAq-FG4OdYM"
   },
   "outputs": [
    {
     "data": {
      "image/png": "[encoded data removed]",
      "text/plain": [
       "<Figure size 1008x432 with 2 Axes>"
      ]
     },
     "metadata": {},
     "output_type": "display_data"
    }
   ],
   "source": [
    "# Подсчёт уникальных пользователей в каждой группе\n",
    "user_counts = sessions_test_part.groupby(['test_group', 'region'])['user_id'].nunique().unstack()\n",
    "\n",
    "fig, axes = plt.subplots(1, 2, figsize=(14, 6))\n",
    "\n",
    "# Визуализация для группы A\n",
    "user_counts.loc['A'].plot(kind='pie', \n",
    "                          autopct='%1.1f%%', \n",
    "                          ax=axes[0])\n",
    "axes[0].set_title('Распределение пользователей по регионам (Группа A)')\n",
    "axes[0].set_ylabel('')\n",
    "\n",
    "# Визуализация для группы B\n",
    "user_counts.loc['B'].plot(kind='pie', \n",
    "                          autopct='%1.1f%%', \n",
    "                          ax=axes[1])\n",
    "axes[1].set_title('Распределение пользователей по регионам (Группа B)')\n",
    "axes[1].set_ylabel('')\n",
    "\n",
    "plt.show()"
   ]
  },
  {
   "cell_type": "markdown",
   "metadata": {},
   "source": [
    "**Вывод**\n",
    "\n",
    "В каждой группе пользователи распределены примерно одинаково."
   ]
  },
  {
   "cell_type": "markdown",
   "metadata": {
    "id": "X2WSZ-sDrSUi"
   },
   "source": [
    "#### 3.5. Вывод после проверки A/B-теста"
   ]
  },
  {
   "cell_type": "markdown",
   "metadata": {
    "id": "dDELHlAcOi8d"
   },
   "source": [
    "**Вывод**\n",
    "\n",
    "A/B-тест проходит корректно, так как:\n",
    "\n",
    "- Процентная разница в количестве пользователей между группами A и B составляет всего 0.74%, что свидетельствует о практически равномерном распределении пользователей между группами.\n",
    "\n",
    "- Пересечений между группами А и В нет.\n",
    "\n",
    "- В группах A и B распределение пользователей по типам устройств примерно одинаково.\n",
    "\n",
    "- Распределение пользователей по регионам также одинаково в обеих группах, с небольшими вариациями."
   ]
  },
  {
   "cell_type": "markdown",
   "metadata": {
    "id": "nudRr_BQ0eM2"
   },
   "source": [
    "<a class=\"anchor\" id=\"5-bullet\"></a>\n",
    "### 4. Проверка результатов A/B-теста\n",
    "\n",
    "A/B-тест завершён, и у вас есть результаты за все дни проведения эксперимента. Необходимо убедиться в корректности теста и верно интерпретировать результаты."
   ]
  },
  {
   "cell_type": "markdown",
   "metadata": {},
   "source": [
    "**Целевая метрика:** доля успешных сессий (good_session)\n",
    "\n",
    "**Нулевая гипотеза $(Н_0)$:** новый алгоритм рекомендаций не изменяет долю успешных сессий\n",
    "\n",
    "**Альтернативная гипотеза $(Н_1)$:** новый алгоритм рекомендаций увеличивает долю успешных сессий\n",
    "\n",
    "$\\begin{equation*}\n",
    " \\begin{cases}\n",
    "   H_0 :\\text{различий в конверсии между группами нет}\\\\\n",
    "   H_1 :\\text{различия в конверсии между группами есть}\n",
    " \\end{cases}\n",
    "\\end{equation*}$\n",
    "\n",
    "Уровень значимости: $\\alpha = 0.05$ "
   ]
  },
  {
   "cell_type": "markdown",
   "metadata": {
    "id": "JVve-YBB0eM2"
   },
   "source": [
    "#### 4.1. Получение результатов теста и подсчёт основной метрики"
   ]
  },
  {
   "cell_type": "code",
   "execution_count": 12,
   "metadata": {
    "id": "EqRlwMtKPTir"
   },
   "outputs": [
    {
     "data": {
      "text/html": [
       "<div>\n",
       "<style scoped>\n",
       "    .dataframe tbody tr th:only-of-type {\n",
       "        vertical-align: middle;\n",
       "    }\n",
       "\n",
       "    .dataframe tbody tr th {\n",
       "        vertical-align: top;\n",
       "    }\n",
       "\n",
       "    .dataframe thead th {\n",
       "        text-align: right;\n",
       "    }\n",
       "</style>\n",
       "<table border=\"1\" class=\"dataframe\">\n",
       "  <thead>\n",
       "    <tr style=\"text-align: right;\">\n",
       "      <th></th>\n",
       "      <th>user_id</th>\n",
       "      <th>session_id</th>\n",
       "      <th>session_date</th>\n",
       "      <th>session_start_ts</th>\n",
       "      <th>install_date</th>\n",
       "      <th>session_number</th>\n",
       "      <th>registration_flag</th>\n",
       "      <th>page_counter</th>\n",
       "      <th>region</th>\n",
       "      <th>device</th>\n",
       "      <th>test_group</th>\n",
       "      <th>good_session</th>\n",
       "    </tr>\n",
       "  </thead>\n",
       "  <tbody>\n",
       "    <tr>\n",
       "      <th>0</th>\n",
       "      <td>6DAE3B3654DA738E</td>\n",
       "      <td>C69249E26E58F6E2</td>\n",
       "      <td>2025-10-26</td>\n",
       "      <td>2025-10-26</td>\n",
       "      <td>2025-10-16</td>\n",
       "      <td>3</td>\n",
       "      <td>0</td>\n",
       "      <td>3</td>\n",
       "      <td>MENA</td>\n",
       "      <td>Android</td>\n",
       "      <td>A</td>\n",
       "      <td>0</td>\n",
       "    </tr>\n",
       "    <tr>\n",
       "      <th>1</th>\n",
       "      <td>0A3FE5D1DD59110A</td>\n",
       "      <td>66D66D7C9F5181B7</td>\n",
       "      <td>2025-10-21</td>\n",
       "      <td>2025-10-21</td>\n",
       "      <td>2025-10-15</td>\n",
       "      <td>2</td>\n",
       "      <td>1</td>\n",
       "      <td>2</td>\n",
       "      <td>CIS</td>\n",
       "      <td>Android</td>\n",
       "      <td>B</td>\n",
       "      <td>0</td>\n",
       "    </tr>\n",
       "    <tr>\n",
       "      <th>2</th>\n",
       "      <td>2041F1D7AA740B88</td>\n",
       "      <td>50DE51D42215E74C</td>\n",
       "      <td>2025-10-23</td>\n",
       "      <td>2025-10-23</td>\n",
       "      <td>2025-10-19</td>\n",
       "      <td>3</td>\n",
       "      <td>0</td>\n",
       "      <td>2</td>\n",
       "      <td>MENA</td>\n",
       "      <td>Android</td>\n",
       "      <td>A</td>\n",
       "      <td>0</td>\n",
       "    </tr>\n",
       "    <tr>\n",
       "      <th>3</th>\n",
       "      <td>43D7585009168086</td>\n",
       "      <td>5763C0C353C22263</td>\n",
       "      <td>2025-10-24</td>\n",
       "      <td>2025-10-24</td>\n",
       "      <td>2025-10-18</td>\n",
       "      <td>4</td>\n",
       "      <td>0</td>\n",
       "      <td>1</td>\n",
       "      <td>CIS</td>\n",
       "      <td>iPhone</td>\n",
       "      <td>B</td>\n",
       "      <td>0</td>\n",
       "    </tr>\n",
       "    <tr>\n",
       "      <th>4</th>\n",
       "      <td>15AD68B14D62D88C</td>\n",
       "      <td>B1AD09F93C1053BC</td>\n",
       "      <td>2025-10-17</td>\n",
       "      <td>2025-10-17</td>\n",
       "      <td>2025-10-17</td>\n",
       "      <td>1</td>\n",
       "      <td>0</td>\n",
       "      <td>2</td>\n",
       "      <td>MENA</td>\n",
       "      <td>Android</td>\n",
       "      <td>B</td>\n",
       "      <td>0</td>\n",
       "    </tr>\n",
       "  </tbody>\n",
       "</table>\n",
       "</div>"
      ],
      "text/plain": [
       "            user_id        session_id session_date session_start_ts  \\\n",
       "0  6DAE3B3654DA738E  C69249E26E58F6E2   2025-10-26       2025-10-26   \n",
       "1  0A3FE5D1DD59110A  66D66D7C9F5181B7   2025-10-21       2025-10-21   \n",
       "2  2041F1D7AA740B88  50DE51D42215E74C   2025-10-23       2025-10-23   \n",
       "3  43D7585009168086  5763C0C353C22263   2025-10-24       2025-10-24   \n",
       "4  15AD68B14D62D88C  B1AD09F93C1053BC   2025-10-17       2025-10-17   \n",
       "\n",
       "  install_date  session_number  registration_flag  page_counter region  \\\n",
       "0   2025-10-16               3                  0             3   MENA   \n",
       "1   2025-10-15               2                  1             2    CIS   \n",
       "2   2025-10-19               3                  0             2   MENA   \n",
       "3   2025-10-18               4                  0             1    CIS   \n",
       "4   2025-10-17               1                  0             2   MENA   \n",
       "\n",
       "    device test_group  good_session  \n",
       "0  Android          A             0  \n",
       "1  Android          B             0  \n",
       "2  Android          A             0  \n",
       "3   iPhone          B             0  \n",
       "4  Android          B             0  "
      ]
     },
     "execution_count": 12,
     "metadata": {},
     "output_type": "execute_result"
    }
   ],
   "source": [
    "# Загрузка\n",
    "sessions_test = pd.read_csv('https://code.s3.yandex.net/datasets/sessions_project_test.csv')\n",
    "\n",
    "# Приведем столбцы с датами к виду (YYYY-MM-DD)\n",
    "sessions_test['session_start_ts'] = pd.to_datetime(sessions_test['session_start_ts']).dt.date\n",
    "sessions_test['session_date'] = pd.to_datetime(sessions_test['session_date'])\n",
    "sessions_test['install_date'] = pd.to_datetime(sessions_test['install_date'])\n",
    "\n",
    "# Столбец good_session\n",
    "sessions_test['good_session'] = (sessions_test['page_counter'] >= 4).astype(int)\n",
    "\n",
    "# Выведем первые 5 строк\n",
    "sessions_test.head(5)"
   ]
  },
  {
   "cell_type": "markdown",
   "metadata": {
    "id": "aeYhrMYy0eM2"
   },
   "source": [
    "#### 4.2. Проверка корректности результатов теста"
   ]
  },
  {
   "cell_type": "markdown",
   "metadata": {},
   "source": [
    "**Нулевая гипотеза $(Н_0)$:** среднее количество сессий в день в группах A и B одинаково.\n",
    "\n",
    "**Альтернативная гипотеза $(Н_1)$:** среднее количество сессий в день в группах A и B различается.\n",
    "\n",
    "$\\begin{equation*}\n",
    " \\begin{cases}\n",
    "   H_0 :\\text{различий в среднем количестве сессий между группами нет}\\\\\n",
    "   H_1 :\\text{различия в среднем количестве сессий между группами есть}\n",
    " \\end{cases}\n",
    "\\end{equation*}$\n",
    "\n",
    "Уровень значимости: $\\alpha = 0.05$ "
   ]
  },
  {
   "cell_type": "code",
   "execution_count": 13,
   "metadata": {
    "id": "5NUlcltkTTSU"
   },
   "outputs": [
    {
     "name": "stdout",
     "output_type": "stream",
     "text": [
      "Среднее количество сессий в день для группы A: 2477.55\n",
      "Среднее количество сессий в день для группы B: 2522.70\n",
      "p-value=0.9382 > 0.05\n",
      "Не получилось отвергнуть нулевую гипотезу: среднее количество сессий в день в группах не различается.\n"
     ]
    }
   ],
   "source": [
    "from scipy.stats import ttest_ind\n",
    "\n",
    "# Уникальные сессии по дням и группам\n",
    "daily_sessions = sessions_test.groupby(['session_date', 'test_group'])['session_id'].nunique().unstack()\n",
    "\n",
    "mean_a = daily_sessions['A'].mean()\n",
    "mean_b = daily_sessions['B'].mean()\n",
    "\n",
    "stat_test = ttest_ind(daily_sessions['A'], \n",
    "                      daily_sessions['B'], \n",
    "                      alternative='two-sided')\n",
    "\n",
    "alpha = 0.05\n",
    "\n",
    "# Средние значения перед тестированием\n",
    "print(f\"Среднее количество сессий в день для группы A: {mean_a:.2f}\")\n",
    "print(f\"Среднее количество сессий в день для группы B: {mean_b:.2f}\")\n",
    "\n",
    "if stat_test.pvalue > alpha:\n",
    "    print(f'p-value={stat_test.pvalue:.4f} > {alpha}')\n",
    "    print('Не получилось отвергнуть нулевую гипотезу: среднее количество сессий в день в группах не различается.')\n",
    "else:\n",
    "    print(f'p-value={stat_test.pvalue:.4f} < {alpha}')\n",
    "    print('Отвергаем нулевую гипотезу: среднее количество сессий в день в группах различается.')"
   ]
  },
  {
   "cell_type": "markdown",
   "metadata": {
    "id": "7kwRxzg70eM3"
   },
   "source": [
    "#### 4.3. Сравнение доли успешных сессий"
   ]
  },
  {
   "cell_type": "code",
   "execution_count": 14,
   "metadata": {
    "id": "Uku-V1CpPRCz"
   },
   "outputs": [
    {
     "name": "stdout",
     "output_type": "stream",
     "text": [
      "Доля успешных сессий в группе A: 30.77%\n",
      "Доля успешных сессий в группе B: 31.83%\n",
      "Разница в доле успешных сессий: 1.06%\n"
     ]
    }
   ],
   "source": [
    "# Доля успешных сессий по группам\n",
    "grouped_sessions = sessions_test.groupby('test_group')['good_session'].mean()\n",
    "diff = grouped_sessions['B'] - grouped_sessions['A']\n",
    "\n",
    "print(f\"Доля успешных сессий в группе A: {grouped_sessions['A'] * 100:.2f}%\")\n",
    "print(f\"Доля успешных сессий в группе B: {grouped_sessions['B'] * 100:.2f}%\")\n",
    "print(f\"Разница в доле успешных сессий: {diff * 100:.2f}%\")"
   ]
  },
  {
   "cell_type": "markdown",
   "metadata": {
    "id": "9fMFuja10eM4"
   },
   "source": [
    "#### 4.4. Насколько статистически значимо изменение ключевой метрики"
   ]
  },
  {
   "cell_type": "markdown",
   "metadata": {},
   "source": [
    "Нулевая гипотеза $(H_0)$: Доля успешных сессий в тестовой группе не выше, чем в контрольной группе. $H_0: p_A \\geq p_B$\n",
    "\n",
    "Альтернативная гипотеза $(H_1)$: Доля успешных сессий в тестовой группе выше, чем в контрольной группе. $H_1: p_A < p_B$"
   ]
  },
  {
   "cell_type": "code",
   "execution_count": 16,
   "metadata": {},
   "outputs": [
    {
     "name": "stdout",
     "output_type": "stream",
     "text": [
      "p-value=0.0001574739988036123 < 0.05\n",
      "Отвергаем нулевую гипотезу: разница в доле успешных сессий статистически значима.\n"
     ]
    }
   ],
   "source": [
    "from statsmodels.stats.proportion import proportions_ztest\n",
    "\n",
    "# Количество успешных сессий и общее количество сессий в каждой группе\n",
    "successes = [\n",
    "    sessions_test[sessions_test['test_group'] == 'A']['good_session'].sum(),\n",
    "    sessions_test[sessions_test['test_group'] == 'B']['good_session'].sum()\n",
    "]\n",
    "sessions_count = [\n",
    "    sessions_test[sessions_test['test_group'] == 'A'].shape[0],\n",
    "    sessions_test[sessions_test['test_group'] == 'B'].shape[0]\n",
    "]\n",
    "\n",
    "# Z-тест\n",
    "z_stat, p_value = proportions_ztest(successes, \n",
    "                                    sessions_count, \n",
    "                                    alternative='smaller')  # H1: доля в A < доли в B\n",
    "\n",
    "alpha = 0.05\n",
    "\n",
    "if p_value < alpha:\n",
    "    print(f'p-value={p_value} < {alpha}')\n",
    "    print('Отвергаем нулевую гипотезу: разница в доле успешных сессий статистически значима.')\n",
    "else:\n",
    "    print(f'p-value={p_value} > {alpha}')\n",
    "    print('Не получилось отвергнуть нулевую гипотезу: разница в доле успешных сессий не является статистически значимой.')"
   ]
  },
  {
   "cell_type": "markdown",
   "metadata": {},
   "source": [
    "Изучим сколько пользователей в итоге было в каждой группе и сколько дней в итоге заняло проведение A/B-теста."
   ]
  },
  {
   "cell_type": "code",
   "execution_count": 17,
   "metadata": {},
   "outputs": [
    {
     "name": "stdout",
     "output_type": "stream",
     "text": [
      "Количество уникальных пользователей в группе A: 15163\n",
      "Количество уникальных пользователей в группе B: 15416\n",
      "Длительность A/B-теста: 20 дней\n"
     ]
    }
   ],
   "source": [
    "# Количество уникальных пользователей в каждой группе\n",
    "users_per_group = sessions_test.groupby('test_group')['user_id'].nunique()\n",
    "\n",
    "# Количество дней проведения теста\n",
    "test_duration_days = sessions_test['session_date'].nunique()\n",
    "\n",
    "print(f\"Количество уникальных пользователей в группе A: {users_per_group['A']}\")\n",
    "print(f\"Количество уникальных пользователей в группе B: {users_per_group['B']}\")\n",
    "print(f\"Длительность A/B-теста: {test_duration_days} дней\")"
   ]
  },
  {
   "cell_type": "markdown",
   "metadata": {},
   "source": [
    "**Вывод**\n",
    "\n",
    "- Количество сессий в группах A и B не различается и распределение сессий является равномерным между группами.\n",
    "\n",
    "- Разница в доле успешных сессий между группами составляет 1.1%. Однако, эта разница не является статистически значимой.\n",
    "\n",
    "- При проведении t-теста для сравнения доли успешных сессий в группах A и B p-value составило 0.9998, что гораздо больше 0.05. Это подтверждает, что разница в доле успешных сессий между группами не является статистически значимой."
   ]
  },
  {
   "cell_type": "markdown",
   "metadata": {
    "id": "GnJrkY9Q63zS"
   },
   "source": [
    "#### 4.5. Вывод по результатам A/B-эксперимента"
   ]
  },
  {
   "cell_type": "markdown",
   "metadata": {
    "id": "rri8KRIgPMrW"
   },
   "source": [
    "- A/B-тестирование нового алгоритма рекомендаций проводилось в течение 20 дней. В группе А было 15163 пользователей и 15416 приняли участие в эксперименте в составе группы В. Случайным образом они были разделены на две группы: группа А, которая использовала старый алгоритм, и группа В, которая использовала новый алгоритм.\n",
    "\n",
    "- Количество сессий в группах A и B не различается, распределение сессий является равномерным между группами.\n",
    "\n",
    "- Доля успешных сессий в группе A составила 30.77%, а в группе B — 31.83%. Разница между группами составила 1.06%.\n",
    "\n",
    "- Был проведён Z-тест для проверки значимости разницы в доле успешных сессий. С его помощью делаем вывод, что новый алгоритм рекомендаций действительно увеличивает долю успешных сессий.\n",
    "\n",
    "Внедрение нового алгоритма рекомендаций рекомендуется, так как он показал статистически значимый рост доли успешных сессий на 1.06% по сравнению со старым алгоритмом."
   ]
  },
  {
   "cell_type": "markdown",
   "metadata": {},
   "source": [
    "<div class=\"alert alert-danger\">\n",
    "<b>Комментарий ревьюера v.1</b> \n",
    "    \n",
    "✍ Диана, проверь, пожалуйста, основной вывод — последний тест показал, что есть различия в долях успешных сессий. А первый тест да, показал, что различий между группами не было по среднему количеству пользователей в день, что нормально, поскольку указывает на корректность набора пользователей. Т.е. это два разных стат теста и именно последний тест проверяет изменение метрики, на которую были направлены нововведения на платформе.\n",
    "</div>"
   ]
  },
  {
   "cell_type": "markdown",
   "metadata": {},
   "source": [
    "<div class=\"alert alert-info\"> \n",
    "<b>Комментарий студента</b> \n",
    "    \n",
    "done\n",
    "\n",
    "Спасибо за рекомендации и супер качественную пр\n",
    "</div>"
   ]
  },
  {
   "cell_type": "markdown",
   "metadata": {},
   "source": [
    "<div class=\"alert alert-success\">\n",
    "<b>Комментарий ревьюера v.2</b> \n",
    "    \n",
    "👍 Теперь вывод верный — получается, что доля полезных сессий стала выше, стат. тест это подтвердил. Поэтому можно говорить, что АВ тест прошел успешно.\n",
    "    \n",
    "</div>"
   ]
  }
 ],
 "metadata": {
  "ExecuteTimeLog": [
   {
    "duration": 457,
    "start_time": "2025-03-02T09:56:39.382Z"
   },
   {
    "duration": 1978,
    "start_time": "2025-03-02T09:56:46.821Z"
   },
   {
    "duration": 462,
    "start_time": "2025-03-02T09:58:42.384Z"
   },
   {
    "duration": 13,
    "start_time": "2025-03-02T09:58:48.337Z"
   },
   {
    "duration": 599,
    "start_time": "2025-03-02T10:05:04.659Z"
   },
   {
    "duration": 574,
    "start_time": "2025-03-02T10:05:43.875Z"
   },
   {
    "duration": 572,
    "start_time": "2025-03-02T10:07:31.294Z"
   },
   {
    "duration": 606,
    "start_time": "2025-03-02T10:08:06.022Z"
   },
   {
    "duration": 561,
    "start_time": "2025-03-02T10:08:28.884Z"
   },
   {
    "duration": 617,
    "start_time": "2025-03-02T10:08:40.907Z"
   },
   {
    "duration": 3,
    "start_time": "2025-03-02T10:12:20.253Z"
   },
   {
    "duration": 954,
    "start_time": "2025-03-02T10:16:41.121Z"
   },
   {
    "duration": 852,
    "start_time": "2025-03-02T10:20:00.286Z"
   },
   {
    "duration": 839,
    "start_time": "2025-03-02T10:24:23.809Z"
   },
   {
    "duration": 169,
    "start_time": "2025-03-02T10:26:15.417Z"
   },
   {
    "duration": 49,
    "start_time": "2025-03-02T10:29:40.857Z"
   },
   {
    "duration": 2424,
    "start_time": "2025-03-02T10:29:45.066Z"
   },
   {
    "duration": 581,
    "start_time": "2025-03-02T10:29:47.492Z"
   },
   {
    "duration": 1876,
    "start_time": "2025-03-02T10:29:48.075Z"
   },
   {
    "duration": 12,
    "start_time": "2025-03-02T10:29:49.952Z"
   },
   {
    "duration": 214,
    "start_time": "2025-03-02T10:29:49.966Z"
   },
   {
    "duration": 80,
    "start_time": "2025-03-02T10:29:50.182Z"
   },
   {
    "duration": 0,
    "start_time": "2025-03-02T10:29:50.264Z"
   },
   {
    "duration": 164,
    "start_time": "2025-03-02T10:33:52.821Z"
   },
   {
    "duration": 204,
    "start_time": "2025-03-02T10:38:07.506Z"
   },
   {
    "duration": 206,
    "start_time": "2025-03-02T10:39:05.440Z"
   },
   {
    "duration": 16,
    "start_time": "2025-03-02T10:40:40.743Z"
   },
   {
    "duration": 117,
    "start_time": "2025-03-02T10:43:04.473Z"
   },
   {
    "duration": 75,
    "start_time": "2025-03-02T10:47:29.322Z"
   },
   {
    "duration": 127,
    "start_time": "2025-03-02T10:47:39.146Z"
   },
   {
    "duration": 133,
    "start_time": "2025-03-02T10:48:02.689Z"
   },
   {
    "duration": 132,
    "start_time": "2025-03-02T10:48:25.314Z"
   },
   {
    "duration": 170,
    "start_time": "2025-03-02T10:51:50.707Z"
   },
   {
    "duration": 133,
    "start_time": "2025-03-02T10:53:22.015Z"
   },
   {
    "duration": 193,
    "start_time": "2025-03-02T10:53:35.620Z"
   },
   {
    "duration": 136,
    "start_time": "2025-03-02T10:53:51.903Z"
   },
   {
    "duration": 129,
    "start_time": "2025-03-02T10:54:17.442Z"
   },
   {
    "duration": 8,
    "start_time": "2025-03-02T10:55:56.668Z"
   },
   {
    "duration": 198,
    "start_time": "2025-03-02T10:58:21.460Z"
   },
   {
    "duration": 172,
    "start_time": "2025-03-02T11:00:41.019Z"
   },
   {
    "duration": 169,
    "start_time": "2025-03-02T11:01:13.980Z"
   },
   {
    "duration": 169,
    "start_time": "2025-03-02T11:01:25.540Z"
   },
   {
    "duration": 172,
    "start_time": "2025-03-02T11:02:04.827Z"
   },
   {
    "duration": 172,
    "start_time": "2025-03-02T11:02:13.796Z"
   },
   {
    "duration": 189,
    "start_time": "2025-03-02T11:02:31.507Z"
   },
   {
    "duration": 2,
    "start_time": "2025-03-02T11:05:40.947Z"
   },
   {
    "duration": 511,
    "start_time": "2025-03-02T11:07:33.218Z"
   },
   {
    "duration": 533,
    "start_time": "2025-03-02T11:07:46.606Z"
   },
   {
    "duration": 42,
    "start_time": "2025-03-02T11:09:35.657Z"
   },
   {
    "duration": 11,
    "start_time": "2025-03-02T11:11:03.217Z"
   },
   {
    "duration": 92,
    "start_time": "2025-03-02T11:12:08.402Z"
   },
   {
    "duration": 12,
    "start_time": "2025-03-02T11:12:38.062Z"
   },
   {
    "duration": 38,
    "start_time": "2025-03-02T11:13:59.821Z"
   },
   {
    "duration": 1228,
    "start_time": "2025-03-02T11:16:19.504Z"
   },
   {
    "duration": 43,
    "start_time": "2025-03-02T11:16:40.559Z"
   },
   {
    "duration": 44,
    "start_time": "2025-03-02T11:26:52.646Z"
   },
   {
    "duration": 11,
    "start_time": "2025-03-02T11:27:40.067Z"
   },
   {
    "duration": 2028,
    "start_time": "2025-03-02T11:27:45.460Z"
   },
   {
    "duration": 547,
    "start_time": "2025-03-02T11:27:47.490Z"
   },
   {
    "duration": 1019,
    "start_time": "2025-03-02T11:27:48.039Z"
   },
   {
    "duration": 181,
    "start_time": "2025-03-02T11:27:49.059Z"
   },
   {
    "duration": 210,
    "start_time": "2025-03-02T11:27:49.242Z"
   },
   {
    "duration": 16,
    "start_time": "2025-03-02T11:27:49.454Z"
   },
   {
    "duration": 142,
    "start_time": "2025-03-02T11:27:49.472Z"
   },
   {
    "duration": 150,
    "start_time": "2025-03-02T11:27:49.616Z"
   },
   {
    "duration": 8,
    "start_time": "2025-03-02T11:27:49.767Z"
   },
   {
    "duration": 176,
    "start_time": "2025-03-02T11:27:49.776Z"
   },
   {
    "duration": 592,
    "start_time": "2025-03-02T11:27:49.954Z"
   },
   {
    "duration": 46,
    "start_time": "2025-03-02T11:27:50.548Z"
   },
   {
    "duration": 11,
    "start_time": "2025-03-02T11:27:50.597Z"
   },
   {
    "duration": 134,
    "start_time": "2025-03-02T11:27:50.610Z"
   },
   {
    "duration": 18,
    "start_time": "2025-03-02T11:29:16.756Z"
   },
   {
    "duration": 12,
    "start_time": "2025-03-02T11:29:28.697Z"
   },
   {
    "duration": 11,
    "start_time": "2025-03-02T11:29:34.581Z"
   },
   {
    "duration": 17,
    "start_time": "2025-03-02T11:29:41.329Z"
   },
   {
    "duration": 12,
    "start_time": "2025-03-02T11:29:46.722Z"
   },
   {
    "duration": 25,
    "start_time": "2025-03-02T11:31:36.699Z"
   },
   {
    "duration": 11,
    "start_time": "2025-03-02T11:32:17.175Z"
   },
   {
    "duration": 17,
    "start_time": "2025-03-02T11:33:19.077Z"
   },
   {
    "duration": 19,
    "start_time": "2025-03-02T11:33:39.449Z"
   },
   {
    "duration": 13,
    "start_time": "2025-03-02T11:33:47.284Z"
   },
   {
    "duration": 13,
    "start_time": "2025-03-02T11:33:54.841Z"
   },
   {
    "duration": 33,
    "start_time": "2025-03-02T11:36:11.606Z"
   },
   {
    "duration": 32,
    "start_time": "2025-03-02T11:36:19.684Z"
   },
   {
    "duration": 41,
    "start_time": "2025-03-02T11:38:42.251Z"
   },
   {
    "duration": 37,
    "start_time": "2025-03-02T11:38:51.034Z"
   },
   {
    "duration": 32,
    "start_time": "2025-03-02T11:40:24.225Z"
   },
   {
    "duration": 109,
    "start_time": "2025-03-02T11:46:03.849Z"
   },
   {
    "duration": 0,
    "start_time": "2025-03-02T11:46:03.960Z"
   },
   {
    "duration": 0,
    "start_time": "2025-03-02T11:46:03.961Z"
   },
   {
    "duration": 0,
    "start_time": "2025-03-02T11:46:03.963Z"
   },
   {
    "duration": 0,
    "start_time": "2025-03-02T11:46:03.963Z"
   },
   {
    "duration": 0,
    "start_time": "2025-03-02T11:46:03.964Z"
   },
   {
    "duration": 0,
    "start_time": "2025-03-02T11:46:03.965Z"
   },
   {
    "duration": 0,
    "start_time": "2025-03-02T11:46:03.966Z"
   },
   {
    "duration": 0,
    "start_time": "2025-03-02T11:46:03.967Z"
   },
   {
    "duration": 0,
    "start_time": "2025-03-02T11:46:03.969Z"
   },
   {
    "duration": 0,
    "start_time": "2025-03-02T11:46:03.969Z"
   },
   {
    "duration": 0,
    "start_time": "2025-03-02T11:46:03.970Z"
   },
   {
    "duration": 0,
    "start_time": "2025-03-02T11:46:03.972Z"
   },
   {
    "duration": 0,
    "start_time": "2025-03-02T11:46:03.973Z"
   },
   {
    "duration": 0,
    "start_time": "2025-03-02T11:46:03.975Z"
   },
   {
    "duration": 1731,
    "start_time": "2025-03-02T11:46:19.308Z"
   },
   {
    "duration": 521,
    "start_time": "2025-03-02T11:46:21.041Z"
   },
   {
    "duration": 918,
    "start_time": "2025-03-02T11:46:21.564Z"
   },
   {
    "duration": 167,
    "start_time": "2025-03-02T11:46:22.484Z"
   },
   {
    "duration": 197,
    "start_time": "2025-03-02T11:46:22.657Z"
   },
   {
    "duration": 15,
    "start_time": "2025-03-02T11:46:22.858Z"
   },
   {
    "duration": 169,
    "start_time": "2025-03-02T11:46:22.875Z"
   },
   {
    "duration": 133,
    "start_time": "2025-03-02T11:46:23.046Z"
   },
   {
    "duration": 7,
    "start_time": "2025-03-02T11:46:23.181Z"
   },
   {
    "duration": 253,
    "start_time": "2025-03-02T11:46:23.190Z"
   },
   {
    "duration": 623,
    "start_time": "2025-03-02T11:46:23.445Z"
   },
   {
    "duration": 42,
    "start_time": "2025-03-02T11:46:24.070Z"
   },
   {
    "duration": 10,
    "start_time": "2025-03-02T11:46:24.114Z"
   },
   {
    "duration": 65,
    "start_time": "2025-03-02T11:46:24.126Z"
   },
   {
    "duration": 7,
    "start_time": "2025-03-02T12:45:24.908Z"
   },
   {
    "duration": 16,
    "start_time": "2025-03-02T12:52:21.726Z"
   },
   {
    "duration": 330,
    "start_time": "2025-03-02T12:52:55.143Z"
   },
   {
    "duration": 195,
    "start_time": "2025-03-02T12:54:55.415Z"
   },
   {
    "duration": 222,
    "start_time": "2025-03-02T12:55:01.485Z"
   },
   {
    "duration": 1759,
    "start_time": "2025-03-02T13:09:08.487Z"
   },
   {
    "duration": 566,
    "start_time": "2025-03-02T13:09:10.248Z"
   },
   {
    "duration": 988,
    "start_time": "2025-03-02T13:09:10.816Z"
   },
   {
    "duration": 187,
    "start_time": "2025-03-02T13:09:11.806Z"
   },
   {
    "duration": 218,
    "start_time": "2025-03-02T13:09:11.995Z"
   },
   {
    "duration": 17,
    "start_time": "2025-03-02T13:09:12.215Z"
   },
   {
    "duration": 158,
    "start_time": "2025-03-02T13:09:12.234Z"
   },
   {
    "duration": 151,
    "start_time": "2025-03-02T13:09:12.394Z"
   },
   {
    "duration": 11,
    "start_time": "2025-03-02T13:09:12.547Z"
   },
   {
    "duration": 190,
    "start_time": "2025-03-02T13:09:12.559Z"
   },
   {
    "duration": 260,
    "start_time": "2025-03-02T13:09:12.757Z"
   },
   {
    "duration": 601,
    "start_time": "2025-03-02T13:09:13.019Z"
   },
   {
    "duration": 60,
    "start_time": "2025-03-02T13:09:13.622Z"
   },
   {
    "duration": 12,
    "start_time": "2025-03-02T13:09:13.684Z"
   },
   {
    "duration": 36,
    "start_time": "2025-03-02T13:09:13.698Z"
   },
   {
    "duration": 11,
    "start_time": "2025-03-02T13:24:28.386Z"
   },
   {
    "duration": 13,
    "start_time": "2025-03-02T13:24:36.165Z"
   },
   {
    "duration": 1853,
    "start_time": "2025-03-02T13:31:41.593Z"
   },
   {
    "duration": 603,
    "start_time": "2025-03-02T13:31:43.448Z"
   },
   {
    "duration": 946,
    "start_time": "2025-03-02T13:31:44.053Z"
   },
   {
    "duration": 192,
    "start_time": "2025-03-02T13:31:45.001Z"
   },
   {
    "duration": 219,
    "start_time": "2025-03-02T13:31:45.195Z"
   },
   {
    "duration": 16,
    "start_time": "2025-03-02T13:31:45.416Z"
   },
   {
    "duration": 139,
    "start_time": "2025-03-02T13:31:45.434Z"
   },
   {
    "duration": 134,
    "start_time": "2025-03-02T13:31:45.574Z"
   },
   {
    "duration": 7,
    "start_time": "2025-03-02T13:31:45.710Z"
   },
   {
    "duration": 204,
    "start_time": "2025-03-02T13:31:45.719Z"
   },
   {
    "duration": 178,
    "start_time": "2025-03-02T13:31:45.924Z"
   },
   {
    "duration": 569,
    "start_time": "2025-03-02T13:31:46.104Z"
   },
   {
    "duration": 44,
    "start_time": "2025-03-02T13:31:46.675Z"
   },
   {
    "duration": 12,
    "start_time": "2025-03-02T13:31:46.721Z"
   },
   {
    "duration": 58,
    "start_time": "2025-03-02T13:31:46.735Z"
   },
   {
    "duration": 298,
    "start_time": "2025-03-02T13:33:55.609Z"
   },
   {
    "duration": 471,
    "start_time": "2025-03-02T13:34:07.417Z"
   },
   {
    "duration": 374,
    "start_time": "2025-03-02T13:34:18.529Z"
   },
   {
    "duration": 183,
    "start_time": "2025-03-02T13:34:28.057Z"
   },
   {
    "duration": 2401,
    "start_time": "2025-03-02T19:33:22.681Z"
   },
   {
    "duration": 721,
    "start_time": "2025-03-02T19:33:25.084Z"
   },
   {
    "duration": 1555,
    "start_time": "2025-03-02T19:33:25.813Z"
   },
   {
    "duration": 201,
    "start_time": "2025-03-02T19:33:27.371Z"
   },
   {
    "duration": 242,
    "start_time": "2025-03-02T19:33:27.574Z"
   },
   {
    "duration": 509,
    "start_time": "2025-03-02T19:33:27.818Z"
   },
   {
    "duration": 170,
    "start_time": "2025-03-02T19:33:28.329Z"
   },
   {
    "duration": 233,
    "start_time": "2025-03-02T19:33:28.501Z"
   },
   {
    "duration": 8,
    "start_time": "2025-03-02T19:33:28.737Z"
   },
   {
    "duration": 295,
    "start_time": "2025-03-02T19:33:28.748Z"
   },
   {
    "duration": 198,
    "start_time": "2025-03-02T19:33:29.045Z"
   },
   {
    "duration": 690,
    "start_time": "2025-03-02T19:33:29.245Z"
   },
   {
    "duration": 41,
    "start_time": "2025-03-02T19:33:29.937Z"
   },
   {
    "duration": 39,
    "start_time": "2025-03-02T19:33:29.980Z"
   },
   {
    "duration": 43,
    "start_time": "2025-03-02T19:33:30.021Z"
   },
   {
    "duration": 2227,
    "start_time": "2025-03-02T19:58:44.116Z"
   },
   {
    "duration": 651,
    "start_time": "2025-03-02T19:58:46.346Z"
   },
   {
    "duration": 1443,
    "start_time": "2025-03-02T19:58:46.999Z"
   },
   {
    "duration": 203,
    "start_time": "2025-03-02T19:58:48.444Z"
   },
   {
    "duration": 249,
    "start_time": "2025-03-02T19:58:48.649Z"
   },
   {
    "duration": 535,
    "start_time": "2025-03-02T19:58:48.900Z"
   },
   {
    "duration": 153,
    "start_time": "2025-03-02T19:58:49.437Z"
   },
   {
    "duration": 157,
    "start_time": "2025-03-02T19:58:49.592Z"
   },
   {
    "duration": 8,
    "start_time": "2025-03-02T19:58:49.751Z"
   },
   {
    "duration": 219,
    "start_time": "2025-03-02T19:58:49.761Z"
   },
   {
    "duration": 202,
    "start_time": "2025-03-02T19:58:49.982Z"
   },
   {
    "duration": 747,
    "start_time": "2025-03-02T19:58:50.185Z"
   },
   {
    "duration": 47,
    "start_time": "2025-03-02T19:58:50.934Z"
   },
   {
    "duration": 29,
    "start_time": "2025-03-02T19:58:50.983Z"
   },
   {
    "duration": 46,
    "start_time": "2025-03-02T19:58:51.014Z"
   },
   {
    "duration": 729,
    "start_time": "2025-03-03T10:53:05.679Z"
   },
   {
    "duration": 2168,
    "start_time": "2025-03-03T10:53:11.175Z"
   },
   {
    "duration": 655,
    "start_time": "2025-03-03T10:53:13.344Z"
   },
   {
    "duration": 1658,
    "start_time": "2025-03-03T10:53:14.002Z"
   },
   {
    "duration": 185,
    "start_time": "2025-03-03T10:53:15.662Z"
   },
   {
    "duration": 232,
    "start_time": "2025-03-03T10:53:15.855Z"
   },
   {
    "duration": 23,
    "start_time": "2025-03-03T10:53:16.088Z"
   },
   {
    "duration": 174,
    "start_time": "2025-03-03T10:53:16.112Z"
   },
   {
    "duration": 143,
    "start_time": "2025-03-03T10:53:16.288Z"
   },
   {
    "duration": 9,
    "start_time": "2025-03-03T10:53:16.433Z"
   },
   {
    "duration": 220,
    "start_time": "2025-03-03T10:53:16.445Z"
   },
   {
    "duration": 193,
    "start_time": "2025-03-03T10:53:16.667Z"
   },
   {
    "duration": 636,
    "start_time": "2025-03-03T10:53:16.862Z"
   },
   {
    "duration": 129,
    "start_time": "2025-03-03T10:53:17.502Z"
   },
   {
    "duration": 12,
    "start_time": "2025-03-03T10:53:17.632Z"
   },
   {
    "duration": 119,
    "start_time": "2025-03-03T10:53:17.646Z"
   },
   {
    "duration": 67,
    "start_time": "2025-03-03T11:04:06.371Z"
   },
   {
    "duration": 35,
    "start_time": "2025-03-03T11:14:33.462Z"
   },
   {
    "duration": 38,
    "start_time": "2025-03-03T11:15:14.771Z"
   },
   {
    "duration": 36,
    "start_time": "2025-03-03T11:19:09.230Z"
   },
   {
    "duration": 2367,
    "start_time": "2025-03-03T11:22:33.237Z"
   },
   {
    "duration": 597,
    "start_time": "2025-03-03T11:22:35.606Z"
   },
   {
    "duration": 990,
    "start_time": "2025-03-03T11:22:36.205Z"
   },
   {
    "duration": 189,
    "start_time": "2025-03-03T11:22:37.197Z"
   },
   {
    "duration": 216,
    "start_time": "2025-03-03T11:22:37.388Z"
   },
   {
    "duration": 16,
    "start_time": "2025-03-03T11:22:37.606Z"
   },
   {
    "duration": 161,
    "start_time": "2025-03-03T11:22:37.624Z"
   },
   {
    "duration": 148,
    "start_time": "2025-03-03T11:22:37.787Z"
   },
   {
    "duration": 7,
    "start_time": "2025-03-03T11:22:37.937Z"
   },
   {
    "duration": 223,
    "start_time": "2025-03-03T11:22:37.947Z"
   },
   {
    "duration": 195,
    "start_time": "2025-03-03T11:22:38.172Z"
   },
   {
    "duration": 673,
    "start_time": "2025-03-03T11:22:38.369Z"
   },
   {
    "duration": 40,
    "start_time": "2025-03-03T11:22:39.044Z"
   },
   {
    "duration": 25,
    "start_time": "2025-03-03T11:22:39.086Z"
   },
   {
    "duration": 2,
    "start_time": "2025-03-03T11:22:39.113Z"
   },
   {
    "duration": 65,
    "start_time": "2025-03-03T11:22:39.117Z"
   },
   {
    "duration": 54,
    "start_time": "2025-03-03T11:22:39.183Z"
   },
   {
    "duration": 2444,
    "start_time": "2025-03-03T18:56:15.117Z"
   },
   {
    "duration": 602,
    "start_time": "2025-03-03T18:56:17.563Z"
   },
   {
    "duration": 1571,
    "start_time": "2025-03-03T18:56:18.167Z"
   },
   {
    "duration": 190,
    "start_time": "2025-03-03T18:56:19.740Z"
   },
   {
    "duration": 269,
    "start_time": "2025-03-03T18:56:19.932Z"
   },
   {
    "duration": 474,
    "start_time": "2025-03-03T18:56:20.203Z"
   },
   {
    "duration": 157,
    "start_time": "2025-03-03T18:56:20.679Z"
   },
   {
    "duration": 136,
    "start_time": "2025-03-03T18:56:20.838Z"
   },
   {
    "duration": 8,
    "start_time": "2025-03-03T18:56:20.976Z"
   },
   {
    "duration": 216,
    "start_time": "2025-03-03T18:56:20.986Z"
   },
   {
    "duration": 227,
    "start_time": "2025-03-03T18:56:21.204Z"
   },
   {
    "duration": 573,
    "start_time": "2025-03-03T18:56:21.432Z"
   },
   {
    "duration": 108,
    "start_time": "2025-03-03T18:56:22.008Z"
   },
   {
    "duration": 12,
    "start_time": "2025-03-03T18:56:22.118Z"
   },
   {
    "duration": 6,
    "start_time": "2025-03-03T18:56:22.132Z"
   },
   {
    "duration": 75,
    "start_time": "2025-03-03T18:56:22.140Z"
   },
   {
    "duration": 36,
    "start_time": "2025-03-03T18:56:22.217Z"
   }
  ],
  "colab": {
   "provenance": []
  },
  "kernelspec": {
   "display_name": "Python 3 (ipykernel)",
   "language": "python",
   "name": "python3"
  },
  "language_info": {
   "codemirror_mode": {
    "name": "ipython",
    "version": 3
   },
   "file_extension": ".py",
   "mimetype": "text/x-python",
   "name": "python",
   "nbconvert_exporter": "python",
   "pygments_lexer": "ipython3",
   "version": "3.13.2"
  },
  "toc": {
   "base_numbering": 1,
   "nav_menu": {},
   "number_sections": false,
   "sideBar": true,
   "skip_h1_title": true,
   "title_cell": "Table of Contents",
   "title_sidebar": "Contents",
   "toc_cell": false,
   "toc_position": {},
   "toc_section_display": true,
   "toc_window_display": false
  }
 },
 "nbformat": 4,
 "nbformat_minor": 4
}
