{
 "cells": [
  {
   "cell_type": "markdown",
   "id": "41da1f5e-865e-45b1-8411-5d981c62068d",
   "metadata": {},
   "source": [
    "# Проверка гипотез в бизнесе"
   ]
  },
  {
   "cell_type": "markdown",
   "id": "e765b3cf-87a4-4883-a4ce-85b7dc1f31b1",
   "metadata": {},
   "source": [
    "## Введение"
   ]
  },
  {
   "cell_type": "markdown",
   "id": "d6563f8f-f997-488a-8146-921c7111f01a",
   "metadata": {},
   "source": [
    "### Заказчик\n",
    "<font color='#777778'> Сервис проката самокатов GoFast. </font>"
   ]
  },
  {
   "cell_type": "markdown",
   "id": "b0a79794-a432-489c-8f53-8a6f7de59730",
   "metadata": {},
   "source": [
    "### Цель проекта\n",
    "\n",
    "<font color='#777778'> Анализ пользовательского поведения, выявление ключевых факторов для увеличения доходности, а также оценку эффективности возможного перехода на платные модели подписки. </font>"
   ]
  },
  {
   "cell_type": "markdown",
   "id": "012fe6b2-690f-4e24-8c52-7ccf96a8c614",
   "metadata": {},
   "source": [
    "### Задачи проекта \n",
    "\n",
    "<font color='#777778'>    \n",
    "    \n",
    "- Обработка и предобработка данных \n",
    "    \n",
    "- Изучение данных о пользователях\n",
    "    \n",
    "- Анализ частоты и продолжительности поездок\n",
    "\n",
    "- Оценка влияния платных подписок на общий доход</font>"
   ]
  },
  {
   "cell_type": "markdown",
   "id": "532f2d7c-cdc8-4f30-994c-72e5061387f4",
   "metadata": {},
   "source": [
    "# Описание данных\n",
    "\n",
    "Таблица с пользователями `users_go.csv`\n",
    "\n",
    "- `user_id` — уникальный идентификатор пользователя.\n",
    "\n",
    "- `name` — имя пользователя.\n",
    "\n",
    "- `age` — возраст.\n",
    "\n",
    "- `city` — город.\n",
    "\n",
    "- `subscription_type` — тип подписки: `free`, `ultra`.\n",
    "\n",
    "Таблица с поездками `rides_go.csv`\n",
    "\n",
    "- `user_id` — уникальный идентификатор пользователя.\n",
    "\n",
    "- `distance` — расстояние в метрах, которое пользователь проехал в текущей сессии.\n",
    "\n",
    "- `duration` — продолжительность сессии в минутах, то есть время с того момента, как пользователь нажал кнопку «Начать поездку», до того, как он нажал кнопку «Завершить поездку».\n",
    "\n",
    "- `date` — дата совершения поездки.\n",
    "\n",
    "Таблица с подписками `subscriptions_go.csv`\n",
    "\n",
    "- `subscription_type` — тип подписки.\n",
    "\n",
    "- `minute_price` — стоимость одной минуты поездки по этой подписке.\n",
    "\n",
    "- `start_ride_price` — стоимость начала поездки.\n",
    "\n",
    "- `subscription_fee` — стоимость ежемесячного платежа."
   ]
  },
  {
   "cell_type": "markdown",
   "id": "77b4a5b9-b70c-43de-9f18-f1d8d22145c7",
   "metadata": {},
   "source": [
    "### Содержимое проекта\n",
    "\n",
    "<font color='#777778'>\n",
    "\n",
    "1. [Загрузка и знакомство с данными.](#1-bullet)\n",
    "2. [Предобработка данных](#2-bullet)\n",
    "3. [Исследовательский анализ данных.](#3-bullet)\n",
    "4. [Объединение данных.](#4-bullet).\n",
    "5. [Подсчёт выручки.](#5-bullet)\n",
    "6. [Проверка гипотез](#6-bullet)\n",
    "7. [Распределения.](#7-bullet)\n",
    "</font>\n",
    "\n",
    "---"
   ]
  },
  {
   "cell_type": "markdown",
   "id": "4c92899d-2169-42e9-82da-1873050442d9",
   "metadata": {},
   "source": [
    "<a class=\"anchor\" id=\"1-bullet\"></a>\n",
    "## Шаг 1. Загрузка данных"
   ]
  },
  {
   "cell_type": "code",
   "execution_count": 1,
   "id": "dfe4b50a-f844-4c14-af7e-d2682f700c90",
   "metadata": {},
   "outputs": [],
   "source": [
    "# Импортируем библиотеку\n",
    "\n",
    "import pandas as pd"
   ]
  },
  {
   "cell_type": "code",
   "execution_count": 2,
   "id": "4507f386-2f0e-4799-b699-5de4e2a597b1",
   "metadata": {},
   "outputs": [],
   "source": [
    "# Прочитаем датафреймы\n",
    "\n",
    "df_users_go = pd.read_csv('https://code.s3.yandex.net/datasets/users_go.csv')\n",
    "df_rides_go = pd.read_csv('https://code.s3.yandex.net/datasets/rides_go.csv')\n",
    "df_subscriptions_go = pd.read_csv('https://code.s3.yandex.net/datasets/subscriptions_go.csv')"
   ]
  },
  {
   "cell_type": "code",
   "execution_count": 3,
   "id": "b7922e8d-f285-44c1-adfa-4e9e7f689cd4",
   "metadata": {},
   "outputs": [
    {
     "data": {
      "text/html": [
       "<div>\n",
       "<style scoped>\n",
       "    .dataframe tbody tr th:only-of-type {\n",
       "        vertical-align: middle;\n",
       "    }\n",
       "\n",
       "    .dataframe tbody tr th {\n",
       "        vertical-align: top;\n",
       "    }\n",
       "\n",
       "    .dataframe thead th {\n",
       "        text-align: right;\n",
       "    }\n",
       "</style>\n",
       "<table border=\"1\" class=\"dataframe\">\n",
       "  <thead>\n",
       "    <tr style=\"text-align: right;\">\n",
       "      <th></th>\n",
       "      <th>user_id</th>\n",
       "      <th>name</th>\n",
       "      <th>age</th>\n",
       "      <th>city</th>\n",
       "      <th>subscription_type</th>\n",
       "    </tr>\n",
       "  </thead>\n",
       "  <tbody>\n",
       "    <tr>\n",
       "      <th>0</th>\n",
       "      <td>1</td>\n",
       "      <td>Кира</td>\n",
       "      <td>22</td>\n",
       "      <td>Тюмень</td>\n",
       "      <td>ultra</td>\n",
       "    </tr>\n",
       "    <tr>\n",
       "      <th>1</th>\n",
       "      <td>2</td>\n",
       "      <td>Станислав</td>\n",
       "      <td>31</td>\n",
       "      <td>Омск</td>\n",
       "      <td>ultra</td>\n",
       "    </tr>\n",
       "    <tr>\n",
       "      <th>2</th>\n",
       "      <td>3</td>\n",
       "      <td>Алексей</td>\n",
       "      <td>20</td>\n",
       "      <td>Москва</td>\n",
       "      <td>ultra</td>\n",
       "    </tr>\n",
       "    <tr>\n",
       "      <th>3</th>\n",
       "      <td>4</td>\n",
       "      <td>Константин</td>\n",
       "      <td>26</td>\n",
       "      <td>Ростов-на-Дону</td>\n",
       "      <td>ultra</td>\n",
       "    </tr>\n",
       "    <tr>\n",
       "      <th>4</th>\n",
       "      <td>5</td>\n",
       "      <td>Адель</td>\n",
       "      <td>28</td>\n",
       "      <td>Омск</td>\n",
       "      <td>ultra</td>\n",
       "    </tr>\n",
       "  </tbody>\n",
       "</table>\n",
       "</div>"
      ],
      "text/plain": [
       "   user_id        name  age            city subscription_type\n",
       "0        1        Кира   22          Тюмень             ultra\n",
       "1        2   Станислав   31            Омск             ultra\n",
       "2        3     Алексей   20          Москва             ultra\n",
       "3        4  Константин   26  Ростов-на-Дону             ultra\n",
       "4        5       Адель   28            Омск             ultra"
      ]
     },
     "execution_count": 3,
     "metadata": {},
     "output_type": "execute_result"
    }
   ],
   "source": [
    "# Поочередно выведем первые 5 строк каждого датафрейма\n",
    "\n",
    "df_users_go.head(5)"
   ]
  },
  {
   "cell_type": "code",
   "execution_count": 4,
   "id": "c0c93d5e-15a9-48ab-8005-9cb55b50e5f8",
   "metadata": {},
   "outputs": [
    {
     "data": {
      "text/html": [
       "<div>\n",
       "<style scoped>\n",
       "    .dataframe tbody tr th:only-of-type {\n",
       "        vertical-align: middle;\n",
       "    }\n",
       "\n",
       "    .dataframe tbody tr th {\n",
       "        vertical-align: top;\n",
       "    }\n",
       "\n",
       "    .dataframe thead th {\n",
       "        text-align: right;\n",
       "    }\n",
       "</style>\n",
       "<table border=\"1\" class=\"dataframe\">\n",
       "  <thead>\n",
       "    <tr style=\"text-align: right;\">\n",
       "      <th></th>\n",
       "      <th>user_id</th>\n",
       "      <th>distance</th>\n",
       "      <th>duration</th>\n",
       "      <th>date</th>\n",
       "    </tr>\n",
       "  </thead>\n",
       "  <tbody>\n",
       "    <tr>\n",
       "      <th>0</th>\n",
       "      <td>1</td>\n",
       "      <td>4409.919140</td>\n",
       "      <td>25.599769</td>\n",
       "      <td>2021-01-01</td>\n",
       "    </tr>\n",
       "    <tr>\n",
       "      <th>1</th>\n",
       "      <td>1</td>\n",
       "      <td>2617.592153</td>\n",
       "      <td>15.816871</td>\n",
       "      <td>2021-01-18</td>\n",
       "    </tr>\n",
       "    <tr>\n",
       "      <th>2</th>\n",
       "      <td>1</td>\n",
       "      <td>754.159807</td>\n",
       "      <td>6.232113</td>\n",
       "      <td>2021-04-20</td>\n",
       "    </tr>\n",
       "    <tr>\n",
       "      <th>3</th>\n",
       "      <td>1</td>\n",
       "      <td>2694.783254</td>\n",
       "      <td>18.511000</td>\n",
       "      <td>2021-08-11</td>\n",
       "    </tr>\n",
       "    <tr>\n",
       "      <th>4</th>\n",
       "      <td>1</td>\n",
       "      <td>4028.687306</td>\n",
       "      <td>26.265803</td>\n",
       "      <td>2021-08-28</td>\n",
       "    </tr>\n",
       "  </tbody>\n",
       "</table>\n",
       "</div>"
      ],
      "text/plain": [
       "   user_id     distance   duration        date\n",
       "0        1  4409.919140  25.599769  2021-01-01\n",
       "1        1  2617.592153  15.816871  2021-01-18\n",
       "2        1   754.159807   6.232113  2021-04-20\n",
       "3        1  2694.783254  18.511000  2021-08-11\n",
       "4        1  4028.687306  26.265803  2021-08-28"
      ]
     },
     "execution_count": 4,
     "metadata": {},
     "output_type": "execute_result"
    }
   ],
   "source": [
    "df_rides_go.head(5)"
   ]
  },
  {
   "cell_type": "code",
   "execution_count": 5,
   "id": "36161ce5-aa88-4d34-b838-0ff55b6193d3",
   "metadata": {},
   "outputs": [
    {
     "data": {
      "text/html": [
       "<div>\n",
       "<style scoped>\n",
       "    .dataframe tbody tr th:only-of-type {\n",
       "        vertical-align: middle;\n",
       "    }\n",
       "\n",
       "    .dataframe tbody tr th {\n",
       "        vertical-align: top;\n",
       "    }\n",
       "\n",
       "    .dataframe thead th {\n",
       "        text-align: right;\n",
       "    }\n",
       "</style>\n",
       "<table border=\"1\" class=\"dataframe\">\n",
       "  <thead>\n",
       "    <tr style=\"text-align: right;\">\n",
       "      <th></th>\n",
       "      <th>subscription_type</th>\n",
       "      <th>minute_price</th>\n",
       "      <th>start_ride_price</th>\n",
       "      <th>subscription_fee</th>\n",
       "    </tr>\n",
       "  </thead>\n",
       "  <tbody>\n",
       "    <tr>\n",
       "      <th>0</th>\n",
       "      <td>free</td>\n",
       "      <td>8</td>\n",
       "      <td>50</td>\n",
       "      <td>0</td>\n",
       "    </tr>\n",
       "    <tr>\n",
       "      <th>1</th>\n",
       "      <td>ultra</td>\n",
       "      <td>6</td>\n",
       "      <td>0</td>\n",
       "      <td>199</td>\n",
       "    </tr>\n",
       "  </tbody>\n",
       "</table>\n",
       "</div>"
      ],
      "text/plain": [
       "  subscription_type  minute_price  start_ride_price  subscription_fee\n",
       "0              free             8                50                 0\n",
       "1             ultra             6                 0               199"
      ]
     },
     "execution_count": 5,
     "metadata": {},
     "output_type": "execute_result"
    }
   ],
   "source": [
    "df_subscriptions_go.head(5)"
   ]
  },
  {
   "cell_type": "code",
   "execution_count": 6,
   "id": "5c0951e9-089a-4aed-acc6-979d5415be5a",
   "metadata": {},
   "outputs": [
    {
     "name": "stdout",
     "output_type": "stream",
     "text": [
      "1565 18068 2\n"
     ]
    }
   ],
   "source": [
    "# Определим количество строк в каждом датафрейме\n",
    "\n",
    "print(f\"{df_users_go.shape[0]} {df_rides_go.shape[0]} {df_subscriptions_go.shape[0]}\")"
   ]
  },
  {
   "cell_type": "markdown",
   "id": "c731f27e-11f7-41b2-968c-e4516084616a",
   "metadata": {},
   "source": [
    "<a class=\"anchor\" id=\"2-bullet\"></a>\n",
    "## Шаг 2. Знакомство с данными и их предварительная подготовка"
   ]
  },
  {
   "cell_type": "code",
   "execution_count": 7,
   "id": "75074f1b-27ba-4ade-bc71-949d886870f0",
   "metadata": {},
   "outputs": [
    {
     "data": {
      "text/plain": [
       "user_id       int64\n",
       "distance    float64\n",
       "duration    float64\n",
       "date         object\n",
       "dtype: object"
      ]
     },
     "execution_count": 7,
     "metadata": {},
     "output_type": "execute_result"
    }
   ],
   "source": [
    "# В датафрейме df_rides_go выведем типы данных каждой колонки, используя атрибут dtypes\n",
    "\n",
    "df_rides_go.dtypes"
   ]
  },
  {
   "cell_type": "code",
   "execution_count": 8,
   "id": "bbac4282-25e9-4d40-a3d4-ebeefed9f41b",
   "metadata": {},
   "outputs": [],
   "source": [
    "# Приведем столбец date к корректному типу даты pandas, используя метод pd.to_datetime()\n",
    "\n",
    "df_rides_go['date'] = pd.to_datetime(df_rides_go['date'], errors='coerce')"
   ]
  },
  {
   "cell_type": "code",
   "execution_count": 9,
   "id": "2060c3f0-93a5-446c-9b05-4654b125e36f",
   "metadata": {},
   "outputs": [],
   "source": [
    "# Создадим новый столбец month, содержащий номер месяца.\n",
    "\n",
    "df_rides_go['month'] = df_rides_go['date'].dt.month"
   ]
  },
  {
   "cell_type": "code",
   "execution_count": 10,
   "id": "80ea77de-4779-4c9d-9f9a-db68e9699807",
   "metadata": {},
   "outputs": [
    {
     "name": "stdout",
     "output_type": "stream",
     "text": [
      "0 31\n"
     ]
    }
   ],
   "source": [
    "# Определим количество пропусков и дубликатов\n",
    "\n",
    "missing_values = df_users_go.isnull().sum().sum() \n",
    "duplicates = df_users_go.duplicated().sum() \n",
    "print(f\"{missing_values} {duplicates}\")"
   ]
  },
  {
   "cell_type": "code",
   "execution_count": 11,
   "id": "b6656c04-91b5-4ca6-b4ad-761fb32d6110",
   "metadata": {},
   "outputs": [],
   "source": [
    "# Пропущенных значений нет, удалим дубликаты\n",
    "\n",
    "df_users_go.fillna(0, inplace=True) \n",
    "df_users_go.drop_duplicates(inplace=True)"
   ]
  },
  {
   "cell_type": "code",
   "execution_count": 12,
   "id": "c7da7bfd-5e63-4b9d-b78e-804106c00549",
   "metadata": {},
   "outputs": [],
   "source": [
    "# Округлим длительность поездки до целого числа\n",
    "\n",
    "df_rides_go['duration'] = df_rides_go['duration'].round().astype(int)"
   ]
  },
  {
   "cell_type": "markdown",
   "id": "5c859432-da1d-4b5a-be80-4740716d2154",
   "metadata": {},
   "source": [
    "<a class=\"anchor\" id=\"3-bullet\"></a>\n",
    "## Шаг 3. Исследовательский анализ данных (EDA)"
   ]
  },
  {
   "cell_type": "code",
   "execution_count": 13,
   "id": "e5650e4e-8595-41f9-a88f-b11f8a6c2911",
   "metadata": {},
   "outputs": [],
   "source": [
    "# Импортируем библиотеку для визуализаций\n",
    "\n",
    "import matplotlib.pyplot as plt"
   ]
  },
  {
   "cell_type": "code",
   "execution_count": 14,
   "id": "ebf9e8da-f4ae-42e0-9e9b-808ab1064244",
   "metadata": {},
   "outputs": [
    {
     "name": "stdout",
     "output_type": "stream",
     "text": [
      "city\n",
      "Пятигорск         219\n",
      "Екатеринбург      204\n",
      "Ростов-на-Дону    198\n",
      "Краснодар         193\n",
      "Сочи              189\n",
      "Омск              183\n",
      "Тюмень            180\n",
      "Москва            168\n",
      "Name: count, dtype: int64\n"
     ]
    }
   ],
   "source": [
    "# Изучим количество пользователей в каждом городе\n",
    "\n",
    "users_by_city_count = df_users_go['city'].value_counts()\n",
    "print(users_by_city_count)"
   ]
  },
  {
   "cell_type": "code",
   "execution_count": 15,
   "id": "1f95f6c3-8022-4b05-9212-5535518a43ad",
   "metadata": {},
   "outputs": [
    {
     "name": "stdout",
     "output_type": "stream",
     "text": [
      "subscription_type\n",
      "free     835\n",
      "ultra    699\n",
      "Name: count, dtype: int64\n"
     ]
    }
   ],
   "source": [
    "# Создадим и выведем серию subscription_type_count с количеством пользователей \n",
    "# для каждого типа подписки subscription_type\n",
    "\n",
    "subscription_type_count = df_users_go['subscription_type'].value_counts()\n",
    "print(subscription_type_count)"
   ]
  },
  {
   "cell_type": "code",
   "execution_count": 16,
   "id": "fa18cc7f-87c6-4362-a0b2-d5306d1e1c8f",
   "metadata": {},
   "outputs": [
    {
     "data": {
      "image/png": "[encoded data removed]",
      "text/plain": [
       "<Figure size 640x480 with 1 Axes>"
      ]
     },
     "metadata": {},
     "output_type": "display_data"
    }
   ],
   "source": [
    "# Визуализация для процента пользователей с free и ultra подпиской\n",
    "\n",
    "subscription_type_count.plot(\n",
    "    kind='pie',\n",
    "    title='Соотношение пользователей с подпиской и без подписки',\n",
    "    autopct='%.0f%%',\n",
    "    ylabel='',\n",
    "    colors=['red', 'green']\n",
    ")\n",
    "\n",
    "plt.show()"
   ]
  },
  {
   "cell_type": "code",
   "execution_count": 17,
   "id": "b62df467-7c12-43fe-92b1-f109f19738a0",
   "metadata": {},
   "outputs": [
    {
     "data": {
      "image/png": "[encoded data removed]",
      "text/plain": [
       "<Figure size 640x480 with 1 Axes>"
      ]
     },
     "metadata": {},
     "output_type": "display_data"
    }
   ],
   "source": [
    "# Визуализация возрастов пользователей\n",
    "\n",
    "n_bins = df_users_go['age'].max() - df_users_go['age'].min()\n",
    "df_users_go['age'].hist(bins=n_bins)\n",
    "\n",
    "plt.title('Возраст пользователей')\n",
    "plt.xlabel('Возраст')\n",
    "plt.show()"
   ]
  },
  {
   "cell_type": "code",
   "execution_count": 18,
   "id": "290be8a6-ac21-4f4a-a98b-be534c4b0c6e",
   "metadata": {},
   "outputs": [
    {
     "name": "stdout",
     "output_type": "stream",
     "text": [
      "Доля несовершеннолетних пользователей самокатов составляет 5%.\n"
     ]
    }
   ],
   "source": [
    "# Доля несовершеннолетних пользователей\n",
    "\n",
    "users_under_18_ratio = int((df_users_go[df_users_go['age'] < 18].shape[0] / df_users_go.shape[0]) * 100)\n",
    "print(f'Доля несовершеннолетних пользователей самокатов составляет {users_under_18_ratio}%.')"
   ]
  },
  {
   "cell_type": "code",
   "execution_count": 19,
   "id": "aeaba85f-8659-49b1-b5fb-b1f28be3436d",
   "metadata": {},
   "outputs": [
    {
     "name": "stdout",
     "output_type": "stream",
     "text": [
      "Средняя длительность поездки 18 минут со стандартным отклонением 6. Основная часть поездок занимает от 14 до 22 минут.\n"
     ]
    }
   ],
   "source": [
    "# Характеристики длительности поездки\n",
    "\n",
    "duration_mean = int(df_rides_go['duration'].quantile(0.5))\n",
    "duration_std = int(df_rides_go['duration'].std())\n",
    "\n",
    "duration_pct25 = int(df_rides_go['duration'].quantile(0.25))\n",
    "duration_pct75 = int(df_rides_go['duration'].quantile(0.75))\n",
    "\n",
    "print(f'Средняя длительность поездки {duration_mean} минут со стандартным отклонением {duration_std}. Основная часть поездок занимает от {duration_pct25} до {duration_pct75} минут.')"
   ]
  },
  {
   "cell_type": "markdown",
   "id": "8bec8a24-1250-40e9-93d8-c8b35ee55b7c",
   "metadata": {},
   "source": [
    "<a class=\"anchor\" id=\"4-bullet\"></a>\n",
    "## Шаг 4. Объединение данных"
   ]
  },
  {
   "cell_type": "code",
   "execution_count": 20,
   "id": "630de902-34c5-4179-a29a-ab231fa589f3",
   "metadata": {},
   "outputs": [],
   "source": [
    "# Объединение таблицы пользователей и поездок\n",
    "\n",
    "df = df_rides_go.merge(df_users_go, on='user_id', how='left')"
   ]
  },
  {
   "cell_type": "code",
   "execution_count": 21,
   "id": "55446f5b-73d2-4ab2-9149-cf32cdceb0b6",
   "metadata": {},
   "outputs": [],
   "source": [
    "# Присоединение информации о подписках \n",
    "\n",
    "df = df.merge(df_subscriptions_go, on='subscription_type', how='left')"
   ]
  },
  {
   "cell_type": "code",
   "execution_count": 22,
   "id": "c941d070-0f60-4af7-9b06-f28bd1ef74c9",
   "metadata": {},
   "outputs": [
    {
     "data": {
      "text/html": [
       "<div>\n",
       "<style scoped>\n",
       "    .dataframe tbody tr th:only-of-type {\n",
       "        vertical-align: middle;\n",
       "    }\n",
       "\n",
       "    .dataframe tbody tr th {\n",
       "        vertical-align: top;\n",
       "    }\n",
       "\n",
       "    .dataframe thead th {\n",
       "        text-align: right;\n",
       "    }\n",
       "</style>\n",
       "<table border=\"1\" class=\"dataframe\">\n",
       "  <thead>\n",
       "    <tr style=\"text-align: right;\">\n",
       "      <th></th>\n",
       "      <th>user_id</th>\n",
       "      <th>distance</th>\n",
       "      <th>duration</th>\n",
       "      <th>date</th>\n",
       "      <th>month</th>\n",
       "      <th>name</th>\n",
       "      <th>age</th>\n",
       "      <th>city</th>\n",
       "      <th>subscription_type</th>\n",
       "      <th>minute_price</th>\n",
       "      <th>start_ride_price</th>\n",
       "      <th>subscription_fee</th>\n",
       "    </tr>\n",
       "  </thead>\n",
       "  <tbody>\n",
       "    <tr>\n",
       "      <th>0</th>\n",
       "      <td>1</td>\n",
       "      <td>4409.919140</td>\n",
       "      <td>26</td>\n",
       "      <td>2021-01-01</td>\n",
       "      <td>1</td>\n",
       "      <td>Кира</td>\n",
       "      <td>22</td>\n",
       "      <td>Тюмень</td>\n",
       "      <td>ultra</td>\n",
       "      <td>6</td>\n",
       "      <td>0</td>\n",
       "      <td>199</td>\n",
       "    </tr>\n",
       "    <tr>\n",
       "      <th>1</th>\n",
       "      <td>1</td>\n",
       "      <td>2617.592153</td>\n",
       "      <td>16</td>\n",
       "      <td>2021-01-18</td>\n",
       "      <td>1</td>\n",
       "      <td>Кира</td>\n",
       "      <td>22</td>\n",
       "      <td>Тюмень</td>\n",
       "      <td>ultra</td>\n",
       "      <td>6</td>\n",
       "      <td>0</td>\n",
       "      <td>199</td>\n",
       "    </tr>\n",
       "    <tr>\n",
       "      <th>2</th>\n",
       "      <td>1</td>\n",
       "      <td>754.159807</td>\n",
       "      <td>6</td>\n",
       "      <td>2021-04-20</td>\n",
       "      <td>4</td>\n",
       "      <td>Кира</td>\n",
       "      <td>22</td>\n",
       "      <td>Тюмень</td>\n",
       "      <td>ultra</td>\n",
       "      <td>6</td>\n",
       "      <td>0</td>\n",
       "      <td>199</td>\n",
       "    </tr>\n",
       "    <tr>\n",
       "      <th>3</th>\n",
       "      <td>1</td>\n",
       "      <td>2694.783254</td>\n",
       "      <td>19</td>\n",
       "      <td>2021-08-11</td>\n",
       "      <td>8</td>\n",
       "      <td>Кира</td>\n",
       "      <td>22</td>\n",
       "      <td>Тюмень</td>\n",
       "      <td>ultra</td>\n",
       "      <td>6</td>\n",
       "      <td>0</td>\n",
       "      <td>199</td>\n",
       "    </tr>\n",
       "    <tr>\n",
       "      <th>4</th>\n",
       "      <td>1</td>\n",
       "      <td>4028.687306</td>\n",
       "      <td>26</td>\n",
       "      <td>2021-08-28</td>\n",
       "      <td>8</td>\n",
       "      <td>Кира</td>\n",
       "      <td>22</td>\n",
       "      <td>Тюмень</td>\n",
       "      <td>ultra</td>\n",
       "      <td>6</td>\n",
       "      <td>0</td>\n",
       "      <td>199</td>\n",
       "    </tr>\n",
       "  </tbody>\n",
       "</table>\n",
       "</div>"
      ],
      "text/plain": [
       "   user_id     distance  duration       date  month  name  age    city  \\\n",
       "0        1  4409.919140        26 2021-01-01      1  Кира   22  Тюмень   \n",
       "1        1  2617.592153        16 2021-01-18      1  Кира   22  Тюмень   \n",
       "2        1   754.159807         6 2021-04-20      4  Кира   22  Тюмень   \n",
       "3        1  2694.783254        19 2021-08-11      8  Кира   22  Тюмень   \n",
       "4        1  4028.687306        26 2021-08-28      8  Кира   22  Тюмень   \n",
       "\n",
       "  subscription_type  minute_price  start_ride_price  subscription_fee  \n",
       "0             ultra             6                 0               199  \n",
       "1             ultra             6                 0               199  \n",
       "2             ultra             6                 0               199  \n",
       "3             ultra             6                 0               199  \n",
       "4             ultra             6                 0               199  "
      ]
     },
     "metadata": {},
     "output_type": "display_data"
    },
    {
     "name": "stdout",
     "output_type": "stream",
     "text": [
      "В полученном датафрейме 18068 строк и 12 столбцов.\n"
     ]
    }
   ],
   "source": [
    "# Размеры объединённого датафрейма\n",
    "\n",
    "# Выводим первые строки датафрейма\n",
    "display(df.head())\n",
    "\n",
    "# Выводим количество строк и столбцов в объединённом датафрейме\n",
    "n_rows, n_cols = df.shape\n",
    "print(f'В полученном датафрейме {n_rows} строк и {n_cols} столбцов.')"
   ]
  },
  {
   "cell_type": "code",
   "execution_count": 23,
   "id": "b8593cf6-98d7-4c8b-a801-bb204acbd266",
   "metadata": {},
   "outputs": [],
   "source": [
    "# Отдельные датафреймы для пользователей с подпиской и без\n",
    "\n",
    "df_ultra = df[df['subscription_type'] == 'ultra']\n",
    "df_free = df[df['subscription_type'] == 'free']"
   ]
  },
  {
   "cell_type": "code",
   "execution_count": 24,
   "id": "b82cf086-ebfd-433f-8b35-78ebc25d7b43",
   "metadata": {},
   "outputs": [
    {
     "data": {
      "image/png": "[encoded data removed]",
      "text/plain": [
       "<Figure size 1500x500 with 1 Axes>"
      ]
     },
     "metadata": {},
     "output_type": "display_data"
    },
    {
     "name": "stdout",
     "output_type": "stream",
     "text": [
      "Средняя длительность поездки для пользователей без подписки 17 мин, а для пользователей с подпиской 19 мин\n"
     ]
    }
   ],
   "source": [
    "# Гистограмма длительности поездок для обоих групп\n",
    "\n",
    "plt.figure(figsize=(15, 5))\n",
    "\n",
    "df_free['duration'].hist(bins=30, label='free', alpha=0.5)\n",
    "df_ultra['duration'].hist(bins=30, label='ultra', alpha=0.5)\n",
    "\n",
    "plt.xlabel('Длительность поездки, мин.')\n",
    "plt.title('Гистограмма распределения длительности поездок')\n",
    "plt.legend()\n",
    "\n",
    "plt.show()\n",
    "\n",
    "mean_duration_free = int(df_free['duration'].mean().round(0))\n",
    "mean_duration_ultra = int(df_ultra['duration'].mean().round(0))\n",
    "\n",
    "print(f\"Средняя длительность поездки для пользователей без подписки {mean_duration_free} мин, а для пользователей с подпиской {mean_duration_ultra} мин\")"
   ]
  },
  {
   "cell_type": "markdown",
   "id": "a0918795-e58b-47d8-85cc-db5eb386efa5",
   "metadata": {},
   "source": [
    "<a class=\"anchor\" id=\"5-bullet\"></a>\n",
    "## Шаг 5. Подсчёт выручки"
   ]
  },
  {
   "cell_type": "code",
   "execution_count": 25,
   "id": "ca27586d-8e3a-4703-8072-eaf72770c9ea",
   "metadata": {},
   "outputs": [],
   "source": [
    "# Сгруппируем данные по следующим столбцам: user_id, name, subscription_type, month\n",
    "\n",
    "df_gp = df.groupby(['user_id', 'name', 'subscription_type', 'month'], as_index=False)"
   ]
  },
  {
   "cell_type": "code",
   "execution_count": 26,
   "id": "cca92dd9-8242-40ac-ac6f-d5a0b42526aa",
   "metadata": {},
   "outputs": [],
   "source": [
    "# Подсчёт агрегированных метрик\n",
    "\n",
    "df_agg = df_gp.agg( # Укажите подходящий инструмент здесь\n",
    "    total_distance=('distance', 'sum'),\n",
    "    total_duration= ('duration', 'sum'),\n",
    "    rides_count= ('duration', 'count'),\n",
    "    subscription_type= ('subscription_type', 'first') ,\n",
    "    minute_price= ('minute_price', 'first') ,\n",
    "    start_ride_price= ('start_ride_price', 'first') ,\n",
    "    subscription_fee= ('subscription_fee', 'first') \n",
    ")"
   ]
  },
  {
   "cell_type": "code",
   "execution_count": 27,
   "id": "12e22eed-2041-446b-b004-3c1c9ebe4c7d",
   "metadata": {},
   "outputs": [],
   "source": [
    "# Функция для подсчёта выручки\n",
    "\n",
    "def calculate_monthly_revenue(row):\n",
    "    return row['start_ride_price'] * row['rides_count'] + row['minute_price'] * row['total_duration'] + row['subscription_fee']"
   ]
  },
  {
   "cell_type": "code",
   "execution_count": 28,
   "id": "ff5187a1-1a55-460d-bf72-60b6ac18acf6",
   "metadata": {},
   "outputs": [],
   "source": [
    "# Создание столбца с месячной выручкой на пользователя\n",
    "\n",
    "df_agg['monthly_revenue'] = df_agg.apply(calculate_monthly_revenue, axis=1)"
   ]
  },
  {
   "cell_type": "code",
   "execution_count": 29,
   "id": "4a30b0c8-8579-42f6-87b9-baadaca50a93",
   "metadata": {},
   "outputs": [
    {
     "data": {
      "text/html": [
       "<div>\n",
       "<style scoped>\n",
       "    .dataframe tbody tr th:only-of-type {\n",
       "        vertical-align: middle;\n",
       "    }\n",
       "\n",
       "    .dataframe tbody tr th {\n",
       "        vertical-align: top;\n",
       "    }\n",
       "\n",
       "    .dataframe thead th {\n",
       "        text-align: right;\n",
       "    }\n",
       "</style>\n",
       "<table border=\"1\" class=\"dataframe\">\n",
       "  <thead>\n",
       "    <tr style=\"text-align: right;\">\n",
       "      <th></th>\n",
       "      <th>user_id</th>\n",
       "      <th>name</th>\n",
       "      <th>month</th>\n",
       "      <th>total_distance</th>\n",
       "      <th>total_duration</th>\n",
       "      <th>rides_count</th>\n",
       "      <th>subscription_type</th>\n",
       "      <th>minute_price</th>\n",
       "      <th>start_ride_price</th>\n",
       "      <th>subscription_fee</th>\n",
       "      <th>monthly_revenue</th>\n",
       "    </tr>\n",
       "  </thead>\n",
       "  <tbody>\n",
       "    <tr>\n",
       "      <th>0</th>\n",
       "      <td>1</td>\n",
       "      <td>Кира</td>\n",
       "      <td>1</td>\n",
       "      <td>7027.511294</td>\n",
       "      <td>42</td>\n",
       "      <td>2</td>\n",
       "      <td>ultra</td>\n",
       "      <td>6</td>\n",
       "      <td>0</td>\n",
       "      <td>199</td>\n",
       "      <td>451</td>\n",
       "    </tr>\n",
       "    <tr>\n",
       "      <th>1</th>\n",
       "      <td>1</td>\n",
       "      <td>Кира</td>\n",
       "      <td>4</td>\n",
       "      <td>754.159807</td>\n",
       "      <td>6</td>\n",
       "      <td>1</td>\n",
       "      <td>ultra</td>\n",
       "      <td>6</td>\n",
       "      <td>0</td>\n",
       "      <td>199</td>\n",
       "      <td>235</td>\n",
       "    </tr>\n",
       "    <tr>\n",
       "      <th>2</th>\n",
       "      <td>1</td>\n",
       "      <td>Кира</td>\n",
       "      <td>8</td>\n",
       "      <td>6723.470560</td>\n",
       "      <td>45</td>\n",
       "      <td>2</td>\n",
       "      <td>ultra</td>\n",
       "      <td>6</td>\n",
       "      <td>0</td>\n",
       "      <td>199</td>\n",
       "      <td>469</td>\n",
       "    </tr>\n",
       "    <tr>\n",
       "      <th>3</th>\n",
       "      <td>1</td>\n",
       "      <td>Кира</td>\n",
       "      <td>10</td>\n",
       "      <td>5809.911100</td>\n",
       "      <td>32</td>\n",
       "      <td>2</td>\n",
       "      <td>ultra</td>\n",
       "      <td>6</td>\n",
       "      <td>0</td>\n",
       "      <td>199</td>\n",
       "      <td>391</td>\n",
       "    </tr>\n",
       "    <tr>\n",
       "      <th>4</th>\n",
       "      <td>1</td>\n",
       "      <td>Кира</td>\n",
       "      <td>11</td>\n",
       "      <td>7003.499363</td>\n",
       "      <td>53</td>\n",
       "      <td>3</td>\n",
       "      <td>ultra</td>\n",
       "      <td>6</td>\n",
       "      <td>0</td>\n",
       "      <td>199</td>\n",
       "      <td>517</td>\n",
       "    </tr>\n",
       "    <tr>\n",
       "      <th>...</th>\n",
       "      <td>...</td>\n",
       "      <td>...</td>\n",
       "      <td>...</td>\n",
       "      <td>...</td>\n",
       "      <td>...</td>\n",
       "      <td>...</td>\n",
       "      <td>...</td>\n",
       "      <td>...</td>\n",
       "      <td>...</td>\n",
       "      <td>...</td>\n",
       "      <td>...</td>\n",
       "    </tr>\n",
       "    <tr>\n",
       "      <th>11326</th>\n",
       "      <td>1534</td>\n",
       "      <td>Альберт</td>\n",
       "      <td>6</td>\n",
       "      <td>3409.468534</td>\n",
       "      <td>24</td>\n",
       "      <td>2</td>\n",
       "      <td>free</td>\n",
       "      <td>8</td>\n",
       "      <td>50</td>\n",
       "      <td>0</td>\n",
       "      <td>292</td>\n",
       "    </tr>\n",
       "    <tr>\n",
       "      <th>11327</th>\n",
       "      <td>1534</td>\n",
       "      <td>Альберт</td>\n",
       "      <td>8</td>\n",
       "      <td>7622.453034</td>\n",
       "      <td>47</td>\n",
       "      <td>2</td>\n",
       "      <td>free</td>\n",
       "      <td>8</td>\n",
       "      <td>50</td>\n",
       "      <td>0</td>\n",
       "      <td>476</td>\n",
       "    </tr>\n",
       "    <tr>\n",
       "      <th>11328</th>\n",
       "      <td>1534</td>\n",
       "      <td>Альберт</td>\n",
       "      <td>9</td>\n",
       "      <td>4928.173852</td>\n",
       "      <td>23</td>\n",
       "      <td>1</td>\n",
       "      <td>free</td>\n",
       "      <td>8</td>\n",
       "      <td>50</td>\n",
       "      <td>0</td>\n",
       "      <td>234</td>\n",
       "    </tr>\n",
       "    <tr>\n",
       "      <th>11329</th>\n",
       "      <td>1534</td>\n",
       "      <td>Альберт</td>\n",
       "      <td>11</td>\n",
       "      <td>13350.015305</td>\n",
       "      <td>76</td>\n",
       "      <td>4</td>\n",
       "      <td>free</td>\n",
       "      <td>8</td>\n",
       "      <td>50</td>\n",
       "      <td>0</td>\n",
       "      <td>808</td>\n",
       "    </tr>\n",
       "    <tr>\n",
       "      <th>11330</th>\n",
       "      <td>1534</td>\n",
       "      <td>Альберт</td>\n",
       "      <td>12</td>\n",
       "      <td>2371.711192</td>\n",
       "      <td>16</td>\n",
       "      <td>1</td>\n",
       "      <td>free</td>\n",
       "      <td>8</td>\n",
       "      <td>50</td>\n",
       "      <td>0</td>\n",
       "      <td>178</td>\n",
       "    </tr>\n",
       "  </tbody>\n",
       "</table>\n",
       "<p>11331 rows × 11 columns</p>\n",
       "</div>"
      ],
      "text/plain": [
       "       user_id     name  month  total_distance  total_duration  rides_count  \\\n",
       "0            1     Кира      1     7027.511294              42            2   \n",
       "1            1     Кира      4      754.159807               6            1   \n",
       "2            1     Кира      8     6723.470560              45            2   \n",
       "3            1     Кира     10     5809.911100              32            2   \n",
       "4            1     Кира     11     7003.499363              53            3   \n",
       "...        ...      ...    ...             ...             ...          ...   \n",
       "11326     1534  Альберт      6     3409.468534              24            2   \n",
       "11327     1534  Альберт      8     7622.453034              47            2   \n",
       "11328     1534  Альберт      9     4928.173852              23            1   \n",
       "11329     1534  Альберт     11    13350.015305              76            4   \n",
       "11330     1534  Альберт     12     2371.711192              16            1   \n",
       "\n",
       "      subscription_type  minute_price  start_ride_price  subscription_fee  \\\n",
       "0                 ultra             6                 0               199   \n",
       "1                 ultra             6                 0               199   \n",
       "2                 ultra             6                 0               199   \n",
       "3                 ultra             6                 0               199   \n",
       "4                 ultra             6                 0               199   \n",
       "...                 ...           ...               ...               ...   \n",
       "11326              free             8                50                 0   \n",
       "11327              free             8                50                 0   \n",
       "11328              free             8                50                 0   \n",
       "11329              free             8                50                 0   \n",
       "11330              free             8                50                 0   \n",
       "\n",
       "       monthly_revenue  \n",
       "0                  451  \n",
       "1                  235  \n",
       "2                  469  \n",
       "3                  391  \n",
       "4                  517  \n",
       "...                ...  \n",
       "11326              292  \n",
       "11327              476  \n",
       "11328              234  \n",
       "11329              808  \n",
       "11330              178  \n",
       "\n",
       "[11331 rows x 11 columns]"
      ]
     },
     "execution_count": 29,
     "metadata": {},
     "output_type": "execute_result"
    }
   ],
   "source": [
    "df_agg"
   ]
  },
  {
   "cell_type": "code",
   "execution_count": 30,
   "id": "27c4f6d6-6a07-4375-a111-b551d90a70a8",
   "metadata": {},
   "outputs": [
    {
     "name": "stdout",
     "output_type": "stream",
     "text": [
      "      user_id       name  month  rides_count  monthly_revenue\n",
      "8877     1236  Александр      1            2              228\n",
      "8878     1236  Александр      2            3              614\n",
      "8879     1236  Александр      3            5              762\n",
      "8880     1236  Александр      4            1              202\n",
      "8881     1236  Александр      5            3              574\n",
      "8882     1236  Александр      6            1              282\n",
      "8883     1236  Александр      7            1              290\n",
      "8884     1236  Александр      8            2              452\n",
      "8885     1236  Александр      9            1              122\n",
      "8886     1236  Александр     10            3              430\n",
      "8887     1236  Александр     11            3              494\n",
      "8888     1236  Александр     12            2              476\n"
     ]
    }
   ],
   "source": [
    "# Поиск пользователя с максимальной выручкой\n",
    "\n",
    "max_revenue_user_id = df_agg.groupby('user_id')['monthly_revenue'].sum().idxmax()\n",
    "\n",
    "max_revenue_user_data = df_agg[df_agg['user_id'] == max_revenue_user_id]\n",
    "\n",
    "print(max_revenue_user_data[['user_id', 'name', 'month', 'rides_count', 'monthly_revenue']])"
   ]
  },
  {
   "cell_type": "markdown",
   "id": "e3227c15-b8c2-4a68-8bcc-12f30c4d7563",
   "metadata": {},
   "source": [
    "<a class=\"anchor\" id=\"6-bullet\"></a>\n",
    "## Шаг 6. Проверка гипотез"
   ]
  },
  {
   "cell_type": "code",
   "execution_count": 31,
   "id": "b42db24b-1c64-4e64-920c-03028c72e641",
   "metadata": {},
   "outputs": [],
   "source": [
    "# Импорт библиотеки SciPy\n",
    "\n",
    "import scipy.stats as st"
   ]
  },
  {
   "cell_type": "code",
   "execution_count": 32,
   "id": "d8867961-5180-4570-90b2-66a1876edf01",
   "metadata": {},
   "outputs": [
    {
     "name": "stdout",
     "output_type": "stream",
     "text": [
      "Полученное значение p_value=0.0001 меньше критического уровня alpha=0.05. Принимаем альтернативную гипотезу.\n",
      "Полученное значение p_value=0.1 больше критического уровня alpha=0.05. Опровергнуть нулевую гипотезу нельзя.\n"
     ]
    }
   ],
   "source": [
    "# Вспомогательная функция для интерпретации результатов\n",
    "\n",
    "def print_stattest_results(p_value:float, alpha:float = 0.05):\n",
    "    if p_value < alpha:\n",
    "        print(f\"Полученное значение p_value={p_value} меньше критического уровня alpha={alpha}. Принимаем альтернативную гипотезу.\")\n",
    "    else:\n",
    "        print(f\"Полученное значение p_value={p_value} больше критического уровня alpha={alpha}. Опровергнуть нулевую гипотезу нельзя.\")\n",
    "\n",
    "print_stattest_results(p_value=0.0001)\n",
    "print_stattest_results(p_value=0.1)"
   ]
  },
  {
   "cell_type": "markdown",
   "id": "d2612023-d34e-479c-a164-6a1ee47ee673",
   "metadata": {},
   "source": [
    "Важно понять, тратят ли пользователи с подпиской больше времени на поездки?\n",
    "- Нулевая гипотеза (Н0): Среднее время поездки у пользователей с подпиской и без подписки одинаковое.\n",
    "- Альтернативная гипотеза (Н1): Среднее время поездки у пользователей с подпиской больше, чем у пользователей без подписки."
   ]
  },
  {
   "cell_type": "code",
   "execution_count": 33,
   "id": "1a420a02-5308-4a91-887f-711c9aa09929",
   "metadata": {},
   "outputs": [
    {
     "name": "stdout",
     "output_type": "stream",
     "text": [
      "Полученное значение p_value=3.1600689435611813e-35 меньше критического уровня alpha=0.05. Принимаем альтернативную гипотезу.\n",
      "Средняя длительность поездки тарифа Ultra 18.55\n",
      "Средняя длительность поездки тарифа Free 17.39\n"
     ]
    }
   ],
   "source": [
    "# Длительность для пользователей с подпиской и без\n",
    "\n",
    "ultra_duration = df_ultra['duration']\n",
    "free_duration = df_free['duration']\n",
    "\n",
    "results = st.ttest_ind(ultra_duration, free_duration, alternative= 'greater') \n",
    "p_value = results.pvalue\n",
    "print_stattest_results(p_value)\n",
    "ultra_mean_duration = round(ultra_duration.mean(), 2)\n",
    "free_mean_duration = round(free_duration.mean(), 2)\n",
    "\n",
    "print(f'Средняя длительность поездки тарифа Ultra {ultra_mean_duration}')\n",
    "print(f'Средняя длительность поездки тарифа Free {free_mean_duration}')"
   ]
  },
  {
   "cell_type": "markdown",
   "id": "5852732c-3ca7-4bf8-991a-db836c09f411",
   "metadata": {},
   "source": [
    "### Длительность поездки: больше или меньше критического значения\n",
    "\n",
    "- Нулевая гипотеза (Н0): Средняя дистанция поездки у пользователей с подпиской равна 3130 м.\n",
    "\n",
    "- Альтернативная гипотеза (Н1): Средняя дистанция поездки у пользователей с подпиской больше 3130 м."
   ]
  },
  {
   "cell_type": "code",
   "execution_count": 34,
   "id": "1392c955-5bee-4377-9f9b-33bfeda52663",
   "metadata": {},
   "outputs": [
    {
     "name": "stdout",
     "output_type": "stream",
     "text": [
      "Полученное значение p_value=0.9195368847849785 больше критического уровня alpha=0.05. Опровергнуть нулевую гипотезу нельзя.\n"
     ]
    }
   ],
   "source": [
    "null_hypothesis = 3130\n",
    "ultra_distance = df_ultra['distance']\n",
    "\n",
    "results = st.ttest_1samp(ultra_distance, null_hypothesis, alternative='greater')\n",
    "p_value = results.pvalue\n",
    "print_stattest_results(p_value)"
   ]
  },
  {
   "cell_type": "markdown",
   "id": "eb92f403-7d25-487c-b815-d543d8865682",
   "metadata": {},
   "source": [
    "### Прибыль от пользователей с подпиской и без\n",
    "\n",
    "- Нулевая гипотеза (Н0): Средняя месячная выручка у пользователей с подпиской и без подписки одинаковая.\n",
    "- Альтернативная гипотеза (Н1): Средняя месячная выручка у пользователей с подпиской выше, чем у пользователей без подписки."
   ]
  },
  {
   "cell_type": "code",
   "execution_count": 35,
   "id": "357fe339-4462-43ae-84dc-08ea2d323a81",
   "metadata": {},
   "outputs": [
    {
     "name": "stdout",
     "output_type": "stream",
     "text": [
      "Полученное значение p_value=1.7274069878387966e-37 меньше критического уровня alpha=0.05. Принимаем альтернативную гипотезу.\n",
      "Средняя выручка подписчиков Ultra 359 руб\n",
      "Средняя выручка подписчиков Free 322 руб\n"
     ]
    }
   ],
   "source": [
    "ultra_revenue = df_agg[df_agg['subscription_type'] == 'ultra']['monthly_revenue']\n",
    "free_revenue = df_agg[df_agg['subscription_type'] == 'free']['monthly_revenue']\n",
    "\n",
    "results = st.ttest_ind(ultra_revenue, free_revenue, alternative='greater')\n",
    "p_value = results.pvalue\n",
    "\n",
    "print_stattest_results(p_value)\n",
    "\n",
    "mean_revenue_ultra = round(ultra_revenue.mean())\n",
    "mean_revenue_free = round(free_revenue.mean())\n",
    "\n",
    "print(f'Средняя выручка подписчиков Ultra {mean_revenue_ultra} руб')\n",
    "print(f'Средняя выручка подписчиков Free {mean_revenue_free} руб')"
   ]
  },
  {
   "cell_type": "markdown",
   "id": "6dbaf50a-97b1-443c-afcf-879286d6d2e8",
   "metadata": {},
   "source": [
    "<a class=\"anchor\" id=\"7-bullet\"></a>\n",
    "## Шаг 7. Распределения\n",
    "\n",
    "В компании возникла идея предлагать дополнительную скидку подписчикам, совершающим длительные поездки продолжительностью более 30 минут. Необходимо оценить долю таких поездок."
   ]
  },
  {
   "cell_type": "code",
   "execution_count": 36,
   "id": "16267834-93cb-4b57-8ecf-3e856dfbe29c",
   "metadata": {},
   "outputs": [
    {
     "name": "stdout",
     "output_type": "stream",
     "text": [
      "Средняя длительность поездки 18.5, стандартное отклонение 6.\n"
     ]
    }
   ],
   "source": [
    "# Расчёт выборочного среднего и стандартного отклонения\n",
    "\n",
    "mu = df_ultra['duration'].mean()\n",
    "sigma = df_ultra['duration'].std()\n",
    "target_time = 30\n",
    "\n",
    "print(f'Средняя длительность поездки {round(mu, 1)}, стандартное отклонение {round(sigma)}.')"
   ]
  },
  {
   "cell_type": "code",
   "execution_count": 37,
   "id": "d20634e7-cf72-4200-b55f-23ae7b15ce7e",
   "metadata": {},
   "outputs": [
    {
     "name": "stdout",
     "output_type": "stream",
     "text": [
      "Вероятность поездки более 30 минут 0.02\n"
     ]
    }
   ],
   "source": [
    "# Вычисление значения функции распределения в точке (CDF)\n",
    "\n",
    "duration_norm_dist = st.norm(mu, sigma)\n",
    "\n",
    "prob = round(1 - duration_norm_dist.cdf(target_time), 3)\n",
    "\n",
    "print(f'Вероятность поездки более 30 минут {prob}')"
   ]
  },
  {
   "cell_type": "code",
   "execution_count": 38,
   "id": "1def14fd-4128-4217-911f-2f6ef8e5d766",
   "metadata": {},
   "outputs": [
    {
     "name": "stdout",
     "output_type": "stream",
     "text": [
      "Вероятность того, что пользователь совершит поездку длительностью от 20 до 30 минут: 0.377\n"
     ]
    }
   ],
   "source": [
    "# Вероятность для интервала (CDF)\n",
    "\n",
    "low = 20\n",
    "high = 30\n",
    "\n",
    "prob_interval = round(duration_norm_dist.cdf(high) - duration_norm_dist.cdf(low), 3)\n",
    "\n",
    "\n",
    "print(f'Вероятность того, что пользователь совершит поездку длительностью от {low} до {high} минут: {prob_interval}')"
   ]
  },
  {
   "cell_type": "code",
   "execution_count": null,
   "id": "c846aeed-895a-4f40-9642-abd7260fd6b7",
   "metadata": {},
   "outputs": [],
   "source": []
  }
 ],
 "metadata": {
  "kernelspec": {
   "display_name": "Python 3 (ipykernel)",
   "language": "python",
   "name": "python3"
  },
  "language_info": {
   "codemirror_mode": {
    "name": "ipython",
    "version": 3
   },
   "file_extension": ".py",
   "mimetype": "text/x-python",
   "name": "python",
   "nbconvert_exporter": "python",
   "pygments_lexer": "ipython3",
   "version": "3.13.2"
  }
 },
 "nbformat": 4,
 "nbformat_minor": 5
}
